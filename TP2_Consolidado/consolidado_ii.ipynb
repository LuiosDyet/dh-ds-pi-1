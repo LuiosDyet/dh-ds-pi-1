{
 "cells": [
  {
   "attachments": {},
   "cell_type": "markdown",
   "metadata": {},
   "source": [
    "## Integrantes:\n",
    "1. Camila Coltriani\n",
    "2. Luis Dartayet\n",
    "3. Irania Fuentes\n",
    "4. Jonathan Fichelson\n",
    "5. Ornella Cevoli\n",
    "# Trabajo práctico 2 : Modelo de regresión lineal del dataset Properatti\n",
    "## Definimos las variable objetivo y predictoras\n",
    "\n",
    "\n",
    "En el TP1 fue planteada la hipótesis que el precio (variable objetivo) de las propiedades iba a estar influenciado principalmente por la superficie y la ubicación (variables predictoras).\n",
    "\n",
    "Por lo cual, en este trabajo, **el objetivo es predecir el valor en dolares de las propiedades** utilizando diferentes variables de superficie y ubicación."
   ]
  },
  {
   "cell_type": "code",
   "execution_count": null,
   "metadata": {},
   "outputs": [],
   "source": [
    "#Las librerías utilizadas en este documento son:\n",
    "%matplotlib inline\n",
    "from matplotlib import pyplot as plt\n",
    "import seaborn as sns\n",
    "import numpy as np\n",
    "import pandas as pd\n",
    "from scipy.stats import pearsonr\n",
    "from sklearn import linear_model\n",
    "from sklearn.model_selection import cross_val_score\n",
    "from sklearn.metrics import mean_squared_error, r2_score\n",
    "from sklearn.model_selection import train_test_split\n",
    "from sklearn.preprocessing import StandardScaler\n",
    "import statsmodels.api as sm\n",
    "from sklearn import metrics\n",
    "from matplotlib.ticker import ScalarFormatter\n",
    "from matplotlib import gridspec\n",
    "sns.set()"
   ]
  },
  {
   "cell_type": "markdown",
   "metadata": {},
   "source": [
    "## Visualización del dataset"
   ]
  },
  {
   "cell_type": "code",
   "execution_count": null,
   "metadata": {},
   "outputs": [],
   "source": [
    "# Visualización de la forma y atributos del dataset limpio del TP1\n",
    "data = pd.read_csv(\"./data/data_limpio_gdf.csv\")\n",
    "pd.options.display.max_columns\n",
    "print(data.shape)\n",
    "print(\"El dataset está compuesto por:\", data.shape[0], \"filas y\",data.shape[1],\"columnas.\")\n",
    "data.sample(5)"
   ]
  },
  {
   "attachments": {},
   "cell_type": "markdown",
   "metadata": {},
   "source": [
    "### Descripción de las columnas del dataset limpio:\n",
    "\n",
    "Las columnas que incluye son:\n",
    "\n",
    "● municipio: ubicación del inmueble por su municipio/barrios\n",
    "\n",
    "● provincia: ubicación del inmueble por provincia\n",
    "\n",
    "● lat  ●lon: ubicación de latitud y longitud\n",
    "\n",
    "● superficie_m2_total: superficie total en m² del inmueble\n",
    "\n",
    "● price_usd: Precio en dólares del inmueble\n",
    "\n",
    "● tipo: tipo de inmueble en venta (casa, departamento, ph, tienda)\n",
    "\n",
    "● ambientes_cat: cantidad de ambientes del inmueble (0, 1, 2, 3 , 4 o más)\n",
    "\n",
    "● precio_usd_por_m2: Precio en dólares por metro cuadrado (USD/m²: precio dólares / superficie)\n",
    "\n",
    "● tipo_cat_code: categoría numérica de tipo de inmueble\n",
    "\n",
    "● municipio_cat_code: categoría numérica de municipios\n",
    "\n",
    "● provincia_cat_code: categoría numérica de provincia\n",
    "\n",
    "● tipo_cat_code: categoría numérica de ambientes_cat\n",
    "\n",
    "● geometry: figura geométrica de latitud y la longitud\n",
    "\n",
    "● country_name: nombre del país donde ocurre la operación inmobiliaria\n",
    "\n",
    "● precio_usd_por_m2_cat: categoría numérica de precio_usd_por_m2\n",
    "\n",
    "# Revision de datos nulos"
   ]
  },
  {
   "cell_type": "code",
   "execution_count": null,
   "metadata": {},
   "outputs": [],
   "source": [
    "missing_by_row=data.isna().sum().sort_values(ascending=False)[0:6]\n",
    "missing_by_row\n",
    "#Revisamos la presencia de datos NaN\n",
    "#La columna \"ambientes_cat\" tiene con 1248 registros nulos"
   ]
  },
  {
   "attachments": {},
   "cell_type": "markdown",
   "metadata": {},
   "source": [
    "- Reviso donde están ubicados y a que propiedad pertenecen los registros nulos para saber si afectaran escoger EL tipo de inmueble y su zona"
   ]
  },
  {
   "cell_type": "code",
   "execution_count": null,
   "metadata": {},
   "outputs": [],
   "source": [
    "#reviso donde están ubicados y a que propiedad pertenecen los registros nulos para saber si afectaran escoger un tipo de inmueble y su zona\n",
    "mascara_nulos = data[\"ambientes_cat\"].astype(str) == \"nan\" \n",
    "data_nulos = data[mascara_nulos]\n",
    "data_nulos.loc[:, [\"municipio\", 'tipo', 'ambientes_cat', \"precio_usd\"]].sample(7)\n",
    "#print(data[mascara_nulos].index)"
   ]
  },
  {
   "cell_type": "code",
   "execution_count": null,
   "metadata": {},
   "outputs": [],
   "source": [
    "#se realiza lo siguiente solo a fines de graficar en presentacion.\n",
    "missing_by_row_2= data_nulos.groupby('municipio')['tipo'].count().sort_values(ascending=False).head(25)\n",
    "missing_by_row_2_porc= missing_by_row_2/data['ambientes_cat'].isna().sum()*100\n",
    "pareto=missing_by_row_2_porc.values\n",
    "acum=[]\n",
    "val_acum=0\n",
    "for i in missing_by_row_2_porc:\n",
    "    val_acum= val_acum+i\n",
    "    acum.append(val_acum)\n",
    "pareto=acum\n",
    "pareto\n",
    "# print(data['municipio'].unique().shape)\n",
    "\n",
    "# #Revisamos la distribución de los nulos por municipio\n",
    "fig=plt.figure()\n",
    "ax= fig.add_subplot(1,1,1)\n",
    "ax.set_title('Pareto Municipios')\n",
    "ax.bar(missing_by_row_2.index, missing_by_row_2, color=\"C0\")\n",
    "ax2=ax.twinx()\n",
    "ax2.plot(missing_by_row_2.index,pareto,color=\"C1\",marker=\"D\",ms=5)\n",
    "# ax2.yaxis.set_major_formatter(PercentFormatter(2))\n",
    "ax.tick_params(axis=\"y\", colors=\"C0\")\n",
    "ax2.tick_params(axis=\"y\", colors=\"C1\")\n",
    "ax.set_xticklabels(missing_by_row_2.index, rotation=90)\n",
    "\n",
    "plt.show()\n",
    "\n"
   ]
  },
  {
   "attachments": {},
   "cell_type": "markdown",
   "metadata": {},
   "source": [
    "Vemos que los datos NaN están distribuidos equitativamente y no están concentrados en una mismo municipio por lo que procedemos a eliminarlos"
   ]
  },
  {
   "cell_type": "code",
   "execution_count": null,
   "metadata": {},
   "outputs": [],
   "source": [
    "#Los elimino \n",
    "data.dropna(subset=['ambientes_cat'], inplace=True)\n",
    "#print(data.isna().sum())"
   ]
  },
  {
   "cell_type": "code",
   "execution_count": null,
   "metadata": {},
   "outputs": [],
   "source": [
    "#vemos el resumen de la tendencia central, la dispersión y la forma de la distribución de un conjunto de datos\n",
    "data.describe()"
   ]
  },
  {
   "attachments": {},
   "cell_type": "markdown",
   "metadata": {},
   "source": [
    "Existen datos que no permiten ver los estadísticos ya que hay valores de 0 en sup_m2_total y precio_usd_por_m2: eliminarlos"
   ]
  },
  {
   "cell_type": "code",
   "execution_count": null,
   "metadata": {},
   "outputs": [],
   "source": [
    "#eliminamos del dataset los registros de sup_m2_total con valores de cero\n",
    "data.drop(data[(data[\"sup_m2_total\"] ==0)].index, inplace=True ,axis=0)"
   ]
  },
  {
   "cell_type": "code",
   "execution_count": null,
   "metadata": {},
   "outputs": [],
   "source": [
    "data.describe()\n",
    "#Ahora si podemos ver el resumen de los estadisticos que nos serviran de referencia más adelante"
   ]
  },
  {
   "attachments": {},
   "cell_type": "markdown",
   "metadata": {},
   "source": [
    "## Visualización gráfica los datos para elegir el area geografica y el tipo de inmueble a modelar"
   ]
  },
  {
   "cell_type": "code",
   "execution_count": null,
   "metadata": {},
   "outputs": [],
   "source": [
    "#graficamos las provincias y municipios que contengan un valor mínimo de 500 registros por municipio \n",
    "#consideramos que 500 es un limite de datos para que el performance del modelo\n",
    "limite = 500\n",
    "data = data.copy().groupby(['municipio']).filter(lambda grp: grp.shape[0] > limite)"
   ]
  },
  {
   "cell_type": "code",
   "execution_count": null,
   "metadata": {},
   "outputs": [],
   "source": [
    "fig= plt.subplots(figsize=(20,20),constrained_layout=True)\n",
    "grid = gridspec.GridSpec(2, 1, height_ratios=[1, 3])\n",
    "\n",
    "ax1=plt.subplot(grid[0])\n",
    "sns.countplot(data=data,y=\"provincia\",order=data[\"provincia\"].value_counts().index ,ax=ax1,color=\"g\")\n",
    "\n",
    "ax1.set_yticklabels(ax1.get_yticklabels(),fontsize=\"medium\")\n",
    "ax1.set_title(\"Distribucion de registros segun la provincia\", fontsize= 'large')\n",
    "\n",
    "ax2=plt.subplot(grid[1])\n",
    "sns.countplot(data=data,x=\"municipio\",order=data[\"municipio\"].value_counts().index,ax=ax2,color=\"b\")\n",
    "\n",
    "\n",
    "ax2.set_title(\"Distribucion de registros segun los municipios\", fontsize= 'large')\n",
    "ax2.set_xticklabels(ax2.get_xticklabels(),rotation=90,ha=\"right\")\n",
    "plt.xticks(fontsize= 10)\n",
    "plt.yticks(fontsize= 10)\n",
    "ax1.grid()\n",
    "ax2.grid()\n",
    "plt.show()"
   ]
  },
  {
   "attachments": {},
   "cell_type": "markdown",
   "metadata": {},
   "source": [
    "La mayor cantidad de registros en nuestro dataset están Capital Federal para los barrios de Palermo, Belgrano, Caballito.\n",
    "Consideraremos Capital Federal para la evaluación de los modelos "
   ]
  },
  {
   "cell_type": "code",
   "execution_count": null,
   "metadata": {},
   "outputs": [],
   "source": [
    "#Revisamos la distribución de registros por tipo de inmueble\n",
    "plt.figure(figsize=(5,3))\n",
    "\n",
    "plt.gca().yaxis.set_major_formatter(ScalarFormatter())\n",
    "ax = sns.countplot(data = data, x = \"tipo\")\n",
    "ax.set_xticklabels(ax.get_xticklabels(),rotation=40,ha=\"right\")\n",
    "plt.show()\n",
    "\n",
    "#Apartamentos tiene la mayoría de los datos"
   ]
  },
  {
   "attachments": {},
   "cell_type": "markdown",
   "metadata": {},
   "source": [
    "#### Con base a que la mayor cantidad de nuestros datos se encuentra en Capitar Federal y para el tipo de inmueble Apartamentos decidimos trabajar con ellos en la implementacion de los modelos"
   ]
  },
  {
   "attachments": {},
   "cell_type": "markdown",
   "metadata": {},
   "source": [
    "Seleccionamos Capital Federal y apartamentos para trabajar el dataset"
   ]
  },
  {
   "cell_type": "code",
   "execution_count": null,
   "metadata": {},
   "outputs": [],
   "source": [
    "#armamos un dataset nuevo seleccionando capital federal y apartamentos\n",
    "data=data.copy()\n",
    "condicion_provincia= data[\"provincia\"]==\"Capital Federal\"\n",
    "condicion_tipo= data[\"tipo\"]== 'apartment'\n",
    "condicion_compuesta= condicion_provincia&condicion_tipo\n",
    "data = data[condicion_compuesta]\n",
    "data.shape"
   ]
  },
  {
   "attachments": {},
   "cell_type": "markdown",
   "metadata": {},
   "source": [
    "Vemos los municipios o barrios de Capital Federal filtrados"
   ]
  },
  {
   "cell_type": "code",
   "execution_count": null,
   "metadata": {},
   "outputs": [],
   "source": [
    "data.groupby([\"provincia\"])[\"municipio\"].value_counts()"
   ]
  },
  {
   "cell_type": "markdown",
   "metadata": {},
   "source": [
    "## Correlación entre la variables del dataset"
   ]
  },
  {
   "cell_type": "code",
   "execution_count": null,
   "metadata": {},
   "outputs": [],
   "source": [
    "#analizamos la correlación entre cada una de las variables.\n",
    "figz= plt.figure()\n",
    "mask_cols= [\"sup_m2_total\",\"precio_usd\",\"precio_usd_por_m2\", \"ambientes_cat_code\",\"lat\", \"lon\"]\n",
    "graph=sns.pairplot(data[mask_cols])\n",
    "graph.fig.set_size_inches(20,10)\n",
    "plt.grid()\n",
    "print(\"Correlacion entre variables para capital federal y apartamentos\")\n",
    "plt.show()\n"
   ]
  },
  {
   "attachments": {},
   "cell_type": "markdown",
   "metadata": {},
   "source": [
    "Puede verse outliers en la relacion precio_usd y sup_m2_total que podria impactar sobre las predicciones. \n",
    "\n",
    "Se observa en la variable Superficie para valores mayores a 800 m2 y para precios 4x1e6, los cuales eliminaremos.\n",
    "\n",
    "Precio_usd_por_m2 es la relacion de precio en dolares y superficie total, por lo cual al utilizar precio en dolares como variable objetivo, basta con considerar la variable superficie_m2_total como predictora."
   ]
  },
  {
   "cell_type": "code",
   "execution_count": null,
   "metadata": {},
   "outputs": [],
   "source": [
    "#detectamos el valor maximo de superficie total\n",
    "data[\"sup_m2_total\"].max()"
   ]
  },
  {
   "cell_type": "code",
   "execution_count": null,
   "metadata": {},
   "outputs": [],
   "source": [
    "#eliminamos el valor\n",
    "data.drop(data[(data[\"sup_m2_total\"]>=965)].index, inplace=True ,axis=0)\n",
    "#corroboramos que se eliminó el outlier de superficie\n",
    "#data[\"sup_m2_total\"].max()"
   ]
  },
  {
   "cell_type": "code",
   "execution_count": null,
   "metadata": {},
   "outputs": [],
   "source": [
    "#eliminamos outliers para valores de propiedades mayores a 4M usd\n",
    "outliers_precios= data[\"precio_usd\"]>=4000000\n",
    "data.drop(data[outliers_precios].index, inplace=True ,axis=0)"
   ]
  },
  {
   "cell_type": "code",
   "execution_count": null,
   "metadata": {},
   "outputs": [],
   "source": [
    "#Vemos la correlación numerica entre las variables \n",
    "mask_cols_corr= [\"sup_m2_total\",\"precio_usd\", \"ambientes_cat_code\",\"lat\", \"lon\"]\n",
    "data_corr = data[mask_cols_corr].corr()\n",
    "#graficamos\n",
    "plt.figure(figsize=(6,6))\n",
    "sns.heatmap(data_corr, annot=True, fmt=\".2f\", cmap=\"coolwarm\")\n",
    "plt.title(\"Correlación entre variables\")\n",
    "plt.show()\n"
   ]
  },
  {
   "attachments": {},
   "cell_type": "markdown",
   "metadata": {},
   "source": [
    "De este grafico podemos detectar una correlación significativa entre:\n",
    "- precio_usd y sup_m2_total\n",
    "- precio_usd y ambientes_cat_code (en reemplazo de ambiente_cat que es categorica)\n",
    "- precio_usd y lat \n",
    "variables que utilizaremos para las predicciones"
   ]
  },
  {
   "cell_type": "code",
   "execution_count": null,
   "metadata": {},
   "outputs": [],
   "source": [
    "#llamamos nuevamente a la funcion describe despues de realizar la eliminacion de outliers \n",
    "# para observar los estadisticos media, desv estandar y los minimos y maximos\n",
    "data.describe()"
   ]
  },
  {
   "attachments": {},
   "cell_type": "markdown",
   "metadata": {},
   "source": [
    "Conclusiones de la correlacion  de variables predictoras y target:\n",
    "\n",
    "- Consideraremos como principal variable predictora Superficie total y variable objetivo precio usd por su alta correlación, y su distribución. \n",
    "- Evaluaremos el impacto de las variables de ubicación: barrios como dummies, cantidad de ambientes, precio por metro cuadrado, longitud y latitud.\n"
   ]
  },
  {
   "attachments": {},
   "cell_type": "markdown",
   "metadata": {},
   "source": [
    "## Implementacion de modelos de regresion lineal\n",
    "\n",
    "### 1. Regresión lineal simple:"
   ]
  },
  {
   "attachments": {},
   "cell_type": "markdown",
   "metadata": {},
   "source": [
    "Analizaremos la relacion existente entre la **variable objetivo precio total en dolares (precio_ud)** y su principal **feature la superficie total (sup_m2_total)**"
   ]
  },
  {
   "cell_type": "code",
   "execution_count": null,
   "metadata": {},
   "outputs": [],
   "source": [
    "#preparamos la matriz de features y target\n",
    "X = data[['sup_m2_total']]\n",
    "y = data['precio_usd']\n",
    "\n",
    "#Dvidimos el dataset en train y test\n",
    "Xtrain, Xtest, ytrain, ytest = train_test_split(X, y, test_size=0.2, random_state=42)\n",
    "\n",
    "# Instanciamos el modelo.\n",
    "lm = linear_model.LinearRegression()\n",
    "\n",
    "# entrenamos\n",
    "lm.fit(Xtrain, ytrain)\n",
    "\n",
    "# Predecimos etiquetas para datos desconocidos.\n",
    "y_pred = lm.predict(Xtest)\n",
    "y_pred_train = lm.predict(Xtrain)"
   ]
  },
  {
   "cell_type": "code",
   "execution_count": null,
   "metadata": {},
   "outputs": [],
   "source": [
    "# Imprimimos el intercepto y los coeficientes \n",
    "print ('Intercepto =', ' ', lm.intercept_.round(1))\n",
    "print ('b_sup_m2_total=', ' ', lm.coef_.round(1))\n",
    "\n",
    "# imprimimos la métrica que mide la bondad de ajusto del modelo. \n",
    "print(\"..........................\")\n",
    "print(\"R2_train: \", lm.score(Xtrain, ytrain).round(4)) \n",
    "print ('R2_test=','', metrics.r2_score(ytest, y_pred).round(4))\n",
    "print(\"..........................\")\n",
    "# imprimimos las funciones de perdia de los datos de testeo\n",
    "print ('MSE_test:', int(metrics.mean_squared_error(ytest, y_pred)))\n",
    "print ('MSE_train:', int(metrics.mean_squared_error(ytrain, y_pred_train)))\n",
    "print(\"..........................\")\n",
    "print ('RMSE_test:', int(np.sqrt(metrics.mean_squared_error(ytest, y_pred))))\n",
    "print ('RMSE_train:', int(np.sqrt(metrics.mean_squared_error(ytrain, y_pred_train))))\n",
    "print(\"..........................\")\n",
    "print ('MAE_test:', int(metrics.mean_absolute_error(ytest, y_pred)))\n",
    "print ('MAE_train:', int(metrics.mean_absolute_error(ytrain, y_pred_train)))\n"
   ]
  },
  {
   "cell_type": "code",
   "execution_count": null,
   "metadata": {},
   "outputs": [],
   "source": [
    "# Graficamos la variable X contra la variable Y\n",
    "plt.figure(figsize=(7,5))\n",
    "plt.scatter(X, y, s=30, c='black', marker='+', zorder=10)\n",
    "plt.scatter(X, y)\n",
    "plt.xlabel(\"sup_m2_total\")\n",
    "plt.ylabel(\"Valores reales precio_usd\")\n",
    "plt.title('Relación entre superficie total y precio en dolares')\n",
    "plt.show()\n",
    "\n",
    "# Graficamos el modelo\n",
    "plt.figure(figsize=(7,5))\n",
    "plt.plot(y,y, '-.',c='grey')\n",
    "plt.scatter(y_pred, ytest, s=30, c='r', marker='+', zorder=10)\n",
    "plt.xlabel(\"Predicciones de precio_usd usando superficie total\")\n",
    "plt.ylabel(\"Valores reales precio_usd\")\n",
    "plt.title('Comparación entre el modelo y los valores reales de precio_usd')\n",
    "plt.show()"
   ]
  },
  {
   "attachments": {},
   "cell_type": "markdown",
   "metadata": {},
   "source": [
    "Resumen de la regresion lineal simple:\n",
    "\n",
    "Con un R2 en test de 0,6753 observamos que existe una alta correlacion entre la variable precio en dolares y superficie total, es decir, que el aprox. el 67% de los datos de precio usd es predicha por la variable superficie m2 total. El valor de R2:0,6668 en train es ligeramente menor que en test.  \n",
    "\n",
    "Los graficos corroboran el valor de R2 obtenido en test, en el primer gráfico se observa que hay alta correlación entre ellas, puesto que el precio en dolares aumenta cuando aumenta la superficie total. El segundo gráfico es la comparación entre el valor real vs el valor predicho por el modelo del cual se obtiene el intercepto y la pendiente. La pendiente nos indica que por cada metro cuadrado el precio de la propiedad aumenta en 3480 dolares. \n",
    "\n",
    "En cuanto a los errores, fueron calculados MSE, RMSE y MAE. Consideramos que el error que mejor explica los valores predichos por el modelo es MAE ya que es menos sensible a valores atípicos (penaliza mucho más las desviaciones grandes): en este caso los datos tienen cierta variabilidad en los precios cuando aumenta la superficie total por encima de los 300 m2 y hay algunos datos atípicos para superficies menores a 100 m2(grafico 1). \n",
    "\n",
    "El error MAE de test es de 66280. Las prediciones del precio_usd se desvian en promedio 66280 dolares del valor real. Tomando en cuenta que la media de los datos totales es de 233841 consideramos que el modelo tiene un buen desempeño y que la relacion establecida de las variables es buena. "
   ]
  },
  {
   "attachments": {},
   "cell_type": "markdown",
   "metadata": {},
   "source": [
    "### 2. Regresión lineal múltiple"
   ]
  },
  {
   "attachments": {},
   "cell_type": "markdown",
   "metadata": {},
   "source": [
    "### Analizaremos el performance del modelo al agregar más variables predictoras:\n",
    "\n",
    "- variable objetivo: precio en dolares (precio_usd) \n",
    "- variables predictoras: superficie total (sup_m2_total), latitud (lat) y longitud (lon), dummies de barrios, dummies de ambientes"
   ]
  },
  {
   "attachments": {},
   "cell_type": "markdown",
   "metadata": {},
   "source": [
    "Antes, creamos dummies de barrios y ambientes"
   ]
  },
  {
   "attachments": {},
   "cell_type": "markdown",
   "metadata": {},
   "source": [
    "Descripcion de las dummies a crear:\n",
    "- Barrios de capital federal: Balvanera, Barrio Norte, Belgrano, Caballito, Flores, Nuñez, Palermo, Recoleta, San Telmo, Villa Crespo, Villa Urquiza\n",
    "\n",
    "- Ambientes: 1 ambiente, 2 ambientes, 3 ambientes y 4 ambientes o más"
   ]
  },
  {
   "cell_type": "code",
   "execution_count": null,
   "metadata": {},
   "outputs": [],
   "source": [
    "dummies_municipio =pd.get_dummies(data.municipio, prefix='barrio')\n",
    "# imprimimos 5 filas cualquieras\n",
    "#dummies_municipio.sample(n=5, random_state=1)\n"
   ]
  },
  {
   "cell_type": "code",
   "execution_count": null,
   "metadata": {},
   "outputs": [],
   "source": [
    "dummies_municipio.drop(dummies_municipio.columns[0], axis=1, inplace=True)\n",
    "dummies_municipio.sample(n=5, random_state=1)"
   ]
  },
  {
   "cell_type": "code",
   "execution_count": null,
   "metadata": {},
   "outputs": [],
   "source": [
    "dummies_ambiente =pd.get_dummies(data.ambientes_cat, prefix='ambiente')"
   ]
  },
  {
   "cell_type": "code",
   "execution_count": null,
   "metadata": {},
   "outputs": [],
   "source": [
    "dummies_ambiente.drop(dummies_ambiente.columns[0], axis=1, inplace=True)\n",
    "\n",
    "# imprimimos 5 filas cualquieras\n",
    "#dummies_ambiente.sample(n=5, random_state=1)"
   ]
  },
  {
   "cell_type": "code",
   "execution_count": null,
   "metadata": {},
   "outputs": [],
   "source": [
    "data = pd.concat([data, dummies_municipio, dummies_ambiente ], axis=1)"
   ]
  },
  {
   "attachments": {},
   "cell_type": "markdown",
   "metadata": {},
   "source": [
    "Total de Columnas predictoras a modelar: 16\n",
    "\n",
    "En orden: \n",
    "\n",
    "\"sup_m2_total\", \"lat\", \"lon\", \"barrio_Barrio Norte\", \"barrio_Belgrano\", \n",
    "\"barrio_Caballito\", \n",
    "\n",
    "\"barrio_Flores\", \"barrio_Nuñez\", \"barrio_Palermo\",\"barrio_Recoleta\", \"barrio_San Telmo\", \"barrio_Villa Crespo\",\"barrio_Villa Urquiza\", \n",
    "\n",
    "\"ambiente_2\", \"ambiente_3\", \"ambiente_4 o mas\""
   ]
  },
  {
   "cell_type": "code",
   "execution_count": null,
   "metadata": {},
   "outputs": [],
   "source": [
    "# creamos la variable con las 16 columnas predictoras\n",
    "features_colums_1 = [\"sup_m2_total\", \"lat\", \"lon\", \"barrio_Barrio Norte\", \"barrio_Belgrano\", \"barrio_Caballito\", \"barrio_Flores\", \"barrio_Nuñez\", \"barrio_Palermo\",\"barrio_Recoleta\", \"barrio_San Telmo\", \"barrio_Villa Crespo\",\"barrio_Villa Urquiza\", \"ambiente_2\", \"ambiente_3\", \"ambiente_4 o mas\"]"
   ]
  },
  {
   "attachments": {},
   "cell_type": "markdown",
   "metadata": {},
   "source": [
    "**Modelo con Ordinary Least Squares regression (OLS)** - sklearn"
   ]
  },
  {
   "cell_type": "code",
   "execution_count": null,
   "metadata": {},
   "outputs": [],
   "source": [
    "# Asignamos las variables predictoras\n",
    "X_ols = data[features_colums_1]\n",
    "y_ols = data['precio_usd']\n",
    "\n",
    "# Dividimos en train y test\n",
    "X_train, X_test, y_train, y_test = train_test_split(X_ols, y_ols, test_size=0.2, random_state=42)\n",
    "\n",
    "# Normalizamos los datos\n",
    "scaler = StandardScaler()\n",
    "X_train_ss = scaler.fit_transform(X_train)\n",
    "X_test_ss = scaler.transform(X_test)\n",
    "\n",
    "  # Instanciamos el modelo\n",
    "lr= linear_model.LinearRegression()\n",
    "\n",
    "# Entrenamos el modelo\n",
    "lr.fit(X_train_ss, y_train)"
   ]
  },
  {
   "cell_type": "code",
   "execution_count": null,
   "metadata": {},
   "outputs": [],
   "source": [
    "# Imprimimos el intercepto y los coeficientes \n",
    "#print('Coeficientes: ', lr.coef_)\n",
    "## para observarlo mejor miramos el nombre con el coeficiente\n",
    "print (list(zip(features_colums_1, lr.coef_.round(2))))\n",
    "\n",
    "print(\".................................................................................\")\n",
    "print('Intercepto: ', lr.intercept_)\n",
    "print(\".................................................................................\")\n",
    "# imprimimos la métrica que mide la bondad de ajusto del modelo. \n",
    "print('R2_train:', r2_score(y_train, lr.predict(X_train_ss)).round(4), '/ R2_test:', r2_score(y_test, lr.predict(X_test_ss)).round(4))\n",
    "#print('R2_test: ', r2_score(y_test, lr.predict(X_test_ss)))\n",
    "print(\".................................................................................\")\n",
    "# imprimimos las funciones de perdia de los datos de testeo\n",
    "print('MSE_train:', int(metrics.mean_squared_error(y_train, lr.predict(X_train_ss))), \n",
    "'/ MSE_test:', int(metrics.mean_squared_error(y_test, lr.predict(X_test_ss))))\n",
    "#print('MSE_test:', metrics.mean_squared_error(y_test, lr.predict(X_test_ss)))\n",
    "\n",
    "print('RMSE_train:', int(np.sqrt(metrics.mean_squared_error(y_train, lr.predict(X_train_ss)))),\n",
    "'/ RMSE_test:', int(np.sqrt(metrics.mean_squared_error(y_test, lr.predict(X_test_ss)))))\n",
    "\n",
    "#print('RMSE_test:', int(np.sqrt(metrics.mean_squared_error(y_test, lr.predict(X_test_ss)))))\n",
    "\n",
    "print('MAE_train:', int(metrics.mean_absolute_error(y_train, lr.predict(X_train_ss))),\n",
    "'/ MAE_test:', int(metrics.mean_absolute_error(y_test, lr.predict(X_test_ss))))\n",
    "\n",
    "#print('MAE:', int(metrics.mean_absolute_error(y_test, lr.predict(X_test_ss))))"
   ]
  },
  {
   "attachments": {},
   "cell_type": "markdown",
   "metadata": {},
   "source": [
    "Interpretacion del modelo de regresion multiple con OLS:\n",
    "\n",
    "Al considerar 15  nuevas variables predictoras (son 16 con la que usamos en regresion simple) el valor de R2 aumenta de 0,67 a 0,70 en test y se mantiene ligerament similar en train, hay una mejora del performance en la regresion multiple al predecir nuevos datos. \n",
    "\n",
    "El error MAE del modelo multivariado es menor cuando predice nuevas observaciones que cuando predice las observaciones con las que fue entrenado. Esto significa que el modelo es útil y que no estamos pudiera no haber overfitting. \n",
    "\n",
    "Sobre los coeficientes estimados, se observa que el valor en dolares por unidad de superficie total aumenta considerablemente de 3481 usd a 205815. \n",
    "El valor en dolares tiene un incremento mayor con el cambio de latitud que de longitud, y es muy bajo cuando se evalua Barrio Norte \n",
    "El precio en dolares tiene una correlacion negativa para los barrios San Telmo y con los ambientes. Pudiera indicar que estas variables no son buenas en la prediccion del precio en dolares o que cuando están evaluadas en conjuntos no contribuyen en la estimación del precio de los inmuebles.\n",
    "Lo evaluaremos con los p-values en statsmodels"
   ]
  },
  {
   "attachments": {},
   "cell_type": "markdown",
   "metadata": {},
   "source": [
    "**Modelo  con Statsmodels**\n",
    "\n",
    "Evaluamos mediante los p values que variables predictoras tienen un buen performance sobre la estimacion del precio en dolares"
   ]
  },
  {
   "cell_type": "code",
   "execution_count": null,
   "metadata": {},
   "outputs": [],
   "source": [
    "# Asignamos las variables predictoras igualmente usando las columnas seleccionadas en regresion OLS sklearn\n",
    "X_sm = data[features_colums_1] \n",
    "y_sm = data[['precio_usd']]\n",
    "\n",
    "# Normalizamos los datos\n",
    "scale = StandardScaler()\n",
    "scale.fit(X_sm)\n",
    "X_sm = scale.transform(X_sm)\n",
    "\n",
    "# Modelamos con statsmodels\n",
    "X_csm = sm.add_constant(X_sm)\n",
    "model = sm.OLS(y, X_csm).fit()\n",
    "print(model.summary())"
   ]
  },
  {
   "cell_type": "code",
   "execution_count": null,
   "metadata": {},
   "outputs": [],
   "source": [
    "#vemos el orden en que están presentadas las variables en el resumen de sm\n",
    "print(data[features_colums_1].columns)"
   ]
  },
  {
   "attachments": {},
   "cell_type": "markdown",
   "metadata": {},
   "source": [
    "Comparando la regresión multiple sencilla con la regresión de Stastmodel (Sm) podemos observar que Sm permite validar la significancia de los datos obtenidos. \n",
    "\n",
    "EL valor de R2 estimado con statsmodel es de de aprox. 0,69, no difiere significativamente de OLS y comparandolo con la regresion sencilla (0,67) aumentó en un 2% la explicacion del precio por las variables predictoras. \n",
    "\n",
    "Vemos con los p values (para un valor de significancia de 0,05) de las variables barrio Norte, Belgrano, Nuñez, San telmo, y Villa Urquiza tienen valores de p values mayores al nivel de significancia, lo que indica que estas variables no son buenas predictoras del precio cuando se usan con todas las demás variables.\n",
    "\n",
    "La no significancia de los barrios mencionados podria estar relacionada con los datos, puede que representen barrios que no sigan la misma tendencia que el resto, pudiendo tener propiedades especificas muy elevadas que se le alejan de la tendencia general. \n",
    "\n",
    "Al usar este modelo las variables ambientes son significativas, su p value es menor que el valor de significancia, es decir, pueden considerarse variables predictoras."
   ]
  },
  {
   "attachments": {},
   "cell_type": "markdown",
   "metadata": {},
   "source": [
    "Apliquemos regularizacion Ridge y Lasso para comparar los resultados obtenidos con Sm"
   ]
  },
  {
   "attachments": {},
   "cell_type": "markdown",
   "metadata": {},
   "source": [
    "## Regularización Ridge y Lasso"
   ]
  },
  {
   "cell_type": "markdown",
   "metadata": {},
   "source": [
    "Ridge"
   ]
  },
  {
   "cell_type": "code",
   "execution_count": null,
   "metadata": {},
   "outputs": [],
   "source": [
    "# Probamos con regularización ridge\n",
    "lm_ridge = linear_model.RidgeCV(alphas=np.logspace(-10, 3, 200))\n",
    "\n",
    "model_ridge = lm_ridge.fit(X_train_ss, y_train)\n",
    "\n",
    "print ('Modelo Ridge:')\n",
    "print('hiperparametro alpha: ', model_ridge.alpha_)\n",
    "print('coeficientes ajustados: ', model_ridge.coef_)\n",
    "print('intercepto: ', model_ridge.intercept_)\n",
    "print('R2 train: ', model_ridge.score(X_train_ss, y_train))\n",
    "print('R2 test: ', model_ridge.score(X_test_ss, y_test))"
   ]
  },
  {
   "attachments": {},
   "cell_type": "markdown",
   "metadata": {},
   "source": [
    "Este método consigue minimizar la influencia de los predictores menos relacionados con la variable respuesta sin llegar a cero: \n",
    "\n",
    "Vemos que los coeficientes de los Barrios: Barrio Norte, Belgrano, Nuñez, Recoleta y San Telmo se ven disminuidos al igual que mostraba Sm\n",
    "\n",
    "Existe mayor valor de prediccion de la los departamentos con 4 ambientes que con 3 y 2 ambientes en el precio en dolares"
   ]
  },
  {
   "cell_type": "markdown",
   "metadata": {},
   "source": [
    "Lasso"
   ]
  },
  {
   "cell_type": "code",
   "execution_count": null,
   "metadata": {},
   "outputs": [],
   "source": [
    "# Probamos con regularización lasso (tiende a llevar a cero los no explicativos)\n",
    "\n",
    "lm_lasso = linear_model.LassoCV(alphas=np.logspace(-10, 3, 200), cv=5, tol=0.01)\n",
    "\n",
    "model_lasso = lm_lasso.fit(X_train_ss, y_train)\n",
    "\n",
    "print ('Modelo Lasso:')\n",
    "print('hiperparametro alpha : ', model_lasso.alpha_)\n",
    "print('coeficientes ajustados: ', model_lasso.coef_)\n",
    "print('intercepto: ', model_lasso.intercept_)\n",
    "print('R2 train: ', model_lasso.score(X_train_ss, y_train))\n",
    "print('R2 test: ', model_lasso.score(X_test_ss, y_test))\n"
   ]
  },
  {
   "attachments": {},
   "cell_type": "markdown",
   "metadata": {},
   "source": [
    "Lasso tiene el efecto de forzar a que los coeficientes de los predictores tiendan a cero cuando no influye en el modelo. \n",
    "\n",
    "En este caso ninguno de los predictores es cero, sin embargo vemos fuertemente disminuida la variable Barrio Norte y tambien disminuyen los barrios Belgrano, Nuñez, Recoleta y San Telmo. \n",
    "\n",
    "Existe mayor valor de prediccion de la los departamentos con 4 ambientes que con 3 y 2 ambientes en el precio en dolares"
   ]
  },
  {
   "attachments": {},
   "cell_type": "markdown",
   "metadata": {},
   "source": [
    "Ambos modelos de regularización tienen R2 de aprox 0,70 igual que el modelo de regresión lineal multiple, entendiendo que este ultimo no tenia overfitting por corregir."
   ]
  },
  {
   "attachments": {},
   "cell_type": "markdown",
   "metadata": {},
   "source": [
    "### Statsmodel sin las variables que dieron un p-value mayor que el valor de significancia (0,05): barrio Norte, Belgrano, Nuñez, San telmo, y Villa Urquiza\n",
    "\n",
    "Features = sup_m2_total, lat, lon, barrio_Caballito, barrio_Flores, barrio_Palermo,barrio_Recoleta,barrio_Villa Crespo, ambiente_2, ambiente_3\", ambiente_4 o mas"
   ]
  },
  {
   "cell_type": "code",
   "execution_count": null,
   "metadata": {},
   "outputs": [],
   "source": [
    "# creamos la variable \n",
    "features_colums_2 = [\"sup_m2_total\", \"lat\", \"lon\", \"barrio_Caballito\", \"barrio_Flores\", \"barrio_Palermo\",\"barrio_Recoleta\",\"barrio_Villa Crespo\", \"ambiente_2\", \"ambiente_3\", \"ambiente_4 o mas\"]\n",
    "\n",
    "X_sm = data[features_colums_2] #usando las 7 variables predictoraas\n",
    "y_sm = data[['precio_usd']]\n",
    "\n",
    "# Normalizamos los datos\n",
    "scale = StandardScaler()\n",
    "scale.fit(X_sm)\n",
    "X_sm = scale.transform(X_sm)\n",
    "\n",
    "# Modelamos con statsmodels\n",
    "X_csm = sm.add_constant(X_sm)\n",
    "model = sm.OLS(y, X_csm).fit()\n",
    "print(model.summary())"
   ]
  },
  {
   "attachments": {},
   "cell_type": "markdown",
   "metadata": {},
   "source": [
    "Al eliminar los barrios que presentaban baja prediccion del precio en dolares vemos que el modelo mantiene el R2 de aprox. 0,70.\n",
    "\n",
    "Es decir, que con el uso de estas variables el modelo es capaz de predecir el 70% de los valores de precio en dolares.\n",
    "\n",
    "En este caso que no detectamos overfitting en el modelo el uso de Statsmodel fue de mayor ayuda que regularización. "
   ]
  }
 ],
 "metadata": {
  "kernelspec": {
   "display_name": "DH",
   "language": "python",
   "name": "python3"
  },
  "language_info": {
   "codemirror_mode": {
    "name": "ipython",
    "version": 3
   },
   "file_extension": ".py",
   "mimetype": "text/x-python",
   "name": "python",
   "nbconvert_exporter": "python",
   "pygments_lexer": "ipython3",
   "version": "3.10.4"
  },
  "orig_nbformat": 4,
  "vscode": {
   "interpreter": {
    "hash": "fa08644e93f5ad6b3c1e930965e944c16707fd43381b34471e0217a3cc73ebe0"
   }
  }
 },
 "nbformat": 4,
 "nbformat_minor": 2
}
