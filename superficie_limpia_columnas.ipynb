{
 "cells": [
  {
   "cell_type": "markdown",
   "metadata": {},
   "source": [
    "RECORDAR DESZIPEAR PROPERATTI.ZIP"
   ]
  },
  {
   "cell_type": "code",
   "execution_count": null,
   "metadata": {},
   "outputs": [],
   "source": [
    "import pandas as pd\n",
    "import numpy as np"
   ]
  },
  {
   "cell_type": "code",
   "execution_count": null,
   "metadata": {},
   "outputs": [],
   "source": [
    "data = pd.read_csv(\"./data/properatti.csv\", index_col=0)\n",
    "data.shape"
   ]
  },
  {
   "cell_type": "code",
   "execution_count": null,
   "metadata": {},
   "outputs": [],
   "source": [
    "data.dtypes"
   ]
  },
  {
   "cell_type": "markdown",
   "metadata": {},
   "source": [
    "### Veamos el tema de los m2 faltantes"
   ]
  },
  {
   "cell_type": "markdown",
   "metadata": {},
   "source": [
    "Primera cosa a tener en cuenta, los m2 covered tienen un pctje nulo del 16% y los totales tienen un pctje del 32%\n",
    "Price_per_m2 tiene un faltante del 28%\n",
    "Price usd per m2 tiene un faltante del 43%\n",
    "Todos las variantes de precios totales tienen un faltante aprox del 17%"
   ]
  },
  {
   "cell_type": "markdown",
   "metadata": {},
   "source": [
    "*JONI! te acordas a que haciamos referencia en este párrafo*"
   ]
  },
  {
   "cell_type": "markdown",
   "metadata": {},
   "source": [
    "# Verificar si existen filas con todos los datos faltantes"
   ]
  },
  {
   "cell_type": "code",
   "execution_count": null,
   "metadata": {},
   "outputs": [],
   "source": [
    "df_usd_m2 = data['price_usd_per_m2']\n",
    "mask_nan_uds_m2= df_usd_m2.isna()"
   ]
  },
  {
   "cell_type": "code",
   "execution_count": null,
   "metadata": {},
   "outputs": [],
   "source": [
    "mask_nan_sup_total=data[\"surface_total_in_m2\"].isna()\n",
    "mask_nan_sup_cubierta=data[\"surface_covered_in_m2\"].isna()\n",
    "mask_nan_rooms=data[\"rooms\"].isna()\n"
   ]
  },
  {
   "cell_type": "code",
   "execution_count": null,
   "metadata": {},
   "outputs": [],
   "source": [
    "mask_nan_columnas = (mask_nan_sup_total == True) & (mask_nan_sup_cubierta == True) &(mask_nan_rooms == True) &(mask_nan_uds_m2 == True) \n",
    "mask_nan_columnas.value_counts()"
   ]
  },
  {
   "cell_type": "markdown",
   "metadata": {},
   "source": [
    "#Nota: volver a revisar estos datos despues de haber completado todas las columnas con los datos extraidos del campo descripcion - inicial 8130"
   ]
  },
  {
   "cell_type": "markdown",
   "metadata": {},
   "source": [
    "## Columna Superficie"
   ]
  },
  {
   "cell_type": "markdown",
   "metadata": {},
   "source": [
    "#### 1- detectar de outliers"
   ]
  },
  {
   "cell_type": "code",
   "execution_count": null,
   "metadata": {},
   "outputs": [],
   "source": [
    "import matplotlib.pyplot as plt\n",
    "import seaborn as sns"
   ]
  },
  {
   "cell_type": "code",
   "execution_count": null,
   "metadata": {},
   "outputs": [],
   "source": [
    "data.boxplot(column= \"surface_total_in_m2\", by=\"property_type\") \n",
    "plt.show()"
   ]
  },
  {
   "cell_type": "markdown",
   "metadata": {},
   "source": [
    "se detectan outliers para superficies mayores a 75000 m2."
   ]
  },
  {
   "cell_type": "markdown",
   "metadata": {},
   "source": [
    "##### VER SI ELIMINAMOS OUTLIERS!!!!"
   ]
  },
  {
   "cell_type": "markdown",
   "metadata": {},
   "source": [
    "#### 2-Recuperar informacion faltante a través de regex de la columna descripción"
   ]
  },
  {
   "cell_type": "code",
   "execution_count": null,
   "metadata": {},
   "outputs": [],
   "source": [
    "import re"
   ]
  },
  {
   "cell_type": "code",
   "execution_count": null,
   "metadata": {},
   "outputs": [],
   "source": [
    "serie_descripcion = data[\"description\"]"
   ]
  },
  {
   "cell_type": "code",
   "execution_count": null,
   "metadata": {},
   "outputs": [],
   "source": [
    "pattern_sup_m2 = \"(?P<sup>\\d{2,}(,|.\\d+)?)\\s*(m2|metros|mts)\"\n",
    "pattern_sup_m2_regex = re.compile(pattern_sup_m2,  re.IGNORECASE)"
   ]
  },
  {
   "cell_type": "code",
   "execution_count": null,
   "metadata": {},
   "outputs": [],
   "source": [
    "import numpy as np\n",
    "sup_match = serie_descripcion.apply(lambda x: x if x is np.NaN else pattern_sup_m2_regex.search(x))\n"
   ]
  },
  {
   "cell_type": "code",
   "execution_count": null,
   "metadata": {},
   "outputs": [],
   "source": [
    "sup_match.sample(10)"
   ]
  },
  {
   "cell_type": "code",
   "execution_count": null,
   "metadata": {},
   "outputs": [],
   "source": [
    "mask_sup_match_notnull= sup_match.notnull()\n",
    "\n",
    "data.loc[mask_sup_match_notnull, \"Sup_m2_Clean\"] = sup_match[mask_sup_match_notnull].apply(lambda x: x.group(\"sup\"))\n"
   ]
  },
  {
   "cell_type": "code",
   "execution_count": null,
   "metadata": {},
   "outputs": [],
   "source": [
    "data.loc[mask_sup_match_notnull, [\"surface_total_in_m2\", \"surface_covered_in_m2\", \"Sup_m2_Clean\"]]"
   ]
  },
  {
   "cell_type": "code",
   "execution_count": null,
   "metadata": {},
   "outputs": [],
   "source": [
    "serie_sup_m2_clean=data[\"Sup_m2_Clean\"]"
   ]
  },
  {
   "cell_type": "code",
   "execution_count": null,
   "metadata": {},
   "outputs": [],
   "source": [
    "#SE ARREGLAN ERRORES DE COLUMNA DE REGEX PARA PODER SER UTILIZADOS EN ESTADISTICA\n",
    "\n",
    "pattern_sup_m2_dos=\"(?P<supdos>\\d{2,})\"\n",
    "pattern_sup_m2_regex_dos=re.compile(pattern_sup_m2_dos)\n",
    "sup_match_dos = serie_sup_m2_clean.apply(lambda x: x if x is np.NaN else pattern_sup_m2_regex_dos.search(x))\n",
    "mask_sup_match_notnull_dos= sup_match_dos.notnull()\n",
    "data.loc[mask_sup_match_notnull_dos, \"Sup_m2_Clean_dos\"] = sup_match_dos[mask_sup_match_notnull_dos].apply(lambda x: x.group(\"supdos\"))\n",
    "data[\"Sup_m2_Clean_dos\"].median()\n"
   ]
  },
  {
   "cell_type": "markdown",
   "metadata": {},
   "source": [
    "##### Se supone que para PH, apartments y store la superficie cubierta es la misma que la superficie total, *se descarta house entendiendo que estas pueden contar con \"patio\". con estos datos se reemplazan los valores faltantes(no lo pude separar -VER!!!!*. PASAR PARA ARRIBA para dar orden al analisis"
   ]
  },
  {
   "cell_type": "code",
   "execution_count": null,
   "metadata": {},
   "outputs": [],
   "source": [
    "data_limpia= data\n"
   ]
  },
  {
   "cell_type": "code",
   "execution_count": null,
   "metadata": {},
   "outputs": [],
   "source": [
    "data_key_not_null_mask = np.logical_and(data.property_type.notnull(), data.surface_covered_in_m2.notnull())\n",
    "data_key_not_null = data.loc[data_key_not_null_mask, :]\n",
    "data_key_not_null.shape"
   ]
  },
  {
   "cell_type": "code",
   "execution_count": null,
   "metadata": {},
   "outputs": [],
   "source": [
    "data_key_not_null_grouped_tipo_sup= data_key_not_null.groupby([\"property_type\", \"surface_covered_in_m2\"])\n"
   ]
  },
  {
   "cell_type": "code",
   "execution_count": null,
   "metadata": {},
   "outputs": [],
   "source": [
    "data_fillna= data_key_not_null_grouped_tipo_sup[\"surface_total_in_m2\"].transform(lambda grp: grp.fillna(grp.mean()))\n",
    "data_fillna"
   ]
  },
  {
   "cell_type": "code",
   "execution_count": null,
   "metadata": {},
   "outputs": [],
   "source": [
    "data_limpia[\"sup_m2_total_limpia\"].fillna(data_fillna,inplace=True)\n",
    "#data_limpia.loc[mask_sup_match_notnull, [\"surface_total_in_m2\", \"sup_m2_total_limpia\", \"property_type\"]]"
   ]
  },
  {
   "cell_type": "code",
   "execution_count": null,
   "metadata": {},
   "outputs": [],
   "source": [
    "data_limpia[\"sup_m2_total_limpia\"].isnull().sum()"
   ]
  },
  {
   "cell_type": "markdown",
   "metadata": {},
   "source": [
    "### se adicionan los datos obtenidos de la columna descripcion."
   ]
  },
  {
   "cell_type": "code",
   "execution_count": null,
   "metadata": {},
   "outputs": [],
   "source": [
    "data_limpia[\"sup_m2_total_limpia\"].fillna(data_limpia[\"Sup_m2_Clean_dos\"],inplace=True)"
   ]
  },
  {
   "cell_type": "code",
   "execution_count": null,
   "metadata": {},
   "outputs": [],
   "source": [
    "data_limpia[\"sup_m2_total_limpia\"].isnull().sum()/data[\"surface_total_in_m2\"].isnull().sum()*100"
   ]
  },
  {
   "cell_type": "markdown",
   "metadata": {},
   "source": [
    "### se recupera el 23% de la informacion faltante al suponer superficie cubierta como superficie total y al extraer informacion con metodo regex de la columna descripción \n"
   ]
  },
  {
   "cell_type": "code",
   "execution_count": null,
   "metadata": {},
   "outputs": [],
   "source": [
    "data_limpia[\"sup_m2_total_limpia\"].isnull().sum()/data_limpia.shape[0]*100"
   ]
  },
  {
   "cell_type": "markdown",
   "metadata": {},
   "source": [
    "#### se redujo de 17% a 7.6% la información faltante."
   ]
  },
  {
   "cell_type": "markdown",
   "metadata": {},
   "source": [
    "# Para los datos faltantes en la columna de interés, se desea agrupar por tipo de propiedad para sacar la mediana de los m2 totales y estratificar los valores. de esta manera podriamos tener los datos completos. REVISAR SI ES NECESARIO"
   ]
  },
  {
   "cell_type": "markdown",
   "metadata": {},
   "source": [
    "# Columna Rooms"
   ]
  },
  {
   "cell_type": "markdown",
   "metadata": {},
   "source": [
    "### Revisar relacion precio vs rooms. comparar propiedades similares con distinta cantidad de rooms para ver si varia sustancialmente el precio - PENDIENTE"
   ]
  },
  {
   "cell_type": "code",
   "execution_count": null,
   "metadata": {},
   "outputs": [],
   "source": [
    "pattern_rooms= \"(?P<dorm>\\d+.?Dorm|\\d+.?dorm|\\d+.?DORM|\\d+.?AMB|\\d+.?Amb|\\d+.?amb|\\d+.?hab|\\d+.?HAB|\\d+.?Hab|monoamb)\""
   ]
  },
  {
   "cell_type": "code",
   "execution_count": null,
   "metadata": {},
   "outputs": [],
   "source": [
    "pattern_rooms_regex=re.compile(pattern_rooms)"
   ]
  },
  {
   "cell_type": "code",
   "execution_count": null,
   "metadata": {},
   "outputs": [],
   "source": [
    "room_match = serie_descripcion.apply(lambda x: x if x is np.NaN else pattern_rooms_regex.search(x))"
   ]
  },
  {
   "cell_type": "code",
   "execution_count": null,
   "metadata": {},
   "outputs": [],
   "source": [
    "room_match.sample(10)"
   ]
  },
  {
   "cell_type": "code",
   "execution_count": null,
   "metadata": {},
   "outputs": [],
   "source": [
    "mask_rooms_notnull= room_match.notnull()\n",
    "\n",
    "data.loc[mask_rooms_notnull, \"rooms_clean\"] = room_match[mask_rooms_notnull].apply(lambda x: x.group(0))\n"
   ]
  },
  {
   "cell_type": "code",
   "execution_count": null,
   "metadata": {},
   "outputs": [],
   "source": [
    "serie_rooms_clean=data[\"rooms_clean\"]\n",
    "serie_rooms_clean.sample(5)\n"
   ]
  },
  {
   "cell_type": "markdown",
   "metadata": {},
   "source": [
    "### se saca la parte entera del str"
   ]
  },
  {
   "cell_type": "code",
   "execution_count": null,
   "metadata": {},
   "outputs": [],
   "source": [
    "pattern_rooms_dos=\"(?P<dorm_dos>\\d+.?)\"\n",
    "pattern_rooms_regex_dos=re.compile(pattern_rooms_dos)\n",
    "room_match_dos = serie_rooms_clean.apply(lambda x: x if x is np.NaN else pattern_rooms_regex_dos.search(x))\n",
    "room_match_dos.sample(10)"
   ]
  },
  {
   "cell_type": "code",
   "execution_count": null,
   "metadata": {},
   "outputs": [],
   "source": [
    "mask_room_match_notnull_dos= room_match_dos.notnull()\n",
    "\n",
    "data.loc[mask_room_match_notnull_dos,\"rooms_clean_dos\"] = room_match_dos[mask_room_match_notnull_dos].apply(lambda x: x.group(0))"
   ]
  },
  {
   "cell_type": "code",
   "execution_count": null,
   "metadata": {},
   "outputs": [],
   "source": [
    "data.loc[mask_room_match_notnull_dos, [\"rooms\", \"rooms_clean_dos\"]]"
   ]
  },
  {
   "cell_type": "code",
   "execution_count": null,
   "metadata": {},
   "outputs": [],
   "source": [
    "data_limpia[\"rooms\"].fillna(data_limpia[\"rooms_clean_dos\"],inplace=True)\n",
    "data_limpia"
   ]
  },
  {
   "cell_type": "markdown",
   "metadata": {},
   "source": [
    "% de info recuperada = 46%"
   ]
  },
  {
   "cell_type": "code",
   "execution_count": null,
   "metadata": {},
   "outputs": [],
   "source": [
    "data_limpia[\"rooms\"].isnull().sum()/data[\"rooms\"].isnull().sum()*100"
   ]
  },
  {
   "cell_type": "code",
   "execution_count": null,
   "metadata": {},
   "outputs": [],
   "source": [
    "mask_residencial= data.property_type != 'store'\n",
    "tipos_residenciales=data.property_type[mask_residencial]\n",
    "rooms_residenciales=data.rooms[mask_residencial]\n",
    "df_residencial=pd.DataFrame(tipos_residenciales)\n",
    "df_residencial['rooms']=rooms_residenciales"
   ]
  },
  {
   "cell_type": "markdown",
   "metadata": {},
   "source": [
    "##### Intentamos ver si los datos faltantes de rooms disminuyen si descontamos las tiendas"
   ]
  },
  {
   "cell_type": "code",
   "execution_count": null,
   "metadata": {},
   "outputs": [],
   "source": [
    "data.rooms.value_counts()"
   ]
  },
  {
   "cell_type": "code",
   "execution_count": null,
   "metadata": {},
   "outputs": [],
   "source": [
    "shape_df=df_residencial.shape\n",
    "count_res=shape_df[0]\n"
   ]
  },
  {
   "cell_type": "code",
   "execution_count": null,
   "metadata": {},
   "outputs": [],
   "source": [
    "nulos_room=df_residencial.rooms.isna().sum(axis=0)\n",
    "pctje_nulos_rooms=nulos_room/count_res\n",
    "pctje_nulos_rooms"
   ]
  },
  {
   "cell_type": "markdown",
   "metadata": {},
   "source": [
    "Veamos cuantas rooms tienen las tiendas"
   ]
  },
  {
   "cell_type": "code",
   "execution_count": null,
   "metadata": {},
   "outputs": [],
   "source": [
    "mask_comercial= data.property_type == 'store'\n",
    "tipos_comerciales=data.property_type[mask_comercial]\n",
    "rooms_comerciales=data.rooms[mask_comercial]\n",
    "df_comercial=pd.DataFrame(tipos_comerciales)\n",
    "df_comercial['rooms']=rooms_comerciales\n",
    "df_comercial.rooms.value_counts()"
   ]
  },
  {
   "cell_type": "markdown",
   "metadata": {},
   "source": [
    "#### Recordemos que el porcentaje original de nulos era similar, "
   ]
  },
  {
   "cell_type": "markdown",
   "metadata": {},
   "source": [
    "Veamos si los faltantes de expensas disminuyen sacando tiendas y casas"
   ]
  },
  {
   "cell_type": "code",
   "execution_count": null,
   "metadata": {},
   "outputs": [],
   "source": [
    "mascara_sin_casas=df_residencial.property_type !='house'\n",
    "expensas_residenciales=data.expenses[mask_residencial]\n",
    "df_residencial['expenses']=expensas_residenciales\n",
    "expensas_deps_ph=expensas_residenciales[mascara_sin_casas]\n",
    "null_exp_clean=expensas_deps_ph.isnull().sum()\n",
    "shape_exp_clean=expensas_deps_ph.shape\n",
    "pctje_null_exp_clean=null_exp_clean/shape_exp_clean[0]\n",
    "pctje_null_exp_clean\n",
    "type_deps_ph=df_residencial.property_type[mascara_sin_casas]\n",
    "type_deps_ph.value_counts()"
   ]
  },
  {
   "cell_type": "code",
   "execution_count": null,
   "metadata": {},
   "outputs": [],
   "source": [
    "expensas_deps_ph.isnull().sum()/expensas_deps_ph.shape[0]"
   ]
  },
  {
   "cell_type": "markdown",
   "metadata": {},
   "source": [
    "Probemos ahora sacando los nulos de rooms para tratar de aplicar un promedio del tamaño de las rooms"
   ]
  },
  {
   "cell_type": "code",
   "execution_count": null,
   "metadata": {},
   "outputs": [],
   "source": [
    "mask_rooms_no_nulas=data.rooms.notnull()\n",
    "rooms_no_nulas=data.rooms.loc[mask_rooms_no_nulas]\n",
    "sf_room_no_nulas=data.surface_covered_in_m2.loc[mask_rooms_no_nulas]\n",
    "df_rooms_clean=pd.DataFrame(rooms_no_nulas)\n",
    "df_rooms_clean['m2_covered']=sf_room_no_nulas\n",
    "mask_rooms_no_nulas.value_counts()"
   ]
  },
  {
   "cell_type": "code",
   "execution_count": null,
   "metadata": {},
   "outputs": [],
   "source": [
    "m2_nulos_rooms_clean=df_rooms_clean.m2_covered.isnull().sum()\n",
    "shape_rooms_clean=df_rooms_clean.shape\n",
    "pctje_nulos_rooms_clean=m2_nulos_rooms_clean/shape_rooms_clean[0]\n",
    "pctje_nulos_rooms_clean"
   ]
  },
  {
   "cell_type": "markdown",
   "metadata": {},
   "source": [
    "El pctje de m2 cubiertos es ligeramente menor, por lo que no hay mucha correlacion entre nulidad de rooms y nulidad de m2_covered\n",
    "Hay que inputar los m2 cubiertos faltantes antes de poder avanzar a tener un promedio de cuantos m2 tiene cada habitación\n",
    "Para imputar las rooms, me imagino hay que inputar promedio por tipo de propiedad, hace falta por barrio, o alguna caracteristica extra?? Para mi no hace falta"
   ]
  },
  {
   "cell_type": "markdown",
   "metadata": {},
   "source": [
    "# Recuperar datos de precio total en dolares"
   ]
  },
  {
   "cell_type": "markdown",
   "metadata": {},
   "source": [
    "### Nos centramos en este campo, por dos motivos. Sabiendo que la finalidad de esta limpieza es lograr obtener una base de datos con valores que me permitan luego armar un modelo que me ayude a determinar el valor de una propiedad, entendemos que el campo precio es el mas importante. Uno de los motivos por el cual nos centramos en el precio en dolares, es porque este campo no se ve influenciado por la inflación, por otro lado contamos con bastantes datos en la columna lo cual disminuye el error por supuestos o calculos mal hechos."
   ]
  },
  {
   "cell_type": "markdown",
   "metadata": {},
   "source": [
    "### 1-Extraer información con regex de columna descripción"
   ]
  },
  {
   "cell_type": "code",
   "execution_count": null,
   "metadata": {},
   "outputs": [],
   "source": []
  },
  {
   "cell_type": "markdown",
   "metadata": {},
   "source": [
    "### 2-comprobar si las columnas precio ARS y USD pueden matchear- listo"
   ]
  },
  {
   "cell_type": "code",
   "execution_count": null,
   "metadata": {},
   "outputs": [],
   "source": [
    "mask_ARS_empty=data[\"price_aprox_local_currency\"].isnull()\n",
    "mask_ARS_empty.value_counts()"
   ]
  },
  {
   "cell_type": "code",
   "execution_count": null,
   "metadata": {},
   "outputs": [],
   "source": [
    "mask_USD_empty=data[\"price_aprox_usd\"].isnull()\n",
    "mask_USD_empty.value_counts()"
   ]
  },
  {
   "cell_type": "code",
   "execution_count": null,
   "metadata": {},
   "outputs": [],
   "source": [
    "mask_precio_empty=mask_ARS_empty&mask_USD_empty\n",
    "data[mask_precio_empty].shape"
   ]
  },
  {
   "cell_type": "markdown",
   "metadata": {},
   "source": [
    "##### coinciden la cantidad de filas vacias en cada campo, por lo cual no es posible completar completar datos vacios de USD con ARS sacados de la columna \"price_aprox_local_currency\""
   ]
  },
  {
   "cell_type": "markdown",
   "metadata": {},
   "source": [
    "### 3-Determinar la variacion precio con rooms y superficie"
   ]
  },
  {
   "cell_type": "markdown",
   "metadata": {},
   "source": [
    "calculamos la correlacion entre variables"
   ]
  },
  {
   "cell_type": "code",
   "execution_count": null,
   "metadata": {},
   "outputs": [],
   "source": [
    "import matplotlib.pyplot as plt\n",
    "import seaborn as sns\n"
   ]
  },
  {
   "cell_type": "code",
   "execution_count": null,
   "metadata": {},
   "outputs": [],
   "source": [
    "df_surf_float = data[\"surface_total_in_m2\"].astype(float) \n",
    "df_room_float = data['rooms'].astype(float) \n",
    "df_price_float = data['price_aprox_usd'].astype(float) \n",
    "df_tipo = data['property_type']"
   ]
  },
  {
   "cell_type": "code",
   "execution_count": null,
   "metadata": {},
   "outputs": [],
   "source": [
    "data_tipo_usd_sup_room=pd.DataFrame((df_tipo,df_surf_float,df_room_float,df_price_float))\n",
    "data_tipo_usd_sup_room_T=data_tipo_usd_sup_room.T\n",
    "data_tipo_usd_sup_room_T.sample(10)"
   ]
  },
  {
   "cell_type": "code",
   "execution_count": null,
   "metadata": {},
   "outputs": [],
   "source": [
    "g = sns.PairGrid(data_tipo_usd_sup_room_T, vars=['property_type','surface_total_in_m2','rooms','price_aprox_usd'],hue='property_type', palette='deep')\n",
    "g.map(plt.scatter, alpha=0.6)\n",
    "g.add_legend()"
   ]
  },
  {
   "cell_type": "code",
   "execution_count": null,
   "metadata": {},
   "outputs": [],
   "source": []
  },
  {
   "cell_type": "markdown",
   "metadata": {},
   "source": [
    "#### Se puede ver una relacion entre precio tipo de departamento y superficie, no asi con la cantidad de habitaciones"
   ]
  },
  {
   "cell_type": "markdown",
   "metadata": {},
   "source": [
    "*nota: cambiar a data_limpia cuando arreglemos el problema de regex de esa columna para obtener datos no influenciados por los datos faltantes"
   ]
  },
  {
   "cell_type": "markdown",
   "metadata": {},
   "source": [
    "### 4-Calcular el precio total = Precio u$d/m2 * Superficie en base al punto anterior para las filas con datos faltantes"
   ]
  },
  {
   "cell_type": "markdown",
   "metadata": {},
   "source": [
    "#NOTA: EVALUAR ELIMINAR LOS VALORES Q NO SON PESOS ARGENTINOS PARA PODER HACER UNA CONVERSION DE TODOS LOS VALORES A USD - PENDIENTE"
   ]
  },
  {
   "cell_type": "markdown",
   "metadata": {},
   "source": [
    "Cálculo cambio entre ARS y USD "
   ]
  },
  {
   "cell_type": "code",
   "execution_count": null,
   "metadata": {},
   "outputs": [],
   "source": [
    "import numpy as np\n",
    "change = data['price_aprox_local_currency'] / data['price_aprox_usd']\n",
    "change.median()"
   ]
  }
 ],
 "metadata": {
  "kernelspec": {
   "display_name": "Python 3.10.4 ('DH')",
   "language": "python",
   "name": "python3"
  },
  "language_info": {
   "codemirror_mode": {
    "name": "ipython",
    "version": 3
   },
   "file_extension": ".py",
   "mimetype": "text/x-python",
   "name": "python",
   "nbconvert_exporter": "python",
   "pygments_lexer": "ipython3",
   "version": "3.10.4"
  },
  "orig_nbformat": 4,
  "vscode": {
   "interpreter": {
    "hash": "7ad4b00cfa812d91f92fb5dc88aa637f6cffee5ca8b01c2f389043adc33b2f6a"
   }
  }
 },
 "nbformat": 4,
 "nbformat_minor": 2
}
