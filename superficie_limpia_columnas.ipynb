{
 "cells": [
  {
   "cell_type": "markdown",
   "metadata": {},
   "source": [
    "RECORDAR DESZIPEAR PROPERATTI.ZIP"
   ]
  },
  {
   "cell_type": "code",
   "execution_count": 173,
   "metadata": {},
   "outputs": [],
   "source": [
    "import pandas as pd\n",
    "import numpy as np"
   ]
  },
  {
   "cell_type": "code",
   "execution_count": 174,
   "metadata": {},
   "outputs": [
    {
     "data": {
      "text/plain": [
       "(121220, 25)"
      ]
     },
     "execution_count": 174,
     "metadata": {},
     "output_type": "execute_result"
    }
   ],
   "source": [
    "data = pd.read_csv(\"./data/properatti.csv\", index_col=0)\n",
    "data.shape"
   ]
  },
  {
   "cell_type": "code",
   "execution_count": null,
   "metadata": {},
   "outputs": [],
   "source": [
    "data.dtypes"
   ]
  },
  {
   "cell_type": "markdown",
   "metadata": {},
   "source": [
    "### Veamos el tema de los m2 faltantes"
   ]
  },
  {
   "cell_type": "markdown",
   "metadata": {},
   "source": [
    "Primera cosa a tener en cuenta, los m2 covered tienen un pctje nulo del 16% y los totales tienen un pctje del 32%\n",
    "Price_per_m2 tiene un faltante del 28%\n",
    "Price usd per m2 tiene un faltante del 43%\n",
    "Todos las variantes de precios totales tienen un faltante aprox del 17%"
   ]
  },
  {
   "cell_type": "markdown",
   "metadata": {},
   "source": [
    "*JONI! te acordas a que haciamos referencia en este párrafo*"
   ]
  },
  {
   "cell_type": "markdown",
   "metadata": {},
   "source": [
    "# Verificar si existen filas con todos los datos faltantes"
   ]
  },
  {
   "cell_type": "code",
   "execution_count": null,
   "metadata": {},
   "outputs": [],
   "source": [
    "df_usd_m2 = data['price_usd_per_m2']\n",
    "mask_nan_uds_m2= df_usd_m2.isna()"
   ]
  },
  {
   "cell_type": "code",
   "execution_count": null,
   "metadata": {},
   "outputs": [],
   "source": [
    "mask_nan_sup_total=data[\"surface_total_in_m2\"].isna()\n",
    "mask_nan_sup_cubierta=data[\"surface_covered_in_m2\"].isna()\n",
    "mask_nan_rooms=data[\"rooms\"].isna()\n"
   ]
  },
  {
   "cell_type": "code",
   "execution_count": null,
   "metadata": {},
   "outputs": [],
   "source": [
    "mask_nan_columnas = (mask_nan_sup_total == True) & (mask_nan_sup_cubierta == True) &(mask_nan_rooms == True) &(mask_nan_uds_m2 == True) \n",
    "mask_nan_columnas.value_counts()"
   ]
  },
  {
   "cell_type": "markdown",
   "metadata": {},
   "source": [
    "#Nota: volver a revisar estos datos despues de haber completado todas las columnas con los datos extraidos del campo descripcion - inicial 8130"
   ]
  },
  {
   "cell_type": "markdown",
   "metadata": {},
   "source": [
    "## Columna Superficie"
   ]
  },
  {
   "cell_type": "markdown",
   "metadata": {},
   "source": [
    "## REVISAR CONSISTENCIA DE DATOS PARA LAS COLUMNAS SUP TOTAL Y CUBIERTA!"
   ]
  },
  {
   "cell_type": "code",
   "execution_count": 180,
   "metadata": {},
   "outputs": [],
   "source": [
    "mask_consistencia_sup = data[\"surface_total_in_m2\"] <= data[\"surface_covered_in_m2\"]"
   ]
  },
  {
   "cell_type": "code",
   "execution_count": 181,
   "metadata": {},
   "outputs": [
    {
     "data": {
      "text/html": [
       "<div>\n",
       "<style scoped>\n",
       "    .dataframe tbody tr th:only-of-type {\n",
       "        vertical-align: middle;\n",
       "    }\n",
       "\n",
       "    .dataframe tbody tr th {\n",
       "        vertical-align: top;\n",
       "    }\n",
       "\n",
       "    .dataframe thead th {\n",
       "        text-align: right;\n",
       "    }\n",
       "</style>\n",
       "<table border=\"1\" class=\"dataframe\">\n",
       "  <thead>\n",
       "    <tr style=\"text-align: right;\">\n",
       "      <th></th>\n",
       "      <th>operation</th>\n",
       "      <th>property_type</th>\n",
       "      <th>place_name</th>\n",
       "      <th>place_with_parent_names</th>\n",
       "      <th>country_name</th>\n",
       "      <th>state_name</th>\n",
       "      <th>geonames_id</th>\n",
       "      <th>lat-lon</th>\n",
       "      <th>lat</th>\n",
       "      <th>lon</th>\n",
       "      <th>...</th>\n",
       "      <th>surface_covered_in_m2</th>\n",
       "      <th>price_usd_per_m2</th>\n",
       "      <th>price_per_m2</th>\n",
       "      <th>floor</th>\n",
       "      <th>rooms</th>\n",
       "      <th>expenses</th>\n",
       "      <th>properati_url</th>\n",
       "      <th>description</th>\n",
       "      <th>title</th>\n",
       "      <th>image_thumbnail</th>\n",
       "    </tr>\n",
       "  </thead>\n",
       "  <tbody>\n",
       "    <tr>\n",
       "      <th>2</th>\n",
       "      <td>sell</td>\n",
       "      <td>apartment</td>\n",
       "      <td>Mataderos</td>\n",
       "      <td>|Argentina|Capital Federal|Mataderos|</td>\n",
       "      <td>Argentina</td>\n",
       "      <td>Capital Federal</td>\n",
       "      <td>3430787.0</td>\n",
       "      <td>-34.6522615,-58.5229825</td>\n",
       "      <td>-34.652262</td>\n",
       "      <td>-58.522982</td>\n",
       "      <td>...</td>\n",
       "      <td>55.0</td>\n",
       "      <td>1309.090909</td>\n",
       "      <td>1309.090909</td>\n",
       "      <td>NaN</td>\n",
       "      <td>NaN</td>\n",
       "      <td>NaN</td>\n",
       "      <td>http://www.properati.com.ar/15bod_venta_depart...</td>\n",
       "      <td>2 AMBIENTES 3ER PISO LATERAL LIVING COMEDOR AM...</td>\n",
       "      <td>2 AMB 3ER PISO CON ASCENSOR APTO CREDITO</td>\n",
       "      <td>https://thumbs4.properati.com/5/SXKr34F_IwG3W_...</td>\n",
       "    </tr>\n",
       "    <tr>\n",
       "      <th>4</th>\n",
       "      <td>sell</td>\n",
       "      <td>apartment</td>\n",
       "      <td>Centro</td>\n",
       "      <td>|Argentina|Buenos Aires Costa Atlántica|Mar de...</td>\n",
       "      <td>Argentina</td>\n",
       "      <td>Buenos Aires Costa Atlántica</td>\n",
       "      <td>3435548.0</td>\n",
       "      <td>-38.0026256,-57.5494468</td>\n",
       "      <td>-38.002626</td>\n",
       "      <td>-57.549447</td>\n",
       "      <td>...</td>\n",
       "      <td>35.0</td>\n",
       "      <td>1828.571429</td>\n",
       "      <td>1828.571429</td>\n",
       "      <td>NaN</td>\n",
       "      <td>NaN</td>\n",
       "      <td>NaN</td>\n",
       "      <td>http://www.properati.com.ar/15bok_venta_depart...</td>\n",
       "      <td>DEPARTAMENTO CON FANTÁSTICA ILUMINACIÓN NATURA...</td>\n",
       "      <td>DEPTO 2 AMB AL CONTRAFRENTE ZONA CENTRO/PLAZA ...</td>\n",
       "      <td>https://thumbs4.properati.com/5/xrRqlNcSI_vs-f...</td>\n",
       "    </tr>\n",
       "    <tr>\n",
       "      <th>18</th>\n",
       "      <td>sell</td>\n",
       "      <td>house</td>\n",
       "      <td>Tigre</td>\n",
       "      <td>|Argentina|Bs.As. G.B.A. Zona Norte|Tigre|</td>\n",
       "      <td>Argentina</td>\n",
       "      <td>Bs.As. G.B.A. Zona Norte</td>\n",
       "      <td>3427753.0</td>\n",
       "      <td>-34.425087,-58.5796585</td>\n",
       "      <td>-34.425087</td>\n",
       "      <td>-58.579659</td>\n",
       "      <td>...</td>\n",
       "      <td>270.0</td>\n",
       "      <td>2111.111111</td>\n",
       "      <td>2111.111111</td>\n",
       "      <td>NaN</td>\n",
       "      <td>NaN</td>\n",
       "      <td>NaN</td>\n",
       "      <td>http://www.properati.com.ar/15bq1_venta_casa_t...</td>\n",
       "      <td>Casa sobre lote al golf en barrio San Isidro L...</td>\n",
       "      <td>Casa en venta en barrio San Isidro Labrador, T...</td>\n",
       "      <td>https://thumbs4.properati.com/6/4N9cpurqmDMKEX...</td>\n",
       "    </tr>\n",
       "    <tr>\n",
       "      <th>20</th>\n",
       "      <td>sell</td>\n",
       "      <td>house</td>\n",
       "      <td>Villa Giardino</td>\n",
       "      <td>|Argentina|Córdoba|Villa Giardino|</td>\n",
       "      <td>Argentina</td>\n",
       "      <td>Córdoba</td>\n",
       "      <td>3832729.0</td>\n",
       "      <td>-31.0529852,-64.4991278</td>\n",
       "      <td>-31.052985</td>\n",
       "      <td>-64.499128</td>\n",
       "      <td>...</td>\n",
       "      <td>148.0</td>\n",
       "      <td>NaN</td>\n",
       "      <td>NaN</td>\n",
       "      <td>NaN</td>\n",
       "      <td>NaN</td>\n",
       "      <td>NaN</td>\n",
       "      <td>http://www.properati.com.ar/15bqb_venta_casa_v...</td>\n",
       "      <td>Consta de: Comedor-cocina, cuatro dormitorios ...</td>\n",
       "      <td>Casa con excelente ubicaciòn, calle asfaltada,...</td>\n",
       "      <td>https://thumbs4.properati.com/1/9Z3PZS2TK7olUo...</td>\n",
       "    </tr>\n",
       "    <tr>\n",
       "      <th>22</th>\n",
       "      <td>sell</td>\n",
       "      <td>house</td>\n",
       "      <td>General Rodríguez</td>\n",
       "      <td>|Argentina|Bs.As. G.B.A. Zona Oeste|General Ro...</td>\n",
       "      <td>Argentina</td>\n",
       "      <td>Bs.As. G.B.A. Zona Oeste</td>\n",
       "      <td>3433780.0</td>\n",
       "      <td>-34.6501160392,-58.9660339715</td>\n",
       "      <td>-34.650116</td>\n",
       "      <td>-58.966034</td>\n",
       "      <td>...</td>\n",
       "      <td>200.0</td>\n",
       "      <td>1450.000000</td>\n",
       "      <td>1450.000000</td>\n",
       "      <td>NaN</td>\n",
       "      <td>NaN</td>\n",
       "      <td>NaN</td>\n",
       "      <td>http://www.properati.com.ar/15bqj_venta_casa_g...</td>\n",
       "      <td>Edificada en 2 plantas. PB. amplio living con ...</td>\n",
       "      <td>CASA EN VENTA A ESTRENAR EN EL NACIONAL</td>\n",
       "      <td>https://thumbs4.properati.com/1/ggkK2Ie5nTWBtE...</td>\n",
       "    </tr>\n",
       "    <tr>\n",
       "      <th>...</th>\n",
       "      <td>...</td>\n",
       "      <td>...</td>\n",
       "      <td>...</td>\n",
       "      <td>...</td>\n",
       "      <td>...</td>\n",
       "      <td>...</td>\n",
       "      <td>...</td>\n",
       "      <td>...</td>\n",
       "      <td>...</td>\n",
       "      <td>...</td>\n",
       "      <td>...</td>\n",
       "      <td>...</td>\n",
       "      <td>...</td>\n",
       "      <td>...</td>\n",
       "      <td>...</td>\n",
       "      <td>...</td>\n",
       "      <td>...</td>\n",
       "      <td>...</td>\n",
       "      <td>...</td>\n",
       "      <td>...</td>\n",
       "      <td>...</td>\n",
       "    </tr>\n",
       "    <tr>\n",
       "      <th>121213</th>\n",
       "      <td>sell</td>\n",
       "      <td>house</td>\n",
       "      <td>Martínez</td>\n",
       "      <td>|Argentina|Bs.As. G.B.A. Zona Norte|San Isidro...</td>\n",
       "      <td>Argentina</td>\n",
       "      <td>Bs.As. G.B.A. Zona Norte</td>\n",
       "      <td>3430813.0</td>\n",
       "      <td>NaN</td>\n",
       "      <td>NaN</td>\n",
       "      <td>NaN</td>\n",
       "      <td>...</td>\n",
       "      <td>600.0</td>\n",
       "      <td>NaN</td>\n",
       "      <td>NaN</td>\n",
       "      <td>NaN</td>\n",
       "      <td>NaN</td>\n",
       "      <td>NaN</td>\n",
       "      <td>http://www.properati.com.ar/1cja0_venta_casa_m...</td>\n",
       "      <td>EXCELENTE casa en Martinez. Inmejorable ubicai...</td>\n",
       "      <td>Casa - Martinez</td>\n",
       "      <td>https://thumbs4.properati.com/8/v0Il0v9Key--5Z...</td>\n",
       "    </tr>\n",
       "    <tr>\n",
       "      <th>121214</th>\n",
       "      <td>sell</td>\n",
       "      <td>store</td>\n",
       "      <td>San Isidro</td>\n",
       "      <td>|Argentina|Bs.As. G.B.A. Zona Norte|San Isidro|</td>\n",
       "      <td>Argentina</td>\n",
       "      <td>Bs.As. G.B.A. Zona Norte</td>\n",
       "      <td>3428983.0</td>\n",
       "      <td>NaN</td>\n",
       "      <td>NaN</td>\n",
       "      <td>NaN</td>\n",
       "      <td>...</td>\n",
       "      <td>123.0</td>\n",
       "      <td>NaN</td>\n",
       "      <td>NaN</td>\n",
       "      <td>NaN</td>\n",
       "      <td>NaN</td>\n",
       "      <td>NaN</td>\n",
       "      <td>http://www.properati.com.ar/1cja1_venta_local_...</td>\n",
       "      <td>***VENTA CON RENTA***Local en EDIFICIO lomas ...</td>\n",
       "      <td>Local - San Isidro</td>\n",
       "      <td>https://thumbs4.properati.com/7/R-j0JiSePtAriH...</td>\n",
       "    </tr>\n",
       "    <tr>\n",
       "      <th>121216</th>\n",
       "      <td>sell</td>\n",
       "      <td>house</td>\n",
       "      <td>Beccar</td>\n",
       "      <td>|Argentina|Bs.As. G.B.A. Zona Norte|San Isidro...</td>\n",
       "      <td>Argentina</td>\n",
       "      <td>Bs.As. G.B.A. Zona Norte</td>\n",
       "      <td>3436080.0</td>\n",
       "      <td>NaN</td>\n",
       "      <td>NaN</td>\n",
       "      <td>NaN</td>\n",
       "      <td>...</td>\n",
       "      <td>360.0</td>\n",
       "      <td>1383.333333</td>\n",
       "      <td>1383.333333</td>\n",
       "      <td>NaN</td>\n",
       "      <td>NaN</td>\n",
       "      <td>NaN</td>\n",
       "      <td>http://www.properati.com.ar/1cja6_venta_casa_b...</td>\n",
       "      <td>Excelente e impecable casa en Venta en Las Lom...</td>\n",
       "      <td>Ruca Inmuebles | Venta | Lomas de San Isidro |...</td>\n",
       "      <td>https://thumbs4.properati.com/2/PCc3WuQDjpNZc4...</td>\n",
       "    </tr>\n",
       "    <tr>\n",
       "      <th>121218</th>\n",
       "      <td>sell</td>\n",
       "      <td>apartment</td>\n",
       "      <td>Plaza Colón</td>\n",
       "      <td>|Argentina|Buenos Aires Costa Atlántica|Mar de...</td>\n",
       "      <td>Argentina</td>\n",
       "      <td>Buenos Aires Costa Atlántica</td>\n",
       "      <td>NaN</td>\n",
       "      <td>NaN</td>\n",
       "      <td>NaN</td>\n",
       "      <td>NaN</td>\n",
       "      <td>...</td>\n",
       "      <td>48.0</td>\n",
       "      <td>1997.916667</td>\n",
       "      <td>1997.916667</td>\n",
       "      <td>NaN</td>\n",
       "      <td>NaN</td>\n",
       "      <td>NaN</td>\n",
       "      <td>http://www.properati.com.ar/1cja8_venta_depart...</td>\n",
       "      <td>2 Amb al contrafrente,  luminoso. El departame...</td>\n",
       "      <td>2 amb. C/ dep. de servicio al contrafrente| Re...</td>\n",
       "      <td>https://thumbs4.properati.com/8/Q12PTvU6BQJ0ib...</td>\n",
       "    </tr>\n",
       "    <tr>\n",
       "      <th>121219</th>\n",
       "      <td>sell</td>\n",
       "      <td>apartment</td>\n",
       "      <td>Capital Federal</td>\n",
       "      <td>|Argentina|Capital Federal|</td>\n",
       "      <td>Argentina</td>\n",
       "      <td>Capital Federal</td>\n",
       "      <td>3433955.0</td>\n",
       "      <td>NaN</td>\n",
       "      <td>NaN</td>\n",
       "      <td>NaN</td>\n",
       "      <td>...</td>\n",
       "      <td>77.0</td>\n",
       "      <td>1675.324675</td>\n",
       "      <td>1675.324675</td>\n",
       "      <td>NaN</td>\n",
       "      <td>NaN</td>\n",
       "      <td>3500.0</td>\n",
       "      <td>http://www.properati.com.ar/1cjaa_venta_depart...</td>\n",
       "      <td>Departamento de 77 m2 apto profesional. Edific...</td>\n",
       "      <td>Departamento apto profesional en el Centro</td>\n",
       "      <td>https://thumbs4.properati.com/8/mNEsnQWqB7joBF...</td>\n",
       "    </tr>\n",
       "  </tbody>\n",
       "</table>\n",
       "<p>25279 rows × 25 columns</p>\n",
       "</div>"
      ],
      "text/plain": [
       "       operation property_type         place_name  \\\n",
       "2           sell     apartment          Mataderos   \n",
       "4           sell     apartment             Centro   \n",
       "18          sell         house              Tigre   \n",
       "20          sell         house     Villa Giardino   \n",
       "22          sell         house  General Rodríguez   \n",
       "...          ...           ...                ...   \n",
       "121213      sell         house           Martínez   \n",
       "121214      sell         store         San Isidro   \n",
       "121216      sell         house             Beccar   \n",
       "121218      sell     apartment        Plaza Colón   \n",
       "121219      sell     apartment    Capital Federal   \n",
       "\n",
       "                                  place_with_parent_names country_name  \\\n",
       "2                   |Argentina|Capital Federal|Mataderos|    Argentina   \n",
       "4       |Argentina|Buenos Aires Costa Atlántica|Mar de...    Argentina   \n",
       "18             |Argentina|Bs.As. G.B.A. Zona Norte|Tigre|    Argentina   \n",
       "20                     |Argentina|Córdoba|Villa Giardino|    Argentina   \n",
       "22      |Argentina|Bs.As. G.B.A. Zona Oeste|General Ro...    Argentina   \n",
       "...                                                   ...          ...   \n",
       "121213  |Argentina|Bs.As. G.B.A. Zona Norte|San Isidro...    Argentina   \n",
       "121214    |Argentina|Bs.As. G.B.A. Zona Norte|San Isidro|    Argentina   \n",
       "121216  |Argentina|Bs.As. G.B.A. Zona Norte|San Isidro...    Argentina   \n",
       "121218  |Argentina|Buenos Aires Costa Atlántica|Mar de...    Argentina   \n",
       "121219                        |Argentina|Capital Federal|    Argentina   \n",
       "\n",
       "                          state_name  geonames_id  \\\n",
       "2                    Capital Federal    3430787.0   \n",
       "4       Buenos Aires Costa Atlántica    3435548.0   \n",
       "18          Bs.As. G.B.A. Zona Norte    3427753.0   \n",
       "20                           Córdoba    3832729.0   \n",
       "22          Bs.As. G.B.A. Zona Oeste    3433780.0   \n",
       "...                              ...          ...   \n",
       "121213      Bs.As. G.B.A. Zona Norte    3430813.0   \n",
       "121214      Bs.As. G.B.A. Zona Norte    3428983.0   \n",
       "121216      Bs.As. G.B.A. Zona Norte    3436080.0   \n",
       "121218  Buenos Aires Costa Atlántica          NaN   \n",
       "121219               Capital Federal    3433955.0   \n",
       "\n",
       "                              lat-lon        lat        lon  ...  \\\n",
       "2             -34.6522615,-58.5229825 -34.652262 -58.522982  ...   \n",
       "4             -38.0026256,-57.5494468 -38.002626 -57.549447  ...   \n",
       "18             -34.425087,-58.5796585 -34.425087 -58.579659  ...   \n",
       "20            -31.0529852,-64.4991278 -31.052985 -64.499128  ...   \n",
       "22      -34.6501160392,-58.9660339715 -34.650116 -58.966034  ...   \n",
       "...                               ...        ...        ...  ...   \n",
       "121213                            NaN        NaN        NaN  ...   \n",
       "121214                            NaN        NaN        NaN  ...   \n",
       "121216                            NaN        NaN        NaN  ...   \n",
       "121218                            NaN        NaN        NaN  ...   \n",
       "121219                            NaN        NaN        NaN  ...   \n",
       "\n",
       "        surface_covered_in_m2 price_usd_per_m2  price_per_m2  floor  rooms  \\\n",
       "2                        55.0      1309.090909   1309.090909    NaN    NaN   \n",
       "4                        35.0      1828.571429   1828.571429    NaN    NaN   \n",
       "18                      270.0      2111.111111   2111.111111    NaN    NaN   \n",
       "20                      148.0              NaN           NaN    NaN    NaN   \n",
       "22                      200.0      1450.000000   1450.000000    NaN    NaN   \n",
       "...                       ...              ...           ...    ...    ...   \n",
       "121213                  600.0              NaN           NaN    NaN    NaN   \n",
       "121214                  123.0              NaN           NaN    NaN    NaN   \n",
       "121216                  360.0      1383.333333   1383.333333    NaN    NaN   \n",
       "121218                   48.0      1997.916667   1997.916667    NaN    NaN   \n",
       "121219                   77.0      1675.324675   1675.324675    NaN    NaN   \n",
       "\n",
       "        expenses                                      properati_url  \\\n",
       "2            NaN  http://www.properati.com.ar/15bod_venta_depart...   \n",
       "4            NaN  http://www.properati.com.ar/15bok_venta_depart...   \n",
       "18           NaN  http://www.properati.com.ar/15bq1_venta_casa_t...   \n",
       "20           NaN  http://www.properati.com.ar/15bqb_venta_casa_v...   \n",
       "22           NaN  http://www.properati.com.ar/15bqj_venta_casa_g...   \n",
       "...          ...                                                ...   \n",
       "121213       NaN  http://www.properati.com.ar/1cja0_venta_casa_m...   \n",
       "121214       NaN  http://www.properati.com.ar/1cja1_venta_local_...   \n",
       "121216       NaN  http://www.properati.com.ar/1cja6_venta_casa_b...   \n",
       "121218       NaN  http://www.properati.com.ar/1cja8_venta_depart...   \n",
       "121219    3500.0  http://www.properati.com.ar/1cjaa_venta_depart...   \n",
       "\n",
       "                                              description  \\\n",
       "2       2 AMBIENTES 3ER PISO LATERAL LIVING COMEDOR AM...   \n",
       "4       DEPARTAMENTO CON FANTÁSTICA ILUMINACIÓN NATURA...   \n",
       "18      Casa sobre lote al golf en barrio San Isidro L...   \n",
       "20      Consta de: Comedor-cocina, cuatro dormitorios ...   \n",
       "22      Edificada en 2 plantas. PB. amplio living con ...   \n",
       "...                                                   ...   \n",
       "121213  EXCELENTE casa en Martinez. Inmejorable ubicai...   \n",
       "121214   ***VENTA CON RENTA***Local en EDIFICIO lomas ...   \n",
       "121216  Excelente e impecable casa en Venta en Las Lom...   \n",
       "121218  2 Amb al contrafrente,  luminoso. El departame...   \n",
       "121219  Departamento de 77 m2 apto profesional. Edific...   \n",
       "\n",
       "                                                    title  \\\n",
       "2                2 AMB 3ER PISO CON ASCENSOR APTO CREDITO   \n",
       "4       DEPTO 2 AMB AL CONTRAFRENTE ZONA CENTRO/PLAZA ...   \n",
       "18      Casa en venta en barrio San Isidro Labrador, T...   \n",
       "20      Casa con excelente ubicaciòn, calle asfaltada,...   \n",
       "22                CASA EN VENTA A ESTRENAR EN EL NACIONAL   \n",
       "...                                                   ...   \n",
       "121213                                    Casa - Martinez   \n",
       "121214                                 Local - San Isidro   \n",
       "121216  Ruca Inmuebles | Venta | Lomas de San Isidro |...   \n",
       "121218  2 amb. C/ dep. de servicio al contrafrente| Re...   \n",
       "121219         Departamento apto profesional en el Centro   \n",
       "\n",
       "                                          image_thumbnail  \n",
       "2       https://thumbs4.properati.com/5/SXKr34F_IwG3W_...  \n",
       "4       https://thumbs4.properati.com/5/xrRqlNcSI_vs-f...  \n",
       "18      https://thumbs4.properati.com/6/4N9cpurqmDMKEX...  \n",
       "20      https://thumbs4.properati.com/1/9Z3PZS2TK7olUo...  \n",
       "22      https://thumbs4.properati.com/1/ggkK2Ie5nTWBtE...  \n",
       "...                                                   ...  \n",
       "121213  https://thumbs4.properati.com/8/v0Il0v9Key--5Z...  \n",
       "121214  https://thumbs4.properati.com/7/R-j0JiSePtAriH...  \n",
       "121216  https://thumbs4.properati.com/2/PCc3WuQDjpNZc4...  \n",
       "121218  https://thumbs4.properati.com/8/Q12PTvU6BQJ0ib...  \n",
       "121219  https://thumbs4.properati.com/8/mNEsnQWqB7joBF...  \n",
       "\n",
       "[25279 rows x 25 columns]"
      ]
     },
     "execution_count": 181,
     "metadata": {},
     "output_type": "execute_result"
    }
   ],
   "source": [
    "data[mask_consistencia_sup]"
   ]
  },
  {
   "cell_type": "markdown",
   "metadata": {},
   "source": [
    "#### 1- detectar de outliers"
   ]
  },
  {
   "cell_type": "code",
   "execution_count": null,
   "metadata": {},
   "outputs": [],
   "source": [
    "import matplotlib.pyplot as plt\n",
    "import seaborn as sns"
   ]
  },
  {
   "cell_type": "code",
   "execution_count": null,
   "metadata": {},
   "outputs": [],
   "source": [
    "data.boxplot(column= \"surface_total_in_m2\", by=\"property_type\") \n",
    "plt.show()"
   ]
  },
  {
   "cell_type": "markdown",
   "metadata": {},
   "source": [
    "se detectan outliers para superficies mayores a 75000 m2."
   ]
  },
  {
   "cell_type": "markdown",
   "metadata": {},
   "source": [
    "##### VER SI ELIMINAMOS OUTLIERS!!!!"
   ]
  },
  {
   "cell_type": "markdown",
   "metadata": {},
   "source": [
    "#### 2-Recuperar informacion faltante a través de regex de la columna descripción"
   ]
  },
  {
   "cell_type": "code",
   "execution_count": null,
   "metadata": {},
   "outputs": [],
   "source": [
    "import re"
   ]
  },
  {
   "cell_type": "code",
   "execution_count": null,
   "metadata": {},
   "outputs": [],
   "source": [
    "serie_descripcion = data[\"description\"]"
   ]
  },
  {
   "cell_type": "code",
   "execution_count": null,
   "metadata": {},
   "outputs": [],
   "source": [
    "pattern_sup_m2 = \"(?P<sup>\\d{2,}(,|.\\d+)?)\\s*(m2|metros|mts)\"\n",
    "pattern_sup_m2_regex = re.compile(pattern_sup_m2,  re.IGNORECASE)"
   ]
  },
  {
   "cell_type": "code",
   "execution_count": null,
   "metadata": {},
   "outputs": [],
   "source": [
    "import numpy as np\n",
    "sup_match = serie_descripcion.apply(lambda x: x if x is np.NaN else pattern_sup_m2_regex.search(x))\n"
   ]
  },
  {
   "cell_type": "code",
   "execution_count": null,
   "metadata": {},
   "outputs": [],
   "source": [
    "sup_match.sample(10)"
   ]
  },
  {
   "cell_type": "code",
   "execution_count": null,
   "metadata": {},
   "outputs": [],
   "source": [
    "mask_sup_match_notnull= sup_match.notnull()\n",
    "\n",
    "data.loc[mask_sup_match_notnull, \"Sup_m2_Clean\"] = sup_match[mask_sup_match_notnull].apply(lambda x: x.group(\"sup\"))\n"
   ]
  },
  {
   "cell_type": "code",
   "execution_count": null,
   "metadata": {},
   "outputs": [],
   "source": [
    "#data.loc[mask_sup_match_notnull, [\"surface_total_in_m2\", \"surface_covered_in_m2\", \"Sup_m2_Clean\"]]----para borrar"
   ]
  },
  {
   "cell_type": "code",
   "execution_count": null,
   "metadata": {},
   "outputs": [],
   "source": [
    "serie_sup_m2_clean=data[\"Sup_m2_Clean\"]"
   ]
  },
  {
   "cell_type": "code",
   "execution_count": null,
   "metadata": {},
   "outputs": [],
   "source": [
    "print(serie_sup_m2_clean.notnull().sum())\n",
    "serie_sup_m2_clean.isnull().sum()"
   ]
  },
  {
   "cell_type": "code",
   "execution_count": null,
   "metadata": {},
   "outputs": [],
   "source": [
    "#SE ARREGLAN ERRORES DE COLUMNA DE REGEX PARA PODER SER UTILIZADOS EN ESTADISTICA\n",
    "\n",
    "pattern_sup_m2_dos=\"(?P<supdos>\\d{2,})\"\n",
    "pattern_sup_m2_regex_dos=re.compile(pattern_sup_m2_dos)\n",
    "sup_match_dos = serie_sup_m2_clean.apply(lambda x: x if x is np.NaN else pattern_sup_m2_regex_dos.search(x))\n",
    "mask_sup_match_notnull_dos= sup_match_dos.notnull()\n",
    "data.loc[mask_sup_match_notnull_dos, \"Sup_m2_Clean_dos\"] = sup_match_dos[mask_sup_match_notnull_dos].apply(lambda x: x.group(\"supdos\"))\n",
    "data[\"Sup_m2_Clean_dos\"].median()\n"
   ]
  },
  {
   "cell_type": "markdown",
   "metadata": {},
   "source": [
    "##### Se supone que para PH, apartments y store la superficie cubierta es la misma que la superficie total, *se descarta house entendiendo que estas pueden contar con \"patio\". con estos datos se reemplazan los valores faltantes(no lo pude separar -VER!!!!*. PASAR PARA ARRIBA para dar orden al analisis"
   ]
  },
  {
   "cell_type": "code",
   "execution_count": null,
   "metadata": {},
   "outputs": [],
   "source": [
    "data_limpia= data\n"
   ]
  },
  {
   "cell_type": "code",
   "execution_count": null,
   "metadata": {},
   "outputs": [],
   "source": [
    "data_limpia[\"sup_m2_total_limpia\"] = data_limpia[\"surface_total_in_m2\"]"
   ]
  },
  {
   "cell_type": "code",
   "execution_count": null,
   "metadata": {},
   "outputs": [],
   "source": [
    "data_key_not_null_mask = np.logical_and(data.property_type.notnull(), data.surface_covered_in_m2.notnull())\n",
    "data_key_not_null = data.loc[data_key_not_null_mask, :]\n",
    "data_key_not_null.shape"
   ]
  },
  {
   "cell_type": "code",
   "execution_count": null,
   "metadata": {},
   "outputs": [],
   "source": [
    "data_key_not_null_grouped_tipo_sup= data_key_not_null.groupby([\"property_type\", \"surface_covered_in_m2\"])\n"
   ]
  },
  {
   "cell_type": "code",
   "execution_count": null,
   "metadata": {},
   "outputs": [],
   "source": [
    "data_fillna= data_key_not_null_grouped_tipo_sup[\"surface_total_in_m2\"].transform(lambda grp: grp.fillna(grp.mean()))\n",
    "data_fillna"
   ]
  },
  {
   "cell_type": "code",
   "execution_count": null,
   "metadata": {},
   "outputs": [],
   "source": [
    "data_limpia[\"sup_m2_total_limpia\"].fillna(data_fillna,inplace=True)\n",
    "#data_limpia.loc[mask_sup_match_notnull, [\"surface_total_in_m2\", \"sup_m2_total_limpia\", \"property_type\"]]"
   ]
  },
  {
   "cell_type": "code",
   "execution_count": null,
   "metadata": {},
   "outputs": [],
   "source": [
    "data_limpia[\"sup_m2_total_limpia\"].isnull().sum()"
   ]
  },
  {
   "cell_type": "markdown",
   "metadata": {},
   "source": [
    "### se adicionan los datos obtenidos de la columna descripcion."
   ]
  },
  {
   "cell_type": "code",
   "execution_count": null,
   "metadata": {},
   "outputs": [],
   "source": [
    "data_limpia[\"sup_m2_total_limpia\"].fillna(data_limpia[\"Sup_m2_Clean_dos\"],inplace=True)"
   ]
  },
  {
   "cell_type": "code",
   "execution_count": null,
   "metadata": {},
   "outputs": [],
   "source": [
    "data_limpia[\"sup_m2_total_limpia\"].isnull().sum()/data[\"surface_total_in_m2\"].isnull().sum()*100"
   ]
  },
  {
   "cell_type": "markdown",
   "metadata": {},
   "source": [
    "### se recupera el 23% de la informacion faltante al suponer superficie cubierta como superficie total y al extraer informacion con metodo regex de la columna descripción \n"
   ]
  },
  {
   "cell_type": "code",
   "execution_count": null,
   "metadata": {},
   "outputs": [],
   "source": [
    "data_limpia[\"sup_m2_total_limpia\"].isnull().sum()/data_limpia.shape[0]*100"
   ]
  },
  {
   "cell_type": "markdown",
   "metadata": {},
   "source": [
    "#### se redujo de 17% a 7.6% la información faltante."
   ]
  },
  {
   "cell_type": "markdown",
   "metadata": {},
   "source": [
    "# Para los datos faltantes en la columna de interés, se desea agrupar por tipo de propiedad para sacar la mediana de los m2 totales y estratificar los valores. de esta manera podriamos tener los datos completos. REVISAR SI ES NECESARIO"
   ]
  },
  {
   "cell_type": "markdown",
   "metadata": {},
   "source": [
    "# Columna Rooms"
   ]
  },
  {
   "cell_type": "markdown",
   "metadata": {},
   "source": [
    "### Revisar relacion precio vs rooms. comparar propiedades similares con distinta cantidad de rooms para ver si varia sustancialmente el precio - PENDIENTE"
   ]
  },
  {
   "cell_type": "code",
   "execution_count": null,
   "metadata": {},
   "outputs": [],
   "source": [
    "## Arranco por los monoambientes\n",
    "#pattern_mono='(?P<sup>\\d{2,}(,|.\\d+)?)\\s*(mono)\\S+?'\n",
    "pattern_mono='(mono)|(mono\\s+\\w+)|(mono\\.+\\w+)|(mono\\-+\\w+)|(mono\\w+)'\n",
    "pattern_mono_regex=re.compile(pattern_mono,re.IGNORECASE)"
   ]
  },
  {
   "cell_type": "code",
   "execution_count": null,
   "metadata": {},
   "outputs": [],
   "source": [
    "serie_mono_descripcion=data['description']\n",
    "mono_match = serie_mono_descripcion.apply(lambda x: x if x is np.NaN else pattern_mono_regex.search(x))\n",
    "#sup_match = serie_descripcion.apply(lambda x: x if x is np.NaN else pattern_sup_m2_regex.search(x))\n"
   ]
  },
  {
   "cell_type": "code",
   "execution_count": null,
   "metadata": {},
   "outputs": [],
   "source": [
    "mask_mono_match=mono_match.notnull()\n",
    "col_mono_prueba_nulos=mono_match[mask_mono_match]\n",
    "col_mono_prueba_nulos.shape"
   ]
  },
  {
   "cell_type": "code",
   "execution_count": null,
   "metadata": {},
   "outputs": [],
   "source": [
    "data.loc[mask_mono_match,'Ambientes_Clean']= 1"
   ]
  },
  {
   "cell_type": "markdown",
   "metadata": {},
   "source": [
    "#### Ahora me enfoco en todos los departamentos que no sean monos, uso por ahora ambientes, para evitar confusiones con dormitorios y habitaciones"
   ]
  },
  {
   "cell_type": "code",
   "execution_count": null,
   "metadata": {},
   "outputs": [],
   "source": [
    "#pattern_rooms= \"(?P<dorm>\\d+.?Dorm|\\d+.?dorm|\\d+.?DORM|\\d+.?AMB|\\d+.?Amb|\\d+.?amb|\\d+.?hab|\\d+.?HAB|\\d+.?Hab|monoamb)\"\n",
    "#pattern_rooms= \"(?P<dorm>\\d{2,}(,|.\\d+)?)\\s*(Dorm|amb|monoamb).?Dorm|\\d+.?dorm|\\d+.?DORM|\\d+.?AMB|\\d+.?Amb|\\d+.?amb|\\d+.?hab|\\d+.?HAB|\\d+.?Hab|monoamb)\"\n",
    "#\"(?P<sup>\\d{2,}(,|.\\d+)?)\\s*(m2|metros|mts)\"(mono)|(mono\\s+\\w+)|(mono\\.+\\w+)|(mono\\-+\\w+)|(mono\\w+)\n",
    "#\"(?P<sup>\\d{2,}(,|.\\d+)?)\\s*(m2|metros|mts)\"\n",
    "pattern_ambs=\"(?P<num>\\d)\\s*(\\samb\\w*\\s)\"\n",
    "pattern_ambs_regex=re.compile(pattern_ambs,re.IGNORECASE)"
   ]
  },
  {
   "cell_type": "code",
   "execution_count": null,
   "metadata": {},
   "outputs": [],
   "source": [
    "mask_mono_nulo=mono_match.isnull()\n",
    "col_mono_nulo=mono_match[mask_mono_nulo]\n",
    "pattern_ambs_match=serie_descripcion.apply(lambda x: x if x is np.NaN else pattern_ambs_regex.search(x))"
   ]
  },
  {
   "cell_type": "code",
   "execution_count": null,
   "metadata": {},
   "outputs": [],
   "source": [
    "type(pattern_ambs_match)"
   ]
  },
  {
   "cell_type": "code",
   "execution_count": null,
   "metadata": {},
   "outputs": [],
   "source": [
    "#data.loc[mask_mono_nulo, \"Ambientes_Clean\"] = pattern_ambs_match[mask_mono_nulo].apply(lambda x: x.group(0))\n",
    "pattern_ambs_match_2=pattern_ambs_match.apply(lambda x: x[0])"
   ]
  },
  {
   "cell_type": "code",
   "execution_count": null,
   "metadata": {},
   "outputs": [],
   "source": []
  },
  {
   "cell_type": "code",
   "execution_count": null,
   "metadata": {},
   "outputs": [],
   "source": [
    "pattern_rooms_regex=re.compile(pattern_rooms)"
   ]
  },
  {
   "cell_type": "code",
   "execution_count": null,
   "metadata": {},
   "outputs": [],
   "source": [
    "room_match = serie_descripcion.apply(lambda x: x if x is np.NaN else pattern_rooms_regex.search(x))"
   ]
  },
  {
   "cell_type": "code",
   "execution_count": null,
   "metadata": {},
   "outputs": [],
   "source": [
    "room_match.sample(10)"
   ]
  },
  {
   "cell_type": "code",
   "execution_count": null,
   "metadata": {},
   "outputs": [],
   "source": [
    "mask_rooms_notnull= room_match.notnull()\n",
    "\n",
    "data.loc[mask_rooms_notnull, \"rooms_clean\"] = room_match[mask_rooms_notnull].apply(lambda x: x.group(0))\n"
   ]
  },
  {
   "cell_type": "code",
   "execution_count": null,
   "metadata": {},
   "outputs": [],
   "source": [
    "serie_rooms_clean=data[\"rooms_clean\"]\n",
    "serie_rooms_clean.sample(5)\n"
   ]
  },
  {
   "cell_type": "markdown",
   "metadata": {},
   "source": [
    "### se saca la parte entera del str"
   ]
  },
  {
   "cell_type": "code",
   "execution_count": null,
   "metadata": {},
   "outputs": [],
   "source": [
    "pattern_rooms_dos=\"(?P<dorm_dos>\\d+.?)\"\n",
    "pattern_rooms_regex_dos=re.compile(pattern_rooms_dos)\n",
    "room_match_dos = serie_rooms_clean.apply(lambda x: x if x is np.NaN else pattern_rooms_regex_dos.search(x))\n",
    "room_match_dos.sample(10)"
   ]
  },
  {
   "cell_type": "code",
   "execution_count": null,
   "metadata": {},
   "outputs": [],
   "source": [
    "mask_room_match_notnull_dos= room_match_dos.notnull()\n",
    "\n",
    "data.loc[mask_room_match_notnull_dos,\"rooms_clean_dos\"] = room_match_dos[mask_room_match_notnull_dos].apply(lambda x: x.group(0))"
   ]
  },
  {
   "cell_type": "code",
   "execution_count": null,
   "metadata": {},
   "outputs": [],
   "source": [
    "data.loc[mask_room_match_notnull_dos, [\"rooms\", \"rooms_clean_dos\"]]"
   ]
  },
  {
   "cell_type": "code",
   "execution_count": null,
   "metadata": {},
   "outputs": [],
   "source": [
    "data_limpia[\"rooms\"].fillna(data_limpia[\"rooms_clean_dos\"],inplace=True)\n",
    "data_limpia"
   ]
  },
  {
   "cell_type": "markdown",
   "metadata": {},
   "source": [
    "% de info recuperada = 46%"
   ]
  },
  {
   "cell_type": "code",
   "execution_count": null,
   "metadata": {},
   "outputs": [],
   "source": [
    "data_limpia[\"rooms\"].isnull().sum()/data[\"rooms\"].isnull().sum()*100"
   ]
  },
  {
   "cell_type": "code",
   "execution_count": null,
   "metadata": {},
   "outputs": [],
   "source": [
    "mask_residencial= data.property_type != 'store'\n",
    "tipos_residenciales=data.property_type[mask_residencial]\n",
    "rooms_residenciales=data.rooms[mask_residencial]\n",
    "df_residencial=pd.DataFrame(tipos_residenciales)\n",
    "df_residencial['rooms']=rooms_residenciales"
   ]
  },
  {
   "cell_type": "markdown",
   "metadata": {},
   "source": [
    "##### Intentamos ver si los datos faltantes de rooms disminuyen si descontamos las tiendas"
   ]
  },
  {
   "cell_type": "code",
   "execution_count": null,
   "metadata": {},
   "outputs": [],
   "source": [
    "data.rooms.value_counts()"
   ]
  },
  {
   "cell_type": "code",
   "execution_count": null,
   "metadata": {},
   "outputs": [],
   "source": [
    "shape_df=df_residencial.shape\n",
    "count_res=shape_df[0]\n"
   ]
  },
  {
   "cell_type": "code",
   "execution_count": null,
   "metadata": {},
   "outputs": [],
   "source": [
    "nulos_room=df_residencial.rooms.isna().sum(axis=0)\n",
    "pctje_nulos_rooms=nulos_room/count_res\n",
    "pctje_nulos_rooms"
   ]
  },
  {
   "cell_type": "markdown",
   "metadata": {},
   "source": [
    "Veamos cuantas rooms tienen las tiendas"
   ]
  },
  {
   "cell_type": "code",
   "execution_count": null,
   "metadata": {},
   "outputs": [],
   "source": [
    "mask_comercial= data.property_type == 'store'\n",
    "tipos_comerciales=data.property_type[mask_comercial]\n",
    "rooms_comerciales=data.rooms[mask_comercial]\n",
    "df_comercial=pd.DataFrame(tipos_comerciales)\n",
    "df_comercial['rooms']=rooms_comerciales\n",
    "df_comercial.rooms.value_counts()"
   ]
  },
  {
   "cell_type": "markdown",
   "metadata": {},
   "source": [
    "#### Recordemos que el porcentaje original de nulos era similar, "
   ]
  },
  {
   "cell_type": "markdown",
   "metadata": {},
   "source": [
    "Veamos si los faltantes de expensas disminuyen sacando tiendas y casas"
   ]
  },
  {
   "cell_type": "code",
   "execution_count": null,
   "metadata": {},
   "outputs": [],
   "source": [
    "mascara_sin_casas=df_residencial.property_type !='house'\n",
    "expensas_residenciales=data.expenses[mask_residencial]\n",
    "df_residencial['expenses']=expensas_residenciales\n",
    "expensas_deps_ph=expensas_residenciales[mascara_sin_casas]\n",
    "null_exp_clean=expensas_deps_ph.isnull().sum()\n",
    "shape_exp_clean=expensas_deps_ph.shape\n",
    "pctje_null_exp_clean=null_exp_clean/shape_exp_clean[0]\n",
    "pctje_null_exp_clean\n",
    "type_deps_ph=df_residencial.property_type[mascara_sin_casas]\n",
    "type_deps_ph.value_counts()"
   ]
  },
  {
   "cell_type": "code",
   "execution_count": null,
   "metadata": {},
   "outputs": [],
   "source": [
    "expensas_deps_ph.isnull().sum()/expensas_deps_ph.shape[0]"
   ]
  },
  {
   "cell_type": "markdown",
   "metadata": {},
   "source": [
    "Probemos ahora sacando los nulos de rooms para tratar de aplicar un promedio del tamaño de las rooms"
   ]
  },
  {
   "cell_type": "code",
   "execution_count": null,
   "metadata": {},
   "outputs": [],
   "source": [
    "mask_rooms_no_nulas=data.rooms.notnull()\n",
    "rooms_no_nulas=data.rooms.loc[mask_rooms_no_nulas]\n",
    "sf_room_no_nulas=data.surface_covered_in_m2.loc[mask_rooms_no_nulas]\n",
    "df_rooms_clean=pd.DataFrame(rooms_no_nulas)\n",
    "df_rooms_clean['m2_covered']=sf_room_no_nulas\n",
    "mask_rooms_no_nulas.value_counts()"
   ]
  },
  {
   "cell_type": "code",
   "execution_count": null,
   "metadata": {},
   "outputs": [],
   "source": [
    "m2_nulos_rooms_clean=df_rooms_clean.m2_covered.isnull().sum()\n",
    "shape_rooms_clean=df_rooms_clean.shape\n",
    "pctje_nulos_rooms_clean=m2_nulos_rooms_clean/shape_rooms_clean[0]\n",
    "pctje_nulos_rooms_clean"
   ]
  },
  {
   "cell_type": "markdown",
   "metadata": {},
   "source": [
    "El pctje de m2 cubiertos es ligeramente menor, por lo que no hay mucha correlacion entre nulidad de rooms y nulidad de m2_covered\n",
    "Hay que inputar los m2 cubiertos faltantes antes de poder avanzar a tener un promedio de cuantos m2 tiene cada habitación\n",
    "Para imputar las rooms, me imagino hay que inputar promedio por tipo de propiedad, hace falta por barrio, o alguna caracteristica extra?? Para mi no hace falta"
   ]
  },
  {
   "cell_type": "markdown",
   "metadata": {},
   "source": [
    "# Recuperar datos de precio total en dolares"
   ]
  },
  {
   "cell_type": "markdown",
   "metadata": {},
   "source": [
    "### REVISAR CONSISTENCIA ENTRE DATOS ARS Y USD"
   ]
  },
  {
   "cell_type": "markdown",
   "metadata": {},
   "source": [
    "### Nos centramos en este campo, por dos motivos. Sabiendo que la finalidad de esta limpieza es lograr obtener una base de datos con valores que me permitan luego armar un modelo que me ayude a determinar el valor de una propiedad, entendemos que el campo precio es el mas importante. Uno de los motivos por el cual nos centramos en el precio en dolares, es porque este campo no se ve influenciado por la inflación, por otro lado contamos con bastantes datos en la columna lo cual disminuye el error por supuestos o calculos mal hechos."
   ]
  },
  {
   "cell_type": "markdown",
   "metadata": {},
   "source": [
    "### 1-Extraer información con regex de columna descripción"
   ]
  },
  {
   "cell_type": "code",
   "execution_count": null,
   "metadata": {},
   "outputs": [],
   "source": [
    "import re\n",
    "serie_descripcion = data[\"description\"]\n",
    "\n",
    "pattern_usd = \"(?P<usd>(usd|u[$]d)\\s*?(\\d{2,}(,|.\\d+)?))\"\n",
    "pattern_usd_regex = re.compile(pattern_usd,  re.IGNORECASE)\n",
    "\n",
    "import numpy as np\n",
    "usd_match = serie_descripcion.apply(lambda x: x if x is np.NaN else pattern_usd_regex.search(x))\n",
    "\n",
    "mask_usd_match_notnull= usd_match.notnull()\n",
    "\n",
    "data.loc[mask_usd_match_notnull, \"usd_clean\"] = usd_match[mask_usd_match_notnull].apply(lambda x: x.group(0))\n"
   ]
  },
  {
   "cell_type": "code",
   "execution_count": null,
   "metadata": {},
   "outputs": [],
   "source": [
    "serie_usd_clean=data[\"usd_clean\"]"
   ]
  },
  {
   "cell_type": "code",
   "execution_count": null,
   "metadata": {},
   "outputs": [],
   "source": [
    "pattern_usd_dos=\"(?P<usddos>(\\d{2,}(,|.\\d+)?))\"\n",
    "pattern_usd_regex_dos=re.compile(pattern_usd_dos)\n",
    "usd_match_dos = serie_usd_clean.apply(lambda x: x if x is np.NaN else pattern_usd_regex_dos.search(x))\n",
    "mask_usd_match_notnull_dos= usd_match_dos.notnull()\n",
    "data.loc[mask_usd_match_notnull_dos, \"usd_clean_dos\"] = usd_match_dos[mask_usd_match_notnull_dos].apply(lambda x: x.group(\"usddos\"))\n"
   ]
  },
  {
   "cell_type": "code",
   "execution_count": null,
   "metadata": {},
   "outputs": [],
   "source": [
    "data_limpia[\"precio_usd_limpio\"]=data_limpia[\"price_aprox_usd\"]"
   ]
  },
  {
   "cell_type": "code",
   "execution_count": null,
   "metadata": {},
   "outputs": [],
   "source": [
    "data_limpia[\"precio_usd_limpio\"].fillna(data_limpia[\"usd_clean_dos\"],inplace=True)"
   ]
  },
  {
   "cell_type": "code",
   "execution_count": null,
   "metadata": {},
   "outputs": [],
   "source": [
    "data_limpia[\"precio_usd_limpio\"].isnull().sum()"
   ]
  },
  {
   "cell_type": "code",
   "execution_count": null,
   "metadata": {},
   "outputs": [],
   "source": [
    "(1-data_limpia[\"precio_usd_limpio\"].isnull().sum()/data[\"price_aprox_usd\"].isnull().sum())*100"
   ]
  },
  {
   "cell_type": "markdown",
   "metadata": {},
   "source": [
    "Se recuperó el 1.2% de la informacion de precios en dolares del campo descripcion. La recuperacion de datos no es significativa."
   ]
  },
  {
   "cell_type": "markdown",
   "metadata": {},
   "source": [
    "### 2-comprobar si las columnas precio ARS y USD pueden matchear- listo"
   ]
  },
  {
   "cell_type": "code",
   "execution_count": null,
   "metadata": {},
   "outputs": [],
   "source": [
    "mask_ARS_empty=data[\"price_aprox_local_currency\"].isnull()\n",
    "mask_ARS_empty.value_counts()"
   ]
  },
  {
   "cell_type": "code",
   "execution_count": null,
   "metadata": {},
   "outputs": [],
   "source": [
    "mask_USD_empty=data[\"price_aprox_usd\"].isnull()\n",
    "mask_USD_empty.value_counts()"
   ]
  },
  {
   "cell_type": "code",
   "execution_count": null,
   "metadata": {},
   "outputs": [],
   "source": [
    "mask_precio_empty=mask_ARS_empty&mask_USD_empty\n",
    "data[mask_precio_empty].shape"
   ]
  },
  {
   "cell_type": "markdown",
   "metadata": {},
   "source": [
    "##### coinciden la cantidad de filas vacias en cada campo, por lo cual no es posible completar completar datos vacios de USD con ARS sacados de la columna \"price_aprox_local_currency\""
   ]
  },
  {
   "cell_type": "markdown",
   "metadata": {},
   "source": [
    "### 3-Determinar la variacion precio con rooms y superficie---- ver de pasar arriba"
   ]
  },
  {
   "cell_type": "markdown",
   "metadata": {},
   "source": [
    "calculamos la correlacion entre variables"
   ]
  },
  {
   "cell_type": "code",
   "execution_count": null,
   "metadata": {},
   "outputs": [],
   "source": [
    "import matplotlib.pyplot as plt\n",
    "import seaborn as sns\n"
   ]
  },
  {
   "cell_type": "code",
   "execution_count": null,
   "metadata": {},
   "outputs": [],
   "source": [
    "df_surf_float = data[\"surface_total_in_m2\"].astype(float) \n",
    "df_room_float = data['rooms'].astype(float) \n",
    "df_price_float = data['price_aprox_usd'].astype(float) \n",
    "df_tipo = data['property_type']"
   ]
  },
  {
   "cell_type": "code",
   "execution_count": null,
   "metadata": {},
   "outputs": [],
   "source": [
    "data_tipo_usd_sup_room=pd.DataFrame((df_tipo,df_surf_float,df_room_float,df_price_float))\n",
    "data_tipo_usd_sup_room_T=data_tipo_usd_sup_room.T\n",
    "data_tipo_usd_sup_room_T.sample(10)"
   ]
  },
  {
   "cell_type": "code",
   "execution_count": null,
   "metadata": {},
   "outputs": [],
   "source": [
    "g = sns.PairGrid(data_tipo_usd_sup_room_T, vars=['property_type','surface_total_in_m2','rooms','price_aprox_usd'],hue='property_type', palette='deep')\n",
    "g.map(plt.scatter, alpha=0.6)\n",
    "g.add_legend()"
   ]
  },
  {
   "cell_type": "markdown",
   "metadata": {},
   "source": [
    "#### Se puede ver una relacion entre precio tipo de departamento y superficie, no asi con la cantidad de habitaciones-REVISAR"
   ]
  },
  {
   "cell_type": "markdown",
   "metadata": {},
   "source": [
    "*nota: cambiar a data_limpia cuando arreglemos el problema de regex de esa columna para obtener datos no influenciados por los datos faltantes"
   ]
  },
  {
   "cell_type": "markdown",
   "metadata": {},
   "source": [
    "### 4-Calcular el precio total = Precio u$d/m2 * Superficie en base al punto anterior para las filas con datos faltantes"
   ]
  },
  {
   "cell_type": "markdown",
   "metadata": {},
   "source": [
    "#NOTA: EVALUAR ELIMINAR LOS VALORES Q NO SON PESOS ARGENTINOS PARA PODER HACER UNA CONVERSION DE TODOS LOS VALORES A USD - PENDIENTE"
   ]
  },
  {
   "cell_type": "markdown",
   "metadata": {},
   "source": [
    "#Se toma el valor medio del precio de propiedad por tipo de propiedad y se completan faltantes."
   ]
  },
  {
   "cell_type": "code",
   "execution_count": null,
   "metadata": {},
   "outputs": [],
   "source": [
    "data_key_not_null_mask_precio = np.logical_and(data.property_type.notnull(), data.price_aprox_usd.notnull())\n",
    "data_key_not_null_precio = data.loc[data_key_not_null_mask, :]\n",
    "\n",
    "data_key_not_null_grouped_tipo_precio= data_key_not_null_precio.groupby([\"property_type\", 'price_aprox_usd'])\n",
    "\n",
    "\n",
    "data_fillna_precio= data_key_not_null_grouped_tipo_precio['price_aprox_usd'].transform(lambda grp: grp.fillna(grp.mean()))\n",
    "data_fillna_precio\n",
    "\n",
    "data_limpia[\"precio_usd_limpio\"].fillna(data_fillna,inplace=True)"
   ]
  },
  {
   "cell_type": "code",
   "execution_count": null,
   "metadata": {},
   "outputs": [],
   "source": [
    "(1-data_limpia[\"precio_usd_limpio\"].isnull().sum()/data[\"price_aprox_usd\"].isnull().sum())*100"
   ]
  },
  {
   "cell_type": "markdown",
   "metadata": {},
   "source": [
    "Se recupera el 67% de la informacion faltante "
   ]
  },
  {
   "cell_type": "code",
   "execution_count": null,
   "metadata": {},
   "outputs": [],
   "source": [
    "data_limpia[\"precio_usd_limpio\"].isnull().sum()/data_limpia.shape[0]*100"
   ]
  },
  {
   "cell_type": "markdown",
   "metadata": {},
   "source": [
    "queda el 5.5% de la columna con faltantes."
   ]
  },
  {
   "cell_type": "markdown",
   "metadata": {},
   "source": [
    "Cálculo cambio entre ARS y USD "
   ]
  },
  {
   "cell_type": "code",
   "execution_count": null,
   "metadata": {},
   "outputs": [],
   "source": [
    "import numpy as np\n",
    "change = data['price_aprox_local_currency'] / data['price_aprox_usd']\n",
    "change.median()"
   ]
  }
 ],
 "metadata": {
  "kernelspec": {
   "display_name": "Python 3.10.4 ('DH')",
   "language": "python",
   "name": "python3"
  },
  "language_info": {
   "codemirror_mode": {
    "name": "ipython",
    "version": 3
   },
   "file_extension": ".py",
   "mimetype": "text/x-python",
   "name": "python",
   "nbconvert_exporter": "python",
   "pygments_lexer": "ipython3",
   "version": "3.10.4"
  },
  "orig_nbformat": 4,
  "vscode": {
   "interpreter": {
    "hash": "7ad4b00cfa812d91f92fb5dc88aa637f6cffee5ca8b01c2f389043adc33b2f6a"
   }
  }
 },
 "nbformat": 4,
 "nbformat_minor": 2
}
