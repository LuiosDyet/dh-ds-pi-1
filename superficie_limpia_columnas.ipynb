{
 "cells": [
  {
   "cell_type": "markdown",
   "metadata": {},
   "source": [
    "RECORDAR DESZIPEAR PROPERATTI.ZIP"
   ]
  },
  {
   "cell_type": "code",
   "execution_count": 66,
   "metadata": {},
   "outputs": [],
   "source": [
    "import pandas as pd\n",
    "import numpy as np"
   ]
  },
  {
   "cell_type": "code",
   "execution_count": 67,
   "metadata": {},
   "outputs": [
    {
     "data": {
      "text/plain": [
       "(121220, 25)"
      ]
     },
     "execution_count": 67,
     "metadata": {},
     "output_type": "execute_result"
    }
   ],
   "source": [
    "data = pd.read_csv(\"properatti.csv\", index_col=0)\n",
    "data.shape"
   ]
  },
  {
   "cell_type": "code",
   "execution_count": 68,
   "metadata": {},
   "outputs": [
    {
     "data": {
      "text/plain": [
       "operation                      object\n",
       "property_type                  object\n",
       "place_name                     object\n",
       "place_with_parent_names        object\n",
       "country_name                   object\n",
       "state_name                     object\n",
       "geonames_id                   float64\n",
       "lat-lon                        object\n",
       "lat                           float64\n",
       "lon                           float64\n",
       "price                         float64\n",
       "currency                       object\n",
       "price_aprox_local_currency    float64\n",
       "price_aprox_usd               float64\n",
       "surface_total_in_m2           float64\n",
       "surface_covered_in_m2         float64\n",
       "price_usd_per_m2              float64\n",
       "price_per_m2                  float64\n",
       "floor                         float64\n",
       "rooms                         float64\n",
       "expenses                      float64\n",
       "properati_url                  object\n",
       "description                    object\n",
       "title                          object\n",
       "image_thumbnail                object\n",
       "dtype: object"
      ]
     },
     "execution_count": 68,
     "metadata": {},
     "output_type": "execute_result"
    }
   ],
   "source": [
    "data.dtypes"
   ]
  },
  {
   "cell_type": "markdown",
   "metadata": {},
   "source": [
    "# Verificar si existen filas con todos los datos faltantes - PASAR A ANALISIS INICIAL - REVISAR CODIGO"
   ]
  },
  {
   "cell_type": "code",
   "execution_count": 69,
   "metadata": {},
   "outputs": [],
   "source": [
    "df_usd_m2 = data['price_usd_per_m2']\n",
    "mask_nan_uds_m2= df_usd_m2.isna()"
   ]
  },
  {
   "cell_type": "code",
   "execution_count": 70,
   "metadata": {},
   "outputs": [],
   "source": [
    "mask_nan_sup_total=data[\"surface_total_in_m2\"].isna()\n",
    "mask_nan_sup_cubierta=data[\"surface_covered_in_m2\"].isna()\n",
    "mask_nan_rooms=data[\"rooms\"].isna()\n"
   ]
  },
  {
   "cell_type": "code",
   "execution_count": 71,
   "metadata": {},
   "outputs": [
    {
     "data": {
      "text/plain": [
       "False    113090\n",
       "True       8130\n",
       "dtype: int64"
      ]
     },
     "execution_count": 71,
     "metadata": {},
     "output_type": "execute_result"
    }
   ],
   "source": [
    "mask_nan_columnas = (mask_nan_sup_total == True) & (mask_nan_sup_cubierta == True) &(mask_nan_rooms == True) &(mask_nan_uds_m2 == True) \n",
    "mask_nan_columnas.value_counts()"
   ]
  },
  {
   "cell_type": "markdown",
   "metadata": {},
   "source": [
    "#Nota: volver a revisar estos datos despues de haber completado todas las columnas con los datos extraidos del campo descripcion - inicial 8130"
   ]
  },
  {
   "cell_type": "markdown",
   "metadata": {},
   "source": [
    "## Columna Superficie"
   ]
  },
  {
   "cell_type": "markdown",
   "metadata": {},
   "source": [
    "## REVISAR CONSISTENCIA DE DATOS PARA LAS COLUMNAS SUP TOTAL Y CUBIERTA!"
   ]
  },
  {
   "cell_type": "code",
   "execution_count": 72,
   "metadata": {},
   "outputs": [],
   "source": [
    "mask_consistencia_sup = data[\"surface_total_in_m2\"] < data[\"surface_covered_in_m2\"]"
   ]
  },
  {
   "cell_type": "code",
   "execution_count": 73,
   "metadata": {},
   "outputs": [
    {
     "name": "stdout",
     "output_type": "stream",
     "text": [
      "        surface_covered_in_m2  surface_total_in_m2\n",
      "35478                   170.0                100.0\n",
      "1598                    105.0                 90.0\n",
      "52544                    75.0                 64.0\n",
      "107431                  277.0                 42.0\n",
      "38448                   128.0                 90.0\n",
      "22453                   160.0                100.0\n",
      "45499                   220.0                208.0\n",
      "6870                     75.0                 60.0\n",
      "44773                    70.0                 36.0\n",
      "10706                   200.0                155.0\n",
      "house        666\n",
      "apartment    351\n",
      "store         47\n",
      "PH            42\n",
      "Name: property_type, dtype: int64\n",
      "apartment    71065\n",
      "house        40268\n",
      "PH            5751\n",
      "store         4136\n",
      "Name: property_type, dtype: int64\n"
     ]
    }
   ],
   "source": [
    "data_consistencia_metros=data[mask_consistencia_sup]\n",
    "print(data_consistencia_metros[['surface_covered_in_m2','surface_total_in_m2']].sample(10))\n",
    "print(data_consistencia_metros.property_type.value_counts())\n",
    "print(data.property_type.value_counts())"
   ]
  },
  {
   "cell_type": "code",
   "execution_count": 74,
   "metadata": {},
   "outputs": [
    {
     "data": {
      "text/plain": [
       "0.009123906946048506"
      ]
     },
     "execution_count": 74,
     "metadata": {},
     "output_type": "execute_result"
    }
   ],
   "source": [
    "data_consistencia_metros.shape[0]/data.shape[0]"
   ]
  },
  {
   "cell_type": "markdown",
   "metadata": {},
   "source": [
    "El porcentaje de registros con estos errores es menor al 1%, no hemos podido encontrar un patrón sencillo en estos errores"
   ]
  },
  {
   "cell_type": "markdown",
   "metadata": {},
   "source": [
    "#### 1- detectar de outliers"
   ]
  },
  {
   "cell_type": "code",
   "execution_count": 75,
   "metadata": {},
   "outputs": [],
   "source": [
    "import matplotlib.pyplot as plt\n",
    "import seaborn as sns"
   ]
  },
  {
   "cell_type": "code",
   "execution_count": 76,
   "metadata": {},
   "outputs": [
    {
     "data": {
      "image/png": "[encoded data removed]",
      "text/plain": [
       "<Figure size 640x480 with 1 Axes>"
      ]
     },
     "metadata": {},
     "output_type": "display_data"
    }
   ],
   "source": [
    "data.boxplot(column= \"surface_total_in_m2\", by=\"property_type\") \n",
    "plt.show()"
   ]
  },
  {
   "cell_type": "markdown",
   "metadata": {},
   "source": [
    "se detectan outliers para superficies mayores a 75000 m2. ### ver consistencia en outliers"
   ]
  },
  {
   "cell_type": "markdown",
   "metadata": {},
   "source": [
    "##### VER SI ELIMINAMOS OUTLIERS!!!!"
   ]
  },
  {
   "cell_type": "markdown",
   "metadata": {},
   "source": [
    "#### 2-Recuperar informacion faltante a través de regex de la columna descripción"
   ]
  },
  {
   "cell_type": "code",
   "execution_count": 77,
   "metadata": {},
   "outputs": [],
   "source": [
    "import re"
   ]
  },
  {
   "cell_type": "code",
   "execution_count": 78,
   "metadata": {},
   "outputs": [],
   "source": [
    "serie_descripcion = data[\"description\"]"
   ]
  },
  {
   "cell_type": "code",
   "execution_count": 79,
   "metadata": {},
   "outputs": [],
   "source": [
    "pattern_sup_m2 = \"(?P<sup>\\d{2,}(,|.\\d+)?)\\s*(m2|metros|mts)\"\n",
    "pattern_sup_m2_regex = re.compile(pattern_sup_m2,  re.IGNORECASE)"
   ]
  },
  {
   "cell_type": "code",
   "execution_count": 80,
   "metadata": {},
   "outputs": [],
   "source": [
    "import numpy as np\n",
    "sup_match = serie_descripcion.apply(lambda x: x if x is np.NaN else pattern_sup_m2_regex.search(x))\n"
   ]
  },
  {
   "cell_type": "code",
   "execution_count": 81,
   "metadata": {},
   "outputs": [
    {
     "data": {
      "text/plain": [
       "38906                                                  None\n",
       "90926                                                  None\n",
       "76010                                                  None\n",
       "70072                                                  None\n",
       "61498                                                  None\n",
       "118477                                                 None\n",
       "97483                                                  None\n",
       "36369     <re.Match object; span=(272, 278), match='52 m...\n",
       "75681                                                  None\n",
       "26308     <re.Match object; span=(472, 480), match='113,...\n",
       "Name: description, dtype: object"
      ]
     },
     "execution_count": 81,
     "metadata": {},
     "output_type": "execute_result"
    }
   ],
   "source": [
    "sup_match.sample(10)"
   ]
  },
  {
   "cell_type": "code",
   "execution_count": 82,
   "metadata": {},
   "outputs": [],
   "source": [
    "mask_sup_match_notnull= sup_match.notnull()\n",
    "\n",
    "data.loc[mask_sup_match_notnull, \"Sup_m2_Clean\"] = sup_match[mask_sup_match_notnull].apply(lambda x: x.group(\"sup\"))\n"
   ]
  },
  {
   "cell_type": "code",
   "execution_count": 83,
   "metadata": {},
   "outputs": [],
   "source": [
    "#data.loc[mask_sup_match_notnull, [\"surface_total_in_m2\", \"surface_covered_in_m2\", \"Sup_m2_Clean\"]]----para borrar"
   ]
  },
  {
   "cell_type": "code",
   "execution_count": 84,
   "metadata": {},
   "outputs": [],
   "source": [
    "serie_sup_m2_clean=data[\"Sup_m2_Clean\"]"
   ]
  },
  {
   "cell_type": "code",
   "execution_count": 85,
   "metadata": {},
   "outputs": [
    {
     "name": "stdout",
     "output_type": "stream",
     "text": [
      "40087\n"
     ]
    },
    {
     "data": {
      "text/plain": [
       "81133"
      ]
     },
     "execution_count": 85,
     "metadata": {},
     "output_type": "execute_result"
    }
   ],
   "source": [
    "print(serie_sup_m2_clean.notnull().sum())\n",
    "serie_sup_m2_clean.isnull().sum()"
   ]
  },
  {
   "cell_type": "code",
   "execution_count": 86,
   "metadata": {},
   "outputs": [],
   "source": [
    "#SE ARREGLAN ERRORES DE COLUMNA DE REGEX PARA PODER SER UTILIZADOS EN ESTADISTICA\n",
    "\n",
    "pattern_sup_m2_dos=\"(?P<supdos>\\d{2,})\"\n",
    "pattern_sup_m2_regex_dos=re.compile(pattern_sup_m2_dos)\n",
    "sup_match_dos = serie_sup_m2_clean.apply(lambda x: x if x is np.NaN else pattern_sup_m2_regex_dos.search(x))\n",
    "mask_sup_match_notnull_dos= sup_match_dos.notnull()\n",
    "data.loc[mask_sup_match_notnull_dos, \"Sup_m2_Clean_dos\"] = sup_match_dos[mask_sup_match_notnull_dos].apply(lambda x: x.group(\"supdos\"))\n",
    "# data[\"Sup_m2_Clean_dos\"].median()\n"
   ]
  },
  {
   "cell_type": "markdown",
   "metadata": {},
   "source": [
    "##### Se supone que para PH, apartments y store la superficie cubierta es la misma que la superficie total, *se descarta house entendiendo que estas pueden contar con \"patio\". con estos datos se reemplazan los valores faltantes(no lo pude separar -VER!!!!*. PASAR PARA ARRIBA para dar orden al analisis"
   ]
  },
  {
   "cell_type": "code",
   "execution_count": 87,
   "metadata": {},
   "outputs": [],
   "source": [
    "data_limpia= data.copy()\n"
   ]
  },
  {
   "cell_type": "code",
   "execution_count": 88,
   "metadata": {},
   "outputs": [],
   "source": [
    "data_limpia[\"sup_m2_total_limpia\"] = data_limpia[\"surface_total_in_m2\"]"
   ]
  },
  {
   "cell_type": "code",
   "execution_count": 89,
   "metadata": {},
   "outputs": [
    {
     "data": {
      "text/plain": [
       "(101313, 27)"
      ]
     },
     "execution_count": 89,
     "metadata": {},
     "output_type": "execute_result"
    }
   ],
   "source": [
    "data_key_not_null_mask = np.logical_and(data.property_type.notnull(), data.surface_covered_in_m2.notnull())\n",
    "data_key_not_null = data.loc[data_key_not_null_mask, :]\n",
    "data_key_not_null.shape"
   ]
  },
  {
   "cell_type": "code",
   "execution_count": 90,
   "metadata": {},
   "outputs": [],
   "source": [
    "data_key_not_null_grouped_tipo_sup= data_key_not_null.groupby([\"property_type\", \"surface_covered_in_m2\"])\n"
   ]
  },
  {
   "cell_type": "code",
   "execution_count": 91,
   "metadata": {},
   "outputs": [
    {
     "data": {
      "text/plain": [
       "0          55.0\n",
       "2          55.0\n",
       "4          35.0\n",
       "6         106.0\n",
       "7          45.0\n",
       "          ...  \n",
       "121215    113.0\n",
       "121216    360.0\n",
       "121217     46.0\n",
       "121218     48.0\n",
       "121219     77.0\n",
       "Name: surface_total_in_m2, Length: 101313, dtype: float64"
      ]
     },
     "execution_count": 91,
     "metadata": {},
     "output_type": "execute_result"
    }
   ],
   "source": [
    "data_fillna= data_key_not_null_grouped_tipo_sup[\"surface_total_in_m2\"].transform(lambda grp: grp.fillna(grp.mean()))\n",
    "data_fillna"
   ]
  },
  {
   "cell_type": "code",
   "execution_count": 92,
   "metadata": {},
   "outputs": [],
   "source": [
    "data_limpia[\"sup_m2_total_limpia\"].fillna(data_fillna,inplace=True)\n",
    "#data_limpia.loc[mask_sup_match_notnull, [\"surface_total_in_m2\", \"sup_m2_total_limpia\", \"property_type\"]]"
   ]
  },
  {
   "cell_type": "code",
   "execution_count": 93,
   "metadata": {},
   "outputs": [
    {
     "data": {
      "text/plain": [
       "12642"
      ]
     },
     "execution_count": 93,
     "metadata": {},
     "output_type": "execute_result"
    }
   ],
   "source": [
    "data_limpia[\"sup_m2_total_limpia\"].isnull().sum()"
   ]
  },
  {
   "cell_type": "markdown",
   "metadata": {},
   "source": [
    "### se adicionan los datos obtenidos de la columna descripcion."
   ]
  },
  {
   "cell_type": "code",
   "execution_count": 94,
   "metadata": {},
   "outputs": [],
   "source": [
    "data_limpia[\"sup_m2_total_limpia\"].fillna(data_limpia[\"Sup_m2_Clean_dos\"],inplace=True)"
   ]
  },
  {
   "cell_type": "code",
   "execution_count": 95,
   "metadata": {},
   "outputs": [
    {
     "data": {
      "text/plain": [
       "23.39300244100895"
      ]
     },
     "execution_count": 95,
     "metadata": {},
     "output_type": "execute_result"
    }
   ],
   "source": [
    "data_limpia[\"sup_m2_total_limpia\"].isnull().sum()/data[\"surface_total_in_m2\"].isnull().sum()*100"
   ]
  },
  {
   "cell_type": "markdown",
   "metadata": {},
   "source": [
    "### se recupera el 23% de la informacion faltante al suponer superficie cubierta como superficie total y al extraer informacion con metodo regex de la columna descripción \n"
   ]
  },
  {
   "cell_type": "code",
   "execution_count": 96,
   "metadata": {},
   "outputs": [
    {
     "data": {
      "text/plain": [
       "7.589506682065665"
      ]
     },
     "execution_count": 96,
     "metadata": {},
     "output_type": "execute_result"
    }
   ],
   "source": [
    "data_limpia[\"sup_m2_total_limpia\"].isnull().sum()/data_limpia.shape[0]*100"
   ]
  },
  {
   "cell_type": "markdown",
   "metadata": {},
   "source": [
    "#### se redujo de 32% a 7.6% la información faltante."
   ]
  },
  {
   "cell_type": "markdown",
   "metadata": {},
   "source": [
    "# Para los datos faltantes en la columna de interés, se desea agrupar por tipo de propiedad para sacar la mediana de los m2 totales y estratificar los valores. de esta manera podriamos tener los datos completos. REVISAR SI ES NECESARIO"
   ]
  },
  {
   "cell_type": "markdown",
   "metadata": {},
   "source": [
    "# Columna Rooms"
   ]
  },
  {
   "cell_type": "markdown",
   "metadata": {},
   "source": [
    "### Revisar relacion precio vs rooms. comparar propiedades similares con distinta cantidad de rooms para ver si varia sustancialmente el precio - PENDIENTE"
   ]
  },
  {
   "cell_type": "code",
   "execution_count": 97,
   "metadata": {},
   "outputs": [],
   "source": [
    "## Arranco por los monoambientes\n",
    "#pattern_mono='(?P<sup>\\d{2,}(,|.\\d+)?)\\s*(mono)\\S+?'\n",
    "pattern_mono='(mono)|(mono\\s+\\w+)|(mono\\.+\\w+)|(mono\\-+\\w+)|(mono\\w+)'\n",
    "pattern_mono_regex=re.compile(pattern_mono,re.IGNORECASE)"
   ]
  },
  {
   "cell_type": "code",
   "execution_count": 98,
   "metadata": {},
   "outputs": [],
   "source": [
    "serie_mono_descripcion=data['description']\n",
    "mono_match = serie_mono_descripcion.apply(lambda x: x if x is np.NaN else pattern_mono_regex.search(x))\n",
    "#sup_match = serie_descripcion.apply(lambda x: x if x is np.NaN else pattern_sup_m2_regex.search(x))\n"
   ]
  },
  {
   "cell_type": "code",
   "execution_count": 99,
   "metadata": {},
   "outputs": [
    {
     "data": {
      "text/plain": [
       "(10749,)"
      ]
     },
     "execution_count": 99,
     "metadata": {},
     "output_type": "execute_result"
    }
   ],
   "source": [
    "mask_mono_match=mono_match.notnull()\n",
    "col_mono_prueba_nulos=mono_match[mask_mono_match]\n",
    "col_mono_prueba_nulos.shape"
   ]
  },
  {
   "cell_type": "code",
   "execution_count": 100,
   "metadata": {},
   "outputs": [],
   "source": [
    "data.loc[mask_mono_match,'Ambientes_Clean']= 1"
   ]
  },
  {
   "cell_type": "markdown",
   "metadata": {},
   "source": [
    "#### Ahora me enfoco en todos los departamentos que no sean monos, uso por ahora ambientes, para evitar confusiones con dormitorios y habitaciones"
   ]
  },
  {
   "cell_type": "code",
   "execution_count": 101,
   "metadata": {},
   "outputs": [],
   "source": [
    "#pattern_rooms= \"(?P<dorm>\\d+.?Dorm|\\d+.?dorm|\\d+.?DORM|\\d+.?AMB|\\d+.?Amb|\\d+.?amb|\\d+.?hab|\\d+.?HAB|\\d+.?Hab|monoamb)\"\n",
    "#pattern_rooms= \"(?P<dorm>\\d{2,}(,|.\\d+)?)\\s*(Dorm|amb|monoamb).?Dorm|\\d+.?dorm|\\d+.?DORM|\\d+.?AMB|\\d+.?Amb|\\d+.?amb|\\d+.?hab|\\d+.?HAB|\\d+.?Hab|monoamb)\"\n",
    "#\"(?P<sup>\\d{2,}(,|.\\d+)?)\\s*(m2|metros|mts)\"(mono)|(mono\\s+\\w+)|(mono\\.+\\w+)|(mono\\-+\\w+)|(mono\\w+)\n",
    "#\"(?P<sup>\\d{2,}(,|.\\d+)?)\\s*(m2|metros|mts)\"\n",
    "pattern_ambs=\"(?P<num>\\s\\d{1,2})\\s*(\\samb\\w*\\s)\"\n",
    "pattern_ambs_regex=re.compile(pattern_ambs,re.IGNORECASE)"
   ]
  },
  {
   "cell_type": "code",
   "execution_count": 102,
   "metadata": {},
   "outputs": [],
   "source": [
    "mask_mono_nulo=mono_match.isnull()\n",
    "col_mono_nulo=mono_match[mask_mono_nulo]\n",
    "pattern_ambs_match=serie_descripcion.apply(lambda x: x if x is np.NaN else pattern_ambs_regex.search(x))"
   ]
  },
  {
   "cell_type": "code",
   "execution_count": 103,
   "metadata": {},
   "outputs": [
    {
     "data": {
      "text/plain": [
       "<re.Match object; span=(2, 15), match=' 3 ambientes '>        1\n",
       "<re.Match object; span=(2, 9), match=' 3 amb '>               1\n",
       "<re.Match object; span=(17, 30), match=' 2 ambientes '>       1\n",
       "<re.Match object; span=(84, 97), match=' 3 ambientes '>       1\n",
       "<re.Match object; span=(155, 169), match=' 2  ambientes '>    1\n",
       "                                                             ..\n",
       "<re.Match object; span=(117, 130), match=' 3 ambientes '>     1\n",
       "<re.Match object; span=(118, 131), match=' 4 ambientes '>     1\n",
       "<re.Match object; span=(129, 142), match=' 4 ambientes '>     1\n",
       "<re.Match object; span=(223, 236), match=' 2 ambientes '>     1\n",
       "<re.Match object; span=(577, 590), match=' 3 ambientes '>     1\n",
       "Name: description, Length: 27506, dtype: int64"
      ]
     },
     "execution_count": 103,
     "metadata": {},
     "output_type": "execute_result"
    }
   ],
   "source": [
    "pattern_ambs_match.value_counts()"
   ]
  },
  {
   "cell_type": "code",
   "execution_count": 104,
   "metadata": {},
   "outputs": [
    {
     "data": {
      "text/plain": [
       "pandas.core.series.Series"
      ]
     },
     "execution_count": 104,
     "metadata": {},
     "output_type": "execute_result"
    }
   ],
   "source": [
    "type(pattern_ambs_match)"
   ]
  },
  {
   "cell_type": "code",
   "execution_count": 105,
   "metadata": {},
   "outputs": [
    {
     "name": "stdout",
     "output_type": "stream",
     "text": [
      "93714\n",
      "27506\n"
     ]
    }
   ],
   "source": [
    "print(pattern_ambs_match.isna().sum())\n",
    "print(pattern_ambs_match.notna().sum())"
   ]
  },
  {
   "cell_type": "code",
   "execution_count": 106,
   "metadata": {},
   "outputs": [],
   "source": [
    "#Cambio los None por NaN\n",
    "pattern_ambs_match_2=pattern_ambs_match.fillna(np.NaN)"
   ]
  },
  {
   "cell_type": "code",
   "execution_count": 107,
   "metadata": {},
   "outputs": [],
   "source": [
    "pattern_ambs_match_3=pattern_ambs_match_2.apply(lambda x: x if x is np.NaN else x[0])"
   ]
  },
  {
   "cell_type": "code",
   "execution_count": 108,
   "metadata": {},
   "outputs": [
    {
     "data": {
      "text/plain": [
       "27506"
      ]
     },
     "execution_count": 108,
     "metadata": {},
     "output_type": "execute_result"
    }
   ],
   "source": [
    "nuevo_pattern='(?P<num>\\d{1,2})'\n",
    "nuevo_pattern_regex=re.compile(nuevo_pattern)\n",
    "nuevo_pattern_match=pattern_ambs_match_3.apply(lambda x: x if x is np.NaN else nuevo_pattern_regex.search(x))\n",
    "nuevo_pattern_match.notnull().sum()"
   ]
  },
  {
   "cell_type": "code",
   "execution_count": 109,
   "metadata": {},
   "outputs": [],
   "source": [
    "mask_def_not_null= nuevo_pattern_match.notnull()\n",
    "mask_mono_nulo=mono_match.isnull()\n",
    "data.loc[mask_mono_nulo, \"Ambientes_Clean\"] = nuevo_pattern_match[mask_mono_nulo].apply(lambda x: x if x is np.NaN else x.group('num'))\n"
   ]
  },
  {
   "cell_type": "code",
   "execution_count": 110,
   "metadata": {},
   "outputs": [
    {
     "data": {
      "text/html": [
       "<div>\n",
       "<style scoped>\n",
       "    .dataframe tbody tr th:only-of-type {\n",
       "        vertical-align: middle;\n",
       "    }\n",
       "\n",
       "    .dataframe tbody tr th {\n",
       "        vertical-align: top;\n",
       "    }\n",
       "\n",
       "    .dataframe thead th {\n",
       "        text-align: right;\n",
       "    }\n",
       "</style>\n",
       "<table border=\"1\" class=\"dataframe\">\n",
       "  <thead>\n",
       "    <tr style=\"text-align: right;\">\n",
       "      <th></th>\n",
       "      <th>Ambientes_Clean</th>\n",
       "      <th>rooms</th>\n",
       "    </tr>\n",
       "  </thead>\n",
       "  <tbody>\n",
       "    <tr>\n",
       "      <th>17020</th>\n",
       "      <td>NaN</td>\n",
       "      <td>5.0</td>\n",
       "    </tr>\n",
       "    <tr>\n",
       "      <th>65484</th>\n",
       "      <td>NaN</td>\n",
       "      <td>NaN</td>\n",
       "    </tr>\n",
       "    <tr>\n",
       "      <th>85971</th>\n",
       "      <td>NaN</td>\n",
       "      <td>NaN</td>\n",
       "    </tr>\n",
       "    <tr>\n",
       "      <th>119447</th>\n",
       "      <td>1.0</td>\n",
       "      <td>1.0</td>\n",
       "    </tr>\n",
       "    <tr>\n",
       "      <th>7147</th>\n",
       "      <td>NaN</td>\n",
       "      <td>NaN</td>\n",
       "    </tr>\n",
       "    <tr>\n",
       "      <th>64823</th>\n",
       "      <td>6</td>\n",
       "      <td>NaN</td>\n",
       "    </tr>\n",
       "    <tr>\n",
       "      <th>23784</th>\n",
       "      <td>NaN</td>\n",
       "      <td>5.0</td>\n",
       "    </tr>\n",
       "    <tr>\n",
       "      <th>66348</th>\n",
       "      <td>NaN</td>\n",
       "      <td>NaN</td>\n",
       "    </tr>\n",
       "    <tr>\n",
       "      <th>77892</th>\n",
       "      <td>NaN</td>\n",
       "      <td>NaN</td>\n",
       "    </tr>\n",
       "    <tr>\n",
       "      <th>75409</th>\n",
       "      <td>1.0</td>\n",
       "      <td>NaN</td>\n",
       "    </tr>\n",
       "  </tbody>\n",
       "</table>\n",
       "</div>"
      ],
      "text/plain": [
       "       Ambientes_Clean  rooms\n",
       "17020              NaN    5.0\n",
       "65484              NaN    NaN\n",
       "85971              NaN    NaN\n",
       "119447             1.0    1.0\n",
       "7147               NaN    NaN\n",
       "64823                6    NaN\n",
       "23784              NaN    5.0\n",
       "66348              NaN    NaN\n",
       "77892              NaN    NaN\n",
       "75409              1.0    NaN"
      ]
     },
     "execution_count": 110,
     "metadata": {},
     "output_type": "execute_result"
    }
   ],
   "source": [
    "serie_rooms_clean=data[\"Ambientes_Clean\"]\n",
    "serie_rooms_clean.notnull().sum()\n",
    "serie_rooms_clean.value_counts()\n",
    "data[['Ambientes_Clean','rooms']].sample(10)"
   ]
  },
  {
   "cell_type": "code",
   "execution_count": 111,
   "metadata": {},
   "outputs": [
    {
     "name": "stderr",
     "output_type": "stream",
     "text": [
      "C:\\Users\\ornel\\AppData\\Local\\Temp\\ipykernel_11228\\457002546.py:2: SettingWithCopyWarning: \n",
      "A value is trying to be set on a copy of a slice from a DataFrame\n",
      "\n",
      "See the caveats in the documentation: https://pandas.pydata.org/pandas-docs/stable/user_guide/indexing.html#returning-a-view-versus-a-copy\n",
      "  data.Ambientes_Clean[mask_room_no_nula]=data.rooms[mask_room_no_nula]\n"
     ]
    },
    {
     "data": {
      "text/html": [
       "<div>\n",
       "<style scoped>\n",
       "    .dataframe tbody tr th:only-of-type {\n",
       "        vertical-align: middle;\n",
       "    }\n",
       "\n",
       "    .dataframe tbody tr th {\n",
       "        vertical-align: top;\n",
       "    }\n",
       "\n",
       "    .dataframe thead th {\n",
       "        text-align: right;\n",
       "    }\n",
       "</style>\n",
       "<table border=\"1\" class=\"dataframe\">\n",
       "  <thead>\n",
       "    <tr style=\"text-align: right;\">\n",
       "      <th></th>\n",
       "      <th>Ambientes_Clean</th>\n",
       "      <th>rooms</th>\n",
       "    </tr>\n",
       "  </thead>\n",
       "  <tbody>\n",
       "    <tr>\n",
       "      <th>13</th>\n",
       "      <td>1.0</td>\n",
       "      <td>1.0</td>\n",
       "    </tr>\n",
       "    <tr>\n",
       "      <th>14</th>\n",
       "      <td>1.0</td>\n",
       "      <td>1.0</td>\n",
       "    </tr>\n",
       "    <tr>\n",
       "      <th>16</th>\n",
       "      <td>4.0</td>\n",
       "      <td>4.0</td>\n",
       "    </tr>\n",
       "    <tr>\n",
       "      <th>17</th>\n",
       "      <td>3.0</td>\n",
       "      <td>3.0</td>\n",
       "    </tr>\n",
       "    <tr>\n",
       "      <th>19</th>\n",
       "      <td>3.0</td>\n",
       "      <td>3.0</td>\n",
       "    </tr>\n",
       "    <tr>\n",
       "      <th>...</th>\n",
       "      <td>...</td>\n",
       "      <td>...</td>\n",
       "    </tr>\n",
       "    <tr>\n",
       "      <th>120203</th>\n",
       "      <td>2.0</td>\n",
       "      <td>2.0</td>\n",
       "    </tr>\n",
       "    <tr>\n",
       "      <th>120204</th>\n",
       "      <td>1.0</td>\n",
       "      <td>1.0</td>\n",
       "    </tr>\n",
       "    <tr>\n",
       "      <th>120205</th>\n",
       "      <td>5.0</td>\n",
       "      <td>5.0</td>\n",
       "    </tr>\n",
       "    <tr>\n",
       "      <th>120206</th>\n",
       "      <td>4.0</td>\n",
       "      <td>4.0</td>\n",
       "    </tr>\n",
       "    <tr>\n",
       "      <th>120207</th>\n",
       "      <td>1.0</td>\n",
       "      <td>1.0</td>\n",
       "    </tr>\n",
       "  </tbody>\n",
       "</table>\n",
       "<p>47390 rows × 2 columns</p>\n",
       "</div>"
      ],
      "text/plain": [
       "       Ambientes_Clean  rooms\n",
       "13                 1.0    1.0\n",
       "14                 1.0    1.0\n",
       "16                 4.0    4.0\n",
       "17                 3.0    3.0\n",
       "19                 3.0    3.0\n",
       "...                ...    ...\n",
       "120203             2.0    2.0\n",
       "120204             1.0    1.0\n",
       "120205             5.0    5.0\n",
       "120206             4.0    4.0\n",
       "120207             1.0    1.0\n",
       "\n",
       "[47390 rows x 2 columns]"
      ]
     },
     "execution_count": 111,
     "metadata": {},
     "output_type": "execute_result"
    }
   ],
   "source": [
    "mask_room_no_nula = data.rooms.notnull()\n",
    "data.Ambientes_Clean[mask_room_no_nula]=data.rooms[mask_room_no_nula]\n",
    "data[['Ambientes_Clean','rooms']][mask_room_no_nula]"
   ]
  },
  {
   "cell_type": "code",
   "execution_count": 112,
   "metadata": {},
   "outputs": [
    {
     "name": "stdout",
     "output_type": "stream",
     "text": [
      "0.5491585546939449\n",
      "0.3909420887642303\n"
     ]
    }
   ],
   "source": [
    "#Pctje no nulo de rooms\n",
    "print(data.Ambientes_Clean.notnull().sum()/data.shape[0])\n",
    "print(data.rooms.notnull().sum()/data.shape[0])"
   ]
  },
  {
   "cell_type": "markdown",
   "metadata": {},
   "source": [
    "Recuperamos el 16% de rooms"
   ]
  },
  {
   "cell_type": "markdown",
   "metadata": {},
   "source": [
    "Procedo a imputar los ambientes"
   ]
  },
  {
   "cell_type": "code",
   "execution_count": 113,
   "metadata": {},
   "outputs": [],
   "source": [
    "mask_amb_not_null=data.Ambientes_Clean.notnull()\n",
    "data.loc[mask_amb_not_null,'Ambientes_Clean']=data.loc[mask_amb_not_null,'Ambientes_Clean'].astype('int')"
   ]
  },
  {
   "cell_type": "code",
   "execution_count": 114,
   "metadata": {},
   "outputs": [],
   "source": [
    "data.Ambientes_Clean=data.Ambientes_Clean.astype('Int64')"
   ]
  },
  {
   "cell_type": "code",
   "execution_count": 115,
   "metadata": {},
   "outputs": [],
   "source": [
    "ambientes_non_null=data.Ambientes_Clean[mask_amb_not_null]\n",
    "metros_mask_amb_non_null=data.surface_covered_in_m2[mask_amb_not_null]"
   ]
  },
  {
   "cell_type": "code",
   "execution_count": 116,
   "metadata": {},
   "outputs": [
    {
     "data": {
      "text/plain": [
       "Ambientes_Clean          Int64\n",
       "surface_covered_in_m2    Int64\n",
       "dtype: object"
      ]
     },
     "execution_count": 116,
     "metadata": {},
     "output_type": "execute_result"
    }
   ],
   "source": [
    "data.surface_covered_in_m2=data.surface_covered_in_m2.astype('Int64')\n",
    "data[['Ambientes_Clean','surface_covered_in_m2']].dtypes"
   ]
  },
  {
   "cell_type": "code",
   "execution_count": 117,
   "metadata": {},
   "outputs": [],
   "source": [
    "data['size_rooms']=np.where(data['Ambientes_Clean'].notnull(),data['surface_covered_in_m2']/data['Ambientes_Clean'],np.NaN)"
   ]
  },
  {
   "cell_type": "code",
   "execution_count": 118,
   "metadata": {},
   "outputs": [
    {
     "data": {
      "text/html": [
       "<div>\n",
       "<style scoped>\n",
       "    .dataframe tbody tr th:only-of-type {\n",
       "        vertical-align: middle;\n",
       "    }\n",
       "\n",
       "    .dataframe tbody tr th {\n",
       "        vertical-align: top;\n",
       "    }\n",
       "\n",
       "    .dataframe thead th {\n",
       "        text-align: right;\n",
       "    }\n",
       "</style>\n",
       "<table border=\"1\" class=\"dataframe\">\n",
       "  <thead>\n",
       "    <tr style=\"text-align: right;\">\n",
       "      <th></th>\n",
       "      <th>Ambientes_Clean</th>\n",
       "      <th>surface_covered_in_m2</th>\n",
       "      <th>size_rooms</th>\n",
       "    </tr>\n",
       "  </thead>\n",
       "  <tbody>\n",
       "    <tr>\n",
       "      <th>0</th>\n",
       "      <td>&lt;NA&gt;</td>\n",
       "      <td>40</td>\n",
       "      <td>NaN</td>\n",
       "    </tr>\n",
       "    <tr>\n",
       "      <th>1</th>\n",
       "      <td>&lt;NA&gt;</td>\n",
       "      <td>&lt;NA&gt;</td>\n",
       "      <td>NaN</td>\n",
       "    </tr>\n",
       "    <tr>\n",
       "      <th>2</th>\n",
       "      <td>&lt;NA&gt;</td>\n",
       "      <td>55</td>\n",
       "      <td>NaN</td>\n",
       "    </tr>\n",
       "    <tr>\n",
       "      <th>3</th>\n",
       "      <td>3</td>\n",
       "      <td>&lt;NA&gt;</td>\n",
       "      <td>NaN</td>\n",
       "    </tr>\n",
       "    <tr>\n",
       "      <th>4</th>\n",
       "      <td>&lt;NA&gt;</td>\n",
       "      <td>35</td>\n",
       "      <td>NaN</td>\n",
       "    </tr>\n",
       "    <tr>\n",
       "      <th>...</th>\n",
       "      <td>...</td>\n",
       "      <td>...</td>\n",
       "      <td>...</td>\n",
       "    </tr>\n",
       "    <tr>\n",
       "      <th>121215</th>\n",
       "      <td>&lt;NA&gt;</td>\n",
       "      <td>93</td>\n",
       "      <td>NaN</td>\n",
       "    </tr>\n",
       "    <tr>\n",
       "      <th>121216</th>\n",
       "      <td>&lt;NA&gt;</td>\n",
       "      <td>360</td>\n",
       "      <td>NaN</td>\n",
       "    </tr>\n",
       "    <tr>\n",
       "      <th>121217</th>\n",
       "      <td>1</td>\n",
       "      <td>39</td>\n",
       "      <td>39.0</td>\n",
       "    </tr>\n",
       "    <tr>\n",
       "      <th>121218</th>\n",
       "      <td>&lt;NA&gt;</td>\n",
       "      <td>48</td>\n",
       "      <td>NaN</td>\n",
       "    </tr>\n",
       "    <tr>\n",
       "      <th>121219</th>\n",
       "      <td>&lt;NA&gt;</td>\n",
       "      <td>77</td>\n",
       "      <td>NaN</td>\n",
       "    </tr>\n",
       "  </tbody>\n",
       "</table>\n",
       "<p>121220 rows × 3 columns</p>\n",
       "</div>"
      ],
      "text/plain": [
       "        Ambientes_Clean  surface_covered_in_m2 size_rooms\n",
       "0                  <NA>                     40        NaN\n",
       "1                  <NA>                   <NA>        NaN\n",
       "2                  <NA>                     55        NaN\n",
       "3                     3                   <NA>        NaN\n",
       "4                  <NA>                     35        NaN\n",
       "...                 ...                    ...        ...\n",
       "121215             <NA>                     93        NaN\n",
       "121216             <NA>                    360        NaN\n",
       "121217                1                     39       39.0\n",
       "121218             <NA>                     48        NaN\n",
       "121219             <NA>                     77        NaN\n",
       "\n",
       "[121220 rows x 3 columns]"
      ]
     },
     "execution_count": 118,
     "metadata": {},
     "output_type": "execute_result"
    }
   ],
   "source": [
    "data[['Ambientes_Clean','surface_covered_in_m2','size_rooms']]"
   ]
  },
  {
   "cell_type": "markdown",
   "metadata": {},
   "source": [
    "# Ahora completo los faltantes de tamaño promedio con groupby"
   ]
  },
  {
   "cell_type": "code",
   "execution_count": 119,
   "metadata": {},
   "outputs": [],
   "source": [
    "fill_values=data.groupby('property_type').size_rooms.median()"
   ]
  },
  {
   "cell_type": "code",
   "execution_count": 120,
   "metadata": {},
   "outputs": [
    {
     "data": {
      "text/html": [
       "<div>\n",
       "<style scoped>\n",
       "    .dataframe tbody tr th:only-of-type {\n",
       "        vertical-align: middle;\n",
       "    }\n",
       "\n",
       "    .dataframe tbody tr th {\n",
       "        vertical-align: top;\n",
       "    }\n",
       "\n",
       "    .dataframe thead th {\n",
       "        text-align: right;\n",
       "    }\n",
       "</style>\n",
       "<table border=\"1\" class=\"dataframe\">\n",
       "  <thead>\n",
       "    <tr style=\"text-align: right;\">\n",
       "      <th></th>\n",
       "      <th>property_type</th>\n",
       "      <th>size_rooms</th>\n",
       "    </tr>\n",
       "  </thead>\n",
       "  <tbody>\n",
       "    <tr>\n",
       "      <th>0</th>\n",
       "      <td>PH</td>\n",
       "      <td>23.50</td>\n",
       "    </tr>\n",
       "    <tr>\n",
       "      <th>1</th>\n",
       "      <td>apartment</td>\n",
       "      <td>26.00</td>\n",
       "    </tr>\n",
       "    <tr>\n",
       "      <th>2</th>\n",
       "      <td>house</td>\n",
       "      <td>40.00</td>\n",
       "    </tr>\n",
       "    <tr>\n",
       "      <th>3</th>\n",
       "      <td>store</td>\n",
       "      <td>57.75</td>\n",
       "    </tr>\n",
       "  </tbody>\n",
       "</table>\n",
       "</div>"
      ],
      "text/plain": [
       "  property_type  size_rooms\n",
       "0            PH       23.50\n",
       "1     apartment       26.00\n",
       "2         house       40.00\n",
       "3         store       57.75"
      ]
     },
     "execution_count": 120,
     "metadata": {},
     "output_type": "execute_result"
    }
   ],
   "source": [
    "fill_values_df=pd.DataFrame(fill_values)\n",
    "fill_values_df.reset_index(inplace=True)\n",
    "fill_values_df.head(5)"
   ]
  },
  {
   "cell_type": "code",
   "execution_count": 121,
   "metadata": {},
   "outputs": [
    {
     "data": {
      "text/html": [
       "<div>\n",
       "<style scoped>\n",
       "    .dataframe tbody tr th:only-of-type {\n",
       "        vertical-align: middle;\n",
       "    }\n",
       "\n",
       "    .dataframe tbody tr th {\n",
       "        vertical-align: top;\n",
       "    }\n",
       "\n",
       "    .dataframe thead th {\n",
       "        text-align: right;\n",
       "    }\n",
       "</style>\n",
       "<table border=\"1\" class=\"dataframe\">\n",
       "  <thead>\n",
       "    <tr style=\"text-align: right;\">\n",
       "      <th></th>\n",
       "      <th>operation</th>\n",
       "      <th>property_type</th>\n",
       "      <th>place_name</th>\n",
       "      <th>place_with_parent_names</th>\n",
       "      <th>country_name</th>\n",
       "      <th>state_name</th>\n",
       "      <th>geonames_id</th>\n",
       "      <th>lat-lon</th>\n",
       "      <th>lat</th>\n",
       "      <th>lon</th>\n",
       "      <th>...</th>\n",
       "      <th>expenses</th>\n",
       "      <th>properati_url</th>\n",
       "      <th>description</th>\n",
       "      <th>title</th>\n",
       "      <th>image_thumbnail</th>\n",
       "      <th>Sup_m2_Clean</th>\n",
       "      <th>Sup_m2_Clean_dos</th>\n",
       "      <th>Ambientes_Clean</th>\n",
       "      <th>size_rooms</th>\n",
       "      <th>size_rooms_median</th>\n",
       "    </tr>\n",
       "  </thead>\n",
       "  <tbody>\n",
       "    <tr>\n",
       "      <th>41430</th>\n",
       "      <td>sell</td>\n",
       "      <td>apartment</td>\n",
       "      <td>Rosario</td>\n",
       "      <td>|Argentina|Santa Fe|Rosario|</td>\n",
       "      <td>Argentina</td>\n",
       "      <td>Santa Fe</td>\n",
       "      <td>3838574.0</td>\n",
       "      <td>-32.9379978,-60.6477057</td>\n",
       "      <td>-32.937998</td>\n",
       "      <td>-60.647706</td>\n",
       "      <td>...</td>\n",
       "      <td>NaN</td>\n",
       "      <td>http://www.properati.com.ar/18u5s_venta_depart...</td>\n",
       "      <td>UBICADO EN LA ZONA MAS IMPORTANTE DE LA CIUDAD...</td>\n",
       "      <td>DOS DORMITORIOS - OPORTUNIDAD</td>\n",
       "      <td>https://thumbs4.properati.com/0/8t9__OJi90NAeL...</td>\n",
       "      <td>200</td>\n",
       "      <td>200</td>\n",
       "      <td>&lt;NA&gt;</td>\n",
       "      <td>NaN</td>\n",
       "      <td>26.0</td>\n",
       "    </tr>\n",
       "    <tr>\n",
       "      <th>55496</th>\n",
       "      <td>sell</td>\n",
       "      <td>apartment</td>\n",
       "      <td>Ramos Mejía</td>\n",
       "      <td>|Argentina|Bs.As. G.B.A. Zona Oeste|La Matanza...</td>\n",
       "      <td>Argentina</td>\n",
       "      <td>Bs.As. G.B.A. Zona Oeste</td>\n",
       "      <td>3429617.0</td>\n",
       "      <td>NaN</td>\n",
       "      <td>NaN</td>\n",
       "      <td>NaN</td>\n",
       "      <td>...</td>\n",
       "      <td>NaN</td>\n",
       "      <td>http://www.properati.com.ar/19p6u_venta_depart...</td>\n",
       "      <td>- Publicado a traves de VisualGestion -</td>\n",
       "      <td>Departamento en Venta Ramos Mejia / La Matanza...</td>\n",
       "      <td>NaN</td>\n",
       "      <td>NaN</td>\n",
       "      <td>NaN</td>\n",
       "      <td>2</td>\n",
       "      <td>13.0</td>\n",
       "      <td>26.0</td>\n",
       "    </tr>\n",
       "    <tr>\n",
       "      <th>101791</th>\n",
       "      <td>sell</td>\n",
       "      <td>apartment</td>\n",
       "      <td>San Isidro</td>\n",
       "      <td>|Argentina|Bs.As. G.B.A. Zona Norte|San Isidro...</td>\n",
       "      <td>Argentina</td>\n",
       "      <td>Bs.As. G.B.A. Zona Norte</td>\n",
       "      <td>3428983.0</td>\n",
       "      <td>NaN</td>\n",
       "      <td>NaN</td>\n",
       "      <td>NaN</td>\n",
       "      <td>...</td>\n",
       "      <td>800.0</td>\n",
       "      <td>http://www.properati.com.ar/1bpt4_venta_depart...</td>\n",
       "      <td>Edificio desarrollado en dos cuerpos de 3 piso...</td>\n",
       "      <td>3 de febrero 300 Depto. 2 amb 60mts cub a estr...</td>\n",
       "      <td>https://thumbs4.properati.com/7/T_Dn9mqn5TwIHS...</td>\n",
       "      <td>NaN</td>\n",
       "      <td>NaN</td>\n",
       "      <td>&lt;NA&gt;</td>\n",
       "      <td>NaN</td>\n",
       "      <td>26.0</td>\n",
       "    </tr>\n",
       "    <tr>\n",
       "      <th>4658</th>\n",
       "      <td>sell</td>\n",
       "      <td>house</td>\n",
       "      <td>Santa Fe</td>\n",
       "      <td>|Argentina|Santa Fe|Santa Fe|</td>\n",
       "      <td>Argentina</td>\n",
       "      <td>Santa Fe</td>\n",
       "      <td>3836277.0</td>\n",
       "      <td>-31.6400462,-60.6872747</td>\n",
       "      <td>-31.640046</td>\n",
       "      <td>-60.687275</td>\n",
       "      <td>...</td>\n",
       "      <td>NaN</td>\n",
       "      <td>http://www.properati.com.ar/15ncd_venta_casa_s...</td>\n",
       "      <td>Hermosa propiedad de 2 plantas. Consta de 4 do...</td>\n",
       "      <td>HERMOSA PROPIEDAD DE 2 PLANTAS</td>\n",
       "      <td>https://thumbs4.properati.com/2/c3Qr98Q4kst7rh...</td>\n",
       "      <td>NaN</td>\n",
       "      <td>NaN</td>\n",
       "      <td>&lt;NA&gt;</td>\n",
       "      <td>NaN</td>\n",
       "      <td>40.0</td>\n",
       "    </tr>\n",
       "    <tr>\n",
       "      <th>120819</th>\n",
       "      <td>sell</td>\n",
       "      <td>house</td>\n",
       "      <td>Belgrano</td>\n",
       "      <td>|Argentina|Capital Federal|Belgrano|</td>\n",
       "      <td>Argentina</td>\n",
       "      <td>Capital Federal</td>\n",
       "      <td>3436077.0</td>\n",
       "      <td>-34.5767328045,-58.474588324</td>\n",
       "      <td>-34.576733</td>\n",
       "      <td>-58.474588</td>\n",
       "      <td>...</td>\n",
       "      <td>NaN</td>\n",
       "      <td>http://www.properati.com.ar/1ciek_venta_casa_b...</td>\n",
       "      <td>EXCELENTE CASA - CONSTRUÍDA CO...</td>\n",
       "      <td>Casa - Belgrano</td>\n",
       "      <td>https://thumbs4.properati.com/7/LKdPlUVjVqgB7X...</td>\n",
       "      <td>12,60</td>\n",
       "      <td>12</td>\n",
       "      <td>&lt;NA&gt;</td>\n",
       "      <td>NaN</td>\n",
       "      <td>40.0</td>\n",
       "    </tr>\n",
       "    <tr>\n",
       "      <th>58922</th>\n",
       "      <td>sell</td>\n",
       "      <td>apartment</td>\n",
       "      <td>Rosario</td>\n",
       "      <td>|Argentina|Santa Fe|Rosario|</td>\n",
       "      <td>Argentina</td>\n",
       "      <td>Santa Fe</td>\n",
       "      <td>3838574.0</td>\n",
       "      <td>-32.9468724,-60.6758863</td>\n",
       "      <td>-32.946872</td>\n",
       "      <td>-60.675886</td>\n",
       "      <td>...</td>\n",
       "      <td>NaN</td>\n",
       "      <td>http://www.properati.com.ar/19wid_venta_depart...</td>\n",
       "      <td>1119-AE00583 Rosario: Rivera Indarte 3732 P1 D...</td>\n",
       "      <td>Rosario: Rivera Indarte 3732 P1 D3, departamen...</td>\n",
       "      <td>https://thumbs4.properati.com/8/NS6F8cyb_xnWkL...</td>\n",
       "      <td>40</td>\n",
       "      <td>40</td>\n",
       "      <td>1</td>\n",
       "      <td>40.0</td>\n",
       "      <td>26.0</td>\n",
       "    </tr>\n",
       "    <tr>\n",
       "      <th>96914</th>\n",
       "      <td>sell</td>\n",
       "      <td>house</td>\n",
       "      <td>Concordia</td>\n",
       "      <td>|Argentina|Entre Ríos|Concordia|</td>\n",
       "      <td>Argentina</td>\n",
       "      <td>Entre Ríos</td>\n",
       "      <td>3435260.0</td>\n",
       "      <td>NaN</td>\n",
       "      <td>NaN</td>\n",
       "      <td>NaN</td>\n",
       "      <td>...</td>\n",
       "      <td>NaN</td>\n",
       "      <td>http://www.properati.com.ar/1bjc0_venta_casa_c...</td>\n",
       "      <td>Casa de dos dormitorios en Barrio 6 de Febrero...</td>\n",
       "      <td>Casa - Concordia</td>\n",
       "      <td>https://thumbs4.properati.com/4/jALTyu5uMjjzTI...</td>\n",
       "      <td>NaN</td>\n",
       "      <td>NaN</td>\n",
       "      <td>&lt;NA&gt;</td>\n",
       "      <td>NaN</td>\n",
       "      <td>40.0</td>\n",
       "    </tr>\n",
       "    <tr>\n",
       "      <th>63810</th>\n",
       "      <td>sell</td>\n",
       "      <td>apartment</td>\n",
       "      <td>Valeria del Mar</td>\n",
       "      <td>|Argentina|Buenos Aires Costa Atlántica|Valeri...</td>\n",
       "      <td>Argentina</td>\n",
       "      <td>Buenos Aires Costa Atlántica</td>\n",
       "      <td>3427561.0</td>\n",
       "      <td>-37.1440088395,-56.8810629873</td>\n",
       "      <td>-37.144009</td>\n",
       "      <td>-56.881063</td>\n",
       "      <td>...</td>\n",
       "      <td>NaN</td>\n",
       "      <td>http://www.properati.com.ar/1a9hw_venta_depart...</td>\n",
       "      <td>El Complejo de Apartamentos Arenas II se encue...</td>\n",
       "      <td>Ed. ARENAS II Valeria del Mar</td>\n",
       "      <td>https://thumbs4.properati.com/0/brpsjbvnrDdcfX...</td>\n",
       "      <td>150</td>\n",
       "      <td>150</td>\n",
       "      <td>2</td>\n",
       "      <td>19.0</td>\n",
       "      <td>26.0</td>\n",
       "    </tr>\n",
       "    <tr>\n",
       "      <th>93031</th>\n",
       "      <td>sell</td>\n",
       "      <td>apartment</td>\n",
       "      <td>Córdoba</td>\n",
       "      <td>|Argentina|Córdoba|Córdoba|</td>\n",
       "      <td>Argentina</td>\n",
       "      <td>Córdoba</td>\n",
       "      <td>3860259.0</td>\n",
       "      <td>NaN</td>\n",
       "      <td>NaN</td>\n",
       "      <td>NaN</td>\n",
       "      <td>...</td>\n",
       "      <td>NaN</td>\n",
       "      <td>http://www.properati.com.ar/1bdnd_venta_depart...</td>\n",
       "      <td>Entregas de $840.000 más cuotas. Descripción: ...</td>\n",
       "      <td>Excelente Oportunidad en Cardinales Nuevo Suquia</td>\n",
       "      <td>https://thumbs4.properati.com/6/KEJzKuZsTBNujU...</td>\n",
       "      <td>NaN</td>\n",
       "      <td>NaN</td>\n",
       "      <td>&lt;NA&gt;</td>\n",
       "      <td>NaN</td>\n",
       "      <td>26.0</td>\n",
       "    </tr>\n",
       "    <tr>\n",
       "      <th>22089</th>\n",
       "      <td>sell</td>\n",
       "      <td>apartment</td>\n",
       "      <td>Ituzaingó</td>\n",
       "      <td>|Argentina|Bs.As. G.B.A. Zona Oeste|Ituzaingó|</td>\n",
       "      <td>Argentina</td>\n",
       "      <td>Bs.As. G.B.A. Zona Oeste</td>\n",
       "      <td>3433359.0</td>\n",
       "      <td>-34.6465816,-58.688894</td>\n",
       "      <td>-34.646582</td>\n",
       "      <td>-58.688894</td>\n",
       "      <td>...</td>\n",
       "      <td>NaN</td>\n",
       "      <td>http://www.properati.com.ar/17huf_venta_depart...</td>\n",
       "      <td>TRES DEPARTAMENTOS A TERMINAR CONSULTE VALOR</td>\n",
       "      <td>Departamento en Venta. 156 m2c</td>\n",
       "      <td>https://thumbs4.properati.com/9/dhgp0g3jh9JZPT...</td>\n",
       "      <td>NaN</td>\n",
       "      <td>NaN</td>\n",
       "      <td>&lt;NA&gt;</td>\n",
       "      <td>NaN</td>\n",
       "      <td>26.0</td>\n",
       "    </tr>\n",
       "  </tbody>\n",
       "</table>\n",
       "<p>10 rows × 30 columns</p>\n",
       "</div>"
      ],
      "text/plain": [
       "       operation property_type       place_name  \\\n",
       "41430       sell     apartment          Rosario   \n",
       "55496       sell     apartment      Ramos Mejía   \n",
       "101791      sell     apartment       San Isidro   \n",
       "4658        sell         house         Santa Fe   \n",
       "120819      sell         house         Belgrano   \n",
       "58922       sell     apartment          Rosario   \n",
       "96914       sell         house        Concordia   \n",
       "63810       sell     apartment  Valeria del Mar   \n",
       "93031       sell     apartment          Córdoba   \n",
       "22089       sell     apartment        Ituzaingó   \n",
       "\n",
       "                                  place_with_parent_names country_name  \\\n",
       "41430                        |Argentina|Santa Fe|Rosario|    Argentina   \n",
       "55496   |Argentina|Bs.As. G.B.A. Zona Oeste|La Matanza...    Argentina   \n",
       "101791  |Argentina|Bs.As. G.B.A. Zona Norte|San Isidro...    Argentina   \n",
       "4658                        |Argentina|Santa Fe|Santa Fe|    Argentina   \n",
       "120819               |Argentina|Capital Federal|Belgrano|    Argentina   \n",
       "58922                        |Argentina|Santa Fe|Rosario|    Argentina   \n",
       "96914                    |Argentina|Entre Ríos|Concordia|    Argentina   \n",
       "63810   |Argentina|Buenos Aires Costa Atlántica|Valeri...    Argentina   \n",
       "93031                         |Argentina|Córdoba|Córdoba|    Argentina   \n",
       "22089      |Argentina|Bs.As. G.B.A. Zona Oeste|Ituzaingó|    Argentina   \n",
       "\n",
       "                          state_name  geonames_id  \\\n",
       "41430                       Santa Fe    3838574.0   \n",
       "55496       Bs.As. G.B.A. Zona Oeste    3429617.0   \n",
       "101791      Bs.As. G.B.A. Zona Norte    3428983.0   \n",
       "4658                        Santa Fe    3836277.0   \n",
       "120819               Capital Federal    3436077.0   \n",
       "58922                       Santa Fe    3838574.0   \n",
       "96914                     Entre Ríos    3435260.0   \n",
       "63810   Buenos Aires Costa Atlántica    3427561.0   \n",
       "93031                        Córdoba    3860259.0   \n",
       "22089       Bs.As. G.B.A. Zona Oeste    3433359.0   \n",
       "\n",
       "                              lat-lon        lat        lon  ...  expenses  \\\n",
       "41430         -32.9379978,-60.6477057 -32.937998 -60.647706  ...       NaN   \n",
       "55496                             NaN        NaN        NaN  ...       NaN   \n",
       "101791                            NaN        NaN        NaN  ...     800.0   \n",
       "4658          -31.6400462,-60.6872747 -31.640046 -60.687275  ...       NaN   \n",
       "120819   -34.5767328045,-58.474588324 -34.576733 -58.474588  ...       NaN   \n",
       "58922         -32.9468724,-60.6758863 -32.946872 -60.675886  ...       NaN   \n",
       "96914                             NaN        NaN        NaN  ...       NaN   \n",
       "63810   -37.1440088395,-56.8810629873 -37.144009 -56.881063  ...       NaN   \n",
       "93031                             NaN        NaN        NaN  ...       NaN   \n",
       "22089          -34.6465816,-58.688894 -34.646582 -58.688894  ...       NaN   \n",
       "\n",
       "                                            properati_url  \\\n",
       "41430   http://www.properati.com.ar/18u5s_venta_depart...   \n",
       "55496   http://www.properati.com.ar/19p6u_venta_depart...   \n",
       "101791  http://www.properati.com.ar/1bpt4_venta_depart...   \n",
       "4658    http://www.properati.com.ar/15ncd_venta_casa_s...   \n",
       "120819  http://www.properati.com.ar/1ciek_venta_casa_b...   \n",
       "58922   http://www.properati.com.ar/19wid_venta_depart...   \n",
       "96914   http://www.properati.com.ar/1bjc0_venta_casa_c...   \n",
       "63810   http://www.properati.com.ar/1a9hw_venta_depart...   \n",
       "93031   http://www.properati.com.ar/1bdnd_venta_depart...   \n",
       "22089   http://www.properati.com.ar/17huf_venta_depart...   \n",
       "\n",
       "                                              description  \\\n",
       "41430   UBICADO EN LA ZONA MAS IMPORTANTE DE LA CIUDAD...   \n",
       "55496            - Publicado a traves de VisualGestion -    \n",
       "101791  Edificio desarrollado en dos cuerpos de 3 piso...   \n",
       "4658    Hermosa propiedad de 2 plantas. Consta de 4 do...   \n",
       "120819                  EXCELENTE CASA - CONSTRUÍDA CO...   \n",
       "58922   1119-AE00583 Rosario: Rivera Indarte 3732 P1 D...   \n",
       "96914   Casa de dos dormitorios en Barrio 6 de Febrero...   \n",
       "63810   El Complejo de Apartamentos Arenas II se encue...   \n",
       "93031   Entregas de $840.000 más cuotas. Descripción: ...   \n",
       "22089        TRES DEPARTAMENTOS A TERMINAR CONSULTE VALOR   \n",
       "\n",
       "                                                    title  \\\n",
       "41430                       DOS DORMITORIOS - OPORTUNIDAD   \n",
       "55496   Departamento en Venta Ramos Mejia / La Matanza...   \n",
       "101791  3 de febrero 300 Depto. 2 amb 60mts cub a estr...   \n",
       "4658                      HERMOSA PROPIEDAD DE 2 PLANTAS    \n",
       "120819                                    Casa - Belgrano   \n",
       "58922   Rosario: Rivera Indarte 3732 P1 D3, departamen...   \n",
       "96914                                    Casa - Concordia   \n",
       "63810                       Ed. ARENAS II Valeria del Mar   \n",
       "93031    Excelente Oportunidad en Cardinales Nuevo Suquia   \n",
       "22089                      Departamento en Venta. 156 m2c   \n",
       "\n",
       "                                          image_thumbnail  Sup_m2_Clean  \\\n",
       "41430   https://thumbs4.properati.com/0/8t9__OJi90NAeL...           200   \n",
       "55496                                                 NaN           NaN   \n",
       "101791  https://thumbs4.properati.com/7/T_Dn9mqn5TwIHS...           NaN   \n",
       "4658    https://thumbs4.properati.com/2/c3Qr98Q4kst7rh...           NaN   \n",
       "120819  https://thumbs4.properati.com/7/LKdPlUVjVqgB7X...         12,60   \n",
       "58922   https://thumbs4.properati.com/8/NS6F8cyb_xnWkL...            40   \n",
       "96914   https://thumbs4.properati.com/4/jALTyu5uMjjzTI...           NaN   \n",
       "63810   https://thumbs4.properati.com/0/brpsjbvnrDdcfX...           150   \n",
       "93031   https://thumbs4.properati.com/6/KEJzKuZsTBNujU...           NaN   \n",
       "22089   https://thumbs4.properati.com/9/dhgp0g3jh9JZPT...           NaN   \n",
       "\n",
       "        Sup_m2_Clean_dos  Ambientes_Clean  size_rooms  size_rooms_median  \n",
       "41430                200             <NA>         NaN               26.0  \n",
       "55496                NaN                2        13.0               26.0  \n",
       "101791               NaN             <NA>         NaN               26.0  \n",
       "4658                 NaN             <NA>         NaN               40.0  \n",
       "120819                12             <NA>         NaN               40.0  \n",
       "58922                 40                1        40.0               26.0  \n",
       "96914                NaN             <NA>         NaN               40.0  \n",
       "63810                150                2        19.0               26.0  \n",
       "93031                NaN             <NA>         NaN               26.0  \n",
       "22089                NaN             <NA>         NaN               26.0  \n",
       "\n",
       "[10 rows x 30 columns]"
      ]
     },
     "execution_count": 121,
     "metadata": {},
     "output_type": "execute_result"
    }
   ],
   "source": [
    "#Lo mergeamos con el df\n",
    "data = data.merge(fill_values_df,on='property_type',suffixes=('','_median'),how='left')\n",
    "data.sample(10)"
   ]
  },
  {
   "cell_type": "code",
   "execution_count": 122,
   "metadata": {},
   "outputs": [],
   "source": [
    "data.size_rooms.fillna(data.size_rooms_median,inplace=True)"
   ]
  },
  {
   "cell_type": "code",
   "execution_count": 123,
   "metadata": {},
   "outputs": [],
   "source": [
    "mask_ambientes_null=data.Ambientes_Clean.isnull()"
   ]
  },
  {
   "cell_type": "code",
   "execution_count": 124,
   "metadata": {},
   "outputs": [],
   "source": [
    "data['ambientes_2']=data.surface_covered_in_m2/data.size_rooms\n",
    "#data['ambientes_2']=data['ambientes_2'].astype('Int64')\n",
    "data['ambientes_2'].dtype\n",
    "data['Ambientes_Clean']=data['Ambientes_Clean'].astype('float64')\n",
    "data['Ambientes_Clean'].dtype\n",
    "data.Ambientes_Clean.fillna(data.ambientes_2,inplace=True)\n"
   ]
  },
  {
   "cell_type": "code",
   "execution_count": 125,
   "metadata": {},
   "outputs": [
    {
     "name": "stdout",
     "output_type": "stream",
     "text": [
      "0.9079607325523841\n",
      "0.3909420887642303\n"
     ]
    }
   ],
   "source": [
    "print(data.Ambientes_Clean.notnull().sum()/data.shape[0])\n",
    "print(data.rooms.notnull().sum()/data.shape[0])"
   ]
  },
  {
   "cell_type": "markdown",
   "metadata": {},
   "source": [
    "# Se logró imputar el 90% de Rooms!!! Si reemplazamos los m2_covered por los m2 imputados podemos lograr el 90%"
   ]
  },
  {
   "cell_type": "markdown",
   "metadata": {},
   "source": [
    "poner arriba"
   ]
  },
  {
   "cell_type": "markdown",
   "metadata": {},
   "source": [
    "##### Intentamos ver si los datos faltantes de rooms disminuyen si descontamos las tiendas"
   ]
  },
  {
   "cell_type": "code",
   "execution_count": 126,
   "metadata": {},
   "outputs": [],
   "source": [
    "mask_residencial= data.property_type != 'store'\n",
    "tipos_residenciales=data.property_type[mask_residencial]\n",
    "rooms_residenciales=data.rooms[mask_residencial]\n",
    "df_residencial=pd.DataFrame(tipos_residenciales)\n",
    "df_residencial['rooms']=rooms_residenciales"
   ]
  },
  {
   "cell_type": "code",
   "execution_count": 127,
   "metadata": {},
   "outputs": [
    {
     "data": {
      "text/plain": [
       "3.0     12567\n",
       "2.0     12433\n",
       "4.0      7937\n",
       "1.0      7377\n",
       "5.0      3782\n",
       "6.0      1403\n",
       "7.0       770\n",
       "8.0       409\n",
       "10.0      226\n",
       "9.0       184\n",
       "11.0       72\n",
       "12.0       65\n",
       "13.0       33\n",
       "14.0       27\n",
       "15.0       26\n",
       "17.0       16\n",
       "16.0       11\n",
       "20.0       11\n",
       "22.0        8\n",
       "18.0        6\n",
       "21.0        5\n",
       "19.0        4\n",
       "30.0        4\n",
       "25.0        4\n",
       "32.0        3\n",
       "23.0        2\n",
       "24.0        1\n",
       "31.0        1\n",
       "29.0        1\n",
       "27.0        1\n",
       "28.0        1\n",
       "Name: rooms, dtype: int64"
      ]
     },
     "execution_count": 127,
     "metadata": {},
     "output_type": "execute_result"
    }
   ],
   "source": [
    "data.rooms.value_counts()"
   ]
  },
  {
   "cell_type": "code",
   "execution_count": 128,
   "metadata": {},
   "outputs": [],
   "source": [
    "shape_df=df_residencial.shape\n",
    "count_res=shape_df[0]\n"
   ]
  },
  {
   "cell_type": "code",
   "execution_count": 129,
   "metadata": {},
   "outputs": [
    {
     "data": {
      "text/plain": [
       "0.5961446482867001"
      ]
     },
     "execution_count": 129,
     "metadata": {},
     "output_type": "execute_result"
    }
   ],
   "source": [
    "nulos_room=df_residencial.rooms.isna().sum(axis=0)\n",
    "pctje_nulos_rooms=nulos_room/count_res\n",
    "pctje_nulos_rooms"
   ]
  },
  {
   "cell_type": "markdown",
   "metadata": {},
   "source": [
    "Veamos cuantas rooms tienen las tiendas"
   ]
  },
  {
   "cell_type": "code",
   "execution_count": 130,
   "metadata": {},
   "outputs": [
    {
     "data": {
      "text/plain": [
       "1.0     55\n",
       "2.0     17\n",
       "3.0     13\n",
       "7.0      6\n",
       "4.0      4\n",
       "5.0      4\n",
       "10.0     3\n",
       "6.0      2\n",
       "8.0      1\n",
       "Name: rooms, dtype: int64"
      ]
     },
     "execution_count": 130,
     "metadata": {},
     "output_type": "execute_result"
    }
   ],
   "source": [
    "mask_comercial= data.property_type == 'store'\n",
    "tipos_comerciales=data.property_type[mask_comercial]\n",
    "rooms_comerciales=data.rooms[mask_comercial]\n",
    "df_comercial=pd.DataFrame(tipos_comerciales)\n",
    "df_comercial['rooms']=rooms_comerciales\n",
    "df_comercial.rooms.value_counts()"
   ]
  },
  {
   "cell_type": "markdown",
   "metadata": {},
   "source": [
    "#### Recordemos que el porcentaje original de nulos era similar, "
   ]
  },
  {
   "cell_type": "markdown",
   "metadata": {},
   "source": [
    "Veamos si los faltantes de expensas disminuyen sacando tiendas y casas"
   ]
  },
  {
   "cell_type": "code",
   "execution_count": 131,
   "metadata": {},
   "outputs": [
    {
     "data": {
      "text/plain": [
       "apartment    71065\n",
       "PH            5751\n",
       "Name: property_type, dtype: int64"
      ]
     },
     "execution_count": 131,
     "metadata": {},
     "output_type": "execute_result"
    }
   ],
   "source": [
    "mascara_sin_casas=df_residencial.property_type !='house'\n",
    "expensas_residenciales=data.expenses[mask_residencial]\n",
    "df_residencial['expenses']=expensas_residenciales\n",
    "expensas_deps_ph=expensas_residenciales[mascara_sin_casas]\n",
    "null_exp_clean=expensas_deps_ph.isnull().sum()\n",
    "shape_exp_clean=expensas_deps_ph.shape\n",
    "pctje_null_exp_clean=null_exp_clean/shape_exp_clean[0]\n",
    "pctje_null_exp_clean\n",
    "type_deps_ph=df_residencial.property_type[mascara_sin_casas]\n",
    "type_deps_ph.value_counts()"
   ]
  },
  {
   "cell_type": "code",
   "execution_count": 132,
   "metadata": {},
   "outputs": [
    {
     "data": {
      "text/plain": [
       "0.8496146636117475"
      ]
     },
     "execution_count": 132,
     "metadata": {},
     "output_type": "execute_result"
    }
   ],
   "source": [
    "expensas_deps_ph.isnull().sum()/expensas_deps_ph.shape[0]"
   ]
  },
  {
   "cell_type": "markdown",
   "metadata": {},
   "source": [
    "Probemos ahora sacando los nulos de rooms para tratar de aplicar un promedio del tamaño de las rooms"
   ]
  },
  {
   "cell_type": "code",
   "execution_count": 133,
   "metadata": {},
   "outputs": [
    {
     "data": {
      "text/plain": [
       "False    73830\n",
       "True     47390\n",
       "Name: rooms, dtype: int64"
      ]
     },
     "execution_count": 133,
     "metadata": {},
     "output_type": "execute_result"
    }
   ],
   "source": [
    "mask_rooms_no_nulas=data.rooms.notnull()\n",
    "rooms_no_nulas=data.rooms.loc[mask_rooms_no_nulas]\n",
    "sf_room_no_nulas=data.surface_covered_in_m2.loc[mask_rooms_no_nulas]\n",
    "df_rooms_clean=pd.DataFrame(rooms_no_nulas)\n",
    "df_rooms_clean['m2_covered']=sf_room_no_nulas\n",
    "mask_rooms_no_nulas.value_counts()"
   ]
  },
  {
   "cell_type": "markdown",
   "metadata": {},
   "source": [
    "El pctje de m2 cubiertos es ligeramente menor, por lo que no hay mucha correlacion entre nulidad de rooms y nulidad de m2_covered\n",
    "Hay que inputar los m2 cubiertos faltantes antes de poder avanzar a tener un promedio de cuantos m2 tiene cada habitación\n",
    "Para imputar las rooms, me imagino hay que inputar promedio por tipo de propiedad, hace falta por barrio, o alguna caracteristica extra?? Para mi no hace falta"
   ]
  },
  {
   "cell_type": "markdown",
   "metadata": {},
   "source": [
    "# Recuperar datos de precio total en dolares"
   ]
  },
  {
   "cell_type": "markdown",
   "metadata": {},
   "source": [
    "### REVISAR CONSISTENCIA ENTRE DATOS ARS Y USD"
   ]
  },
  {
   "cell_type": "markdown",
   "metadata": {},
   "source": [
    "### Nos centramos en este campo, por dos motivos. Sabiendo que la finalidad de esta limpieza es lograr obtener una base de datos con valores que me permitan luego armar un modelo que me ayude a determinar el valor de una propiedad, entendemos que el campo precio es el mas importante. Uno de los motivos por el cual nos centramos en el precio en dolares, es porque este campo no se ve influenciado por la inflación, por otro lado contamos con bastantes datos en la columna lo cual disminuye el error por supuestos o calculos mal hechos."
   ]
  },
  {
   "cell_type": "markdown",
   "metadata": {},
   "source": [
    "### 1-Extraer información con regex de columna descripción"
   ]
  },
  {
   "cell_type": "code",
   "execution_count": 134,
   "metadata": {},
   "outputs": [],
   "source": [
    "import re\n",
    "serie_descripcion = data[\"description\"]\n",
    "\n",
    "pattern_usd = \"(?P<usd>(usd|u[$]d)\\s*?(\\d{2,}(,|.\\d+)?))\"\n",
    "pattern_usd_regex = re.compile(pattern_usd,  re.IGNORECASE)\n",
    "\n",
    "import numpy as np\n",
    "usd_match = serie_descripcion.apply(lambda x: x if x is np.NaN else pattern_usd_regex.search(x))\n",
    "\n",
    "mask_usd_match_notnull= usd_match.notnull()\n",
    "\n",
    "data.loc[mask_usd_match_notnull, \"usd_clean\"] = usd_match[mask_usd_match_notnull].apply(lambda x: x.group(0))\n"
   ]
  },
  {
   "cell_type": "code",
   "execution_count": 135,
   "metadata": {},
   "outputs": [],
   "source": [
    "serie_usd_clean=data[\"usd_clean\"]"
   ]
  },
  {
   "cell_type": "code",
   "execution_count": 141,
   "metadata": {},
   "outputs": [],
   "source": [
    "pattern_usd_dos=\"(?P<usddos>(\\d{2,}(,|.\\d+)?))\"\n",
    "pattern_usd_regex_dos=re.compile(pattern_usd_dos)\n",
    "usd_match_dos = serie_usd_clean.apply(lambda x: x if x is np.NaN else pattern_usd_regex_dos.search(x))\n",
    "mask_usd_match_notnull_dos= usd_match_dos.notnull()\n",
    "data_limpia.loc[mask_usd_match_notnull_dos, \"usd_clean_dos\"] = usd_match_dos[mask_usd_match_notnull_dos].apply(lambda x: x.group(\"usddos\"))\n"
   ]
  },
  {
   "cell_type": "code",
   "execution_count": 137,
   "metadata": {},
   "outputs": [],
   "source": [
    "data_limpia[\"precio_usd_limpio\"]=data_limpia[\"price_aprox_usd\"]"
   ]
  },
  {
   "cell_type": "code",
   "execution_count": 142,
   "metadata": {},
   "outputs": [],
   "source": [
    "data_limpia[\"precio_usd_limpio\"].fillna(data_limpia[\"usd_clean_dos\"],inplace=True)"
   ]
  },
  {
   "cell_type": "code",
   "execution_count": 143,
   "metadata": {},
   "outputs": [
    {
     "data": {
      "text/plain": [
       "20166"
      ]
     },
     "execution_count": 143,
     "metadata": {},
     "output_type": "execute_result"
    }
   ],
   "source": [
    "data_limpia[\"precio_usd_limpio\"].isnull().sum()"
   ]
  },
  {
   "cell_type": "code",
   "execution_count": 144,
   "metadata": {},
   "outputs": [
    {
     "data": {
      "text/plain": [
       "1.1954924056834848"
      ]
     },
     "execution_count": 144,
     "metadata": {},
     "output_type": "execute_result"
    }
   ],
   "source": [
    "(1-data_limpia[\"precio_usd_limpio\"].isnull().sum()/data[\"price_aprox_usd\"].isnull().sum())*100"
   ]
  },
  {
   "cell_type": "markdown",
   "metadata": {},
   "source": [
    "Se recuperó el 1.2% de la informacion de precios en dolares del campo descripcion. La recuperacion de datos no es significativa."
   ]
  },
  {
   "cell_type": "markdown",
   "metadata": {},
   "source": [
    "### 2-comprobar si las columnas precio ARS y USD pueden matchear- listo"
   ]
  },
  {
   "cell_type": "code",
   "execution_count": 145,
   "metadata": {},
   "outputs": [
    {
     "data": {
      "text/plain": [
       "False    100810\n",
       "True      20410\n",
       "Name: price_aprox_local_currency, dtype: int64"
      ]
     },
     "execution_count": 145,
     "metadata": {},
     "output_type": "execute_result"
    }
   ],
   "source": [
    "mask_ARS_empty=data[\"price_aprox_local_currency\"].isnull()\n",
    "mask_ARS_empty.value_counts()"
   ]
  },
  {
   "cell_type": "code",
   "execution_count": 146,
   "metadata": {},
   "outputs": [
    {
     "data": {
      "text/plain": [
       "False    100810\n",
       "True      20410\n",
       "Name: price_aprox_usd, dtype: int64"
      ]
     },
     "execution_count": 146,
     "metadata": {},
     "output_type": "execute_result"
    }
   ],
   "source": [
    "mask_USD_empty=data[\"price_aprox_usd\"].isnull()\n",
    "mask_USD_empty.value_counts()"
   ]
  },
  {
   "cell_type": "code",
   "execution_count": 147,
   "metadata": {},
   "outputs": [
    {
     "data": {
      "text/plain": [
       "(20410, 33)"
      ]
     },
     "execution_count": 147,
     "metadata": {},
     "output_type": "execute_result"
    }
   ],
   "source": [
    "mask_precio_empty=mask_ARS_empty&mask_USD_empty\n",
    "data[mask_precio_empty].shape"
   ]
  },
  {
   "cell_type": "markdown",
   "metadata": {},
   "source": [
    "##### coinciden la cantidad de filas vacias en cada campo, por lo cual no es posible completar completar datos vacios de USD con ARS sacados de la columna \"price_aprox_local_currency\""
   ]
  },
  {
   "cell_type": "markdown",
   "metadata": {},
   "source": [
    "### 3-Determinar la variacion precio con rooms y superficie---- ver de pasar arriba"
   ]
  },
  {
   "cell_type": "markdown",
   "metadata": {},
   "source": [
    "calculamos la correlacion entre variables"
   ]
  },
  {
   "cell_type": "code",
   "execution_count": 148,
   "metadata": {},
   "outputs": [],
   "source": [
    "import matplotlib.pyplot as plt\n",
    "import seaborn as sns\n"
   ]
  },
  {
   "cell_type": "code",
   "execution_count": 149,
   "metadata": {},
   "outputs": [],
   "source": [
    "df_surf_float = data[\"surface_total_in_m2\"].astype(float) \n",
    "df_room_float = data['rooms'].astype(float) \n",
    "df_price_float = data['price_aprox_usd'].astype(float) \n",
    "df_tipo = data['property_type']"
   ]
  },
  {
   "cell_type": "code",
   "execution_count": 150,
   "metadata": {},
   "outputs": [
    {
     "data": {
      "text/html": [
       "<div>\n",
       "<style scoped>\n",
       "    .dataframe tbody tr th:only-of-type {\n",
       "        vertical-align: middle;\n",
       "    }\n",
       "\n",
       "    .dataframe tbody tr th {\n",
       "        vertical-align: top;\n",
       "    }\n",
       "\n",
       "    .dataframe thead th {\n",
       "        text-align: right;\n",
       "    }\n",
       "</style>\n",
       "<table border=\"1\" class=\"dataframe\">\n",
       "  <thead>\n",
       "    <tr style=\"text-align: right;\">\n",
       "      <th></th>\n",
       "      <th>property_type</th>\n",
       "      <th>surface_total_in_m2</th>\n",
       "      <th>rooms</th>\n",
       "      <th>price_aprox_usd</th>\n",
       "    </tr>\n",
       "  </thead>\n",
       "  <tbody>\n",
       "    <tr>\n",
       "      <th>37717</th>\n",
       "      <td>apartment</td>\n",
       "      <td>36.0</td>\n",
       "      <td>1.0</td>\n",
       "      <td>105000.0</td>\n",
       "    </tr>\n",
       "    <tr>\n",
       "      <th>79731</th>\n",
       "      <td>PH</td>\n",
       "      <td>NaN</td>\n",
       "      <td>NaN</td>\n",
       "      <td>170000.0</td>\n",
       "    </tr>\n",
       "    <tr>\n",
       "      <th>118283</th>\n",
       "      <td>apartment</td>\n",
       "      <td>53.0</td>\n",
       "      <td>NaN</td>\n",
       "      <td>NaN</td>\n",
       "    </tr>\n",
       "    <tr>\n",
       "      <th>12352</th>\n",
       "      <td>apartment</td>\n",
       "      <td>243.0</td>\n",
       "      <td>4.0</td>\n",
       "      <td>750000.0</td>\n",
       "    </tr>\n",
       "    <tr>\n",
       "      <th>6470</th>\n",
       "      <td>house</td>\n",
       "      <td>NaN</td>\n",
       "      <td>NaN</td>\n",
       "      <td>NaN</td>\n",
       "    </tr>\n",
       "    <tr>\n",
       "      <th>50000</th>\n",
       "      <td>house</td>\n",
       "      <td>41.0</td>\n",
       "      <td>NaN</td>\n",
       "      <td>NaN</td>\n",
       "    </tr>\n",
       "    <tr>\n",
       "      <th>69438</th>\n",
       "      <td>apartment</td>\n",
       "      <td>75.0</td>\n",
       "      <td>NaN</td>\n",
       "      <td>208950.0</td>\n",
       "    </tr>\n",
       "    <tr>\n",
       "      <th>57279</th>\n",
       "      <td>apartment</td>\n",
       "      <td>NaN</td>\n",
       "      <td>2.0</td>\n",
       "      <td>NaN</td>\n",
       "    </tr>\n",
       "    <tr>\n",
       "      <th>93304</th>\n",
       "      <td>house</td>\n",
       "      <td>190.0</td>\n",
       "      <td>NaN</td>\n",
       "      <td>105998.14</td>\n",
       "    </tr>\n",
       "    <tr>\n",
       "      <th>34431</th>\n",
       "      <td>apartment</td>\n",
       "      <td>31.0</td>\n",
       "      <td>2.0</td>\n",
       "      <td>65000.0</td>\n",
       "    </tr>\n",
       "  </tbody>\n",
       "</table>\n",
       "</div>"
      ],
      "text/plain": [
       "       property_type surface_total_in_m2 rooms price_aprox_usd\n",
       "37717      apartment                36.0   1.0        105000.0\n",
       "79731             PH                 NaN   NaN        170000.0\n",
       "118283     apartment                53.0   NaN             NaN\n",
       "12352      apartment               243.0   4.0        750000.0\n",
       "6470           house                 NaN   NaN             NaN\n",
       "50000          house                41.0   NaN             NaN\n",
       "69438      apartment                75.0   NaN        208950.0\n",
       "57279      apartment                 NaN   2.0             NaN\n",
       "93304          house               190.0   NaN       105998.14\n",
       "34431      apartment                31.0   2.0         65000.0"
      ]
     },
     "execution_count": 150,
     "metadata": {},
     "output_type": "execute_result"
    }
   ],
   "source": [
    "data_tipo_usd_sup_room=pd.DataFrame((df_tipo,df_surf_float,df_room_float,df_price_float))\n",
    "data_tipo_usd_sup_room_T=data_tipo_usd_sup_room.T\n",
    "data_tipo_usd_sup_room_T.sample(10)"
   ]
  },
  {
   "cell_type": "code",
   "execution_count": 191,
   "metadata": {},
   "outputs": [
    {
     "data": {
      "text/plain": [
       "<seaborn.axisgrid.PairGrid at 0x16db5327430>"
      ]
     },
     "execution_count": 191,
     "metadata": {},
     "output_type": "execute_result"
    },
    {
     "data": {
      "image/png": "[encoded data removed]",
      "text/plain": [
       "<Figure size 873.625x750 with 9 Axes>"
      ]
     },
     "metadata": {},
     "output_type": "display_data"
    }
   ],
   "source": [
    "g = sns.PairGrid(data_tipo_usd_sup_room_T, vars=['property_type','surface_total_in_m2','price_aprox_usd'],hue='property_type', palette='deep')\n",
    "g.map(plt.scatter, alpha=0.6)\n",
    "g.add_legend()"
   ]
  },
  {
   "cell_type": "markdown",
   "metadata": {},
   "source": [
    "#### Se puede ver una relacion entre precio tipo de departamento y superficie, no asi con la cantidad de habitaciones-REVISAR"
   ]
  },
  {
   "cell_type": "markdown",
   "metadata": {},
   "source": [
    "*nota: cambiar a data_limpia cuando arreglemos el problema de regex de esa columna para obtener datos no influenciados por los datos faltantes"
   ]
  },
  {
   "cell_type": "markdown",
   "metadata": {},
   "source": [
    "### 4-Calcular el precio total = Precio u$d/m2 * Superficie en base al punto anterior para las filas con datos faltantes"
   ]
  },
  {
   "cell_type": "markdown",
   "metadata": {},
   "source": [
    "#NOTA: EVALUAR ELIMINAR LOS VALORES Q NO SON PESOS ARGENTINOS PARA PODER HACER UNA CONVERSION DE TODOS LOS VALORES A USD - PENDIENTE"
   ]
  },
  {
   "cell_type": "markdown",
   "metadata": {},
   "source": [
    "#Se toma el valor medio del precio de propiedad por tipo de propiedad y se completan faltantes."
   ]
  },
  {
   "cell_type": "code",
   "execution_count": 152,
   "metadata": {},
   "outputs": [],
   "source": [
    "data_key_not_null_mask_precio = np.logical_and(data.property_type.notnull(), data.price_aprox_usd.notnull())\n",
    "data_key_not_null_precio = data.loc[data_key_not_null_mask, :]\n",
    "\n",
    "data_key_not_null_grouped_tipo_precio= data_key_not_null_precio.groupby([\"property_type\", 'price_aprox_usd'])\n",
    "\n",
    "\n",
    "data_fillna_precio= data_key_not_null_grouped_tipo_precio['price_aprox_usd'].transform(lambda grp: grp.fillna(grp.mean()))\n",
    "data_fillna_precio\n",
    "\n",
    "data_limpia[\"precio_usd_limpio\"].fillna(data_fillna,inplace=True)"
   ]
  },
  {
   "cell_type": "code",
   "execution_count": 153,
   "metadata": {},
   "outputs": [
    {
     "data": {
      "text/plain": [
       "67.05536501714846"
      ]
     },
     "execution_count": 153,
     "metadata": {},
     "output_type": "execute_result"
    }
   ],
   "source": [
    "(1-data_limpia[\"precio_usd_limpio\"].isnull().sum()/data[\"price_aprox_usd\"].isnull().sum())*100"
   ]
  },
  {
   "cell_type": "markdown",
   "metadata": {},
   "source": [
    "Se recupera el 67% de la informacion faltante "
   ]
  },
  {
   "cell_type": "code",
   "execution_count": 154,
   "metadata": {},
   "outputs": [
    {
     "data": {
      "text/plain": [
       "5.546939448935819"
      ]
     },
     "execution_count": 154,
     "metadata": {},
     "output_type": "execute_result"
    }
   ],
   "source": [
    "data_limpia[\"precio_usd_limpio\"].isnull().sum()/data_limpia.shape[0]*100"
   ]
  },
  {
   "cell_type": "markdown",
   "metadata": {},
   "source": [
    "queda el 5.5% de la columna con faltantes."
   ]
  },
  {
   "cell_type": "markdown",
   "metadata": {},
   "source": [
    "Cálculo cambio entre ARS y USD "
   ]
  },
  {
   "cell_type": "code",
   "execution_count": 155,
   "metadata": {},
   "outputs": [
    {
     "data": {
      "text/plain": [
       "17.6445"
      ]
     },
     "execution_count": 155,
     "metadata": {},
     "output_type": "execute_result"
    }
   ],
   "source": [
    "import numpy as np\n",
    "change = data['price_aprox_local_currency'] / data['price_aprox_usd']\n",
    "change.median()"
   ]
  },
  {
   "cell_type": "code",
   "execution_count": 156,
   "metadata": {},
   "outputs": [
    {
     "name": "stdout",
     "output_type": "stream",
     "text": [
      "0.8357779244349117\n",
      "0.6755650882692625\n"
     ]
    }
   ],
   "source": [
    "print(data.surface_covered_in_m2.notnull().sum()/data.shape[0])\n",
    "print(data.sup_m2_total_limpia.notnull().sum()/data.shape[0])"
   ]
  },
  {
   "cell_type": "markdown",
   "metadata": {},
   "source": [
    "## Procedemos a imputar los m2 faltantes de total como = covered para "
   ]
  },
  {
   "cell_type": "code",
   "execution_count": 170,
   "metadata": {},
   "outputs": [],
   "source": [
    "data_limpia['sup_m2_total_limpia']= pd.to_numeric(data_limpia['sup_m2_total_limpia'])\n",
    "data_limpia['coef_ajuste_m2']=np.where(data_limpia['surface_covered_in_m2'].notnull(),data_limpia['sup_m2_total_limpia']/data_limpia['surface_covered_in_m2'],np.NaN)"
   ]
  },
  {
   "cell_type": "code",
   "execution_count": 177,
   "metadata": {},
   "outputs": [
    {
     "data": {
      "text/plain": [
       "102838     1.137931\n",
       "116440          NaN\n",
       "96279      1.189189\n",
       "41329     46.875000\n",
       "37186      2.307692\n",
       "Name: coef_ajuste_m2, dtype: float64"
      ]
     },
     "execution_count": 177,
     "metadata": {},
     "output_type": "execute_result"
    }
   ],
   "source": [
    "data_limpia.coef_ajuste_m2.sample(5)"
   ]
  },
  {
   "cell_type": "code",
   "execution_count": 183,
   "metadata": {},
   "outputs": [],
   "source": [
    "#Ahora los agrupo por groupby\n",
    "fill_values_m2=data_limpia.groupby('property_type').coef_ajuste_m2.median()"
   ]
  },
  {
   "cell_type": "code",
   "execution_count": 179,
   "metadata": {},
   "outputs": [
    {
     "data": {
      "text/html": [
       "<div>\n",
       "<style scoped>\n",
       "    .dataframe tbody tr th:only-of-type {\n",
       "        vertical-align: middle;\n",
       "    }\n",
       "\n",
       "    .dataframe tbody tr th {\n",
       "        vertical-align: top;\n",
       "    }\n",
       "\n",
       "    .dataframe thead th {\n",
       "        text-align: right;\n",
       "    }\n",
       "</style>\n",
       "<table border=\"1\" class=\"dataframe\">\n",
       "  <thead>\n",
       "    <tr style=\"text-align: right;\">\n",
       "      <th></th>\n",
       "      <th>property_type</th>\n",
       "      <th>coef_ajuste_m2</th>\n",
       "    </tr>\n",
       "  </thead>\n",
       "  <tbody>\n",
       "    <tr>\n",
       "      <th>0</th>\n",
       "      <td>PH</td>\n",
       "      <td>1.269658</td>\n",
       "    </tr>\n",
       "    <tr>\n",
       "      <th>1</th>\n",
       "      <td>apartment</td>\n",
       "      <td>1.126896</td>\n",
       "    </tr>\n",
       "    <tr>\n",
       "      <th>2</th>\n",
       "      <td>house</td>\n",
       "      <td>1.800000</td>\n",
       "    </tr>\n",
       "    <tr>\n",
       "      <th>3</th>\n",
       "      <td>store</td>\n",
       "      <td>1.000000</td>\n",
       "    </tr>\n",
       "  </tbody>\n",
       "</table>\n",
       "</div>"
      ],
      "text/plain": [
       "  property_type  coef_ajuste_m2\n",
       "0            PH        1.269658\n",
       "1     apartment        1.126896\n",
       "2         house        1.800000\n",
       "3         store        1.000000"
      ]
     },
     "execution_count": 179,
     "metadata": {},
     "output_type": "execute_result"
    }
   ],
   "source": [
    "fill_values_m2_df=pd.DataFrame(fill_values_m2)\n",
    "fill_values_m2_df.reset_index(inplace=True)\n",
    "fill_values_m2_df.head(5)"
   ]
  },
  {
   "cell_type": "code",
   "execution_count": 185,
   "metadata": {},
   "outputs": [
    {
     "data": {
      "text/html": [
       "<div>\n",
       "<style scoped>\n",
       "    .dataframe tbody tr th:only-of-type {\n",
       "        vertical-align: middle;\n",
       "    }\n",
       "\n",
       "    .dataframe tbody tr th {\n",
       "        vertical-align: top;\n",
       "    }\n",
       "\n",
       "    .dataframe thead th {\n",
       "        text-align: right;\n",
       "    }\n",
       "</style>\n",
       "<table border=\"1\" class=\"dataframe\">\n",
       "  <thead>\n",
       "    <tr style=\"text-align: right;\">\n",
       "      <th></th>\n",
       "      <th>operation</th>\n",
       "      <th>property_type</th>\n",
       "      <th>place_name</th>\n",
       "      <th>place_with_parent_names</th>\n",
       "      <th>country_name</th>\n",
       "      <th>state_name</th>\n",
       "      <th>geonames_id</th>\n",
       "      <th>lat-lon</th>\n",
       "      <th>lat</th>\n",
       "      <th>lon</th>\n",
       "      <th>...</th>\n",
       "      <th>description</th>\n",
       "      <th>title</th>\n",
       "      <th>image_thumbnail</th>\n",
       "      <th>Sup_m2_Clean</th>\n",
       "      <th>Sup_m2_Clean_dos</th>\n",
       "      <th>sup_m2_total_limpia</th>\n",
       "      <th>precio_usd_limpio</th>\n",
       "      <th>usd_clean_dos</th>\n",
       "      <th>coef_ajuste_m2</th>\n",
       "      <th>coef_ajuste_m2_median</th>\n",
       "    </tr>\n",
       "  </thead>\n",
       "  <tbody>\n",
       "    <tr>\n",
       "      <th>77643</th>\n",
       "      <td>sell</td>\n",
       "      <td>apartment</td>\n",
       "      <td>Villa Luro</td>\n",
       "      <td>|Argentina|Capital Federal|Villa Luro|</td>\n",
       "      <td>Argentina</td>\n",
       "      <td>Capital Federal</td>\n",
       "      <td>3427407.0</td>\n",
       "      <td>-34.6395938,-58.5006643</td>\n",
       "      <td>-34.639594</td>\n",
       "      <td>-58.500664</td>\n",
       "      <td>...</td>\n",
       "      <td>Venta departamento 3 ambientes en Villa Luro, ...</td>\n",
       "      <td>Departamento - Villa Luro</td>\n",
       "      <td>https://thumbs4.properati.com/5/6f86SNdhWs4aKB...</td>\n",
       "      <td>NaN</td>\n",
       "      <td>NaN</td>\n",
       "      <td>78.0</td>\n",
       "      <td>173000.0</td>\n",
       "      <td>NaN</td>\n",
       "      <td>1.114286</td>\n",
       "      <td>1.126896</td>\n",
       "    </tr>\n",
       "    <tr>\n",
       "      <th>12284</th>\n",
       "      <td>sell</td>\n",
       "      <td>house</td>\n",
       "      <td>Morón</td>\n",
       "      <td>|Argentina|Bs.As. G.B.A. Zona Oeste|Morón|Morón|</td>\n",
       "      <td>Argentina</td>\n",
       "      <td>Bs.As. G.B.A. Zona Oeste</td>\n",
       "      <td>3430544.0</td>\n",
       "      <td>-34.6541213,-58.6101213</td>\n",
       "      <td>-34.654121</td>\n",
       "      <td>-58.610121</td>\n",
       "      <td>...</td>\n",
       "      <td>Venta de Casa 4 AMBIENTES *Apta Crédito* en Mo...</td>\n",
       "      <td>CASA EN VENTA</td>\n",
       "      <td>https://thumbs4.properati.com/3/oLCXn_mYgkIEX6...</td>\n",
       "      <td>120</td>\n",
       "      <td>120</td>\n",
       "      <td>156.0</td>\n",
       "      <td>220000.0</td>\n",
       "      <td>NaN</td>\n",
       "      <td>1.300000</td>\n",
       "      <td>1.800000</td>\n",
       "    </tr>\n",
       "    <tr>\n",
       "      <th>115669</th>\n",
       "      <td>sell</td>\n",
       "      <td>apartment</td>\n",
       "      <td>Córdoba</td>\n",
       "      <td>|Argentina|Córdoba|Córdoba|</td>\n",
       "      <td>Argentina</td>\n",
       "      <td>Córdoba</td>\n",
       "      <td>3860259.0</td>\n",
       "      <td>-31.417198,-64.180184</td>\n",
       "      <td>-31.417198</td>\n",
       "      <td>-64.180184</td>\n",
       "      <td>...</td>\n",
       "      <td>Gestión Inmobiliaria ofrece: DEPARTAMENTO DE C...</td>\n",
       "      <td>DEPARTAMENTO DE CATEGORÍA SOBRE CHACABUCO AL 100</td>\n",
       "      <td>https://thumbs4.properati.com/5/C3RRf1w7M5_1--...</td>\n",
       "      <td>NaN</td>\n",
       "      <td>NaN</td>\n",
       "      <td>NaN</td>\n",
       "      <td>160000.0</td>\n",
       "      <td>NaN</td>\n",
       "      <td>NaN</td>\n",
       "      <td>1.126896</td>\n",
       "    </tr>\n",
       "    <tr>\n",
       "      <th>48392</th>\n",
       "      <td>sell</td>\n",
       "      <td>apartment</td>\n",
       "      <td>Boedo</td>\n",
       "      <td>|Argentina|Capital Federal|Boedo|</td>\n",
       "      <td>Argentina</td>\n",
       "      <td>Capital Federal</td>\n",
       "      <td>3436003.0</td>\n",
       "      <td>-34.623977,-58.4245654</td>\n",
       "      <td>-34.623977</td>\n",
       "      <td>-58.424565</td>\n",
       "      <td>...</td>\n",
       "      <td>DEPARTAMENTO 3 AMBIENTES PISO 7° AL FRENTE CON...</td>\n",
       "      <td>DEPARTAMENTO VENTA BOEDO</td>\n",
       "      <td>https://thumbs4.properati.com/4/EJ0wJ3q6BLgcid...</td>\n",
       "      <td>NaN</td>\n",
       "      <td>NaN</td>\n",
       "      <td>60.0</td>\n",
       "      <td>125000.0</td>\n",
       "      <td>NaN</td>\n",
       "      <td>1.034483</td>\n",
       "      <td>1.126896</td>\n",
       "    </tr>\n",
       "    <tr>\n",
       "      <th>5195</th>\n",
       "      <td>sell</td>\n",
       "      <td>apartment</td>\n",
       "      <td>Parque Chacabuco</td>\n",
       "      <td>|Argentina|Capital Federal|Parque Chacabuco|</td>\n",
       "      <td>Argentina</td>\n",
       "      <td>Capital Federal</td>\n",
       "      <td>3430116.0</td>\n",
       "      <td>-34.6312184,-58.4419489</td>\n",
       "      <td>-34.631218</td>\n",
       "      <td>-58.441949</td>\n",
       "      <td>...</td>\n",
       "      <td>Excelente y hermosísimo departamento de tres a...</td>\n",
       "      <td>Excelente y hermosísimo departamento de tres a...</td>\n",
       "      <td>https://thumbs4.properati.com/0/WQbIJBfZQaE_yR...</td>\n",
       "      <td>NaN</td>\n",
       "      <td>NaN</td>\n",
       "      <td>72.0</td>\n",
       "      <td>186900.0</td>\n",
       "      <td>NaN</td>\n",
       "      <td>1.107692</td>\n",
       "      <td>1.126896</td>\n",
       "    </tr>\n",
       "  </tbody>\n",
       "</table>\n",
       "<p>5 rows × 32 columns</p>\n",
       "</div>"
      ],
      "text/plain": [
       "       operation property_type        place_name  \\\n",
       "77643       sell     apartment        Villa Luro   \n",
       "12284       sell         house             Morón   \n",
       "115669      sell     apartment           Córdoba   \n",
       "48392       sell     apartment             Boedo   \n",
       "5195        sell     apartment  Parque Chacabuco   \n",
       "\n",
       "                                 place_with_parent_names country_name  \\\n",
       "77643             |Argentina|Capital Federal|Villa Luro|    Argentina   \n",
       "12284   |Argentina|Bs.As. G.B.A. Zona Oeste|Morón|Morón|    Argentina   \n",
       "115669                       |Argentina|Córdoba|Córdoba|    Argentina   \n",
       "48392                  |Argentina|Capital Federal|Boedo|    Argentina   \n",
       "5195        |Argentina|Capital Federal|Parque Chacabuco|    Argentina   \n",
       "\n",
       "                      state_name  geonames_id                  lat-lon  \\\n",
       "77643            Capital Federal    3427407.0  -34.6395938,-58.5006643   \n",
       "12284   Bs.As. G.B.A. Zona Oeste    3430544.0  -34.6541213,-58.6101213   \n",
       "115669                   Córdoba    3860259.0    -31.417198,-64.180184   \n",
       "48392            Capital Federal    3436003.0   -34.623977,-58.4245654   \n",
       "5195             Capital Federal    3430116.0  -34.6312184,-58.4419489   \n",
       "\n",
       "              lat        lon  ...  \\\n",
       "77643  -34.639594 -58.500664  ...   \n",
       "12284  -34.654121 -58.610121  ...   \n",
       "115669 -31.417198 -64.180184  ...   \n",
       "48392  -34.623977 -58.424565  ...   \n",
       "5195   -34.631218 -58.441949  ...   \n",
       "\n",
       "                                              description  \\\n",
       "77643   Venta departamento 3 ambientes en Villa Luro, ...   \n",
       "12284   Venta de Casa 4 AMBIENTES *Apta Crédito* en Mo...   \n",
       "115669  Gestión Inmobiliaria ofrece: DEPARTAMENTO DE C...   \n",
       "48392   DEPARTAMENTO 3 AMBIENTES PISO 7° AL FRENTE CON...   \n",
       "5195    Excelente y hermosísimo departamento de tres a...   \n",
       "\n",
       "                                                    title  \\\n",
       "77643                           Departamento - Villa Luro   \n",
       "12284                                       CASA EN VENTA   \n",
       "115669   DEPARTAMENTO DE CATEGORÍA SOBRE CHACABUCO AL 100   \n",
       "48392                            DEPARTAMENTO VENTA BOEDO   \n",
       "5195    Excelente y hermosísimo departamento de tres a...   \n",
       "\n",
       "                                          image_thumbnail  Sup_m2_Clean  \\\n",
       "77643   https://thumbs4.properati.com/5/6f86SNdhWs4aKB...           NaN   \n",
       "12284   https://thumbs4.properati.com/3/oLCXn_mYgkIEX6...           120   \n",
       "115669  https://thumbs4.properati.com/5/C3RRf1w7M5_1--...           NaN   \n",
       "48392   https://thumbs4.properati.com/4/EJ0wJ3q6BLgcid...           NaN   \n",
       "5195    https://thumbs4.properati.com/0/WQbIJBfZQaE_yR...           NaN   \n",
       "\n",
       "        Sup_m2_Clean_dos  sup_m2_total_limpia  precio_usd_limpio  \\\n",
       "77643                NaN                 78.0           173000.0   \n",
       "12284                120                156.0           220000.0   \n",
       "115669               NaN                  NaN           160000.0   \n",
       "48392                NaN                 60.0           125000.0   \n",
       "5195                 NaN                 72.0           186900.0   \n",
       "\n",
       "        usd_clean_dos  coef_ajuste_m2  coef_ajuste_m2_median  \n",
       "77643             NaN        1.114286               1.126896  \n",
       "12284             NaN        1.300000               1.800000  \n",
       "115669            NaN             NaN               1.126896  \n",
       "48392             NaN        1.034483               1.126896  \n",
       "5195              NaN        1.107692               1.126896  \n",
       "\n",
       "[5 rows x 32 columns]"
      ]
     },
     "execution_count": 185,
     "metadata": {},
     "output_type": "execute_result"
    }
   ],
   "source": [
    "data_limpia = data_limpia.merge(fill_values_m2_df,on='property_type',suffixes=('','_median'),how='left')\n",
    "data_limpia.sample(5)"
   ]
  },
  {
   "cell_type": "code",
   "execution_count": 187,
   "metadata": {},
   "outputs": [],
   "source": [
    "#Relleno los nan del coef\n",
    "data_limpia.coef_ajuste_m2.fillna(data_limpia.coef_ajuste_m2_median,inplace=True)"
   ]
  },
  {
   "cell_type": "code",
   "execution_count": 188,
   "metadata": {},
   "outputs": [],
   "source": [
    "data_limpia['m2_total_ajust']=np.where(data_limpia['sup_m2_total_limpia'].isnull(),data_limpia['coef_ajuste_m2']*data_limpia['surface_covered_in_m2'],data_limpia['sup_m2_total_limpia'])"
   ]
  },
  {
   "cell_type": "code",
   "execution_count": 189,
   "metadata": {},
   "outputs": [
    {
     "data": {
      "text/plain": [
       "112158"
      ]
     },
     "execution_count": 189,
     "metadata": {},
     "output_type": "execute_result"
    }
   ],
   "source": [
    "data_limpia.m2_total_ajust.notnull().sum()"
   ]
  },
  {
   "cell_type": "code",
   "execution_count": 190,
   "metadata": {},
   "outputs": [
    {
     "name": "stdout",
     "output_type": "stream",
     "text": [
      "0.8357779244349117\n",
      "0.9252433591816532\n"
     ]
    }
   ],
   "source": [
    "print(data_limpia.surface_covered_in_m2.notnull().sum()/data_limpia.shape[0])\n",
    "print(data_limpia.m2_total_ajust.notnull().sum()/data_limpia.shape[0])"
   ]
  }
 ],
 "metadata": {
  "kernelspec": {
   "display_name": "Python 3.10.4 ('DH')",
   "language": "python",
   "name": "python3"
  },
  "language_info": {
   "codemirror_mode": {
    "name": "ipython",
    "version": 3
   },
   "file_extension": ".py",
   "mimetype": "text/x-python",
   "name": "python",
   "nbconvert_exporter": "python",
   "pygments_lexer": "ipython3",
   "version": "3.10.4"
  },
  "orig_nbformat": 4,
  "vscode": {
   "interpreter": {
    "hash": "7ad4b00cfa812d91f92fb5dc88aa637f6cffee5ca8b01c2f389043adc33b2f6a"
   }
  }
 },
 "nbformat": 4,
 "nbformat_minor": 2
}
