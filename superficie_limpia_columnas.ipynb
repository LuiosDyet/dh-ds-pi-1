{
 "cells": [
  {
   "cell_type": "markdown",
   "metadata": {},
   "source": [
    "RECORDAR DESZIPEAR PROPERATTI.ZIP"
   ]
  },
  {
   "cell_type": "code",
   "execution_count": 2,
   "metadata": {},
   "outputs": [],
   "source": [
    "import pandas as pd\n",
    "import numpy as np"
   ]
  },
  {
   "cell_type": "code",
   "execution_count": 3,
   "metadata": {},
   "outputs": [
    {
     "data": {
      "text/plain": [
       "(121220, 25)"
      ]
     },
     "execution_count": 3,
     "metadata": {},
     "output_type": "execute_result"
    }
   ],
   "source": [
    "data = pd.read_csv(\"properatti.csv\", index_col=0)\n",
    "data.shape"
   ]
  },
  {
   "cell_type": "code",
   "execution_count": 267,
   "metadata": {},
   "outputs": [
    {
     "data": {
      "text/plain": [
       "operation                      object\n",
       "property_type                  object\n",
       "place_name                     object\n",
       "place_with_parent_names        object\n",
       "country_name                   object\n",
       "state_name                     object\n",
       "geonames_id                   float64\n",
       "lat-lon                        object\n",
       "lat                           float64\n",
       "lon                           float64\n",
       "price                         float64\n",
       "currency                       object\n",
       "price_aprox_local_currency    float64\n",
       "price_aprox_usd               float64\n",
       "surface_total_in_m2           float64\n",
       "surface_covered_in_m2         float64\n",
       "price_usd_per_m2              float64\n",
       "price_per_m2                  float64\n",
       "floor                         float64\n",
       "rooms                         float64\n",
       "expenses                      float64\n",
       "properati_url                  object\n",
       "description                    object\n",
       "title                          object\n",
       "image_thumbnail                object\n",
       "dtype: object"
      ]
     },
     "execution_count": 267,
     "metadata": {},
     "output_type": "execute_result"
    }
   ],
   "source": [
    "data.dtypes"
   ]
  },
  {
   "cell_type": "code",
   "execution_count": 268,
   "metadata": {},
   "outputs": [
    {
     "data": {
      "text/plain": [
       "3.0     12567\n",
       "2.0     12433\n",
       "4.0      7937\n",
       "1.0      7377\n",
       "5.0      3782\n",
       "6.0      1403\n",
       "7.0       770\n",
       "8.0       409\n",
       "10.0      226\n",
       "9.0       184\n",
       "11.0       72\n",
       "12.0       65\n",
       "13.0       33\n",
       "14.0       27\n",
       "15.0       26\n",
       "17.0       16\n",
       "16.0       11\n",
       "20.0       11\n",
       "22.0        8\n",
       "18.0        6\n",
       "21.0        5\n",
       "19.0        4\n",
       "30.0        4\n",
       "25.0        4\n",
       "32.0        3\n",
       "23.0        2\n",
       "24.0        1\n",
       "31.0        1\n",
       "29.0        1\n",
       "27.0        1\n",
       "28.0        1\n",
       "Name: rooms, dtype: int64"
      ]
     },
     "execution_count": 268,
     "metadata": {},
     "output_type": "execute_result"
    }
   ],
   "source": [
    "data.rooms.value_counts()"
   ]
  },
  {
   "cell_type": "code",
   "execution_count": 269,
   "metadata": {},
   "outputs": [],
   "source": [
    "mask_residencial= data.property_type != 'store'\n",
    "tipos_residenciales=data.property_type[mask_residencial]\n",
    "rooms_residenciales=data.rooms[mask_residencial]\n",
    "df_residencial=pd.DataFrame(tipos_residenciales)\n",
    "df_residencial['rooms']=rooms_residenciales"
   ]
  },
  {
   "cell_type": "markdown",
   "metadata": {},
   "source": [
    "##### Intentamos ver si los datos faltantes de rooms disminuyen si descontamos las tiendas"
   ]
  },
  {
   "cell_type": "code",
   "execution_count": 270,
   "metadata": {},
   "outputs": [],
   "source": [
    "shape_df=df_residencial.shape\n",
    "count_res=shape_df[0]\n"
   ]
  },
  {
   "cell_type": "code",
   "execution_count": 271,
   "metadata": {},
   "outputs": [
    {
     "data": {
      "text/plain": [
       "0.5961446482867001"
      ]
     },
     "execution_count": 271,
     "metadata": {},
     "output_type": "execute_result"
    }
   ],
   "source": [
    "nulos_room=df_residencial.rooms.isna().sum(axis=0)\n",
    "pctje_nulos_rooms=nulos_room/count_res\n",
    "pctje_nulos_rooms"
   ]
  },
  {
   "cell_type": "markdown",
   "metadata": {},
   "source": [
    "Veamos cuantas rooms tienen las tiendas"
   ]
  },
  {
   "cell_type": "code",
   "execution_count": 272,
   "metadata": {},
   "outputs": [
    {
     "data": {
      "text/plain": [
       "1.0     55\n",
       "2.0     17\n",
       "3.0     13\n",
       "7.0      6\n",
       "4.0      4\n",
       "5.0      4\n",
       "10.0     3\n",
       "6.0      2\n",
       "8.0      1\n",
       "Name: rooms, dtype: int64"
      ]
     },
     "execution_count": 272,
     "metadata": {},
     "output_type": "execute_result"
    }
   ],
   "source": [
    "mask_comercial= data.property_type == 'store'\n",
    "tipos_comerciales=data.property_type[mask_comercial]\n",
    "rooms_comerciales=data.rooms[mask_comercial]\n",
    "df_comercial=pd.DataFrame(tipos_comerciales)\n",
    "df_comercial['rooms']=rooms_comerciales\n",
    "df_comercial.rooms.value_counts()"
   ]
  },
  {
   "cell_type": "markdown",
   "metadata": {},
   "source": [
    "#### Recordemos que el porcentaje original de nulos era similar, "
   ]
  },
  {
   "cell_type": "markdown",
   "metadata": {},
   "source": [
    "Veamos si los faltantes de expensas disminuyen sacando tiendas y casas"
   ]
  },
  {
   "cell_type": "code",
   "execution_count": 273,
   "metadata": {},
   "outputs": [
    {
     "data": {
      "text/plain": [
       "apartment    71065\n",
       "PH            5751\n",
       "Name: property_type, dtype: int64"
      ]
     },
     "execution_count": 273,
     "metadata": {},
     "output_type": "execute_result"
    }
   ],
   "source": [
    "mascara_sin_casas=df_residencial.property_type !='house'\n",
    "expensas_residenciales=data.expenses[mask_residencial]\n",
    "df_residencial['expenses']=expensas_residenciales\n",
    "expensas_deps_ph=expensas_residenciales[mascara_sin_casas]\n",
    "null_exp_clean=expensas_deps_ph.isnull().sum()\n",
    "shape_exp_clean=expensas_deps_ph.shape\n",
    "pctje_null_exp_clean=null_exp_clean/shape_exp_clean[0]\n",
    "pctje_null_exp_clean\n",
    "type_deps_ph=df_residencial.property_type[mascara_sin_casas]\n",
    "type_deps_ph.value_counts()"
   ]
  },
  {
   "cell_type": "code",
   "execution_count": 274,
   "metadata": {},
   "outputs": [
    {
     "data": {
      "text/plain": [
       "0.8496146636117475"
      ]
     },
     "execution_count": 274,
     "metadata": {},
     "output_type": "execute_result"
    }
   ],
   "source": [
    "expensas_deps_ph.isnull().sum()/expensas_deps_ph.shape[0]"
   ]
  },
  {
   "cell_type": "markdown",
   "metadata": {},
   "source": [
    "Probemos ahora sacando los nulos de rooms para tratar de aplicar un promedio del tamaño de las rooms"
   ]
  },
  {
   "cell_type": "code",
   "execution_count": 275,
   "metadata": {},
   "outputs": [
    {
     "data": {
      "text/plain": [
       "False    73830\n",
       "True     47390\n",
       "Name: rooms, dtype: int64"
      ]
     },
     "execution_count": 275,
     "metadata": {},
     "output_type": "execute_result"
    }
   ],
   "source": [
    "mask_rooms_no_nulas=data.rooms.notnull()\n",
    "rooms_no_nulas=data.rooms.loc[mask_rooms_no_nulas]\n",
    "sf_room_no_nulas=data.surface_covered_in_m2.loc[mask_rooms_no_nulas]\n",
    "df_rooms_clean=pd.DataFrame(rooms_no_nulas)\n",
    "df_rooms_clean['m2_covered']=sf_room_no_nulas\n",
    "mask_rooms_no_nulas.value_counts()"
   ]
  },
  {
   "cell_type": "code",
   "execution_count": 276,
   "metadata": {},
   "outputs": [
    {
     "data": {
      "text/plain": [
       "0.12789618062882466"
      ]
     },
     "execution_count": 276,
     "metadata": {},
     "output_type": "execute_result"
    }
   ],
   "source": [
    "m2_nulos_rooms_clean=df_rooms_clean.m2_covered.isnull().sum()\n",
    "shape_rooms_clean=df_rooms_clean.shape\n",
    "pctje_nulos_rooms_clean=m2_nulos_rooms_clean/shape_rooms_clean[0]\n",
    "pctje_nulos_rooms_clean"
   ]
  },
  {
   "cell_type": "markdown",
   "metadata": {},
   "source": [
    "El pctje de m2 cubiertos es ligeramente menor, por lo que no hay mucha correlacion entre nulidad de rooms y nulidad de m2_covered\n",
    "Hay que inputar los m2 cubiertos faltantes antes de poder avanzar a tener un promedio de cuantos m2 tiene cada habitación\n",
    "Para imputar las rooms, me imagino hay que inputar promedio por tipo de propiedad, hace falta por barrio, o alguna caracteristica extra?? Para mi no hace falta"
   ]
  },
  {
   "cell_type": "markdown",
   "metadata": {},
   "source": [
    "### Veamos el tema de los m2 faltantes"
   ]
  },
  {
   "cell_type": "markdown",
   "metadata": {},
   "source": [
    "Primera cosa a tener en cuenta, los m2 covered tienen un pctje nulo del 16% y los totales tienen un pctje del 32%\n",
    "Price_per_m2 tiene un faltante del 28%\n",
    "Price usd per m2 tiene un faltante del 43%\n",
    "Todos las variantes de precios totales tienen un faltante aprox del 17%"
   ]
  },
  {
   "cell_type": "markdown",
   "metadata": {},
   "source": [
    "*JONI! te acordas a que haciamos referencia en este párrafo*"
   ]
  },
  {
   "cell_type": "markdown",
   "metadata": {},
   "source": [
    "# Verificar si existen filas con todos los datos faltantes"
   ]
  },
  {
   "cell_type": "code",
   "execution_count": 277,
   "metadata": {},
   "outputs": [],
   "source": [
    "df_usd_m2 = data['price_usd_per_m2']\n",
    "mask_nan_uds_m2= df_usd_m2.isna()"
   ]
  },
  {
   "cell_type": "code",
   "execution_count": 278,
   "metadata": {},
   "outputs": [],
   "source": [
    "mask_nan_sup_total=data[\"surface_total_in_m2\"].isna()\n",
    "mask_nan_sup_cubierta=data[\"surface_covered_in_m2\"].isna()\n",
    "mask_nan_rooms=data[\"rooms\"].isna()\n"
   ]
  },
  {
   "cell_type": "code",
   "execution_count": 279,
   "metadata": {},
   "outputs": [
    {
     "data": {
      "text/plain": [
       "False    113090\n",
       "True       8130\n",
       "dtype: int64"
      ]
     },
     "execution_count": 279,
     "metadata": {},
     "output_type": "execute_result"
    }
   ],
   "source": [
    "mask_nan_columnas = (mask_nan_sup_total == True) & (mask_nan_sup_cubierta == True) &(mask_nan_rooms == True) &(mask_nan_uds_m2 == True) \n",
    "mask_nan_columnas.value_counts()"
   ]
  },
  {
   "cell_type": "markdown",
   "metadata": {},
   "source": [
    "#Nota: volver a revisar estos datos despues de haber completado todas las columnas con los datos extraidos del campo descripcion - inicial 8130"
   ]
  },
  {
   "cell_type": "markdown",
   "metadata": {},
   "source": [
    "# Se desea recuperar informacion faltante en columnas: Superficie, rooms, precios a traves de los datos otorgados por otras columnas por ejemplo descripción"
   ]
  },
  {
   "cell_type": "markdown",
   "metadata": {},
   "source": [
    "## Columna Superficie"
   ]
  },
  {
   "cell_type": "markdown",
   "metadata": {},
   "source": [
    "### a través de un regex se intenta recuperar informacion de la columna descripción."
   ]
  },
  {
   "cell_type": "code",
   "execution_count": 280,
   "metadata": {},
   "outputs": [],
   "source": [
    "import re"
   ]
  },
  {
   "cell_type": "code",
   "execution_count": 281,
   "metadata": {},
   "outputs": [],
   "source": [
    "serie_descripcion = data[\"description\"]"
   ]
  },
  {
   "cell_type": "code",
   "execution_count": 282,
   "metadata": {},
   "outputs": [],
   "source": [
    "pattern_sup_m2= \"(?P<sup>\\d+.?,?\\d+?.?m2|\\d+.?,?\\d+?.?M2|\\d+.?,?\\d+?.?METROS|\\d+.?,?\\d+?.?Metros|\\d+.?,?\\d+?.?metros|\\d+.?,?\\d+?.?mts|\\d+.?,?\\d+?.?Mts|\\d+.?,?\\d+?.?MTS)\""
   ]
  },
  {
   "cell_type": "code",
   "execution_count": 283,
   "metadata": {},
   "outputs": [],
   "source": [
    "pattern_sup_m2_regex=re.compile(pattern_sup_m2)"
   ]
  },
  {
   "cell_type": "code",
   "execution_count": 284,
   "metadata": {},
   "outputs": [],
   "source": [
    "import numpy as np\n",
    "sup_match = serie_descripcion.apply(lambda x: x if x is np.NaN else pattern_sup_m2_regex.search(x))\n"
   ]
  },
  {
   "cell_type": "code",
   "execution_count": 285,
   "metadata": {},
   "outputs": [
    {
     "data": {
      "text/plain": [
       "21251                                                  None\n",
       "106636                                                 None\n",
       "45333                                                  None\n",
       "68973                                                  None\n",
       "85576     <re.Match object; span=(155, 162), match='3,5 ...\n",
       "64697      <re.Match object; span=(12, 18), match='100 m2'>\n",
       "10082                                                  None\n",
       "29225                                                  None\n",
       "15910                                                  None\n",
       "36158                                                  None\n",
       "Name: description, dtype: object"
      ]
     },
     "execution_count": 285,
     "metadata": {},
     "output_type": "execute_result"
    }
   ],
   "source": [
    "sup_match.sample(10)"
   ]
  },
  {
   "cell_type": "code",
   "execution_count": 286,
   "metadata": {},
   "outputs": [],
   "source": [
    "mask_sup_match_notnull= sup_match.notnull()\n",
    "\n",
    "data.loc[mask_sup_match_notnull, \"Sup_m2_Clean\"] = sup_match[mask_sup_match_notnull].apply(lambda x: x.group(0))\n"
   ]
  },
  {
   "cell_type": "code",
   "execution_count": 287,
   "metadata": {},
   "outputs": [
    {
     "data": {
      "text/html": [
       "<div>\n",
       "<style scoped>\n",
       "    .dataframe tbody tr th:only-of-type {\n",
       "        vertical-align: middle;\n",
       "    }\n",
       "\n",
       "    .dataframe tbody tr th {\n",
       "        vertical-align: top;\n",
       "    }\n",
       "\n",
       "    .dataframe thead th {\n",
       "        text-align: right;\n",
       "    }\n",
       "</style>\n",
       "<table border=\"1\" class=\"dataframe\">\n",
       "  <thead>\n",
       "    <tr style=\"text-align: right;\">\n",
       "      <th></th>\n",
       "      <th>surface_total_in_m2</th>\n",
       "      <th>surface_covered_in_m2</th>\n",
       "      <th>Sup_m2_Clean</th>\n",
       "    </tr>\n",
       "  </thead>\n",
       "  <tbody>\n",
       "    <tr>\n",
       "      <th>6</th>\n",
       "      <td>106.0</td>\n",
       "      <td>78.0</td>\n",
       "      <td>106 m2</td>\n",
       "    </tr>\n",
       "    <tr>\n",
       "      <th>10</th>\n",
       "      <td>1514.0</td>\n",
       "      <td>NaN</td>\n",
       "      <td>1514 metros</td>\n",
       "    </tr>\n",
       "    <tr>\n",
       "      <th>13</th>\n",
       "      <td>50.0</td>\n",
       "      <td>30.0</td>\n",
       "      <td>30 metros</td>\n",
       "    </tr>\n",
       "    <tr>\n",
       "      <th>14</th>\n",
       "      <td>42.0</td>\n",
       "      <td>31.0</td>\n",
       "      <td>30 metros</td>\n",
       "    </tr>\n",
       "    <tr>\n",
       "      <th>18</th>\n",
       "      <td>270.0</td>\n",
       "      <td>270.0</td>\n",
       "      <td>40 m2</td>\n",
       "    </tr>\n",
       "    <tr>\n",
       "      <th>...</th>\n",
       "      <td>...</td>\n",
       "      <td>...</td>\n",
       "      <td>...</td>\n",
       "    </tr>\n",
       "    <tr>\n",
       "      <th>121208</th>\n",
       "      <td>NaN</td>\n",
       "      <td>178.0</td>\n",
       "      <td>210 m2</td>\n",
       "    </tr>\n",
       "    <tr>\n",
       "      <th>121210</th>\n",
       "      <td>NaN</td>\n",
       "      <td>120.0</td>\n",
       "      <td>50 mts</td>\n",
       "    </tr>\n",
       "    <tr>\n",
       "      <th>121216</th>\n",
       "      <td>360.0</td>\n",
       "      <td>360.0</td>\n",
       "      <td>572 m2</td>\n",
       "    </tr>\n",
       "    <tr>\n",
       "      <th>121217</th>\n",
       "      <td>46.0</td>\n",
       "      <td>39.0</td>\n",
       "      <td>43,00m2</td>\n",
       "    </tr>\n",
       "    <tr>\n",
       "      <th>121219</th>\n",
       "      <td>77.0</td>\n",
       "      <td>77.0</td>\n",
       "      <td>77 m2</td>\n",
       "    </tr>\n",
       "  </tbody>\n",
       "</table>\n",
       "<p>40248 rows × 3 columns</p>\n",
       "</div>"
      ],
      "text/plain": [
       "        surface_total_in_m2  surface_covered_in_m2 Sup_m2_Clean\n",
       "6                     106.0                   78.0       106 m2\n",
       "10                   1514.0                    NaN  1514 metros\n",
       "13                     50.0                   30.0    30 metros\n",
       "14                     42.0                   31.0    30 metros\n",
       "18                    270.0                  270.0        40 m2\n",
       "...                     ...                    ...          ...\n",
       "121208                  NaN                  178.0       210 m2\n",
       "121210                  NaN                  120.0       50 mts\n",
       "121216                360.0                  360.0       572 m2\n",
       "121217                 46.0                   39.0      43,00m2\n",
       "121219                 77.0                   77.0        77 m2\n",
       "\n",
       "[40248 rows x 3 columns]"
      ]
     },
     "execution_count": 287,
     "metadata": {},
     "output_type": "execute_result"
    }
   ],
   "source": [
    "data.loc[mask_sup_match_notnull, [\"surface_total_in_m2\", \"surface_covered_in_m2\", \"Sup_m2_Clean\"]]"
   ]
  },
  {
   "cell_type": "code",
   "execution_count": 288,
   "metadata": {},
   "outputs": [],
   "source": [
    "serie_sup_m2_clean=data[\"Sup_m2_Clean\"]"
   ]
  },
  {
   "cell_type": "markdown",
   "metadata": {},
   "source": [
    "## prueba de split  - PARA BORRAR"
   ]
  },
  {
   "cell_type": "code",
   "execution_count": 289,
   "metadata": {},
   "outputs": [
    {
     "data": {
      "text/html": [
       "<div>\n",
       "<style scoped>\n",
       "    .dataframe tbody tr th:only-of-type {\n",
       "        vertical-align: middle;\n",
       "    }\n",
       "\n",
       "    .dataframe tbody tr th {\n",
       "        vertical-align: top;\n",
       "    }\n",
       "\n",
       "    .dataframe thead th {\n",
       "        text-align: right;\n",
       "    }\n",
       "</style>\n",
       "<table border=\"1\" class=\"dataframe\">\n",
       "  <thead>\n",
       "    <tr style=\"text-align: right;\">\n",
       "      <th></th>\n",
       "      <th>0</th>\n",
       "      <th>1</th>\n",
       "      <th>2</th>\n",
       "    </tr>\n",
       "  </thead>\n",
       "  <tbody>\n",
       "    <tr>\n",
       "      <th>41675</th>\n",
       "      <td>10.000</td>\n",
       "      <td></td>\n",
       "      <td>None</td>\n",
       "    </tr>\n",
       "    <tr>\n",
       "      <th>88170</th>\n",
       "      <td>NaN</td>\n",
       "      <td>NaN</td>\n",
       "      <td>NaN</td>\n",
       "    </tr>\n",
       "    <tr>\n",
       "      <th>67144</th>\n",
       "      <td>6500</td>\n",
       "      <td></td>\n",
       "      <td>None</td>\n",
       "    </tr>\n",
       "    <tr>\n",
       "      <th>96604</th>\n",
       "      <td>NaN</td>\n",
       "      <td>NaN</td>\n",
       "      <td>NaN</td>\n",
       "    </tr>\n",
       "    <tr>\n",
       "      <th>3827</th>\n",
       "      <td>NaN</td>\n",
       "      <td>NaN</td>\n",
       "      <td>NaN</td>\n",
       "    </tr>\n",
       "    <tr>\n",
       "      <th>40986</th>\n",
       "      <td>NaN</td>\n",
       "      <td>NaN</td>\n",
       "      <td>NaN</td>\n",
       "    </tr>\n",
       "    <tr>\n",
       "      <th>42329</th>\n",
       "      <td>20 metros</td>\n",
       "      <td>None</td>\n",
       "      <td>None</td>\n",
       "    </tr>\n",
       "    <tr>\n",
       "      <th>97820</th>\n",
       "      <td>7,5 mts</td>\n",
       "      <td>None</td>\n",
       "      <td>None</td>\n",
       "    </tr>\n",
       "    <tr>\n",
       "      <th>41804</th>\n",
       "      <td>NaN</td>\n",
       "      <td>NaN</td>\n",
       "      <td>NaN</td>\n",
       "    </tr>\n",
       "    <tr>\n",
       "      <th>103095</th>\n",
       "      <td>NaN</td>\n",
       "      <td>NaN</td>\n",
       "      <td>NaN</td>\n",
       "    </tr>\n",
       "  </tbody>\n",
       "</table>\n",
       "</div>"
      ],
      "text/plain": [
       "                0     1     2\n",
       "41675     10.000         None\n",
       "88170         NaN   NaN   NaN\n",
       "67144       6500         None\n",
       "96604         NaN   NaN   NaN\n",
       "3827          NaN   NaN   NaN\n",
       "40986         NaN   NaN   NaN\n",
       "42329   20 metros  None  None\n",
       "97820     7,5 mts  None  None\n",
       "41804         NaN   NaN   NaN\n",
       "103095        NaN   NaN   NaN"
      ]
     },
     "execution_count": 289,
     "metadata": {},
     "output_type": "execute_result"
    }
   ],
   "source": [
    "serie_split_sup= serie_sup_m2_clean.str.split(pat=(\"m2\" or \"M2\" or \"mts\" or \"Mts\" or \"MTS\" or \"Metro\" or \"METRO\" or \"metro\"),n =-1, expand = True)\n",
    "serie_split_sup.sample(10)"
   ]
  },
  {
   "cell_type": "markdown",
   "metadata": {},
   "source": [
    "## sacamos la parte str que nos trajimos del regex (REVISAR REGEX PARA HACER POR MODULOS)"
   ]
  },
  {
   "cell_type": "code",
   "execution_count": 290,
   "metadata": {},
   "outputs": [
    {
     "data": {
      "text/plain": [
       "59314                                               NaN\n",
       "79946                                               NaN\n",
       "108395    <re.Match object; span=(0, 5), match='300m2'>\n",
       "53329                                               NaN\n",
       "80725                                               NaN\n",
       "49892                                               NaN\n",
       "73818                                               NaN\n",
       "113797                                              NaN\n",
       "23977                                               NaN\n",
       "117057                                              NaN\n",
       "Name: Sup_m2_Clean, dtype: object"
      ]
     },
     "execution_count": 290,
     "metadata": {},
     "output_type": "execute_result"
    }
   ],
   "source": [
    "pattern_sup_m2_dos=\"(?P<supdos>\\d+.?,?\\d+?.?)\"\n",
    "pattern_sup_m2_regex_dos=re.compile(pattern_sup_m2_dos)\n",
    "sup_match_dos = serie_sup_m2_clean.apply(lambda x: x if x is np.NaN else pattern_sup_m2_regex_dos.search(x))\n",
    "sup_match_dos.sample(10)"
   ]
  },
  {
   "cell_type": "code",
   "execution_count": 291,
   "metadata": {},
   "outputs": [],
   "source": [
    "mask_sup_match_notnull_dos= sup_match_dos.notnull()\n",
    "data.loc[mask_sup_match_notnull_dos, \"Sup_m2_Clean_dos\"] = sup_match_dos[mask_sup_match_notnull_dos].apply(lambda x: x.group(0))"
   ]
  },
  {
   "cell_type": "code",
   "execution_count": 292,
   "metadata": {},
   "outputs": [
    {
     "data": {
      "text/html": [
       "<div>\n",
       "<style scoped>\n",
       "    .dataframe tbody tr th:only-of-type {\n",
       "        vertical-align: middle;\n",
       "    }\n",
       "\n",
       "    .dataframe tbody tr th {\n",
       "        vertical-align: top;\n",
       "    }\n",
       "\n",
       "    .dataframe thead th {\n",
       "        text-align: right;\n",
       "    }\n",
       "</style>\n",
       "<table border=\"1\" class=\"dataframe\">\n",
       "  <thead>\n",
       "    <tr style=\"text-align: right;\">\n",
       "      <th></th>\n",
       "      <th>surface_total_in_m2</th>\n",
       "      <th>surface_covered_in_m2</th>\n",
       "      <th>Sup_m2_Clean_dos</th>\n",
       "    </tr>\n",
       "  </thead>\n",
       "  <tbody>\n",
       "    <tr>\n",
       "      <th>6</th>\n",
       "      <td>106.0</td>\n",
       "      <td>78.0</td>\n",
       "      <td>106</td>\n",
       "    </tr>\n",
       "    <tr>\n",
       "      <th>10</th>\n",
       "      <td>1514.0</td>\n",
       "      <td>NaN</td>\n",
       "      <td>1514</td>\n",
       "    </tr>\n",
       "    <tr>\n",
       "      <th>13</th>\n",
       "      <td>50.0</td>\n",
       "      <td>30.0</td>\n",
       "      <td>30</td>\n",
       "    </tr>\n",
       "    <tr>\n",
       "      <th>14</th>\n",
       "      <td>42.0</td>\n",
       "      <td>31.0</td>\n",
       "      <td>30</td>\n",
       "    </tr>\n",
       "    <tr>\n",
       "      <th>18</th>\n",
       "      <td>270.0</td>\n",
       "      <td>270.0</td>\n",
       "      <td>40</td>\n",
       "    </tr>\n",
       "    <tr>\n",
       "      <th>...</th>\n",
       "      <td>...</td>\n",
       "      <td>...</td>\n",
       "      <td>...</td>\n",
       "    </tr>\n",
       "    <tr>\n",
       "      <th>121208</th>\n",
       "      <td>NaN</td>\n",
       "      <td>178.0</td>\n",
       "      <td>210</td>\n",
       "    </tr>\n",
       "    <tr>\n",
       "      <th>121210</th>\n",
       "      <td>NaN</td>\n",
       "      <td>120.0</td>\n",
       "      <td>50</td>\n",
       "    </tr>\n",
       "    <tr>\n",
       "      <th>121216</th>\n",
       "      <td>360.0</td>\n",
       "      <td>360.0</td>\n",
       "      <td>572</td>\n",
       "    </tr>\n",
       "    <tr>\n",
       "      <th>121217</th>\n",
       "      <td>46.0</td>\n",
       "      <td>39.0</td>\n",
       "      <td>43,00</td>\n",
       "    </tr>\n",
       "    <tr>\n",
       "      <th>121219</th>\n",
       "      <td>77.0</td>\n",
       "      <td>77.0</td>\n",
       "      <td>77</td>\n",
       "    </tr>\n",
       "  </tbody>\n",
       "</table>\n",
       "<p>40248 rows × 3 columns</p>\n",
       "</div>"
      ],
      "text/plain": [
       "        surface_total_in_m2  surface_covered_in_m2 Sup_m2_Clean_dos\n",
       "6                     106.0                   78.0             106 \n",
       "10                   1514.0                    NaN            1514 \n",
       "13                     50.0                   30.0              30 \n",
       "14                     42.0                   31.0              30 \n",
       "18                    270.0                  270.0              40 \n",
       "...                     ...                    ...              ...\n",
       "121208                  NaN                  178.0             210 \n",
       "121210                  NaN                  120.0              50 \n",
       "121216                360.0                  360.0             572 \n",
       "121217                 46.0                   39.0            43,00\n",
       "121219                 77.0                   77.0              77 \n",
       "\n",
       "[40248 rows x 3 columns]"
      ]
     },
     "execution_count": 292,
     "metadata": {},
     "output_type": "execute_result"
    }
   ],
   "source": [
    "data.loc[mask_sup_match_notnull, [\"surface_total_in_m2\", \"surface_covered_in_m2\", \"Sup_m2_Clean_dos\"]]"
   ]
  },
  {
   "cell_type": "markdown",
   "metadata": {},
   "source": [
    "# eliminar datos erroneos q quedaron de regex!!! - PENDIENTE"
   ]
  },
  {
   "cell_type": "code",
   "execution_count": 293,
   "metadata": {},
   "outputs": [
    {
     "data": {
      "text/html": [
       "<div>\n",
       "<style scoped>\n",
       "    .dataframe tbody tr th:only-of-type {\n",
       "        vertical-align: middle;\n",
       "    }\n",
       "\n",
       "    .dataframe tbody tr th {\n",
       "        vertical-align: top;\n",
       "    }\n",
       "\n",
       "    .dataframe thead th {\n",
       "        text-align: right;\n",
       "    }\n",
       "</style>\n",
       "<table border=\"1\" class=\"dataframe\">\n",
       "  <thead>\n",
       "    <tr style=\"text-align: right;\">\n",
       "      <th></th>\n",
       "      <th>operation</th>\n",
       "      <th>property_type</th>\n",
       "      <th>place_name</th>\n",
       "      <th>place_with_parent_names</th>\n",
       "      <th>country_name</th>\n",
       "      <th>state_name</th>\n",
       "      <th>geonames_id</th>\n",
       "      <th>lat-lon</th>\n",
       "      <th>lat</th>\n",
       "      <th>lon</th>\n",
       "      <th>...</th>\n",
       "      <th>price_per_m2</th>\n",
       "      <th>floor</th>\n",
       "      <th>rooms</th>\n",
       "      <th>expenses</th>\n",
       "      <th>properati_url</th>\n",
       "      <th>description</th>\n",
       "      <th>title</th>\n",
       "      <th>image_thumbnail</th>\n",
       "      <th>Sup_m2_Clean</th>\n",
       "      <th>Sup_m2_Clean_dos</th>\n",
       "    </tr>\n",
       "  </thead>\n",
       "  <tbody>\n",
       "    <tr>\n",
       "      <th>175</th>\n",
       "      <td>sell</td>\n",
       "      <td>apartment</td>\n",
       "      <td>Confluencia</td>\n",
       "      <td>|Argentina|Neuquén|Confluencia|</td>\n",
       "      <td>Argentina</td>\n",
       "      <td>Neuquén</td>\n",
       "      <td>3860360.0</td>\n",
       "      <td>-38.974274,-68.019125</td>\n",
       "      <td>-38.974274</td>\n",
       "      <td>-68.019125</td>\n",
       "      <td>...</td>\n",
       "      <td>NaN</td>\n",
       "      <td>NaN</td>\n",
       "      <td>NaN</td>\n",
       "      <td>NaN</td>\n",
       "      <td>http://www.properati.com.ar/15dco_venta_depart...</td>\n",
       "      <td>Corredor Responsable: Silvina Gallegos - Matri...</td>\n",
       "      <td>Depto. en PH 2 habitaciones.</td>\n",
       "      <td>https://thumbs4.properati.com/1/wVUKCFlGiDlRYC...</td>\n",
       "      <td>83M2</td>\n",
       "      <td>83M2</td>\n",
       "    </tr>\n",
       "    <tr>\n",
       "      <th>56980</th>\n",
       "      <td>sell</td>\n",
       "      <td>apartment</td>\n",
       "      <td>Confluencia</td>\n",
       "      <td>|Argentina|Neuquén|Confluencia|</td>\n",
       "      <td>Argentina</td>\n",
       "      <td>Neuquén</td>\n",
       "      <td>3860360.0</td>\n",
       "      <td>-38.974691,-68.019404</td>\n",
       "      <td>-38.974691</td>\n",
       "      <td>-68.019404</td>\n",
       "      <td>...</td>\n",
       "      <td>NaN</td>\n",
       "      <td>NaN</td>\n",
       "      <td>3.0</td>\n",
       "      <td>NaN</td>\n",
       "      <td>http://www.properati.com.ar/19ryz_venta_depart...</td>\n",
       "      <td>Corredor Responsable: Silvina Gallegos - Matri...</td>\n",
       "      <td>Venta Departamento 2 Dorm. Neuquen</td>\n",
       "      <td>https://thumbs4.properati.com/7/yFO66wx9l5f0eK...</td>\n",
       "      <td>83M2</td>\n",
       "      <td>83M2</td>\n",
       "    </tr>\n",
       "    <tr>\n",
       "      <th>74283</th>\n",
       "      <td>sell</td>\n",
       "      <td>house</td>\n",
       "      <td>Longchamps</td>\n",
       "      <td>|Argentina|Bs.As. G.B.A. Zona Sur|Almirante Br...</td>\n",
       "      <td>Argentina</td>\n",
       "      <td>Bs.As. G.B.A. Zona Sur</td>\n",
       "      <td>3431259.0</td>\n",
       "      <td>NaN</td>\n",
       "      <td>NaN</td>\n",
       "      <td>NaN</td>\n",
       "      <td>...</td>\n",
       "      <td>1137.254902</td>\n",
       "      <td>NaN</td>\n",
       "      <td>NaN</td>\n",
       "      <td>NaN</td>\n",
       "      <td>http://www.properati.com.ar/1aorv_venta_casa_l...</td>\n",
       "      <td>SOBRE LA CALLE PROVINCIA DE BUENOS AIRES Nº 75...</td>\n",
       "      <td>VENDE CASA</td>\n",
       "      <td>https://thumbs4.properati.com/3/z1q0d0wx7iomND...</td>\n",
       "      <td>83M2</td>\n",
       "      <td>83M2</td>\n",
       "    </tr>\n",
       "    <tr>\n",
       "      <th>81572</th>\n",
       "      <td>sell</td>\n",
       "      <td>PH</td>\n",
       "      <td>Virreyes</td>\n",
       "      <td>|Argentina|Bs.As. G.B.A. Zona Norte|San Fernan...</td>\n",
       "      <td>Argentina</td>\n",
       "      <td>Bs.As. G.B.A. Zona Norte</td>\n",
       "      <td>3427354.0</td>\n",
       "      <td>NaN</td>\n",
       "      <td>NaN</td>\n",
       "      <td>NaN</td>\n",
       "      <td>...</td>\n",
       "      <td>1506.024096</td>\n",
       "      <td>NaN</td>\n",
       "      <td>NaN</td>\n",
       "      <td>NaN</td>\n",
       "      <td>http://www.properati.com.ar/1ay67_venta_ph_vir...</td>\n",
       "      <td>PH 3 AMB PLANTA BAJA AL FONDO A ESTRENAR SUP C...</td>\n",
       "      <td>PH en Virreyes</td>\n",
       "      <td>https://thumbs4.properati.com/9/ArIMMQ0K3a17oi...</td>\n",
       "      <td>83M2</td>\n",
       "      <td>83M2</td>\n",
       "    </tr>\n",
       "    <tr>\n",
       "      <th>111421</th>\n",
       "      <td>sell</td>\n",
       "      <td>apartment</td>\n",
       "      <td>San Cristobal</td>\n",
       "      <td>|Argentina|Capital Federal|San Cristobal|</td>\n",
       "      <td>Argentina</td>\n",
       "      <td>Capital Federal</td>\n",
       "      <td>3429153.0</td>\n",
       "      <td>-34.624843,-58.405761</td>\n",
       "      <td>-34.624843</td>\n",
       "      <td>-58.405761</td>\n",
       "      <td>...</td>\n",
       "      <td>1915.662651</td>\n",
       "      <td>7.0</td>\n",
       "      <td>4.0</td>\n",
       "      <td>NaN</td>\n",
       "      <td>http://www.properati.com.ar/1c5om_venta_depart...</td>\n",
       "      <td>Corredor Responsable: Martin Macagno - CUCICBA...</td>\n",
       "      <td>VENTA DEPARTAMENTO 4 AMB APTO CREDITO SAN CRIS...</td>\n",
       "      <td>https://thumbs4.properati.com/0/9HWwqeUA2MdDBk...</td>\n",
       "      <td>83M2</td>\n",
       "      <td>83M2</td>\n",
       "    </tr>\n",
       "    <tr>\n",
       "      <th>115192</th>\n",
       "      <td>sell</td>\n",
       "      <td>apartment</td>\n",
       "      <td>Córdoba</td>\n",
       "      <td>|Argentina|Córdoba|Córdoba|</td>\n",
       "      <td>Argentina</td>\n",
       "      <td>Córdoba</td>\n",
       "      <td>3860259.0</td>\n",
       "      <td>-31.417198,-64.180184</td>\n",
       "      <td>-31.417198</td>\n",
       "      <td>-64.180184</td>\n",
       "      <td>...</td>\n",
       "      <td>NaN</td>\n",
       "      <td>NaN</td>\n",
       "      <td>NaN</td>\n",
       "      <td>NaN</td>\n",
       "      <td>http://www.properati.com.ar/1caub_venta_depart...</td>\n",
       "      <td>DEPARTAMENTO DOS DORMITORIOS CHACABUCO AL 100 ...</td>\n",
       "      <td>DEPARTAMENTO CÉNTRICO 2 DOR.</td>\n",
       "      <td>https://thumbs4.properati.com/1/81tQwcNQVyxo_9...</td>\n",
       "      <td>83M2</td>\n",
       "      <td>83M2</td>\n",
       "    </tr>\n",
       "  </tbody>\n",
       "</table>\n",
       "<p>6 rows × 27 columns</p>\n",
       "</div>"
      ],
      "text/plain": [
       "       operation property_type     place_name  \\\n",
       "175         sell     apartment    Confluencia   \n",
       "56980       sell     apartment    Confluencia   \n",
       "74283       sell         house     Longchamps   \n",
       "81572       sell            PH       Virreyes   \n",
       "111421      sell     apartment  San Cristobal   \n",
       "115192      sell     apartment        Córdoba   \n",
       "\n",
       "                                  place_with_parent_names country_name  \\\n",
       "175                       |Argentina|Neuquén|Confluencia|    Argentina   \n",
       "56980                     |Argentina|Neuquén|Confluencia|    Argentina   \n",
       "74283   |Argentina|Bs.As. G.B.A. Zona Sur|Almirante Br...    Argentina   \n",
       "81572   |Argentina|Bs.As. G.B.A. Zona Norte|San Fernan...    Argentina   \n",
       "111421          |Argentina|Capital Federal|San Cristobal|    Argentina   \n",
       "115192                        |Argentina|Córdoba|Córdoba|    Argentina   \n",
       "\n",
       "                      state_name  geonames_id                lat-lon  \\\n",
       "175                      Neuquén    3860360.0  -38.974274,-68.019125   \n",
       "56980                    Neuquén    3860360.0  -38.974691,-68.019404   \n",
       "74283     Bs.As. G.B.A. Zona Sur    3431259.0                    NaN   \n",
       "81572   Bs.As. G.B.A. Zona Norte    3427354.0                    NaN   \n",
       "111421           Capital Federal    3429153.0  -34.624843,-58.405761   \n",
       "115192                   Córdoba    3860259.0  -31.417198,-64.180184   \n",
       "\n",
       "              lat        lon  ...  price_per_m2 floor  rooms  expenses  \\\n",
       "175    -38.974274 -68.019125  ...           NaN   NaN    NaN       NaN   \n",
       "56980  -38.974691 -68.019404  ...           NaN   NaN    3.0       NaN   \n",
       "74283         NaN        NaN  ...   1137.254902   NaN    NaN       NaN   \n",
       "81572         NaN        NaN  ...   1506.024096   NaN    NaN       NaN   \n",
       "111421 -34.624843 -58.405761  ...   1915.662651   7.0    4.0       NaN   \n",
       "115192 -31.417198 -64.180184  ...           NaN   NaN    NaN       NaN   \n",
       "\n",
       "                                            properati_url  \\\n",
       "175     http://www.properati.com.ar/15dco_venta_depart...   \n",
       "56980   http://www.properati.com.ar/19ryz_venta_depart...   \n",
       "74283   http://www.properati.com.ar/1aorv_venta_casa_l...   \n",
       "81572   http://www.properati.com.ar/1ay67_venta_ph_vir...   \n",
       "111421  http://www.properati.com.ar/1c5om_venta_depart...   \n",
       "115192  http://www.properati.com.ar/1caub_venta_depart...   \n",
       "\n",
       "                                              description  \\\n",
       "175     Corredor Responsable: Silvina Gallegos - Matri...   \n",
       "56980   Corredor Responsable: Silvina Gallegos - Matri...   \n",
       "74283   SOBRE LA CALLE PROVINCIA DE BUENOS AIRES Nº 75...   \n",
       "81572   PH 3 AMB PLANTA BAJA AL FONDO A ESTRENAR SUP C...   \n",
       "111421  Corredor Responsable: Martin Macagno - CUCICBA...   \n",
       "115192  DEPARTAMENTO DOS DORMITORIOS CHACABUCO AL 100 ...   \n",
       "\n",
       "                                                    title  \\\n",
       "175                          Depto. en PH 2 habitaciones.   \n",
       "56980                  Venta Departamento 2 Dorm. Neuquen   \n",
       "74283                                          VENDE CASA   \n",
       "81572                                      PH en Virreyes   \n",
       "111421  VENTA DEPARTAMENTO 4 AMB APTO CREDITO SAN CRIS...   \n",
       "115192                      DEPARTAMENTO CÉNTRICO 2 DOR.    \n",
       "\n",
       "                                          image_thumbnail  Sup_m2_Clean  \\\n",
       "175     https://thumbs4.properati.com/1/wVUKCFlGiDlRYC...          83M2   \n",
       "56980   https://thumbs4.properati.com/7/yFO66wx9l5f0eK...          83M2   \n",
       "74283   https://thumbs4.properati.com/3/z1q0d0wx7iomND...          83M2   \n",
       "81572   https://thumbs4.properati.com/9/ArIMMQ0K3a17oi...          83M2   \n",
       "111421  https://thumbs4.properati.com/0/9HWwqeUA2MdDBk...          83M2   \n",
       "115192  https://thumbs4.properati.com/1/81tQwcNQVyxo_9...          83M2   \n",
       "\n",
       "        Sup_m2_Clean_dos  \n",
       "175                 83M2  \n",
       "56980               83M2  \n",
       "74283               83M2  \n",
       "81572               83M2  \n",
       "111421              83M2  \n",
       "115192              83M2  \n",
       "\n",
       "[6 rows x 27 columns]"
      ]
     },
     "execution_count": 293,
     "metadata": {},
     "output_type": "execute_result"
    }
   ],
   "source": [
    "mascara_83 = data[\"Sup_m2_Clean_dos\"] == \"83M2\"\n",
    "data[mascara_83]"
   ]
  },
  {
   "cell_type": "code",
   "execution_count": 294,
   "metadata": {},
   "outputs": [
    {
     "data": {
      "text/html": [
       "<div>\n",
       "<style scoped>\n",
       "    .dataframe tbody tr th:only-of-type {\n",
       "        vertical-align: middle;\n",
       "    }\n",
       "\n",
       "    .dataframe tbody tr th {\n",
       "        vertical-align: top;\n",
       "    }\n",
       "\n",
       "    .dataframe thead th {\n",
       "        text-align: right;\n",
       "    }\n",
       "</style>\n",
       "<table border=\"1\" class=\"dataframe\">\n",
       "  <thead>\n",
       "    <tr style=\"text-align: right;\">\n",
       "      <th></th>\n",
       "      <th>operation</th>\n",
       "      <th>property_type</th>\n",
       "      <th>place_name</th>\n",
       "      <th>place_with_parent_names</th>\n",
       "      <th>country_name</th>\n",
       "      <th>state_name</th>\n",
       "      <th>geonames_id</th>\n",
       "      <th>lat-lon</th>\n",
       "      <th>lat</th>\n",
       "      <th>lon</th>\n",
       "      <th>...</th>\n",
       "      <th>price_per_m2</th>\n",
       "      <th>floor</th>\n",
       "      <th>rooms</th>\n",
       "      <th>expenses</th>\n",
       "      <th>properati_url</th>\n",
       "      <th>description</th>\n",
       "      <th>title</th>\n",
       "      <th>image_thumbnail</th>\n",
       "      <th>Sup_m2_Clean</th>\n",
       "      <th>Sup_m2_Clean_dos</th>\n",
       "    </tr>\n",
       "  </thead>\n",
       "  <tbody>\n",
       "  </tbody>\n",
       "</table>\n",
       "<p>0 rows × 27 columns</p>\n",
       "</div>"
      ],
      "text/plain": [
       "Empty DataFrame\n",
       "Columns: [operation, property_type, place_name, place_with_parent_names, country_name, state_name, geonames_id, lat-lon, lat, lon, price, currency, price_aprox_local_currency, price_aprox_usd, surface_total_in_m2, surface_covered_in_m2, price_usd_per_m2, price_per_m2, floor, rooms, expenses, properati_url, description, title, image_thumbnail, Sup_m2_Clean, Sup_m2_Clean_dos]\n",
       "Index: []\n",
       "\n",
       "[0 rows x 27 columns]"
      ]
     },
     "execution_count": 294,
     "metadata": {},
     "output_type": "execute_result"
    }
   ],
   "source": [
    "mascara_coma = data['Sup_m2_Clean_dos'] == '3,5'\n",
    "data[mascara_coma]"
   ]
  },
  {
   "cell_type": "code",
   "execution_count": 295,
   "metadata": {},
   "outputs": [
    {
     "data": {
      "text/plain": [
       "0           NaN\n",
       "1           NaN\n",
       "2           NaN\n",
       "3           NaN\n",
       "4           NaN\n",
       "          ...  \n",
       "121215      NaN\n",
       "121216     572 \n",
       "121217    43,00\n",
       "121218      NaN\n",
       "121219      77 \n",
       "Name: Sup_m2_Clean_dos, Length: 121220, dtype: object"
      ]
     },
     "execution_count": 295,
     "metadata": {},
     "output_type": "execute_result"
    }
   ],
   "source": [
    "data_replace = data['Sup_m2_Clean_dos'].replace(\",\", \".\" )\n",
    "data_replace"
   ]
  },
  {
   "cell_type": "markdown",
   "metadata": {},
   "source": [
    "## Se completan datos faltantes de superficie total con valores disponibles en la columna superficie cubierta. *Se considera que el precio de venta se verá influenciado por los m2 totales de la superficie*"
   ]
  },
  {
   "cell_type": "code",
   "execution_count": 296,
   "metadata": {},
   "outputs": [],
   "source": [
    "data_limpia= data\n"
   ]
  },
  {
   "cell_type": "code",
   "execution_count": 297,
   "metadata": {},
   "outputs": [
    {
     "data": {
      "text/plain": [
       "12369"
      ]
     },
     "execution_count": 297,
     "metadata": {},
     "output_type": "execute_result"
    }
   ],
   "source": [
    "data_limpia[\"surface_total_in_m2\"].fillna(data_limpia[\"surface_covered_in_m2\"],inplace=True)\n",
    "data_limpia[\"surface_total_in_m2\"].isnull().sum()"
   ]
  },
  {
   "cell_type": "markdown",
   "metadata": {},
   "source": [
    "### se adicionan los datos obtenidos de la columna descripcion."
   ]
  },
  {
   "cell_type": "code",
   "execution_count": 298,
   "metadata": {},
   "outputs": [
    {
     "data": {
      "text/plain": [
       "9047"
      ]
     },
     "execution_count": 298,
     "metadata": {},
     "output_type": "execute_result"
    }
   ],
   "source": [
    "data_limpia[\"surface_total_in_m2\"].fillna(data_limpia[\"Sup_m2_Clean_dos\"],inplace=True)\n",
    "data_limpia[\"surface_total_in_m2\"].isnull().sum()"
   ]
  },
  {
   "cell_type": "code",
   "execution_count": 299,
   "metadata": {},
   "outputs": [
    {
     "data": {
      "text/plain": [
       "100.0"
      ]
     },
     "execution_count": 299,
     "metadata": {},
     "output_type": "execute_result"
    }
   ],
   "source": [
    "data_limpia[\"surface_total_in_m2\"].isnull().sum()/data[\"surface_total_in_m2\"].isnull().sum()*100"
   ]
  },
  {
   "cell_type": "markdown",
   "metadata": {},
   "source": [
    "### se recupera el 23% de la informacion faltante al suponer superficie cubierta como superficie total y al extraer informacion con metodo regex de la columna descripción \n",
    "nota. para sacar el % correr archivo data nuevamente - REVISAR"
   ]
  },
  {
   "cell_type": "markdown",
   "metadata": {},
   "source": [
    "# Para los datos faltantes en la columna de interés, se desea agrupar por tipo de propiedad para sacar la mediana de los m2 totales y estratificar los valores. de esta manera podriamos tener los datos completos."
   ]
  },
  {
   "cell_type": "markdown",
   "metadata": {},
   "source": [
    "# Columna Rooms"
   ]
  },
  {
   "cell_type": "markdown",
   "metadata": {},
   "source": [
    "### Revisar relacion precio vs rooms. comparar propiedades similares con distinta cantidad de rooms para ver si varia sustancialmente el precio - PENDIENTE"
   ]
  },
  {
   "cell_type": "code",
   "execution_count": null,
   "metadata": {},
   "outputs": [],
   "source": [
    "pattern_rooms= \"(?P<dorm>\\d+.?Dorm|\\d+.?dorm|\\d+.?DORM|\\d+.?AMB|\\d+.?Amb|\\d+.?amb|\\d+.?hab|\\d+.?HAB|\\d+.?Hab|monoamb)\""
   ]
  },
  {
   "cell_type": "code",
   "execution_count": null,
   "metadata": {},
   "outputs": [],
   "source": [
    "pattern_rooms_regex=re.compile(pattern_rooms)"
   ]
  },
  {
   "cell_type": "code",
   "execution_count": null,
   "metadata": {},
   "outputs": [],
   "source": [
    "room_match = serie_descripcion.apply(lambda x: x if x is np.NaN else pattern_rooms_regex.search(x))"
   ]
  },
  {
   "cell_type": "code",
   "execution_count": null,
   "metadata": {},
   "outputs": [
    {
     "data": {
      "text/plain": [
       "85707                                                 None\n",
       "59601    <re.Match object; span=(385, 390), match='2 amb'>\n",
       "27193                                                 None\n",
       "56140      <re.Match object; span=(40, 45), match='2 AMB'>\n",
       "92918      <re.Match object; span=(68, 73), match='3 amb'>\n",
       "379      <re.Match object; span=(29, 36), match='monoamb'>\n",
       "59235                                                 None\n",
       "13783     <re.Match object; span=(26, 32), match='2 dorm'>\n",
       "4794                                                  None\n",
       "92205    <re.Match object; span=(174, 179), match='4 amb'>\n",
       "Name: description, dtype: object"
      ]
     },
     "execution_count": 243,
     "metadata": {},
     "output_type": "execute_result"
    }
   ],
   "source": [
    "room_match.sample(10)"
   ]
  },
  {
   "cell_type": "code",
   "execution_count": null,
   "metadata": {},
   "outputs": [],
   "source": [
    "mask_rooms_notnull= room_match.notnull()\n",
    "\n",
    "data.loc[mask_rooms_notnull, \"rooms_clean\"] = room_match[mask_rooms_notnull].apply(lambda x: x.group(0))\n"
   ]
  },
  {
   "cell_type": "code",
   "execution_count": null,
   "metadata": {},
   "outputs": [
    {
     "data": {
      "text/plain": [
       "79790      4 dorm\n",
       "105074    monoamb\n",
       "76474         NaN\n",
       "78317       3 AMB\n",
       "2913        2 amb\n",
       "Name: rooms_clean, dtype: object"
      ]
     },
     "execution_count": 245,
     "metadata": {},
     "output_type": "execute_result"
    }
   ],
   "source": [
    "serie_rooms_clean=data[\"rooms_clean\"]\n",
    "serie_rooms_clean.sample(5)\n"
   ]
  },
  {
   "cell_type": "markdown",
   "metadata": {},
   "source": [
    "### se saca la parte entera del str"
   ]
  },
  {
   "cell_type": "code",
   "execution_count": null,
   "metadata": {},
   "outputs": [
    {
     "data": {
      "text/plain": [
       "35542                                            NaN\n",
       "103232                                           NaN\n",
       "18214                                            NaN\n",
       "43497     <re.Match object; span=(0, 2), match='3 '>\n",
       "77595                                            NaN\n",
       "85059                                            NaN\n",
       "3426      <re.Match object; span=(0, 2), match='3 '>\n",
       "92193     <re.Match object; span=(0, 2), match='4 '>\n",
       "104339    <re.Match object; span=(0, 2), match='4 '>\n",
       "4172      <re.Match object; span=(0, 2), match='3 '>\n",
       "Name: rooms_clean, dtype: object"
      ]
     },
     "execution_count": 246,
     "metadata": {},
     "output_type": "execute_result"
    }
   ],
   "source": [
    "pattern_rooms_dos=\"(?P<dorm_dos>\\d+.?)\"\n",
    "pattern_rooms_regex_dos=re.compile(pattern_rooms_dos)\n",
    "room_match_dos = serie_rooms_clean.apply(lambda x: x if x is np.NaN else pattern_rooms_regex_dos.search(x))\n",
    "room_match_dos.sample(10)"
   ]
  },
  {
   "cell_type": "code",
   "execution_count": null,
   "metadata": {},
   "outputs": [],
   "source": [
    "mask_room_match_notnull_dos= room_match_dos.notnull()\n",
    "\n",
    "data.loc[mask_room_match_notnull_dos,\"rooms_clean_dos\"] = room_match_dos[mask_room_match_notnull_dos].apply(lambda x: x.group(0))"
   ]
  },
  {
   "cell_type": "code",
   "execution_count": null,
   "metadata": {},
   "outputs": [
    {
     "data": {
      "text/html": [
       "<div>\n",
       "<style scoped>\n",
       "    .dataframe tbody tr th:only-of-type {\n",
       "        vertical-align: middle;\n",
       "    }\n",
       "\n",
       "    .dataframe tbody tr th {\n",
       "        vertical-align: top;\n",
       "    }\n",
       "\n",
       "    .dataframe thead th {\n",
       "        text-align: right;\n",
       "    }\n",
       "</style>\n",
       "<table border=\"1\" class=\"dataframe\">\n",
       "  <thead>\n",
       "    <tr style=\"text-align: right;\">\n",
       "      <th></th>\n",
       "      <th>rooms</th>\n",
       "      <th>rooms_clean_dos</th>\n",
       "    </tr>\n",
       "  </thead>\n",
       "  <tbody>\n",
       "    <tr>\n",
       "      <th>0</th>\n",
       "      <td>NaN</td>\n",
       "      <td>2</td>\n",
       "    </tr>\n",
       "    <tr>\n",
       "      <th>2</th>\n",
       "      <td>NaN</td>\n",
       "      <td>2</td>\n",
       "    </tr>\n",
       "    <tr>\n",
       "      <th>3</th>\n",
       "      <td>NaN</td>\n",
       "      <td>3</td>\n",
       "    </tr>\n",
       "    <tr>\n",
       "      <th>4</th>\n",
       "      <td>NaN</td>\n",
       "      <td>1</td>\n",
       "    </tr>\n",
       "    <tr>\n",
       "      <th>9</th>\n",
       "      <td>NaN</td>\n",
       "      <td>2</td>\n",
       "    </tr>\n",
       "    <tr>\n",
       "      <th>...</th>\n",
       "      <td>...</td>\n",
       "      <td>...</td>\n",
       "    </tr>\n",
       "    <tr>\n",
       "      <th>121212</th>\n",
       "      <td>NaN</td>\n",
       "      <td>1</td>\n",
       "    </tr>\n",
       "    <tr>\n",
       "      <th>121213</th>\n",
       "      <td>NaN</td>\n",
       "      <td>3</td>\n",
       "    </tr>\n",
       "    <tr>\n",
       "      <th>121215</th>\n",
       "      <td>NaN</td>\n",
       "      <td>2</td>\n",
       "    </tr>\n",
       "    <tr>\n",
       "      <th>121216</th>\n",
       "      <td>NaN</td>\n",
       "      <td>3</td>\n",
       "    </tr>\n",
       "    <tr>\n",
       "      <th>121218</th>\n",
       "      <td>NaN</td>\n",
       "      <td>2</td>\n",
       "    </tr>\n",
       "  </tbody>\n",
       "</table>\n",
       "<p>70853 rows × 2 columns</p>\n",
       "</div>"
      ],
      "text/plain": [
       "        rooms rooms_clean_dos\n",
       "0         NaN              2 \n",
       "2         NaN              2 \n",
       "3         NaN              3 \n",
       "4         NaN              1 \n",
       "9         NaN              2 \n",
       "...       ...             ...\n",
       "121212    NaN              1 \n",
       "121213    NaN              3 \n",
       "121215    NaN              2 \n",
       "121216    NaN              3 \n",
       "121218    NaN              2 \n",
       "\n",
       "[70853 rows x 2 columns]"
      ]
     },
     "execution_count": 248,
     "metadata": {},
     "output_type": "execute_result"
    }
   ],
   "source": [
    "data.loc[mask_room_match_notnull_dos, [\"rooms\", \"rooms_clean_dos\"]]"
   ]
  },
  {
   "cell_type": "code",
   "execution_count": null,
   "metadata": {},
   "outputs": [
    {
     "data": {
      "text/html": [
       "<div>\n",
       "<style scoped>\n",
       "    .dataframe tbody tr th:only-of-type {\n",
       "        vertical-align: middle;\n",
       "    }\n",
       "\n",
       "    .dataframe tbody tr th {\n",
       "        vertical-align: top;\n",
       "    }\n",
       "\n",
       "    .dataframe thead th {\n",
       "        text-align: right;\n",
       "    }\n",
       "</style>\n",
       "<table border=\"1\" class=\"dataframe\">\n",
       "  <thead>\n",
       "    <tr style=\"text-align: right;\">\n",
       "      <th></th>\n",
       "      <th>operation</th>\n",
       "      <th>property_type</th>\n",
       "      <th>place_name</th>\n",
       "      <th>place_with_parent_names</th>\n",
       "      <th>country_name</th>\n",
       "      <th>state_name</th>\n",
       "      <th>geonames_id</th>\n",
       "      <th>lat-lon</th>\n",
       "      <th>lat</th>\n",
       "      <th>lon</th>\n",
       "      <th>...</th>\n",
       "      <th>rooms</th>\n",
       "      <th>expenses</th>\n",
       "      <th>properati_url</th>\n",
       "      <th>description</th>\n",
       "      <th>title</th>\n",
       "      <th>image_thumbnail</th>\n",
       "      <th>Sup_m2_Clean</th>\n",
       "      <th>Sup_m2_Clean_dos</th>\n",
       "      <th>rooms_clean</th>\n",
       "      <th>rooms_clean_dos</th>\n",
       "    </tr>\n",
       "  </thead>\n",
       "  <tbody>\n",
       "    <tr>\n",
       "      <th>0</th>\n",
       "      <td>sell</td>\n",
       "      <td>PH</td>\n",
       "      <td>Mataderos</td>\n",
       "      <td>|Argentina|Capital Federal|Mataderos|</td>\n",
       "      <td>Argentina</td>\n",
       "      <td>Capital Federal</td>\n",
       "      <td>3430787.0</td>\n",
       "      <td>-34.6618237,-58.5088387</td>\n",
       "      <td>-34.661824</td>\n",
       "      <td>-58.508839</td>\n",
       "      <td>...</td>\n",
       "      <td>2</td>\n",
       "      <td>NaN</td>\n",
       "      <td>http://www.properati.com.ar/15bo8_venta_ph_mat...</td>\n",
       "      <td>2 AMBIENTES TIPO CASA PLANTA BAJA POR PASILLO,...</td>\n",
       "      <td>2 AMB TIPO CASA SIN EXPENSAS EN PB</td>\n",
       "      <td>https://thumbs4.properati.com/8/BluUYiHJLhgIIK...</td>\n",
       "      <td>NaN</td>\n",
       "      <td>NaN</td>\n",
       "      <td>2 AMB</td>\n",
       "      <td>2</td>\n",
       "    </tr>\n",
       "    <tr>\n",
       "      <th>1</th>\n",
       "      <td>sell</td>\n",
       "      <td>apartment</td>\n",
       "      <td>La Plata</td>\n",
       "      <td>|Argentina|Bs.As. G.B.A. Zona Sur|La Plata|</td>\n",
       "      <td>Argentina</td>\n",
       "      <td>Bs.As. G.B.A. Zona Sur</td>\n",
       "      <td>3432039.0</td>\n",
       "      <td>-34.9038831,-57.9643295</td>\n",
       "      <td>-34.903883</td>\n",
       "      <td>-57.964330</td>\n",
       "      <td>...</td>\n",
       "      <td>NaN</td>\n",
       "      <td>NaN</td>\n",
       "      <td>http://www.properati.com.ar/15bob_venta_depart...</td>\n",
       "      <td>Venta de departamento en décimo piso al frente...</td>\n",
       "      <td>VENTA Depto 2 dorm. a estrenar 7 e/ 36 y 37   ...</td>\n",
       "      <td>https://thumbs4.properati.com/7/ikpVBu2ztHA7jv...</td>\n",
       "      <td>NaN</td>\n",
       "      <td>NaN</td>\n",
       "      <td>NaN</td>\n",
       "      <td>NaN</td>\n",
       "    </tr>\n",
       "    <tr>\n",
       "      <th>2</th>\n",
       "      <td>sell</td>\n",
       "      <td>apartment</td>\n",
       "      <td>Mataderos</td>\n",
       "      <td>|Argentina|Capital Federal|Mataderos|</td>\n",
       "      <td>Argentina</td>\n",
       "      <td>Capital Federal</td>\n",
       "      <td>3430787.0</td>\n",
       "      <td>-34.6522615,-58.5229825</td>\n",
       "      <td>-34.652262</td>\n",
       "      <td>-58.522982</td>\n",
       "      <td>...</td>\n",
       "      <td>2</td>\n",
       "      <td>NaN</td>\n",
       "      <td>http://www.properati.com.ar/15bod_venta_depart...</td>\n",
       "      <td>2 AMBIENTES 3ER PISO LATERAL LIVING COMEDOR AM...</td>\n",
       "      <td>2 AMB 3ER PISO CON ASCENSOR APTO CREDITO</td>\n",
       "      <td>https://thumbs4.properati.com/5/SXKr34F_IwG3W_...</td>\n",
       "      <td>NaN</td>\n",
       "      <td>NaN</td>\n",
       "      <td>2 AMB</td>\n",
       "      <td>2</td>\n",
       "    </tr>\n",
       "    <tr>\n",
       "      <th>3</th>\n",
       "      <td>sell</td>\n",
       "      <td>PH</td>\n",
       "      <td>Liniers</td>\n",
       "      <td>|Argentina|Capital Federal|Liniers|</td>\n",
       "      <td>Argentina</td>\n",
       "      <td>Capital Federal</td>\n",
       "      <td>3431333.0</td>\n",
       "      <td>-34.6477969,-58.5164244</td>\n",
       "      <td>-34.647797</td>\n",
       "      <td>-58.516424</td>\n",
       "      <td>...</td>\n",
       "      <td>3</td>\n",
       "      <td>NaN</td>\n",
       "      <td>http://www.properati.com.ar/15boh_venta_ph_lin...</td>\n",
       "      <td>PH 3 ambientes con patio. Hay 3 deptos en lote...</td>\n",
       "      <td>PH 3 amb. cfte. reciclado</td>\n",
       "      <td>https://thumbs4.properati.com/3/DgIfX-85Mog5SP...</td>\n",
       "      <td>NaN</td>\n",
       "      <td>NaN</td>\n",
       "      <td>3 amb</td>\n",
       "      <td>3</td>\n",
       "    </tr>\n",
       "    <tr>\n",
       "      <th>4</th>\n",
       "      <td>sell</td>\n",
       "      <td>apartment</td>\n",
       "      <td>Centro</td>\n",
       "      <td>|Argentina|Buenos Aires Costa Atlántica|Mar de...</td>\n",
       "      <td>Argentina</td>\n",
       "      <td>Buenos Aires Costa Atlántica</td>\n",
       "      <td>3435548.0</td>\n",
       "      <td>-38.0026256,-57.5494468</td>\n",
       "      <td>-38.002626</td>\n",
       "      <td>-57.549447</td>\n",
       "      <td>...</td>\n",
       "      <td>1</td>\n",
       "      <td>NaN</td>\n",
       "      <td>http://www.properati.com.ar/15bok_venta_depart...</td>\n",
       "      <td>DEPARTAMENTO CON FANTÁSTICA ILUMINACIÓN NATURA...</td>\n",
       "      <td>DEPTO 2 AMB AL CONTRAFRENTE ZONA CENTRO/PLAZA ...</td>\n",
       "      <td>https://thumbs4.properati.com/5/xrRqlNcSI_vs-f...</td>\n",
       "      <td>NaN</td>\n",
       "      <td>NaN</td>\n",
       "      <td>1 DORM</td>\n",
       "      <td>1</td>\n",
       "    </tr>\n",
       "    <tr>\n",
       "      <th>...</th>\n",
       "      <td>...</td>\n",
       "      <td>...</td>\n",
       "      <td>...</td>\n",
       "      <td>...</td>\n",
       "      <td>...</td>\n",
       "      <td>...</td>\n",
       "      <td>...</td>\n",
       "      <td>...</td>\n",
       "      <td>...</td>\n",
       "      <td>...</td>\n",
       "      <td>...</td>\n",
       "      <td>...</td>\n",
       "      <td>...</td>\n",
       "      <td>...</td>\n",
       "      <td>...</td>\n",
       "      <td>...</td>\n",
       "      <td>...</td>\n",
       "      <td>...</td>\n",
       "      <td>...</td>\n",
       "      <td>...</td>\n",
       "      <td>...</td>\n",
       "    </tr>\n",
       "    <tr>\n",
       "      <th>121215</th>\n",
       "      <td>sell</td>\n",
       "      <td>apartment</td>\n",
       "      <td>Belgrano</td>\n",
       "      <td>|Argentina|Capital Federal|Belgrano|</td>\n",
       "      <td>Argentina</td>\n",
       "      <td>Capital Federal</td>\n",
       "      <td>3436077.0</td>\n",
       "      <td>NaN</td>\n",
       "      <td>NaN</td>\n",
       "      <td>NaN</td>\n",
       "      <td>...</td>\n",
       "      <td>2</td>\n",
       "      <td>10000.0</td>\n",
       "      <td>http://www.properati.com.ar/1cja2_venta_depart...</td>\n",
       "      <td>TORRE FORUM ALCORTA - MÁXIMA CATEGORÍA.Impecab...</td>\n",
       "      <td>Torre Forum Alcorta- Impecable 3 ambientes</td>\n",
       "      <td>https://thumbs4.properati.com/1/bjms0KnaAnlNoQ...</td>\n",
       "      <td>NaN</td>\n",
       "      <td>NaN</td>\n",
       "      <td>2 dorm</td>\n",
       "      <td>2</td>\n",
       "    </tr>\n",
       "    <tr>\n",
       "      <th>121216</th>\n",
       "      <td>sell</td>\n",
       "      <td>house</td>\n",
       "      <td>Beccar</td>\n",
       "      <td>|Argentina|Bs.As. G.B.A. Zona Norte|San Isidro...</td>\n",
       "      <td>Argentina</td>\n",
       "      <td>Bs.As. G.B.A. Zona Norte</td>\n",
       "      <td>3436080.0</td>\n",
       "      <td>NaN</td>\n",
       "      <td>NaN</td>\n",
       "      <td>NaN</td>\n",
       "      <td>...</td>\n",
       "      <td>3</td>\n",
       "      <td>NaN</td>\n",
       "      <td>http://www.properati.com.ar/1cja6_venta_casa_b...</td>\n",
       "      <td>Excelente e impecable casa en Venta en Las Lom...</td>\n",
       "      <td>Ruca Inmuebles | Venta | Lomas de San Isidro |...</td>\n",
       "      <td>https://thumbs4.properati.com/2/PCc3WuQDjpNZc4...</td>\n",
       "      <td>572 m2</td>\n",
       "      <td>572</td>\n",
       "      <td>3 Dorm</td>\n",
       "      <td>3</td>\n",
       "    </tr>\n",
       "    <tr>\n",
       "      <th>121217</th>\n",
       "      <td>sell</td>\n",
       "      <td>apartment</td>\n",
       "      <td>Villa Urquiza</td>\n",
       "      <td>|Argentina|Capital Federal|Villa Urquiza|</td>\n",
       "      <td>Argentina</td>\n",
       "      <td>Capital Federal</td>\n",
       "      <td>3433775.0</td>\n",
       "      <td>-34.5706388726,-58.4755963355</td>\n",
       "      <td>-34.570639</td>\n",
       "      <td>-58.475596</td>\n",
       "      <td>...</td>\n",
       "      <td>NaN</td>\n",
       "      <td>NaN</td>\n",
       "      <td>http://www.properati.com.ar/1cja7_venta_depart...</td>\n",
       "      <td>VENTA DEPARTAMENTO AMBIENTE DIVISIBLE A ESTREN...</td>\n",
       "      <td>VENTA DEPARTAMENTO AMBIENTE DIVISIBLE A ESTREN...</td>\n",
       "      <td>https://thumbs4.properati.com/9/YAe_-2gRVykADP...</td>\n",
       "      <td>43,00m2</td>\n",
       "      <td>43,00</td>\n",
       "      <td>monoamb</td>\n",
       "      <td>NaN</td>\n",
       "    </tr>\n",
       "    <tr>\n",
       "      <th>121218</th>\n",
       "      <td>sell</td>\n",
       "      <td>apartment</td>\n",
       "      <td>Plaza Colón</td>\n",
       "      <td>|Argentina|Buenos Aires Costa Atlántica|Mar de...</td>\n",
       "      <td>Argentina</td>\n",
       "      <td>Buenos Aires Costa Atlántica</td>\n",
       "      <td>NaN</td>\n",
       "      <td>NaN</td>\n",
       "      <td>NaN</td>\n",
       "      <td>NaN</td>\n",
       "      <td>...</td>\n",
       "      <td>2</td>\n",
       "      <td>NaN</td>\n",
       "      <td>http://www.properati.com.ar/1cja8_venta_depart...</td>\n",
       "      <td>2 Amb al contrafrente,  luminoso. El departame...</td>\n",
       "      <td>2 amb. C/ dep. de servicio al contrafrente| Re...</td>\n",
       "      <td>https://thumbs4.properati.com/8/Q12PTvU6BQJ0ib...</td>\n",
       "      <td>NaN</td>\n",
       "      <td>NaN</td>\n",
       "      <td>2 Amb</td>\n",
       "      <td>2</td>\n",
       "    </tr>\n",
       "    <tr>\n",
       "      <th>121219</th>\n",
       "      <td>sell</td>\n",
       "      <td>apartment</td>\n",
       "      <td>Capital Federal</td>\n",
       "      <td>|Argentina|Capital Federal|</td>\n",
       "      <td>Argentina</td>\n",
       "      <td>Capital Federal</td>\n",
       "      <td>3433955.0</td>\n",
       "      <td>NaN</td>\n",
       "      <td>NaN</td>\n",
       "      <td>NaN</td>\n",
       "      <td>...</td>\n",
       "      <td>NaN</td>\n",
       "      <td>3500.0</td>\n",
       "      <td>http://www.properati.com.ar/1cjaa_venta_depart...</td>\n",
       "      <td>Departamento de 77 m2 apto profesional. Edific...</td>\n",
       "      <td>Departamento apto profesional en el Centro</td>\n",
       "      <td>https://thumbs4.properati.com/8/mNEsnQWqB7joBF...</td>\n",
       "      <td>77 m2</td>\n",
       "      <td>77</td>\n",
       "      <td>NaN</td>\n",
       "      <td>NaN</td>\n",
       "    </tr>\n",
       "  </tbody>\n",
       "</table>\n",
       "<p>121220 rows × 29 columns</p>\n",
       "</div>"
      ],
      "text/plain": [
       "       operation property_type       place_name  \\\n",
       "0           sell            PH        Mataderos   \n",
       "1           sell     apartment         La Plata   \n",
       "2           sell     apartment        Mataderos   \n",
       "3           sell            PH          Liniers   \n",
       "4           sell     apartment           Centro   \n",
       "...          ...           ...              ...   \n",
       "121215      sell     apartment         Belgrano   \n",
       "121216      sell         house           Beccar   \n",
       "121217      sell     apartment    Villa Urquiza   \n",
       "121218      sell     apartment      Plaza Colón   \n",
       "121219      sell     apartment  Capital Federal   \n",
       "\n",
       "                                  place_with_parent_names country_name  \\\n",
       "0                   |Argentina|Capital Federal|Mataderos|    Argentina   \n",
       "1             |Argentina|Bs.As. G.B.A. Zona Sur|La Plata|    Argentina   \n",
       "2                   |Argentina|Capital Federal|Mataderos|    Argentina   \n",
       "3                     |Argentina|Capital Federal|Liniers|    Argentina   \n",
       "4       |Argentina|Buenos Aires Costa Atlántica|Mar de...    Argentina   \n",
       "...                                                   ...          ...   \n",
       "121215               |Argentina|Capital Federal|Belgrano|    Argentina   \n",
       "121216  |Argentina|Bs.As. G.B.A. Zona Norte|San Isidro...    Argentina   \n",
       "121217          |Argentina|Capital Federal|Villa Urquiza|    Argentina   \n",
       "121218  |Argentina|Buenos Aires Costa Atlántica|Mar de...    Argentina   \n",
       "121219                        |Argentina|Capital Federal|    Argentina   \n",
       "\n",
       "                          state_name  geonames_id  \\\n",
       "0                    Capital Federal    3430787.0   \n",
       "1             Bs.As. G.B.A. Zona Sur    3432039.0   \n",
       "2                    Capital Federal    3430787.0   \n",
       "3                    Capital Federal    3431333.0   \n",
       "4       Buenos Aires Costa Atlántica    3435548.0   \n",
       "...                              ...          ...   \n",
       "121215               Capital Federal    3436077.0   \n",
       "121216      Bs.As. G.B.A. Zona Norte    3436080.0   \n",
       "121217               Capital Federal    3433775.0   \n",
       "121218  Buenos Aires Costa Atlántica          NaN   \n",
       "121219               Capital Federal    3433955.0   \n",
       "\n",
       "                              lat-lon        lat        lon  ...  rooms  \\\n",
       "0             -34.6618237,-58.5088387 -34.661824 -58.508839  ...     2    \n",
       "1             -34.9038831,-57.9643295 -34.903883 -57.964330  ...    NaN   \n",
       "2             -34.6522615,-58.5229825 -34.652262 -58.522982  ...     2    \n",
       "3             -34.6477969,-58.5164244 -34.647797 -58.516424  ...     3    \n",
       "4             -38.0026256,-57.5494468 -38.002626 -57.549447  ...     1    \n",
       "...                               ...        ...        ...  ...    ...   \n",
       "121215                            NaN        NaN        NaN  ...     2    \n",
       "121216                            NaN        NaN        NaN  ...     3    \n",
       "121217  -34.5706388726,-58.4755963355 -34.570639 -58.475596  ...    NaN   \n",
       "121218                            NaN        NaN        NaN  ...     2    \n",
       "121219                            NaN        NaN        NaN  ...    NaN   \n",
       "\n",
       "       expenses                                      properati_url  \\\n",
       "0           NaN  http://www.properati.com.ar/15bo8_venta_ph_mat...   \n",
       "1           NaN  http://www.properati.com.ar/15bob_venta_depart...   \n",
       "2           NaN  http://www.properati.com.ar/15bod_venta_depart...   \n",
       "3           NaN  http://www.properati.com.ar/15boh_venta_ph_lin...   \n",
       "4           NaN  http://www.properati.com.ar/15bok_venta_depart...   \n",
       "...         ...                                                ...   \n",
       "121215  10000.0  http://www.properati.com.ar/1cja2_venta_depart...   \n",
       "121216      NaN  http://www.properati.com.ar/1cja6_venta_casa_b...   \n",
       "121217      NaN  http://www.properati.com.ar/1cja7_venta_depart...   \n",
       "121218      NaN  http://www.properati.com.ar/1cja8_venta_depart...   \n",
       "121219   3500.0  http://www.properati.com.ar/1cjaa_venta_depart...   \n",
       "\n",
       "                                              description  \\\n",
       "0       2 AMBIENTES TIPO CASA PLANTA BAJA POR PASILLO,...   \n",
       "1       Venta de departamento en décimo piso al frente...   \n",
       "2       2 AMBIENTES 3ER PISO LATERAL LIVING COMEDOR AM...   \n",
       "3       PH 3 ambientes con patio. Hay 3 deptos en lote...   \n",
       "4       DEPARTAMENTO CON FANTÁSTICA ILUMINACIÓN NATURA...   \n",
       "...                                                   ...   \n",
       "121215  TORRE FORUM ALCORTA - MÁXIMA CATEGORÍA.Impecab...   \n",
       "121216  Excelente e impecable casa en Venta en Las Lom...   \n",
       "121217  VENTA DEPARTAMENTO AMBIENTE DIVISIBLE A ESTREN...   \n",
       "121218  2 Amb al contrafrente,  luminoso. El departame...   \n",
       "121219  Departamento de 77 m2 apto profesional. Edific...   \n",
       "\n",
       "                                                    title  \\\n",
       "0                      2 AMB TIPO CASA SIN EXPENSAS EN PB   \n",
       "1       VENTA Depto 2 dorm. a estrenar 7 e/ 36 y 37   ...   \n",
       "2                2 AMB 3ER PISO CON ASCENSOR APTO CREDITO   \n",
       "3                            PH 3 amb. cfte. reciclado      \n",
       "4       DEPTO 2 AMB AL CONTRAFRENTE ZONA CENTRO/PLAZA ...   \n",
       "...                                                   ...   \n",
       "121215         Torre Forum Alcorta- Impecable 3 ambientes   \n",
       "121216  Ruca Inmuebles | Venta | Lomas de San Isidro |...   \n",
       "121217  VENTA DEPARTAMENTO AMBIENTE DIVISIBLE A ESTREN...   \n",
       "121218  2 amb. C/ dep. de servicio al contrafrente| Re...   \n",
       "121219         Departamento apto profesional en el Centro   \n",
       "\n",
       "                                          image_thumbnail  Sup_m2_Clean  \\\n",
       "0       https://thumbs4.properati.com/8/BluUYiHJLhgIIK...           NaN   \n",
       "1       https://thumbs4.properati.com/7/ikpVBu2ztHA7jv...           NaN   \n",
       "2       https://thumbs4.properati.com/5/SXKr34F_IwG3W_...           NaN   \n",
       "3       https://thumbs4.properati.com/3/DgIfX-85Mog5SP...           NaN   \n",
       "4       https://thumbs4.properati.com/5/xrRqlNcSI_vs-f...           NaN   \n",
       "...                                                   ...           ...   \n",
       "121215  https://thumbs4.properati.com/1/bjms0KnaAnlNoQ...           NaN   \n",
       "121216  https://thumbs4.properati.com/2/PCc3WuQDjpNZc4...        572 m2   \n",
       "121217  https://thumbs4.properati.com/9/YAe_-2gRVykADP...       43,00m2   \n",
       "121218  https://thumbs4.properati.com/8/Q12PTvU6BQJ0ib...           NaN   \n",
       "121219  https://thumbs4.properati.com/8/mNEsnQWqB7joBF...         77 m2   \n",
       "\n",
       "        Sup_m2_Clean_dos  rooms_clean rooms_clean_dos  \n",
       "0                    NaN        2 AMB              2   \n",
       "1                    NaN          NaN             NaN  \n",
       "2                    NaN        2 AMB              2   \n",
       "3                    NaN        3 amb              3   \n",
       "4                    NaN       1 DORM              1   \n",
       "...                  ...          ...             ...  \n",
       "121215               NaN       2 dorm              2   \n",
       "121216              572        3 Dorm              3   \n",
       "121217             43,00      monoamb             NaN  \n",
       "121218               NaN        2 Amb              2   \n",
       "121219               77           NaN             NaN  \n",
       "\n",
       "[121220 rows x 29 columns]"
      ]
     },
     "execution_count": 249,
     "metadata": {},
     "output_type": "execute_result"
    }
   ],
   "source": [
    "data_limpia[\"rooms\"].fillna(data_limpia[\"rooms_clean_dos\"],inplace=True)\n",
    "data_limpia"
   ]
  },
  {
   "cell_type": "markdown",
   "metadata": {},
   "source": [
    "% de info recuperada = 46%"
   ]
  },
  {
   "cell_type": "code",
   "execution_count": null,
   "metadata": {},
   "outputs": [
    {
     "data": {
      "text/plain": [
       "100.0"
      ]
     },
     "execution_count": 250,
     "metadata": {},
     "output_type": "execute_result"
    }
   ],
   "source": [
    "data_limpia[\"rooms\"].isnull().sum()/data[\"rooms\"].isnull().sum()*100"
   ]
  },
  {
   "cell_type": "markdown",
   "metadata": {},
   "source": [
    "# Recuperar datos de precio total en dolares"
   ]
  },
  {
   "cell_type": "markdown",
   "metadata": {},
   "source": [
    "### Nos centramos en este campo, por dos motivos. Sabiendo que la finalidad de esta limpieza es lograr obtener una base de datos con valores que me permitan luego armar un modelo que me ayude a determinar el valor de una propiedad, entendemos que el campo precio es el mas importante. Uno de los motivos por el cual nos centramos en el precio en dolares, es porque este campo no se ve influenciado por la inflación, por otro lado contamos con bastantes datos en la columna lo cual disminuye el error por supuestos o calculos mal hechos."
   ]
  },
  {
   "cell_type": "markdown",
   "metadata": {},
   "source": [
    "### 1-Extraer información con regex de columna descripción"
   ]
  },
  {
   "cell_type": "code",
   "execution_count": null,
   "metadata": {},
   "outputs": [],
   "source": []
  },
  {
   "cell_type": "markdown",
   "metadata": {},
   "source": [
    "### 2-comprobar si las columnas precio ARS y USD pueden matchear- listo"
   ]
  },
  {
   "cell_type": "code",
   "execution_count": 308,
   "metadata": {},
   "outputs": [
    {
     "data": {
      "text/plain": [
       "False    100810\n",
       "True      20410\n",
       "Name: price_aprox_local_currency, dtype: int64"
      ]
     },
     "execution_count": 308,
     "metadata": {},
     "output_type": "execute_result"
    }
   ],
   "source": [
    "mask_ARS_empty=data[\"price_aprox_local_currency\"].isnull()\n",
    "mask_ARS_empty.value_counts()"
   ]
  },
  {
   "cell_type": "code",
   "execution_count": 309,
   "metadata": {},
   "outputs": [
    {
     "data": {
      "text/plain": [
       "False    100810\n",
       "True      20410\n",
       "Name: price_aprox_usd, dtype: int64"
      ]
     },
     "execution_count": 309,
     "metadata": {},
     "output_type": "execute_result"
    }
   ],
   "source": [
    "mask_USD_empty=data[\"price_aprox_usd\"].isnull()\n",
    "mask_USD_empty.value_counts()"
   ]
  },
  {
   "cell_type": "code",
   "execution_count": 314,
   "metadata": {},
   "outputs": [
    {
     "data": {
      "text/plain": [
       "(20410, 25)"
      ]
     },
     "execution_count": 314,
     "metadata": {},
     "output_type": "execute_result"
    }
   ],
   "source": [
    "mask_precio_empty=mask_ARS_empty&mask_USD_empty\n",
    "data[mask_precio_empty].shape"
   ]
  },
  {
   "cell_type": "markdown",
   "metadata": {},
   "source": [
    "##### coinciden la cantidad de filas vacias en cada campo, por lo cual no es posible completar completar datos vacios de USD con ARS sacados de la columna \"price_aprox_local_currency\""
   ]
  },
  {
   "cell_type": "markdown",
   "metadata": {},
   "source": [
    "### 3-Determinar la variacion precio con rooms y superficie"
   ]
  },
  {
   "cell_type": "markdown",
   "metadata": {},
   "source": [
    "calculamos la correlacion entre variables"
   ]
  },
  {
   "cell_type": "code",
   "execution_count": 4,
   "metadata": {},
   "outputs": [],
   "source": [
    "import matplotlib.pyplot as plt\n",
    "import seaborn as sns\n"
   ]
  },
  {
   "cell_type": "code",
   "execution_count": 5,
   "metadata": {},
   "outputs": [],
   "source": [
    "df_surf_float = data[\"surface_total_in_m2\"].astype(float) \n",
    "df_room_float = data['rooms'].astype(float) \n",
    "df_price_float = data['price_aprox_usd'].astype(float) \n",
    "df_tipo = data['property_type']"
   ]
  },
  {
   "cell_type": "code",
   "execution_count": 9,
   "metadata": {},
   "outputs": [
    {
     "data": {
      "text/html": [
       "<div>\n",
       "<style scoped>\n",
       "    .dataframe tbody tr th:only-of-type {\n",
       "        vertical-align: middle;\n",
       "    }\n",
       "\n",
       "    .dataframe tbody tr th {\n",
       "        vertical-align: top;\n",
       "    }\n",
       "\n",
       "    .dataframe thead th {\n",
       "        text-align: right;\n",
       "    }\n",
       "</style>\n",
       "<table border=\"1\" class=\"dataframe\">\n",
       "  <thead>\n",
       "    <tr style=\"text-align: right;\">\n",
       "      <th></th>\n",
       "      <th>property_type</th>\n",
       "      <th>surface_total_in_m2</th>\n",
       "      <th>rooms</th>\n",
       "      <th>price_aprox_usd</th>\n",
       "    </tr>\n",
       "  </thead>\n",
       "  <tbody>\n",
       "    <tr>\n",
       "      <th>67478</th>\n",
       "      <td>apartment</td>\n",
       "      <td>75.0</td>\n",
       "      <td>NaN</td>\n",
       "      <td>110000.0</td>\n",
       "    </tr>\n",
       "    <tr>\n",
       "      <th>92013</th>\n",
       "      <td>house</td>\n",
       "      <td>400.0</td>\n",
       "      <td>NaN</td>\n",
       "      <td>590000.0</td>\n",
       "    </tr>\n",
       "    <tr>\n",
       "      <th>26104</th>\n",
       "      <td>apartment</td>\n",
       "      <td>35.0</td>\n",
       "      <td>1.0</td>\n",
       "      <td>79000.0</td>\n",
       "    </tr>\n",
       "    <tr>\n",
       "      <th>115192</th>\n",
       "      <td>apartment</td>\n",
       "      <td>NaN</td>\n",
       "      <td>NaN</td>\n",
       "      <td>75712.96</td>\n",
       "    </tr>\n",
       "    <tr>\n",
       "      <th>92944</th>\n",
       "      <td>apartment</td>\n",
       "      <td>NaN</td>\n",
       "      <td>NaN</td>\n",
       "      <td>98802.1</td>\n",
       "    </tr>\n",
       "    <tr>\n",
       "      <th>49706</th>\n",
       "      <td>apartment</td>\n",
       "      <td>114.0</td>\n",
       "      <td>2.0</td>\n",
       "      <td>229500.0</td>\n",
       "    </tr>\n",
       "    <tr>\n",
       "      <th>104637</th>\n",
       "      <td>house</td>\n",
       "      <td>NaN</td>\n",
       "      <td>NaN</td>\n",
       "      <td>110000.0</td>\n",
       "    </tr>\n",
       "    <tr>\n",
       "      <th>8458</th>\n",
       "      <td>house</td>\n",
       "      <td>NaN</td>\n",
       "      <td>7.0</td>\n",
       "      <td>NaN</td>\n",
       "    </tr>\n",
       "    <tr>\n",
       "      <th>8182</th>\n",
       "      <td>house</td>\n",
       "      <td>196.0</td>\n",
       "      <td>NaN</td>\n",
       "      <td>400000.0</td>\n",
       "    </tr>\n",
       "    <tr>\n",
       "      <th>73708</th>\n",
       "      <td>apartment</td>\n",
       "      <td>188.0</td>\n",
       "      <td>NaN</td>\n",
       "      <td>1250000.0</td>\n",
       "    </tr>\n",
       "  </tbody>\n",
       "</table>\n",
       "</div>"
      ],
      "text/plain": [
       "       property_type surface_total_in_m2 rooms price_aprox_usd\n",
       "67478      apartment                75.0   NaN        110000.0\n",
       "92013          house               400.0   NaN        590000.0\n",
       "26104      apartment                35.0   1.0         79000.0\n",
       "115192     apartment                 NaN   NaN        75712.96\n",
       "92944      apartment                 NaN   NaN         98802.1\n",
       "49706      apartment               114.0   2.0        229500.0\n",
       "104637         house                 NaN   NaN        110000.0\n",
       "8458           house                 NaN   7.0             NaN\n",
       "8182           house               196.0   NaN        400000.0\n",
       "73708      apartment               188.0   NaN       1250000.0"
      ]
     },
     "execution_count": 9,
     "metadata": {},
     "output_type": "execute_result"
    }
   ],
   "source": [
    "data_tipo_usd_sup_room=pd.DataFrame((df_tipo,df_surf_float,df_room_float,df_price_float))\n",
    "data_tipo_usd_sup_room_T=data_tipo_usd_sup_room.T\n",
    "data_tipo_usd_sup_room_T.sample(10)"
   ]
  },
  {
   "cell_type": "code",
   "execution_count": 8,
   "metadata": {},
   "outputs": [
    {
     "data": {
      "text/plain": [
       "<seaborn.axisgrid.PairGrid at 0x2b68af695a0>"
      ]
     },
     "execution_count": 8,
     "metadata": {},
     "output_type": "execute_result"
    },
    {
     "data": {
      "image/png": "[encoded data removed]",
      "text/plain": [
       "<Figure size 1123.62x1000 with 16 Axes>"
      ]
     },
     "metadata": {},
     "output_type": "display_data"
    }
   ],
   "source": [
    "g = sns.PairGrid(data_tipo_usd_sup_room_T, vars=['property_type','surface_total_in_m2','rooms','price_aprox_usd'],hue='property_type', palette='deep')\n",
    "g.map(plt.scatter, alpha=0.6)\n",
    "g.add_legend()"
   ]
  },
  {
   "cell_type": "code",
   "execution_count": null,
   "metadata": {},
   "outputs": [],
   "source": []
  },
  {
   "cell_type": "markdown",
   "metadata": {},
   "source": [
    "#### Se puede ver una relacion entre precio tipo de departamento y superficie, no asi con la cantidad de habitaciones"
   ]
  },
  {
   "cell_type": "markdown",
   "metadata": {},
   "source": [
    "*nota: cambiar a data_limpia cuando arreglemos el problema de regex de esa columna para obtener datos no influenciados por los datos faltantes"
   ]
  },
  {
   "cell_type": "markdown",
   "metadata": {},
   "source": [
    "### 4-Calcular el precio total = Precio u$d/m2 * Superficie en base al punto anterior para las filas con datos faltantes"
   ]
  },
  {
   "cell_type": "markdown",
   "metadata": {},
   "source": [
    "#NOTA: EVALUAR ELIMINAR LOS VALORES Q NO SON PESOS ARGENTINOS PARA PODER HACER UNA CONVERSION DE TODOS LOS VALORES A USD - PENDIENTE"
   ]
  },
  {
   "cell_type": "markdown",
   "metadata": {},
   "source": [
    "Cálculo cambio entre ARS y USD "
   ]
  },
  {
   "cell_type": "code",
   "execution_count": null,
   "metadata": {},
   "outputs": [
    {
     "data": {
      "text/plain": [
       "17.6445"
      ]
     },
     "execution_count": 261,
     "metadata": {},
     "output_type": "execute_result"
    }
   ],
   "source": [
    "import numpy as np\n",
    "change = data['price_aprox_local_currency'] / data['price_aprox_usd']\n",
    "change.median()"
   ]
  }
 ],
 "metadata": {
  "kernelspec": {
   "display_name": "Python 3.10.4 ('DH')",
   "language": "python",
   "name": "python3"
  },
  "language_info": {
   "codemirror_mode": {
    "name": "ipython",
    "version": 3
   },
   "file_extension": ".py",
   "mimetype": "text/x-python",
   "name": "python",
   "nbconvert_exporter": "python",
   "pygments_lexer": "ipython3",
   "version": "3.10.4"
  },
  "orig_nbformat": 4,
  "vscode": {
   "interpreter": {
    "hash": "7ad4b00cfa812d91f92fb5dc88aa637f6cffee5ca8b01c2f389043adc33b2f6a"
   }
  }
 },
 "nbformat": 4,
 "nbformat_minor": 2
}
