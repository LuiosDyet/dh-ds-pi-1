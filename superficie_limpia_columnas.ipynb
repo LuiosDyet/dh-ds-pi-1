{
 "cells": [
  {
   "cell_type": "markdown",
   "metadata": {},
   "source": [
    "RECORDAR DESZIPEAR PROPERATTI.ZIP"
   ]
  },
  {
   "cell_type": "code",
   "execution_count": 1,
   "metadata": {},
   "outputs": [],
   "source": [
    "import pandas as pd\n",
    "import numpy as np"
   ]
  },
  {
   "cell_type": "code",
   "execution_count": 2,
   "metadata": {},
   "outputs": [
    {
     "data": {
      "text/plain": [
       "(121220, 25)"
      ]
     },
     "execution_count": 2,
     "metadata": {},
     "output_type": "execute_result"
    }
   ],
   "source": [
    "data = pd.read_csv(\"../dh-ds-pi-1/data/properatti.csv\", index_col=0)\n",
    "data.shape"
   ]
  },
  {
   "cell_type": "code",
   "execution_count": 3,
   "metadata": {},
   "outputs": [
    {
     "data": {
      "text/plain": [
       "operation                      object\n",
       "property_type                  object\n",
       "place_name                     object\n",
       "place_with_parent_names        object\n",
       "country_name                   object\n",
       "state_name                     object\n",
       "geonames_id                   float64\n",
       "lat-lon                        object\n",
       "lat                           float64\n",
       "lon                           float64\n",
       "price                         float64\n",
       "currency                       object\n",
       "price_aprox_local_currency    float64\n",
       "price_aprox_usd               float64\n",
       "surface_total_in_m2           float64\n",
       "surface_covered_in_m2         float64\n",
       "price_usd_per_m2              float64\n",
       "price_per_m2                  float64\n",
       "floor                         float64\n",
       "rooms                         float64\n",
       "expenses                      float64\n",
       "properati_url                  object\n",
       "description                    object\n",
       "title                          object\n",
       "image_thumbnail                object\n",
       "dtype: object"
      ]
     },
     "execution_count": 3,
     "metadata": {},
     "output_type": "execute_result"
    }
   ],
   "source": [
    "data.dtypes"
   ]
  },
  {
   "cell_type": "markdown",
   "metadata": {},
   "source": [
    "# Verificar si existen filas con todos los datos faltantes - PASAR A ANALISIS INICIAL - REVISAR CODIGO"
   ]
  },
  {
   "cell_type": "code",
   "execution_count": 4,
   "metadata": {},
   "outputs": [],
   "source": [
    "df_usd_m2 = data['price_usd_per_m2']\n",
    "mask_nan_uds_m2= df_usd_m2.isna()"
   ]
  },
  {
   "cell_type": "code",
   "execution_count": 5,
   "metadata": {},
   "outputs": [],
   "source": [
    "mask_nan_sup_total=data[\"surface_total_in_m2\"].isna()\n",
    "mask_nan_sup_cubierta=data[\"surface_covered_in_m2\"].isna()\n",
    "mask_nan_rooms=data[\"rooms\"].isna()\n"
   ]
  },
  {
   "cell_type": "code",
   "execution_count": 6,
   "metadata": {},
   "outputs": [
    {
     "data": {
      "text/plain": [
       "False    113090\n",
       "True       8130\n",
       "dtype: int64"
      ]
     },
     "execution_count": 6,
     "metadata": {},
     "output_type": "execute_result"
    }
   ],
   "source": [
    "mask_nan_columnas = (mask_nan_sup_total == True) & (mask_nan_sup_cubierta == True) &(mask_nan_rooms == True) &(mask_nan_uds_m2 == True) \n",
    "mask_nan_columnas.value_counts()"
   ]
  },
  {
   "cell_type": "markdown",
   "metadata": {},
   "source": [
    "#Nota: volver a revisar estos datos despues de haber completado todas las columnas con los datos extraidos del campo descripcion - inicial 8130"
   ]
  },
  {
   "cell_type": "markdown",
   "metadata": {},
   "source": [
    "## Columna Superficie"
   ]
  },
  {
   "cell_type": "markdown",
   "metadata": {},
   "source": [
    "## REVISAR CONSISTENCIA DE DATOS PARA LAS COLUMNAS SUP TOTAL Y CUBIERTA!"
   ]
  },
  {
   "cell_type": "code",
   "execution_count": 7,
   "metadata": {},
   "outputs": [],
   "source": [
    "mask_consistencia_sup = data[\"surface_total_in_m2\"] < data[\"surface_covered_in_m2\"]"
   ]
  },
  {
   "cell_type": "code",
   "execution_count": 8,
   "metadata": {},
   "outputs": [
    {
     "name": "stdout",
     "output_type": "stream",
     "text": [
      "        surface_covered_in_m2  surface_total_in_m2\n",
      "67500                    54.0                 45.0\n",
      "3884                     36.0                 34.0\n",
      "65706                   150.0                110.0\n",
      "121055                   98.0                 77.0\n",
      "9130                    300.0                150.0\n",
      "29292                   190.0                120.0\n",
      "108142                   31.0                 11.0\n",
      "62209                    88.0                 72.0\n",
      "68754                    75.0                 60.0\n",
      "65715                   162.0                160.0\n",
      "house        666\n",
      "apartment    351\n",
      "store         47\n",
      "PH            42\n",
      "Name: property_type, dtype: int64\n",
      "apartment    71065\n",
      "house        40268\n",
      "PH            5751\n",
      "store         4136\n",
      "Name: property_type, dtype: int64\n"
     ]
    }
   ],
   "source": [
    "data_consistencia_metros=data[mask_consistencia_sup]\n",
    "print(data_consistencia_metros[['surface_covered_in_m2','surface_total_in_m2']].sample(10))\n",
    "print(data_consistencia_metros.property_type.value_counts())\n",
    "print(data.property_type.value_counts())"
   ]
  },
  {
   "cell_type": "code",
   "execution_count": 9,
   "metadata": {},
   "outputs": [
    {
     "data": {
      "text/plain": [
       "0.009123906946048506"
      ]
     },
     "execution_count": 9,
     "metadata": {},
     "output_type": "execute_result"
    }
   ],
   "source": [
    "data_consistencia_metros.shape[0]/data.shape[0]"
   ]
  },
  {
   "cell_type": "markdown",
   "metadata": {},
   "source": [
    "El porcentaje de registros con estos errores es menor al 1%, no hemos podido encontrar un patrón sencillo en estos errores"
   ]
  },
  {
   "cell_type": "markdown",
   "metadata": {},
   "source": [
    "#### 1- detectar de outliers"
   ]
  },
  {
   "cell_type": "code",
   "execution_count": 10,
   "metadata": {},
   "outputs": [],
   "source": [
    "import matplotlib.pyplot as plt\n",
    "import seaborn as sns"
   ]
  },
  {
   "cell_type": "code",
   "execution_count": 11,
   "metadata": {},
   "outputs": [
    {
     "data": {
      "image/png": "[encoded data removed]",
      "text/plain": [
       "<Figure size 640x480 with 1 Axes>"
      ]
     },
     "metadata": {},
     "output_type": "display_data"
    }
   ],
   "source": [
    "data.boxplot(column= \"surface_total_in_m2\", by=\"property_type\") \n",
    "plt.show()"
   ]
  },
  {
   "cell_type": "markdown",
   "metadata": {},
   "source": [
    "se detectan outliers para superficies mayores a 75000 m2. ### ver consistencia en outliers"
   ]
  },
  {
   "cell_type": "markdown",
   "metadata": {},
   "source": [
    "##### VER SI ELIMINAMOS OUTLIERS!!!!"
   ]
  },
  {
   "cell_type": "markdown",
   "metadata": {},
   "source": [
    "#### 2-Recuperar informacion faltante a través de regex de la columna descripción"
   ]
  },
  {
   "cell_type": "code",
   "execution_count": 12,
   "metadata": {},
   "outputs": [],
   "source": [
    "import re"
   ]
  },
  {
   "cell_type": "code",
   "execution_count": 13,
   "metadata": {},
   "outputs": [],
   "source": [
    "serie_descripcion = data[\"description\"]"
   ]
  },
  {
   "cell_type": "code",
   "execution_count": 14,
   "metadata": {},
   "outputs": [],
   "source": [
    "pattern_sup_m2 = \"(?P<sup>\\d{2,}(,|.\\d+)?)\\s*(m2|metros|mts)\"\n",
    "pattern_sup_m2_regex = re.compile(pattern_sup_m2,  re.IGNORECASE)"
   ]
  },
  {
   "cell_type": "code",
   "execution_count": 15,
   "metadata": {},
   "outputs": [],
   "source": [
    "import numpy as np\n",
    "sup_match = serie_descripcion.apply(lambda x: x if x is np.NaN else pattern_sup_m2_regex.search(x))\n"
   ]
  },
  {
   "cell_type": "code",
   "execution_count": 16,
   "metadata": {},
   "outputs": [
    {
     "data": {
      "text/plain": [
       "115143    <re.Match object; span=(233, 239), match='380 ...\n",
       "71580                                                  None\n",
       "81274                                                  None\n",
       "114153    <re.Match object; span=(168, 173), match='25 M2'>\n",
       "116182    <re.Match object; span=(193, 198), match='130m2'>\n",
       "39475                                                  None\n",
       "9849                                                   None\n",
       "17463                                                  None\n",
       "58001                                                  None\n",
       "77298     <re.Match object; span=(62, 69), match='300 mts'>\n",
       "Name: description, dtype: object"
      ]
     },
     "execution_count": 16,
     "metadata": {},
     "output_type": "execute_result"
    }
   ],
   "source": [
    "sup_match.sample(10)"
   ]
  },
  {
   "cell_type": "code",
   "execution_count": 17,
   "metadata": {},
   "outputs": [],
   "source": [
    "mask_sup_match_notnull= sup_match.notnull()\n",
    "\n",
    "data.loc[mask_sup_match_notnull, \"Sup_m2_Clean\"] = sup_match[mask_sup_match_notnull].apply(lambda x: x.group(\"sup\"))\n"
   ]
  },
  {
   "cell_type": "code",
   "execution_count": 18,
   "metadata": {},
   "outputs": [],
   "source": [
    "#data.loc[mask_sup_match_notnull, [\"surface_total_in_m2\", \"surface_covered_in_m2\", \"Sup_m2_Clean\"]]----para borrar"
   ]
  },
  {
   "cell_type": "code",
   "execution_count": 19,
   "metadata": {},
   "outputs": [],
   "source": [
    "serie_sup_m2_clean=data[\"Sup_m2_Clean\"]"
   ]
  },
  {
   "cell_type": "code",
   "execution_count": 20,
   "metadata": {},
   "outputs": [
    {
     "name": "stdout",
     "output_type": "stream",
     "text": [
      "40087\n"
     ]
    },
    {
     "data": {
      "text/plain": [
       "81133"
      ]
     },
     "execution_count": 20,
     "metadata": {},
     "output_type": "execute_result"
    }
   ],
   "source": [
    "print(serie_sup_m2_clean.notnull().sum())\n",
    "serie_sup_m2_clean.isnull().sum()"
   ]
  },
  {
   "cell_type": "code",
   "execution_count": 21,
   "metadata": {},
   "outputs": [
    {
     "ename": "TypeError",
     "evalue": "expected string or bytes-like object",
     "output_type": "error",
     "traceback": [
      "\u001b[1;31m---------------------------------------------------------------------------\u001b[0m",
      "\u001b[1;31mTypeError\u001b[0m                                 Traceback (most recent call last)",
      "\u001b[1;32mc:\\Users\\idfic\\FICHELSON\\Data Science Digital House\\dh-ds-pi-1\\superficie_limpia_columnas.ipynb Cell 31\u001b[0m in \u001b[0;36m<cell line: 5>\u001b[1;34m()\u001b[0m\n\u001b[0;32m      <a href='vscode-notebook-cell:/c%3A/Users/idfic/FICHELSON/Data%20Science%20Digital%20House/dh-ds-pi-1/superficie_limpia_columnas.ipynb#X42sZmlsZQ%3D%3D?line=2'>3</a>\u001b[0m pattern_sup_m2_dos\u001b[39m=\u001b[39m\u001b[39m\"\u001b[39m\u001b[39m(?P<supdos>\u001b[39m\u001b[39m\\\u001b[39m\u001b[39md\u001b[39m\u001b[39m{\u001b[39m\u001b[39m2,})\u001b[39m\u001b[39m\"\u001b[39m\n\u001b[0;32m      <a href='vscode-notebook-cell:/c%3A/Users/idfic/FICHELSON/Data%20Science%20Digital%20House/dh-ds-pi-1/superficie_limpia_columnas.ipynb#X42sZmlsZQ%3D%3D?line=3'>4</a>\u001b[0m pattern_sup_m2_regex_dos\u001b[39m=\u001b[39mre\u001b[39m.\u001b[39mcompile(pattern_sup_m2_dos)\n\u001b[1;32m----> <a href='vscode-notebook-cell:/c%3A/Users/idfic/FICHELSON/Data%20Science%20Digital%20House/dh-ds-pi-1/superficie_limpia_columnas.ipynb#X42sZmlsZQ%3D%3D?line=4'>5</a>\u001b[0m sup_match_dos \u001b[39m=\u001b[39m serie_sup_m2_clean\u001b[39m.\u001b[39;49mapply(\u001b[39mlambda\u001b[39;49;00m x: x \u001b[39mif\u001b[39;49;00m x \u001b[39mis\u001b[39;49;00m np\u001b[39m.\u001b[39;49mNaN \u001b[39melse\u001b[39;49;00m pattern_sup_m2_regex_dos\u001b[39m.\u001b[39;49msearch(x))\n\u001b[0;32m      <a href='vscode-notebook-cell:/c%3A/Users/idfic/FICHELSON/Data%20Science%20Digital%20House/dh-ds-pi-1/superficie_limpia_columnas.ipynb#X42sZmlsZQ%3D%3D?line=5'>6</a>\u001b[0m mask_sup_match_notnull_dos\u001b[39m=\u001b[39m sup_match_dos\u001b[39m.\u001b[39mnotnull()\n\u001b[0;32m      <a href='vscode-notebook-cell:/c%3A/Users/idfic/FICHELSON/Data%20Science%20Digital%20House/dh-ds-pi-1/superficie_limpia_columnas.ipynb#X42sZmlsZQ%3D%3D?line=6'>7</a>\u001b[0m data\u001b[39m.\u001b[39mloc[mask_sup_match_notnull_dos, \u001b[39m\"\u001b[39m\u001b[39mSup_m2_Clean_dos\u001b[39m\u001b[39m\"\u001b[39m] \u001b[39m=\u001b[39m sup_match_dos[mask_sup_match_notnull_dos]\u001b[39m.\u001b[39mapply(\u001b[39mlambda\u001b[39;00m x: x\u001b[39m.\u001b[39mgroup(\u001b[39m\"\u001b[39m\u001b[39msupdos\u001b[39m\u001b[39m\"\u001b[39m))\n",
      "File \u001b[1;32mc:\\Users\\idfic\\FICHELSON\\envs\\dhdsblend2021\\lib\\site-packages\\pandas\\core\\series.py:4213\u001b[0m, in \u001b[0;36mSeries.apply\u001b[1;34m(self, func, convert_dtype, args, **kwds)\u001b[0m\n\u001b[0;32m   4211\u001b[0m     \u001b[39melse\u001b[39;00m:\n\u001b[0;32m   4212\u001b[0m         values \u001b[39m=\u001b[39m \u001b[39mself\u001b[39m\u001b[39m.\u001b[39mastype(\u001b[39mobject\u001b[39m)\u001b[39m.\u001b[39m_values\n\u001b[1;32m-> 4213\u001b[0m         mapped \u001b[39m=\u001b[39m lib\u001b[39m.\u001b[39;49mmap_infer(values, f, convert\u001b[39m=\u001b[39;49mconvert_dtype)\n\u001b[0;32m   4215\u001b[0m \u001b[39mif\u001b[39;00m \u001b[39mlen\u001b[39m(mapped) \u001b[39mand\u001b[39;00m \u001b[39misinstance\u001b[39m(mapped[\u001b[39m0\u001b[39m], Series):\n\u001b[0;32m   4216\u001b[0m     \u001b[39m# GH 25959 use pd.array instead of tolist\u001b[39;00m\n\u001b[0;32m   4217\u001b[0m     \u001b[39m# so extension arrays can be used\u001b[39;00m\n\u001b[0;32m   4218\u001b[0m     \u001b[39mreturn\u001b[39;00m \u001b[39mself\u001b[39m\u001b[39m.\u001b[39m_constructor_expanddim(pd\u001b[39m.\u001b[39marray(mapped), index\u001b[39m=\u001b[39m\u001b[39mself\u001b[39m\u001b[39m.\u001b[39mindex)\n",
      "File \u001b[1;32mpandas\\_libs\\lib.pyx:2403\u001b[0m, in \u001b[0;36mpandas._libs.lib.map_infer\u001b[1;34m()\u001b[0m\n",
      "\u001b[1;32mc:\\Users\\idfic\\FICHELSON\\Data Science Digital House\\dh-ds-pi-1\\superficie_limpia_columnas.ipynb Cell 31\u001b[0m in \u001b[0;36m<lambda>\u001b[1;34m(x)\u001b[0m\n\u001b[0;32m      <a href='vscode-notebook-cell:/c%3A/Users/idfic/FICHELSON/Data%20Science%20Digital%20House/dh-ds-pi-1/superficie_limpia_columnas.ipynb#X42sZmlsZQ%3D%3D?line=2'>3</a>\u001b[0m pattern_sup_m2_dos\u001b[39m=\u001b[39m\u001b[39m\"\u001b[39m\u001b[39m(?P<supdos>\u001b[39m\u001b[39m\\\u001b[39m\u001b[39md\u001b[39m\u001b[39m{\u001b[39m\u001b[39m2,})\u001b[39m\u001b[39m\"\u001b[39m\n\u001b[0;32m      <a href='vscode-notebook-cell:/c%3A/Users/idfic/FICHELSON/Data%20Science%20Digital%20House/dh-ds-pi-1/superficie_limpia_columnas.ipynb#X42sZmlsZQ%3D%3D?line=3'>4</a>\u001b[0m pattern_sup_m2_regex_dos\u001b[39m=\u001b[39mre\u001b[39m.\u001b[39mcompile(pattern_sup_m2_dos)\n\u001b[1;32m----> <a href='vscode-notebook-cell:/c%3A/Users/idfic/FICHELSON/Data%20Science%20Digital%20House/dh-ds-pi-1/superficie_limpia_columnas.ipynb#X42sZmlsZQ%3D%3D?line=4'>5</a>\u001b[0m sup_match_dos \u001b[39m=\u001b[39m serie_sup_m2_clean\u001b[39m.\u001b[39mapply(\u001b[39mlambda\u001b[39;00m x: x \u001b[39mif\u001b[39;00m x \u001b[39mis\u001b[39;00m np\u001b[39m.\u001b[39mNaN \u001b[39melse\u001b[39;00m pattern_sup_m2_regex_dos\u001b[39m.\u001b[39;49msearch(x))\n\u001b[0;32m      <a href='vscode-notebook-cell:/c%3A/Users/idfic/FICHELSON/Data%20Science%20Digital%20House/dh-ds-pi-1/superficie_limpia_columnas.ipynb#X42sZmlsZQ%3D%3D?line=5'>6</a>\u001b[0m mask_sup_match_notnull_dos\u001b[39m=\u001b[39m sup_match_dos\u001b[39m.\u001b[39mnotnull()\n\u001b[0;32m      <a href='vscode-notebook-cell:/c%3A/Users/idfic/FICHELSON/Data%20Science%20Digital%20House/dh-ds-pi-1/superficie_limpia_columnas.ipynb#X42sZmlsZQ%3D%3D?line=6'>7</a>\u001b[0m data\u001b[39m.\u001b[39mloc[mask_sup_match_notnull_dos, \u001b[39m\"\u001b[39m\u001b[39mSup_m2_Clean_dos\u001b[39m\u001b[39m\"\u001b[39m] \u001b[39m=\u001b[39m sup_match_dos[mask_sup_match_notnull_dos]\u001b[39m.\u001b[39mapply(\u001b[39mlambda\u001b[39;00m x: x\u001b[39m.\u001b[39mgroup(\u001b[39m\"\u001b[39m\u001b[39msupdos\u001b[39m\u001b[39m\"\u001b[39m))\n",
      "\u001b[1;31mTypeError\u001b[0m: expected string or bytes-like object"
     ]
    }
   ],
   "source": [
    "#SE ARREGLAN ERRORES DE COLUMNA DE REGEX PARA PODER SER UTILIZADOS EN ESTADISTICA\n",
    "\n",
    "pattern_sup_m2_dos=\"(?P<supdos>\\d{2,})\"\n",
    "pattern_sup_m2_regex_dos=re.compile(pattern_sup_m2_dos)\n",
    "sup_match_dos = serie_sup_m2_clean.apply(lambda x: x if x is np.NaN else pattern_sup_m2_regex_dos.search(x))\n",
    "mask_sup_match_notnull_dos= sup_match_dos.notnull()\n",
    "data.loc[mask_sup_match_notnull_dos, \"Sup_m2_Clean_dos\"] = sup_match_dos[mask_sup_match_notnull_dos].apply(lambda x: x.group(\"supdos\"))\n",
    "# data[\"Sup_m2_Clean_dos\"].median()\n"
   ]
  },
  {
   "cell_type": "markdown",
   "metadata": {},
   "source": [
    "##### Se supone que para PH, apartments y store la superficie cubierta es la misma que la superficie total, *se descarta house entendiendo que estas pueden contar con \"patio\". con estos datos se reemplazan los valores faltantes(no lo pude separar -VER!!!!*. PASAR PARA ARRIBA para dar orden al analisis"
   ]
  },
  {
   "cell_type": "code",
   "execution_count": null,
   "metadata": {},
   "outputs": [],
   "source": [
    "data_limpia= data.copy()\n"
   ]
  },
  {
   "cell_type": "code",
   "execution_count": null,
   "metadata": {},
   "outputs": [],
   "source": [
    "data_limpia[\"sup_m2_total_limpia\"] = data_limpia[\"surface_total_in_m2\"]"
   ]
  },
  {
   "cell_type": "code",
   "execution_count": null,
   "metadata": {},
   "outputs": [
    {
     "data": {
      "text/plain": [
       "(101313, 26)"
      ]
     },
     "execution_count": 47,
     "metadata": {},
     "output_type": "execute_result"
    }
   ],
   "source": [
    "data_key_not_null_mask = np.logical_and(data.property_type.notnull(), data.surface_covered_in_m2.notnull())\n",
    "data_key_not_null = data.loc[data_key_not_null_mask, :]\n",
    "data_key_not_null.shape"
   ]
  },
  {
   "cell_type": "code",
   "execution_count": null,
   "metadata": {},
   "outputs": [],
   "source": [
    "data_key_not_null_grouped_tipo_sup= data_key_not_null.groupby([\"property_type\", \"surface_covered_in_m2\"])\n"
   ]
  },
  {
   "cell_type": "code",
   "execution_count": null,
   "metadata": {},
   "outputs": [
    {
     "data": {
      "text/plain": [
       "0          55.0\n",
       "2          55.0\n",
       "4          35.0\n",
       "6         106.0\n",
       "7          45.0\n",
       "          ...  \n",
       "121215    113.0\n",
       "121216    360.0\n",
       "121217     46.0\n",
       "121218     48.0\n",
       "121219     77.0\n",
       "Name: surface_total_in_m2, Length: 101313, dtype: float64"
      ]
     },
     "execution_count": 49,
     "metadata": {},
     "output_type": "execute_result"
    }
   ],
   "source": [
    "data_fillna= data_key_not_null_grouped_tipo_sup[\"surface_total_in_m2\"].transform(lambda grp: grp.fillna(grp.mean()))\n",
    "data_fillna"
   ]
  },
  {
   "cell_type": "code",
   "execution_count": null,
   "metadata": {},
   "outputs": [],
   "source": [
    "data_limpia[\"sup_m2_total_limpia\"].fillna(data_fillna,inplace=True)\n",
    "#data_limpia.loc[mask_sup_match_notnull, [\"surface_total_in_m2\", \"sup_m2_total_limpia\", \"property_type\"]]"
   ]
  },
  {
   "cell_type": "code",
   "execution_count": null,
   "metadata": {},
   "outputs": [
    {
     "data": {
      "text/plain": [
       "12642"
      ]
     },
     "execution_count": 51,
     "metadata": {},
     "output_type": "execute_result"
    }
   ],
   "source": [
    "data_limpia[\"sup_m2_total_limpia\"].isnull().sum()"
   ]
  },
  {
   "cell_type": "markdown",
   "metadata": {},
   "source": [
    "### se adicionan los datos obtenidos de la columna descripcion."
   ]
  },
  {
   "cell_type": "code",
   "execution_count": null,
   "metadata": {},
   "outputs": [
    {
     "ename": "KeyError",
     "evalue": "'Sup_m2_Clean_dos'",
     "output_type": "error",
     "traceback": [
      "\u001b[1;31m---------------------------------------------------------------------------\u001b[0m",
      "\u001b[1;31mKeyError\u001b[0m                                  Traceback (most recent call last)",
      "File \u001b[1;32mc:\\Users\\idfic\\FICHELSON\\envs\\dhdsblend2021\\lib\\site-packages\\pandas\\core\\indexes\\base.py:2898\u001b[0m, in \u001b[0;36mIndex.get_loc\u001b[1;34m(self, key, method, tolerance)\u001b[0m\n\u001b[0;32m   2897\u001b[0m \u001b[39mtry\u001b[39;00m:\n\u001b[1;32m-> 2898\u001b[0m     \u001b[39mreturn\u001b[39;00m \u001b[39mself\u001b[39;49m\u001b[39m.\u001b[39;49m_engine\u001b[39m.\u001b[39;49mget_loc(casted_key)\n\u001b[0;32m   2899\u001b[0m \u001b[39mexcept\u001b[39;00m \u001b[39mKeyError\u001b[39;00m \u001b[39mas\u001b[39;00m err:\n",
      "File \u001b[1;32mpandas\\_libs\\index.pyx:70\u001b[0m, in \u001b[0;36mpandas._libs.index.IndexEngine.get_loc\u001b[1;34m()\u001b[0m\n",
      "File \u001b[1;32mpandas\\_libs\\index.pyx:101\u001b[0m, in \u001b[0;36mpandas._libs.index.IndexEngine.get_loc\u001b[1;34m()\u001b[0m\n",
      "File \u001b[1;32mpandas\\_libs\\hashtable_class_helper.pxi:1675\u001b[0m, in \u001b[0;36mpandas._libs.hashtable.PyObjectHashTable.get_item\u001b[1;34m()\u001b[0m\n",
      "File \u001b[1;32mpandas\\_libs\\hashtable_class_helper.pxi:1683\u001b[0m, in \u001b[0;36mpandas._libs.hashtable.PyObjectHashTable.get_item\u001b[1;34m()\u001b[0m\n",
      "\u001b[1;31mKeyError\u001b[0m: 'Sup_m2_Clean_dos'",
      "\nThe above exception was the direct cause of the following exception:\n",
      "\u001b[1;31mKeyError\u001b[0m                                  Traceback (most recent call last)",
      "\u001b[1;32mc:\\Users\\idfic\\FICHELSON\\Data Science Digital House\\dh-ds-pi-1\\superficie_limpia_columnas.ipynb Cell 41\u001b[0m in \u001b[0;36m<cell line: 1>\u001b[1;34m()\u001b[0m\n\u001b[1;32m----> <a href='vscode-notebook-cell:/c%3A/Users/idfic/FICHELSON/Data%20Science%20Digital%20House/dh-ds-pi-1/superficie_limpia_columnas.ipynb#X55sZmlsZQ%3D%3D?line=0'>1</a>\u001b[0m data_limpia[\u001b[39m\"\u001b[39m\u001b[39msup_m2_total_limpia\u001b[39m\u001b[39m\"\u001b[39m]\u001b[39m.\u001b[39mfillna(data_limpia[\u001b[39m\"\u001b[39;49m\u001b[39mSup_m2_Clean_dos\u001b[39;49m\u001b[39m\"\u001b[39;49m],inplace\u001b[39m=\u001b[39m\u001b[39mTrue\u001b[39;00m)\n",
      "File \u001b[1;32mc:\\Users\\idfic\\FICHELSON\\envs\\dhdsblend2021\\lib\\site-packages\\pandas\\core\\frame.py:2906\u001b[0m, in \u001b[0;36mDataFrame.__getitem__\u001b[1;34m(self, key)\u001b[0m\n\u001b[0;32m   2904\u001b[0m \u001b[39mif\u001b[39;00m \u001b[39mself\u001b[39m\u001b[39m.\u001b[39mcolumns\u001b[39m.\u001b[39mnlevels \u001b[39m>\u001b[39m \u001b[39m1\u001b[39m:\n\u001b[0;32m   2905\u001b[0m     \u001b[39mreturn\u001b[39;00m \u001b[39mself\u001b[39m\u001b[39m.\u001b[39m_getitem_multilevel(key)\n\u001b[1;32m-> 2906\u001b[0m indexer \u001b[39m=\u001b[39m \u001b[39mself\u001b[39;49m\u001b[39m.\u001b[39;49mcolumns\u001b[39m.\u001b[39;49mget_loc(key)\n\u001b[0;32m   2907\u001b[0m \u001b[39mif\u001b[39;00m is_integer(indexer):\n\u001b[0;32m   2908\u001b[0m     indexer \u001b[39m=\u001b[39m [indexer]\n",
      "File \u001b[1;32mc:\\Users\\idfic\\FICHELSON\\envs\\dhdsblend2021\\lib\\site-packages\\pandas\\core\\indexes\\base.py:2900\u001b[0m, in \u001b[0;36mIndex.get_loc\u001b[1;34m(self, key, method, tolerance)\u001b[0m\n\u001b[0;32m   2898\u001b[0m         \u001b[39mreturn\u001b[39;00m \u001b[39mself\u001b[39m\u001b[39m.\u001b[39m_engine\u001b[39m.\u001b[39mget_loc(casted_key)\n\u001b[0;32m   2899\u001b[0m     \u001b[39mexcept\u001b[39;00m \u001b[39mKeyError\u001b[39;00m \u001b[39mas\u001b[39;00m err:\n\u001b[1;32m-> 2900\u001b[0m         \u001b[39mraise\u001b[39;00m \u001b[39mKeyError\u001b[39;00m(key) \u001b[39mfrom\u001b[39;00m \u001b[39merr\u001b[39;00m\n\u001b[0;32m   2902\u001b[0m \u001b[39mif\u001b[39;00m tolerance \u001b[39mis\u001b[39;00m \u001b[39mnot\u001b[39;00m \u001b[39mNone\u001b[39;00m:\n\u001b[0;32m   2903\u001b[0m     tolerance \u001b[39m=\u001b[39m \u001b[39mself\u001b[39m\u001b[39m.\u001b[39m_convert_tolerance(tolerance, np\u001b[39m.\u001b[39masarray(key))\n",
      "\u001b[1;31mKeyError\u001b[0m: 'Sup_m2_Clean_dos'"
     ]
    }
   ],
   "source": [
    "data_limpia[\"sup_m2_total_limpia\"].fillna(data_limpia[\"Sup_m2_Clean_dos\"],inplace=True)"
   ]
  },
  {
   "cell_type": "code",
   "execution_count": null,
   "metadata": {},
   "outputs": [
    {
     "data": {
      "text/plain": [
       "32.14503661513425"
      ]
     },
     "execution_count": 53,
     "metadata": {},
     "output_type": "execute_result"
    }
   ],
   "source": [
    "data_limpia[\"sup_m2_total_limpia\"].isnull().sum()/data[\"surface_total_in_m2\"].isnull().sum()*100"
   ]
  },
  {
   "cell_type": "markdown",
   "metadata": {},
   "source": [
    "### se recupera el 23% de la informacion faltante al suponer superficie cubierta como superficie total y al extraer informacion con metodo regex de la columna descripción \n"
   ]
  },
  {
   "cell_type": "code",
   "execution_count": null,
   "metadata": {},
   "outputs": [
    {
     "data": {
      "text/plain": [
       "10.428972116812407"
      ]
     },
     "execution_count": 54,
     "metadata": {},
     "output_type": "execute_result"
    }
   ],
   "source": [
    "data_limpia[\"sup_m2_total_limpia\"].isnull().sum()/data_limpia.shape[0]*100"
   ]
  },
  {
   "cell_type": "markdown",
   "metadata": {},
   "source": [
    "#### se redujo de 32% a 7.6% la información faltante."
   ]
  },
  {
   "cell_type": "markdown",
   "metadata": {},
   "source": [
    "# Para los datos faltantes en la columna de interés, se desea agrupar por tipo de propiedad para sacar la mediana de los m2 totales y estratificar los valores. de esta manera podriamos tener los datos completos. REVISAR SI ES NECESARIO"
   ]
  },
  {
   "cell_type": "markdown",
   "metadata": {},
   "source": [
    "# Columna Rooms"
   ]
  },
  {
   "cell_type": "markdown",
   "metadata": {},
   "source": [
    "### Revisar relacion precio vs rooms. comparar propiedades similares con distinta cantidad de rooms para ver si varia sustancialmente el precio - PENDIENTE"
   ]
  },
  {
   "cell_type": "code",
   "execution_count": 22,
   "metadata": {},
   "outputs": [],
   "source": [
    "## Arranco por los monoambientes\n",
    "#pattern_mono='(?P<sup>\\d{2,}(,|.\\d+)?)\\s*(mono)\\S+?'\n",
    "pattern_mono='(mono)|(mono\\s+\\w+)|(mono\\.+\\w+)|(mono\\-+\\w+)|(mono\\w+)'\n",
    "pattern_mono_regex=re.compile(pattern_mono,re.IGNORECASE)"
   ]
  },
  {
   "cell_type": "code",
   "execution_count": 23,
   "metadata": {},
   "outputs": [],
   "source": [
    "serie_mono_descripcion=data['description']\n",
    "mono_match = serie_mono_descripcion.apply(lambda x: x if x is np.NaN else pattern_mono_regex.search(x))\n",
    "#sup_match = serie_descripcion.apply(lambda x: x if x is np.NaN else pattern_sup_m2_regex.search(x))\n"
   ]
  },
  {
   "cell_type": "code",
   "execution_count": 24,
   "metadata": {},
   "outputs": [
    {
     "data": {
      "text/plain": [
       "(10749,)"
      ]
     },
     "execution_count": 24,
     "metadata": {},
     "output_type": "execute_result"
    }
   ],
   "source": [
    "mask_mono_match=mono_match.notnull()\n",
    "col_mono_prueba_nulos=mono_match[mask_mono_match]\n",
    "col_mono_prueba_nulos.shape"
   ]
  },
  {
   "cell_type": "code",
   "execution_count": 25,
   "metadata": {},
   "outputs": [],
   "source": [
    "data.loc[mask_mono_match,'Ambientes_Clean']= 1"
   ]
  },
  {
   "cell_type": "markdown",
   "metadata": {},
   "source": [
    "#### Ahora me enfoco en todos los departamentos que no sean monos, uso por ahora ambientes, para evitar confusiones con dormitorios y habitaciones"
   ]
  },
  {
   "cell_type": "code",
   "execution_count": 26,
   "metadata": {},
   "outputs": [],
   "source": [
    "#pattern_rooms= \"(?P<dorm>\\d+.?Dorm|\\d+.?dorm|\\d+.?DORM|\\d+.?AMB|\\d+.?Amb|\\d+.?amb|\\d+.?hab|\\d+.?HAB|\\d+.?Hab|monoamb)\"\n",
    "#pattern_rooms= \"(?P<dorm>\\d{2,}(,|.\\d+)?)\\s*(Dorm|amb|monoamb).?Dorm|\\d+.?dorm|\\d+.?DORM|\\d+.?AMB|\\d+.?Amb|\\d+.?amb|\\d+.?hab|\\d+.?HAB|\\d+.?Hab|monoamb)\"\n",
    "#\"(?P<sup>\\d{2,}(,|.\\d+)?)\\s*(m2|metros|mts)\"(mono)|(mono\\s+\\w+)|(mono\\.+\\w+)|(mono\\-+\\w+)|(mono\\w+)\n",
    "#\"(?P<sup>\\d{2,}(,|.\\d+)?)\\s*(m2|metros|mts)\"\n",
    "pattern_ambs=\"(?P<num>\\s\\d{1,2})\\s*(\\samb\\w*\\s)\"\n",
    "pattern_ambs_regex=re.compile(pattern_ambs,re.IGNORECASE)"
   ]
  },
  {
   "cell_type": "code",
   "execution_count": 27,
   "metadata": {},
   "outputs": [],
   "source": [
    "mask_mono_nulo=mono_match.isnull()\n",
    "col_mono_nulo=mono_match[mask_mono_nulo]\n",
    "pattern_ambs_match=serie_descripcion.apply(lambda x: x if x is np.NaN else pattern_ambs_regex.search(x))"
   ]
  },
  {
   "cell_type": "code",
   "execution_count": 28,
   "metadata": {},
   "outputs": [
    {
     "data": {
      "text/plain": [
       "<re.Match object; span=(25, 38), match=' 4 ambientes '>      1\n",
       "<re.Match object; span=(15, 28), match=' 2 ambientes '>      1\n",
       "<re.Match object; span=(352, 365), match=' 2 ambientes '>    1\n",
       "<re.Match object; span=(134, 147), match=' 5 ambientes '>    1\n",
       "<re.Match object; span=(6, 19), match=' 4 ambientes '>       1\n",
       "                                                            ..\n",
       "<re.Match object; span=(35, 48), match=' 4 ambientes '>      1\n",
       "<re.Match object; span=(199, 212), match=' 3 AMBIENTES '>    1\n",
       "<re.Match object; span=(166, 173), match=' 1 amb '>          1\n",
       "<re.Match object; span=(5, 12), match=' 2 amb '>             1\n",
       "<re.Match object; span=(118, 131), match=' 4 ambientes '>    1\n",
       "Name: description, Length: 27506, dtype: int64"
      ]
     },
     "execution_count": 28,
     "metadata": {},
     "output_type": "execute_result"
    }
   ],
   "source": [
    "pattern_ambs_match.value_counts()"
   ]
  },
  {
   "cell_type": "code",
   "execution_count": 29,
   "metadata": {},
   "outputs": [
    {
     "data": {
      "text/plain": [
       "pandas.core.series.Series"
      ]
     },
     "execution_count": 29,
     "metadata": {},
     "output_type": "execute_result"
    }
   ],
   "source": [
    "type(pattern_ambs_match)"
   ]
  },
  {
   "cell_type": "code",
   "execution_count": 30,
   "metadata": {},
   "outputs": [
    {
     "name": "stdout",
     "output_type": "stream",
     "text": [
      "93714\n",
      "27506\n"
     ]
    }
   ],
   "source": [
    "print(pattern_ambs_match.isna().sum())\n",
    "print(pattern_ambs_match.notna().sum())"
   ]
  },
  {
   "cell_type": "code",
   "execution_count": 31,
   "metadata": {},
   "outputs": [],
   "source": [
    "#Cambio los None por NaN\n",
    "pattern_ambs_match_2=pattern_ambs_match.fillna(np.NaN)"
   ]
  },
  {
   "cell_type": "code",
   "execution_count": 32,
   "metadata": {},
   "outputs": [],
   "source": [
    "pattern_ambs_match_3=pattern_ambs_match_2.apply(lambda x: x if x is np.NaN else x[0])"
   ]
  },
  {
   "cell_type": "code",
   "execution_count": 33,
   "metadata": {},
   "outputs": [
    {
     "data": {
      "text/plain": [
       "27506"
      ]
     },
     "execution_count": 33,
     "metadata": {},
     "output_type": "execute_result"
    }
   ],
   "source": [
    "nuevo_pattern='(?P<num>\\d{1,2})'\n",
    "nuevo_pattern_regex=re.compile(nuevo_pattern)\n",
    "nuevo_pattern_match=pattern_ambs_match_3.apply(lambda x: x if x is np.NaN else nuevo_pattern_regex.search(x))\n",
    "nuevo_pattern_match.notnull().sum()"
   ]
  },
  {
   "cell_type": "code",
   "execution_count": 34,
   "metadata": {},
   "outputs": [],
   "source": [
    "mask_def_not_null= nuevo_pattern_match.notnull()\n",
    "mask_mono_nulo=mono_match.isnull()\n",
    "data.loc[mask_mono_nulo, \"Ambientes_Clean\"] = nuevo_pattern_match[mask_mono_nulo].apply(lambda x: x if x is np.NaN else x.group('num'))\n"
   ]
  },
  {
   "cell_type": "code",
   "execution_count": 35,
   "metadata": {},
   "outputs": [
    {
     "data": {
      "text/html": [
       "<div>\n",
       "<style scoped>\n",
       "    .dataframe tbody tr th:only-of-type {\n",
       "        vertical-align: middle;\n",
       "    }\n",
       "\n",
       "    .dataframe tbody tr th {\n",
       "        vertical-align: top;\n",
       "    }\n",
       "\n",
       "    .dataframe thead th {\n",
       "        text-align: right;\n",
       "    }\n",
       "</style>\n",
       "<table border=\"1\" class=\"dataframe\">\n",
       "  <thead>\n",
       "    <tr style=\"text-align: right;\">\n",
       "      <th></th>\n",
       "      <th>Ambientes_Clean</th>\n",
       "      <th>rooms</th>\n",
       "    </tr>\n",
       "  </thead>\n",
       "  <tbody>\n",
       "    <tr>\n",
       "      <th>118899</th>\n",
       "      <td>1</td>\n",
       "      <td>NaN</td>\n",
       "    </tr>\n",
       "    <tr>\n",
       "      <th>85015</th>\n",
       "      <td>3</td>\n",
       "      <td>NaN</td>\n",
       "    </tr>\n",
       "    <tr>\n",
       "      <th>41204</th>\n",
       "      <td>NaN</td>\n",
       "      <td>4.0</td>\n",
       "    </tr>\n",
       "    <tr>\n",
       "      <th>116886</th>\n",
       "      <td>NaN</td>\n",
       "      <td>NaN</td>\n",
       "    </tr>\n",
       "    <tr>\n",
       "      <th>30033</th>\n",
       "      <td>1</td>\n",
       "      <td>3.0</td>\n",
       "    </tr>\n",
       "    <tr>\n",
       "      <th>107079</th>\n",
       "      <td>NaN</td>\n",
       "      <td>NaN</td>\n",
       "    </tr>\n",
       "    <tr>\n",
       "      <th>119258</th>\n",
       "      <td>1</td>\n",
       "      <td>2.0</td>\n",
       "    </tr>\n",
       "    <tr>\n",
       "      <th>105150</th>\n",
       "      <td>1</td>\n",
       "      <td>NaN</td>\n",
       "    </tr>\n",
       "    <tr>\n",
       "      <th>46636</th>\n",
       "      <td>NaN</td>\n",
       "      <td>4.0</td>\n",
       "    </tr>\n",
       "    <tr>\n",
       "      <th>2994</th>\n",
       "      <td>NaN</td>\n",
       "      <td>5.0</td>\n",
       "    </tr>\n",
       "  </tbody>\n",
       "</table>\n",
       "</div>"
      ],
      "text/plain": [
       "       Ambientes_Clean  rooms\n",
       "118899               1    NaN\n",
       "85015                3    NaN\n",
       "41204              NaN    4.0\n",
       "116886             NaN    NaN\n",
       "30033                1    3.0\n",
       "107079             NaN    NaN\n",
       "119258               1    2.0\n",
       "105150               1    NaN\n",
       "46636              NaN    4.0\n",
       "2994               NaN    5.0"
      ]
     },
     "execution_count": 35,
     "metadata": {},
     "output_type": "execute_result"
    }
   ],
   "source": [
    "serie_rooms_clean=data[\"Ambientes_Clean\"]\n",
    "serie_rooms_clean.notnull().sum()\n",
    "serie_rooms_clean.value_counts()\n",
    "data[['Ambientes_Clean','rooms']].sample(10)"
   ]
  },
  {
   "cell_type": "code",
   "execution_count": 36,
   "metadata": {},
   "outputs": [
    {
     "name": "stderr",
     "output_type": "stream",
     "text": [
      "C:\\Users\\idfic\\AppData\\Local\\Temp\\ipykernel_21172\\457002546.py:2: SettingWithCopyWarning: \n",
      "A value is trying to be set on a copy of a slice from a DataFrame\n",
      "\n",
      "See the caveats in the documentation: https://pandas.pydata.org/pandas-docs/stable/user_guide/indexing.html#returning-a-view-versus-a-copy\n",
      "  data.Ambientes_Clean[mask_room_no_nula]=data.rooms[mask_room_no_nula]\n"
     ]
    },
    {
     "data": {
      "text/html": [
       "<div>\n",
       "<style scoped>\n",
       "    .dataframe tbody tr th:only-of-type {\n",
       "        vertical-align: middle;\n",
       "    }\n",
       "\n",
       "    .dataframe tbody tr th {\n",
       "        vertical-align: top;\n",
       "    }\n",
       "\n",
       "    .dataframe thead th {\n",
       "        text-align: right;\n",
       "    }\n",
       "</style>\n",
       "<table border=\"1\" class=\"dataframe\">\n",
       "  <thead>\n",
       "    <tr style=\"text-align: right;\">\n",
       "      <th></th>\n",
       "      <th>Ambientes_Clean</th>\n",
       "      <th>rooms</th>\n",
       "    </tr>\n",
       "  </thead>\n",
       "  <tbody>\n",
       "    <tr>\n",
       "      <th>13</th>\n",
       "      <td>1</td>\n",
       "      <td>1.0</td>\n",
       "    </tr>\n",
       "    <tr>\n",
       "      <th>14</th>\n",
       "      <td>1</td>\n",
       "      <td>1.0</td>\n",
       "    </tr>\n",
       "    <tr>\n",
       "      <th>16</th>\n",
       "      <td>4</td>\n",
       "      <td>4.0</td>\n",
       "    </tr>\n",
       "    <tr>\n",
       "      <th>17</th>\n",
       "      <td>3</td>\n",
       "      <td>3.0</td>\n",
       "    </tr>\n",
       "    <tr>\n",
       "      <th>19</th>\n",
       "      <td>3</td>\n",
       "      <td>3.0</td>\n",
       "    </tr>\n",
       "    <tr>\n",
       "      <th>...</th>\n",
       "      <td>...</td>\n",
       "      <td>...</td>\n",
       "    </tr>\n",
       "    <tr>\n",
       "      <th>120203</th>\n",
       "      <td>2</td>\n",
       "      <td>2.0</td>\n",
       "    </tr>\n",
       "    <tr>\n",
       "      <th>120204</th>\n",
       "      <td>1</td>\n",
       "      <td>1.0</td>\n",
       "    </tr>\n",
       "    <tr>\n",
       "      <th>120205</th>\n",
       "      <td>5</td>\n",
       "      <td>5.0</td>\n",
       "    </tr>\n",
       "    <tr>\n",
       "      <th>120206</th>\n",
       "      <td>4</td>\n",
       "      <td>4.0</td>\n",
       "    </tr>\n",
       "    <tr>\n",
       "      <th>120207</th>\n",
       "      <td>1</td>\n",
       "      <td>1.0</td>\n",
       "    </tr>\n",
       "  </tbody>\n",
       "</table>\n",
       "<p>47390 rows × 2 columns</p>\n",
       "</div>"
      ],
      "text/plain": [
       "       Ambientes_Clean  rooms\n",
       "13                   1    1.0\n",
       "14                   1    1.0\n",
       "16                   4    4.0\n",
       "17                   3    3.0\n",
       "19                   3    3.0\n",
       "...                ...    ...\n",
       "120203               2    2.0\n",
       "120204               1    1.0\n",
       "120205               5    5.0\n",
       "120206               4    4.0\n",
       "120207               1    1.0\n",
       "\n",
       "[47390 rows x 2 columns]"
      ]
     },
     "execution_count": 36,
     "metadata": {},
     "output_type": "execute_result"
    }
   ],
   "source": [
    "mask_room_no_nula = data.rooms.notnull()\n",
    "data.Ambientes_Clean[mask_room_no_nula]=data.rooms[mask_room_no_nula]\n",
    "data[['Ambientes_Clean','rooms']][mask_room_no_nula]"
   ]
  },
  {
   "cell_type": "code",
   "execution_count": 37,
   "metadata": {},
   "outputs": [
    {
     "name": "stdout",
     "output_type": "stream",
     "text": [
      "0.5491585546939449\n",
      "0.3909420887642303\n"
     ]
    }
   ],
   "source": [
    "#Pctje no nulo de rooms\n",
    "print(data.Ambientes_Clean.notnull().sum()/data.shape[0])\n",
    "print(data.rooms.notnull().sum()/data.shape[0])"
   ]
  },
  {
   "cell_type": "markdown",
   "metadata": {},
   "source": [
    "Recuperamos el 16% de rooms"
   ]
  },
  {
   "cell_type": "markdown",
   "metadata": {},
   "source": [
    "Procedo a imputar los ambientes"
   ]
  },
  {
   "cell_type": "code",
   "execution_count": 38,
   "metadata": {},
   "outputs": [],
   "source": [
    "mask_amb_not_null=data.Ambientes_Clean.notnull()\n",
    "data.loc[mask_amb_not_null,'Ambientes_Clean']=data.loc[mask_amb_not_null,'Ambientes_Clean'].astype('int')"
   ]
  },
  {
   "cell_type": "code",
   "execution_count": 39,
   "metadata": {},
   "outputs": [],
   "source": [
    "data.Ambientes_Clean=data.Ambientes_Clean.astype('Int64')"
   ]
  },
  {
   "cell_type": "code",
   "execution_count": 40,
   "metadata": {},
   "outputs": [],
   "source": [
    "ambientes_non_null=data.Ambientes_Clean[mask_amb_not_null]\n",
    "metros_mask_amb_non_null=data.surface_covered_in_m2[mask_amb_not_null]"
   ]
  },
  {
   "cell_type": "code",
   "execution_count": 41,
   "metadata": {},
   "outputs": [
    {
     "data": {
      "text/plain": [
       "Ambientes_Clean          Int64\n",
       "surface_covered_in_m2    Int64\n",
       "dtype: object"
      ]
     },
     "execution_count": 41,
     "metadata": {},
     "output_type": "execute_result"
    }
   ],
   "source": [
    "data.surface_covered_in_m2=data.surface_covered_in_m2.astype('Int64')\n",
    "data[['Ambientes_Clean','surface_covered_in_m2']].dtypes"
   ]
  },
  {
   "cell_type": "code",
   "execution_count": 42,
   "metadata": {},
   "outputs": [],
   "source": [
    "data['size_rooms']=np.where(data['Ambientes_Clean'].notnull(),data['surface_covered_in_m2']/data['Ambientes_Clean'],np.NaN)"
   ]
  },
  {
   "cell_type": "code",
   "execution_count": 43,
   "metadata": {},
   "outputs": [
    {
     "data": {
      "text/html": [
       "<div>\n",
       "<style scoped>\n",
       "    .dataframe tbody tr th:only-of-type {\n",
       "        vertical-align: middle;\n",
       "    }\n",
       "\n",
       "    .dataframe tbody tr th {\n",
       "        vertical-align: top;\n",
       "    }\n",
       "\n",
       "    .dataframe thead th {\n",
       "        text-align: right;\n",
       "    }\n",
       "</style>\n",
       "<table border=\"1\" class=\"dataframe\">\n",
       "  <thead>\n",
       "    <tr style=\"text-align: right;\">\n",
       "      <th></th>\n",
       "      <th>Ambientes_Clean</th>\n",
       "      <th>surface_covered_in_m2</th>\n",
       "      <th>size_rooms</th>\n",
       "    </tr>\n",
       "  </thead>\n",
       "  <tbody>\n",
       "    <tr>\n",
       "      <th>0</th>\n",
       "      <td>&lt;NA&gt;</td>\n",
       "      <td>40</td>\n",
       "      <td>NaN</td>\n",
       "    </tr>\n",
       "    <tr>\n",
       "      <th>1</th>\n",
       "      <td>&lt;NA&gt;</td>\n",
       "      <td>&lt;NA&gt;</td>\n",
       "      <td>NaN</td>\n",
       "    </tr>\n",
       "    <tr>\n",
       "      <th>2</th>\n",
       "      <td>&lt;NA&gt;</td>\n",
       "      <td>55</td>\n",
       "      <td>NaN</td>\n",
       "    </tr>\n",
       "    <tr>\n",
       "      <th>3</th>\n",
       "      <td>3</td>\n",
       "      <td>&lt;NA&gt;</td>\n",
       "      <td>NaN</td>\n",
       "    </tr>\n",
       "    <tr>\n",
       "      <th>4</th>\n",
       "      <td>&lt;NA&gt;</td>\n",
       "      <td>35</td>\n",
       "      <td>NaN</td>\n",
       "    </tr>\n",
       "    <tr>\n",
       "      <th>...</th>\n",
       "      <td>...</td>\n",
       "      <td>...</td>\n",
       "      <td>...</td>\n",
       "    </tr>\n",
       "    <tr>\n",
       "      <th>121215</th>\n",
       "      <td>&lt;NA&gt;</td>\n",
       "      <td>93</td>\n",
       "      <td>NaN</td>\n",
       "    </tr>\n",
       "    <tr>\n",
       "      <th>121216</th>\n",
       "      <td>&lt;NA&gt;</td>\n",
       "      <td>360</td>\n",
       "      <td>NaN</td>\n",
       "    </tr>\n",
       "    <tr>\n",
       "      <th>121217</th>\n",
       "      <td>1</td>\n",
       "      <td>39</td>\n",
       "      <td>39.0</td>\n",
       "    </tr>\n",
       "    <tr>\n",
       "      <th>121218</th>\n",
       "      <td>&lt;NA&gt;</td>\n",
       "      <td>48</td>\n",
       "      <td>NaN</td>\n",
       "    </tr>\n",
       "    <tr>\n",
       "      <th>121219</th>\n",
       "      <td>&lt;NA&gt;</td>\n",
       "      <td>77</td>\n",
       "      <td>NaN</td>\n",
       "    </tr>\n",
       "  </tbody>\n",
       "</table>\n",
       "<p>121220 rows × 3 columns</p>\n",
       "</div>"
      ],
      "text/plain": [
       "        Ambientes_Clean  surface_covered_in_m2  size_rooms\n",
       "0                  <NA>                     40         NaN\n",
       "1                  <NA>                   <NA>         NaN\n",
       "2                  <NA>                     55         NaN\n",
       "3                     3                   <NA>         NaN\n",
       "4                  <NA>                     35         NaN\n",
       "...                 ...                    ...         ...\n",
       "121215             <NA>                     93         NaN\n",
       "121216             <NA>                    360         NaN\n",
       "121217                1                     39        39.0\n",
       "121218             <NA>                     48         NaN\n",
       "121219             <NA>                     77         NaN\n",
       "\n",
       "[121220 rows x 3 columns]"
      ]
     },
     "execution_count": 43,
     "metadata": {},
     "output_type": "execute_result"
    }
   ],
   "source": [
    "data[['Ambientes_Clean','surface_covered_in_m2','size_rooms']]"
   ]
  },
  {
   "cell_type": "markdown",
   "metadata": {},
   "source": [
    "# Ahora completo los faltantes de tamaño promedio con groupby"
   ]
  },
  {
   "cell_type": "code",
   "execution_count": 44,
   "metadata": {},
   "outputs": [],
   "source": [
    "fill_values=data.groupby('property_type').size_rooms.median()"
   ]
  },
  {
   "cell_type": "code",
   "execution_count": 45,
   "metadata": {},
   "outputs": [
    {
     "data": {
      "text/html": [
       "<div>\n",
       "<style scoped>\n",
       "    .dataframe tbody tr th:only-of-type {\n",
       "        vertical-align: middle;\n",
       "    }\n",
       "\n",
       "    .dataframe tbody tr th {\n",
       "        vertical-align: top;\n",
       "    }\n",
       "\n",
       "    .dataframe thead th {\n",
       "        text-align: right;\n",
       "    }\n",
       "</style>\n",
       "<table border=\"1\" class=\"dataframe\">\n",
       "  <thead>\n",
       "    <tr style=\"text-align: right;\">\n",
       "      <th></th>\n",
       "      <th>property_type</th>\n",
       "      <th>size_rooms</th>\n",
       "    </tr>\n",
       "  </thead>\n",
       "  <tbody>\n",
       "    <tr>\n",
       "      <th>0</th>\n",
       "      <td>PH</td>\n",
       "      <td>23.50</td>\n",
       "    </tr>\n",
       "    <tr>\n",
       "      <th>1</th>\n",
       "      <td>apartment</td>\n",
       "      <td>26.00</td>\n",
       "    </tr>\n",
       "    <tr>\n",
       "      <th>2</th>\n",
       "      <td>house</td>\n",
       "      <td>40.00</td>\n",
       "    </tr>\n",
       "    <tr>\n",
       "      <th>3</th>\n",
       "      <td>store</td>\n",
       "      <td>57.75</td>\n",
       "    </tr>\n",
       "  </tbody>\n",
       "</table>\n",
       "</div>"
      ],
      "text/plain": [
       "  property_type  size_rooms\n",
       "0            PH       23.50\n",
       "1     apartment       26.00\n",
       "2         house       40.00\n",
       "3         store       57.75"
      ]
     },
     "execution_count": 45,
     "metadata": {},
     "output_type": "execute_result"
    }
   ],
   "source": [
    "fill_values_df=pd.DataFrame(fill_values)\n",
    "fill_values_df.reset_index(inplace=True)\n",
    "fill_values_df.head(5)"
   ]
  },
  {
   "cell_type": "code",
   "execution_count": 46,
   "metadata": {},
   "outputs": [
    {
     "data": {
      "text/html": [
       "<div>\n",
       "<style scoped>\n",
       "    .dataframe tbody tr th:only-of-type {\n",
       "        vertical-align: middle;\n",
       "    }\n",
       "\n",
       "    .dataframe tbody tr th {\n",
       "        vertical-align: top;\n",
       "    }\n",
       "\n",
       "    .dataframe thead th {\n",
       "        text-align: right;\n",
       "    }\n",
       "</style>\n",
       "<table border=\"1\" class=\"dataframe\">\n",
       "  <thead>\n",
       "    <tr style=\"text-align: right;\">\n",
       "      <th></th>\n",
       "      <th>operation</th>\n",
       "      <th>property_type</th>\n",
       "      <th>place_name</th>\n",
       "      <th>place_with_parent_names</th>\n",
       "      <th>country_name</th>\n",
       "      <th>state_name</th>\n",
       "      <th>geonames_id</th>\n",
       "      <th>lat-lon</th>\n",
       "      <th>lat</th>\n",
       "      <th>lon</th>\n",
       "      <th>...</th>\n",
       "      <th>rooms</th>\n",
       "      <th>expenses</th>\n",
       "      <th>properati_url</th>\n",
       "      <th>description</th>\n",
       "      <th>title</th>\n",
       "      <th>image_thumbnail</th>\n",
       "      <th>Sup_m2_Clean</th>\n",
       "      <th>Ambientes_Clean</th>\n",
       "      <th>size_rooms</th>\n",
       "      <th>size_rooms_median</th>\n",
       "    </tr>\n",
       "  </thead>\n",
       "  <tbody>\n",
       "    <tr>\n",
       "      <th>18511</th>\n",
       "      <td>sell</td>\n",
       "      <td>apartment</td>\n",
       "      <td>Villa Crespo</td>\n",
       "      <td>|Argentina|Capital Federal|Villa Crespo|</td>\n",
       "      <td>Argentina</td>\n",
       "      <td>Capital Federal</td>\n",
       "      <td>3427458.0</td>\n",
       "      <td>-34.6030405,-58.435675</td>\n",
       "      <td>-34.603041</td>\n",
       "      <td>-58.435675</td>\n",
       "      <td>...</td>\n",
       "      <td>2.0</td>\n",
       "      <td>NaN</td>\n",
       "      <td>http://www.properati.com.ar/1773n_venta_depart...</td>\n",
       "      <td>TRIPLEX DE 2 AMBIENTES CON TERRAZA PROPIA. A E...</td>\n",
       "      <td>DEPARTAMENTO EN VENTA VILLA CRESPO TRIPLEX</td>\n",
       "      <td>https://thumbs4.properati.com/1/tjHLfKvE2ZtzJ7...</td>\n",
       "      <td>18</td>\n",
       "      <td>2</td>\n",
       "      <td>21.500000</td>\n",
       "      <td>26.0</td>\n",
       "    </tr>\n",
       "    <tr>\n",
       "      <th>112672</th>\n",
       "      <td>sell</td>\n",
       "      <td>house</td>\n",
       "      <td>Pilar del Lago</td>\n",
       "      <td>|Argentina|Bs.As. G.B.A. Zona Norte|Pilar|Pila...</td>\n",
       "      <td>Argentina</td>\n",
       "      <td>Bs.As. G.B.A. Zona Norte</td>\n",
       "      <td>NaN</td>\n",
       "      <td>NaN</td>\n",
       "      <td>NaN</td>\n",
       "      <td>NaN</td>\n",
       "      <td>...</td>\n",
       "      <td>NaN</td>\n",
       "      <td>2300.0</td>\n",
       "      <td>http://www.properati.com.ar/1c77i_venta_casa_p...</td>\n",
       "      <td>Sobre terreno de 800 mts, construida una casa ...</td>\n",
       "      <td>Casa - Pilar Del Lago</td>\n",
       "      <td>https://thumbs4.properati.com/0/J7BSr1B7yW0C-n...</td>\n",
       "      <td>800</td>\n",
       "      <td>&lt;NA&gt;</td>\n",
       "      <td>NaN</td>\n",
       "      <td>40.0</td>\n",
       "    </tr>\n",
       "    <tr>\n",
       "      <th>91033</th>\n",
       "      <td>sell</td>\n",
       "      <td>apartment</td>\n",
       "      <td>Olivos</td>\n",
       "      <td>|Argentina|Bs.As. G.B.A. Zona Norte|Vicente Ló...</td>\n",
       "      <td>Argentina</td>\n",
       "      <td>Bs.As. G.B.A. Zona Norte</td>\n",
       "      <td>3430310.0</td>\n",
       "      <td>NaN</td>\n",
       "      <td>NaN</td>\n",
       "      <td>NaN</td>\n",
       "      <td>...</td>\n",
       "      <td>NaN</td>\n",
       "      <td>NaN</td>\n",
       "      <td>http://www.properati.com.ar/1bb0g_venta_depart...</td>\n",
       "      <td>Dto 2 amb apto profesional a estrenar exc est...</td>\n",
       "      <td>Departamento en Olivos</td>\n",
       "      <td>https://thumbs4.properati.com/6/Hk1jbXch77n1sW...</td>\n",
       "      <td>50</td>\n",
       "      <td>2</td>\n",
       "      <td>25.000000</td>\n",
       "      <td>26.0</td>\n",
       "    </tr>\n",
       "    <tr>\n",
       "      <th>5723</th>\n",
       "      <td>sell</td>\n",
       "      <td>apartment</td>\n",
       "      <td>Rosario</td>\n",
       "      <td>|Argentina|Santa Fe|Rosario|</td>\n",
       "      <td>Argentina</td>\n",
       "      <td>Santa Fe</td>\n",
       "      <td>3838574.0</td>\n",
       "      <td>-32.9371824,-60.6418905</td>\n",
       "      <td>-32.937182</td>\n",
       "      <td>-60.641891</td>\n",
       "      <td>...</td>\n",
       "      <td>NaN</td>\n",
       "      <td>NaN</td>\n",
       "      <td>http://www.properati.com.ar/15rjy_venta_depart...</td>\n",
       "      <td>CODIGO: 3855-JP-000053 ubicado en: Jujuy 1515 ...</td>\n",
       "      <td>Departamento 2 dormitorios en venta en Rosario...</td>\n",
       "      <td>https://thumbs4.properati.com/1/OgVNnZ6KdUTWa1...</td>\n",
       "      <td>50,55</td>\n",
       "      <td>&lt;NA&gt;</td>\n",
       "      <td>NaN</td>\n",
       "      <td>26.0</td>\n",
       "    </tr>\n",
       "    <tr>\n",
       "      <th>7974</th>\n",
       "      <td>sell</td>\n",
       "      <td>apartment</td>\n",
       "      <td>Caballito</td>\n",
       "      <td>|Argentina|Capital Federal|Caballito|</td>\n",
       "      <td>Argentina</td>\n",
       "      <td>Capital Federal</td>\n",
       "      <td>3435874.0</td>\n",
       "      <td>-34.6058091,-58.4534805</td>\n",
       "      <td>-34.605809</td>\n",
       "      <td>-58.453481</td>\n",
       "      <td>...</td>\n",
       "      <td>3.0</td>\n",
       "      <td>NaN</td>\n",
       "      <td>http://www.properati.com.ar/15znx_venta_depart...</td>\n",
       "      <td>Emprendimiento ícono en la zona, Caballito Nor...</td>\n",
       "      <td>Departamento - Caballito Norte</td>\n",
       "      <td>https://thumbs4.properati.com/1/YN9StXiLKv20MH...</td>\n",
       "      <td>NaN</td>\n",
       "      <td>3</td>\n",
       "      <td>22.666667</td>\n",
       "      <td>26.0</td>\n",
       "    </tr>\n",
       "    <tr>\n",
       "      <th>67481</th>\n",
       "      <td>sell</td>\n",
       "      <td>apartment</td>\n",
       "      <td>Remedios de Escalada</td>\n",
       "      <td>|Argentina|Bs.As. G.B.A. Zona Sur|Lanús|Remedi...</td>\n",
       "      <td>Argentina</td>\n",
       "      <td>Bs.As. G.B.A. Zona Sur</td>\n",
       "      <td>3429582.0</td>\n",
       "      <td>NaN</td>\n",
       "      <td>NaN</td>\n",
       "      <td>NaN</td>\n",
       "      <td>...</td>\n",
       "      <td>NaN</td>\n",
       "      <td>NaN</td>\n",
       "      <td>http://www.properati.com.ar/1afcl_venta_depart...</td>\n",
       "      <td>El complejo cuenta con una parrilla en el fond...</td>\n",
       "      <td>Departamento en Remedios De Escalada</td>\n",
       "      <td>https://thumbs4.properati.com/9/AuQktn0HPaKuMe...</td>\n",
       "      <td>NaN</td>\n",
       "      <td>&lt;NA&gt;</td>\n",
       "      <td>NaN</td>\n",
       "      <td>26.0</td>\n",
       "    </tr>\n",
       "    <tr>\n",
       "      <th>68185</th>\n",
       "      <td>sell</td>\n",
       "      <td>apartment</td>\n",
       "      <td>San Miguel de Tucumán</td>\n",
       "      <td>|Argentina|Tucumán|San Miguel de Tucumán|</td>\n",
       "      <td>Argentina</td>\n",
       "      <td>Tucumán</td>\n",
       "      <td>3836873.0</td>\n",
       "      <td>NaN</td>\n",
       "      <td>NaN</td>\n",
       "      <td>NaN</td>\n",
       "      <td>...</td>\n",
       "      <td>NaN</td>\n",
       "      <td>NaN</td>\n",
       "      <td>http://www.properati.com.ar/1aggu_venta_depart...</td>\n",
       "      <td>ENTREGA DICIEMBRE 2017.Para el proyecto se ado...</td>\n",
       "      <td>Departamento - Barrio Norte</td>\n",
       "      <td>https://thumbs4.properati.com/9/aQdciZHPyKUqBc...</td>\n",
       "      <td>423,50</td>\n",
       "      <td>1</td>\n",
       "      <td>57.000000</td>\n",
       "      <td>26.0</td>\n",
       "    </tr>\n",
       "    <tr>\n",
       "      <th>84329</th>\n",
       "      <td>sell</td>\n",
       "      <td>house</td>\n",
       "      <td>Escobar</td>\n",
       "      <td>|Argentina|Bs.As. G.B.A. Zona Norte|Escobar|</td>\n",
       "      <td>Argentina</td>\n",
       "      <td>Bs.As. G.B.A. Zona Norte</td>\n",
       "      <td>3434130.0</td>\n",
       "      <td>NaN</td>\n",
       "      <td>NaN</td>\n",
       "      <td>NaN</td>\n",
       "      <td>...</td>\n",
       "      <td>NaN</td>\n",
       "      <td>5000.0</td>\n",
       "      <td>http://www.properati.com.ar/1b1lm_venta_casa_e...</td>\n",
       "      <td>EXCELENTE CASA DE MODERNO DISEÑO A LAGUNA! Se ...</td>\n",
       "      <td>Casa en venta a estrenar a la Laguna en Barrio...</td>\n",
       "      <td>https://thumbs4.properati.com/2/KpVvWVznOONd5M...</td>\n",
       "      <td>NaN</td>\n",
       "      <td>&lt;NA&gt;</td>\n",
       "      <td>NaN</td>\n",
       "      <td>40.0</td>\n",
       "    </tr>\n",
       "    <tr>\n",
       "      <th>77526</th>\n",
       "      <td>sell</td>\n",
       "      <td>house</td>\n",
       "      <td>General Pacheco</td>\n",
       "      <td>|Argentina|Bs.As. G.B.A. Zona Norte|Tigre|Gene...</td>\n",
       "      <td>Argentina</td>\n",
       "      <td>Bs.As. G.B.A. Zona Norte</td>\n",
       "      <td>3433787.0</td>\n",
       "      <td>NaN</td>\n",
       "      <td>NaN</td>\n",
       "      <td>NaN</td>\n",
       "      <td>...</td>\n",
       "      <td>NaN</td>\n",
       "      <td>NaN</td>\n",
       "      <td>http://www.properati.com.ar/1asxw_venta_casa_g...</td>\n",
       "      <td>CASA EN VENTA EN GENERAL PACHECO - TIGRECompue...</td>\n",
       "      <td>CASA EN VENTA EN GENERAL PACHECO - TIGRE - POZ...</td>\n",
       "      <td>https://thumbs4.properati.com/6/1mv8oAlbB2wYkZ...</td>\n",
       "      <td>10</td>\n",
       "      <td>&lt;NA&gt;</td>\n",
       "      <td>NaN</td>\n",
       "      <td>40.0</td>\n",
       "    </tr>\n",
       "    <tr>\n",
       "      <th>37480</th>\n",
       "      <td>sell</td>\n",
       "      <td>apartment</td>\n",
       "      <td>Lanús</td>\n",
       "      <td>|Argentina|Bs.As. G.B.A. Zona Sur|Lanús|Lanús|</td>\n",
       "      <td>Argentina</td>\n",
       "      <td>Bs.As. G.B.A. Zona Sur</td>\n",
       "      <td>NaN</td>\n",
       "      <td>-34.711961,-58.392447</td>\n",
       "      <td>-34.711961</td>\n",
       "      <td>-58.392447</td>\n",
       "      <td>...</td>\n",
       "      <td>2.0</td>\n",
       "      <td>NaN</td>\n",
       "      <td>http://www.properati.com.ar/18j99_venta_depart...</td>\n",
       "      <td>Corredor Responsable: Marcelo Trujillo - CUCIC...</td>\n",
       "      <td>Departamento - 2 ambientes - Apto Crédito</td>\n",
       "      <td>https://thumbs4.properati.com/2/dXgW2gGPfYXc9L...</td>\n",
       "      <td>NaN</td>\n",
       "      <td>2</td>\n",
       "      <td>26.000000</td>\n",
       "      <td>26.0</td>\n",
       "    </tr>\n",
       "  </tbody>\n",
       "</table>\n",
       "<p>10 rows × 29 columns</p>\n",
       "</div>"
      ],
      "text/plain": [
       "       operation property_type             place_name  \\\n",
       "18511       sell     apartment           Villa Crespo   \n",
       "112672      sell         house         Pilar del Lago   \n",
       "91033       sell     apartment                 Olivos   \n",
       "5723        sell     apartment                Rosario   \n",
       "7974        sell     apartment              Caballito   \n",
       "67481       sell     apartment   Remedios de Escalada   \n",
       "68185       sell     apartment  San Miguel de Tucumán   \n",
       "84329       sell         house                Escobar   \n",
       "77526       sell         house        General Pacheco   \n",
       "37480       sell     apartment                  Lanús   \n",
       "\n",
       "                                  place_with_parent_names country_name  \\\n",
       "18511            |Argentina|Capital Federal|Villa Crespo|    Argentina   \n",
       "112672  |Argentina|Bs.As. G.B.A. Zona Norte|Pilar|Pila...    Argentina   \n",
       "91033   |Argentina|Bs.As. G.B.A. Zona Norte|Vicente Ló...    Argentina   \n",
       "5723                         |Argentina|Santa Fe|Rosario|    Argentina   \n",
       "7974                |Argentina|Capital Federal|Caballito|    Argentina   \n",
       "67481   |Argentina|Bs.As. G.B.A. Zona Sur|Lanús|Remedi...    Argentina   \n",
       "68185           |Argentina|Tucumán|San Miguel de Tucumán|    Argentina   \n",
       "84329        |Argentina|Bs.As. G.B.A. Zona Norte|Escobar|    Argentina   \n",
       "77526   |Argentina|Bs.As. G.B.A. Zona Norte|Tigre|Gene...    Argentina   \n",
       "37480      |Argentina|Bs.As. G.B.A. Zona Sur|Lanús|Lanús|    Argentina   \n",
       "\n",
       "                      state_name  geonames_id                  lat-lon  \\\n",
       "18511            Capital Federal    3427458.0   -34.6030405,-58.435675   \n",
       "112672  Bs.As. G.B.A. Zona Norte          NaN                      NaN   \n",
       "91033   Bs.As. G.B.A. Zona Norte    3430310.0                      NaN   \n",
       "5723                    Santa Fe    3838574.0  -32.9371824,-60.6418905   \n",
       "7974             Capital Federal    3435874.0  -34.6058091,-58.4534805   \n",
       "67481     Bs.As. G.B.A. Zona Sur    3429582.0                      NaN   \n",
       "68185                    Tucumán    3836873.0                      NaN   \n",
       "84329   Bs.As. G.B.A. Zona Norte    3434130.0                      NaN   \n",
       "77526   Bs.As. G.B.A. Zona Norte    3433787.0                      NaN   \n",
       "37480     Bs.As. G.B.A. Zona Sur          NaN    -34.711961,-58.392447   \n",
       "\n",
       "              lat        lon  ...  rooms expenses  \\\n",
       "18511  -34.603041 -58.435675  ...    2.0      NaN   \n",
       "112672        NaN        NaN  ...    NaN   2300.0   \n",
       "91033         NaN        NaN  ...    NaN      NaN   \n",
       "5723   -32.937182 -60.641891  ...    NaN      NaN   \n",
       "7974   -34.605809 -58.453481  ...    3.0      NaN   \n",
       "67481         NaN        NaN  ...    NaN      NaN   \n",
       "68185         NaN        NaN  ...    NaN      NaN   \n",
       "84329         NaN        NaN  ...    NaN   5000.0   \n",
       "77526         NaN        NaN  ...    NaN      NaN   \n",
       "37480  -34.711961 -58.392447  ...    2.0      NaN   \n",
       "\n",
       "                                            properati_url  \\\n",
       "18511   http://www.properati.com.ar/1773n_venta_depart...   \n",
       "112672  http://www.properati.com.ar/1c77i_venta_casa_p...   \n",
       "91033   http://www.properati.com.ar/1bb0g_venta_depart...   \n",
       "5723    http://www.properati.com.ar/15rjy_venta_depart...   \n",
       "7974    http://www.properati.com.ar/15znx_venta_depart...   \n",
       "67481   http://www.properati.com.ar/1afcl_venta_depart...   \n",
       "68185   http://www.properati.com.ar/1aggu_venta_depart...   \n",
       "84329   http://www.properati.com.ar/1b1lm_venta_casa_e...   \n",
       "77526   http://www.properati.com.ar/1asxw_venta_casa_g...   \n",
       "37480   http://www.properati.com.ar/18j99_venta_depart...   \n",
       "\n",
       "                                              description  \\\n",
       "18511   TRIPLEX DE 2 AMBIENTES CON TERRAZA PROPIA. A E...   \n",
       "112672  Sobre terreno de 800 mts, construida una casa ...   \n",
       "91033    Dto 2 amb apto profesional a estrenar exc est...   \n",
       "5723    CODIGO: 3855-JP-000053 ubicado en: Jujuy 1515 ...   \n",
       "7974    Emprendimiento ícono en la zona, Caballito Nor...   \n",
       "67481   El complejo cuenta con una parrilla en el fond...   \n",
       "68185   ENTREGA DICIEMBRE 2017.Para el proyecto se ado...   \n",
       "84329   EXCELENTE CASA DE MODERNO DISEÑO A LAGUNA! Se ...   \n",
       "77526   CASA EN VENTA EN GENERAL PACHECO - TIGRECompue...   \n",
       "37480   Corredor Responsable: Marcelo Trujillo - CUCIC...   \n",
       "\n",
       "                                                    title  \\\n",
       "18511          DEPARTAMENTO EN VENTA VILLA CRESPO TRIPLEX   \n",
       "112672                              Casa - Pilar Del Lago   \n",
       "91033                              Departamento en Olivos   \n",
       "5723    Departamento 2 dormitorios en venta en Rosario...   \n",
       "7974                       Departamento - Caballito Norte   \n",
       "67481                Departamento en Remedios De Escalada   \n",
       "68185                         Departamento - Barrio Norte   \n",
       "84329   Casa en venta a estrenar a la Laguna en Barrio...   \n",
       "77526   CASA EN VENTA EN GENERAL PACHECO - TIGRE - POZ...   \n",
       "37480           Departamento - 2 ambientes - Apto Crédito   \n",
       "\n",
       "                                          image_thumbnail  Sup_m2_Clean  \\\n",
       "18511   https://thumbs4.properati.com/1/tjHLfKvE2ZtzJ7...            18   \n",
       "112672  https://thumbs4.properati.com/0/J7BSr1B7yW0C-n...           800   \n",
       "91033   https://thumbs4.properati.com/6/Hk1jbXch77n1sW...            50   \n",
       "5723    https://thumbs4.properati.com/1/OgVNnZ6KdUTWa1...         50,55   \n",
       "7974    https://thumbs4.properati.com/1/YN9StXiLKv20MH...           NaN   \n",
       "67481   https://thumbs4.properati.com/9/AuQktn0HPaKuMe...           NaN   \n",
       "68185   https://thumbs4.properati.com/9/aQdciZHPyKUqBc...        423,50   \n",
       "84329   https://thumbs4.properati.com/2/KpVvWVznOONd5M...           NaN   \n",
       "77526   https://thumbs4.properati.com/6/1mv8oAlbB2wYkZ...            10   \n",
       "37480   https://thumbs4.properati.com/2/dXgW2gGPfYXc9L...           NaN   \n",
       "\n",
       "        Ambientes_Clean  size_rooms  size_rooms_median  \n",
       "18511                 2   21.500000               26.0  \n",
       "112672             <NA>         NaN               40.0  \n",
       "91033                 2   25.000000               26.0  \n",
       "5723               <NA>         NaN               26.0  \n",
       "7974                  3   22.666667               26.0  \n",
       "67481              <NA>         NaN               26.0  \n",
       "68185                 1   57.000000               26.0  \n",
       "84329              <NA>         NaN               40.0  \n",
       "77526              <NA>         NaN               40.0  \n",
       "37480                 2   26.000000               26.0  \n",
       "\n",
       "[10 rows x 29 columns]"
      ]
     },
     "execution_count": 46,
     "metadata": {},
     "output_type": "execute_result"
    }
   ],
   "source": [
    "#Lo mergeamos con el df\n",
    "data = data.merge(fill_values_df,on='property_type',suffixes=('','_median'),how='left')\n",
    "data.sample(10)"
   ]
  },
  {
   "cell_type": "code",
   "execution_count": 47,
   "metadata": {},
   "outputs": [],
   "source": [
    "data.size_rooms.fillna(data.size_rooms_median,inplace=True)"
   ]
  },
  {
   "cell_type": "code",
   "execution_count": 48,
   "metadata": {},
   "outputs": [],
   "source": [
    "mask_ambientes_null=data.Ambientes_Clean.isnull()"
   ]
  },
  {
   "cell_type": "code",
   "execution_count": 49,
   "metadata": {},
   "outputs": [],
   "source": [
    "data['ambientes_2']=data.surface_covered_in_m2/data.size_rooms\n",
    "#data['ambientes_2']=data['ambientes_2'].astype('Int64')\n",
    "data['ambientes_2'].dtype\n",
    "data['Ambientes_Clean']=data['Ambientes_Clean'].astype('float64')\n",
    "data['Ambientes_Clean'].dtype\n",
    "data.Ambientes_Clean.fillna(data.ambientes_2,inplace=True)\n"
   ]
  },
  {
   "cell_type": "code",
   "execution_count": 50,
   "metadata": {},
   "outputs": [
    {
     "name": "stdout",
     "output_type": "stream",
     "text": [
      "0.9079607325523841\n",
      "0.3909420887642303\n"
     ]
    }
   ],
   "source": [
    "print(data.Ambientes_Clean.notnull().sum()/data.shape[0])\n",
    "print(data.rooms.notnull().sum()/data.shape[0])"
   ]
  },
  {
   "cell_type": "markdown",
   "metadata": {},
   "source": [
    "# Se logró imputar el 90% de Rooms!!! Si reemplazamos los m2_covered por los m2 imputados podemos lograr el 90%"
   ]
  },
  {
   "cell_type": "markdown",
   "metadata": {},
   "source": [
    "### se saca la parte entera del str"
   ]
  },
  {
   "cell_type": "code",
   "execution_count": null,
   "metadata": {},
   "outputs": [
    {
     "ename": "NameError",
     "evalue": "name 'serie_rooms_clean' is not defined",
     "output_type": "error",
     "traceback": [
      "\u001b[1;31m---------------------------------------------------------------------------\u001b[0m",
      "\u001b[1;31mNameError\u001b[0m                                 Traceback (most recent call last)",
      "\u001b[1;32mc:\\Users\\idfic\\FICHELSON\\Data Science Digital House\\dh-ds-pi-1\\superficie_limpia_columnas.ipynb Cell 74\u001b[0m in \u001b[0;36m<cell line: 3>\u001b[1;34m()\u001b[0m\n\u001b[0;32m      <a href='vscode-notebook-cell:/c%3A/Users/idfic/FICHELSON/Data%20Science%20Digital%20House/dh-ds-pi-1/superficie_limpia_columnas.ipynb#Y133sZmlsZQ%3D%3D?line=0'>1</a>\u001b[0m pattern_rooms_dos\u001b[39m=\u001b[39m\u001b[39m\"\u001b[39m\u001b[39m(?P<dorm_dos>\u001b[39m\u001b[39m\\\u001b[39m\u001b[39md+.?)\u001b[39m\u001b[39m\"\u001b[39m\n\u001b[0;32m      <a href='vscode-notebook-cell:/c%3A/Users/idfic/FICHELSON/Data%20Science%20Digital%20House/dh-ds-pi-1/superficie_limpia_columnas.ipynb#Y133sZmlsZQ%3D%3D?line=1'>2</a>\u001b[0m pattern_rooms_regex_dos\u001b[39m=\u001b[39mre\u001b[39m.\u001b[39mcompile(pattern_rooms_dos)\n\u001b[1;32m----> <a href='vscode-notebook-cell:/c%3A/Users/idfic/FICHELSON/Data%20Science%20Digital%20House/dh-ds-pi-1/superficie_limpia_columnas.ipynb#Y133sZmlsZQ%3D%3D?line=2'>3</a>\u001b[0m room_match_dos \u001b[39m=\u001b[39m serie_rooms_clean\u001b[39m.\u001b[39mapply(\u001b[39mlambda\u001b[39;00m x: x \u001b[39mif\u001b[39;00m x \u001b[39mis\u001b[39;00m np\u001b[39m.\u001b[39mNaN \u001b[39melse\u001b[39;00m pattern_rooms_regex_dos\u001b[39m.\u001b[39msearch(x))\n\u001b[0;32m      <a href='vscode-notebook-cell:/c%3A/Users/idfic/FICHELSON/Data%20Science%20Digital%20House/dh-ds-pi-1/superficie_limpia_columnas.ipynb#Y133sZmlsZQ%3D%3D?line=3'>4</a>\u001b[0m room_match_dos\u001b[39m.\u001b[39msample(\u001b[39m10\u001b[39m)\n",
      "\u001b[1;31mNameError\u001b[0m: name 'serie_rooms_clean' is not defined"
     ]
    }
   ],
   "source": [
    "pattern_rooms_dos=\"(?P<dorm_dos>\\d+.?)\"\n",
    "pattern_rooms_regex_dos=re.compile(pattern_rooms_dos)\n",
    "room_match_dos = serie_rooms_clean.apply(lambda x: x if x is np.NaN else pattern_rooms_regex_dos.search(x))\n",
    "room_match_dos.sample(10)"
   ]
  },
  {
   "cell_type": "code",
   "execution_count": null,
   "metadata": {},
   "outputs": [],
   "source": [
    "mask_room_match_notnull_dos= room_match_dos.notnull()\n",
    "\n",
    "data.loc[mask_room_match_notnull_dos,\"rooms_clean_dos\"] = room_match_dos[mask_room_match_notnull_dos].apply(lambda x: x.group(0))"
   ]
  },
  {
   "cell_type": "code",
   "execution_count": null,
   "metadata": {},
   "outputs": [],
   "source": [
    "data.loc[mask_room_match_notnull_dos, [\"rooms\", \"rooms_clean_dos\"]]"
   ]
  },
  {
   "cell_type": "code",
   "execution_count": null,
   "metadata": {},
   "outputs": [],
   "source": [
    "data_limpia[\"rooms\"].fillna(data_limpia[\"rooms_clean_dos\"],inplace=True)\n",
    "data_limpia"
   ]
  },
  {
   "cell_type": "markdown",
   "metadata": {},
   "source": [
    "% de info recuperada = 46%"
   ]
  },
  {
   "cell_type": "code",
   "execution_count": null,
   "metadata": {},
   "outputs": [
    {
     "ename": "NameError",
     "evalue": "name 'data_limpia' is not defined",
     "output_type": "error",
     "traceback": [
      "\u001b[1;31m---------------------------------------------------------------------------\u001b[0m",
      "\u001b[1;31mNameError\u001b[0m                                 Traceback (most recent call last)",
      "\u001b[1;32mc:\\Users\\idfic\\FICHELSON\\Data Science Digital House\\dh-ds-pi-1\\superficie_limpia_columnas.ipynb Cell 73\u001b[0m in \u001b[0;36m<cell line: 1>\u001b[1;34m()\u001b[0m\n\u001b[1;32m----> <a href='vscode-notebook-cell:/c%3A/Users/idfic/FICHELSON/Data%20Science%20Digital%20House/dh-ds-pi-1/superficie_limpia_columnas.ipynb#Y126sZmlsZQ%3D%3D?line=0'>1</a>\u001b[0m data_limpia[\u001b[39m\"\u001b[39m\u001b[39mrooms\u001b[39m\u001b[39m\"\u001b[39m]\u001b[39m.\u001b[39misnull()\u001b[39m.\u001b[39msum()\u001b[39m/\u001b[39mdata[\u001b[39m\"\u001b[39m\u001b[39mrooms\u001b[39m\u001b[39m\"\u001b[39m]\u001b[39m.\u001b[39misnull()\u001b[39m.\u001b[39msum()\u001b[39m*\u001b[39m\u001b[39m100\u001b[39m\n",
      "\u001b[1;31mNameError\u001b[0m: name 'data_limpia' is not defined"
     ]
    }
   ],
   "source": [
    "data_limpia[\"rooms\"].isnull().sum()/data[\"rooms\"].isnull().sum()*100"
   ]
  },
  {
   "cell_type": "code",
   "execution_count": null,
   "metadata": {},
   "outputs": [],
   "source": [
    "mask_residencial= data.property_type != 'store'\n",
    "tipos_residenciales=data.property_type[mask_residencial]\n",
    "rooms_residenciales=data.rooms[mask_residencial]\n",
    "df_residencial=pd.DataFrame(tipos_residenciales)\n",
    "df_residencial['rooms']=rooms_residenciales"
   ]
  },
  {
   "cell_type": "markdown",
   "metadata": {},
   "source": [
    "##### Intentamos ver si los datos faltantes de rooms disminuyen si descontamos las tiendas"
   ]
  },
  {
   "cell_type": "code",
   "execution_count": null,
   "metadata": {},
   "outputs": [],
   "source": [
    "data.rooms.value_counts()"
   ]
  },
  {
   "cell_type": "code",
   "execution_count": null,
   "metadata": {},
   "outputs": [],
   "source": [
    "shape_df=df_residencial.shape\n",
    "count_res=shape_df[0]\n"
   ]
  },
  {
   "cell_type": "code",
   "execution_count": null,
   "metadata": {},
   "outputs": [],
   "source": [
    "nulos_room=df_residencial.rooms.isna().sum(axis=0)\n",
    "pctje_nulos_rooms=nulos_room/count_res\n",
    "pctje_nulos_rooms"
   ]
  },
  {
   "cell_type": "markdown",
   "metadata": {},
   "source": [
    "Veamos cuantas rooms tienen las tiendas"
   ]
  },
  {
   "cell_type": "code",
   "execution_count": null,
   "metadata": {},
   "outputs": [],
   "source": [
    "mask_comercial= data.property_type == 'store'\n",
    "tipos_comerciales=data.property_type[mask_comercial]\n",
    "rooms_comerciales=data.rooms[mask_comercial]\n",
    "df_comercial=pd.DataFrame(tipos_comerciales)\n",
    "df_comercial['rooms']=rooms_comerciales\n",
    "df_comercial.rooms.value_counts()"
   ]
  },
  {
   "cell_type": "markdown",
   "metadata": {},
   "source": [
    "#### Recordemos que el porcentaje original de nulos era similar, "
   ]
  },
  {
   "cell_type": "markdown",
   "metadata": {},
   "source": [
    "Veamos si los faltantes de expensas disminuyen sacando tiendas y casas"
   ]
  },
  {
   "cell_type": "code",
   "execution_count": null,
   "metadata": {},
   "outputs": [],
   "source": [
    "mascara_sin_casas=df_residencial.property_type !='house'\n",
    "expensas_residenciales=data.expenses[mask_residencial]\n",
    "df_residencial['expenses']=expensas_residenciales\n",
    "expensas_deps_ph=expensas_residenciales[mascara_sin_casas]\n",
    "null_exp_clean=expensas_deps_ph.isnull().sum()\n",
    "shape_exp_clean=expensas_deps_ph.shape\n",
    "pctje_null_exp_clean=null_exp_clean/shape_exp_clean[0]\n",
    "pctje_null_exp_clean\n",
    "type_deps_ph=df_residencial.property_type[mascara_sin_casas]\n",
    "type_deps_ph.value_counts()"
   ]
  },
  {
   "cell_type": "code",
   "execution_count": null,
   "metadata": {},
   "outputs": [],
   "source": [
    "expensas_deps_ph.isnull().sum()/expensas_deps_ph.shape[0]"
   ]
  },
  {
   "cell_type": "markdown",
   "metadata": {},
   "source": [
    "Probemos ahora sacando los nulos de rooms para tratar de aplicar un promedio del tamaño de las rooms"
   ]
  },
  {
   "cell_type": "code",
   "execution_count": null,
   "metadata": {},
   "outputs": [],
   "source": [
    "mask_rooms_no_nulas=data.rooms.notnull()\n",
    "rooms_no_nulas=data.rooms.loc[mask_rooms_no_nulas]\n",
    "sf_room_no_nulas=data.surface_covered_in_m2.loc[mask_rooms_no_nulas]\n",
    "df_rooms_clean=pd.DataFrame(rooms_no_nulas)\n",
    "df_rooms_clean['m2_covered']=sf_room_no_nulas\n",
    "mask_rooms_no_nulas.value_counts()"
   ]
  },
  {
   "cell_type": "markdown",
   "metadata": {},
   "source": [
    "El pctje de m2 cubiertos es ligeramente menor, por lo que no hay mucha correlacion entre nulidad de rooms y nulidad de m2_covered\n",
    "Hay que inputar los m2 cubiertos faltantes antes de poder avanzar a tener un promedio de cuantos m2 tiene cada habitación\n",
    "Para imputar las rooms, me imagino hay que inputar promedio por tipo de propiedad, hace falta por barrio, o alguna caracteristica extra?? Para mi no hace falta"
   ]
  },
  {
   "cell_type": "markdown",
   "metadata": {},
   "source": [
    "# Recuperar datos de precio total en dolares"
   ]
  },
  {
   "cell_type": "markdown",
   "metadata": {},
   "source": [
    "### REVISAR CONSISTENCIA ENTRE DATOS ARS Y USD"
   ]
  },
  {
   "cell_type": "markdown",
   "metadata": {},
   "source": [
    "### Nos centramos en este campo, por dos motivos. Sabiendo que la finalidad de esta limpieza es lograr obtener una base de datos con valores que me permitan luego armar un modelo que me ayude a determinar el valor de una propiedad, entendemos que el campo precio es el mas importante. Uno de los motivos por el cual nos centramos en el precio en dolares, es porque este campo no se ve influenciado por la inflación, por otro lado contamos con bastantes datos en la columna lo cual disminuye el error por supuestos o calculos mal hechos."
   ]
  },
  {
   "cell_type": "markdown",
   "metadata": {},
   "source": [
    "### 1-Extraer información con regex de columna descripción"
   ]
  },
  {
   "cell_type": "code",
   "execution_count": null,
   "metadata": {},
   "outputs": [],
   "source": [
    "import re\n",
    "serie_descripcion = data[\"description\"]\n",
    "\n",
    "pattern_usd = \"(?P<usd>(usd|u[$]d)\\s*?(\\d{2,}(,|.\\d+)?))\"\n",
    "pattern_usd_regex = re.compile(pattern_usd,  re.IGNORECASE)\n",
    "\n",
    "import numpy as np\n",
    "usd_match = serie_descripcion.apply(lambda x: x if x is np.NaN else pattern_usd_regex.search(x))\n",
    "\n",
    "mask_usd_match_notnull= usd_match.notnull()\n",
    "\n",
    "data.loc[mask_usd_match_notnull, \"usd_clean\"] = usd_match[mask_usd_match_notnull].apply(lambda x: x.group(0))\n"
   ]
  },
  {
   "cell_type": "code",
   "execution_count": null,
   "metadata": {},
   "outputs": [],
   "source": [
    "serie_usd_clean=data[\"usd_clean\"]"
   ]
  },
  {
   "cell_type": "code",
   "execution_count": null,
   "metadata": {},
   "outputs": [],
   "source": [
    "pattern_usd_dos=\"(?P<usddos>(\\d{2,}(,|.\\d+)?))\"\n",
    "pattern_usd_regex_dos=re.compile(pattern_usd_dos)\n",
    "usd_match_dos = serie_usd_clean.apply(lambda x: x if x is np.NaN else pattern_usd_regex_dos.search(x))\n",
    "mask_usd_match_notnull_dos= usd_match_dos.notnull()\n",
    "data.loc[mask_usd_match_notnull_dos, \"usd_clean_dos\"] = usd_match_dos[mask_usd_match_notnull_dos].apply(lambda x: x.group(\"usddos\"))\n"
   ]
  },
  {
   "cell_type": "code",
   "execution_count": null,
   "metadata": {},
   "outputs": [],
   "source": [
    "data_limpia[\"precio_usd_limpio\"]=data_limpia[\"price_aprox_usd\"]"
   ]
  },
  {
   "cell_type": "code",
   "execution_count": null,
   "metadata": {},
   "outputs": [],
   "source": [
    "data_limpia[\"precio_usd_limpio\"].fillna(data_limpia[\"usd_clean_dos\"],inplace=True)"
   ]
  },
  {
   "cell_type": "code",
   "execution_count": null,
   "metadata": {},
   "outputs": [],
   "source": [
    "data_limpia[\"precio_usd_limpio\"].isnull().sum()"
   ]
  },
  {
   "cell_type": "code",
   "execution_count": null,
   "metadata": {},
   "outputs": [],
   "source": [
    "(1-data_limpia[\"precio_usd_limpio\"].isnull().sum()/data[\"price_aprox_usd\"].isnull().sum())*100"
   ]
  },
  {
   "cell_type": "markdown",
   "metadata": {},
   "source": [
    "Se recuperó el 1.2% de la informacion de precios en dolares del campo descripcion. La recuperacion de datos no es significativa."
   ]
  },
  {
   "cell_type": "markdown",
   "metadata": {},
   "source": [
    "### 2-comprobar si las columnas precio ARS y USD pueden matchear- listo"
   ]
  },
  {
   "cell_type": "code",
   "execution_count": null,
   "metadata": {},
   "outputs": [],
   "source": [
    "mask_ARS_empty=data[\"price_aprox_local_currency\"].isnull()\n",
    "mask_ARS_empty.value_counts()"
   ]
  },
  {
   "cell_type": "code",
   "execution_count": null,
   "metadata": {},
   "outputs": [],
   "source": [
    "mask_USD_empty=data[\"price_aprox_usd\"].isnull()\n",
    "mask_USD_empty.value_counts()"
   ]
  },
  {
   "cell_type": "code",
   "execution_count": null,
   "metadata": {},
   "outputs": [],
   "source": [
    "mask_precio_empty=mask_ARS_empty&mask_USD_empty\n",
    "data[mask_precio_empty].shape"
   ]
  },
  {
   "cell_type": "markdown",
   "metadata": {},
   "source": [
    "##### coinciden la cantidad de filas vacias en cada campo, por lo cual no es posible completar completar datos vacios de USD con ARS sacados de la columna \"price_aprox_local_currency\""
   ]
  },
  {
   "cell_type": "markdown",
   "metadata": {},
   "source": [
    "### 3-Determinar la variacion precio con rooms y superficie---- ver de pasar arriba"
   ]
  },
  {
   "cell_type": "markdown",
   "metadata": {},
   "source": [
    "calculamos la correlacion entre variables"
   ]
  },
  {
   "cell_type": "code",
   "execution_count": null,
   "metadata": {},
   "outputs": [],
   "source": [
    "import matplotlib.pyplot as plt\n",
    "import seaborn as sns\n"
   ]
  },
  {
   "cell_type": "code",
   "execution_count": null,
   "metadata": {},
   "outputs": [],
   "source": [
    "df_surf_float = data[\"surface_total_in_m2\"].astype(float) \n",
    "df_room_float = data['rooms'].astype(float) \n",
    "df_price_float = data['price_aprox_usd'].astype(float) \n",
    "df_tipo = data['property_type']"
   ]
  },
  {
   "cell_type": "code",
   "execution_count": null,
   "metadata": {},
   "outputs": [],
   "source": [
    "data_tipo_usd_sup_room=pd.DataFrame((df_tipo,df_surf_float,df_room_float,df_price_float))\n",
    "data_tipo_usd_sup_room_T=data_tipo_usd_sup_room.T\n",
    "data_tipo_usd_sup_room_T.sample(10)"
   ]
  },
  {
   "cell_type": "code",
   "execution_count": null,
   "metadata": {},
   "outputs": [],
   "source": [
    "g = sns.PairGrid(data_tipo_usd_sup_room_T, vars=['property_type','surface_total_in_m2','rooms','price_aprox_usd'],hue='property_type', palette='deep')\n",
    "g.map(plt.scatter, alpha=0.6)\n",
    "g.add_legend()"
   ]
  },
  {
   "cell_type": "markdown",
   "metadata": {},
   "source": [
    "#### Se puede ver una relacion entre precio tipo de departamento y superficie, no asi con la cantidad de habitaciones-REVISAR"
   ]
  },
  {
   "cell_type": "markdown",
   "metadata": {},
   "source": [
    "*nota: cambiar a data_limpia cuando arreglemos el problema de regex de esa columna para obtener datos no influenciados por los datos faltantes"
   ]
  },
  {
   "cell_type": "markdown",
   "metadata": {},
   "source": [
    "### 4-Calcular el precio total = Precio u$d/m2 * Superficie en base al punto anterior para las filas con datos faltantes"
   ]
  },
  {
   "cell_type": "markdown",
   "metadata": {},
   "source": [
    "#NOTA: EVALUAR ELIMINAR LOS VALORES Q NO SON PESOS ARGENTINOS PARA PODER HACER UNA CONVERSION DE TODOS LOS VALORES A USD - PENDIENTE"
   ]
  },
  {
   "cell_type": "markdown",
   "metadata": {},
   "source": [
    "#Se toma el valor medio del precio de propiedad por tipo de propiedad y se completan faltantes."
   ]
  },
  {
   "cell_type": "code",
   "execution_count": null,
   "metadata": {},
   "outputs": [],
   "source": [
    "data_key_not_null_mask_precio = np.logical_and(data.property_type.notnull(), data.price_aprox_usd.notnull())\n",
    "data_key_not_null_precio = data.loc[data_key_not_null_mask, :]\n",
    "\n",
    "data_key_not_null_grouped_tipo_precio= data_key_not_null_precio.groupby([\"property_type\", 'price_aprox_usd'])\n",
    "\n",
    "\n",
    "data_fillna_precio= data_key_not_null_grouped_tipo_precio['price_aprox_usd'].transform(lambda grp: grp.fillna(grp.mean()))\n",
    "data_fillna_precio\n",
    "\n",
    "data_limpia[\"precio_usd_limpio\"].fillna(data_fillna,inplace=True)"
   ]
  },
  {
   "cell_type": "code",
   "execution_count": null,
   "metadata": {},
   "outputs": [],
   "source": [
    "(1-data_limpia[\"precio_usd_limpio\"].isnull().sum()/data[\"price_aprox_usd\"].isnull().sum())*100"
   ]
  },
  {
   "cell_type": "markdown",
   "metadata": {},
   "source": [
    "Se recupera el 67% de la informacion faltante "
   ]
  },
  {
   "cell_type": "code",
   "execution_count": null,
   "metadata": {},
   "outputs": [],
   "source": [
    "data_limpia[\"precio_usd_limpio\"].isnull().sum()/data_limpia.shape[0]*100"
   ]
  },
  {
   "cell_type": "markdown",
   "metadata": {},
   "source": [
    "queda el 5.5% de la columna con faltantes."
   ]
  },
  {
   "cell_type": "markdown",
   "metadata": {},
   "source": [
    "Cálculo cambio entre ARS y USD "
   ]
  },
  {
   "cell_type": "code",
   "execution_count": null,
   "metadata": {},
   "outputs": [],
   "source": [
    "import numpy as np\n",
    "change = data['price_aprox_local_currency'] / data['price_aprox_usd']\n",
    "change.median()"
   ]
  },
  {
   "cell_type": "code",
   "execution_count": 51,
   "metadata": {},
   "outputs": [
    {
     "name": "stdout",
     "output_type": "stream",
     "text": [
      "0.8357779244349117\n",
      "0.6755650882692625\n"
     ]
    }
   ],
   "source": [
    "print(data.surface_covered_in_m2.notnull().sum()/data.shape[0])\n",
    "print(data.surface_total_in_m2.notnull().sum()/data.shape[0])"
   ]
  },
  {
   "cell_type": "markdown",
   "metadata": {},
   "source": [
    "## Procedemos a imputar los m2 faltantes de total como = covered para "
   ]
  },
  {
   "cell_type": "code",
   "execution_count": 52,
   "metadata": {},
   "outputs": [],
   "source": [
    "data['coef_ajuste_m2']=np.where(data['surface_covered_in_m2'].notnull(),data['surface_total_in_m2']/data['surface_covered_in_m2'],np.NaN)"
   ]
  },
  {
   "cell_type": "code",
   "execution_count": 53,
   "metadata": {},
   "outputs": [
    {
     "data": {
      "text/plain": [
       "15400     1.155556\n",
       "11377     1.047619\n",
       "7195      1.000000\n",
       "120336    1.093750\n",
       "119597    2.352941\n",
       "Name: coef_ajuste_m2, dtype: float64"
      ]
     },
     "execution_count": 53,
     "metadata": {},
     "output_type": "execute_result"
    }
   ],
   "source": [
    "data.coef_ajuste_m2.sample(5)"
   ]
  },
  {
   "cell_type": "code",
   "execution_count": 54,
   "metadata": {},
   "outputs": [],
   "source": [
    "#Ahora los agrupo por groupby\n",
    "fill_values_m2=data.groupby('property_type').coef_ajuste_m2.median()"
   ]
  },
  {
   "cell_type": "code",
   "execution_count": 55,
   "metadata": {},
   "outputs": [
    {
     "data": {
      "text/html": [
       "<div>\n",
       "<style scoped>\n",
       "    .dataframe tbody tr th:only-of-type {\n",
       "        vertical-align: middle;\n",
       "    }\n",
       "\n",
       "    .dataframe tbody tr th {\n",
       "        vertical-align: top;\n",
       "    }\n",
       "\n",
       "    .dataframe thead th {\n",
       "        text-align: right;\n",
       "    }\n",
       "</style>\n",
       "<table border=\"1\" class=\"dataframe\">\n",
       "  <thead>\n",
       "    <tr style=\"text-align: right;\">\n",
       "      <th></th>\n",
       "      <th>property_type</th>\n",
       "      <th>coef_ajuste_m2</th>\n",
       "    </tr>\n",
       "  </thead>\n",
       "  <tbody>\n",
       "    <tr>\n",
       "      <th>0</th>\n",
       "      <td>PH</td>\n",
       "      <td>1.184211</td>\n",
       "    </tr>\n",
       "    <tr>\n",
       "      <th>1</th>\n",
       "      <td>apartment</td>\n",
       "      <td>1.092593</td>\n",
       "    </tr>\n",
       "    <tr>\n",
       "      <th>2</th>\n",
       "      <td>house</td>\n",
       "      <td>1.250000</td>\n",
       "    </tr>\n",
       "    <tr>\n",
       "      <th>3</th>\n",
       "      <td>store</td>\n",
       "      <td>1.000000</td>\n",
       "    </tr>\n",
       "  </tbody>\n",
       "</table>\n",
       "</div>"
      ],
      "text/plain": [
       "  property_type  coef_ajuste_m2\n",
       "0            PH        1.184211\n",
       "1     apartment        1.092593\n",
       "2         house        1.250000\n",
       "3         store        1.000000"
      ]
     },
     "execution_count": 55,
     "metadata": {},
     "output_type": "execute_result"
    }
   ],
   "source": [
    "fill_values_m2_df=pd.DataFrame(fill_values_m2)\n",
    "fill_values_m2_df.reset_index(inplace=True)\n",
    "fill_values_m2_df.head(5)"
   ]
  },
  {
   "cell_type": "code",
   "execution_count": 56,
   "metadata": {},
   "outputs": [
    {
     "data": {
      "text/html": [
       "<div>\n",
       "<style scoped>\n",
       "    .dataframe tbody tr th:only-of-type {\n",
       "        vertical-align: middle;\n",
       "    }\n",
       "\n",
       "    .dataframe tbody tr th {\n",
       "        vertical-align: top;\n",
       "    }\n",
       "\n",
       "    .dataframe thead th {\n",
       "        text-align: right;\n",
       "    }\n",
       "</style>\n",
       "<table border=\"1\" class=\"dataframe\">\n",
       "  <thead>\n",
       "    <tr style=\"text-align: right;\">\n",
       "      <th></th>\n",
       "      <th>operation</th>\n",
       "      <th>property_type</th>\n",
       "      <th>place_name</th>\n",
       "      <th>place_with_parent_names</th>\n",
       "      <th>country_name</th>\n",
       "      <th>state_name</th>\n",
       "      <th>geonames_id</th>\n",
       "      <th>lat-lon</th>\n",
       "      <th>lat</th>\n",
       "      <th>lon</th>\n",
       "      <th>...</th>\n",
       "      <th>description</th>\n",
       "      <th>title</th>\n",
       "      <th>image_thumbnail</th>\n",
       "      <th>Sup_m2_Clean</th>\n",
       "      <th>Ambientes_Clean</th>\n",
       "      <th>size_rooms</th>\n",
       "      <th>size_rooms_median</th>\n",
       "      <th>ambientes_2</th>\n",
       "      <th>coef_ajuste_m2</th>\n",
       "      <th>coef_ajuste_m2_median</th>\n",
       "    </tr>\n",
       "  </thead>\n",
       "  <tbody>\n",
       "    <tr>\n",
       "      <th>84765</th>\n",
       "      <td>sell</td>\n",
       "      <td>apartment</td>\n",
       "      <td>Palermo Hollywood</td>\n",
       "      <td>|Argentina|Capital Federal|Palermo|Palermo Hol...</td>\n",
       "      <td>Argentina</td>\n",
       "      <td>Capital Federal</td>\n",
       "      <td>NaN</td>\n",
       "      <td>NaN</td>\n",
       "      <td>NaN</td>\n",
       "      <td>NaN</td>\n",
       "      <td>...</td>\n",
       "      <td>Torre de 18 pisos con unidades de 1, 2, 3 y 4 ...</td>\n",
       "      <td>Departamento - Palermo Hollywood</td>\n",
       "      <td>https://thumbs4.properati.com/3/aCRQrbgu-Zfo8j...</td>\n",
       "      <td>500</td>\n",
       "      <td>4.000</td>\n",
       "      <td>9.00</td>\n",
       "      <td>26.0</td>\n",
       "      <td>4.000</td>\n",
       "      <td>1.138889</td>\n",
       "      <td>1.092593</td>\n",
       "    </tr>\n",
       "    <tr>\n",
       "      <th>115193</th>\n",
       "      <td>sell</td>\n",
       "      <td>house</td>\n",
       "      <td>Córdoba</td>\n",
       "      <td>|Argentina|Córdoba|</td>\n",
       "      <td>Argentina</td>\n",
       "      <td>Córdoba</td>\n",
       "      <td>3860255.0</td>\n",
       "      <td>NaN</td>\n",
       "      <td>NaN</td>\n",
       "      <td>NaN</td>\n",
       "      <td>...</td>\n",
       "      <td>LA AURORA.-28 HAS.-Alambrado perimetral.-Sob...</td>\n",
       "      <td>CAMPO AGRICOLA :: MEDIA NARANJA 28 HAS</td>\n",
       "      <td>https://thumbs4.properati.com/9/zeYr2dtf4ooDCM...</td>\n",
       "      <td>NaN</td>\n",
       "      <td>1.000</td>\n",
       "      <td>40.00</td>\n",
       "      <td>40.0</td>\n",
       "      <td>NaN</td>\n",
       "      <td>NaN</td>\n",
       "      <td>1.250000</td>\n",
       "    </tr>\n",
       "    <tr>\n",
       "      <th>19224</th>\n",
       "      <td>sell</td>\n",
       "      <td>house</td>\n",
       "      <td>San Justo</td>\n",
       "      <td>|Argentina|Bs.As. G.B.A. Zona Oeste|La Matanza...</td>\n",
       "      <td>Argentina</td>\n",
       "      <td>Bs.As. G.B.A. Zona Oeste</td>\n",
       "      <td>3428775.0</td>\n",
       "      <td>-34.6904008,-58.565581</td>\n",
       "      <td>-34.690401</td>\n",
       "      <td>-58.565581</td>\n",
       "      <td>...</td>\n",
       "      <td>Casa en Venta de 4 ambientes en Villa Construc...</td>\n",
       "      <td>Figueroa Alcorta 3700 - San Justo - La Matanza</td>\n",
       "      <td>https://thumbs4.properati.com/6/uXXx2qwCWvJL7C...</td>\n",
       "      <td>300</td>\n",
       "      <td>4.000</td>\n",
       "      <td>19.25</td>\n",
       "      <td>40.0</td>\n",
       "      <td>4.000</td>\n",
       "      <td>1.000000</td>\n",
       "      <td>1.250000</td>\n",
       "    </tr>\n",
       "    <tr>\n",
       "      <th>81680</th>\n",
       "      <td>sell</td>\n",
       "      <td>house</td>\n",
       "      <td>Banfield</td>\n",
       "      <td>|Argentina|Bs.As. G.B.A. Zona Sur|Lomas de Zam...</td>\n",
       "      <td>Argentina</td>\n",
       "      <td>Bs.As. G.B.A. Zona Sur</td>\n",
       "      <td>3436152.0</td>\n",
       "      <td>-34.7399907,-58.4091729</td>\n",
       "      <td>-34.739991</td>\n",
       "      <td>-58.409173</td>\n",
       "      <td>...</td>\n",
       "      <td>Amplio triplex al frente con cochera un auto ,...</td>\n",
       "      <td>DUPLEX</td>\n",
       "      <td>https://thumbs4.properati.com/4/2mrcBP5VTRVmC2...</td>\n",
       "      <td>NaN</td>\n",
       "      <td>3.125</td>\n",
       "      <td>40.00</td>\n",
       "      <td>40.0</td>\n",
       "      <td>3.125</td>\n",
       "      <td>1.000000</td>\n",
       "      <td>1.250000</td>\n",
       "    </tr>\n",
       "    <tr>\n",
       "      <th>54022</th>\n",
       "      <td>sell</td>\n",
       "      <td>house</td>\n",
       "      <td>El Molino</td>\n",
       "      <td>|Argentina|Bs.As. G.B.A. Zona Norte|Pilar|El M...</td>\n",
       "      <td>Argentina</td>\n",
       "      <td>Bs.As. G.B.A. Zona Norte</td>\n",
       "      <td>NaN</td>\n",
       "      <td>NaN</td>\n",
       "      <td>NaN</td>\n",
       "      <td>NaN</td>\n",
       "      <td>...</td>\n",
       "      <td>El Molino - Pilar - En planta baja se encuentr...</td>\n",
       "      <td>Bustamante Propiedades | El Molino en Venta</td>\n",
       "      <td>https://thumbs4.properati.com/1/asRJVGRezTCXCw...</td>\n",
       "      <td>NaN</td>\n",
       "      <td>4.250</td>\n",
       "      <td>40.00</td>\n",
       "      <td>40.0</td>\n",
       "      <td>4.250</td>\n",
       "      <td>4.741176</td>\n",
       "      <td>1.250000</td>\n",
       "    </tr>\n",
       "  </tbody>\n",
       "</table>\n",
       "<p>5 rows × 32 columns</p>\n",
       "</div>"
      ],
      "text/plain": [
       "       operation property_type         place_name  \\\n",
       "84765       sell     apartment  Palermo Hollywood   \n",
       "115193      sell         house            Córdoba   \n",
       "19224       sell         house          San Justo   \n",
       "81680       sell         house           Banfield   \n",
       "54022       sell         house          El Molino   \n",
       "\n",
       "                                  place_with_parent_names country_name  \\\n",
       "84765   |Argentina|Capital Federal|Palermo|Palermo Hol...    Argentina   \n",
       "115193                                |Argentina|Córdoba|    Argentina   \n",
       "19224   |Argentina|Bs.As. G.B.A. Zona Oeste|La Matanza...    Argentina   \n",
       "81680   |Argentina|Bs.As. G.B.A. Zona Sur|Lomas de Zam...    Argentina   \n",
       "54022   |Argentina|Bs.As. G.B.A. Zona Norte|Pilar|El M...    Argentina   \n",
       "\n",
       "                      state_name  geonames_id                  lat-lon  \\\n",
       "84765            Capital Federal          NaN                      NaN   \n",
       "115193                   Córdoba    3860255.0                      NaN   \n",
       "19224   Bs.As. G.B.A. Zona Oeste    3428775.0   -34.6904008,-58.565581   \n",
       "81680     Bs.As. G.B.A. Zona Sur    3436152.0  -34.7399907,-58.4091729   \n",
       "54022   Bs.As. G.B.A. Zona Norte          NaN                      NaN   \n",
       "\n",
       "              lat        lon  ...  \\\n",
       "84765         NaN        NaN  ...   \n",
       "115193        NaN        NaN  ...   \n",
       "19224  -34.690401 -58.565581  ...   \n",
       "81680  -34.739991 -58.409173  ...   \n",
       "54022         NaN        NaN  ...   \n",
       "\n",
       "                                              description  \\\n",
       "84765   Torre de 18 pisos con unidades de 1, 2, 3 y 4 ...   \n",
       "115193    LA AURORA.-28 HAS.-Alambrado perimetral.-Sob...   \n",
       "19224   Casa en Venta de 4 ambientes en Villa Construc...   \n",
       "81680   Amplio triplex al frente con cochera un auto ,...   \n",
       "54022   El Molino - Pilar - En planta baja se encuentr...   \n",
       "\n",
       "                                                 title  \\\n",
       "84765                 Departamento - Palermo Hollywood   \n",
       "115193          CAMPO AGRICOLA :: MEDIA NARANJA 28 HAS   \n",
       "19224   Figueroa Alcorta 3700 - San Justo - La Matanza   \n",
       "81680                                           DUPLEX   \n",
       "54022      Bustamante Propiedades | El Molino en Venta   \n",
       "\n",
       "                                          image_thumbnail  Sup_m2_Clean  \\\n",
       "84765   https://thumbs4.properati.com/3/aCRQrbgu-Zfo8j...           500   \n",
       "115193  https://thumbs4.properati.com/9/zeYr2dtf4ooDCM...           NaN   \n",
       "19224   https://thumbs4.properati.com/6/uXXx2qwCWvJL7C...           300   \n",
       "81680   https://thumbs4.properati.com/4/2mrcBP5VTRVmC2...           NaN   \n",
       "54022   https://thumbs4.properati.com/1/asRJVGRezTCXCw...           NaN   \n",
       "\n",
       "        Ambientes_Clean  size_rooms  size_rooms_median  ambientes_2  \\\n",
       "84765             4.000        9.00               26.0        4.000   \n",
       "115193            1.000       40.00               40.0          NaN   \n",
       "19224             4.000       19.25               40.0        4.000   \n",
       "81680             3.125       40.00               40.0        3.125   \n",
       "54022             4.250       40.00               40.0        4.250   \n",
       "\n",
       "        coef_ajuste_m2  coef_ajuste_m2_median  \n",
       "84765         1.138889               1.092593  \n",
       "115193             NaN               1.250000  \n",
       "19224         1.000000               1.250000  \n",
       "81680         1.000000               1.250000  \n",
       "54022         4.741176               1.250000  \n",
       "\n",
       "[5 rows x 32 columns]"
      ]
     },
     "execution_count": 56,
     "metadata": {},
     "output_type": "execute_result"
    }
   ],
   "source": [
    "data = data.merge(fill_values_m2_df,on='property_type',suffixes=('','_median'),how='left')\n",
    "data.sample(5)"
   ]
  },
  {
   "cell_type": "code",
   "execution_count": 57,
   "metadata": {},
   "outputs": [],
   "source": [
    "#Relleno los nan del coef\n",
    "data.coef_ajuste_m2.fillna(data.coef_ajuste_m2_median,inplace=True)"
   ]
  },
  {
   "cell_type": "code",
   "execution_count": 60,
   "metadata": {},
   "outputs": [],
   "source": [
    "data['m2_total_ajust']=np.where(data['surface_total_in_m2'].isnull(),data['coef_ajuste_m2']*data['surface_covered_in_m2'],data['surface_total_in_m2'])"
   ]
  },
  {
   "cell_type": "code",
   "execution_count": 61,
   "metadata": {},
   "outputs": [
    {
     "data": {
      "text/plain": [
       "108851"
      ]
     },
     "execution_count": 61,
     "metadata": {},
     "output_type": "execute_result"
    }
   ],
   "source": [
    "data.m2_total_ajust.notnull().sum()"
   ]
  },
  {
   "cell_type": "code",
   "execution_count": 62,
   "metadata": {},
   "outputs": [
    {
     "name": "stdout",
     "output_type": "stream",
     "text": [
      "0.8357779244349117\n",
      "0.897962382445141\n"
     ]
    }
   ],
   "source": [
    "print(data.surface_covered_in_m2.notnull().sum()/data.shape[0])\n",
    "print(data.m2_total_ajust.notnull().sum()/data.shape[0])"
   ]
  }
 ],
 "metadata": {
  "kernelspec": {
   "display_name": "Python 3.8.13 ('dhdsblend2021')",
   "language": "python",
   "name": "python3"
  },
  "language_info": {
   "codemirror_mode": {
    "name": "ipython",
    "version": 3
   },
   "file_extension": ".py",
   "mimetype": "text/x-python",
   "name": "python",
   "nbconvert_exporter": "python",
   "pygments_lexer": "ipython3",
   "version": "3.8.13"
  },
  "orig_nbformat": 4,
  "vscode": {
   "interpreter": {
    "hash": "e3992eb757f67fa58e1b7420bd255465c6460a1b97046e2d656cf828845056f8"
   }
  }
 },
 "nbformat": 4,
 "nbformat_minor": 2
}
