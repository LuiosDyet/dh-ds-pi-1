{
 "cells": [
  {
   "cell_type": "code",
   "execution_count": 67,
   "metadata": {},
   "outputs": [],
   "source": [
    "import pandas as pd\n",
    "import numpy as np\n",
    "import geopandas as gpd\n",
    "import matplotlib.pyplot as plt\n",
    "import seaborn as sns"
   ]
  },
  {
   "cell_type": "code",
   "execution_count": 2,
   "metadata": {},
   "outputs": [
    {
     "data": {
      "text/plain": [
       "(121220, 25)"
      ]
     },
     "execution_count": 2,
     "metadata": {},
     "output_type": "execute_result"
    }
   ],
   "source": [
    "data = pd.read_csv(\".\\properatti.csv\", index_col=0)\n",
    "data.shape"
   ]
  },
  {
   "cell_type": "code",
   "execution_count": 3,
   "metadata": {},
   "outputs": [
    {
     "data": {
      "text/html": [
       "<div>\n",
       "<style scoped>\n",
       "    .dataframe tbody tr th:only-of-type {\n",
       "        vertical-align: middle;\n",
       "    }\n",
       "\n",
       "    .dataframe tbody tr th {\n",
       "        vertical-align: top;\n",
       "    }\n",
       "\n",
       "    .dataframe thead th {\n",
       "        text-align: right;\n",
       "    }\n",
       "</style>\n",
       "<table border=\"1\" class=\"dataframe\">\n",
       "  <thead>\n",
       "    <tr style=\"text-align: right;\">\n",
       "      <th></th>\n",
       "      <th>geonames_id</th>\n",
       "      <th>lat-lon</th>\n",
       "      <th>lat</th>\n",
       "      <th>lon</th>\n",
       "    </tr>\n",
       "  </thead>\n",
       "  <tbody>\n",
       "    <tr>\n",
       "      <th>0</th>\n",
       "      <td>3430787.0</td>\n",
       "      <td>-34.6618237,-58.5088387</td>\n",
       "      <td>-34.661824</td>\n",
       "      <td>-58.508839</td>\n",
       "    </tr>\n",
       "    <tr>\n",
       "      <th>1</th>\n",
       "      <td>3432039.0</td>\n",
       "      <td>-34.9038831,-57.9643295</td>\n",
       "      <td>-34.903883</td>\n",
       "      <td>-57.964330</td>\n",
       "    </tr>\n",
       "    <tr>\n",
       "      <th>2</th>\n",
       "      <td>3430787.0</td>\n",
       "      <td>-34.6522615,-58.5229825</td>\n",
       "      <td>-34.652262</td>\n",
       "      <td>-58.522982</td>\n",
       "    </tr>\n",
       "    <tr>\n",
       "      <th>3</th>\n",
       "      <td>3431333.0</td>\n",
       "      <td>-34.6477969,-58.5164244</td>\n",
       "      <td>-34.647797</td>\n",
       "      <td>-58.516424</td>\n",
       "    </tr>\n",
       "    <tr>\n",
       "      <th>4</th>\n",
       "      <td>3435548.0</td>\n",
       "      <td>-38.0026256,-57.5494468</td>\n",
       "      <td>-38.002626</td>\n",
       "      <td>-57.549447</td>\n",
       "    </tr>\n",
       "  </tbody>\n",
       "</table>\n",
       "</div>"
      ],
      "text/plain": [
       "   geonames_id                  lat-lon        lat        lon\n",
       "0    3430787.0  -34.6618237,-58.5088387 -34.661824 -58.508839\n",
       "1    3432039.0  -34.9038831,-57.9643295 -34.903883 -57.964330\n",
       "2    3430787.0  -34.6522615,-58.5229825 -34.652262 -58.522982\n",
       "3    3431333.0  -34.6477969,-58.5164244 -34.647797 -58.516424\n",
       "4    3435548.0  -38.0026256,-57.5494468 -38.002626 -57.549447"
      ]
     },
     "execution_count": 3,
     "metadata": {},
     "output_type": "execute_result"
    }
   ],
   "source": [
    "# Definimos dos grupos de columas para poder trabajar con ellas de forma mas sencilla\n",
    "places = ['place_name','place_with_parent_names', 'country_name','state_name']\n",
    "geolocation = ['geonames_id', 'lat-lon','lat','lon']\n",
    "\n",
    "# Creamos un nuevo dataframe con las columnas que me interesan\n",
    "geo_location_data = data[ geolocation].copy()\n",
    "geo_location_data.head()"
   ]
  },
  {
   "cell_type": "code",
   "execution_count": 4,
   "metadata": {},
   "outputs": [
    {
     "data": {
      "text/plain": [
       "geonames_id    18717\n",
       "lat-lon        51550\n",
       "lat            51550\n",
       "lon            51550\n",
       "dtype: int64"
      ]
     },
     "execution_count": 4,
     "metadata": {},
     "output_type": "execute_result"
    }
   ],
   "source": [
    "# Vemos que hay valores nulos en las columnas que nos interesan\n",
    "geo_location_data.isnull().sum()\n"
   ]
  },
  {
   "cell_type": "markdown",
   "metadata": {},
   "source": [
    "### Corroborar si lat-lon coincide con las columnas lat y lon"
   ]
  },
  {
   "cell_type": "code",
   "execution_count": 5,
   "metadata": {},
   "outputs": [
    {
     "data": {
      "text/plain": [
       "True"
      ]
     },
     "execution_count": 5,
     "metadata": {},
     "output_type": "execute_result"
    }
   ],
   "source": [
    "# Corroboremos que los valores nulos en lat-lon son los mismos que en lat y lon\n",
    "geo_location_data[geo_location_data['lat-lon'].isnull()]['lat'].isnull().sum() == geo_location_data[geo_location_data['lat-lon'].isnull()]['lon'].isnull().sum()\n"
   ]
  },
  {
   "cell_type": "code",
   "execution_count": 6,
   "metadata": {},
   "outputs": [
    {
     "data": {
      "text/plain": [
       "geonames_id    10532\n",
       "lat-lon            0\n",
       "lat                0\n",
       "lon                0\n",
       "dtype: int64"
      ]
     },
     "execution_count": 6,
     "metadata": {},
     "output_type": "execute_result"
    }
   ],
   "source": [
    "# Dropeamos los valores nulos de lat-lon\n",
    "geo_location_data.dropna(subset=['lat-lon'], inplace=True)\n",
    "geo_location_data.isnull().sum()"
   ]
  },
  {
   "cell_type": "code",
   "execution_count": 7,
   "metadata": {},
   "outputs": [
    {
     "data": {
      "text/html": [
       "<div>\n",
       "<style scoped>\n",
       "    .dataframe tbody tr th:only-of-type {\n",
       "        vertical-align: middle;\n",
       "    }\n",
       "\n",
       "    .dataframe tbody tr th {\n",
       "        vertical-align: top;\n",
       "    }\n",
       "\n",
       "    .dataframe thead th {\n",
       "        text-align: right;\n",
       "    }\n",
       "</style>\n",
       "<table border=\"1\" class=\"dataframe\">\n",
       "  <thead>\n",
       "    <tr style=\"text-align: right;\">\n",
       "      <th></th>\n",
       "      <th>geonames_id</th>\n",
       "      <th>lat-lon</th>\n",
       "      <th>lat</th>\n",
       "      <th>lon</th>\n",
       "      <th>lat_alt</th>\n",
       "      <th>lon_alt</th>\n",
       "    </tr>\n",
       "  </thead>\n",
       "  <tbody>\n",
       "    <tr>\n",
       "      <th>0</th>\n",
       "      <td>3430787.0</td>\n",
       "      <td>-34.6618237,-58.5088387</td>\n",
       "      <td>-34.661824</td>\n",
       "      <td>-58.508839</td>\n",
       "      <td>-34.6618237</td>\n",
       "      <td>-58.5088387</td>\n",
       "    </tr>\n",
       "    <tr>\n",
       "      <th>1</th>\n",
       "      <td>3432039.0</td>\n",
       "      <td>-34.9038831,-57.9643295</td>\n",
       "      <td>-34.903883</td>\n",
       "      <td>-57.964330</td>\n",
       "      <td>-34.9038831</td>\n",
       "      <td>-57.9643295</td>\n",
       "    </tr>\n",
       "    <tr>\n",
       "      <th>2</th>\n",
       "      <td>3430787.0</td>\n",
       "      <td>-34.6522615,-58.5229825</td>\n",
       "      <td>-34.652262</td>\n",
       "      <td>-58.522982</td>\n",
       "      <td>-34.6522615</td>\n",
       "      <td>-58.5229825</td>\n",
       "    </tr>\n",
       "    <tr>\n",
       "      <th>3</th>\n",
       "      <td>3431333.0</td>\n",
       "      <td>-34.6477969,-58.5164244</td>\n",
       "      <td>-34.647797</td>\n",
       "      <td>-58.516424</td>\n",
       "      <td>-34.6477969</td>\n",
       "      <td>-58.5164244</td>\n",
       "    </tr>\n",
       "    <tr>\n",
       "      <th>4</th>\n",
       "      <td>3435548.0</td>\n",
       "      <td>-38.0026256,-57.5494468</td>\n",
       "      <td>-38.002626</td>\n",
       "      <td>-57.549447</td>\n",
       "      <td>-38.0026256</td>\n",
       "      <td>-57.5494468</td>\n",
       "    </tr>\n",
       "  </tbody>\n",
       "</table>\n",
       "</div>"
      ],
      "text/plain": [
       "   geonames_id                  lat-lon        lat        lon      lat_alt  \\\n",
       "0    3430787.0  -34.6618237,-58.5088387 -34.661824 -58.508839  -34.6618237   \n",
       "1    3432039.0  -34.9038831,-57.9643295 -34.903883 -57.964330  -34.9038831   \n",
       "2    3430787.0  -34.6522615,-58.5229825 -34.652262 -58.522982  -34.6522615   \n",
       "3    3431333.0  -34.6477969,-58.5164244 -34.647797 -58.516424  -34.6477969   \n",
       "4    3435548.0  -38.0026256,-57.5494468 -38.002626 -57.549447  -38.0026256   \n",
       "\n",
       "       lon_alt  \n",
       "0  -58.5088387  \n",
       "1  -57.9643295  \n",
       "2  -58.5229825  \n",
       "3  -58.5164244  \n",
       "4  -57.5494468  "
      ]
     },
     "execution_count": 7,
     "metadata": {},
     "output_type": "execute_result"
    }
   ],
   "source": [
    "# Convertimos la columna lat-lon en dos columnas nuevas\n",
    "geo_location_data['lat_alt'] = geo_location_data['lat-lon'].apply(lambda x: x.split(',')[0])\n",
    "geo_location_data['lon_alt'] = geo_location_data['lat-lon'].apply(lambda x: x.split(',')[1])\n",
    "geo_location_data.head()\n"
   ]
  },
  {
   "cell_type": "code",
   "execution_count": 8,
   "metadata": {},
   "outputs": [
    {
     "data": {
      "text/plain": [
       "geonames_id    float64\n",
       "lat-lon         object\n",
       "lat            float64\n",
       "lon            float64\n",
       "lat_alt         object\n",
       "lon_alt         object\n",
       "dtype: object"
      ]
     },
     "execution_count": 8,
     "metadata": {},
     "output_type": "execute_result"
    }
   ],
   "source": [
    "# Vemos los tipos de datos\n",
    "geo_location_data.dtypes"
   ]
  },
  {
   "cell_type": "code",
   "execution_count": 9,
   "metadata": {},
   "outputs": [
    {
     "data": {
      "text/plain": [
       "geonames_id    float64\n",
       "lat-lon         object\n",
       "lat            float64\n",
       "lon            float64\n",
       "lat_alt        float64\n",
       "lon_alt        float64\n",
       "dtype: object"
      ]
     },
     "execution_count": 9,
     "metadata": {},
     "output_type": "execute_result"
    }
   ],
   "source": [
    "# convertimos las nuevas columnas a float\n",
    "geo_location_data['lat_alt'] = geo_location_data['lat_alt'].astype(float)\n",
    "geo_location_data['lon_alt'] = geo_location_data['lon_alt'].astype(float)\n",
    "geo_location_data.dtypes"
   ]
  },
  {
   "cell_type": "code",
   "execution_count": 18,
   "metadata": {},
   "outputs": [
    {
     "name": "stdout",
     "output_type": "stream",
     "text": [
      "Diferencia entre lat: 11507\n",
      "Diferencia entre lon: 14658\n",
      "Diferencia en proporción de lat 0.16516434620353093\n",
      "Diferencia en proporción de lon 0.21039184728003446\n"
     ]
    }
   ],
   "source": [
    "# Comprobamos que los valores de las nuevas columnas son iguales a los de las columnas originales\n",
    "print(\"Diferencia entre lat:\",(geo_location_data['lat_alt'] != geo_location_data['lat']).sum())\n",
    "print(\"Diferencia entre lon:\",(geo_location_data['lon_alt'] != geo_location_data['lon']).sum())\n",
    "# En proporción\n",
    "print(\"Diferencia en proporción de lat\",(geo_location_data['lat_alt'] != geo_location_data['lat']).sum()/ geo_location_data.shape[0])\n",
    "print(\"Diferencia en proporción de lon\",(geo_location_data['lon_alt'] != geo_location_data['lon']).sum()/ geo_location_data.shape[0])\n"
   ]
  },
  {
   "cell_type": "markdown",
   "metadata": {},
   "source": [
    "Hay diferencias en 21% los casos. Veamos si es una diferencia significativa\n",
    "\n",
    "Revisamos el margen de diferencia redondeando progresivamente."
   ]
  },
  {
   "cell_type": "code",
   "execution_count": 56,
   "metadata": {},
   "outputs": [],
   "source": [
    "from decimal import Decimal"
   ]
  },
  {
   "cell_type": "code",
   "execution_count": 58,
   "metadata": {},
   "outputs": [
    {
     "data": {
      "text/plain": [
       "-46"
      ]
     },
     "execution_count": 58,
     "metadata": {},
     "output_type": "execute_result"
    }
   ],
   "source": [
    "Decimal(geo_location_data['lon'][0]).as_tuple().exponent"
   ]
  },
  {
   "cell_type": "code",
   "execution_count": 60,
   "metadata": {},
   "outputs": [
    {
     "data": {
      "text/plain": [
       "-47    33560\n",
       "-46    16130\n",
       "-45     7979\n",
       "-44     4494\n",
       "-48     3399\n",
       "-43     2077\n",
       "-42     1028\n",
       "-41      564\n",
       "-40      164\n",
       "-39      155\n",
       "-38       55\n",
       "-37       32\n",
       "-36       18\n",
       "-35        5\n",
       "-7         4\n",
       "-8         2\n",
       " 0         2\n",
       "-34        1\n",
       "-4         1\n",
       "Name: lat, dtype: int64"
      ]
     },
     "execution_count": 60,
     "metadata": {},
     "output_type": "execute_result"
    }
   ],
   "source": [
    "# Reviso la cantidad de decimales que tienen los valores de lat y lon\n",
    "geo_location_data['lat'].apply(lambda x: Decimal(x).as_tuple().exponent).value_counts()"
   ]
  },
  {
   "cell_type": "code",
   "execution_count": 61,
   "metadata": {},
   "outputs": [
    {
     "data": {
      "text/plain": [
       "-47    31972\n",
       "-46    18963\n",
       "-45     9048\n",
       "-44     5085\n",
       "-43     2337\n",
       "-42     1188\n",
       "-41      561\n",
       "-40      213\n",
       "-39      190\n",
       "-38       52\n",
       "-37       28\n",
       "-36       20\n",
       "-34        4\n",
       "-35        3\n",
       " 0         2\n",
       "-8         1\n",
       "-2         1\n",
       "-32        1\n",
       "-4         1\n",
       "Name: lon, dtype: int64"
      ]
     },
     "execution_count": 61,
     "metadata": {},
     "output_type": "execute_result"
    }
   ],
   "source": [
    "geo_location_data['lon'].apply(lambda x: Decimal(x).as_tuple().exponent).value_counts()"
   ]
  },
  {
   "cell_type": "code",
   "execution_count": 73,
   "metadata": {},
   "outputs": [
    {
     "name": "stdout",
     "output_type": "stream",
     "text": [
      "Margen de diferencia de 14 decimales en latitud: 0.009157456581024832\n",
      "Margen de diferencia de 13 decimales en latitud: 0.0\n",
      "Margen de diferencia de 12 decimales en latitud: 0.0\n",
      "Margen de diferencia de 11 decimales en latitud: 0.0\n",
      "Margen de diferencia de 10 decimales en latitud: 0.0\n",
      "Margen de diferencia de 9 decimales en latitud: 0.0006171953495048084\n",
      "Margen de diferencia de 8 decimales en latitud: 0.0\n",
      "Margen de diferencia de 7 decimales en latitud: 0.0\n",
      "Margen de diferencia de 6 decimales en latitud: 0.0027271422419979903\n",
      "Margen de diferencia de 5 decimales en latitud: 0.0025405482991244436\n",
      "Margen de diferencia de 4 decimales en latitud: 0.0\n",
      "Margen de diferencia de 3 decimales en latitud: 0.0\n",
      "Margen de diferencia de 2 decimales en latitud: 0.0\n",
      "Margen de diferencia de 1 decimales en latitud: 0.0\n",
      "////////////////////////////////////\n",
      "Margen de diferencia de 13 decimales en latitud: 0.0\n",
      "Margen de diferencia de 12 decimales en latitud: 0.0\n",
      "Margen de diferencia de 11 decimales en latitud: 0.0\n",
      "Margen de diferencia de 10 decimales en latitud: 0.0\n",
      "Margen de diferencia de 9 decimales en latitud: 0.0017367590067460888\n",
      "Margen de diferencia de 8 decimales en latitud: 0.0\n",
      "Margen de diferencia de 7 decimales en latitud: 0.0\n",
      "Margen de diferencia de 6 decimales en latitud: 0.005626525046648486\n",
      "Margen de diferencia de 5 decimales en latitud: 0.0025261949189034016\n",
      "Margen de diferencia de 4 decimales en latitud: 0.0\n",
      "Margen de diferencia de 3 decimales en latitud: 0.0\n",
      "Margen de diferencia de 2 decimales en latitud: 0.0\n",
      "Margen de diferencia de 1 decimales en latitud: 0.0\n"
     ]
    }
   ],
   "source": [
    "# Vamos redondeando progresivamente los valores de lat y lon\n",
    "lat_decimal_diff = []\n",
    "for i in range(47,0,-1):\n",
    "    margin = (geo_location_data['lat_alt'].round(i) != geo_location_data['lat'].round(i)).sum()/ geo_location_data.shape[0]\n",
    "    lat_decimal_diff.insert(0,margin)\n",
    "    # print('Margen de diferencia de',i,'decimales en latitud:', margin)\n",
    "# Buscamos dónde el margen de diferencia es menor al 1%\n",
    "    if margin <= 0.01:\n",
    "        print('Margen de diferencia de',i,'decimales en latitud:', margin)\n",
    "   \n",
    "print(\"////////////////////////////////////\")   \n",
    "\n",
    "lon_decimal_diff = []\n",
    "for i in range(47,0,-1):\n",
    "    margin = (geo_location_data['lon_alt'].round(i) != geo_location_data['lon'].round(i)).sum()/ geo_location_data.shape[0]\n",
    "    lon_decimal_diff.insert(0,margin)\n",
    "    # print('Margen de diferencia de',i,'decimales en longitud:', margin)\n",
    "# Buscamos dónde el margen de diferencia es menor al 1%\n",
    "    if margin <= 0.01:\n",
    "        print('Margen de diferencia de',i,'decimales en latitud:', margin)\n",
    "\n",
    "\n"
   ]
  },
  {
   "cell_type": "code",
   "execution_count": 74,
   "metadata": {},
   "outputs": [
    {
     "data": {
      "text/plain": [
       "<matplotlib.legend.Legend at 0x1b41428f9d0>"
      ]
     },
     "execution_count": 74,
     "metadata": {},
     "output_type": "execute_result"
    },
    {
     "data": {
      "image/png": "[encoded data removed]",
      "text/plain": [
       "<Figure size 1000x500 with 1 Axes>"
      ]
     },
     "metadata": {},
     "output_type": "display_data"
    }
   ],
   "source": [
    "# Lo graficamos\n",
    "plt.figure(figsize=(10,5))\n",
    "plt.plot(lat_decimal_diff, label='latitud')\n",
    "plt.plot(lon_decimal_diff, label='longitud')\n",
    "plt.ylabel('Margen de diferencia')\n",
    "plt.xlabel('Cantidad de decimales')\n",
    "plt.legend()\n"
   ]
  },
  {
   "cell_type": "markdown",
   "metadata": {},
   "source": [
    "\n",
    "> Como se puede ver, las diferencias entre lat-lon y lat y lon comienzan a partir de los 13 decimales por lo que podemos descartarla como > una diferencia significativa.\n",
    ">\n",
    "> Entonces podemos concluir que la variable lat-lon es redundante y podemos eliminarla.\n",
    "> ____ "
   ]
  },
  {
   "cell_type": "code",
   "execution_count": null,
   "metadata": {},
   "outputs": [],
   "source": []
  }
 ],
 "metadata": {
  "kernelspec": {
   "display_name": "Python 3.10.4 ('dh')",
   "language": "python",
   "name": "python3"
  },
  "language_info": {
   "codemirror_mode": {
    "name": "ipython",
    "version": 3
   },
   "file_extension": ".py",
   "mimetype": "text/x-python",
   "name": "python",
   "nbconvert_exporter": "python",
   "pygments_lexer": "ipython3",
   "version": "3.10.4"
  },
  "orig_nbformat": 4,
  "vscode": {
   "interpreter": {
    "hash": "de0c11672bdc465268fe040a07375f6ad60f942d46756d33f7fe9e449a78b4ed"
   }
  }
 },
 "nbformat": 4,
 "nbformat_minor": 2
}
