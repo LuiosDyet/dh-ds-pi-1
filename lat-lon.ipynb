{
 "cells": [
  {
   "cell_type": "code",
   "execution_count": null,
   "metadata": {},
   "outputs": [],
   "source": [
    "import pandas as pd\n",
    "import numpy as np\n",
    "import geopandas as gpd\n",
    "import matplotlib.pyplot as plt\n",
    "import seaborn as sns"
   ]
  },
  {
   "cell_type": "code",
   "execution_count": null,
   "metadata": {},
   "outputs": [],
   "source": [
    "data = pd.read_csv(\".\\properatti.csv\", index_col=0)\n",
    "data.shape"
   ]
  },
  {
   "cell_type": "code",
   "execution_count": null,
   "metadata": {},
   "outputs": [],
   "source": [
    "# Definimos dos grupos de columas para poder trabajar con ellas de forma mas sencilla\n",
    "places = ['place_name','place_with_parent_names', 'country_name','state_name']\n",
    "geolocation = ['geonames_id', 'lat-lon','lat','lon']\n",
    "\n",
    "# Creamos un nuevo dataframe con las columnas que me interesan\n",
    "geo_location_data = data[ geolocation].copy()\n",
    "geo_location_data.head()"
   ]
  },
  {
   "cell_type": "code",
   "execution_count": null,
   "metadata": {},
   "outputs": [],
   "source": [
    "# Vemos que hay valores nulos en las columnas que nos interesan\n",
    "geo_location_data.isnull().sum()\n"
   ]
  },
  {
   "cell_type": "markdown",
   "metadata": {},
   "source": [
    "### Corroborar si lat-lon coincide con las columnas lat y lon"
   ]
  },
  {
   "cell_type": "code",
   "execution_count": null,
   "metadata": {},
   "outputs": [],
   "source": [
    "# Corroboremos que los valores nulos en lat-lon son los mismos que en lat y lon\n",
    "geo_location_data[geo_location_data['lat-lon'].isnull()]['lat'].isnull().sum() == geo_location_data[geo_location_data['lat-lon'].isnull()]['lon'].isnull().sum()\n"
   ]
  },
  {
   "cell_type": "code",
   "execution_count": null,
   "metadata": {},
   "outputs": [],
   "source": [
    "# Dropeamos los valores nulos de lat-lon\n",
    "geo_location_data.dropna(subset=['lat-lon'], inplace=True)\n",
    "geo_location_data.isnull().sum()"
   ]
  },
  {
   "cell_type": "code",
   "execution_count": null,
   "metadata": {},
   "outputs": [],
   "source": [
    "# Convertimos la columna lat-lon en dos columnas nuevas\n",
    "geo_location_data['lat_alt'] = geo_location_data['lat-lon'].apply(lambda x: x.split(',')[0])\n",
    "geo_location_data['lon_alt'] = geo_location_data['lat-lon'].apply(lambda x: x.split(',')[1])\n",
    "geo_location_data.head()\n"
   ]
  },
  {
   "cell_type": "code",
   "execution_count": null,
   "metadata": {},
   "outputs": [],
   "source": [
    "# Vemos los tipos de datos\n",
    "geo_location_data.dtypes"
   ]
  },
  {
   "cell_type": "code",
   "execution_count": null,
   "metadata": {},
   "outputs": [],
   "source": [
    "# convertimos las nuevas columnas a float\n",
    "geo_location_data['lat_alt'] = geo_location_data['lat_alt'].astype(float)\n",
    "geo_location_data['lon_alt'] = geo_location_data['lon_alt'].astype(float)\n",
    "geo_location_data.dtypes"
   ]
  },
  {
   "cell_type": "code",
   "execution_count": null,
   "metadata": {},
   "outputs": [],
   "source": [
    "# Comprobamos que los valores de las nuevas columnas son iguales a los de las columnas originales\n",
    "print(\"Diferencia entre lat:\",(geo_location_data['lat_alt'] != geo_location_data['lat']).sum())\n",
    "print(\"Diferencia entre lon:\",(geo_location_data['lon_alt'] != geo_location_data['lon']).sum())\n",
    "# En proporción\n",
    "print(\"Diferencia en proporción de lat\",(geo_location_data['lat_alt'] != geo_location_data['lat']).sum()/ geo_location_data.shape[0])\n",
    "print(\"Diferencia en proporción de lon\",(geo_location_data['lon_alt'] != geo_location_data['lon']).sum()/ geo_location_data.shape[0])\n"
   ]
  },
  {
   "cell_type": "markdown",
   "metadata": {},
   "source": [
    "Hay diferencias en 21% los casos. Veamos si es una diferencia significativa\n",
    "\n",
    "Revisamos el margen de diferencia redondeando progresivamente."
   ]
  },
  {
   "cell_type": "code",
   "execution_count": null,
   "metadata": {},
   "outputs": [],
   "source": [
    "from decimal import Decimal"
   ]
  },
  {
   "cell_type": "code",
   "execution_count": null,
   "metadata": {},
   "outputs": [],
   "source": [
    "Decimal(geo_location_data['lon'][0]).as_tuple().exponent"
   ]
  },
  {
   "cell_type": "code",
   "execution_count": null,
   "metadata": {},
   "outputs": [],
   "source": [
    "# Reviso la cantidad de decimales que tienen los valores de lat y lon\n",
    "geo_location_data['lat'].apply(lambda x: Decimal(x).as_tuple().exponent).value_counts()"
   ]
  },
  {
   "cell_type": "code",
   "execution_count": null,
   "metadata": {},
   "outputs": [],
   "source": [
    "geo_location_data['lon'].apply(lambda x: Decimal(x).as_tuple().exponent).value_counts()"
   ]
  },
  {
   "cell_type": "code",
   "execution_count": null,
   "metadata": {},
   "outputs": [],
   "source": [
    "# Vamos redondeando progresivamente los valores de lat y lon\n",
    "lat_decimal_diff = []\n",
    "for i in range(47,0,-1):\n",
    "    margin = (geo_location_data['lat_alt'].round(i) != geo_location_data['lat'].round(i)).sum()/ geo_location_data.shape[0]\n",
    "    lat_decimal_diff.insert(0,margin)\n",
    "    # print('Margen de diferencia de',i,'decimales en latitud:', margin)\n",
    "# Buscamos dónde el margen de diferencia es menor al 1%\n",
    "    if margin <= 0.01:\n",
    "        print('Margen de diferencia de',i,'decimales en latitud:', margin)\n",
    "   \n",
    "print(\"////////////////////////////////////\")   \n",
    "\n",
    "lon_decimal_diff = []\n",
    "for i in range(47,0,-1):\n",
    "    margin = (geo_location_data['lon_alt'].round(i) != geo_location_data['lon'].round(i)).sum()/ geo_location_data.shape[0]\n",
    "    lon_decimal_diff.insert(0,margin)\n",
    "    # print('Margen de diferencia de',i,'decimales en longitud:', margin)\n",
    "# Buscamos dónde el margen de diferencia es menor al 1%\n",
    "    if margin <= 0.01:\n",
    "        print('Margen de diferencia de',i,'decimales en latitud:', margin)\n",
    "\n",
    "\n"
   ]
  },
  {
   "cell_type": "code",
   "execution_count": null,
   "metadata": {},
   "outputs": [],
   "source": [
    "# Lo graficamos\n",
    "plt.figure(figsize=(10,5))\n",
    "plt.plot(lat_decimal_diff, label='latitud')\n",
    "plt.plot(lon_decimal_diff, label='longitud')\n",
    "plt.ylabel('Margen de diferencia')\n",
    "plt.xlabel('Cantidad de decimales')\n",
    "plt.legend()\n"
   ]
  },
  {
   "cell_type": "code",
   "execution_count": null,
   "metadata": {},
   "outputs": [],
   "source": [
    "geo_location_data_gdf = gpd.GeoDataFrame(geo_location_data, geometry=gpd.points_from_xy(geo_location_data.lon, geo_location_data.lat))\n",
    "geo_location_data_gdf.head()"
   ]
  },
  {
   "cell_type": "markdown",
   "metadata": {},
   "source": [
    "\n",
    "> Como se puede ver, las diferencias entre lat-lon y lat y lon comienzan a partir de los 13 decimales por lo que podemos descartarla como una diferencia significativa.\n",
    "> \n",
    "> Por otro lado, también hemos comprobado que los valores de lat lon provienen de convertir la variable a geometry y obtener de ahí lat y lon\n",
    ">\n",
    "> Entonces podemos concluir que la variable lat-lon es redundante y podemos eliminarla.\n",
    "> ____ "
   ]
  },
  {
   "cell_type": "markdown",
   "metadata": {},
   "source": [
    "### Ver si hay outliers en lat y lon y su ubicación"
   ]
  },
  {
   "cell_type": "code",
   "execution_count": null,
   "metadata": {},
   "outputs": [],
   "source": [
    "# convertimos el dataframe a geodataframe\n",
    "geo_location_data_gdf = gpd.GeoDataFrame(geo_location_data, geometry=gpd.points_from_xy(geo_location_data.lon, geo_location_data.lat))\n",
    "\n",
    "# Ubicamos los puntos en el mapa\n",
    "world = gpd.read_file(gpd.datasets.get_path('naturalearth_lowres'))\n",
    "latin_america = world[world['continent'] == 'South America']\n",
    "fig, ax = plt.subplots(figsize=(5,10))\n",
    "latin_america.plot(ax=ax, alpha=0.4, color='grey', edgecolor='black')\n",
    "geo_location_data_gdf.plot(ax=ax, markersize=0.5, color='red')"
   ]
  },
  {
   "cell_type": "code",
   "execution_count": null,
   "metadata": {},
   "outputs": [],
   "source": [
    "# Existe una propiedad que se encuentra fuera de la Argentina (en Colombia). \n",
    "# La buscamos en el dataframe original\n",
    "# buscamos el polígono de Colombia\n",
    "geo_colombia = world[world['name'] == 'Colombia']\n",
    "\n",
    "# Buscamos la propiedad que se encuentra en Colombia\n",
    "geo_outlier_index = geo_location_data_gdf[geo_location_data_gdf.within(geo_colombia['geometry'].iloc[0])].index\n",
    "\n",
    "# La buscamos en el dataframe original\n",
    "data.iloc[geo_outlier_index]\n"
   ]
  },
  {
   "cell_type": "markdown",
   "metadata": {},
   "source": [
    "Es una propiedad súper interesante, por latitud y longitud está en Colombia, pero por el nombre de la provincia está en Argentina, la descripción habla de Armenia y el título del el Barrio el Limonar.\n",
    "\n",
    "En una rápida búsqueda por internet encontramos que la propiedad se encuentra en el barrio El Limonar de Armenia, Colombia.\n",
    "\n",
    "La descartamos sin dudas.\n",
    "\n"
   ]
  },
  {
   "cell_type": "markdown",
   "metadata": {},
   "source": [
    "### Revisemos cómo está armada la información de lat y lon"
   ]
  },
  {
   "cell_type": "markdown",
   "metadata": {},
   "source": [
    "Vamos a buscar si hay muchos puntos iguales para refutar la hipótesis de que los se utilizó la misma ubicación para varias propiedades"
   ]
  },
  {
   "cell_type": "code",
   "execution_count": null,
   "metadata": {},
   "outputs": [],
   "source": [
    "# Primero veamos una visualización de los datos de Capital Federal para ver si parece haber una gran concentración \n",
    "# de propiedades en algún lugar específico o están dispersas por toda la ciudad.\n",
    "geo_location_data_gdf_capital = geo_location_data_gdf[data['state_name']=='Capital Federal']\n",
    "geo_location_data_gdf_capital['geometry']"
   ]
  },
  {
   "cell_type": "code",
   "execution_count": null,
   "metadata": {},
   "outputs": [],
   "source": [
    "# Ubicamos los puntos en el mapa\n",
    "df_barrios_capital = pd.read_csv('./barrios.csv', sep=',', encoding='latin-1')\n",
    "import shapely.wkt\n",
    "\n",
    "df_barrios_capital[\"WKT\"] = df_barrios_capital[\"WKT\"].apply(shapely.wkt.loads) \n",
    "df_barrios_capital = gpd.GeoDataFrame(df_barrios_capital, geometry='WKT')\n"
   ]
  },
  {
   "cell_type": "code",
   "execution_count": null,
   "metadata": {},
   "outputs": [],
   "source": [
    "geo_location_data_gdf_capital['geometry']\n",
    "fig, ax = plt.subplots(figsize=(10,20))\n",
    "\n",
    "geo_location_data_gdf_capital.plot(ax=ax, markersize=0.5, color='red', alpha=0.1) \n",
    "df_barrios_capital.plot(ax=ax, alpha=0.4, color='grey', edgecolor='black')\n",
    "plt.xlim(-58.55,-58.350)\n",
    "plt.ylim(-34.705,-34.525) \n",
    "plt.show()"
   ]
  },
  {
   "cell_type": "code",
   "execution_count": null,
   "metadata": {},
   "outputs": [],
   "source": [
    "# Ahora veamos en todo el dataset cuántas propiedades comparten la misma ubicación.\n",
    "different_locations = geo_location_data_gdf['geometry'].value_counts()\n",
    "print('Cantidad de propiedades por punto:', different_locations) \n",
    "different_locations.index[0]"
   ]
  },
  {
   "cell_type": "code",
   "execution_count": null,
   "metadata": {},
   "outputs": [],
   "source": [
    "prop_qty_per_point = []\n",
    "for i in range(1,different_locations[0]+1):\n",
    "    (different_locations == i).sum() / different_locations.shape[0] * 100\n",
    "    prop_qty_per_point.append((different_locations == i).sum() / different_locations.shape[0] * 100)\n",
    "prop_qty_per_point = pd.DataFrame(prop_qty_per_point, columns=['Porcentaje'], index=range(1,different_locations[0]+1))\n",
    "prop_qty_per_point.reset_index(inplace=True)\n",
    "prop_qty_per_point.rename(columns={'index':'Cantidad de propiedades por punto'}, inplace=True)\n",
    "prop_qty_per_point.head(10)"
   ]
  },
  {
   "cell_type": "code",
   "execution_count": null,
   "metadata": {},
   "outputs": [],
   "source": [
    "# Lo graficamos\n",
    "plt.figure(figsize=(10,5))\n",
    "plt.hist(different_locations, bins=different_locations[0]+1)\n",
    "plt.ylabel('Cantidad de puntos')\n",
    "plt.xlabel('Cantidad de propiedades por punto')\n",
    "plt.show()\n",
    "\n"
   ]
  },
  {
   "cell_type": "markdown",
   "metadata": {},
   "source": [
    "Veamos dónde se encuentran las propiedades que más tienen lat y lon iguales"
   ]
  },
  {
   "cell_type": "code",
   "execution_count": null,
   "metadata": {},
   "outputs": [],
   "source": [
    "different_locations.index[0]"
   ]
  },
  {
   "cell_type": "code",
   "execution_count": null,
   "metadata": {},
   "outputs": [],
   "source": [
    "most_shared_point_props = geo_location_data_gdf[geo_location_data_gdf['geometry'].isin(different_locations.index[0:11])]\n",
    " "
   ]
  },
  {
   "cell_type": "code",
   "execution_count": null,
   "metadata": {},
   "outputs": [],
   "source": [
    "fig, ax = plt.subplots(figsize=(5,10))\n",
    "latin_america.plot(ax=ax, alpha=0.4, color='grey', edgecolor='black')\n",
    "most_shared_point_props.plot(ax=ax, markersize=0.5, color='red')"
   ]
  },
  {
   "cell_type": "code",
   "execution_count": null,
   "metadata": {},
   "outputs": [],
   "source": [
    "# Parece que están todas en la Argentinta\n",
    "# Descargamos un mapa de la Argentina por municipios para averiguar qué municipios son los que tienen más propiedades en el mismo punto.\n",
    "# https://www.ign.gob.ar/NuestrasActividades/InformacionGeoespacial/CapasSIG\n",
    "municipios_geo = gpd.read_file('./data/municipio/municipio.shp')\n",
    "municipios_geo.head()"
   ]
  },
  {
   "cell_type": "code",
   "execution_count": null,
   "metadata": {},
   "outputs": [],
   "source": [
    "fig, ax = plt.subplots(figsize=(5,10))\n",
    "municipios_geo.plot(ax=ax, alpha=0.4, color='grey', edgecolor='black')\n",
    "plt.show()"
   ]
  },
  {
   "cell_type": "code",
   "execution_count": null,
   "metadata": {},
   "outputs": [],
   "source": [
    "# Veamos en qué municipios están las propiedades que comparten el mismo punto.\n",
    "# convertimos a coordenadas geográficas para poder hacer el join con el geodataframe de las propiedades.\n",
    "most_shared_point_props.crs = \"EPSG:4326\"\n",
    "most_shared_point_props['geometry'] = most_shared_point_props['geometry'].to_crs(epsg=4326) "
   ]
  },
  {
   "cell_type": "code",
   "execution_count": null,
   "metadata": {},
   "outputs": [],
   "source": [
    "# Hacemos el join con el geodataframe de los municipios.\n",
    "most_shared_point_props_municipios = gpd.sjoin(most_shared_point_props, municipios_geo, how=\"inner\", op='intersects')\n",
    "most_shared_point_props_municipios.head()"
   ]
  },
  {
   "cell_type": "code",
   "execution_count": null,
   "metadata": {},
   "outputs": [],
   "source": [
    "most_shared_point_props_municipios['fna'].value_counts()"
   ]
  },
  {
   "cell_type": "markdown",
   "metadata": {},
   "source": [
    "> Podemos concluir que la gran mayoría de los puntos de lat y lon son únicos, por lo que descartamos que sean aproximaciones.\n",
    ">  \n",
    "> Una excepción notable son Tigre y Capital Federal\n",
    "> \n",
    "> ____"
   ]
  }
 ],
 "metadata": {
  "kernelspec": {
   "display_name": "Python 3.10.4 ('dh')",
   "language": "python",
   "name": "python3"
  },
  "language_info": {
   "codemirror_mode": {
    "name": "ipython",
    "version": 3
   },
   "file_extension": ".py",
   "mimetype": "text/x-python",
   "name": "python",
   "nbconvert_exporter": "python",
   "pygments_lexer": "ipython3",
   "version": "3.10.4"
  },
  "orig_nbformat": 4,
  "vscode": {
   "interpreter": {
    "hash": "de0c11672bdc465268fe040a07375f6ad60f942d46756d33f7fe9e449a78b4ed"
   }
  }
 },
 "nbformat": 4,
 "nbformat_minor": 2
}
