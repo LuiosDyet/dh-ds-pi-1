{
 "cells": [
  {
   "cell_type": "code",
   "execution_count": null,
   "metadata": {},
   "outputs": [],
   "source": [
    "#Las librerías utilizadas en este documento son:\n",
    "%matplotlib inline\n",
    "from matplotlib import pyplot as plt\n",
    "import seaborn as sns\n",
    "import numpy as np\n",
    "import pandas as pd\n",
    "from sklearn import linear_model\n",
    "from sklearn.metrics import mean_squared_error, r2_score\n",
    "from sklearn.model_selection import train_test_split\n",
    "from sklearn.preprocessing import StandardScaler\n",
    "import statsmodels.api as sm\n",
    "from sklearn import metrics\n",
    "from matplotlib.ticker import ScalarFormatter\n",
    "from matplotlib import gridspec\n",
    "sns.set()"
   ]
  },
  {
   "cell_type": "markdown",
   "metadata": {},
   "source": [
    "## Regresión lineal simple"
   ]
  },
  {
   "cell_type": "markdown",
   "metadata": {},
   "source": [
    "#### Iniciamos con un barrio de Capital Federal con una cantidad de registros mayor a 500 para ver como resulta la regresion utilizando todos los tipos de propiedades de caballito"
   ]
  },
  {
   "cell_type": "code",
   "execution_count": null,
   "metadata": {},
   "outputs": [],
   "source": [
    "#leemos el df creado para el barrio de caballito\n",
    "df = pd.read_csv('./data/data_limpio_gdf_caballito.csv')"
   ]
  },
  {
   "cell_type": "markdown",
   "metadata": {},
   "source": [
    "Comparamos un modelo de regresión simple sin división de los registros y un modelo con train_split_train"
   ]
  },
  {
   "cell_type": "markdown",
   "metadata": {},
   "source": [
    "Repetimos los resultados pero ahora con datos filtrados y mayores métricas"
   ]
  },
  {
   "cell_type": "code",
   "execution_count": null,
   "metadata": {},
   "outputs": [],
   "source": [
    "#generamos la regresión simple para el barrio caballito usando como variable predictora la superficie total\n",
    "#sin realizar un train_test_split para ver como dan los resultados\n",
    "X = df[['sup_m2_total']]\n",
    "y = df['precio_usd']\n",
    "\n",
    "# Importamos, Instanciamos, Fiteamos, etc..\n",
    "\n",
    "# Instanciamos el modelo.\n",
    "lm = linear_model.LinearRegression()\n",
    "\n",
    "# Fiteamos el modelo sobre los vectores X e y.\n",
    "model = lm.fit(X, y)\n",
    "#\n",
    "# Guardamos  las predicciones en un nuevo vector que llamaremos predictions.\n",
    "predictions = lm.predict(X)\n",
    "\n",
    "# Imprimimos el intercepto y los coeficientes como atributos del objeto entrenado.\n",
    "print ('Intercepto=', ' ', model.intercept_)\n",
    "print ('b_sup_m2_total=', ' ', model.coef_)\n",
    "# imprimimos la métrica que mide la bondad de ajusto del modelo. En este caso el R2.\n",
    "print ('R2=','', model.score(X, y))\n",
    "print (\"EMC:\", mean_squared_error(y, predictions))\n",
    "print (\"r_EMC:\", np.sqrt(mean_squared_error(y, predictions)))"
   ]
  },
  {
   "cell_type": "code",
   "execution_count": null,
   "metadata": {},
   "outputs": [],
   "source": [
    "# #Realizamos el modelo de regresión utilizando train_test_split para los mismos datos \n",
    "\n",
    "# # Dividimos el dataset en train y test\n",
    "X_train_1, X_test_1, y_train_1, y_test_1 = train_test_split(X, y, test_size=0.2, random_state=42)\n",
    "# Instanciamos el modelo y lo entrenamos\n",
    "\n",
    "lr = linear_model.LinearRegression()\n",
    "lr.fit(X_train_1, y_train_1)\n",
    "\n",
    "# Guardamos  las predicciones en un nuevo vector que llamaremos predictions.\n",
    "predictions_1 = lr.predict(X)"
   ]
  },
  {
   "cell_type": "code",
   "execution_count": null,
   "metadata": {},
   "outputs": [],
   "source": [
    "# Imprimimos el intercepto y los coeficientes como atributos del objeto entrenado.\n",
    "print ('Intercepto=', ' ', lr.intercept_)\n",
    "print ('b_sup_m2_total=', ' ', lr.coef_)\n",
    "# imprimimos la métrica que mide la bondad de ajusto del modelo. En este caso el R2.\n",
    "print ('R2_train=', ' ', lr.score(X_train_1, y_train_1))\n",
    "print ('R2_test=', ' ', lr.score(X_test_1, y_test_1))\n",
    "print (\"EMC:\", mean_squared_error(y, predictions_1))\n",
    "print (\"r_EMC:\", np.sqrt(mean_squared_error(y, predictions_1)))"
   ]
  },
  {
   "cell_type": "markdown",
   "metadata": {},
   "source": [
    "Los resultados del coeficiente en ambos modelos no son tan diferentes, indican que por cada m2 de superficie total el valor del precio en dolares aumenta en 1713 unidades al hacer la separacion de datos y aprox 1693 unid al modelar todos los datos\n",
    "El R2 de entrenamiento disminuye de 0.41 a 0.37 al hacer la separacion de los datos en train_test-_split. \n",
    "Cuando se determina el R2 en los datos no entrenados tenemos una respuesta del 60% de que nuestra variable objetivo es explicada por el modelo\n",
    "En este caso preferimos usar la raiz de EMC ya que los precios estan en el orden de 1e7."
   ]
  },
  {
   "cell_type": "code",
   "execution_count": null,
   "metadata": {},
   "outputs": [],
   "source": [
    "# Graficamos la variable X contra la variable Y, \n",
    "plt.scatter(X, y, s=30, c='black', marker='+', zorder=10)\n",
    "plt.scatter(X, y)\n",
    "plt.xlabel(\"sup_m2_total\")\n",
    "plt.ylabel(\"Valores reales precio_usd\")\n",
    "plt.title('Relación entre sup_m2_total y precio_usd')\n",
    "plt.show()\n",
    "\n",
    "# Graficamos el modelo re regresion del modelo con train_test_split\n",
    "plt.plot(y,y, '-.',c='grey')\n",
    "plt.scatter(predictions, y, s=30, c='r', marker='+', zorder=10)\n",
    "plt.xlabel(\"Predicciones de precio_usd usando sup_m2_total\")\n",
    "plt.ylabel(\"Valores reales precio_usd\")\n",
    "plt.title('Comparación entre el modelo y los valores reales de precio_usd')\n",
    "plt.show()"
   ]
  },
  {
   "cell_type": "markdown",
   "metadata": {},
   "source": [
    "El primer gráfico nos permite ver el tipo de relacion entre la variable predictora y la variable objetivo. Se observa que hay cierta correlación entre ellas, pero estan influenciadas por los valores extremos. \n",
    " \n",
    " El segundo gráfico es la comparación entre el valor real de precio en dolares  vs el valor predicho por nuestro modelo. \n",
    " Puede verse que existe la correlación entre las variables pero existe el ruido de los valores extremos."
   ]
  },
  {
   "cell_type": "markdown",
   "metadata": {},
   "source": [
    "### Separamos por tipo de inmueble\n",
    "Realizamos un filtro en el tipo de inmueble para ver si existen cambios en el modelo: nos quedamos con departamentos que para el barrio caballito cuenta con mas de 1500 registros"
   ]
  },
  {
   "cell_type": "code",
   "execution_count": null,
   "metadata": {},
   "outputs": [],
   "source": [
    "#Solo para departamentos\n",
    "tipo_dept = [\"apartment\"]\n",
    "df_2 = df[df[\"tipo\"].isin(tipo_dept)]"
   ]
  },
  {
   "cell_type": "code",
   "execution_count": null,
   "metadata": {},
   "outputs": [],
   "source": [
    "# Asignamos la variable a predecir\n",
    "y_d = df_2['precio_usd']\n",
    "# Asignamos la variable predictora\n",
    "X_d = df_2[['sup_m2_total']]\n",
    "# Dividimos el dataset en train y test\n",
    "\n",
    "X_train_2, X_test_2, y_train_2, y_test_2 = train_test_split(X_d, y_d, test_size=0.2, random_state=42)\n",
    "\n",
    "# Instanciamos el modelo y lo entrenamos\n",
    "\n",
    "lr_d = linear_model.LinearRegression()\n",
    "lr_d.fit(X_train_2, y_train_2)\n",
    "\n",
    "# Guardamos  las predicciones en un nuevo vector que llamaremos predictions.\n",
    "predictions_d = lr_d.predict(X_d)"
   ]
  },
  {
   "cell_type": "code",
   "execution_count": null,
   "metadata": {},
   "outputs": [],
   "source": [
    "# Imprimimos el intercepto y los coeficientes como atributos del objeto entrenado.\n",
    "print ('Intercepto=', ' ', lr_d.intercept_)\n",
    "print ('sup_m2_total=', ' ', lr_d.coef_)\n",
    "\n",
    "# imprimos la metrica que mide la bondad de ajusto del modelo. En este caso el R2.\n",
    "\n",
    "print ('R2_train=', ' ', lr_d.score(X_train_2, y_train_2))\n",
    "print ('R2_test=', ' ', lr_d.score(X_test_2, y_test_2))\n",
    "print (\"EMC:\", mean_squared_error(y_d, predictions_d))\n",
    "print (\"r_EMC:\", np.sqrt(mean_squared_error(y_d, predictions_d)))"
   ]
  },
  {
   "cell_type": "code",
   "execution_count": null,
   "metadata": {},
   "outputs": [],
   "source": [
    "# Graficamos la variable X contra la variable Y\n",
    "plt.scatter(X_d, y_d, s=30, c='black', marker='+', zorder=10)\n",
    "plt.scatter(X_d, y_d)\n",
    "plt.xlabel(\"sup_m2_total\")\n",
    "plt.ylabel(\"Valores reales precio_usd\")\n",
    "plt.title('Relación entre sup_m2_total y precio_usd')\n",
    "plt.show()\n",
    "\n",
    "# Graficamos el modelo\n",
    "plt.plot(y_d,y_d, '-.',c='grey')\n",
    "plt.scatter(predictions_d, y_d, s=30, c='r', marker='+', zorder=10)\n",
    "plt.xlabel(\"Predicciones de precio_usd usando sup_m2_total\")\n",
    "plt.ylabel(\"Valores reales precio_usd\")\n",
    "plt.title('Comparación entre el modelo y los valores reales de precio_usd')\n",
    "plt.show()"
   ]
  }
 ],
 "metadata": {
  "kernelspec": {
   "display_name": "Python 3.10.4 ('dh')",
   "language": "python",
   "name": "python3"
  },
  "language_info": {
   "codemirror_mode": {
    "name": "ipython",
    "version": 3
   },
   "file_extension": ".py",
   "mimetype": "text/x-python",
   "name": "python",
   "nbconvert_exporter": "python",
   "pygments_lexer": "ipython3",
   "version": "3.10.4"
  },
  "orig_nbformat": 4,
  "vscode": {
   "interpreter": {
    "hash": "de0c11672bdc465268fe040a07375f6ad60f942d46756d33f7fe9e449a78b4ed"
   }
  }
 },
 "nbformat": 4,
 "nbformat_minor": 2
}
