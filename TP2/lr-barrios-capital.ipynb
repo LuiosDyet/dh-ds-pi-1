{
 "cells": [
  {
   "cell_type": "code",
   "execution_count": null,
   "metadata": {},
   "outputs": [],
   "source": [
    "# Importamos las librerías\n",
    "\n",
    "%matplotlib inline\n",
    "\n",
    "from matplotlib import pyplot as plt\n",
    "import seaborn as sns\n",
    "\n",
    "import numpy as np\n",
    "import pandas as pd\n",
    "\n",
    "from sklearn import linear_model\n",
    "from sklearn.metrics import r2_score\n",
    "\n",
    "from sklearn.model_selection import train_test_split\n",
    "\n",
    "from sklearn.preprocessing import StandardScaler\n",
    "\n",
    "import statsmodels.api as sm"
   ]
  },
  {
   "cell_type": "code",
   "execution_count": null,
   "metadata": {},
   "outputs": [],
   "source": [
    "# Importamos el dataset\n",
    "\n",
    "df = pd.read_csv('./data/data_limpio_gdf_caba.csv')\n",
    "\n",
    "print(df.shape)\n",
    "df.head()"
   ]
  },
  {
   "cell_type": "code",
   "execution_count": null,
   "metadata": {},
   "outputs": [],
   "source": [
    "# Seleccionamos las columnas que vamos a utilizar y sólo las propiedades de tipo apartamento\n",
    "\n",
    "df = df[df['tipo'] == 'apartment']\n",
    "df = df[['municipio', 'sup_m2_total', 'ambientes_cat', 'lat', 'lon', 'precio_usd' ]]\n",
    "df.head()"
   ]
  },
  {
   "cell_type": "code",
   "execution_count": null,
   "metadata": {},
   "outputs": [],
   "source": [
    "# Extraemos un dataframe por cada columna\n",
    "\n",
    "df_sup_m2_total = df[['sup_m2_total', 'precio_usd', 'municipio']]\n",
    "df_ambientes_cat = df[['ambientes_cat', 'precio_usd', 'municipio']]\n",
    "df_ubica = df[['lat', 'lon', 'precio_usd', 'municipio']]"
   ]
  },
  {
   "cell_type": "code",
   "execution_count": null,
   "metadata": {},
   "outputs": [],
   "source": [
    "# Creamos las variables dummies para la variable categórica de ambientes\n",
    "\n",
    "df_ambientes_cat = pd.get_dummies(df_ambientes_cat, columns=['ambientes_cat'], drop_first=True)\n",
    "print(df_ambientes_cat.shape)\n",
    "df_ambientes_cat.head()"
   ]
  },
  {
   "cell_type": "code",
   "execution_count": null,
   "metadata": {},
   "outputs": [],
   "source": [
    "# Armamos la función para las regresiones lineales\n",
    "\n",
    "def regresion_lineal(df_lr, target, test_size=0.2, random_state=42):\n",
    "    # Separamos la variable objetivo del resto del dataset\n",
    "    X = df_lr.drop(target, axis=1)\n",
    "    y = df_lr[target]\n",
    "    \n",
    "    # Dividimos el dataset en train y test\n",
    "    X_train, X_test, y_train, y_test = train_test_split(X, y, test_size=test_size, random_state=random_state)\n",
    "    \n",
    "    # Normalizamos los datos\n",
    "    scaler = StandardScaler()\n",
    "    scaler.fit(X_train)\n",
    "    X_train = scaler.transform(X_train)\n",
    "    X_test = scaler.transform(X_test)\n",
    "    \n",
    "    # Instanciamos el modelo\n",
    "    model = linear_model.LinearRegression()\n",
    "    \n",
    "    # Entrenamos el modelo\n",
    "    model.fit(X_train, y_train)\n",
    "    \n",
    "    # Predecimos con el modelo\n",
    "    y_pred = model.predict(X_test)\n",
    "    \n",
    "    # Calculamos el R2\n",
    "    r2 = r2_score(y_test, y_pred)\n",
    "    \n",
    "    # Imprimimos los resultados\n",
    "    print('R2: ', r2)\n",
    "    print('Intercept: ', model.intercept_)\n",
    "    print('Coeficiente: ', model.coef_[0])\n",
    "    \n",
    "    # Graficamos los resultados\n",
    "    plt.figure(figsize=(4, 3))\n",
    "    plt.scatter(y_test, y_pred)\n",
    "    plt.axline(xy1=(0, 0), slope=1, color='red')\n",
    "    plt.xlabel('Valores reales')\n",
    "    plt.ylabel('Valores predichos')\n",
    "    plt.xlim(0, 1000000)\n",
    "    plt.ylim(0, 1000000)\n",
    "    plt.show()\n"
   ]
  },
  {
   "cell_type": "code",
   "execution_count": null,
   "metadata": {},
   "outputs": [],
   "source": [
    "# Creo un array con los municipios\n",
    "\n",
    "municipios = df['municipio'].unique()"
   ]
  },
  {
   "cell_type": "code",
   "execution_count": null,
   "metadata": {},
   "outputs": [],
   "source": [
    "# Regresión lineal para el precio de las propiedades en función del municipio y la superficie total y guardamos el modelo en un mapa\n",
    "\n",
    "for municipio in municipios:\n",
    "    df_municipio = df_sup_m2_total[df_sup_m2_total['municipio'] == municipio]\n",
    "    if(df_municipio.shape[0] > 100):\n",
    "        df_municipio = df_municipio.drop('municipio', axis=1)\n",
    "        print('Municipio: ', municipio)\n",
    "        regresion_lineal(df_municipio, 'precio_usd')\n",
    "        print('----------------------------------------')\n"
   ]
  }
 ],
 "metadata": {
  "kernelspec": {
   "display_name": "Python 3.10.4 ('dh')",
   "language": "python",
   "name": "python3"
  },
  "language_info": {
   "codemirror_mode": {
    "name": "ipython",
    "version": 3
   },
   "file_extension": ".py",
   "mimetype": "text/x-python",
   "name": "python",
   "nbconvert_exporter": "python",
   "pygments_lexer": "ipython3",
   "version": "3.10.4"
  },
  "orig_nbformat": 4,
  "vscode": {
   "interpreter": {
    "hash": "de0c11672bdc465268fe040a07375f6ad60f942d46756d33f7fe9e449a78b4ed"
   }
  }
 },
 "nbformat": 4,
 "nbformat_minor": 2
}
