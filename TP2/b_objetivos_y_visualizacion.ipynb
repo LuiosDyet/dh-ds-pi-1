{
 "cells": [
  {
   "cell_type": "markdown",
   "metadata": {},
   "source": [
    "## Integrantes:\n",
    "1. Camila Coltriani\n",
    "2. Luis Dartayet\n",
    "3. Irania Fuentes\n",
    "4. Jonathan Fichelson\n",
    "5. Ornella Cevoli"
   ]
  },
  {
   "cell_type": "markdown",
   "metadata": {},
   "source": [
    "# Trabajo práctico 2 : Modelo de regresión lineal del dataset Properatti"
   ]
  },
  {
   "cell_type": "markdown",
   "metadata": {},
   "source": [
    "## Objetivos"
   ]
  },
  {
   "cell_type": "markdown",
   "metadata": {},
   "source": [
    "El objetivo de este trabajo final es generar y comparar estadísticamente tres modelos de regresión lineal sobre el dataset limpio de Properatti construido en el TP_1; en este, fue planteado la hipótesis que el precio (variable objetivo) de las propiedades iba a estar influenciado principalmente por la superficie y la ubicación (variables predictoras). \n",
    "\n",
    "Con base a esto, se han planteado los siguientes objetivos específicos:\n",
    "- Explorar el dataset limpio con la finalidad de verificar si debe realizarse una ultima limpieza o pueden utilizase los datos directamente;\n",
    "- Realizar una visualización general de las distribuciones y relaciones del dataset con la finalidad de determinar la zona, tipo de inmueble y variables predictoras y objetivo para la realización de los modelos;\n",
    "- Construir modelos de regresión lineal simple y multiple e interpretar sus metricas con la finalidad de identificar el que mejor permita obtener una predicción confiable de la variable objetivo;\n",
    "- Implementar un modelo de regularización con la finalidad de compararlos y evaluar si existe o no problemas de sobreajuste;\n",
    "- Determinar el modelo que más se ajusta al comportamiento de los datos analizados. "
   ]
  },
  {
   "cell_type": "code",
   "execution_count": null,
   "metadata": {},
   "outputs": [],
   "source": [
    "#Las librerías utilizadas en este documento son:\n",
    "%matplotlib inline\n",
    "from matplotlib import pyplot as plt\n",
    "import seaborn as sns\n",
    "import numpy as np\n",
    "import pandas as pd\n",
    "from sklearn import linear_model\n",
    "from sklearn.metrics import mean_squared_error, r2_score\n",
    "from sklearn.model_selection import train_test_split\n",
    "from sklearn.preprocessing import StandardScaler\n",
    "import statsmodels.api as sm\n",
    "from sklearn import metrics\n",
    "from matplotlib.ticker import ScalarFormatter\n",
    "from matplotlib import gridspec\n",
    "sns.set()"
   ]
  },
  {
   "cell_type": "markdown",
   "metadata": {},
   "source": [
    "## Visualización del dataset"
   ]
  },
  {
   "cell_type": "code",
   "execution_count": null,
   "metadata": {},
   "outputs": [],
   "source": [
    "# Visualización de la forma y atributos del dataset\n",
    "data = pd.read_csv(\"./data/data_limpio_gdf.csv\")\n",
    "print(data.shape)\n",
    "print(\"El dataset está compuesto por:\", data.shape[0], \"filas y\",data.shape[1],\"columnas.\")\n",
    "data.sample(5)"
   ]
  },
  {
   "cell_type": "markdown",
   "metadata": {},
   "source": [
    "### Descripción de las columnas del dataset limpio:\n",
    "\n",
    "Las columnas que incluye son:\n",
    "\n",
    "● municipio: ubicación del inmueble por su municipio/barrios\n",
    "\n",
    "● provincia: ubicación del inmueble por provincia\n",
    "\n",
    "● lat  ●lon: ubicación de latitud y longitud\n",
    "\n",
    "● superficie_m2_total: superficie total en m² del inmueble\n",
    "\n",
    "● price_usd: Precio en dólares del inmueble\n",
    "\n",
    "● tipo: tipo de inmueble en venta (casa, departamento, ph, tienda)\n",
    "\n",
    "● ambientes_cat: cantidad de ambientes del inmueble (0, 1, 2, 3 , 4 o más)\n",
    "\n",
    "● precio_usd_por_m2: Precio en dólares por metro cuadrado (USD/m²: precio dólares / superficie)\n",
    "\n",
    "● tipo_cat_code: categoría numérica de tipo de inmueble\n",
    "\n",
    "● municipio_cat_code: categoría numérica de municipios\n",
    "\n",
    "● provincia_cat_code: categoría numérica de provincia\n",
    "\n",
    "● tipo_cat_code: categoría numérica de ambientes_cat\n",
    "\n",
    "● geometry: figura geométrica de latitud y la longitud\n",
    "\n",
    "● country_name: nombre del país donde ocurre la operación inmobiliaria\n",
    "\n",
    "● **precio_usd_por_m2_cat: categoría numérica de precio_usd_por_m2**"
   ]
  },
  {
   "cell_type": "markdown",
   "metadata": {},
   "source": [
    "# Análisis exploratorio y visualización de correlaciones entre las variables"
   ]
  },
  {
   "cell_type": "code",
   "execution_count": null,
   "metadata": {},
   "outputs": [],
   "source": [
    "#Revisamos la presencia de datos NaN\n",
    "data.isna().sum().sort_values()\n",
    "#La columna \"ambientes_cat\" quedó con 1248 registros nulos"
   ]
  },
  {
   "cell_type": "code",
   "execution_count": null,
   "metadata": {},
   "outputs": [],
   "source": [
    "#reviso donde están ubicados y a que propiedad pertenecen los registros nulos para saber si afectaran escoger un tipo de inmueble y su zona\n",
    "mascara_nulos = data[\"ambientes_cat\"].astype(str) == \"nan\" \n",
    "data_nulos = data[mascara_nulos]\n",
    "data_nulos.loc[:, [\"municipio\", 'tipo', 'ambientes_cat', \"precio_usd\"]].sample(7)\n",
    "#print(data[mascara_nulos].index)"
   ]
  },
  {
   "cell_type": "code",
   "execution_count": null,
   "metadata": {},
   "outputs": [],
   "source": [
    "#agrupamos los registros donde hay nulos\n",
    "pd.options.display.max_rows = None\n",
    "data_nulos.groupby([\"tipo\"])[\"municipio\"].value_counts().sort_values(ascending=False)\n",
    "#vemos que los nan están distribuidos equitativamente y no están concentrados en una mismo municipio"
   ]
  },
  {
   "cell_type": "code",
   "execution_count": null,
   "metadata": {},
   "outputs": [],
   "source": [
    "#Los elimino p\n",
    "data.dropna(subset=['ambientes_cat'], inplace=True)\n",
    "print(data.isna().sum())"
   ]
  },
  {
   "cell_type": "code",
   "execution_count": null,
   "metadata": {},
   "outputs": [],
   "source": [
    "# Eliminamos algunos outliers\n",
    "\n",
    "data= data[(data[\"precio_usd\"] >100) & (data[\"precio_usd\"]<= 4.500000e+05)]\n",
    "data= data[(data[\"precio_usd_por_m2\"] > 100) & (data[\"precio_usd_por_m2\"]<= 2.500000e+04)]"
   ]
  },
  {
   "cell_type": "code",
   "execution_count": null,
   "metadata": {},
   "outputs": [],
   "source": [
    "#Realizamos una descripción estadística del dataset\n",
    "data.describe()\n",
    "#existen datos que no permiten ver los estadísticos ya que hay valores de 0 en sup_m2_total e inf en precio_usd_por_m2: eliminarlos"
   ]
  },
  {
   "cell_type": "code",
   "execution_count": null,
   "metadata": {},
   "outputs": [],
   "source": [
    "#eliminamos del dataset los registros de sup_m2_total con valores de cero\n",
    "data.drop(data[(data[\"sup_m2_total\"] ==0)].index, inplace=True ,axis=0)"
   ]
  },
  {
   "cell_type": "code",
   "execution_count": null,
   "metadata": {},
   "outputs": [],
   "source": [
    "data.describe()"
   ]
  },
  {
   "cell_type": "code",
   "execution_count": null,
   "metadata": {},
   "outputs": [],
   "source": [
    "#Vemos la correlación entre las variables \n",
    "data_corr = data.corr()\n",
    "#graficamos\n",
    "plt.figure(figsize=(6,6))\n",
    "sns.heatmap(data_corr, annot=True, fmt=\".2f\", cmap=\"coolwarm\")\n",
    "plt.title(\"Correlación entre variables\")\n",
    "plt.show()\n",
    "\n",
    "#puede verse una correlación significativa entre sup_m2_total y precio_usd (0.39)\n",
    "#tipo_cat_code / ambientes_cat_code y  precio_usd (0.30)\n",
    "#precio_usd_por_m2_cat y lon"
   ]
  },
  {
   "cell_type": "code",
   "execution_count": null,
   "metadata": {},
   "outputs": [],
   "source": [
    "#graficamos las provincias y municipios que contengan un valor mínimo de 500 registros por municipio (para una mejor visualización)\n",
    "limite = 500\n",
    "data = data.copy().groupby(['municipio']).filter(lambda grp: grp.shape[0] > limite)"
   ]
  },
  {
   "cell_type": "code",
   "execution_count": null,
   "metadata": {},
   "outputs": [],
   "source": [
    "fig= plt.subplots(figsize=(20,20),constrained_layout=True)\n",
    "grid = gridspec.GridSpec(2, 1, height_ratios=[1, 3])\n",
    "\n",
    "ax1=plt.subplot(grid[0])\n",
    "sns.countplot(data=data,y=\"provincia\",order=data[\"provincia\"].value_counts().index ,ax=ax1,color=\"g\")\n",
    "\n",
    "ax1.set_yticklabels(ax1.get_yticklabels(),fontsize=\"medium\")\n",
    "ax1.set_title(\"Distribucion de registros segun la provincia\", fontsize= 'large')\n",
    "\n",
    "ax2=plt.subplot(grid[1])\n",
    "sns.countplot(data=data,x=\"municipio\",order=data[\"municipio\"].value_counts().index,ax=ax2,color=\"b\")\n",
    "\n",
    "\n",
    "ax2.set_title(\"Distribucion de registros segun los municipios\", fontsize= 'large')\n",
    "ax2.set_xticklabels(ax2.get_xticklabels(),rotation=90,ha=\"right\")\n",
    "plt.xticks(fontsize= 10)\n",
    "plt.yticks(fontsize= 10)\n",
    "ax1.grid()\n",
    "ax2.grid()\n",
    "plt.show()"
   ]
  },
  {
   "cell_type": "markdown",
   "metadata": {},
   "source": [
    "La mayor cantidad de registros están Capital Federal para los barrios de Palermo, Belgrano, Caballito..\n",
    "Consideraremos Capital Federal para la evaluación de los modelos "
   ]
  },
  {
   "cell_type": "code",
   "execution_count": null,
   "metadata": {},
   "outputs": [],
   "source": [
    "#Revisamos la distribución de registros por tipo de inmueble\n",
    "plt.figure(figsize=(5,3))\n",
    "\n",
    "plt.gca().yaxis.set_major_formatter(ScalarFormatter())\n",
    "ax = sns.countplot(data = data, x = \"tipo\")\n",
    "ax.set_xticklabels(ax.get_xticklabels(),rotation=40,ha=\"right\")\n",
    "plt.show()\n",
    "\n",
    "#Apartamentos tiene la mayoría de los datos"
   ]
  },
  {
   "cell_type": "markdown",
   "metadata": {},
   "source": [
    "Consideraremos apartamentos para la evaluacion de los modelos"
   ]
  },
  {
   "cell_type": "code",
   "execution_count": null,
   "metadata": {},
   "outputs": [],
   "source": [
    "#Revisamos la ubicacion de los los tipos de inmueble que contienen la mayor cantidad de registros\n",
    "pd.options.display.max_rows = None\n",
    "data.groupby([\"municipio\"])[\"tipo\"].value_counts().sort_values(ascending=False)"
   ]
  },
  {
   "cell_type": "markdown",
   "metadata": {},
   "source": [
    "#### Para determinar en que barrio enfocarnos, generaremos una funcion que correremos para los tres barrios enunciados "
   ]
  },
  {
   "cell_type": "code",
   "execution_count": null,
   "metadata": {},
   "outputs": [],
   "source": [
    "# Seleccionamos las columnas que vamos a utilizar y sólo las propiedades de tipo apartamento\n",
    "\n",
    "df_0 = data[data['tipo'] == 'apartment']\n",
    "df_0 = data[['municipio', 'sup_m2_total', 'ambientes_cat', 'lat', 'lon', 'precio_usd' ]]\n",
    "df_0.head()"
   ]
  },
  {
   "cell_type": "code",
   "execution_count": null,
   "metadata": {},
   "outputs": [],
   "source": [
    "# Extraemos un dataframe por cada columna\n",
    "\n",
    "df_0_sup_m2_total = df_0[['sup_m2_total', 'precio_usd', 'municipio']]\n",
    "df_0_ambientes_cat = df_0[['ambientes_cat', 'precio_usd', 'municipio']]\n",
    "df_0_ubica = df_0[['lat', 'lon', 'precio_usd', 'municipio']]"
   ]
  },
  {
   "cell_type": "code",
   "execution_count": null,
   "metadata": {},
   "outputs": [],
   "source": [
    "# Armamos la función para las regresiones lineales\n",
    "\n",
    "def regresion_lineal(df_0_lr, target, test_size=0.2, random_state=42):\n",
    "    # Separamos la variable objetivo del resto del dataset\n",
    "    X = df_0_lr.drop(target, axis=1)\n",
    "    y = df_0_lr[target]\n",
    "    \n",
    "    # Dividimos el dataset en train y test\n",
    "    X_train, X_test, y_train, y_test = train_test_split(X, y, test_size=test_size, random_state=random_state)\n",
    "    \n",
    "    # Normalizamos los datos\n",
    "    scaler = StandardScaler()\n",
    "    scaler.fit(X_train)\n",
    "    X_train = scaler.transform(X_train)\n",
    "    X_test = scaler.transform(X_test)\n",
    "    \n",
    "    # Instanciamos el modelo\n",
    "    model = linear_model.LinearRegression()\n",
    "    \n",
    "    # Entrenamos el modelo\n",
    "    model.fit(X_train, y_train)\n",
    "    \n",
    "    # Predecimos con el modelo\n",
    "    y_pred = model.predict(X_test)\n",
    "    \n",
    "    # Calculamos el R2\n",
    "    r2 = r2_score(y_test, y_pred)\n",
    "    \n",
    "    # Imprimimos los resultados\n",
    "    print('R2: ', r2)\n",
    "    print('Intercept: ', model.intercept_)\n",
    "    print('Coeficiente: ', model.coef_[0])\n",
    "    \n",
    "    # Graficamos los resultados\n",
    "    plt.figure(figsize=(4, 3))\n",
    "    plt.scatter(y_test, y_pred)\n",
    "    plt.axline(xy1=(0, 0), slope=1, color='red')\n",
    "    plt.xlabel('Valores reales')\n",
    "    plt.ylabel('Valores predichos')\n",
    "    plt.xlim(0, 1000000)\n",
    "    plt.ylim(0, 1000000)\n",
    "    plt.show()"
   ]
  },
  {
   "cell_type": "code",
   "execution_count": null,
   "metadata": {},
   "outputs": [],
   "source": [
    "#creamos una mascara para Palermo, Belgrano, Caballito.\n",
    "municipios = np.array(['Palermo', 'Belgrano', 'Caballito'])"
   ]
  },
  {
   "cell_type": "markdown",
   "metadata": {},
   "source": [
    "Elegimos estos 3 barrios porque son los que tienen mayor cantidad de registros y mejor R2 inicial en el modelo de regresión lineal simple.\n",
    "> confrontar con el archivo lr-barrios-capital.ipynb donde se corrió el modelo para todos los barrios de capital federal\n"
   ]
  },
  {
   "cell_type": "code",
   "execution_count": null,
   "metadata": {},
   "outputs": [],
   "source": [
    "# Regresión lineal para el precio de las propiedades en función del municipio y la superficie total y guardamos el modelo en un mapa\n",
    "\n",
    "for municipio in municipios:\n",
    "    df_0_municipio =df_0_sup_m2_total[df_0_sup_m2_total['municipio'] == municipio]\n",
    "    if(df_0_municipio.shape[0] > 100):\n",
    "        df_0_municipio = df_0_municipio.drop('municipio', axis=1)\n",
    "        print('Municipio: ', municipio)\n",
    "        regresion_lineal(df_0_municipio, 'precio_usd')\n",
    "        print('----------------------------------------')"
   ]
  },
  {
   "cell_type": "markdown",
   "metadata": {},
   "source": [
    "## Correlación entre la variables del dataset"
   ]
  },
  {
   "cell_type": "code",
   "execution_count": null,
   "metadata": {},
   "outputs": [],
   "source": [
    "#analizamos la correlación entre cada una de las variables.\n",
    "figz= plt.figure()\n",
    "mask_cols= [\"tipo\",\"sup_m2_total\",\"precio_usd\",\"precio_usd_por_m2\", \"ambientes_cat\", \"municipio_cat_code\", \"ambientes_cat_code\",\"lat\"]\n",
    "graph=sns.pairplot(data[mask_cols],hue=\"tipo\")\n",
    "graph.fig.set_size_inches(20,10)\n",
    "plt.grid()\n",
    "plt.show()\n"
   ]
  },
  {
   "cell_type": "code",
   "execution_count": null,
   "metadata": {},
   "outputs": [],
   "source": [
    "# Realizamos los siguientes gráficos para visualizar mejor (zoom) las relaciones- En primera medida analizamos metros totales con precio en dolares\n",
    "g = sns.FacetGrid(data, col=\"tipo\")\n",
    "g.map(sns.scatterplot, \"sup_m2_total\", \"precio_usd\", alpha=.5)\n",
    "g.add_legend()\n"
   ]
  },
  {
   "cell_type": "code",
   "execution_count": null,
   "metadata": {},
   "outputs": [],
   "source": [
    "#\n",
    "\n",
    "g = sns.FacetGrid(data, col=\"tipo\")\n",
    "g.map(sns.scatterplot, \"sup_m2_total\", \"precio_usd_por_m2\", alpha=.5)\n",
    "g.add_legend()"
   ]
  },
  {
   "cell_type": "code",
   "execution_count": null,
   "metadata": {},
   "outputs": [],
   "source": [
    "g = sns.FacetGrid(data, col=\"tipo\")\n",
    "g.map(sns.scatterplot, \"precio_usd_por_m2\", \"precio_usd\", alpha=.7)\n",
    "g.add_legend()"
   ]
  },
  {
   "cell_type": "code",
   "execution_count": null,
   "metadata": {},
   "outputs": [],
   "source": [
    "g = sns.FacetGrid(data, col=\"tipo\")\n",
    "g.map(sns.scatterplot, \"municipio_cat_code\", \"precio_usd\", alpha=.7)\n",
    "g.add_legend()"
   ]
  },
  {
   "cell_type": "code",
   "execution_count": null,
   "metadata": {},
   "outputs": [],
   "source": [
    "g = sns.FacetGrid(data, col=\"tipo\")\n",
    "g.map(sns.scatterplot, \"ambientes_cat_code\", \"precio_usd\", alpha=.7)\n",
    "g.add_legend()"
   ]
  },
  {
   "cell_type": "markdown",
   "metadata": {},
   "source": [
    "#### la variable target debe tener una distribucion cercana a la normal"
   ]
  },
  {
   "cell_type": "code",
   "execution_count": null,
   "metadata": {},
   "outputs": [],
   "source": [
    "#de acuerdo con los valores mínimos y máximos realizamos un histograma para ver la distribución de datos de precio_usd\n",
    "data_2= data[(data[\"precio_usd\"] >10000) & (data[\"precio_usd\"]<= 4.500000e+05)]\n",
    "sns.histplot(data_2[\"precio_usd\"], color = \"orange\", bins = 40)"
   ]
  },
  {
   "cell_type": "code",
   "execution_count": null,
   "metadata": {},
   "outputs": [],
   "source": [
    "#de acuerdo con los valores mínimos y máximos realizamos un histograma para ver la distribución de datos de superficie total\n",
    "data_2= data[(data[\"sup_m2_total\"] >10) & (data[\"sup_m2_total\"]<= 400)]\n",
    "sns.histplot(data_2[\"sup_m2_total\"], color = \"green\", bins = 40)"
   ]
  },
  {
   "cell_type": "code",
   "execution_count": null,
   "metadata": {},
   "outputs": [],
   "source": [
    "data_2= data[(data[\"precio_usd_por_m2\"] >10) & (data[\"precio_usd_por_m2\"]<= 2.812500e+03)]\n",
    "sns.histplot(data_2[\"precio_usd_por_m2\"], color = \"blue\", bins = 20)\n"
   ]
  },
  {
   "cell_type": "code",
   "execution_count": null,
   "metadata": {},
   "outputs": [],
   "source": [
    "data.boxplot(column= \"precio_usd\", by=\"tipo\") \n",
    "plt.show()"
   ]
  },
  {
   "cell_type": "markdown",
   "metadata": {},
   "source": [
    "Conclusiones del análisis de variables predictoras y target:\n",
    "- La mayor cantidad de registros están Capital Federal para los barrios de Palermo, Belgrano, Caballito. Seleccionaremos el barrio Caballito porque que tiene una buena cantidad de registros y un buen R2 inicial en el modelo de regresión lineal simple inicial.\n",
    "- Utilizaremos departamentos como el tipo de inmueble a modelar por contener una mayor cantidad de datos\n",
    "- Consideraremos como variables predictoras: Superficie total y precio usd por su alta correlación, y su distribución. Luego evaluaremos el impacto de las variables de ubicación y ambientes.\n"
   ]
  }
 ],
 "metadata": {
  "kernelspec": {
   "display_name": "Python 3.10.8 64-bit (microsoft store)",
   "language": "python",
   "name": "python3"
  },
  "language_info": {
   "name": "python",
   "version": "3.10.8"
  },
  "orig_nbformat": 4,
  "vscode": {
   "interpreter": {
    "hash": "8c0f1775843a93304a7664e9e2cd28af7ae8653d41c78e244e43e8de6771bde9"
   }
  }
 },
 "nbformat": 4,
 "nbformat_minor": 2
}
