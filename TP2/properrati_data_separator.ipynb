{
 "cells": [
  {
   "cell_type": "code",
   "execution_count": null,
   "metadata": {},
   "outputs": [],
   "source": [
    "# Importamos el dataset limpiado\n",
    "\n",
    "import pandas as pd\n",
    "\n",
    "df = pd.read_csv('./data/data_limpio_gdf.csv')\n",
    "\n",
    "df.head()"
   ]
  },
  {
   "cell_type": "code",
   "execution_count": null,
   "metadata": {},
   "outputs": [],
   "source": [
    "# Creamos 3 datasets distintos para cada municipio \n",
    "#  \n",
    "# 1. La Matanza\n",
    "# 2. Lomas de Zamora\n",
    "# 3. Tigre\n",
    "\n",
    "df_lm = df[df['municipio'] == 'La Matanza']\n",
    "df_lz = df[df['municipio'] == 'Lomas de Zamora']\n",
    "df_tg = df[df['municipio'] == 'Tigre']\n"
   ]
  },
  {
   "cell_type": "code",
   "execution_count": null,
   "metadata": {},
   "outputs": [],
   "source": [
    "# Guardamos los datasets en archivos csv\n",
    "\n",
    "df_lm.to_csv('./data/properrati_data_lm.csv', index=False)\n",
    "df_lz.to_csv('./data/properrati_data_lz.csv', index=False)\n",
    "df_tg.to_csv('./data/properrati_data_tg.csv', index=False)"
   ]
  }
 ],
 "metadata": {
  "kernelspec": {
   "display_name": "Python 3.10.4 ('dh')",
   "language": "python",
   "name": "python3"
  },
  "language_info": {
   "codemirror_mode": {
    "name": "ipython",
    "version": 3
   },
   "file_extension": ".py",
   "mimetype": "text/x-python",
   "name": "python",
   "nbconvert_exporter": "python",
   "pygments_lexer": "ipython3",
   "version": "3.10.4"
  },
  "orig_nbformat": 4,
  "vscode": {
   "interpreter": {
    "hash": "de0c11672bdc465268fe040a07375f6ad60f942d46756d33f7fe9e449a78b4ed"
   }
  }
 },
 "nbformat": 4,
 "nbformat_minor": 2
}
