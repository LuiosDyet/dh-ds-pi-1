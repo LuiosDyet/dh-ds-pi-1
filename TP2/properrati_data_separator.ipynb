{
 "cells": [
  {
   "cell_type": "code",
   "execution_count": null,
   "metadata": {},
   "outputs": [],
   "source": [
    "# Importamos el dataset limpio\n",
    "\n",
    "import pandas as pd\n",
    "\n",
    "df = pd.read_csv('./data/data_limpio_gdf.csv')\n",
    "\n",
    "df.head()"
   ]
  },
  {
   "cell_type": "code",
   "execution_count": null,
   "metadata": {},
   "outputs": [],
   "source": [
    "# Creamos 3 datasets distintos para cada municipio \n",
    "#  \n",
    "# 1. Belgrano\n",
    "# 2. Almagro\n",
    "# 3. San Telmo\n",
    "\n",
    "df_belgrano = df[df['municipio'] == 'Belgrano']\n",
    "df_almagro = df[df['municipio'] == 'Almagro']\n",
    "df_santelmo = df[df['municipio'] == 'San Telmo']\n",
    "\n"
   ]
  },
  {
   "cell_type": "code",
   "execution_count": null,
   "metadata": {},
   "outputs": [],
   "source": [
    "# Guardamos los datasets en archivos csv\n",
    "\n",
    "df_belgrano.to_csv('./data/data_limpio_gdf_belgrano.csv', index=False)\n",
    "df_almagro.to_csv('./data/data_limpio_gdf_almagro.csv', index=False)\n",
    "df_santelmo.to_csv('./data/data_limpio_gdf_santelmo.csv', index=False)\n"
   ]
  },
  {
   "cell_type": "code",
   "execution_count": null,
   "metadata": {},
   "outputs": [],
   "source": [
    "# df CABA\n",
    "\n",
    "df_caba = df[df['provincia'] == 'Capital Federal']\n",
    "df_caba.to_csv('./data/data_limpio_gdf_caba.csv', index=False)\n"
   ]
  }
 ],
 "metadata": {
  "kernelspec": {
   "display_name": "Python 3.10.4 ('dh')",
   "language": "python",
   "name": "python3"
  },
  "language_info": {
   "codemirror_mode": {
    "name": "ipython",
    "version": 3
   },
   "file_extension": ".py",
   "mimetype": "text/x-python",
   "name": "python",
   "nbconvert_exporter": "python",
   "pygments_lexer": "ipython3",
   "version": "3.10.4"
  },
  "orig_nbformat": 4,
  "vscode": {
   "interpreter": {
    "hash": "de0c11672bdc465268fe040a07375f6ad60f942d46756d33f7fe9e449a78b4ed"
   }
  }
 },
 "nbformat": 4,
 "nbformat_minor": 2
}
