{
 "cells": [
  {
   "cell_type": "markdown",
   "metadata": {},
   "source": [
    "## Integrantes:\n",
    "1. Camila Coltriani\n",
    "2. Luis Dartayet\n",
    "3. Irania Fuentes\n",
    "4. Jonathan Fichelson\n",
    "5. Ornella Cevoli"
   ]
  },
  {
   "cell_type": "markdown",
   "metadata": {},
   "source": [
    "# Trabajo práctico 2 : Modelo de regresión lineal del dataset Properatti"
   ]
  },
  {
   "cell_type": "markdown",
   "metadata": {},
   "source": [
    "## Objetivos"
   ]
  },
  {
   "cell_type": "markdown",
   "metadata": {},
   "source": [
    "El objetivo de este trabajo final es generar y comparar estadisticamente tres modelos de regresion lineal sobre el dataset limpio de Properatti construido en el TP_1; en este, fue planteado la hipotesis que el precio (variable objetivo) de las propiedades iba a estar influenciado principalmente por la superfice y la ubicacion (variables predictoras). \n",
    "\n",
    "Con base a esto, se han planteado los siguientes objetivos especificos:\n",
    "- Explorar el dataset limpio con la finalidad de verificar si debe realizarse una ultima limpieza o pueden utilizase los datos directamente;\n",
    "- Realizar una visualización general de las distribuciones y relaciones del dataset con la finalidad de determinar la zona, tipo de inmueble y variables predictoras y objetivo para la realizacion de los modelos;\n",
    "- Construir modelos de regresión lineal simple y multiple e interpretar sus metricas con la finalidad de identificar el que mejor permita obtener una prediccion confiable de la variable objetivo;\n",
    "- Implementar un modelo de regularización con la finalidad de compararlos y evaluar si existe o no problemas de sobreajuste;\n",
    "- Determinar el modelo que más se ajusta al comportamiento de los datos analizados. "
   ]
  },
  {
   "cell_type": "code",
   "execution_count": null,
   "metadata": {},
   "outputs": [],
   "source": [
    "#Las librerías utilizadas en este documento son:\n",
    "%matplotlib inline\n",
    "from matplotlib import pyplot as plt\n",
    "import seaborn as sns\n",
    "import numpy as np\n",
    "import pandas as pd\n",
    "from sklearn import linear_model\n",
    "from sklearn.metrics import r2_score\n",
    "from sklearn.model_selection import train_test_split\n",
    "from sklearn.preprocessing import StandardScaler\n",
    "import statsmodels.api as sm\n",
    "\n",
    "from matplotlib.ticker import ScalarFormatter\n",
    "from matplotlib import gridspec\n",
    "sns.set()"
   ]
  },
  {
   "cell_type": "code",
   "execution_count": null,
   "metadata": {},
   "outputs": [],
   "source": [
    "#ELIMINAR\n",
    "# Con la finalidad de comparar el modelo en distintas Municipios:  La Matanza, Lomas de Zamora y Tigre \n",
    "#tienen más de 500 registros\n",
    "#son de tres zonas distintas del conurbano\n",
    "# la cantidad de registros no varia mucho entre ellos\n",
    "# armar un modelo inicial con superficie total \n",
    "# ver el tema de la ubicacion relacionarla con algun punto y calcular distancias \n",
    "# variable target precio \n",
    "# variables predictoras superfice total y ubicacion #probar con otra: ambientes \n",
    "#armar tres datasets: uno por cada municipio \n",
    "#diferencias de precios en la misma zona\n",
    "\n"
   ]
  },
  {
   "cell_type": "markdown",
   "metadata": {},
   "source": [
    "## Visualización del dataset"
   ]
  },
  {
   "cell_type": "code",
   "execution_count": null,
   "metadata": {},
   "outputs": [],
   "source": [
    "# Visualización de la forma y atributos del dataset\n",
    "data = pd.read_csv(\"./data/data_limpio_gdf.csv\")\n",
    "print(data.shape)\n",
    "print(\"El dataset está compuesto por:\", data.shape[0], \"filas y\",data.shape[1],\"columnas.\")\n",
    "data.sample(5)"
   ]
  },
  {
   "cell_type": "markdown",
   "metadata": {},
   "source": [
    "### Descripción de las columnas del dataset limpio:\n",
    "\n",
    "Las columnas que incluye son:\n",
    "\n",
    "● municipio: ubicacion del inmueble por su municipio/barrios\n",
    "\n",
    "● provincia: ubicacion del inmueble por provincia\n",
    "\n",
    "● lat  ●lon: ubicacion de latitud y longitud\n",
    "\n",
    "● superficie_m2_total: superficie total en m² del inmueble\n",
    "\n",
    "● price_usd: Precio en dolares del inmueble\n",
    "\n",
    "● tipo: tipo de inmueble en venta (casa, departamento, ph, tienda)\n",
    "\n",
    "● ambientes_cat: cantidad de ambientes del inmueble (0, 1, 2, 3 , 4 o más)\n",
    "\n",
    "● precio_usd_por_m2: Precio en dolares por metro cuadrado (USD/m²: precio dólares / superficie)\n",
    "\n",
    "● tipo_cat_code: categoria numerica de tipo de inmueble\n",
    "\n",
    "● municipio_cat_code: categoria numerica de municipios\n",
    "\n",
    "● provincia_cat_code: categoria numerica de provincia\n",
    "\n",
    "● tipo_cat_code: categoria numerica de ambientes_cat\n",
    "\n",
    "● geometry: figura geometrica de latitud y la longitud\n",
    "\n",
    "● country_name: nombre del país donde ocurre la operacion inmobiliaría\n",
    "\n",
    "● **precio_usd_por_m2_cat: categoria numerica de precio_usd_por_m2**"
   ]
  },
  {
   "cell_type": "markdown",
   "metadata": {},
   "source": [
    "# Analisis exploratorio y visualizacion de correlaciones entre las variables"
   ]
  },
  {
   "cell_type": "code",
   "execution_count": null,
   "metadata": {},
   "outputs": [],
   "source": [
    "#Revisamos la presencia de datos NaN\n",
    "data.isna().sum().sort_values()\n",
    "#La columna \"ambientes_cat\" quedó con 1248 registros nulos"
   ]
  },
  {
   "cell_type": "code",
   "execution_count": null,
   "metadata": {},
   "outputs": [],
   "source": [
    "#reviso donde están ubicados y a que propiedad pertenecen los registros nulos para saber si afectaran escoger un tipo de inmueble y su zona\n",
    "mascara_nulos = data[\"ambientes_cat\"].astype(str) == \"nan\" \n",
    "data_nulos = data[mascara_nulos]\n",
    "data_nulos.loc[:, [\"municipio\", 'tipo', 'ambientes_cat', \"precio_usd\"]].sample(7)\n",
    "#print(data[mascara_nulos].index)"
   ]
  },
  {
   "cell_type": "code",
   "execution_count": null,
   "metadata": {},
   "outputs": [],
   "source": [
    "#agrupamos los registros donde hay nulos\n",
    "pd.options.display.max_rows = None\n",
    "data_nulos.groupby([\"tipo\"])[\"municipio\"].value_counts().sort_values(ascending=False)\n",
    "#vemos que los nan están distribuidos equitativamente y no están concentrados en una mismo municipio"
   ]
  },
  {
   "cell_type": "code",
   "execution_count": null,
   "metadata": {},
   "outputs": [],
   "source": [
    "#Los elimino p\n",
    "data.dropna(subset=['ambientes_cat'], inplace=True)\n",
    "print(data.isna().sum())"
   ]
  },
  {
   "cell_type": "code",
   "execution_count": null,
   "metadata": {},
   "outputs": [],
   "source": [
    "#Realizamos una descripcion estadistica del dataset\n",
    "data.describe()\n",
    "#existen datos que no permiten ver los estadisticos ya que hay valores de 0 en sup_m2_total e inf en precio_usd_por_m2: eliminarlos"
   ]
  },
  {
   "cell_type": "code",
   "execution_count": null,
   "metadata": {},
   "outputs": [],
   "source": [
    "#eliminamos del dataset los registros de sup_m2_total con valores de cero\n",
    "data.drop(data[(data[\"sup_m2_total\"] ==0)].index, inplace=True ,axis=0)\n",
    "\n",
    "# Registros con valor cero en sup_m2_total\n",
    "# row_ceros = data[(data[\"sup_m2_total\"] ==0)].index\n",
    "# data = data.drop(index=row_ceros)\n",
    "\n",
    "# #import math\n",
    "# #data[(data[\"precio_usd_por_m2\"] == math.inf)].index\n",
    "#son los mismos registros que para sup_m2_total"
   ]
  },
  {
   "cell_type": "code",
   "execution_count": null,
   "metadata": {},
   "outputs": [],
   "source": [
    "data.describe()"
   ]
  },
  {
   "cell_type": "code",
   "execution_count": null,
   "metadata": {},
   "outputs": [],
   "source": [
    "#Vemos la correlacion entre las variables \n",
    "data_corr = data.corr()\n",
    "#graficamos\n",
    "plt.figure(figsize=(6,6))\n",
    "sns.heatmap(data_corr, annot=True, fmt=\".2f\", cmap=\"coolwarm\")\n",
    "plt.title(\"Correlación entre variables\")\n",
    "plt.show()\n",
    "\n",
    "#puede verse una correlacion significativa entre sup_m2_total y precio_usd (0.39)\n",
    "#tipo_cat_code / ambientes_cat_code y  precio_usd (0.30)\n",
    "#precio_usd_por_m2_cat y lon"
   ]
  },
  {
   "cell_type": "code",
   "execution_count": null,
   "metadata": {},
   "outputs": [],
   "source": [
    "#graficamos las provincias y municipios que contengan un valor minimo de 500 registros por municipio (para una mejor vsisualizacion)\n",
    "limite = 500\n",
    "data = data.copy().groupby(['municipio']).filter(lambda grp: grp.shape[0] > limite)"
   ]
  },
  {
   "cell_type": "code",
   "execution_count": null,
   "metadata": {},
   "outputs": [],
   "source": [
    "fig= plt.subplots(figsize=(20,20),constrained_layout=True)\n",
    "grid = gridspec.GridSpec(2, 1, height_ratios=[1, 3])\n",
    "\n",
    "ax1=plt.subplot(grid[0])\n",
    "sns.countplot(data=data,y=\"provincia\",order=data[\"provincia\"].value_counts().index ,ax=ax1,color=\"g\")\n",
    "\n",
    "ax1.set_yticklabels(ax1.get_yticklabels(),fontsize=\"medium\")\n",
    "ax1.set_title(\"Distribucion de registros segun la provincia\", fontsize= 'large')\n",
    "\n",
    "ax2=plt.subplot(grid[1])\n",
    "sns.countplot(data=data,x=\"municipio\",order=data[\"municipio\"].value_counts().index,ax=ax2,color=\"b\")\n",
    "\n",
    "\n",
    "ax2.set_title(\"Distribucion de registros segun los municipios\", fontsize= 'large')\n",
    "ax2.set_xticklabels(ax2.get_xticklabels(),rotation=90,ha=\"right\")\n",
    "plt.xticks(fontsize= 10)\n",
    "plt.yticks(fontsize= 10)\n",
    "ax1.grid()\n",
    "ax2.grid()\n",
    "plt.show()"
   ]
  },
  {
   "cell_type": "markdown",
   "metadata": {},
   "source": [
    "La mayor cantidad de registros están Capital Federal para los barrios de Palermo, Belgrano, Caballito..\n",
    "Consideraremos Capital Federal para la evaluación de los modelos "
   ]
  },
  {
   "cell_type": "code",
   "execution_count": null,
   "metadata": {},
   "outputs": [],
   "source": [
    "#Revisamos la distribucion de registros por tipo de inmueble\n",
    "plt.figure(figsize=(5,3))\n",
    "\n",
    "plt.gca().yaxis.set_major_formatter(ScalarFormatter())\n",
    "ax = sns.countplot(data = data, x = \"tipo\")\n",
    "ax.set_xticklabels(ax.get_xticklabels(),rotation=40,ha=\"right\")\n",
    "plt.show()\n",
    "\n",
    "#Apartamentos tiene la mayoria de los datos"
   ]
  },
  {
   "cell_type": "markdown",
   "metadata": {},
   "source": [
    "Consideraremos apartamentos para la evaluacion de los modelos"
   ]
  },
  {
   "cell_type": "code",
   "execution_count": null,
   "metadata": {},
   "outputs": [],
   "source": [
    "#Revisamos la ubicacion de los los tipos de inmueble que contienen la mayor cantidad de registros\n",
    "pd.options.display.max_rows = None\n",
    "data.groupby([\"municipio\"])[\"tipo\"].value_counts().sort_values(ascending=False)"
   ]
  },
  {
   "cell_type": "markdown",
   "metadata": {},
   "source": [
    "## Correlacion entre la variables del dataset"
   ]
  },
  {
   "cell_type": "code",
   "execution_count": null,
   "metadata": {},
   "outputs": [],
   "source": [
    "figz= plt.figure()\n",
    "mask_cols= [\"tipo\",\"sup_m2_total\",\"precio_usd\",\"precio_usd_por_m2\", \"ambientes_cat\", \"municipio_cat_code\", \"ambientes_cat_code\",\"lat\"]\n",
    "graph=sns.pairplot(data[mask_cols],hue=\"tipo\")\n",
    "graph.fig.set_size_inches(20,10)\n",
    "plt.grid()\n",
    "plt.show()\n"
   ]
  },
  {
   "cell_type": "code",
   "execution_count": null,
   "metadata": {},
   "outputs": [],
   "source": [
    "# data_2 = data[[\"tipo\",\"sup_m2_total\",\"precio_usd\",\"precio_usd_por_m2\", \"ambientes_cat\", \"municipio_cat_code\", \"ambientes_cat_code\",\"lat\"]]\n",
    "# # g = sns.PairGrid(data_2, hue=\"tipo\")\n",
    "# g.map(sns.scatterplot)\n",
    "# g.add_legend()"
   ]
  },
  {
   "cell_type": "code",
   "execution_count": null,
   "metadata": {},
   "outputs": [],
   "source": [
    "# Realizamos los siguientes graficos para visualizar mejor (zoom) las relaciones\n",
    "g = sns.FacetGrid(data, col=\"tipo\")\n",
    "g.map(sns.scatterplot, \"sup_m2_total\", \"precio_usd\", alpha=.5)\n",
    "g.add_legend()\n",
    "\n",
    "#"
   ]
  },
  {
   "cell_type": "code",
   "execution_count": null,
   "metadata": {},
   "outputs": [],
   "source": [
    "# data= data[(data[\"precio_usd\"] >100) & (data[\"precio_usd\"]<= 4.500000e+05)]\n",
    "# data= data[(data[\"precio_usd_por_m2\"] > 100) & (data[\"precio_usd_por_m2\"]<= 2.500000e+04)]\n",
    "g = sns.FacetGrid(data, col=\"tipo\")\n",
    "g.map(sns.scatterplot, \"sup_m2_total\", \"precio_usd_por_m2\", alpha=.5)\n",
    "g.add_legend()"
   ]
  },
  {
   "cell_type": "code",
   "execution_count": null,
   "metadata": {},
   "outputs": [],
   "source": [
    "g = sns.FacetGrid(data, col=\"tipo\")\n",
    "g.map(sns.scatterplot, \"precio_usd_por_m2\", \"precio_usd\", alpha=.7)\n",
    "g.add_legend()"
   ]
  },
  {
   "cell_type": "code",
   "execution_count": null,
   "metadata": {},
   "outputs": [],
   "source": [
    "g = sns.FacetGrid(data, col=\"tipo\")\n",
    "g.map(sns.scatterplot, \"municipio_cat_code\", \"precio_usd\", alpha=.7)\n",
    "g.add_legend()"
   ]
  },
  {
   "cell_type": "code",
   "execution_count": null,
   "metadata": {},
   "outputs": [],
   "source": [
    "g = sns.FacetGrid(data, col=\"tipo\")\n",
    "g.map(sns.scatterplot, \"ambientes_cat_code\", \"precio_usd\", alpha=.7)\n",
    "g.add_legend()"
   ]
  },
  {
   "cell_type": "code",
   "execution_count": null,
   "metadata": {},
   "outputs": [],
   "source": [
    "# masc_dep = data[data[\"tipo\"]==\"apartment\"]\n",
    "# sns.scatterplot(data=masc_dep, x='sup_m2_total', y='precio_usd', palette=\"deep\")\n",
    "# plt.grid()\n",
    "# plt.show()"
   ]
  },
  {
   "cell_type": "code",
   "execution_count": null,
   "metadata": {},
   "outputs": [],
   "source": [
    "# manf_sort = pd.get_dummies(data['ambientes_cat_code']).sum().sort_values(ascending = False)\n",
    "# plt.figure(figsize=(5,5))\n",
    "# sns.barplot(x = manf_sort.index, y = manf_sort.values)\n",
    "# plt.show()"
   ]
  },
  {
   "cell_type": "code",
   "execution_count": null,
   "metadata": {},
   "outputs": [],
   "source": [
    "# manf_sort = pd.get_dummies(data['ambientes_cat']).sum().sort_values(ascending = False)\n",
    "# plt.figure(figsize=(5,5))\n",
    "# sns.barplot(x = manf_sort.index, y = manf_sort.values)\n",
    "\n",
    "# plt.show()"
   ]
  },
  {
   "cell_type": "code",
   "execution_count": null,
   "metadata": {},
   "outputs": [],
   "source": [
    "#masc_barrio = data[data[\"municipio\"]==\"Almagro\"]\n",
    "#sns.scatterplot(data=masc_barrio, x='sup_m2_total', y='precio_usd', palette=\"deep\")\n",
    "#plt.grid()\n",
    "#plt.show()"
   ]
  },
  {
   "cell_type": "code",
   "execution_count": null,
   "metadata": {},
   "outputs": [],
   "source": [
    "# masc_barrio = data[data[\"municipio\"]==\"Almagro\"]\n",
    "# sns.set_style('darkgrid')\n",
    "# plt.figure(figsize=(6, 4))\n",
    "# sns.boxplot(data=masc_barrio, x= \"tipo\", y=\"sup_m2_total\")\n",
    "\n",
    "# plt.xlabel(\"tipo\")\n",
    "# plt.ylabel(\"sup_m2_total\")\n",
    "# plt.title(\"Superficie total por tipo de inmueble \")"
   ]
  },
  {
   "cell_type": "code",
   "execution_count": null,
   "metadata": {},
   "outputs": [],
   "source": [
    "# masc_barrio = data[data[\"municipio\"]==\"Almagro\"]\n",
    "# sns.set_style('darkgrid')\n",
    "# plt.figure(figsize=(6, 4))\n",
    "# sns.boxplot(data=masc_barrio, x= \"tipo\", y=\"precio_usd_por_m2\")\n",
    "\n",
    "# plt.xlabel(\"tipo\")\n",
    "# plt.ylabel(\"precio_usd_por_m2\")\n",
    "# plt.title(\"Precio/m2 por tipo de inmueble \")"
   ]
  },
  {
   "cell_type": "code",
   "execution_count": null,
   "metadata": {},
   "outputs": [],
   "source": [
    "# masc_barrio = data[data[\"municipio\"]==\"Lomas de Zamora\"]\n",
    "# sns.scatterplot(data=masc_barrio, x='sup_m2_total', y='precio_usd', palette=\"deep\")\n",
    "# plt.grid()\n",
    "# plt.show()"
   ]
  },
  {
   "cell_type": "code",
   "execution_count": null,
   "metadata": {},
   "outputs": [],
   "source": [
    "#mostramos un boxplot para los outliers por tipo de propiedad\n",
    "data.boxplot(column= \"precio_usd\", by=\"tipo\") \n",
    "plt.show()"
   ]
  },
  {
   "cell_type": "code",
   "execution_count": null,
   "metadata": {},
   "outputs": [],
   "source": [
    "#la variable target debe tener una distribucion cercana a la normal"
   ]
  },
  {
   "cell_type": "code",
   "execution_count": null,
   "metadata": {},
   "outputs": [],
   "source": [
    "#de acuerdo con los valores minimos y maximos realizamos un histograma para ver la distrubicón de datos de precio_usd\n",
    "data= data[(data[\"precio_usd\"] >10000) & (data[\"precio_usd\"]<= 4.500000e+05)]\n",
    "sns.histplot(data[\"precio_usd\"], color = \"orange\", bins = 40)"
   ]
  },
  {
   "cell_type": "code",
   "execution_count": null,
   "metadata": {},
   "outputs": [],
   "source": [
    "#de acuerdo con los valores minimos y maximos realizamos un histograma para ver la distrubicón de datos de superficie total\n",
    "data= data[(data[\"sup_m2_total\"] >10) & (data[\"sup_m2_total\"]<= 400)]\n",
    "sns.histplot(data[\"sup_m2_total\"], color = \"green\", bins = 40)"
   ]
  },
  {
   "cell_type": "code",
   "execution_count": null,
   "metadata": {},
   "outputs": [],
   "source": [
    "data= data[(data[\"precio_usd_por_m2\"] >10) & (data[\"precio_usd_por_m2\"]<= 2.812500e+03)]\n",
    "sns.histplot(data[\"precio_usd_por_m2\"], color = \"blue\", bins = 20)\n"
   ]
  },
  {
   "cell_type": "code",
   "execution_count": null,
   "metadata": {},
   "outputs": [],
   "source": [
    "data.boxplot(column= \"precio_usd\", by=\"tipo\") \n",
    "plt.show()"
   ]
  },
  {
   "cell_type": "code",
   "execution_count": null,
   "metadata": {},
   "outputs": [],
   "source": [
    "\n",
    "#sns.histplot(data['ambientes_cat'], bins = 5);"
   ]
  },
  {
   "cell_type": "code",
   "execution_count": null,
   "metadata": {},
   "outputs": [],
   "source": [
    "#masc_barrio = data[data[\"municipio\"]==\"Tigre\"]\n",
    "#sns.scatterplot(data=masc_barrio, x='sup_m2_total', y='precio_usd', palette=\"deep\")\n",
    "#plt.grid()\n",
    "#plt.show()"
   ]
  },
  {
   "cell_type": "markdown",
   "metadata": {},
   "source": [
    "Conclusiones de la visualizacion de distribuciones:\n",
    "- La mayor cantidad de registros están Capital Federal para los barrios de Palermo, Belgrano, Caballito..\n",
    "    Consideraremos Capital Federal para la evaluación de los modelos \n",
    "- Utilizaremos departamentos como el tipo de inmueble a modelar por contener una mayor cantidad de datos"
   ]
  },
  {
   "cell_type": "markdown",
   "metadata": {},
   "source": [
    "# Analisis inicial de regresiones sobre el dataset"
   ]
  },
  {
   "cell_type": "markdown",
   "metadata": {},
   "source": [
    "## Regresión lineal simple"
   ]
  },
  {
   "cell_type": "code",
   "execution_count": null,
   "metadata": {},
   "outputs": [],
   "source": [
    "#Iniciamos con un barrio de Capital Federal con una cantidad de registros mayor a 500 para ver como resulta el modelo\n",
    "# data_Caballito = data[data['municipio'] == 'Caballito']\n",
    "# data_Caballito.to_csv('./data/data_limpio_gdf_caballito.csv', index=False)"
   ]
  },
  {
   "cell_type": "code",
   "execution_count": null,
   "metadata": {},
   "outputs": [],
   "source": [
    "df = pd.read_csv('./data/data_limpio_gdf_caballito.csv')"
   ]
  },
  {
   "cell_type": "code",
   "execution_count": null,
   "metadata": {},
   "outputs": [],
   "source": [
    "# Asignamos la variable a predecir\n",
    "y = df['precio_usd']\n",
    "# Asignamos la variable predictora\n",
    "X_simple = df[['sup_m2_total']]\n",
    "\n",
    "# Dividimos el dataset en train y test\n",
    "\n",
    "X_train, X_test, y_train, y_test = train_test_split(X_simple, y, test_size=0.2, random_state=42)\n",
    "\n",
    "# Instanciamos el modelo y lo entrenamos\n",
    "\n",
    "lr = linear_model.LinearRegression()\n",
    "lr.fit(X_train, y_train)"
   ]
  },
  {
   "cell_type": "code",
   "execution_count": null,
   "metadata": {},
   "outputs": [],
   "source": [
    "# Guardamos  las predicciones en un nuevo vector que llamaremos predictions.\n",
    "predictions = lr.predict(X_simple)"
   ]
  },
  {
   "cell_type": "code",
   "execution_count": null,
   "metadata": {},
   "outputs": [],
   "source": [
    "from sklearn import linear_model\n",
    "from sklearn.metrics import mean_squared_error, r2_score\n",
    "from sklearn.model_selection import train_test_split"
   ]
  },
  {
   "cell_type": "code",
   "execution_count": null,
   "metadata": {},
   "outputs": [],
   "source": [
    "# Imprimimos el intercepto y los coeficientes como atributos del objeto entrenado.\n",
    "print ('Intercepto=', ' ', lr.intercept_)\n",
    "print ('sup_m2_total=', ' ', lr.coef_)\n",
    "# imprimos la metrica que mide la bondad de ajusto del modelo. En este caso el R2.\n",
    "print ('R2_train=', ' ', lr.score(X_train, y_train))\n",
    "print ('R2_test=', ' ', lr.score(X_test, y_test))\n",
    "print (\"EMC:\", mean_squared_error(y, predictions))\n",
    "print (\"r_EMC:\", np.sqrt(mean_squared_error(y, predictions)))"
   ]
  },
  {
   "cell_type": "code",
   "execution_count": null,
   "metadata": {},
   "outputs": [],
   "source": [
    "# # Generamos una función que resume los coeficientes, el intercepto y el R2\n",
    "# # \"model\" = objeto con el modelo\n",
    "# # \"X\" = matrix de variables independientes\n",
    "\n",
    "# def sum_mod(lr, X):\n",
    "#     a = pd.DataFrame(lr.coef_ , X_simple.columns.values)\n",
    "#     a = a.append(pd.DataFrame([lr.intercept_, lr.score(X_simple, y)], index=['Intecept','R2']))\n",
    "#     return(a)"
   ]
  },
  {
   "cell_type": "code",
   "execution_count": null,
   "metadata": {},
   "outputs": [],
   "source": [
    "# Graficamos la variable X contra la variable Y\n",
    "plt.scatter(X_simple, y, s=30, c='black', marker='+', zorder=10)\n",
    "plt.scatter(X_simple, y)\n",
    "plt.xlabel(\"sup_m2_total\")\n",
    "plt.ylabel(\"Valores reales precio_usd_por_m2\")\n",
    "plt.title('Relación entre sup_m2_total y precio_usd_por_m2')\n",
    "plt.show()\n",
    "\n",
    "# Graficamos el modelo\n",
    "plt.plot(y,y, '-.',c='grey')\n",
    "plt.scatter(predictions, y, s=30, c='r', marker='+', zorder=10)\n",
    "plt.xlabel(\"Predicciones de precio_usd_por_m2 usando sup_m2_total\")\n",
    "plt.ylabel(\"Valores reales precio_usd_por_m2\")\n",
    "plt.title('Comparación entre el modelo y los valores reales de precio_usd_por_m2')\n",
    "plt.show()"
   ]
  },
  {
   "cell_type": "code",
   "execution_count": null,
   "metadata": {},
   "outputs": [],
   "source": [
    "#Solo para departamentos"
   ]
  },
  {
   "cell_type": "code",
   "execution_count": null,
   "metadata": {},
   "outputs": [],
   "source": [
    "tipo_dept = [\"apartment\"]\n",
    "df_2 = df[df[\"tipo\"].isin(tipo_dept)]"
   ]
  },
  {
   "cell_type": "code",
   "execution_count": null,
   "metadata": {},
   "outputs": [],
   "source": [
    "# Asignamos la variable a predecir\n",
    "y = df_2['precio_usd']"
   ]
  },
  {
   "cell_type": "code",
   "execution_count": null,
   "metadata": {},
   "outputs": [],
   "source": [
    "# Asignamos la variable predictora\n",
    "X_2 = df_2[['sup_m2_total']]"
   ]
  },
  {
   "cell_type": "code",
   "execution_count": null,
   "metadata": {},
   "outputs": [],
   "source": [
    "# Dividimos el dataset en train y test\n",
    "\n",
    "X_train, X_test, y_train, y_test = train_test_split(X_2, y, test_size=0.2, random_state=42)"
   ]
  },
  {
   "cell_type": "code",
   "execution_count": null,
   "metadata": {},
   "outputs": [],
   "source": [
    "# Instanciamos el modelo y lo entrenamos\n",
    "\n",
    "lr = linear_model.LinearRegression()\n",
    "lr.fit(X_train, y_train)"
   ]
  },
  {
   "cell_type": "code",
   "execution_count": null,
   "metadata": {},
   "outputs": [],
   "source": [
    "# Guardamos  las predicciones en un nuevo vector que llamaremos predictions.\n",
    "predictions = lr.predict(X_2)"
   ]
  },
  {
   "cell_type": "code",
   "execution_count": null,
   "metadata": {},
   "outputs": [],
   "source": [
    "# Imprimimos el intercepto y los coeficientes como atributos del objeto entrenado.\n",
    "print ('Intercepto=', ' ', lr.intercept_)\n",
    "print ('sup_m2_total=', ' ', lr.coef_)\n",
    "# imprimos la metrica que mide la bondad de ajusto del modelo. En este caso el R2.\n",
    "print ('R2_train=', ' ', lr.score(X, y))\n",
    "print ('R2_train=', ' ', lr.score(X_train, y_train))\n",
    "print ('R2_test=', ' ', lr.score(X_test, y_test))\n",
    "print (\"EMC:\", mean_squared_error(y, predictions))\n",
    "print (\"r_EMC:\", np.sqrt(mean_squared_error(y, predictions)))"
   ]
  },
  {
   "cell_type": "code",
   "execution_count": null,
   "metadata": {},
   "outputs": [],
   "source": [
    "# Graficamos la variable X contra la variable Y\n",
    "plt.scatter(X, y, s=30, c='black', marker='+', zorder=10)\n",
    "plt.scatter(X, y)\n",
    "plt.xlabel(\"sup_m2_total\")\n",
    "plt.ylabel(\"Valores reales precio_usd_por_m2\")\n",
    "plt.title('Relación entre sup_m2_total y precio_usd_por_m2')\n",
    "plt.show()\n",
    "\n",
    "# Graficamos el modelo\n",
    "plt.plot(y,y, '-.',c='grey')\n",
    "plt.scatter(predictions, y, s=30, c='r', marker='+', zorder=10)\n",
    "plt.xlabel(\"Predicciones de precio_usd_por_m2 usando sup_m2_total\")\n",
    "plt.ylabel(\"Valores reales precio_usd_por_m2\")\n",
    "plt.title('Comparación entre el modelo y los valores reales de precio_usd_por_m2')\n",
    "plt.show()"
   ]
  },
  {
   "cell_type": "code",
   "execution_count": null,
   "metadata": {},
   "outputs": [],
   "source": [
    "#revisamos la estadisticos de media, desviacion y rangos intercuartilicos\n",
    "#df_2[[\"precio_usd_por_m2\", \"sup_m2_total\" ]].describe()"
   ]
  },
  {
   "cell_type": "code",
   "execution_count": null,
   "metadata": {},
   "outputs": [],
   "source": [
    "#vamos a verificar cuales son los datos que se encuentran por encima del tercer quartil y buscamos los limites superiores e inferiores\n",
    "#para determinar que registros pueden considerarse extremos\n",
    "#q1, q2, q3 = df_2[\"sup_m2_total\"].quantile([0.25, 0.50, 0.75])\n",
    "#print(\"Q1:\", q1,\"\\nq2:\", q2,\"\\nq3:\", q3 )"
   ]
  },
  {
   "cell_type": "code",
   "execution_count": null,
   "metadata": {},
   "outputs": [],
   "source": [
    "#para surface_total_in_m2 hayamos el limite superior: aplicamos la formula de calcular el rango intercuartilico y luego el valor superior\n",
    "#iqr = q3-q1\n",
    "#ls = q3 + 1.5*iqr\n",
    "#print(\"El limite superior para considerar un outlier en superficie_m2_total es:\", ls)"
   ]
  },
  {
   "cell_type": "code",
   "execution_count": null,
   "metadata": {},
   "outputs": [],
   "source": [
    "# li = q1 - 1.5*iqr\n",
    "# print(\"El limite inferior para considerar un outlier en superficie_m2_total es:\", li)"
   ]
  },
  {
   "cell_type": "code",
   "execution_count": null,
   "metadata": {},
   "outputs": [],
   "source": [
    "#aplicamos el metodo query para consultar que campos son los que cumplen con tener valores por encima del limite superior \n",
    "#datos_outliers_ls = \n",
    "#df_2.query(\"sup_m2_total > @ls\").sample(4)\n",
    "#vemos que estos valores extremos pertenecen a casas en zonas rurales por lo cuall tiene sentido sus superficie\n"
   ]
  },
  {
   "cell_type": "code",
   "execution_count": null,
   "metadata": {},
   "outputs": [],
   "source": [
    "#limite_superior = 120\n",
    "#masc_sup_m2_limite = df_2[\"sup_m2_total\"] < limite_superior\n",
    "#df_2.loc[masc_sup_m2_limite].head(4)"
   ]
  },
  {
   "cell_type": "code",
   "execution_count": null,
   "metadata": {},
   "outputs": [],
   "source": [
    "#df_3 = df_2.loc[masc_sup_m2_limite]"
   ]
  },
  {
   "cell_type": "code",
   "execution_count": null,
   "metadata": {},
   "outputs": [],
   "source": [
    "#df_3[[\"precio_usd_por_m2\", \"sup_m2_total\" ]].describe()"
   ]
  },
  {
   "cell_type": "code",
   "execution_count": null,
   "metadata": {},
   "outputs": [],
   "source": [
    "# Asignamos la variable a predecir\n",
    "#y = df_3['precio_usd_por_m2']"
   ]
  },
  {
   "cell_type": "code",
   "execution_count": null,
   "metadata": {},
   "outputs": [],
   "source": [
    "# Asignamos la variable predictora\n",
    "#X = df_3[['sup_m2_total']]"
   ]
  },
  {
   "cell_type": "code",
   "execution_count": null,
   "metadata": {},
   "outputs": [],
   "source": [
    "# Dividimos el dataset en train y test\n",
    "\n",
    "#X_train, X_test, y_train, y_test = train_test_split(X, y, test_size=0.2, random_state=42)"
   ]
  },
  {
   "cell_type": "code",
   "execution_count": null,
   "metadata": {},
   "outputs": [],
   "source": [
    "# Instanciamos el modelo y lo entrenamos\n",
    "\n",
    "#lr = linear_model.LinearRegression()\n",
    "#lr.fit(X_train, y_train)"
   ]
  },
  {
   "cell_type": "code",
   "execution_count": null,
   "metadata": {},
   "outputs": [],
   "source": [
    "# Guardamos  las predicciones en un nuevo vector que llamaremos predictions.\n",
    "#predictions = lr.predict(X)"
   ]
  },
  {
   "cell_type": "code",
   "execution_count": null,
   "metadata": {},
   "outputs": [],
   "source": [
    "# Imprimimos el intercepto y los coeficientes como atributos del objeto entrenado.\n",
    "#print ('Intercepto=', ' ', lr.intercept_)\n",
    "#print ('sup_m2_total=', ' ', lr.coef_)\n",
    "# imprimos la metrica que mide la bondad de ajusto del modelo. En este caso el R2.\n",
    "#print ('R2_train=', ' ', lr.score(X, y))"
   ]
  },
  {
   "cell_type": "code",
   "execution_count": null,
   "metadata": {},
   "outputs": [],
   "source": []
  },
  {
   "cell_type": "markdown",
   "metadata": {},
   "source": [
    "## Regresión lineal múltiple"
   ]
  },
  {
   "cell_type": "code",
   "execution_count": null,
   "metadata": {},
   "outputs": [],
   "source": [
    "# Asignamos las variables predictoras\n",
    "\n",
    "X_3 = df_2[['lat', 'lon', 'sup_m2_total']]\n",
    "\n",
    "y = df_2['precio_usd']\n"
   ]
  },
  {
   "cell_type": "code",
   "execution_count": null,
   "metadata": {},
   "outputs": [],
   "source": [
    "# Normalizamos los datos\n",
    "\n",
    "scaler = StandardScaler()\n",
    "scaler.fit(X)\n",
    "X_3 = scaler.transform(X)\n"
   ]
  },
  {
   "cell_type": "code",
   "execution_count": null,
   "metadata": {},
   "outputs": [],
   "source": [
    "# Dividimos en train y test\n",
    "\n",
    "X_train_2, X_test_2, y_train_2, y_test_2 = train_test_split(X_3, y, test_size=0.2, random_state=42)"
   ]
  },
  {
   "cell_type": "code",
   "execution_count": null,
   "metadata": {},
   "outputs": [],
   "source": [
    "# Instanciamos el modelo y lo entrenamos\n",
    "\n",
    "lr_2= linear_model.LinearRegression()\n",
    "lr_2.fit(X_train_2, y_train_2)\n"
   ]
  },
  {
   "cell_type": "code",
   "execution_count": null,
   "metadata": {},
   "outputs": [],
   "source": [
    "# Vemos los coeficientes\n",
    "\n",
    "print('Coeficientes: ', lr_2.coef_)\n",
    "print('Intercepto: ', lr_2.intercept_)"
   ]
  },
  {
   "cell_type": "code",
   "execution_count": null,
   "metadata": {},
   "outputs": [],
   "source": [
    "# Calculamos el R2\n",
    "\n",
    "print('R2: ', r2_score(y_test_2, lr_2.predict(X_test_2)))\n"
   ]
  },
  {
   "cell_type": "code",
   "execution_count": null,
   "metadata": {},
   "outputs": [],
   "source": [
    "# Modelamos con statsmodels\n",
    "\n",
    "X_train_sm = sm.add_constant(X_train_2)\n",
    "model = sm.OLS(y_train_2, X_train_sm).fit()\n",
    "\n",
    "print(model.summary())"
   ]
  },
  {
   "cell_type": "code",
   "execution_count": null,
   "metadata": {},
   "outputs": [],
   "source": [
    "# Probamos con regularización ridge\n",
    "\n",
    "lm_ridge = linear_model.RidgeCV(alphas=np.logspace(-6, 6, 13))\n",
    "\n",
    "model_ridge = lm_ridge.fit(X_train_2, y_train_2)\n",
    "\n",
    "print(lm_ridge.alpha_)\n",
    "print(lm_ridge.coef_)\n",
    "print(lm_ridge.intercept_)"
   ]
  },
  {
   "cell_type": "code",
   "execution_count": null,
   "metadata": {},
   "outputs": [],
   "source": [
    "model_ridge.score(X_test_2, y_test_2)"
   ]
  },
  {
   "cell_type": "code",
   "execution_count": null,
   "metadata": {},
   "outputs": [],
   "source": [
    "# Probamos con regularización lasso\n",
    "\n",
    "lm_lasso = linear_model.LassoCV(alphas=np.logspace(-6, 6, 13), cv=5)\n",
    "\n",
    "model_lasso = lm_lasso.fit(X_train_2, y_train_2)\n",
    "\n",
    "print(lm_lasso.alpha_)\n",
    "print(lm_lasso.coef_)\n",
    "\n",
    "print(lm_lasso.intercept_)"
   ]
  },
  {
   "cell_type": "code",
   "execution_count": null,
   "metadata": {},
   "outputs": [],
   "source": [
    "model_lasso.score(X_test_2, y_test_2)"
   ]
  },
  {
   "cell_type": "code",
   "execution_count": null,
   "metadata": {},
   "outputs": [],
   "source": []
  },
  {
   "cell_type": "code",
   "execution_count": null,
   "metadata": {},
   "outputs": [],
   "source": [
    "dummy = pd.get_dummies(df_2['ambientes_cat'], drop_first=True)\n",
    "dummy.head()"
   ]
  },
  {
   "cell_type": "code",
   "execution_count": null,
   "metadata": {},
   "outputs": [],
   "source": [
    "df_3 = pd.concat([df_2[\"sup_m2_total\"],dummy],axis=1)\n",
    "df_3.head(4)"
   ]
  },
  {
   "cell_type": "code",
   "execution_count": null,
   "metadata": {},
   "outputs": [],
   "source": [
    "# Asignamos las variables predictoras\n",
    "\n",
    "X = df_3\n",
    "\n",
    "\n",
    "y = df_2['precio_usd']\n"
   ]
  },
  {
   "cell_type": "code",
   "execution_count": null,
   "metadata": {},
   "outputs": [],
   "source": [
    "# Normalizamos los datos\n",
    "\n",
    "scaler = StandardScaler()\n",
    "scaler.fit(X)\n",
    "X = scaler.transform(X)\n"
   ]
  },
  {
   "cell_type": "code",
   "execution_count": null,
   "metadata": {},
   "outputs": [],
   "source": [
    "# Dividimos en train y test\n",
    "\n",
    "X_train, X_test, y_train, y_test = train_test_split(X, y, test_size=0.2, random_state=42)"
   ]
  },
  {
   "cell_type": "code",
   "execution_count": null,
   "metadata": {},
   "outputs": [],
   "source": [
    "# Instanciamos el modelo y lo entrenamos\n",
    "\n",
    "lr = linear_model.LinearRegression()\n",
    "lr.fit(X_train, y_train)\n"
   ]
  },
  {
   "cell_type": "code",
   "execution_count": null,
   "metadata": {},
   "outputs": [],
   "source": [
    "# Vemos los coeficientes\n",
    "\n",
    "print('Coeficientes: ', lr.coef_)\n",
    "print('Intercepto: ', lr.intercept_)"
   ]
  },
  {
   "cell_type": "code",
   "execution_count": null,
   "metadata": {},
   "outputs": [],
   "source": [
    "# Calculamos el R2\n",
    "\n",
    "print('R2: ', r2_score(y_test, lr.predict(X_test)))\n"
   ]
  },
  {
   "cell_type": "code",
   "execution_count": null,
   "metadata": {},
   "outputs": [],
   "source": [
    "# Modelamos con statsmodels\n",
    "\n",
    "X_train_sm = sm.add_constant(X_train)\n",
    "model = sm.OLS(y_train, X_train_sm).fit()\n",
    "\n",
    "model.summary()"
   ]
  },
  {
   "cell_type": "code",
   "execution_count": null,
   "metadata": {},
   "outputs": [],
   "source": [
    "# Probamos con regularización ridge\n",
    "\n",
    "lm_ridge = linear_model.RidgeCV(alphas=np.logspace(-6, 6, 13))\n",
    "\n",
    "model_ridge = lm_ridge.fit(X_train, y_train)\n",
    "\n",
    "lm_ridge.alpha_"
   ]
  },
  {
   "cell_type": "code",
   "execution_count": null,
   "metadata": {},
   "outputs": [],
   "source": [
    "model_ridge.score(X_test, y_test)"
   ]
  },
  {
   "cell_type": "code",
   "execution_count": null,
   "metadata": {},
   "outputs": [],
   "source": [
    "# Probamos con regularización lasso\n",
    "\n",
    "lm_lasso = linear_model.LassoCV(alphas=np.logspace(-6, 6, 13), cv=5)\n",
    "\n",
    "model_lasso = lm_lasso.fit(X_train, y_train)\n",
    "\n",
    "lm_lasso.alpha_"
   ]
  },
  {
   "cell_type": "code",
   "execution_count": null,
   "metadata": {},
   "outputs": [],
   "source": [
    "model_lasso.score(X_test, y_test)"
   ]
  },
  {
   "cell_type": "code",
   "execution_count": null,
   "metadata": {},
   "outputs": [],
   "source": [
    "# superficie_min=15\n",
    "# superficie_max=1000\n",
    "\n",
    "# data = data[(data.sup_m2_total <= 1000) & (data.sup_m2_total >= 15)]\n",
    "\n",
    "# data = data[(data.precio_usd <= 4000000)]"
   ]
  }
 ],
 "metadata": {
  "kernelspec": {
   "display_name": "Python 3.10.4 ('DH')",
   "language": "python",
   "name": "python3"
  },
  "language_info": {
   "codemirror_mode": {
    "name": "ipython",
    "version": 3
   },
   "file_extension": ".py",
   "mimetype": "text/x-python",
   "name": "python",
   "nbconvert_exporter": "python",
   "pygments_lexer": "ipython3",
   "version": "3.10.4"
  },
  "orig_nbformat": 4,
  "vscode": {
   "interpreter": {
    "hash": "fa08644e93f5ad6b3c1e930965e944c16707fd43381b34471e0217a3cc73ebe0"
   }
  }
 },
 "nbformat": 4,
 "nbformat_minor": 2
}
