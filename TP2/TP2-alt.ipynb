{
 "cells": [
  {
   "attachments": {},
   "cell_type": "markdown",
   "metadata": {},
   "source": [
    "## Cargas iniciales"
   ]
  },
  {
   "cell_type": "code",
   "execution_count": null,
   "metadata": {},
   "outputs": [],
   "source": [
    "#Las librerías utilizadas en este documento son:\n",
    "%matplotlib inline\n",
    "from matplotlib import pyplot as plt\n",
    "import seaborn as sns\n",
    "import numpy as np\n",
    "import pandas as pd\n",
    "from sklearn import linear_model\n",
    "from sklearn.metrics import mean_squared_error, r2_score\n",
    "from sklearn.model_selection import train_test_split\n",
    "from sklearn.preprocessing import StandardScaler\n",
    "from sklearn.preprocessing import RobustScaler\n",
    "from sklearn.preprocessing import OneHotEncoder \n",
    "import statsmodels.api as sm\n",
    "from sklearn import metrics\n",
    "from matplotlib.ticker import ScalarFormatter\n",
    "from matplotlib import gridspec\n",
    "sns.set()"
   ]
  },
  {
   "cell_type": "code",
   "execution_count": null,
   "metadata": {},
   "outputs": [],
   "source": [
    "# Visualización de la forma y atributos del dataset\n",
    "data = pd.read_csv(\"./data/data_limpio_gdf.csv\")\n",
    "print(data.shape)\n",
    "print(\"El dataset está compuesto por:\", data.shape[0], \"filas y\",data.shape[1],\"columnas.\")\n",
    "data.sample(5)"
   ]
  },
  {
   "attachments": {},
   "cell_type": "markdown",
   "metadata": {},
   "source": [
    "## Elección de datos\n"
   ]
  },
  {
   "attachments": {},
   "cell_type": "markdown",
   "metadata": {},
   "source": [
    "### Elección del subconjunto de datos"
   ]
  },
  {
   "cell_type": "code",
   "execution_count": null,
   "metadata": {},
   "outputs": [],
   "source": [
    "## Elegimos sólo departamentos de la Ciudad de Buenos Aires\n",
    "data = data[data['provincia'] == 'Capital Federal']\n",
    "data = data.drop(['provincia'], axis=1)\n",
    "data = data.drop(['provincia_cat_code'], axis=1)\n",
    "data = data[data['tipo'] == 'apartment']\n",
    "data = data.drop(['tipo'], axis=1)\n",
    "data = data.drop(['tipo_cat_code'], axis=1)\n",
    "print(\"El dataset está compuesto por:\", data.shape[0], \"filas y\",data.shape[1],\"columnas.\")\n",
    "data.sample(5)"
   ]
  },
  {
   "attachments": {},
   "cell_type": "markdown",
   "metadata": {},
   "source": [
    "### Limpieza de datos"
   ]
  },
  {
   "cell_type": "code",
   "execution_count": null,
   "metadata": {},
   "outputs": [],
   "source": [
    "print(\"El dataset tiene:\", data.shape[0], \"filas\")\n",
    "data.isna().sum()"
   ]
  },
  {
   "cell_type": "code",
   "execution_count": null,
   "metadata": {},
   "outputs": [],
   "source": [
    "data = data.dropna()\n",
    "print(\"El dataset tiene:\", data.shape[0], \"filas\")"
   ]
  },
  {
   "attachments": {},
   "cell_type": "markdown",
   "metadata": {},
   "source": [
    "### Exploración de datos\n"
   ]
  },
  {
   "cell_type": "code",
   "execution_count": null,
   "metadata": {},
   "outputs": [],
   "source": [
    "#Vemos la correlación entre las variables \n",
    "data_corr = data.corr()\n",
    "#graficamos\n",
    "plt.figure(figsize=(6,6))\n",
    "sns.heatmap(data_corr, annot=True, fmt=\".2f\", cmap=\"coolwarm\")\n",
    "plt.title(\"Correlación entre variables\")\n",
    "plt.show()\n",
    "\n",
    "#puede verse una correlación significativa entre sup_m2_total y precio_usd (0.39)\n",
    "#tipo_cat_code / ambientes_cat_code y  precio_usd (0.30)\n",
    "#precio_usd_por_m2_cat y lon"
   ]
  },
  {
   "attachments": {},
   "cell_type": "markdown",
   "metadata": {},
   "source": [
    "## Separación de datos"
   ]
  },
  {
   "attachments": {},
   "cell_type": "markdown",
   "metadata": {},
   "source": [
    "### Elección de features y target"
   ]
  },
  {
   "cell_type": "code",
   "execution_count": null,
   "metadata": {},
   "outputs": [],
   "source": [
    "data.reset_index(drop=True, inplace=True)"
   ]
  },
  {
   "cell_type": "code",
   "execution_count": null,
   "metadata": {},
   "outputs": [],
   "source": [
    "X = data[['sup_m2_total', 'ambientes_cat', 'lat', 'lon', 'municipio']]\n",
    "y = data['precio_usd']"
   ]
  },
  {
   "attachments": {},
   "cell_type": "markdown",
   "metadata": {},
   "source": [
    "### Train/test split"
   ]
  },
  {
   "cell_type": "code",
   "execution_count": null,
   "metadata": {},
   "outputs": [],
   "source": [
    "X_train, X_test, y_train, y_test = train_test_split(X, y, test_size=0.2)\n",
    "print(X_train.shape)\n",
    "print(X_test.shape)\n",
    "print(y_train.shape)\n",
    "print(y_test.shape)"
   ]
  },
  {
   "attachments": {},
   "cell_type": "markdown",
   "metadata": {},
   "source": [
    "## Preprocesamiento de datos"
   ]
  },
  {
   "attachments": {},
   "cell_type": "markdown",
   "metadata": {},
   "source": [
    "### Feature engineering (categóricas)"
   ]
  },
  {
   "cell_type": "code",
   "execution_count": null,
   "metadata": {},
   "outputs": [],
   "source": [
    "X_train_dummies = pd.get_dummies(X_train, columns=['ambientes_cat', 'municipio'])\n",
    "X_test_dummies = pd.get_dummies(X_test, columns=['ambientes_cat', 'municipio'])\n",
    "\n",
    "print(X_train_dummies.shape)\n",
    "print(X_test_dummies.shape)\n"
   ]
  },
  {
   "cell_type": "code",
   "execution_count": null,
   "metadata": {},
   "outputs": [],
   "source": [
    "encoder_categories = []\n",
    "\n",
    "categorical_columns = ['ambientes_cat', 'municipio']\n",
    "\n",
    "X_categorical_columns = [x for x in categorical_columns]\n",
    "\n",
    "for col in X_categorical_columns:    \n",
    "    col_categories = data[col].unique()\n",
    "    encoder_categories.append(col_categories)\n",
    "\n",
    "encoder_categories"
   ]
  },
  {
   "cell_type": "code",
   "execution_count": null,
   "metadata": {},
   "outputs": [],
   "source": [
    "encoder = OneHotEncoder(categories = encoder_categories, sparse=False, drop='first')\n",
    "\n",
    "encoder = encoder.fit(X_train[X_categorical_columns])\n",
    "\n",
    "X_train_encoded = encoder.transform(X_train[X_categorical_columns])\n",
    "X_train_categorical = pd.DataFrame(X_train_encoded, columns = encoder.get_feature_names(X_categorical_columns))\n",
    "\n",
    "X_test_encoded = encoder.transform(X_test[X_categorical_columns])\n",
    "X_test_categorical = pd.DataFrame(X_test_encoded, columns = encoder.get_feature_names(X_categorical_columns))\n",
    "X_test_categorical.head()"
   ]
  },
  {
   "attachments": {},
   "cell_type": "markdown",
   "metadata": {},
   "source": [
    "### Feature engineering (numéricas)"
   ]
  },
  {
   "cell_type": "code",
   "execution_count": null,
   "metadata": {},
   "outputs": [],
   "source": [
    "X_train_numerical = X_train.drop(X_categorical_columns, axis=1)\n",
    "X_test_numerical = X_test.drop(X_categorical_columns, axis=1)"
   ]
  },
  {
   "cell_type": "code",
   "execution_count": null,
   "metadata": {},
   "outputs": [],
   "source": [
    "scaler = RobustScaler()\n",
    "\n",
    "X_train_scaled = scaler.fit_transform(X_train_numerical)\n",
    "X_train_numerical = pd.DataFrame(X_train_scaled, columns = X_train_numerical.columns)\n",
    "\n",
    "X_test_scaled = scaler.transform(X_test_numerical)\n",
    "X_test_numerical = pd.DataFrame(X_test_scaled, columns = X_test_numerical.columns)\n",
    "X_test_numerical.head()\n"
   ]
  },
  {
   "attachments": {},
   "cell_type": "markdown",
   "metadata": {},
   "source": [
    "### Combinación de features"
   ]
  },
  {
   "cell_type": "code",
   "execution_count": null,
   "metadata": {},
   "outputs": [],
   "source": [
    "X_train = pd.concat([X_train_categorical, X_train_numerical], axis=1)\n",
    "X_test = pd.concat([X_test_categorical, X_test_numerical], axis=1)"
   ]
  },
  {
   "cell_type": "code",
   "execution_count": null,
   "metadata": {},
   "outputs": [],
   "source": [
    "print(X_train.shape)\n",
    "print(X_test.shape)\n",
    "print(y_train.shape)\n",
    "print(y_test.shape)"
   ]
  },
  {
   "attachments": {},
   "cell_type": "markdown",
   "metadata": {},
   "source": [
    "## Regresión lineal"
   ]
  },
  {
   "cell_type": "code",
   "execution_count": null,
   "metadata": {},
   "outputs": [],
   "source": [
    "X_train_simple = X_train[['sup_m2_total']]\n",
    "X_test_simple = X_test[['sup_m2_total']]\n",
    "\n",
    "print(X_train_simple.shape)\n",
    "print(X_test_simple.shape)"
   ]
  },
  {
   "cell_type": "code",
   "execution_count": null,
   "metadata": {},
   "outputs": [],
   "source": [
    "# Create linear regression object\n",
    "lr = linear_model.LinearRegression()\n",
    "\n",
    "X_train_simple = X_train[['sup_m2_total']]\n",
    "X_test_simple = X_test[['sup_m2_total']]\n",
    "\n",
    "# Train the model using the training sets\n",
    "lr.fit(X_train_simple, y_train)\n",
    "\n",
    "# Make predictions using the testing set\n",
    "y_pred = lr.predict(X_test_simple)\n"
   ]
  },
  {
   "cell_type": "code",
   "execution_count": null,
   "metadata": {},
   "outputs": [],
   "source": [
    "# Imprimimos el intercepto y los coeficientes como atributos del objeto entrenado.\n",
    "print ('Intercepto=', ' ', lr.intercept_)\n",
    "print ('sup_m2_total=', ' ', lr.coef_)\n",
    "\n",
    "# imprimos la metrica que mide la bondad de ajusto del modelo. En este caso el R2.\n",
    "\n",
    "print ('R2_train=', ' ', lr.score(X_train_simple, y_train))\n",
    "print ('R2_test=', ' ', lr.score(X_test_simple, y_test))\n",
    "print (\"EMC:\", mean_squared_error(y_test, y_pred))\n",
    "print (\"r_EMC:\", np.sqrt(mean_squared_error(y_test, y_pred)))"
   ]
  },
  {
   "cell_type": "code",
   "execution_count": null,
   "metadata": {},
   "outputs": [],
   "source": [
    "# Plot outputs\n",
    "plt.scatter(y_test, y_pred,  color='black')\n",
    "plt.plot([0, 1000000], [0, 1000000], color='blue', linewidth=3)\n",
    "plt.xlabel('Precio real')\n",
    "plt.ylabel('Precio predicho')\n",
    "plt.title('Precio real vs Precio predicho')\n",
    "plt.show()"
   ]
  },
  {
   "cell_type": "code",
   "execution_count": null,
   "metadata": {},
   "outputs": [],
   "source": []
  },
  {
   "attachments": {},
   "cell_type": "markdown",
   "metadata": {},
   "source": [
    "## Regresión lineal multiple"
   ]
  },
  {
   "attachments": {},
   "cell_type": "markdown",
   "metadata": {},
   "source": [
    "## Regresión lineal con regularización"
   ]
  }
 ],
 "metadata": {
  "kernelspec": {
   "display_name": "dh",
   "language": "python",
   "name": "python3"
  },
  "language_info": {
   "codemirror_mode": {
    "name": "ipython",
    "version": 3
   },
   "file_extension": ".py",
   "mimetype": "text/x-python",
   "name": "python",
   "nbconvert_exporter": "python",
   "pygments_lexer": "ipython3",
   "version": "3.10.4"
  },
  "orig_nbformat": 4,
  "vscode": {
   "interpreter": {
    "hash": "de0c11672bdc465268fe040a07375f6ad60f942d46756d33f7fe9e449a78b4ed"
   }
  }
 },
 "nbformat": 4,
 "nbformat_minor": 2
}
