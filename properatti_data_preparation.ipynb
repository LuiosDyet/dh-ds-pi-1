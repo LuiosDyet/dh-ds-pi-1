{
    "cells": [
        {
            "cell_type": "markdown",
            "metadata": {},
            "source": [
                "# Trabajo práctico 1 : Analisis exploratorio del dataset Properatti\n",
                "\n",
                "Grupo #11: Camila Coltriani, Irania Fuentes, Johnatan Fischelson, Luis Dartayet, Ornela Cevolli  "
            ]
        },
        {
            "cell_type": "markdown",
            "metadata": {},
            "source": [
                "Para este trabajo utilizaremos un dataset de la inmobiliaría Properati construido con los datos de venta de propiedades en diferentes provincias de Argentina en el primer semestre del año 2017."
            ]
        },
        {
            "cell_type": "markdown",
            "metadata": {},
            "source": [
                "# Identificar el problema ¿o cambiar por objetivos?"
            ]
        },
        {
            "cell_type": "markdown",
            "metadata": {},
            "source": [
                "El objetivo de este trabajo es realizar una limpieza del dataset properatti con la finalidad de obtener un dataset final con datos confiables que pueda ser utilizado en la generación de un modelo estadistico posterior.\n",
                "Con base en esto se plantean los siguientes objetivos especificos:\n",
                " - Adquirir los datos: leer y conocer su estructura para determinar las herramientas apropiadas para su manipulación.\n",
                "\n",
                " - Parsear los datos: realizar el analisis exploratorio de los datos que permita verificar la existencia o no de relaciones entre variables, valores duplicados, valores faltantes, valores atípicos o valores erroneos que para validar o aumentar la confiabilidad de los datos.\n",
                "\n",
                " - Minar los datos: aplicar las herramientas de python para corregir datos erroneos o duplicados, completar/eliminar valores nulos.\n",
                " \n",
                " - Refinar los datos: eliminar variables redundantes o repetidas, crear nuevas variables y dar un formato limpio al dataset original."
            ]
        },
        {
            "cell_type": "markdown",
            "metadata": {},
            "source": [
                "# Adquirir y visualizar el dataset"
            ]
        },
        {
            "cell_type": "code",
            "execution_count": 2,
            "metadata": {},
            "outputs": [],
            "source": [
                "#librerías utilizadas para la adquisición de los datos\n",
                "import pandas as pd\n",
                "import numpy as np\n",
                "import matplotlib.pyplot as plt\n",
                "import statsmodels.api as sm\n",
                "import seaborn as sns\n",
                "import geopandas as gpd\n",
                "import shapely.wkt\n",
                "from decimal import Decimal"
            ]
        },
        {
            "cell_type": "markdown",
            "metadata": {},
            "source": [
                "TODO: otros recursos utilizados\n",
                "- archivo de id_geonames: ar_copy.csv\n",
                "- archivo de barrios Argentina: barrios.csv "
            ]
        },
        {
            "cell_type": "code",
            "execution_count": 3,
            "metadata": {},
            "outputs": [],
            "source": [
                "# Leemos y cargamos el dataset properatti.csv en una variable \n",
                "data = pd.read_csv(\"./properatti.csv\", index_col=0)"
            ]
        },
        {
            "cell_type": "code",
            "execution_count": 10,
            "metadata": {},
            "outputs": [
                {
                    "name": "stdout",
                    "output_type": "stream",
                    "text": [
                        "(121220, 25)\n",
                        "El dataset está compuesto por: 121220 filas y 25 columnas.\n"
                    ]
                },
                {
                    "data": {
                        "text/html": [
                            "<div>\n",
                            "<style scoped>\n",
                            "    .dataframe tbody tr th:only-of-type {\n",
                            "        vertical-align: middle;\n",
                            "    }\n",
                            "\n",
                            "    .dataframe tbody tr th {\n",
                            "        vertical-align: top;\n",
                            "    }\n",
                            "\n",
                            "    .dataframe thead th {\n",
                            "        text-align: right;\n",
                            "    }\n",
                            "</style>\n",
                            "<table border=\"1\" class=\"dataframe\">\n",
                            "  <thead>\n",
                            "    <tr style=\"text-align: right;\">\n",
                            "      <th></th>\n",
                            "      <th>operation</th>\n",
                            "      <th>property_type</th>\n",
                            "      <th>place_name</th>\n",
                            "      <th>place_with_parent_names</th>\n",
                            "      <th>country_name</th>\n",
                            "      <th>state_name</th>\n",
                            "      <th>geonames_id</th>\n",
                            "      <th>lat-lon</th>\n",
                            "      <th>lat</th>\n",
                            "      <th>lon</th>\n",
                            "      <th>...</th>\n",
                            "      <th>surface_covered_in_m2</th>\n",
                            "      <th>price_usd_per_m2</th>\n",
                            "      <th>price_per_m2</th>\n",
                            "      <th>floor</th>\n",
                            "      <th>rooms</th>\n",
                            "      <th>expenses</th>\n",
                            "      <th>properati_url</th>\n",
                            "      <th>description</th>\n",
                            "      <th>title</th>\n",
                            "      <th>image_thumbnail</th>\n",
                            "    </tr>\n",
                            "  </thead>\n",
                            "  <tbody>\n",
                            "    <tr>\n",
                            "      <th>11805</th>\n",
                            "      <td>sell</td>\n",
                            "      <td>apartment</td>\n",
                            "      <td>Rosario</td>\n",
                            "      <td>|Argentina|Santa Fe|Rosario|</td>\n",
                            "      <td>Argentina</td>\n",
                            "      <td>Santa Fe</td>\n",
                            "      <td>3838574.0</td>\n",
                            "      <td>-32.889965,-60.7186437</td>\n",
                            "      <td>-32.889965</td>\n",
                            "      <td>-60.718644</td>\n",
                            "      <td>...</td>\n",
                            "      <td>90.0</td>\n",
                            "      <td>NaN</td>\n",
                            "      <td>8333.333333</td>\n",
                            "      <td>NaN</td>\n",
                            "      <td>NaN</td>\n",
                            "      <td>NaN</td>\n",
                            "      <td>http://www.properati.com.ar/16d2m_venta_depart...</td>\n",
                            "      <td>Departamento, Santa Fe, Rosario, por $ 750.000</td>\n",
                            "      <td>RUCCI LADO MINITERMINAL</td>\n",
                            "      <td>https://thumbs4.properati.com/9/0FixZ25RRIymK9...</td>\n",
                            "    </tr>\n",
                            "    <tr>\n",
                            "      <th>33698</th>\n",
                            "      <td>sell</td>\n",
                            "      <td>apartment</td>\n",
                            "      <td>San Isidro</td>\n",
                            "      <td>|Argentina|Bs.As. G.B.A. Zona Norte|San Isidro|</td>\n",
                            "      <td>Argentina</td>\n",
                            "      <td>Bs.As. G.B.A. Zona Norte</td>\n",
                            "      <td>3428983.0</td>\n",
                            "      <td>NaN</td>\n",
                            "      <td>NaN</td>\n",
                            "      <td>NaN</td>\n",
                            "      <td>...</td>\n",
                            "      <td>56.0</td>\n",
                            "      <td>3230.769231</td>\n",
                            "      <td>3750.000000</td>\n",
                            "      <td>3.0</td>\n",
                            "      <td>NaN</td>\n",
                            "      <td>NaN</td>\n",
                            "      <td>http://www.properati.com.ar/189t1_venta_depart...</td>\n",
                            "      <td>Clasico edificio, construido por Arq. Poncio.-...</td>\n",
                            "      <td>Departamento 65m² con Plantas en Del Libertado...</td>\n",
                            "      <td>https://thumbs4.properati.com/0/OvJXdK30vfOhNp...</td>\n",
                            "    </tr>\n",
                            "    <tr>\n",
                            "      <th>86754</th>\n",
                            "      <td>sell</td>\n",
                            "      <td>apartment</td>\n",
                            "      <td>Lomas de Zamora</td>\n",
                            "      <td>|Argentina|Bs.As. G.B.A. Zona Sur|Lomas de Zam...</td>\n",
                            "      <td>Argentina</td>\n",
                            "      <td>Bs.As. G.B.A. Zona Sur</td>\n",
                            "      <td>NaN</td>\n",
                            "      <td>NaN</td>\n",
                            "      <td>NaN</td>\n",
                            "      <td>NaN</td>\n",
                            "      <td>...</td>\n",
                            "      <td>280.0</td>\n",
                            "      <td>2035.714286</td>\n",
                            "      <td>2035.714286</td>\n",
                            "      <td>NaN</td>\n",
                            "      <td>NaN</td>\n",
                            "      <td>NaN</td>\n",
                            "      <td>http://www.properati.com.ar/1b4vc_venta_depart...</td>\n",
                            "      <td>Excelente piso de gran categoría con balcón a ...</td>\n",
                            "      <td>Departamento en Lomas De Zamora</td>\n",
                            "      <td>https://thumbs4.properati.com/4/n2ZB7uQfoxadNQ...</td>\n",
                            "    </tr>\n",
                            "    <tr>\n",
                            "      <th>79723</th>\n",
                            "      <td>sell</td>\n",
                            "      <td>apartment</td>\n",
                            "      <td>Caballito</td>\n",
                            "      <td>|Argentina|Capital Federal|Caballito|</td>\n",
                            "      <td>Argentina</td>\n",
                            "      <td>Capital Federal</td>\n",
                            "      <td>3435874.0</td>\n",
                            "      <td>NaN</td>\n",
                            "      <td>NaN</td>\n",
                            "      <td>NaN</td>\n",
                            "      <td>...</td>\n",
                            "      <td>35.0</td>\n",
                            "      <td>2351.351351</td>\n",
                            "      <td>2485.714286</td>\n",
                            "      <td>NaN</td>\n",
                            "      <td>NaN</td>\n",
                            "      <td>NaN</td>\n",
                            "      <td>http://www.properati.com.ar/1avwa_venta_depart...</td>\n",
                            "      <td>* Semipisos  de 1 ambiente al frente .* 1 Asce...</td>\n",
                            "      <td>Semipisos Mono-ambiente con Espacio Guardacoche</td>\n",
                            "      <td>https://thumbs4.properati.com/9/wuU_e_g5xx8-zJ...</td>\n",
                            "    </tr>\n",
                            "    <tr>\n",
                            "      <th>67381</th>\n",
                            "      <td>sell</td>\n",
                            "      <td>store</td>\n",
                            "      <td>Temperley</td>\n",
                            "      <td>|Argentina|Bs.As. G.B.A. Zona Sur|Lomas de Zam...</td>\n",
                            "      <td>Argentina</td>\n",
                            "      <td>Bs.As. G.B.A. Zona Sur</td>\n",
                            "      <td>3427776.0</td>\n",
                            "      <td>NaN</td>\n",
                            "      <td>NaN</td>\n",
                            "      <td>NaN</td>\n",
                            "      <td>...</td>\n",
                            "      <td>NaN</td>\n",
                            "      <td>752.508361</td>\n",
                            "      <td>NaN</td>\n",
                            "      <td>NaN</td>\n",
                            "      <td>NaN</td>\n",
                            "      <td>NaN</td>\n",
                            "      <td>http://www.properati.com.ar/1af7m_venta_local_...</td>\n",
                            "      <td>Local a la calle con toillete y garage a la pa...</td>\n",
                            "      <td>Local en Temperley Este</td>\n",
                            "      <td>https://thumbs4.properati.com/2/uVDxpDTLdRHjHA...</td>\n",
                            "    </tr>\n",
                            "  </tbody>\n",
                            "</table>\n",
                            "<p>5 rows × 25 columns</p>\n",
                            "</div>"
                        ],
                        "text/plain": [
                            "      operation property_type       place_name  \\\n",
                            "11805      sell     apartment          Rosario   \n",
                            "33698      sell     apartment       San Isidro   \n",
                            "86754      sell     apartment  Lomas de Zamora   \n",
                            "79723      sell     apartment        Caballito   \n",
                            "67381      sell         store        Temperley   \n",
                            "\n",
                            "                                 place_with_parent_names country_name  \\\n",
                            "11805                       |Argentina|Santa Fe|Rosario|    Argentina   \n",
                            "33698    |Argentina|Bs.As. G.B.A. Zona Norte|San Isidro|    Argentina   \n",
                            "86754  |Argentina|Bs.As. G.B.A. Zona Sur|Lomas de Zam...    Argentina   \n",
                            "79723              |Argentina|Capital Federal|Caballito|    Argentina   \n",
                            "67381  |Argentina|Bs.As. G.B.A. Zona Sur|Lomas de Zam...    Argentina   \n",
                            "\n",
                            "                     state_name  geonames_id                 lat-lon  \\\n",
                            "11805                  Santa Fe    3838574.0  -32.889965,-60.7186437   \n",
                            "33698  Bs.As. G.B.A. Zona Norte    3428983.0                     NaN   \n",
                            "86754    Bs.As. G.B.A. Zona Sur          NaN                     NaN   \n",
                            "79723           Capital Federal    3435874.0                     NaN   \n",
                            "67381    Bs.As. G.B.A. Zona Sur    3427776.0                     NaN   \n",
                            "\n",
                            "             lat        lon  ...  surface_covered_in_m2 price_usd_per_m2  \\\n",
                            "11805 -32.889965 -60.718644  ...                   90.0              NaN   \n",
                            "33698        NaN        NaN  ...                   56.0      3230.769231   \n",
                            "86754        NaN        NaN  ...                  280.0      2035.714286   \n",
                            "79723        NaN        NaN  ...                   35.0      2351.351351   \n",
                            "67381        NaN        NaN  ...                    NaN       752.508361   \n",
                            "\n",
                            "       price_per_m2  floor  rooms  expenses  \\\n",
                            "11805   8333.333333    NaN    NaN       NaN   \n",
                            "33698   3750.000000    3.0    NaN       NaN   \n",
                            "86754   2035.714286    NaN    NaN       NaN   \n",
                            "79723   2485.714286    NaN    NaN       NaN   \n",
                            "67381           NaN    NaN    NaN       NaN   \n",
                            "\n",
                            "                                           properati_url  \\\n",
                            "11805  http://www.properati.com.ar/16d2m_venta_depart...   \n",
                            "33698  http://www.properati.com.ar/189t1_venta_depart...   \n",
                            "86754  http://www.properati.com.ar/1b4vc_venta_depart...   \n",
                            "79723  http://www.properati.com.ar/1avwa_venta_depart...   \n",
                            "67381  http://www.properati.com.ar/1af7m_venta_local_...   \n",
                            "\n",
                            "                                             description  \\\n",
                            "11805     Departamento, Santa Fe, Rosario, por $ 750.000   \n",
                            "33698  Clasico edificio, construido por Arq. Poncio.-...   \n",
                            "86754  Excelente piso de gran categoría con balcón a ...   \n",
                            "79723  * Semipisos  de 1 ambiente al frente .* 1 Asce...   \n",
                            "67381  Local a la calle con toillete y garage a la pa...   \n",
                            "\n",
                            "                                                   title  \\\n",
                            "11805                            RUCCI LADO MINITERMINAL   \n",
                            "33698  Departamento 65m² con Plantas en Del Libertado...   \n",
                            "86754                    Departamento en Lomas De Zamora   \n",
                            "79723    Semipisos Mono-ambiente con Espacio Guardacoche   \n",
                            "67381                            Local en Temperley Este   \n",
                            "\n",
                            "                                         image_thumbnail  \n",
                            "11805  https://thumbs4.properati.com/9/0FixZ25RRIymK9...  \n",
                            "33698  https://thumbs4.properati.com/0/OvJXdK30vfOhNp...  \n",
                            "86754  https://thumbs4.properati.com/4/n2ZB7uQfoxadNQ...  \n",
                            "79723  https://thumbs4.properati.com/9/wuU_e_g5xx8-zJ...  \n",
                            "67381  https://thumbs4.properati.com/2/uVDxpDTLdRHjHA...  \n",
                            "\n",
                            "[5 rows x 25 columns]"
                        ]
                    },
                    "execution_count": 10,
                    "metadata": {},
                    "output_type": "execute_result"
                }
            ],
            "source": [
                "# Visualización de la forma y atributos del dataset \n",
                "print(data.shape)\n",
                "print(\"El dataset está compuesto por:\", data.shape[0], \"filas y\",data.shape[1],\"columnas.\")\n",
                "data.sample(5) #"
            ]
        },
        {
            "cell_type": "markdown",
            "metadata": {},
            "source": [
                "### Descripción de las columnas del dataset:\n",
                "\n",
                "Los atributos o columas que incluye son:\n",
                "\n",
                "● unmaded: 0: indice de filas\n",
                "\n",
                "● property_type: tipo de inmueble en venta (casa, departamento, ph...)\n",
                "\n",
                "● operation: tipo de operacion inmobiliaria para las propiedades \n",
                "\n",
                "● place_name: ubicacion del inmueble por ciudad/Partido o barrios\n",
                "\n",
                "● place_with_parent_names: ubicacion agrupada del inmueble (Pais|Provincia|Partido o barrio)\n",
                "\n",
                "● country_name: nombre del país donde ocurre la operacion inmobiliaría\n",
                "\n",
                "● state_name: ubicacion del inmueble por provincia\n",
                "\n",
                "● geonames_id: número de identificación en la base de datos GeoNames asociado a la ubicacion por coordenadas\n",
                "\n",
                "● lat-lon: ubicacion de latitud y longitud concatenada\n",
                "\n",
                "● lat  ●lon: ubicacion de latitud y longitud en columnas separadas\n",
                "\n",
                "● price: precio del inmueble\n",
                "\n",
                "● currency: divisa en la que está expresado el precio del inmueble\n",
                "\n",
                "● price_aprox_local_currency: Precio aproximado en la moneda local del país de publicación\n",
                "\n",
                "● surface_total_in_m2: superficie total m² del inmueble\n",
                "\n",
                "● surface_covered_in_m2: Superficie cubierta en m²\n",
                "\n",
                "● price_usd_per_m2: Precio en dolares por metro cuadrado (USD/m²: precio dólares / superficie)\n",
                "\n",
                "● price_per_m2: Precio del metro cuadrado del inmueble\n",
                "\n",
                "● floor: N° de piso (cuando corresponde)\n",
                "\n",
                "● room: cantidad de habitaciones\n",
                "\n",
                "● expenses: expensas (cuando corresponde)\n",
                "\n",
                "● properati_url\t: URL de la inmobiliaría Properati en la Web\n",
                "\n",
                "● description: descripción del inmueble en la publicación Web\n",
                "\n",
                "● title: título del inmueble en la publicación\n",
                "\n",
                "● image_thumbnail: URL de un thumbnail de la primer foto en la Web"
            ]
        },
        {
            "cell_type": "markdown",
            "metadata": {},
            "source": [
                "# Parsear los datos"
            ]
        },
        {
            "cell_type": "markdown",
            "metadata": {},
            "source": [
                "## Analisis exploratorio general del dataset de Properatti"
            ]
        },
        {
            "cell_type": "code",
            "execution_count": null,
            "metadata": {},
            "outputs": [],
            "source": [
                "#Identificamos el tipo de dato de cada columna\n",
                "data.dtypes\n",
                "# El tipo de datos para variables cuantitativas discreta como floor y rooms deberia ser int, \n",
                "# posiblemente tengamos que realizar el cambio en su manipulación."
            ]
        },
        {
            "cell_type": "code",
            "execution_count": null,
            "metadata": {},
            "outputs": [],
            "source": [
                "# Realizamos una descripción estadística de todas las columnas (\"include all tambien muestra las variables categoriacas\") \n",
                "# que resume la tendencia central, la dispersión y la forma de la distribución de un conjunto de datos\n",
                "data.describe(include=\"all\")\n",
                "\n",
                "# Algunas interpretaciones/inferencias:\n",
                "# operation y country_name tiene 1 solo dato:  Sell y Argentina, como ya sabíamos, el dataset son datos de venta en Argentina\n",
                "# Existen cuatro tipos de propiedades en venta, la más frecuente es apartamento\n",
                "# Placename tiene como dato más frecuente la ciudad de Cordoba y state_name tiene a Capital Federal\n",
                "# lat-long hay datos repetidos o son los mismos edificios representados en un area determinada\n",
                "# Existen valores máximos muy alejados del resto de datos en las columnas de superficie, floor y rooms, posibles outliers"
            ]
        },
        {
            "cell_type": "code",
            "execution_count": null,
            "metadata": {},
            "outputs": [],
            "source": [
                "#Identificamos los valores únicos x columna\n",
                "for columnas in data.columns:\n",
                "    print(\"\")\n",
                "    print(f'Nombre:{columnas}')\n",
                "    print(data[columnas].value_counts())\n",
                "\n",
                "# de esta función sumamos información general sobre el data set:\n",
                "# identificamos los tipos de inmueble en venta: apartamentos y casas concentran la mayoría de datos\n",
                "# las divisas más utilizadas son el peso argentina y dólares, hay datos que podemos tomar como no representativos:\n",
                "# el PEN: peso peruano y UYU: peso uruguayo ya que no pasan de dos registros en el dataset. \n",
                "# para floor y rooms hay que tratar los valores outliers"
            ]
        },
        {
            "cell_type": "code",
            "execution_count": 9,
            "metadata": {},
            "outputs": [
                {
                    "name": "stdout",
                    "output_type": "stream",
                    "text": [
                        "operation                          0\n",
                        "property_type                      0\n",
                        "place_name                        23\n",
                        "place_with_parent_names            0\n",
                        "country_name                       0\n",
                        "state_name                         0\n",
                        "geonames_id                    18717\n",
                        "lat-lon                        51550\n",
                        "lat                            51550\n",
                        "lon                            51550\n",
                        "price                          20410\n",
                        "currency                       20411\n",
                        "price_aprox_local_currency     20410\n",
                        "price_aprox_usd                20410\n",
                        "surface_total_in_m2            39328\n",
                        "surface_covered_in_m2          19907\n",
                        "price_usd_per_m2               52603\n",
                        "price_per_m2                   33562\n",
                        "floor                         113321\n",
                        "rooms                          73830\n",
                        "expenses                      106958\n",
                        "properati_url                      0\n",
                        "description                        2\n",
                        "title                              0\n",
                        "image_thumbnail                 3112\n",
                        "dtype: int64\n"
                    ]
                }
            ],
            "source": [
                "#Identificamos los registros nan por columna\n",
                "\n",
                "print(data.isna().sum())\n",
                "#price, currency, price_aprox, price_usd tienen la misma cantidad de nulos 20410\n",
                "#hay que averiguar si price_per_m2 es la relacion de price y surface_total, así podriamos completar nulos en price_per_m2"
            ]
        },
        {
            "cell_type": "code",
            "execution_count": 5,
            "metadata": {},
            "outputs": [
                {
                    "data": {
                        "text/plain": [
                            "operation                      0.000000\n",
                            "property_type                  0.000000\n",
                            "place_name                     0.018974\n",
                            "place_with_parent_names        0.000000\n",
                            "country_name                   0.000000\n",
                            "state_name                     0.000000\n",
                            "geonames_id                   15.440521\n",
                            "lat-lon                       42.525986\n",
                            "lat                           42.525986\n",
                            "lon                           42.525986\n",
                            "price                         16.837156\n",
                            "currency                      16.837981\n",
                            "price_aprox_local_currency    16.837156\n",
                            "price_aprox_usd               16.837156\n",
                            "surface_total_in_m2           32.443491\n",
                            "surface_covered_in_m2         16.422208\n",
                            "price_usd_per_m2              43.394654\n",
                            "price_per_m2                  27.686850\n",
                            "floor                         93.483749\n",
                            "rooms                         60.905791\n",
                            "expenses                      88.234615\n",
                            "properati_url                  0.000000\n",
                            "description                    0.001650\n",
                            "title                          0.000000\n",
                            "image_thumbnail                2.567233\n",
                            "dtype: float64"
                        ]
                    },
                    "execution_count": 5,
                    "metadata": {},
                    "output_type": "execute_result"
                }
            ],
            "source": [
                "# Vemos la relación de registros nan con respecto al total de registros\n",
                "data.isna().sum()/data.shape[0] *100\n",
                "\n",
                "# podriamos completar place_name por el %bajo de nan\n",
                "# el mayor % de nan se encuentra en floor, rooms y expensas"
            ]
        },
        {
            "cell_type": "code",
            "execution_count": 8,
            "metadata": {},
            "outputs": [
                {
                    "data": {
                        "text/plain": [
                            "0      0.493318\n",
                            "1      1.601221\n",
                            "2     15.695430\n",
                            "3     12.937634\n",
                            "4      9.853160\n",
                            "5      9.194027\n",
                            "6     15.133641\n",
                            "7      6.920475\n",
                            "8      9.312820\n",
                            "9      4.920805\n",
                            "10     4.520706\n",
                            "11     2.438541\n",
                            "12     3.705659\n",
                            "13     2.195182\n",
                            "14     0.895892\n",
                            "15     0.178188\n",
                            "16     0.003300\n",
                            "dtype: float64"
                        ]
                    },
                    "execution_count": 8,
                    "metadata": {},
                    "output_type": "execute_result"
                }
            ],
            "source": [
                "# Analizamos por fila cantidad de datos faltantes\n",
                "missing_by_row = (data.isna().sum(axis=1).value_counts() / data.shape[0] *100).sort_index() \n",
                "missing_by_row"
            ]
        },
        {
            "cell_type": "code",
            "execution_count": 11,
            "metadata": {},
            "outputs": [
                {
                    "data": {
                        "image/png": "[encoded data removed]",
                        "text/plain": [
                            "<Figure size 640x480 with 1 Axes>"
                        ]
                    },
                    "metadata": {},
                    "output_type": "display_data"
                }
            ],
            "source": [
                "# Lo graficamos\n",
                "sns.barplot(x=missing_by_row.index, y=missing_by_row.values) #grafico de barras\n",
                "plt.title(\"Porcentaje de registros con cantidad de datos faltantes por filas\")\n",
                "plt.xlabel(\"Cantidad de datos faltantes\")\n",
                "plt.ylabel(\"Porcentaje de registros\")\n",
                "plt.show()"
            ]
        },
        {
            "cell_type": "markdown",
            "metadata": {},
            "source": [
                "### Análisis de datos faltantes"
            ]
        },
        {
            "cell_type": "code",
            "execution_count": 15,
            "metadata": {},
            "outputs": [
                {
                    "data": {
                        "text/html": [
                            "<div>\n",
                            "<style scoped>\n",
                            "    .dataframe tbody tr th:only-of-type {\n",
                            "        vertical-align: middle;\n",
                            "    }\n",
                            "\n",
                            "    .dataframe tbody tr th {\n",
                            "        vertical-align: top;\n",
                            "    }\n",
                            "\n",
                            "    .dataframe thead th {\n",
                            "        text-align: right;\n",
                            "    }\n",
                            "</style>\n",
                            "<table border=\"1\" class=\"dataframe\">\n",
                            "  <thead>\n",
                            "    <tr style=\"text-align: right;\">\n",
                            "      <th></th>\n",
                            "      <th>total_nan</th>\n",
                            "      <th>perc_%</th>\n",
                            "    </tr>\n",
                            "  </thead>\n",
                            "  <tbody>\n",
                            "    <tr>\n",
                            "      <th>floor</th>\n",
                            "      <td>113321</td>\n",
                            "      <td>93.0</td>\n",
                            "    </tr>\n",
                            "    <tr>\n",
                            "      <th>expenses</th>\n",
                            "      <td>106958</td>\n",
                            "      <td>88.0</td>\n",
                            "    </tr>\n",
                            "    <tr>\n",
                            "      <th>rooms</th>\n",
                            "      <td>73830</td>\n",
                            "      <td>61.0</td>\n",
                            "    </tr>\n",
                            "    <tr>\n",
                            "      <th>price_usd_per_m2</th>\n",
                            "      <td>52603</td>\n",
                            "      <td>43.0</td>\n",
                            "    </tr>\n",
                            "    <tr>\n",
                            "      <th>lat-lon</th>\n",
                            "      <td>51550</td>\n",
                            "      <td>43.0</td>\n",
                            "    </tr>\n",
                            "    <tr>\n",
                            "      <th>lat</th>\n",
                            "      <td>51550</td>\n",
                            "      <td>43.0</td>\n",
                            "    </tr>\n",
                            "    <tr>\n",
                            "      <th>lon</th>\n",
                            "      <td>51550</td>\n",
                            "      <td>43.0</td>\n",
                            "    </tr>\n",
                            "    <tr>\n",
                            "      <th>surface_total_in_m2</th>\n",
                            "      <td>39328</td>\n",
                            "      <td>32.0</td>\n",
                            "    </tr>\n",
                            "    <tr>\n",
                            "      <th>price_per_m2</th>\n",
                            "      <td>33562</td>\n",
                            "      <td>28.0</td>\n",
                            "    </tr>\n",
                            "    <tr>\n",
                            "      <th>currency</th>\n",
                            "      <td>20411</td>\n",
                            "      <td>17.0</td>\n",
                            "    </tr>\n",
                            "    <tr>\n",
                            "      <th>price_aprox_local_currency</th>\n",
                            "      <td>20410</td>\n",
                            "      <td>17.0</td>\n",
                            "    </tr>\n",
                            "    <tr>\n",
                            "      <th>price</th>\n",
                            "      <td>20410</td>\n",
                            "      <td>17.0</td>\n",
                            "    </tr>\n",
                            "    <tr>\n",
                            "      <th>price_aprox_usd</th>\n",
                            "      <td>20410</td>\n",
                            "      <td>17.0</td>\n",
                            "    </tr>\n",
                            "    <tr>\n",
                            "      <th>surface_covered_in_m2</th>\n",
                            "      <td>19907</td>\n",
                            "      <td>16.0</td>\n",
                            "    </tr>\n",
                            "    <tr>\n",
                            "      <th>geonames_id</th>\n",
                            "      <td>18717</td>\n",
                            "      <td>15.0</td>\n",
                            "    </tr>\n",
                            "    <tr>\n",
                            "      <th>image_thumbnail</th>\n",
                            "      <td>3112</td>\n",
                            "      <td>3.0</td>\n",
                            "    </tr>\n",
                            "    <tr>\n",
                            "      <th>place_name</th>\n",
                            "      <td>23</td>\n",
                            "      <td>0.0</td>\n",
                            "    </tr>\n",
                            "    <tr>\n",
                            "      <th>description</th>\n",
                            "      <td>2</td>\n",
                            "      <td>0.0</td>\n",
                            "    </tr>\n",
                            "    <tr>\n",
                            "      <th>property_type</th>\n",
                            "      <td>0</td>\n",
                            "      <td>0.0</td>\n",
                            "    </tr>\n",
                            "    <tr>\n",
                            "      <th>state_name</th>\n",
                            "      <td>0</td>\n",
                            "      <td>0.0</td>\n",
                            "    </tr>\n",
                            "    <tr>\n",
                            "      <th>country_name</th>\n",
                            "      <td>0</td>\n",
                            "      <td>0.0</td>\n",
                            "    </tr>\n",
                            "    <tr>\n",
                            "      <th>place_with_parent_names</th>\n",
                            "      <td>0</td>\n",
                            "      <td>0.0</td>\n",
                            "    </tr>\n",
                            "    <tr>\n",
                            "      <th>properati_url</th>\n",
                            "      <td>0</td>\n",
                            "      <td>0.0</td>\n",
                            "    </tr>\n",
                            "    <tr>\n",
                            "      <th>title</th>\n",
                            "      <td>0</td>\n",
                            "      <td>0.0</td>\n",
                            "    </tr>\n",
                            "    <tr>\n",
                            "      <th>operation</th>\n",
                            "      <td>0</td>\n",
                            "      <td>0.0</td>\n",
                            "    </tr>\n",
                            "  </tbody>\n",
                            "</table>\n",
                            "</div>"
                        ],
                        "text/plain": [
                            "                            total_nan  perc_%\n",
                            "floor                          113321    93.0\n",
                            "expenses                       106958    88.0\n",
                            "rooms                           73830    61.0\n",
                            "price_usd_per_m2                52603    43.0\n",
                            "lat-lon                         51550    43.0\n",
                            "lat                             51550    43.0\n",
                            "lon                             51550    43.0\n",
                            "surface_total_in_m2             39328    32.0\n",
                            "price_per_m2                    33562    28.0\n",
                            "currency                        20411    17.0\n",
                            "price_aprox_local_currency      20410    17.0\n",
                            "price                           20410    17.0\n",
                            "price_aprox_usd                 20410    17.0\n",
                            "surface_covered_in_m2           19907    16.0\n",
                            "geonames_id                     18717    15.0\n",
                            "image_thumbnail                  3112     3.0\n",
                            "place_name                         23     0.0\n",
                            "description                         2     0.0\n",
                            "property_type                       0     0.0\n",
                            "state_name                          0     0.0\n",
                            "country_name                        0     0.0\n",
                            "place_with_parent_names             0     0.0\n",
                            "properati_url                       0     0.0\n",
                            "title                               0     0.0\n",
                            "operation                           0     0.0"
                        ]
                    },
                    "execution_count": 15,
                    "metadata": {},
                    "output_type": "execute_result"
                }
            ],
            "source": [
                "#creamos un nuevo dataframe con la suma de todos los registros nan por columna y el % que representan en forma decreciente\n",
                "missing_data = data.isna().sum(axis=0)\n",
                "missing_data_df = pd.DataFrame(missing_data, columns=['total_nan'])\n",
                "missing_data_df['perc_%'] = (missing_data_df / data.shape[0]).round(2)*100\n",
                "missing_data_df.sort_values(ascending=False, by='total_nan')"
            ]
        },
        {
            "cell_type": "markdown",
            "metadata": {},
            "source": [
                "### Dispersión de datos"
            ]
        },
        {
            "cell_type": "code",
            "execution_count": 16,
            "metadata": {},
            "outputs": [
                {
                    "data": {
                        "text/html": [
                            "<div>\n",
                            "<style scoped>\n",
                            "    .dataframe tbody tr th:only-of-type {\n",
                            "        vertical-align: middle;\n",
                            "    }\n",
                            "\n",
                            "    .dataframe tbody tr th {\n",
                            "        vertical-align: top;\n",
                            "    }\n",
                            "\n",
                            "    .dataframe thead th {\n",
                            "        text-align: right;\n",
                            "    }\n",
                            "</style>\n",
                            "<table border=\"1\" class=\"dataframe\">\n",
                            "  <thead>\n",
                            "    <tr style=\"text-align: right;\">\n",
                            "      <th></th>\n",
                            "      <th>count</th>\n",
                            "      <th>perc</th>\n",
                            "    </tr>\n",
                            "  </thead>\n",
                            "  <tbody>\n",
                            "    <tr>\n",
                            "      <th>operation</th>\n",
                            "      <td>1</td>\n",
                            "      <td>0.0</td>\n",
                            "    </tr>\n",
                            "    <tr>\n",
                            "      <th>country_name</th>\n",
                            "      <td>1</td>\n",
                            "      <td>0.0</td>\n",
                            "    </tr>\n",
                            "    <tr>\n",
                            "      <th>property_type</th>\n",
                            "      <td>4</td>\n",
                            "      <td>0.0</td>\n",
                            "    </tr>\n",
                            "    <tr>\n",
                            "      <th>currency</th>\n",
                            "      <td>5</td>\n",
                            "      <td>0.0</td>\n",
                            "    </tr>\n",
                            "    <tr>\n",
                            "      <th>state_name</th>\n",
                            "      <td>28</td>\n",
                            "      <td>0.0</td>\n",
                            "    </tr>\n",
                            "    <tr>\n",
                            "      <th>rooms</th>\n",
                            "      <td>32</td>\n",
                            "      <td>0.0</td>\n",
                            "    </tr>\n",
                            "    <tr>\n",
                            "      <th>floor</th>\n",
                            "      <td>183</td>\n",
                            "      <td>0.0</td>\n",
                            "    </tr>\n",
                            "    <tr>\n",
                            "      <th>geonames_id</th>\n",
                            "      <td>647</td>\n",
                            "      <td>1.0</td>\n",
                            "    </tr>\n",
                            "    <tr>\n",
                            "      <th>expenses</th>\n",
                            "      <td>983</td>\n",
                            "      <td>1.0</td>\n",
                            "    </tr>\n",
                            "    <tr>\n",
                            "      <th>surface_covered_in_m2</th>\n",
                            "      <td>996</td>\n",
                            "      <td>1.0</td>\n",
                            "    </tr>\n",
                            "    <tr>\n",
                            "      <th>place_name</th>\n",
                            "      <td>1061</td>\n",
                            "      <td>1.0</td>\n",
                            "    </tr>\n",
                            "    <tr>\n",
                            "      <th>place_with_parent_names</th>\n",
                            "      <td>1164</td>\n",
                            "      <td>1.0</td>\n",
                            "    </tr>\n",
                            "    <tr>\n",
                            "      <th>surface_total_in_m2</th>\n",
                            "      <td>1688</td>\n",
                            "      <td>1.0</td>\n",
                            "    </tr>\n",
                            "    <tr>\n",
                            "      <th>price</th>\n",
                            "      <td>9747</td>\n",
                            "      <td>8.0</td>\n",
                            "    </tr>\n",
                            "    <tr>\n",
                            "      <th>price_aprox_local_currency</th>\n",
                            "      <td>10365</td>\n",
                            "      <td>9.0</td>\n",
                            "    </tr>\n",
                            "    <tr>\n",
                            "      <th>price_aprox_usd</th>\n",
                            "      <td>10365</td>\n",
                            "      <td>9.0</td>\n",
                            "    </tr>\n",
                            "    <tr>\n",
                            "      <th>price_per_m2</th>\n",
                            "      <td>25186</td>\n",
                            "      <td>21.0</td>\n",
                            "    </tr>\n",
                            "    <tr>\n",
                            "      <th>price_usd_per_m2</th>\n",
                            "      <td>25567</td>\n",
                            "      <td>21.0</td>\n",
                            "    </tr>\n",
                            "    <tr>\n",
                            "      <th>lat</th>\n",
                            "      <td>46496</td>\n",
                            "      <td>38.0</td>\n",
                            "    </tr>\n",
                            "    <tr>\n",
                            "      <th>lon</th>\n",
                            "      <td>46523</td>\n",
                            "      <td>38.0</td>\n",
                            "    </tr>\n",
                            "    <tr>\n",
                            "      <th>lat-lon</th>\n",
                            "      <td>47204</td>\n",
                            "      <td>39.0</td>\n",
                            "    </tr>\n",
                            "    <tr>\n",
                            "      <th>title</th>\n",
                            "      <td>72705</td>\n",
                            "      <td>60.0</td>\n",
                            "    </tr>\n",
                            "    <tr>\n",
                            "      <th>description</th>\n",
                            "      <td>104056</td>\n",
                            "      <td>86.0</td>\n",
                            "    </tr>\n",
                            "    <tr>\n",
                            "      <th>image_thumbnail</th>\n",
                            "      <td>114390</td>\n",
                            "      <td>94.0</td>\n",
                            "    </tr>\n",
                            "    <tr>\n",
                            "      <th>properati_url</th>\n",
                            "      <td>121220</td>\n",
                            "      <td>100.0</td>\n",
                            "    </tr>\n",
                            "  </tbody>\n",
                            "</table>\n",
                            "</div>"
                        ],
                        "text/plain": [
                            "                             count   perc\n",
                            "operation                        1    0.0\n",
                            "country_name                     1    0.0\n",
                            "property_type                    4    0.0\n",
                            "currency                         5    0.0\n",
                            "state_name                      28    0.0\n",
                            "rooms                           32    0.0\n",
                            "floor                          183    0.0\n",
                            "geonames_id                    647    1.0\n",
                            "expenses                       983    1.0\n",
                            "surface_covered_in_m2          996    1.0\n",
                            "place_name                    1061    1.0\n",
                            "place_with_parent_names       1164    1.0\n",
                            "surface_total_in_m2           1688    1.0\n",
                            "price                         9747    8.0\n",
                            "price_aprox_local_currency   10365    9.0\n",
                            "price_aprox_usd              10365    9.0\n",
                            "price_per_m2                 25186   21.0\n",
                            "price_usd_per_m2             25567   21.0\n",
                            "lat                          46496   38.0\n",
                            "lon                          46523   38.0\n",
                            "lat-lon                      47204   39.0\n",
                            "title                        72705   60.0\n",
                            "description                 104056   86.0\n",
                            "image_thumbnail             114390   94.0\n",
                            "properati_url               121220  100.0"
                        ]
                    },
                    "execution_count": 16,
                    "metadata": {},
                    "output_type": "execute_result"
                }
            ],
            "source": [
                "data_dispersion = data.apply(lambda x: x.unique().size)\n",
                "data_dispersion_df = pd.DataFrame(data_dispersion, columns=['count'])\n",
                "data_dispersion_df[\"perc\"] = (data_dispersion / data.shape[0]).round(2)*100\n",
                "data_dispersion_df.sort_values(ascending=True, by='count')"
            ]
        },
        {
            "cell_type": "code",
            "execution_count": null,
            "metadata": {},
            "outputs": [],
            "source": [
                "for col in data.columns:\n",
                "    if(data[col].nunique() < 100):\n",
                "        print(col)\n",
                "        print(data[col].unique())\n",
                "        print()"
            ]
        },
        {
            "cell_type": "markdown",
            "metadata": {},
            "source": [
                "### Analisis de correlacion entre columnas"
            ]
        },
        {
            "cell_type": "code",
            "execution_count": null,
            "metadata": {},
            "outputs": [],
            "source": [
                "# Identificamos si existe una correlacion entre variables\n",
                "corr = data.set_index('place_name').corr()\n",
                "sm.graphics.plot_corr(corr, xnames=list(corr.columns))\n",
                "plt.show()\n",
                "\n",
                "#Hay una alta correlacion entre price y price_per_m2, price_aprox_local_currency, price_aprox_usd: price está en dolares/pesos argentinos y local currency \n",
                "# en pesos, podría deberse al tipo de cambio utilizado."
            ]
        },
        {
            "cell_type": "markdown",
            "metadata": {},
            "source": [
                "## Exploración del dataset dividido en grupos de Properatti "
            ]
        },
        {
            "cell_type": "markdown",
            "metadata": {},
            "source": [
                "Para los siguientes pasos trabajaremos con el dataset dividido en tres grandes grupos:\n",
                "-  Localización: que contiene las columnas relacionadas con la ubicación del inmueble y a su vez este dividido en dos subgrupos:\n",
                "    - Ubicación: que contiene las columnas place_name, state_name, country_name y place_with_parent_names, es decir columnas con la localización política del inmueble.\n",
                "    - Georeferenciada: que contiene las columnas geonames_id, lat y lon, es decir columnas con la localización geográfica del inmueble.\n",
                "- Precio: que contiene las columnas relacionadas a los precios en distintas variantes. \n",
                "- Superficie: que contiene las columnas relacionadas con la superficie del inmueble"
            ]
        },
        {
            "cell_type": "code",
            "execution_count": 17,
            "metadata": {},
            "outputs": [],
            "source": [
                "# Definimos 4 grupos de variables para poder trabajar con ellas de forma mas sencilla\n",
                "places = ['place_name','place_with_parent_names', 'country_name','state_name']\n",
                "geolocation = ['geonames_id', 'lat-lon','lat','lon']\n",
                "price = ['price','currency','price_aprox_local_currency','price_aprox_usd','price_usd_per_m2','price_per_m2']\n",
                "surface = ['surface_total_in_m2','surface_covered_in_m2']"
            ]
        },
        {
            "cell_type": "markdown",
            "metadata": {},
            "source": [
                "### Localización por ubicación política"
            ]
        },
        {
            "cell_type": "markdown",
            "metadata": {},
            "source": [
                "Exploración de las variables relacionadas con la ubicación: Por Provincia, Ciudad/Barrio, el conjunto de ubicación \n",
                "- country_name\n",
                "- state_name \n",
                "- place_name                        \n",
                "- place_with_parent_names              \n",
                "\n",
                "vamos a:\n",
                "\n",
                "- Explorar las variables \n",
                "- Visualizar los nan de estas columnas\n",
                "- Relacionar las columnas country_name, state_name, place_name con la concatenación de ubicación en place_with_parent_names para ver si efectivamente corresponden o hay datos mal cargados"
            ]
        },
        {
            "cell_type": "code",
            "execution_count": 18,
            "metadata": {},
            "outputs": [
                {
                    "data": {
                        "text/html": [
                            "<div>\n",
                            "<style scoped>\n",
                            "    .dataframe tbody tr th:only-of-type {\n",
                            "        vertical-align: middle;\n",
                            "    }\n",
                            "\n",
                            "    .dataframe tbody tr th {\n",
                            "        vertical-align: top;\n",
                            "    }\n",
                            "\n",
                            "    .dataframe thead th {\n",
                            "        text-align: right;\n",
                            "    }\n",
                            "</style>\n",
                            "<table border=\"1\" class=\"dataframe\">\n",
                            "  <thead>\n",
                            "    <tr style=\"text-align: right;\">\n",
                            "      <th></th>\n",
                            "      <th>place_name</th>\n",
                            "      <th>place_with_parent_names</th>\n",
                            "      <th>country_name</th>\n",
                            "      <th>state_name</th>\n",
                            "    </tr>\n",
                            "  </thead>\n",
                            "  <tbody>\n",
                            "    <tr>\n",
                            "      <th>0</th>\n",
                            "      <td>Mataderos</td>\n",
                            "      <td>|Argentina|Capital Federal|Mataderos|</td>\n",
                            "      <td>Argentina</td>\n",
                            "      <td>Capital Federal</td>\n",
                            "    </tr>\n",
                            "    <tr>\n",
                            "      <th>1</th>\n",
                            "      <td>La Plata</td>\n",
                            "      <td>|Argentina|Bs.As. G.B.A. Zona Sur|La Plata|</td>\n",
                            "      <td>Argentina</td>\n",
                            "      <td>Bs.As. G.B.A. Zona Sur</td>\n",
                            "    </tr>\n",
                            "    <tr>\n",
                            "      <th>2</th>\n",
                            "      <td>Mataderos</td>\n",
                            "      <td>|Argentina|Capital Federal|Mataderos|</td>\n",
                            "      <td>Argentina</td>\n",
                            "      <td>Capital Federal</td>\n",
                            "    </tr>\n",
                            "    <tr>\n",
                            "      <th>3</th>\n",
                            "      <td>Liniers</td>\n",
                            "      <td>|Argentina|Capital Federal|Liniers|</td>\n",
                            "      <td>Argentina</td>\n",
                            "      <td>Capital Federal</td>\n",
                            "    </tr>\n",
                            "    <tr>\n",
                            "      <th>4</th>\n",
                            "      <td>Centro</td>\n",
                            "      <td>|Argentina|Buenos Aires Costa Atlántica|Mar de...</td>\n",
                            "      <td>Argentina</td>\n",
                            "      <td>Buenos Aires Costa Atlántica</td>\n",
                            "    </tr>\n",
                            "  </tbody>\n",
                            "</table>\n",
                            "</div>"
                        ],
                        "text/plain": [
                            "  place_name                            place_with_parent_names country_name  \\\n",
                            "0  Mataderos              |Argentina|Capital Federal|Mataderos|    Argentina   \n",
                            "1   La Plata        |Argentina|Bs.As. G.B.A. Zona Sur|La Plata|    Argentina   \n",
                            "2  Mataderos              |Argentina|Capital Federal|Mataderos|    Argentina   \n",
                            "3    Liniers                |Argentina|Capital Federal|Liniers|    Argentina   \n",
                            "4     Centro  |Argentina|Buenos Aires Costa Atlántica|Mar de...    Argentina   \n",
                            "\n",
                            "                     state_name  \n",
                            "0               Capital Federal  \n",
                            "1        Bs.As. G.B.A. Zona Sur  \n",
                            "2               Capital Federal  \n",
                            "3               Capital Federal  \n",
                            "4  Buenos Aires Costa Atlántica  "
                        ]
                    },
                    "execution_count": 18,
                    "metadata": {},
                    "output_type": "execute_result"
                }
            ],
            "source": [
                "#Exploramos el conjunto total y las variables \n",
                "# Creamos un nuevo dataframe con las columnas que nos interesan\n",
                "location_data = data[places].copy()\n",
                "location_data.head()"
            ]
        },
        {
            "cell_type": "code",
            "execution_count": 19,
            "metadata": {},
            "outputs": [
                {
                    "data": {
                        "text/html": [
                            "<div>\n",
                            "<style scoped>\n",
                            "    .dataframe tbody tr th:only-of-type {\n",
                            "        vertical-align: middle;\n",
                            "    }\n",
                            "\n",
                            "    .dataframe tbody tr th {\n",
                            "        vertical-align: top;\n",
                            "    }\n",
                            "\n",
                            "    .dataframe thead th {\n",
                            "        text-align: right;\n",
                            "    }\n",
                            "</style>\n",
                            "<table border=\"1\" class=\"dataframe\">\n",
                            "  <thead>\n",
                            "    <tr style=\"text-align: right;\">\n",
                            "      <th></th>\n",
                            "      <th>place_name</th>\n",
                            "      <th>place_with_parent_names</th>\n",
                            "      <th>country_name</th>\n",
                            "      <th>state_name</th>\n",
                            "    </tr>\n",
                            "  </thead>\n",
                            "  <tbody>\n",
                            "    <tr>\n",
                            "      <th>0</th>\n",
                            "      <td>Mataderos</td>\n",
                            "      <td>|Argentina|Capital Federal|Mataderos|</td>\n",
                            "      <td>Argentina</td>\n",
                            "      <td>Capital Federal</td>\n",
                            "    </tr>\n",
                            "    <tr>\n",
                            "      <th>1</th>\n",
                            "      <td>La Plata</td>\n",
                            "      <td>|Argentina|Bs.As. G.B.A. Zona Sur|La Plata|</td>\n",
                            "      <td>Argentina</td>\n",
                            "      <td>Bs.As. G.B.A. Zona Sur</td>\n",
                            "    </tr>\n",
                            "    <tr>\n",
                            "      <th>2</th>\n",
                            "      <td>Mataderos</td>\n",
                            "      <td>|Argentina|Capital Federal|Mataderos|</td>\n",
                            "      <td>Argentina</td>\n",
                            "      <td>Capital Federal</td>\n",
                            "    </tr>\n",
                            "    <tr>\n",
                            "      <th>3</th>\n",
                            "      <td>Liniers</td>\n",
                            "      <td>|Argentina|Capital Federal|Liniers|</td>\n",
                            "      <td>Argentina</td>\n",
                            "      <td>Capital Federal</td>\n",
                            "    </tr>\n",
                            "    <tr>\n",
                            "      <th>4</th>\n",
                            "      <td>Centro</td>\n",
                            "      <td>|Argentina|Buenos Aires Costa Atlántica|Mar de...</td>\n",
                            "      <td>Argentina</td>\n",
                            "      <td>Buenos Aires Costa Atlántica</td>\n",
                            "    </tr>\n",
                            "  </tbody>\n",
                            "</table>\n",
                            "</div>"
                        ],
                        "text/plain": [
                            "  place_name                            place_with_parent_names country_name  \\\n",
                            "0  Mataderos              |Argentina|Capital Federal|Mataderos|    Argentina   \n",
                            "1   La Plata        |Argentina|Bs.As. G.B.A. Zona Sur|La Plata|    Argentina   \n",
                            "2  Mataderos              |Argentina|Capital Federal|Mataderos|    Argentina   \n",
                            "3    Liniers                |Argentina|Capital Federal|Liniers|    Argentina   \n",
                            "4     Centro  |Argentina|Buenos Aires Costa Atlántica|Mar de...    Argentina   \n",
                            "\n",
                            "                     state_name  \n",
                            "0               Capital Federal  \n",
                            "1        Bs.As. G.B.A. Zona Sur  \n",
                            "2               Capital Federal  \n",
                            "3               Capital Federal  \n",
                            "4  Buenos Aires Costa Atlántica  "
                        ]
                    },
                    "execution_count": 19,
                    "metadata": {},
                    "output_type": "execute_result"
                }
            ],
            "source": [
                "places_data = data[places].copy()   #asignamos el dataframe a una variable que utilizaremos en adelante\n",
                "places_data.head()"
            ]
        },
        {
            "cell_type": "code",
            "execution_count": null,
            "metadata": {},
            "outputs": [],
            "source": [
                "places_data.sample(10)"
            ]
        },
        {
            "cell_type": "code",
            "execution_count": 20,
            "metadata": {},
            "outputs": [
                {
                    "data": {
                        "text/html": [
                            "<div>\n",
                            "<style scoped>\n",
                            "    .dataframe tbody tr th:only-of-type {\n",
                            "        vertical-align: middle;\n",
                            "    }\n",
                            "\n",
                            "    .dataframe tbody tr th {\n",
                            "        vertical-align: top;\n",
                            "    }\n",
                            "\n",
                            "    .dataframe thead th {\n",
                            "        text-align: right;\n",
                            "    }\n",
                            "</style>\n",
                            "<table border=\"1\" class=\"dataframe\">\n",
                            "  <thead>\n",
                            "    <tr style=\"text-align: right;\">\n",
                            "      <th></th>\n",
                            "      <th>place_name</th>\n",
                            "      <th>place_with_parent_names</th>\n",
                            "      <th>country_name</th>\n",
                            "      <th>state_name</th>\n",
                            "    </tr>\n",
                            "  </thead>\n",
                            "  <tbody>\n",
                            "    <tr>\n",
                            "      <th>count</th>\n",
                            "      <td>121197</td>\n",
                            "      <td>121220</td>\n",
                            "      <td>121220</td>\n",
                            "      <td>121220</td>\n",
                            "    </tr>\n",
                            "    <tr>\n",
                            "      <th>unique</th>\n",
                            "      <td>1060</td>\n",
                            "      <td>1164</td>\n",
                            "      <td>1</td>\n",
                            "      <td>28</td>\n",
                            "    </tr>\n",
                            "    <tr>\n",
                            "      <th>top</th>\n",
                            "      <td>Córdoba</td>\n",
                            "      <td>|Argentina|Santa Fe|Rosario|</td>\n",
                            "      <td>Argentina</td>\n",
                            "      <td>Capital Federal</td>\n",
                            "    </tr>\n",
                            "    <tr>\n",
                            "      <th>freq</th>\n",
                            "      <td>9254</td>\n",
                            "      <td>8504</td>\n",
                            "      <td>121220</td>\n",
                            "      <td>32316</td>\n",
                            "    </tr>\n",
                            "  </tbody>\n",
                            "</table>\n",
                            "</div>"
                        ],
                        "text/plain": [
                            "       place_name       place_with_parent_names country_name       state_name\n",
                            "count      121197                        121220       121220           121220\n",
                            "unique       1060                          1164            1               28\n",
                            "top       Córdoba  |Argentina|Santa Fe|Rosario|    Argentina  Capital Federal\n",
                            "freq         9254                          8504       121220            32316"
                        ]
                    },
                    "execution_count": 20,
                    "metadata": {},
                    "output_type": "execute_result"
                }
            ],
            "source": [
                "#Vemos más a detalle por variable los registros totales, los registros unicos, el dato más frecuente y su frecuencia\n",
                "#Vemos que state_name contiene más de las 23 provincias que deberia tener Argentina:posiblemente estén datos diferentes a provincias\n",
                "places_data[places].describe()"
            ]
        },
        {
            "cell_type": "code",
            "execution_count": 21,
            "metadata": {},
            "outputs": [
                {
                    "data": {
                        "text/plain": [
                            "Capital Federal                 32316\n",
                            "Bs.As. G.B.A. Zona Norte        25560\n",
                            "Bs.As. G.B.A. Zona Sur          13952\n",
                            "Córdoba                         12069\n",
                            "Santa Fe                        10172\n",
                            "Buenos Aires Costa Atlántica    10006\n",
                            "Bs.As. G.B.A. Zona Oeste         9322\n",
                            "Buenos Aires Interior            2291\n",
                            "Río Negro                         808\n",
                            "Neuquén                           733\n",
                            "Mendoza                           681\n",
                            "Tucumán                           674\n",
                            "Corrientes                        583\n",
                            "Misiones                          464\n",
                            "Entre Ríos                        369\n",
                            "Salta                             278\n",
                            "Chubut                            259\n",
                            "San Luis                          252\n",
                            "La Pampa                          157\n",
                            "Formosa                            65\n",
                            "Chaco                              57\n",
                            "San Juan                           40\n",
                            "Tierra Del Fuego                   31\n",
                            "Catamarca                          27\n",
                            "Jujuy                              26\n",
                            "Santa Cruz                         20\n",
                            "Santiago Del Estero                 4\n",
                            "La Rioja                            4\n",
                            "Name: state_name, dtype: int64"
                        ]
                    },
                    "execution_count": 21,
                    "metadata": {},
                    "output_type": "execute_result"
                }
            ],
            "source": [
                "#ubicación \"State_name\" ¿por provincia?\n",
                "#vamos a ver un poco más cuales son los valores unicos de state_name que deberian relacionarse al nombre de las provincias\n",
                "places_data[\"state_name\"].value_counts() #Excludes NA values by default.\n",
                "\n",
                "#efectivamente state_name si contiene las 23 provincias argentinas, sin embargo, divide a Buenos Aires en la capital federal\n",
                "# y el gran buenos aires más la costa atlantica \n",
                "# observamos que los datos están concentrados en Buenos Aires (Cap fed, zona norte, zona sur, oeste, atlántica, interior),\n",
                "#  Cordoba, Santa fe "
            ]
        },
        {
            "cell_type": "code",
            "execution_count": 22,
            "metadata": {},
            "outputs": [
                {
                    "data": {
                        "text/plain": [
                            "Córdoba            9254\n",
                            "Rosario            8504\n",
                            "Mar del Plata      6534\n",
                            "Tigre              3324\n",
                            "Nordelta           3315\n",
                            "Belgrano           2992\n",
                            "Palermo            2885\n",
                            "La Plata           2534\n",
                            "Caballito          2273\n",
                            "Pilar              2228\n",
                            "Villa Urquiza      1632\n",
                            "Olivos             1590\n",
                            "Recoleta           1547\n",
                            "Lomas de Zamora    1529\n",
                            "Flores             1354\n",
                            "Ituzaingó          1340\n",
                            "Villa Crespo       1331\n",
                            "Capital Federal    1297\n",
                            "San Telmo          1216\n",
                            "Morón              1209\n",
                            "Name: place_name, dtype: int64"
                        ]
                    },
                    "execution_count": 22,
                    "metadata": {},
                    "output_type": "execute_result"
                }
            ],
            "source": [
                "# ubicación por place_name ¿ciudad-municipio o barrio?\n",
                "places_data[\"place_name\"].value_counts().head(20)\n",
                "# NOtamos que existe una mexcla entre ciudades,municipios y barrios.\n",
                "# Tigre es una ciudad al norte de la ciudad de Buenos Aires.\n",
                "# Nordelta es una localidad urbana en el Partido de Tigre, Provincia de Buenos Aires \n",
                "## esta columna mezcla ciudades y barrios\n",
                "# Capital Federal está como place_name "
            ]
        },
        {
            "cell_type": "code",
            "execution_count": 23,
            "metadata": {},
            "outputs": [
                {
                    "data": {
                        "text/plain": [
                            "|Argentina|Santa Fe|Rosario|                              8504\n",
                            "|Argentina|Córdoba|Córdoba|                               6606\n",
                            "|Argentina|Buenos Aires Costa Atlántica|Mar del Plata|    6534\n",
                            "|Argentina|Bs.As. G.B.A. Zona Norte|Tigre|Nordelta|       3315\n",
                            "|Argentina|Capital Federal|Belgrano|                      2992\n",
                            "|Argentina|Capital Federal|Palermo|                       2885\n",
                            "|Argentina|Córdoba|                                       2648\n",
                            "|Argentina|Bs.As. G.B.A. Zona Norte|Tigre|                2359\n",
                            "|Argentina|Capital Federal|Caballito|                     2273\n",
                            "|Argentina|Bs.As. G.B.A. Zona Norte|Pilar|                1857\n",
                            "Name: place_with_parent_names, dtype: int64"
                        ]
                    },
                    "execution_count": 23,
                    "metadata": {},
                    "output_type": "execute_result"
                }
            ],
            "source": [
                "#nVemos algunos registros de place_with_parent_names\n",
                "places_data[\"place_with_parent_names\"].value_counts().head(10) \n",
                "\n",
                "# La variable representa el país/ \"country_name\", la provincia/ \"state_name\" (o division de la provincia), la ciudad principal/partido-municipio o barrio\n",
                "# en el caso de capital federal\"place_name\"\n",
                "# y un adicional que puede ser una localidad del partido (ejem: |Argentina|Bs.As. G.B.A. Zona Norte|Tigre|*Nordelta*|)\n",
                "# los registros tienen entre 2  y 4 concatenaciones: 2 concatenaciones solo muestra hasta la ubicación por provincia, no brinda información relevante\n",
                "### |Argentina|Capital Federal|  1297 no tiene nombre de barrio, desestimar o completar? \n",
                "### |Argentina|Córdoba|    2648no tiene nombre de barrio, desestimar o completar? \n",
                "# esta variable puede usarse para completar los datos faltantes de place_name \n",
                "# podemos chequear si el atributo \"place_name\" coincide con los datos aquí plasmados"
            ]
        },
        {
            "cell_type": "code",
            "execution_count": 24,
            "metadata": {},
            "outputs": [
                {
                    "data": {
                        "text/html": [
                            "<div>\n",
                            "<style scoped>\n",
                            "    .dataframe tbody tr th:only-of-type {\n",
                            "        vertical-align: middle;\n",
                            "    }\n",
                            "\n",
                            "    .dataframe tbody tr th {\n",
                            "        vertical-align: top;\n",
                            "    }\n",
                            "\n",
                            "    .dataframe thead th {\n",
                            "        text-align: right;\n",
                            "    }\n",
                            "</style>\n",
                            "<table border=\"1\" class=\"dataframe\">\n",
                            "  <thead>\n",
                            "    <tr style=\"text-align: right;\">\n",
                            "      <th></th>\n",
                            "      <th>count</th>\n",
                            "      <th>unique</th>\n",
                            "      <th>top</th>\n",
                            "      <th>freq</th>\n",
                            "    </tr>\n",
                            "    <tr>\n",
                            "      <th>state_name</th>\n",
                            "      <th></th>\n",
                            "      <th></th>\n",
                            "      <th></th>\n",
                            "      <th></th>\n",
                            "    </tr>\n",
                            "  </thead>\n",
                            "  <tbody>\n",
                            "    <tr>\n",
                            "      <th>Bs.As. G.B.A. Zona Norte</th>\n",
                            "      <td>25537</td>\n",
                            "      <td>264</td>\n",
                            "      <td>Tigre</td>\n",
                            "      <td>3324</td>\n",
                            "    </tr>\n",
                            "    <tr>\n",
                            "      <th>Bs.As. G.B.A. Zona Oeste</th>\n",
                            "      <td>9322</td>\n",
                            "      <td>78</td>\n",
                            "      <td>Morón</td>\n",
                            "      <td>1209</td>\n",
                            "    </tr>\n",
                            "    <tr>\n",
                            "      <th>Bs.As. G.B.A. Zona Sur</th>\n",
                            "      <td>13952</td>\n",
                            "      <td>123</td>\n",
                            "      <td>La Plata</td>\n",
                            "      <td>2534</td>\n",
                            "    </tr>\n",
                            "    <tr>\n",
                            "      <th>Buenos Aires Costa Atlántica</th>\n",
                            "      <td>10006</td>\n",
                            "      <td>87</td>\n",
                            "      <td>Mar del Plata</td>\n",
                            "      <td>6534</td>\n",
                            "    </tr>\n",
                            "    <tr>\n",
                            "      <th>Buenos Aires Interior</th>\n",
                            "      <td>2291</td>\n",
                            "      <td>99</td>\n",
                            "      <td>Bahía Blanca</td>\n",
                            "      <td>480</td>\n",
                            "    </tr>\n",
                            "    <tr>\n",
                            "      <th>Capital Federal</th>\n",
                            "      <td>32316</td>\n",
                            "      <td>62</td>\n",
                            "      <td>Belgrano</td>\n",
                            "      <td>2992</td>\n",
                            "    </tr>\n",
                            "    <tr>\n",
                            "      <th>Catamarca</th>\n",
                            "      <td>27</td>\n",
                            "      <td>6</td>\n",
                            "      <td>Manantiales</td>\n",
                            "      <td>17</td>\n",
                            "    </tr>\n",
                            "    <tr>\n",
                            "      <th>Chaco</th>\n",
                            "      <td>57</td>\n",
                            "      <td>7</td>\n",
                            "      <td>Resistencia</td>\n",
                            "      <td>37</td>\n",
                            "    </tr>\n",
                            "    <tr>\n",
                            "      <th>Chubut</th>\n",
                            "      <td>259</td>\n",
                            "      <td>16</td>\n",
                            "      <td>Cushamen</td>\n",
                            "      <td>100</td>\n",
                            "    </tr>\n",
                            "    <tr>\n",
                            "      <th>Corrientes</th>\n",
                            "      <td>583</td>\n",
                            "      <td>6</td>\n",
                            "      <td>Ituzaingó</td>\n",
                            "      <td>508</td>\n",
                            "    </tr>\n",
                            "    <tr>\n",
                            "      <th>Córdoba</th>\n",
                            "      <td>12069</td>\n",
                            "      <td>113</td>\n",
                            "      <td>Córdoba</td>\n",
                            "      <td>9254</td>\n",
                            "    </tr>\n",
                            "    <tr>\n",
                            "      <th>Entre Ríos</th>\n",
                            "      <td>369</td>\n",
                            "      <td>25</td>\n",
                            "      <td>Paraná</td>\n",
                            "      <td>144</td>\n",
                            "    </tr>\n",
                            "    <tr>\n",
                            "      <th>Formosa</th>\n",
                            "      <td>65</td>\n",
                            "      <td>1</td>\n",
                            "      <td>Formosa</td>\n",
                            "      <td>65</td>\n",
                            "    </tr>\n",
                            "    <tr>\n",
                            "      <th>Jujuy</th>\n",
                            "      <td>26</td>\n",
                            "      <td>3</td>\n",
                            "      <td>San Salvador de Jujuy</td>\n",
                            "      <td>24</td>\n",
                            "    </tr>\n",
                            "    <tr>\n",
                            "      <th>La Pampa</th>\n",
                            "      <td>157</td>\n",
                            "      <td>9</td>\n",
                            "      <td>Santa Rosa</td>\n",
                            "      <td>82</td>\n",
                            "    </tr>\n",
                            "    <tr>\n",
                            "      <th>La Rioja</th>\n",
                            "      <td>4</td>\n",
                            "      <td>2</td>\n",
                            "      <td>La Rioja</td>\n",
                            "      <td>3</td>\n",
                            "    </tr>\n",
                            "    <tr>\n",
                            "      <th>Mendoza</th>\n",
                            "      <td>681</td>\n",
                            "      <td>29</td>\n",
                            "      <td>Mendoza</td>\n",
                            "      <td>229</td>\n",
                            "    </tr>\n",
                            "    <tr>\n",
                            "      <th>Misiones</th>\n",
                            "      <td>464</td>\n",
                            "      <td>18</td>\n",
                            "      <td>Posadas</td>\n",
                            "      <td>365</td>\n",
                            "    </tr>\n",
                            "    <tr>\n",
                            "      <th>Neuquén</th>\n",
                            "      <td>733</td>\n",
                            "      <td>10</td>\n",
                            "      <td>Confluencia</td>\n",
                            "      <td>231</td>\n",
                            "    </tr>\n",
                            "    <tr>\n",
                            "      <th>Río Negro</th>\n",
                            "      <td>808</td>\n",
                            "      <td>12</td>\n",
                            "      <td>San Carlos de Bariloche</td>\n",
                            "      <td>639</td>\n",
                            "    </tr>\n",
                            "    <tr>\n",
                            "      <th>Salta</th>\n",
                            "      <td>278</td>\n",
                            "      <td>9</td>\n",
                            "      <td>Salta</td>\n",
                            "      <td>242</td>\n",
                            "    </tr>\n",
                            "    <tr>\n",
                            "      <th>San Juan</th>\n",
                            "      <td>40</td>\n",
                            "      <td>8</td>\n",
                            "      <td>San Juan</td>\n",
                            "      <td>16</td>\n",
                            "    </tr>\n",
                            "    <tr>\n",
                            "      <th>San Luis</th>\n",
                            "      <td>252</td>\n",
                            "      <td>14</td>\n",
                            "      <td>Merlo</td>\n",
                            "      <td>104</td>\n",
                            "    </tr>\n",
                            "    <tr>\n",
                            "      <th>Santa Cruz</th>\n",
                            "      <td>20</td>\n",
                            "      <td>6</td>\n",
                            "      <td>Caleta Olivia</td>\n",
                            "      <td>14</td>\n",
                            "    </tr>\n",
                            "    <tr>\n",
                            "      <th>Santa Fe</th>\n",
                            "      <td>10172</td>\n",
                            "      <td>76</td>\n",
                            "      <td>Rosario</td>\n",
                            "      <td>8504</td>\n",
                            "    </tr>\n",
                            "    <tr>\n",
                            "      <th>Santiago Del Estero</th>\n",
                            "      <td>4</td>\n",
                            "      <td>2</td>\n",
                            "      <td>Santiago Del Estero</td>\n",
                            "      <td>3</td>\n",
                            "    </tr>\n",
                            "    <tr>\n",
                            "      <th>Tierra Del Fuego</th>\n",
                            "      <td>31</td>\n",
                            "      <td>3</td>\n",
                            "      <td>Río Grande</td>\n",
                            "      <td>17</td>\n",
                            "    </tr>\n",
                            "    <tr>\n",
                            "      <th>Tucumán</th>\n",
                            "      <td>674</td>\n",
                            "      <td>10</td>\n",
                            "      <td>San Miguel de Tucumán</td>\n",
                            "      <td>362</td>\n",
                            "    </tr>\n",
                            "  </tbody>\n",
                            "</table>\n",
                            "</div>"
                        ],
                        "text/plain": [
                            "                              count unique                      top  freq\n",
                            "state_name                                                               \n",
                            "Bs.As. G.B.A. Zona Norte      25537    264                    Tigre  3324\n",
                            "Bs.As. G.B.A. Zona Oeste       9322     78                    Morón  1209\n",
                            "Bs.As. G.B.A. Zona Sur        13952    123                 La Plata  2534\n",
                            "Buenos Aires Costa Atlántica  10006     87            Mar del Plata  6534\n",
                            "Buenos Aires Interior          2291     99             Bahía Blanca   480\n",
                            "Capital Federal               32316     62                 Belgrano  2992\n",
                            "Catamarca                        27      6              Manantiales    17\n",
                            "Chaco                            57      7              Resistencia    37\n",
                            "Chubut                          259     16                 Cushamen   100\n",
                            "Corrientes                      583      6                Ituzaingó   508\n",
                            "Córdoba                       12069    113                  Córdoba  9254\n",
                            "Entre Ríos                      369     25                   Paraná   144\n",
                            "Formosa                          65      1                  Formosa    65\n",
                            "Jujuy                            26      3    San Salvador de Jujuy    24\n",
                            "La Pampa                        157      9               Santa Rosa    82\n",
                            "La Rioja                          4      2                 La Rioja     3\n",
                            "Mendoza                         681     29                  Mendoza   229\n",
                            "Misiones                        464     18                  Posadas   365\n",
                            "Neuquén                         733     10              Confluencia   231\n",
                            "Río Negro                       808     12  San Carlos de Bariloche   639\n",
                            "Salta                           278      9                    Salta   242\n",
                            "San Juan                         40      8                 San Juan    16\n",
                            "San Luis                        252     14                    Merlo   104\n",
                            "Santa Cruz                       20      6            Caleta Olivia    14\n",
                            "Santa Fe                      10172     76                  Rosario  8504\n",
                            "Santiago Del Estero               4      2      Santiago Del Estero     3\n",
                            "Tierra Del Fuego                 31      3               Río Grande    17\n",
                            "Tucumán                         674     10    San Miguel de Tucumán   362"
                        ]
                    },
                    "execution_count": 24,
                    "metadata": {},
                    "output_type": "execute_result"
                }
            ],
            "source": [
                "# Para state_name vemos: cuales son los datos de place_name más frecuente, su frecuencia y cuantos registros diferentes existen \n",
                "places_data.groupby([\"state_name\"])[\"place_name\"].describe()\n",
                "\n",
                "# La variable place_name está representado principalmente por una ciudad-municipio de la provincia o division de esta"
            ]
        },
        {
            "cell_type": "markdown",
            "metadata": {},
            "source": [
                "## Verificar la calidad de los datos:\n"
            ]
        },
        {
            "cell_type": "markdown",
            "metadata": {},
            "source": [
                "### Ubicación"
            ]
        },
        {
            "cell_type": "markdown",
            "metadata": {},
            "source": [
                "Para verificar la calidad de los datos, principalmente, vamos a comparar las columnas que deberían tener la misma información y ver si coinciden o no. Por ejemplo, la columna \"place_with_parent_names\" debería contener dentro de su array la misma información que \"place_name\". Vamos a verificar si esto es cierto o no."
            ]
        },
        {
            "cell_type": "markdown",
            "metadata": {},
            "source": [
                "#### Corroborar si place_with_parent_names coincide con country_name, state_name, place_name "
            ]
        },
        {
            "cell_type": "code",
            "execution_count": 25,
            "metadata": {},
            "outputs": [
                {
                    "data": {
                        "text/plain": [
                            "0              [Argentina, Capital Federal, Mataderos]\n",
                            "1        [Argentina, Bs.As. G.B.A. Zona Sur, La Plata]\n",
                            "2              [Argentina, Capital Federal, Mataderos]\n",
                            "3                [Argentina, Capital Federal, Liniers]\n",
                            "4    [Argentina, Buenos Aires Costa Atlántica, Mar ...\n",
                            "Name: place_with_parent_names, dtype: object"
                        ]
                    },
                    "execution_count": 25,
                    "metadata": {},
                    "output_type": "execute_result"
                }
            ],
            "source": [
                "# Convertimos la columna place_with_parent_names en una lista usando el separador \"|\"\n",
                "# Eliminamos el separador inicial y final de la lista\n",
                "places_data['place_with_parent_names'] = places_data['place_with_parent_names'].apply(lambda x: x.lstrip(\"|\").rstrip(\"|\").split(\"|\"))\n",
                "places_data['place_with_parent_names'].head()"
            ]
        },
        {
            "cell_type": "code",
            "execution_count": 26,
            "metadata": {},
            "outputs": [],
            "source": [
                "# Función para chequear si los valores de la columna place_with_parent_names coinciden exactamente con \n",
                "# los valores de las columnas country_name, state_name, place_name\n",
                "# Coincidir exactamente significa que la columna place_with_parent_names sólo tiene 3 elementos \n",
                "# y que los valores de los elementos coinciden en orden con los valores de las columnas country_name, state_name, place_name\n",
                "\n",
                "def is_location_different(row):\n",
                "    # la lista debería tener 3 elementos\n",
                "    if len(row['place_with_parent_names']) != 3:\n",
                "        return True\n",
                "    if row['country_name'] == row['place_with_parent_names'][0] \\\n",
                "    and row['state_name'] == row['place_with_parent_names'][1] \\\n",
                "    and row['place_name'] == row['place_with_parent_names'][2]:\n",
                "        return False\n",
                "    else:\n",
                "        return True"
            ]
        },
        {
            "cell_type": "code",
            "execution_count": 27,
            "metadata": {},
            "outputs": [
                {
                    "name": "stdout",
                    "output_type": "stream",
                    "text": [
                        "place_with_parent_names difference with country_name, state_name and place_name: 45220\n"
                    ]
                },
                {
                    "data": {
                        "text/html": [
                            "<div>\n",
                            "<style scoped>\n",
                            "    .dataframe tbody tr th:only-of-type {\n",
                            "        vertical-align: middle;\n",
                            "    }\n",
                            "\n",
                            "    .dataframe tbody tr th {\n",
                            "        vertical-align: top;\n",
                            "    }\n",
                            "\n",
                            "    .dataframe thead th {\n",
                            "        text-align: right;\n",
                            "    }\n",
                            "</style>\n",
                            "<table border=\"1\" class=\"dataframe\">\n",
                            "  <thead>\n",
                            "    <tr style=\"text-align: right;\">\n",
                            "      <th></th>\n",
                            "      <th>place_name</th>\n",
                            "      <th>place_with_parent_names</th>\n",
                            "      <th>country_name</th>\n",
                            "      <th>state_name</th>\n",
                            "    </tr>\n",
                            "  </thead>\n",
                            "  <tbody>\n",
                            "    <tr>\n",
                            "      <th>105338</th>\n",
                            "      <td>City Bell</td>\n",
                            "      <td>[Argentina, Bs.As. G.B.A. Zona Sur, La Plata, ...</td>\n",
                            "      <td>Argentina</td>\n",
                            "      <td>Bs.As. G.B.A. Zona Sur</td>\n",
                            "    </tr>\n",
                            "    <tr>\n",
                            "      <th>104694</th>\n",
                            "      <td>City Bell</td>\n",
                            "      <td>[Argentina, Bs.As. G.B.A. Zona Sur, La Plata, ...</td>\n",
                            "      <td>Argentina</td>\n",
                            "      <td>Bs.As. G.B.A. Zona Sur</td>\n",
                            "    </tr>\n",
                            "    <tr>\n",
                            "      <th>83810</th>\n",
                            "      <td>Villa Lynch</td>\n",
                            "      <td>[Argentina, Bs.As. G.B.A. Zona Norte, General ...</td>\n",
                            "      <td>Argentina</td>\n",
                            "      <td>Bs.As. G.B.A. Zona Norte</td>\n",
                            "    </tr>\n",
                            "    <tr>\n",
                            "      <th>43940</th>\n",
                            "      <td>Bernal</td>\n",
                            "      <td>[Argentina, Bs.As. G.B.A. Zona Sur, Quilmes, B...</td>\n",
                            "      <td>Argentina</td>\n",
                            "      <td>Bs.As. G.B.A. Zona Sur</td>\n",
                            "    </tr>\n",
                            "    <tr>\n",
                            "      <th>85087</th>\n",
                            "      <td>Vicente López</td>\n",
                            "      <td>[Argentina, Bs.As. G.B.A. Zona Norte, Vicente ...</td>\n",
                            "      <td>Argentina</td>\n",
                            "      <td>Bs.As. G.B.A. Zona Norte</td>\n",
                            "    </tr>\n",
                            "    <tr>\n",
                            "      <th>93332</th>\n",
                            "      <td>Playa Chica</td>\n",
                            "      <td>[Argentina, Buenos Aires Costa Atlántica, Mar ...</td>\n",
                            "      <td>Argentina</td>\n",
                            "      <td>Buenos Aires Costa Atlántica</td>\n",
                            "    </tr>\n",
                            "    <tr>\n",
                            "      <th>8901</th>\n",
                            "      <td>Acassuso</td>\n",
                            "      <td>[Argentina, Bs.As. G.B.A. Zona Norte, San Isid...</td>\n",
                            "      <td>Argentina</td>\n",
                            "      <td>Bs.As. G.B.A. Zona Norte</td>\n",
                            "    </tr>\n",
                            "    <tr>\n",
                            "      <th>42494</th>\n",
                            "      <td>Haras del Pilar - Las Praderas 1 y 2</td>\n",
                            "      <td>[Argentina, Bs.As. G.B.A. Zona Norte, Pilar, H...</td>\n",
                            "      <td>Argentina</td>\n",
                            "      <td>Bs.As. G.B.A. Zona Norte</td>\n",
                            "    </tr>\n",
                            "    <tr>\n",
                            "      <th>56357</th>\n",
                            "      <td>Ciudadela</td>\n",
                            "      <td>[Argentina, Bs.As. G.B.A. Zona Oeste, Tres de ...</td>\n",
                            "      <td>Argentina</td>\n",
                            "      <td>Bs.As. G.B.A. Zona Oeste</td>\n",
                            "    </tr>\n",
                            "    <tr>\n",
                            "      <th>611</th>\n",
                            "      <td>Barrio San Matías</td>\n",
                            "      <td>[Argentina, Bs.As. G.B.A. Zona Norte, Escobar,...</td>\n",
                            "      <td>Argentina</td>\n",
                            "      <td>Bs.As. G.B.A. Zona Norte</td>\n",
                            "    </tr>\n",
                            "  </tbody>\n",
                            "</table>\n",
                            "</div>"
                        ],
                        "text/plain": [
                            "                                  place_name  \\\n",
                            "105338                             City Bell   \n",
                            "104694                             City Bell   \n",
                            "83810                            Villa Lynch   \n",
                            "43940                                 Bernal   \n",
                            "85087                          Vicente López   \n",
                            "93332                            Playa Chica   \n",
                            "8901                                Acassuso   \n",
                            "42494   Haras del Pilar - Las Praderas 1 y 2   \n",
                            "56357                              Ciudadela   \n",
                            "611                        Barrio San Matías   \n",
                            "\n",
                            "                                  place_with_parent_names country_name  \\\n",
                            "105338  [Argentina, Bs.As. G.B.A. Zona Sur, La Plata, ...    Argentina   \n",
                            "104694  [Argentina, Bs.As. G.B.A. Zona Sur, La Plata, ...    Argentina   \n",
                            "83810   [Argentina, Bs.As. G.B.A. Zona Norte, General ...    Argentina   \n",
                            "43940   [Argentina, Bs.As. G.B.A. Zona Sur, Quilmes, B...    Argentina   \n",
                            "85087   [Argentina, Bs.As. G.B.A. Zona Norte, Vicente ...    Argentina   \n",
                            "93332   [Argentina, Buenos Aires Costa Atlántica, Mar ...    Argentina   \n",
                            "8901    [Argentina, Bs.As. G.B.A. Zona Norte, San Isid...    Argentina   \n",
                            "42494   [Argentina, Bs.As. G.B.A. Zona Norte, Pilar, H...    Argentina   \n",
                            "56357   [Argentina, Bs.As. G.B.A. Zona Oeste, Tres de ...    Argentina   \n",
                            "611     [Argentina, Bs.As. G.B.A. Zona Norte, Escobar,...    Argentina   \n",
                            "\n",
                            "                          state_name  \n",
                            "105338        Bs.As. G.B.A. Zona Sur  \n",
                            "104694        Bs.As. G.B.A. Zona Sur  \n",
                            "83810       Bs.As. G.B.A. Zona Norte  \n",
                            "43940         Bs.As. G.B.A. Zona Sur  \n",
                            "85087       Bs.As. G.B.A. Zona Norte  \n",
                            "93332   Buenos Aires Costa Atlántica  \n",
                            "8901        Bs.As. G.B.A. Zona Norte  \n",
                            "42494       Bs.As. G.B.A. Zona Norte  \n",
                            "56357       Bs.As. G.B.A. Zona Oeste  \n",
                            "611         Bs.As. G.B.A. Zona Norte  "
                        ]
                    },
                    "execution_count": 27,
                    "metadata": {},
                    "output_type": "execute_result"
                }
            ],
            "source": [
                "# Creamos la mascara utilizando la función is_location_different\n",
                "mask = places_data.apply(lambda x: is_location_different(x), axis=1)\n",
                "print(\"place_with_parent_names difference with country_name, state_name and place_name:\", places_data[mask].shape[0])\n",
                "places_data[mask][places].sample(10)"
            ]
        },
        {
            "cell_type": "markdown",
            "metadata": {},
            "source": [
                "*Conclusión: Existen 45220 registros que no coinciden exactamente.* "
            ]
        },
        {
            "cell_type": "markdown",
            "metadata": {},
            "source": [
                "#### Análisis de los registros que no coinciden exactamente en las columnas places\n",
                "___"
            ]
        },
        {
            "cell_type": "markdown",
            "metadata": {},
            "source": [
                "Veamos cuáles son los registros que no coinciden exactamente en las columnas places"
            ]
        },
        {
            "cell_type": "code",
            "execution_count": 28,
            "metadata": {},
            "outputs": [
                {
                    "data": {
                        "text/plain": [
                            "3    76023\n",
                            "4    39869\n",
                            "2     4780\n",
                            "5      548\n",
                            "Name: place_with_parent_names, dtype: int64"
                        ]
                    },
                    "execution_count": 28,
                    "metadata": {},
                    "output_type": "execute_result"
                }
            ],
            "source": [
                "# Contamos la cantidad de valores de cada array de place_with_parent_names\n",
                "destructured_places_with_parent_names_rows =  places_data['place_with_parent_names'].apply(lambda x: len(x)).value_counts()\n",
                "destructured_places_with_parent_names_rows\n",
                "#Este código nos devuelve la cantidad de filas que tenemos agrupadas en place_with_parent_names: va de dos a cinco especificaciones\n",
                "#para la ubicacion de un inmueble; hasta donde conociamos veniamos viendo hasta 3: Pais|Provincia|Ciudad o Barrio.\n",
                "# veremos que descripcion adicional nos brinda las concatenaciones >3."
            ]
        },
        {
            "cell_type": "code",
            "execution_count": 29,
            "metadata": {},
            "outputs": [
                {
                    "data": {
                        "text/plain": [
                            "3    62.714899\n",
                            "4    32.889787\n",
                            "2     3.943244\n",
                            "5     0.452071\n",
                            "Name: place_with_parent_names, dtype: float64"
                        ]
                    },
                    "execution_count": 29,
                    "metadata": {},
                    "output_type": "execute_result"
                }
            ],
            "source": [
                "#Vemos el porcentaje para graficarlo luego\n",
                "destructured_places_with_parent_names_rows_percent =  places_data['place_with_parent_names'].apply(lambda x: len(x)).value_counts(normalize=True) * 100\n",
                "destructured_places_with_parent_names_rows_percent"
            ]
        },
        {
            "cell_type": "code",
            "execution_count": 30,
            "metadata": {},
            "outputs": [
                {
                    "data": {
                        "image/png": "[encoded data removed]",
                        "text/plain": [
                            "<Figure size 1000x200 with 1 Axes>"
                        ]
                    },
                    "metadata": {},
                    "output_type": "display_data"
                }
            ],
            "source": [
                "#representamos la cantidad de grupo de datos contenidos en la variable place_with_parent_names\n",
                "fig, ax = plt.subplots(figsize=(10,2))\n",
                "sns.barplot(x=destructured_places_with_parent_names_rows_percent.values,y=destructured_places_with_parent_names_rows_percent.index, orient='h', ax=ax, ) \n",
                "ax.set_title('Cantidad de valores de cada array de place_with_parent_names') \n",
                "ax.set_xlabel('Porcentaje sobre el total') \n",
                "ax.set_ylabel('Valores de cada array')\n",
                "plt.xlim(0,100)\n",
                "plt.show()\n"
            ]
        },
        {
            "cell_type": "markdown",
            "metadata": {},
            "source": [
                "De los pasos anteriores notamos: los registros que no coinciden exactamente son aquellas listas que no tienen 3 valores. De todas maneras tanto aquellos que tiene 2 como los que tienen 5 valores no tienen una cantidad significativa de registros. \n",
                "\n",
                "Revisamos que los valores que están en cada lista tengan su contraparte en las otras columnas aunque figuren en otro orden del array. Por ejemplo, si en place_with_parent_names figura \"Argentina|Capital Federal|Palermo\" y en place_name figura \"Capital Federal\", entonces el registro para este momento del análisis se considera válido."
            ]
        },
        {
            "cell_type": "code",
            "execution_count": 31,
            "metadata": {},
            "outputs": [
                {
                    "name": "stdout",
                    "output_type": "stream",
                    "text": [
                        "null values: 0\n",
                        "place_with_parent_names difference with country_name: 0\n"
                    ]
                }
            ],
            "source": [
                "# country_name\n",
                "print(\"null values:\", places_data['country_name'].isna().sum())\n",
                "mask = ~places_data.apply(lambda x: x['country_name'] in x['place_with_parent_names'], axis=1)\n",
                "print(\"place_with_parent_names difference with country_name:\", places_data[mask].shape[0])"
            ]
        },
        {
            "cell_type": "code",
            "execution_count": 32,
            "metadata": {},
            "outputs": [
                {
                    "name": "stdout",
                    "output_type": "stream",
                    "text": [
                        "null values: 0\n",
                        "place_with_parent_names difference with state_name: 0\n"
                    ]
                }
            ],
            "source": [
                "# state_name\n",
                "print(\"null values:\", places_data['state_name'].isna().sum())\n",
                "mask = ~places_data.apply(lambda x: x['state_name'] in x['place_with_parent_names'], axis=1)\n",
                "print(\"place_with_parent_names difference with state_name:\", places_data[mask].shape[0])"
            ]
        },
        {
            "cell_type": "code",
            "execution_count": 33,
            "metadata": {},
            "outputs": [
                {
                    "name": "stdout",
                    "output_type": "stream",
                    "text": [
                        "null values: 23\n",
                        "place_with_parent_names difference with place_name: 23\n"
                    ]
                }
            ],
            "source": [
                "# place_name\n",
                "print(\"null values:\", places_data['place_name'].isna().sum())\n",
                "mask = ~places_data.apply(lambda x: x['place_name'] in x['place_with_parent_names'], axis=1)\n",
                "print(\"place_with_parent_names difference with place_name:\", places_data[mask].shape[0])\n"
            ]
        },
        {
            "cell_type": "markdown",
            "metadata": {},
            "source": [
                "*Conclusión: La información que figura en las columnas place_name, country_name y state_name se encuentra en la columna place_with_parent_names aunque no exactamente igual (parece existir información extra) excepto en la columna 'place_name' con sus 23 NaNs que ya hemos identificado previamente.*"
            ]
        },
        {
            "cell_type": "markdown",
            "metadata": {},
            "source": [
                "A continuación analizaremos esas columnas dividiendo el trabajo en partes dependiendo de la cantidad de elementos que contenga el array de la columna \"place_with_parent_names\"."
            ]
        },
        {
            "cell_type": "markdown",
            "metadata": {},
            "source": [
                "#### Análisis de registros de place_with_parent_names con 3 valores\n",
                "___"
            ]
        },
        {
            "cell_type": "code",
            "execution_count": 40,
            "metadata": {},
            "outputs": [
                {
                    "data": {
                        "text/plain": [
                            "(76023, 4)"
                        ]
                    },
                    "execution_count": 40,
                    "metadata": {},
                    "output_type": "execute_result"
                }
            ],
            "source": [
                "# Revisamos los place_with_parent_names con tres elementos\n",
                "mask = places_data['place_with_parent_names'].apply(lambda x: len(x) == 3)\n",
                "places_data_3_elements = places_data[mask].copy()\n",
                "places_data_3_elements.shape"
            ]
        },
        {
            "cell_type": "code",
            "execution_count": 35,
            "metadata": {},
            "outputs": [
                {
                    "name": "stdout",
                    "output_type": "stream",
                    "text": [
                        "country_name difference with place_with_parent_names[0]: 0\n",
                        "state_name difference with place_with_parent_names[1]: 0\n",
                        "place_name difference with place_with_parent_names[2]: 23\n"
                    ]
                }
            ],
            "source": [
                "# Corroboramos que los valores de country_name, state_name y place_name coinciden con los valores de place_with_parent_names\n",
                "print(\"country_name difference with place_with_parent_names[0]:\", places_data_3_elements[places_data_3_elements['country_name'] != places_data_3_elements['place_with_parent_names'].apply(lambda x: x[0])].shape[0])\n",
                "print(\"state_name difference with place_with_parent_names[1]:\", places_data_3_elements[places_data_3_elements['state_name'] != places_data_3_elements['place_with_parent_names'].apply(lambda x: x[1])].shape[0])\n",
                "print(\"place_name difference with place_with_parent_names[2]:\", places_data_3_elements[places_data_3_elements['place_name'] != places_data_3_elements['place_with_parent_names'].apply(lambda x: x[2])].shape[0])"
            ]
        },
        {
            "cell_type": "code",
            "execution_count": 36,
            "metadata": {},
            "outputs": [
                {
                    "data": {
                        "text/html": [
                            "<div>\n",
                            "<style scoped>\n",
                            "    .dataframe tbody tr th:only-of-type {\n",
                            "        vertical-align: middle;\n",
                            "    }\n",
                            "\n",
                            "    .dataframe tbody tr th {\n",
                            "        vertical-align: top;\n",
                            "    }\n",
                            "\n",
                            "    .dataframe thead th {\n",
                            "        text-align: right;\n",
                            "    }\n",
                            "</style>\n",
                            "<table border=\"1\" class=\"dataframe\">\n",
                            "  <thead>\n",
                            "    <tr style=\"text-align: right;\">\n",
                            "      <th></th>\n",
                            "      <th>place_name</th>\n",
                            "      <th>place_with_parent_names</th>\n",
                            "      <th>country_name</th>\n",
                            "      <th>state_name</th>\n",
                            "    </tr>\n",
                            "  </thead>\n",
                            "  <tbody>\n",
                            "    <tr>\n",
                            "      <th>6489</th>\n",
                            "      <td>NaN</td>\n",
                            "      <td>[Argentina, Bs.As. G.B.A. Zona Norte, Tigre]</td>\n",
                            "      <td>Argentina</td>\n",
                            "      <td>Bs.As. G.B.A. Zona Norte</td>\n",
                            "    </tr>\n",
                            "    <tr>\n",
                            "      <th>10201</th>\n",
                            "      <td>NaN</td>\n",
                            "      <td>[Argentina, Bs.As. G.B.A. Zona Norte, Tigre]</td>\n",
                            "      <td>Argentina</td>\n",
                            "      <td>Bs.As. G.B.A. Zona Norte</td>\n",
                            "    </tr>\n",
                            "    <tr>\n",
                            "      <th>11451</th>\n",
                            "      <td>NaN</td>\n",
                            "      <td>[Argentina, Bs.As. G.B.A. Zona Norte, Tigre]</td>\n",
                            "      <td>Argentina</td>\n",
                            "      <td>Bs.As. G.B.A. Zona Norte</td>\n",
                            "    </tr>\n",
                            "    <tr>\n",
                            "      <th>14839</th>\n",
                            "      <td>NaN</td>\n",
                            "      <td>[Argentina, Bs.As. G.B.A. Zona Norte, Tigre]</td>\n",
                            "      <td>Argentina</td>\n",
                            "      <td>Bs.As. G.B.A. Zona Norte</td>\n",
                            "    </tr>\n",
                            "    <tr>\n",
                            "      <th>18622</th>\n",
                            "      <td>NaN</td>\n",
                            "      <td>[Argentina, Bs.As. G.B.A. Zona Norte, Tigre]</td>\n",
                            "      <td>Argentina</td>\n",
                            "      <td>Bs.As. G.B.A. Zona Norte</td>\n",
                            "    </tr>\n",
                            "  </tbody>\n",
                            "</table>\n",
                            "</div>"
                        ],
                        "text/plain": [
                            "      place_name                       place_with_parent_names country_name  \\\n",
                            "6489         NaN  [Argentina, Bs.As. G.B.A. Zona Norte, Tigre]    Argentina   \n",
                            "10201        NaN  [Argentina, Bs.As. G.B.A. Zona Norte, Tigre]    Argentina   \n",
                            "11451        NaN  [Argentina, Bs.As. G.B.A. Zona Norte, Tigre]    Argentina   \n",
                            "14839        NaN  [Argentina, Bs.As. G.B.A. Zona Norte, Tigre]    Argentina   \n",
                            "18622        NaN  [Argentina, Bs.As. G.B.A. Zona Norte, Tigre]    Argentina   \n",
                            "\n",
                            "                     state_name  \n",
                            "6489   Bs.As. G.B.A. Zona Norte  \n",
                            "10201  Bs.As. G.B.A. Zona Norte  \n",
                            "11451  Bs.As. G.B.A. Zona Norte  \n",
                            "14839  Bs.As. G.B.A. Zona Norte  \n",
                            "18622  Bs.As. G.B.A. Zona Norte  "
                        ]
                    },
                    "execution_count": 36,
                    "metadata": {},
                    "output_type": "execute_result"
                }
            ],
            "source": [
                "# Vemos los datos correspondientes a los valores nulos de la columna place_name\n",
                "mask = ~places_data.apply(lambda x: x['place_name'] in x['place_with_parent_names'], axis=1)\n",
                "places_data_place_name_nan = places_data[mask].copy()\n",
                "places_data_place_name_nan.head()"
            ]
        },
        {
            "cell_type": "code",
            "execution_count": 37,
            "metadata": {},
            "outputs": [
                {
                    "data": {
                        "text/plain": [
                            "Tigre    23\n",
                            "Name: place_with_parent_names, dtype: int64"
                        ]
                    },
                    "execution_count": 37,
                    "metadata": {},
                    "output_type": "execute_result"
                }
            ],
            "source": [
                "#Extraemos el dato en la posicion que corresponde a Tigre y lo contabilizamos \n",
                "places_data_place_name_nan['place_with_parent_names'].apply(lambda x: x[2]).value_counts()"
            ]
        },
        {
            "cell_type": "markdown",
            "metadata": {},
            "source": [
                "*Conclusión: Los registros que no tienen valor en place_name son los que no coinciden, todos del municipio de Tigre. El resto de los valores son exactamente iguales*  \n",
                "\n",
                "\n",
                "\n"
            ]
        },
        {
            "cell_type": "markdown",
            "metadata": {},
            "source": [
                "#### Análisis de registros de place_with_parent_names con 4 valores\n",
                "___"
            ]
        },
        {
            "cell_type": "code",
            "execution_count": 41,
            "metadata": {},
            "outputs": [
                {
                    "data": {
                        "text/plain": [
                            "(39869, 4)"
                        ]
                    },
                    "execution_count": 41,
                    "metadata": {},
                    "output_type": "execute_result"
                }
            ],
            "source": [
                "# Revisamos los place_with_parent_names con cuatro elementos\n",
                "mask = places_data['place_with_parent_names'].apply(lambda x: len(x) == 4)\n",
                "places_data_4_elements = places_data[mask].copy()\n",
                "places_data_4_elements.shape\n"
            ]
        },
        {
            "cell_type": "code",
            "execution_count": 42,
            "metadata": {},
            "outputs": [
                {
                    "data": {
                        "text/plain": [
                            "Bs.As. G.B.A. Zona Norte        17198\n",
                            "Bs.As. G.B.A. Zona Sur          11638\n",
                            "Bs.As. G.B.A. Zona Oeste         7058\n",
                            "Capital Federal                  1198\n",
                            "Buenos Aires Costa Atlántica     1177\n",
                            "Buenos Aires Interior             962\n",
                            "Río Negro                         638\n",
                            "Name: place_with_parent_names, dtype: int64"
                        ]
                    },
                    "execution_count": 42,
                    "metadata": {},
                    "output_type": "execute_result"
                }
            ],
            "source": [
                "# Contamos los valores de la columna place_with_parent_names por el segundo elemento (descartamos el primero\n",
                "#  porque sabemos que siempre es Argentina)\n",
                "places_data_4_elements['place_with_parent_names'].apply(lambda x: x[1]).value_counts()\n"
            ]
        },
        {
            "cell_type": "code",
            "execution_count": 43,
            "metadata": {},
            "outputs": [
                {
                    "name": "stdout",
                    "output_type": "stream",
                    "text": [
                        "place_with_parent_names[1] difference with state_name: 0\n"
                    ]
                }
            ],
            "source": [
                "# Confirmamos que los valores de la columna place_with_parent_names[1] coinciden con los valores de la columna state_name\n",
                "mask = (places_data_4_elements['place_with_parent_names'].apply(lambda x: x[1]) != places_data_4_elements['state_name'])\n",
                "print(\"place_with_parent_names[1] difference with state_name:\", places_data_4_elements[mask].shape[0])\n"
            ]
        },
        {
            "cell_type": "code",
            "execution_count": 44,
            "metadata": {},
            "outputs": [
                {
                    "name": "stdout",
                    "output_type": "stream",
                    "text": [
                        "place_with_parent_names[2] difference with place_name: 29842\n",
                        "place_with_parent_names[2] proportional difference with place_name: 0.7485013418947052\n"
                    ]
                },
                {
                    "data": {
                        "text/html": [
                            "<div>\n",
                            "<style scoped>\n",
                            "    .dataframe tbody tr th:only-of-type {\n",
                            "        vertical-align: middle;\n",
                            "    }\n",
                            "\n",
                            "    .dataframe tbody tr th {\n",
                            "        vertical-align: top;\n",
                            "    }\n",
                            "\n",
                            "    .dataframe thead th {\n",
                            "        text-align: right;\n",
                            "    }\n",
                            "</style>\n",
                            "<table border=\"1\" class=\"dataframe\">\n",
                            "  <thead>\n",
                            "    <tr style=\"text-align: right;\">\n",
                            "      <th></th>\n",
                            "      <th>place_name</th>\n",
                            "      <th>place_with_parent_names</th>\n",
                            "      <th>country_name</th>\n",
                            "      <th>state_name</th>\n",
                            "    </tr>\n",
                            "  </thead>\n",
                            "  <tbody>\n",
                            "    <tr>\n",
                            "      <th>40003</th>\n",
                            "      <td>La Perla</td>\n",
                            "      <td>[Argentina, Buenos Aires Costa Atlántica, Mar ...</td>\n",
                            "      <td>Argentina</td>\n",
                            "      <td>Buenos Aires Costa Atlántica</td>\n",
                            "    </tr>\n",
                            "    <tr>\n",
                            "      <th>25348</th>\n",
                            "      <td>Glew</td>\n",
                            "      <td>[Argentina, Bs.As. G.B.A. Zona Sur, Almirante ...</td>\n",
                            "      <td>Argentina</td>\n",
                            "      <td>Bs.As. G.B.A. Zona Sur</td>\n",
                            "    </tr>\n",
                            "    <tr>\n",
                            "      <th>50772</th>\n",
                            "      <td>Ramos Mejía</td>\n",
                            "      <td>[Argentina, Bs.As. G.B.A. Zona Oeste, La Matan...</td>\n",
                            "      <td>Argentina</td>\n",
                            "      <td>Bs.As. G.B.A. Zona Oeste</td>\n",
                            "    </tr>\n",
                            "    <tr>\n",
                            "      <th>20226</th>\n",
                            "      <td>Remedios de Escalada</td>\n",
                            "      <td>[Argentina, Bs.As. G.B.A. Zona Sur, Lanús, Rem...</td>\n",
                            "      <td>Argentina</td>\n",
                            "      <td>Bs.As. G.B.A. Zona Sur</td>\n",
                            "    </tr>\n",
                            "    <tr>\n",
                            "      <th>42616</th>\n",
                            "      <td>Bernal</td>\n",
                            "      <td>[Argentina, Bs.As. G.B.A. Zona Sur, Quilmes, B...</td>\n",
                            "      <td>Argentina</td>\n",
                            "      <td>Bs.As. G.B.A. Zona Sur</td>\n",
                            "    </tr>\n",
                            "    <tr>\n",
                            "      <th>69368</th>\n",
                            "      <td>Adrogué</td>\n",
                            "      <td>[Argentina, Bs.As. G.B.A. Zona Sur, Almirante ...</td>\n",
                            "      <td>Argentina</td>\n",
                            "      <td>Bs.As. G.B.A. Zona Sur</td>\n",
                            "    </tr>\n",
                            "    <tr>\n",
                            "      <th>42811</th>\n",
                            "      <td>Ingeniero Pablo Nogués</td>\n",
                            "      <td>[Argentina, Bs.As. G.B.A. Zona Norte, Malvinas...</td>\n",
                            "      <td>Argentina</td>\n",
                            "      <td>Bs.As. G.B.A. Zona Norte</td>\n",
                            "    </tr>\n",
                            "    <tr>\n",
                            "      <th>77968</th>\n",
                            "      <td>Palermo Hollywood</td>\n",
                            "      <td>[Argentina, Capital Federal, Palermo, Palermo ...</td>\n",
                            "      <td>Argentina</td>\n",
                            "      <td>Capital Federal</td>\n",
                            "    </tr>\n",
                            "    <tr>\n",
                            "      <th>14241</th>\n",
                            "      <td>San Martín</td>\n",
                            "      <td>[Argentina, Bs.As. G.B.A. Zona Norte, General ...</td>\n",
                            "      <td>Argentina</td>\n",
                            "      <td>Bs.As. G.B.A. Zona Norte</td>\n",
                            "    </tr>\n",
                            "    <tr>\n",
                            "      <th>70677</th>\n",
                            "      <td>Adrogué</td>\n",
                            "      <td>[Argentina, Bs.As. G.B.A. Zona Sur, Almirante ...</td>\n",
                            "      <td>Argentina</td>\n",
                            "      <td>Bs.As. G.B.A. Zona Sur</td>\n",
                            "    </tr>\n",
                            "  </tbody>\n",
                            "</table>\n",
                            "</div>"
                        ],
                        "text/plain": [
                            "                   place_name  \\\n",
                            "40003                La Perla   \n",
                            "25348                    Glew   \n",
                            "50772             Ramos Mejía   \n",
                            "20226    Remedios de Escalada   \n",
                            "42616                  Bernal   \n",
                            "69368                 Adrogué   \n",
                            "42811  Ingeniero Pablo Nogués   \n",
                            "77968       Palermo Hollywood   \n",
                            "14241              San Martín   \n",
                            "70677                 Adrogué   \n",
                            "\n",
                            "                                 place_with_parent_names country_name  \\\n",
                            "40003  [Argentina, Buenos Aires Costa Atlántica, Mar ...    Argentina   \n",
                            "25348  [Argentina, Bs.As. G.B.A. Zona Sur, Almirante ...    Argentina   \n",
                            "50772  [Argentina, Bs.As. G.B.A. Zona Oeste, La Matan...    Argentina   \n",
                            "20226  [Argentina, Bs.As. G.B.A. Zona Sur, Lanús, Rem...    Argentina   \n",
                            "42616  [Argentina, Bs.As. G.B.A. Zona Sur, Quilmes, B...    Argentina   \n",
                            "69368  [Argentina, Bs.As. G.B.A. Zona Sur, Almirante ...    Argentina   \n",
                            "42811  [Argentina, Bs.As. G.B.A. Zona Norte, Malvinas...    Argentina   \n",
                            "77968  [Argentina, Capital Federal, Palermo, Palermo ...    Argentina   \n",
                            "14241  [Argentina, Bs.As. G.B.A. Zona Norte, General ...    Argentina   \n",
                            "70677  [Argentina, Bs.As. G.B.A. Zona Sur, Almirante ...    Argentina   \n",
                            "\n",
                            "                         state_name  \n",
                            "40003  Buenos Aires Costa Atlántica  \n",
                            "25348        Bs.As. G.B.A. Zona Sur  \n",
                            "50772      Bs.As. G.B.A. Zona Oeste  \n",
                            "20226        Bs.As. G.B.A. Zona Sur  \n",
                            "42616        Bs.As. G.B.A. Zona Sur  \n",
                            "69368        Bs.As. G.B.A. Zona Sur  \n",
                            "42811      Bs.As. G.B.A. Zona Norte  \n",
                            "77968               Capital Federal  \n",
                            "14241      Bs.As. G.B.A. Zona Norte  \n",
                            "70677        Bs.As. G.B.A. Zona Sur  "
                        ]
                    },
                    "execution_count": 44,
                    "metadata": {},
                    "output_type": "execute_result"
                }
            ],
            "source": [
                "# Confirmamos que los valores de la columna place_with_parent_names[2] coinciden con los valores de la columna place_name\n",
                "mask = places_data_4_elements['place_with_parent_names'].apply(lambda x: x[2]) != places_data_4_elements['place_name']\n",
                "print(\"place_with_parent_names[2] difference with place_name:\", places_data_4_elements[mask].shape[0])\n",
                "print(\"place_with_parent_names[2] proportional difference with place_name:\", places_data_4_elements[mask].shape[0] / places_data_4_elements.shape[0])\n",
                "places_data_4_elements_non_matching = places_data_4_elements[mask].copy()\n",
                "places_data_4_elements_non_matching[places].sample(10)"
            ]
        },
        {
            "cell_type": "code",
            "execution_count": 45,
            "metadata": {},
            "outputs": [
                {
                    "data": {
                        "text/plain": [
                            "0.0"
                        ]
                    },
                    "execution_count": 45,
                    "metadata": {},
                    "output_type": "execute_result"
                }
            ],
            "source": [
                "# No coinciden en 29842 registros pero coinciden en el resto. \n",
                "# Confirmamos que los que coinciden son iguales al valor[3] en la cadena completa\n",
                "mask = places_data_4_elements_non_matching['place_with_parent_names'].apply(lambda x: x[2]) == places_data_4_elements_non_matching['place_with_parent_names'].apply(lambda x: x[3])\n",
                "places_data_4_elements_non_matching[mask].shape[0]/ places_data_4_elements_non_matching.shape[0]"
            ]
        },
        {
            "cell_type": "code",
            "execution_count": 46,
            "metadata": {},
            "outputs": [
                {
                    "name": "stdout",
                    "output_type": "stream",
                    "text": [
                        "place_with_parent_names[3] difference with place_name: 0\n"
                    ]
                },
                {
                    "data": {
                        "text/html": [
                            "<div>\n",
                            "<style scoped>\n",
                            "    .dataframe tbody tr th:only-of-type {\n",
                            "        vertical-align: middle;\n",
                            "    }\n",
                            "\n",
                            "    .dataframe tbody tr th {\n",
                            "        vertical-align: top;\n",
                            "    }\n",
                            "\n",
                            "    .dataframe thead th {\n",
                            "        text-align: right;\n",
                            "    }\n",
                            "</style>\n",
                            "<table border=\"1\" class=\"dataframe\">\n",
                            "  <thead>\n",
                            "    <tr style=\"text-align: right;\">\n",
                            "      <th></th>\n",
                            "      <th>place_name</th>\n",
                            "      <th>place_with_parent_names</th>\n",
                            "      <th>country_name</th>\n",
                            "      <th>state_name</th>\n",
                            "    </tr>\n",
                            "  </thead>\n",
                            "  <tbody>\n",
                            "    <tr>\n",
                            "      <th>71516</th>\n",
                            "      <td>Lomas de Zamora</td>\n",
                            "      <td>[Argentina, Bs.As. G.B.A. Zona Sur, Lomas de Z...</td>\n",
                            "      <td>Argentina</td>\n",
                            "      <td>Bs.As. G.B.A. Zona Sur</td>\n",
                            "    </tr>\n",
                            "    <tr>\n",
                            "      <th>59556</th>\n",
                            "      <td>La Plata</td>\n",
                            "      <td>[Argentina, Bs.As. G.B.A. Zona Sur, La Plata, ...</td>\n",
                            "      <td>Argentina</td>\n",
                            "      <td>Bs.As. G.B.A. Zona Sur</td>\n",
                            "    </tr>\n",
                            "    <tr>\n",
                            "      <th>33702</th>\n",
                            "      <td>Longchamps</td>\n",
                            "      <td>[Argentina, Bs.As. G.B.A. Zona Sur, Almirante ...</td>\n",
                            "      <td>Argentina</td>\n",
                            "      <td>Bs.As. G.B.A. Zona Sur</td>\n",
                            "    </tr>\n",
                            "    <tr>\n",
                            "      <th>85660</th>\n",
                            "      <td>Olivos</td>\n",
                            "      <td>[Argentina, Bs.As. G.B.A. Zona Norte, Vicente ...</td>\n",
                            "      <td>Argentina</td>\n",
                            "      <td>Bs.As. G.B.A. Zona Norte</td>\n",
                            "    </tr>\n",
                            "    <tr>\n",
                            "      <th>46234</th>\n",
                            "      <td>Tigre</td>\n",
                            "      <td>[Argentina, Bs.As. G.B.A. Zona Norte, Tigre, T...</td>\n",
                            "      <td>Argentina</td>\n",
                            "      <td>Bs.As. G.B.A. Zona Norte</td>\n",
                            "    </tr>\n",
                            "    <tr>\n",
                            "      <th>4625</th>\n",
                            "      <td>Wilde</td>\n",
                            "      <td>[Argentina, Bs.As. G.B.A. Zona Sur, Avellaneda...</td>\n",
                            "      <td>Argentina</td>\n",
                            "      <td>Bs.As. G.B.A. Zona Sur</td>\n",
                            "    </tr>\n",
                            "    <tr>\n",
                            "      <th>93267</th>\n",
                            "      <td>Stella Maris</td>\n",
                            "      <td>[Argentina, Buenos Aires Costa Atlántica, Mar ...</td>\n",
                            "      <td>Argentina</td>\n",
                            "      <td>Buenos Aires Costa Atlántica</td>\n",
                            "    </tr>\n",
                            "    <tr>\n",
                            "      <th>45977</th>\n",
                            "      <td>Glew</td>\n",
                            "      <td>[Argentina, Bs.As. G.B.A. Zona Sur, Almirante ...</td>\n",
                            "      <td>Argentina</td>\n",
                            "      <td>Bs.As. G.B.A. Zona Sur</td>\n",
                            "    </tr>\n",
                            "    <tr>\n",
                            "      <th>56423</th>\n",
                            "      <td>Torreón</td>\n",
                            "      <td>[Argentina, Buenos Aires Costa Atlántica, Mar ...</td>\n",
                            "      <td>Argentina</td>\n",
                            "      <td>Buenos Aires Costa Atlántica</td>\n",
                            "    </tr>\n",
                            "    <tr>\n",
                            "      <th>68217</th>\n",
                            "      <td>Burzaco</td>\n",
                            "      <td>[Argentina, Bs.As. G.B.A. Zona Sur, Almirante ...</td>\n",
                            "      <td>Argentina</td>\n",
                            "      <td>Bs.As. G.B.A. Zona Sur</td>\n",
                            "    </tr>\n",
                            "  </tbody>\n",
                            "</table>\n",
                            "</div>"
                        ],
                        "text/plain": [
                            "            place_name                            place_with_parent_names  \\\n",
                            "71516  Lomas de Zamora  [Argentina, Bs.As. G.B.A. Zona Sur, Lomas de Z...   \n",
                            "59556         La Plata  [Argentina, Bs.As. G.B.A. Zona Sur, La Plata, ...   \n",
                            "33702       Longchamps  [Argentina, Bs.As. G.B.A. Zona Sur, Almirante ...   \n",
                            "85660           Olivos  [Argentina, Bs.As. G.B.A. Zona Norte, Vicente ...   \n",
                            "46234            Tigre  [Argentina, Bs.As. G.B.A. Zona Norte, Tigre, T...   \n",
                            "4625             Wilde  [Argentina, Bs.As. G.B.A. Zona Sur, Avellaneda...   \n",
                            "93267     Stella Maris  [Argentina, Buenos Aires Costa Atlántica, Mar ...   \n",
                            "45977             Glew  [Argentina, Bs.As. G.B.A. Zona Sur, Almirante ...   \n",
                            "56423          Torreón  [Argentina, Buenos Aires Costa Atlántica, Mar ...   \n",
                            "68217          Burzaco  [Argentina, Bs.As. G.B.A. Zona Sur, Almirante ...   \n",
                            "\n",
                            "      country_name                    state_name  \n",
                            "71516    Argentina        Bs.As. G.B.A. Zona Sur  \n",
                            "59556    Argentina        Bs.As. G.B.A. Zona Sur  \n",
                            "33702    Argentina        Bs.As. G.B.A. Zona Sur  \n",
                            "85660    Argentina      Bs.As. G.B.A. Zona Norte  \n",
                            "46234    Argentina      Bs.As. G.B.A. Zona Norte  \n",
                            "4625     Argentina        Bs.As. G.B.A. Zona Sur  \n",
                            "93267    Argentina  Buenos Aires Costa Atlántica  \n",
                            "45977    Argentina        Bs.As. G.B.A. Zona Sur  \n",
                            "56423    Argentina  Buenos Aires Costa Atlántica  \n",
                            "68217    Argentina        Bs.As. G.B.A. Zona Sur  "
                        ]
                    },
                    "execution_count": 46,
                    "metadata": {},
                    "output_type": "execute_result"
                }
            ],
            "source": [
                "# Confirmamos que los valores de la columna place_with_parent_names[3] coinciden con los valores de la columna place_name\n",
                "mask = (places_data_4_elements['place_with_parent_names'].apply(lambda x: x[3]) != places_data_4_elements['place_name'])\n",
                "print(\"place_with_parent_names[3] difference with place_name:\", places_data_4_elements[mask].shape[0])\n",
                "anti_mask = ~mask # Los que coinciden\n",
                "places_data_4_elements[anti_mask][places].sample(10)"
            ]
        },
        {
            "cell_type": "markdown",
            "metadata": {},
            "source": [
                "*Conclusión: De los 39869 registros con 4 valores, 29842 toman el valor de place_name del 4to valor de la lista. Los 10027 restantes toman el 3er valor.* que es siempre un barrio/localidad dentro del municipio: ejm: Glew localidad del municipio Almiramte Brown de zona sur del Gran Buenos Aires.\n",
                "\n",
                "- place_name asignado a 3er valor de \"place_with_parent_names\": 10027\n",
                "- place_name asignado a 4to valor de \"place_with_parent_names\": 29842"
            ]
        },
        {
            "cell_type": "markdown",
            "metadata": {},
            "source": [
                "#### Análisis de registros de place_with_parent_names con 2 valores\n",
                "___"
            ]
        },
        {
            "cell_type": "code",
            "execution_count": 47,
            "metadata": {},
            "outputs": [
                {
                    "data": {
                        "text/plain": [
                            "[Argentina, Córdoba]                         2648\n",
                            "[Argentina, Capital Federal]                 1297\n",
                            "[Argentina, Bs.As. G.B.A. Zona Norte]         222\n",
                            "[Argentina, Mendoza]                          130\n",
                            "[Argentina, Buenos Aires Interior]            106\n",
                            "[Argentina, Tucumán]                           77\n",
                            "[Argentina, Bs.As. G.B.A. Zona Oeste]          65\n",
                            "[Argentina, Misiones]                          44\n",
                            "[Argentina, Santa Fe]                          33\n",
                            "[Argentina, Buenos Aires Costa Atlántica]      27\n",
                            "[Argentina, San Luis]                          24\n",
                            "[Argentina, Bs.As. G.B.A. Zona Sur]            24\n",
                            "[Argentina, Salta]                             21\n",
                            "[Argentina, Chubut]                            17\n",
                            "[Argentina, Neuquén]                           10\n",
                            "[Argentina, Río Negro]                          8\n",
                            "[Argentina, San Juan]                           7\n",
                            "[Argentina, Tierra Del Fuego]                   6\n",
                            "[Argentina, Catamarca]                          3\n",
                            "[Argentina, Santiago Del Estero]                3\n",
                            "[Argentina, La Pampa]                           3\n",
                            "[Argentina, Corrientes]                         2\n",
                            "[Argentina, La Rioja]                           1\n",
                            "[Argentina, Jujuy]                              1\n",
                            "[Argentina, Chaco]                              1\n",
                            "Name: place_with_parent_names, dtype: int64"
                        ]
                    },
                    "execution_count": 47,
                    "metadata": {},
                    "output_type": "execute_result"
                }
            ],
            "source": [
                "# Reviso los place_with_parent_names con dos elementos\n",
                "mask = places_data['place_with_parent_names'].apply(lambda x: len(x) == 2)\n",
                "places_data_2_elements = places_data[mask].copy()\n",
                "places_data_2_elements['place_with_parent_names'].value_counts()"
            ]
        },
        {
            "cell_type": "code",
            "execution_count": 48,
            "metadata": {},
            "outputs": [
                {
                    "data": {
                        "text/html": [
                            "<div>\n",
                            "<style scoped>\n",
                            "    .dataframe tbody tr th:only-of-type {\n",
                            "        vertical-align: middle;\n",
                            "    }\n",
                            "\n",
                            "    .dataframe tbody tr th {\n",
                            "        vertical-align: top;\n",
                            "    }\n",
                            "\n",
                            "    .dataframe thead th {\n",
                            "        text-align: right;\n",
                            "    }\n",
                            "</style>\n",
                            "<table border=\"1\" class=\"dataframe\">\n",
                            "  <thead>\n",
                            "    <tr style=\"text-align: right;\">\n",
                            "      <th></th>\n",
                            "      <th>place_name</th>\n",
                            "      <th>place_with_parent_names</th>\n",
                            "      <th>country_name</th>\n",
                            "      <th>state_name</th>\n",
                            "    </tr>\n",
                            "  </thead>\n",
                            "  <tbody>\n",
                            "    <tr>\n",
                            "      <th>70147</th>\n",
                            "      <td>Córdoba</td>\n",
                            "      <td>[Argentina, Córdoba]</td>\n",
                            "      <td>Argentina</td>\n",
                            "      <td>Córdoba</td>\n",
                            "    </tr>\n",
                            "    <tr>\n",
                            "      <th>67176</th>\n",
                            "      <td>Córdoba</td>\n",
                            "      <td>[Argentina, Córdoba]</td>\n",
                            "      <td>Argentina</td>\n",
                            "      <td>Córdoba</td>\n",
                            "    </tr>\n",
                            "    <tr>\n",
                            "      <th>90240</th>\n",
                            "      <td>Córdoba</td>\n",
                            "      <td>[Argentina, Córdoba]</td>\n",
                            "      <td>Argentina</td>\n",
                            "      <td>Córdoba</td>\n",
                            "    </tr>\n",
                            "    <tr>\n",
                            "      <th>12896</th>\n",
                            "      <td>Capital Federal</td>\n",
                            "      <td>[Argentina, Capital Federal]</td>\n",
                            "      <td>Argentina</td>\n",
                            "      <td>Capital Federal</td>\n",
                            "    </tr>\n",
                            "    <tr>\n",
                            "      <th>78469</th>\n",
                            "      <td>Córdoba</td>\n",
                            "      <td>[Argentina, Córdoba]</td>\n",
                            "      <td>Argentina</td>\n",
                            "      <td>Córdoba</td>\n",
                            "    </tr>\n",
                            "    <tr>\n",
                            "      <th>18741</th>\n",
                            "      <td>Capital Federal</td>\n",
                            "      <td>[Argentina, Capital Federal]</td>\n",
                            "      <td>Argentina</td>\n",
                            "      <td>Capital Federal</td>\n",
                            "    </tr>\n",
                            "    <tr>\n",
                            "      <th>79926</th>\n",
                            "      <td>Capital Federal</td>\n",
                            "      <td>[Argentina, Capital Federal]</td>\n",
                            "      <td>Argentina</td>\n",
                            "      <td>Capital Federal</td>\n",
                            "    </tr>\n",
                            "    <tr>\n",
                            "      <th>54646</th>\n",
                            "      <td>Capital Federal</td>\n",
                            "      <td>[Argentina, Capital Federal]</td>\n",
                            "      <td>Argentina</td>\n",
                            "      <td>Capital Federal</td>\n",
                            "    </tr>\n",
                            "    <tr>\n",
                            "      <th>66983</th>\n",
                            "      <td>Córdoba</td>\n",
                            "      <td>[Argentina, Córdoba]</td>\n",
                            "      <td>Argentina</td>\n",
                            "      <td>Córdoba</td>\n",
                            "    </tr>\n",
                            "    <tr>\n",
                            "      <th>92254</th>\n",
                            "      <td>Córdoba</td>\n",
                            "      <td>[Argentina, Córdoba]</td>\n",
                            "      <td>Argentina</td>\n",
                            "      <td>Córdoba</td>\n",
                            "    </tr>\n",
                            "  </tbody>\n",
                            "</table>\n",
                            "</div>"
                        ],
                        "text/plain": [
                            "            place_name       place_with_parent_names country_name  \\\n",
                            "70147          Córdoba          [Argentina, Córdoba]    Argentina   \n",
                            "67176          Córdoba          [Argentina, Córdoba]    Argentina   \n",
                            "90240          Córdoba          [Argentina, Córdoba]    Argentina   \n",
                            "12896  Capital Federal  [Argentina, Capital Federal]    Argentina   \n",
                            "78469          Córdoba          [Argentina, Córdoba]    Argentina   \n",
                            "18741  Capital Federal  [Argentina, Capital Federal]    Argentina   \n",
                            "79926  Capital Federal  [Argentina, Capital Federal]    Argentina   \n",
                            "54646  Capital Federal  [Argentina, Capital Federal]    Argentina   \n",
                            "66983          Córdoba          [Argentina, Córdoba]    Argentina   \n",
                            "92254          Córdoba          [Argentina, Córdoba]    Argentina   \n",
                            "\n",
                            "            state_name  \n",
                            "70147          Córdoba  \n",
                            "67176          Córdoba  \n",
                            "90240          Córdoba  \n",
                            "12896  Capital Federal  \n",
                            "78469          Córdoba  \n",
                            "18741  Capital Federal  \n",
                            "79926  Capital Federal  \n",
                            "54646  Capital Federal  \n",
                            "66983          Córdoba  \n",
                            "92254          Córdoba  "
                        ]
                    },
                    "execution_count": 48,
                    "metadata": {},
                    "output_type": "execute_result"
                }
            ],
            "source": [
                "# Reviso los place_with_parent_names de Córdoba y Capital Federal por contener el maypr numero de registros\n",
                "mask = places_data_2_elements['place_with_parent_names'].apply(lambda x: x[1] == 'Córdoba' or x[1] == 'Capital Federal')\n",
                "places_data_2_elements[mask].sample(10)"
            ]
        },
        {
            "cell_type": "code",
            "execution_count": 49,
            "metadata": {},
            "outputs": [
                {
                    "data": {
                        "text/plain": [
                            "(0, 4)"
                        ]
                    },
                    "execution_count": 49,
                    "metadata": {},
                    "output_type": "execute_result"
                }
            ],
            "source": [
                "# Pareciera ser que todos los lugares que tienen dos elementos en place_with_parent_names repiten el nombre del estado en place_name\n",
                "# Corroboramos esto\n",
                "mask = places_data_2_elements['place_name'] != places_data_2_elements['state_name']\n",
                "places_data_2_elements[mask].shape\n"
            ]
        },
        {
            "cell_type": "markdown",
            "metadata": {},
            "source": [
                "*Conclusión: En los 4780 registros de place_with_parent_names que tienen 2 valores se utilizó state_name como place_name.* \n",
                "*Es decir, la ciudad principal de la provincia.*"
            ]
        },
        {
            "cell_type": "markdown",
            "metadata": {},
            "source": [
                "#### Análisis de registros de place_with_parent_names con 5 valores\n",
                "___"
            ]
        },
        {
            "cell_type": "code",
            "execution_count": 55,
            "metadata": {},
            "outputs": [
                {
                    "name": "stdout",
                    "output_type": "stream",
                    "text": [
                        "(548,)\n"
                    ]
                },
                {
                    "data": {
                        "text/html": [
                            "<div>\n",
                            "<style scoped>\n",
                            "    .dataframe tbody tr th:only-of-type {\n",
                            "        vertical-align: middle;\n",
                            "    }\n",
                            "\n",
                            "    .dataframe tbody tr th {\n",
                            "        vertical-align: top;\n",
                            "    }\n",
                            "\n",
                            "    .dataframe thead th {\n",
                            "        text-align: right;\n",
                            "    }\n",
                            "</style>\n",
                            "<table border=\"1\" class=\"dataframe\">\n",
                            "  <thead>\n",
                            "    <tr style=\"text-align: right;\">\n",
                            "      <th></th>\n",
                            "      <th>place_name</th>\n",
                            "      <th>place_with_parent_names</th>\n",
                            "      <th>country_name</th>\n",
                            "      <th>state_name</th>\n",
                            "    </tr>\n",
                            "  </thead>\n",
                            "  <tbody>\n",
                            "    <tr>\n",
                            "      <th>46375</th>\n",
                            "      <td>Barrio Los Alisos</td>\n",
                            "      <td>[Argentina, Bs.As. G.B.A. Zona Norte, Tigre, N...</td>\n",
                            "      <td>Argentina</td>\n",
                            "      <td>Bs.As. G.B.A. Zona Norte</td>\n",
                            "    </tr>\n",
                            "    <tr>\n",
                            "      <th>118210</th>\n",
                            "      <td>Barrio Los Lagos</td>\n",
                            "      <td>[Argentina, Bs.As. G.B.A. Zona Norte, Tigre, N...</td>\n",
                            "      <td>Argentina</td>\n",
                            "      <td>Bs.As. G.B.A. Zona Norte</td>\n",
                            "    </tr>\n",
                            "    <tr>\n",
                            "      <th>22901</th>\n",
                            "      <td>Barrio Los Alisos</td>\n",
                            "      <td>[Argentina, Bs.As. G.B.A. Zona Norte, Tigre, N...</td>\n",
                            "      <td>Argentina</td>\n",
                            "      <td>Bs.As. G.B.A. Zona Norte</td>\n",
                            "    </tr>\n",
                            "    <tr>\n",
                            "      <th>114425</th>\n",
                            "      <td>Barrio La Alameda</td>\n",
                            "      <td>[Argentina, Bs.As. G.B.A. Zona Norte, Tigre, N...</td>\n",
                            "      <td>Argentina</td>\n",
                            "      <td>Bs.As. G.B.A. Zona Norte</td>\n",
                            "    </tr>\n",
                            "    <tr>\n",
                            "      <th>35760</th>\n",
                            "      <td>Barrio Los Alisos</td>\n",
                            "      <td>[Argentina, Bs.As. G.B.A. Zona Norte, Tigre, N...</td>\n",
                            "      <td>Argentina</td>\n",
                            "      <td>Bs.As. G.B.A. Zona Norte</td>\n",
                            "    </tr>\n",
                            "  </tbody>\n",
                            "</table>\n",
                            "</div>"
                        ],
                        "text/plain": [
                            "               place_name                            place_with_parent_names  \\\n",
                            "46375   Barrio Los Alisos  [Argentina, Bs.As. G.B.A. Zona Norte, Tigre, N...   \n",
                            "118210   Barrio Los Lagos  [Argentina, Bs.As. G.B.A. Zona Norte, Tigre, N...   \n",
                            "22901   Barrio Los Alisos  [Argentina, Bs.As. G.B.A. Zona Norte, Tigre, N...   \n",
                            "114425  Barrio La Alameda  [Argentina, Bs.As. G.B.A. Zona Norte, Tigre, N...   \n",
                            "35760   Barrio Los Alisos  [Argentina, Bs.As. G.B.A. Zona Norte, Tigre, N...   \n",
                            "\n",
                            "       country_name                state_name  \n",
                            "46375     Argentina  Bs.As. G.B.A. Zona Norte  \n",
                            "118210    Argentina  Bs.As. G.B.A. Zona Norte  \n",
                            "22901     Argentina  Bs.As. G.B.A. Zona Norte  \n",
                            "114425    Argentina  Bs.As. G.B.A. Zona Norte  \n",
                            "35760     Argentina  Bs.As. G.B.A. Zona Norte  "
                        ]
                    },
                    "execution_count": 55,
                    "metadata": {},
                    "output_type": "execute_result"
                }
            ],
            "source": [
                "# Reviso los place_with_parent_names con 5 elementos\n",
                "mask = places_data['place_with_parent_names'].apply(lambda x: len(x) == 5)\n",
                "places_data_5_elements = places_data[mask].copy()\n",
                "print(places_data_5_elements['place_with_parent_names'].shape)\n",
                "places_data_5_elements.sample(5)"
            ]
        },
        {
            "cell_type": "code",
            "execution_count": 54,
            "metadata": {},
            "outputs": [
                {
                    "data": {
                        "text/plain": [
                            "0"
                        ]
                    },
                    "execution_count": 54,
                    "metadata": {},
                    "output_type": "execute_result"
                }
            ],
            "source": [
                "# Reviso si alguno de los valores no corresponde a Nordelta\n",
                "places_data_5_elements['place_with_parent_names'].apply(lambda x: x[3] != 'Nordelta').sum()"
            ]
        },
        {
            "cell_type": "code",
            "execution_count": 56,
            "metadata": {},
            "outputs": [
                {
                    "name": "stdout",
                    "output_type": "stream",
                    "text": [
                        "place_with_parent_names[2] difference with place_name: 548\n",
                        "place_with_parent_names[2] proportional difference with place_name: 1.0\n"
                    ]
                }
            ],
            "source": [
                "# Corroboramos que los valores de la columna place_with_parent_names[2] coinciden con los valores de la columna place_name\n",
                "mask = (places_data_5_elements['place_with_parent_names'].apply(lambda x: x[2]) != places_data_5_elements['place_name'])\n",
                "print(\"place_with_parent_names[2] difference with place_name:\", places_data_5_elements[mask].shape[0])\n",
                "print(\"place_with_parent_names[2] proportional difference with place_name:\", places_data_5_elements[mask].shape[0] / places_data_5_elements.shape[0])\n"
            ]
        },
        {
            "cell_type": "code",
            "execution_count": 57,
            "metadata": {},
            "outputs": [
                {
                    "name": "stdout",
                    "output_type": "stream",
                    "text": [
                        "place_with_parent_names[3] difference with place_name: 548\n",
                        "place_with_parent_names[3] proportional difference with place_name: 1.0\n"
                    ]
                }
            ],
            "source": [
                "# Corroboramos que los valores de la columna place_with_parent_names[3] coinciden con los valores de la columna place_name\n",
                "mask = (places_data_5_elements['place_with_parent_names'].apply(lambda x: x[3]) != places_data_5_elements['place_name'])\n",
                "print(\"place_with_parent_names[3] difference with place_name:\", places_data_5_elements[mask].shape[0])\n",
                "print(\"place_with_parent_names[3] proportional difference with place_name:\", places_data_5_elements[mask].shape[0] / places_data_5_elements.shape[0])\n"
            ]
        },
        {
            "cell_type": "code",
            "execution_count": 58,
            "metadata": {},
            "outputs": [
                {
                    "name": "stdout",
                    "output_type": "stream",
                    "text": [
                        "place_with_parent_names[4] difference with place_name: 0\n",
                        "place_with_parent_names[4] proportional difference with place_name: 0.0\n"
                    ]
                }
            ],
            "source": [
                "# Corroboramos que los valores de la columna place_with_parent_names[4] coinciden con los valores de la columna place_name\n",
                "mask = (places_data_5_elements['place_with_parent_names'].apply(lambda x: x[4]) != places_data_5_elements['place_name'])\n",
                "print(\"place_with_parent_names[4] difference with place_name:\", places_data_5_elements[mask].shape[0])\n",
                "print(\"place_with_parent_names[4] proportional difference with place_name:\", places_data_5_elements[mask].shape[0] / places_data_5_elements.shape[0])"
            ]
        },
        {
            "cell_type": "markdown",
            "metadata": {},
            "source": [
                "*Conclusión: Los 548 registros de place_with_parent_names que tienen 5 valores son de Nordelta y el último valor se refiere al Barrio. place_name toma los valores del barrio*"
            ]
        },
        {
            "cell_type": "markdown",
            "metadata": {},
            "source": [
                "\n",
                "> ##### Conclusiones finales: \n",
                "> - Existen como máximo 5 tipos de registros en place_with_parent_names: País, Provincia, Municipio, Ciudad, Barrio\n",
                "> - País y Provincia son iguales a country_name y state_name\n",
                "> - Place_name se le asigna el valor de municipio: 76000 + 10027 = 86027\n",
                "> - Place_name se le asigna el valor de ciudad: 29842 (en  estos casos existe el valor municipio también )\n",
                "> - Place_name se le asigna el valor de barrio: 548 (en estos casos existe el valor municipio y ciudad también)\n",
                "> - Place_name se le asigna el valor de state_name: 4780 (en estos casos no existe el valor municipio y ciudad)\n",
                "> - Place_name se le asigna el valor de NaN: 23 (en estos casos existe el valor municipio y ciudad)\n",
                "> ___\n",
                "> Por lo tanto se puede concluir que para dar mayor consistencia es posible imputar place_name con el valor del municipio en las mayoría de los casos. Confrontar con geoNamesId.\n",
                "> ___\n",
                "\n",
                "\n",
                "\n",
                "\n",
                "\n",
                "\n"
            ]
        },
        {
            "cell_type": "markdown",
            "metadata": {},
            "source": [
                "### Geolocalización"
            ]
        },
        {
            "cell_type": "code",
            "execution_count": null,
            "metadata": {},
            "outputs": [],
            "source": [
                "# Creamos un nuevo dataframe con las columnas que me interesan\n",
                "geo_location_data = data[ geolocation].copy()\n",
                "geo_location_data.head()"
            ]
        },
        {
            "cell_type": "markdown",
            "metadata": {},
            "source": [
                "Analizamos por lat-lon para si había duplicados considerando que las mismas coordenadas son las misma propiedad.\n",
                "\n",
                "No es posible determinar si es la misma propiedad porque lat-lon se refiere muchas veces a la ubicación aproximada. \n"
            ]
        },
        {
            "cell_type": "code",
            "execution_count": null,
            "metadata": {},
            "outputs": [],
            "source": [
                "## ver datos duplicados\n",
                "data_copy = data.copy()\n",
                "data_copy.dropna(subset=['lat-lon'], inplace=True)\n",
                "data_copy_group = data_copy.groupby('lat-lon').count()\n",
                "data_copy_group[data_copy_group['operation'] > 1].sort_values(by='operation', ascending=False)"
            ]
        },
        {
            "cell_type": "code",
            "execution_count": null,
            "metadata": {},
            "outputs": [],
            "source": [
                "## ver si existe algun dato duplicado\n",
                "data.duplicated().any()"
            ]
        },
        {
            "cell_type": "code",
            "execution_count": null,
            "metadata": {},
            "outputs": [],
            "source": [
                "data['lat-lon'].duplicated().any()"
            ]
        },
        {
            "cell_type": "code",
            "execution_count": null,
            "metadata": {},
            "outputs": [],
            "source": [
                "data_copy.shape"
            ]
        },
        {
            "cell_type": "code",
            "execution_count": null,
            "metadata": {},
            "outputs": [],
            "source": [
                "data_copy[data_copy['lat-lon'] == '-34.4026444,-58.6684776']"
            ]
        },
        {
            "cell_type": "code",
            "execution_count": null,
            "metadata": {},
            "outputs": [],
            "source": [
                "geo_location_data.sample(10)"
            ]
        },
        {
            "cell_type": "code",
            "execution_count": null,
            "metadata": {},
            "outputs": [],
            "source": [
                "# Vemos porcentaje de valores nulos por columna\n",
                "geo_location_data.isnull().sum()/geo_location_data.shape[0] * 100\n"
            ]
        },
        {
            "cell_type": "code",
            "execution_count": null,
            "metadata": {},
            "outputs": [],
            "source": [
                "# convertimos el dataframe a geodataframe\n",
                "geo_location_data_gdf = gpd.GeoDataFrame(geo_location_data, geometry=gpd.points_from_xy(geo_location_data.lon, geo_location_data.lat))\n",
                "\n",
                "# Ubicamos los puntos en el mapa\n",
                "world = gpd.read_file(gpd.datasets.get_path('naturalearth_lowres'))\n",
                "latin_america = world[world['continent'] == 'South America']\n",
                "fig, ax = plt.subplots(figsize=(5,10))\n",
                "latin_america.plot(ax=ax, alpha=0.4, color='grey', edgecolor='black')\n",
                "geo_location_data_gdf.plot(ax=ax, markersize=0.5, color='red')"
            ]
        },
        {
            "cell_type": "code",
            "execution_count": null,
            "metadata": {},
            "outputs": [],
            "source": [
                "# Existe una propiedad que se encuentra fuera de la Argentina (en Colombia). \n",
                "# La buscamos en el dataframe original\n",
                "# buscamos el polígono de Colombia\n",
                "geo_colombia = world[world['name'] == 'Colombia']\n",
                "\n",
                "# Buscamos la propiedad que se encuentra en Colombia\n",
                "geo_outlier_index = geo_location_data_gdf[geo_location_data_gdf.within(geo_colombia['geometry'].iloc[0])].index\n",
                "\n",
                "# La buscamos en el dataframe original\n",
                "data.iloc[geo_outlier_index]\n"
            ]
        },
        {
            "cell_type": "markdown",
            "metadata": {},
            "source": [
                "Es una propiedad súper interesante, por latitud y longitud está en Colombia, pero por el nombre de la provincia está en Argentina, la descripción habla de Armenia y el título del el Barrio el Limonar.\n",
                "\n",
                "En una rápida búsqueda por internet encontramos que la propiedad se encuentra en el barrio El Limonar de Armenia, Colombia.\n",
                "\n",
                "La descartaremos sin dudas.\n",
                "\n",
                "______"
            ]
        },
        {
            "cell_type": "markdown",
            "metadata": {},
            "source": [
                "#### Corroborar si lat-lon coincide con las columnas lat y lon"
            ]
        },
        {
            "cell_type": "code",
            "execution_count": null,
            "metadata": {},
            "outputs": [],
            "source": [
                "# Corroboremos que los valores nulos en lat-lon son los mismos que en lat y lon\n",
                "geo_location_data[geo_location_data['lat-lon'].isnull()]['lat'].isnull().sum() == geo_location_data[geo_location_data['lat-lon'].isnull()]['lon'].isnull().sum()\n"
            ]
        },
        {
            "cell_type": "code",
            "execution_count": null,
            "metadata": {},
            "outputs": [],
            "source": [
                "# Dropeamos los valores nulos de lat-lon\n",
                "geo_location_data.dropna(subset=['lat-lon'], inplace=True)\n",
                "geo_location_data.isnull().sum()"
            ]
        },
        {
            "cell_type": "code",
            "execution_count": null,
            "metadata": {},
            "outputs": [],
            "source": [
                "# Convertimos la columna lat-lon en dos columnas nuevas\n",
                "geo_location_data['lat_alt'] = geo_location_data['lat-lon'].apply(lambda x: x.split(',')[0])\n",
                "geo_location_data['lon_alt'] = geo_location_data['lat-lon'].apply(lambda x: x.split(',')[1])\n",
                "geo_location_data.head()\n"
            ]
        },
        {
            "cell_type": "code",
            "execution_count": null,
            "metadata": {},
            "outputs": [],
            "source": [
                "# Vemos los tipos de datos\n",
                "geo_location_data.dtypes"
            ]
        },
        {
            "cell_type": "code",
            "execution_count": null,
            "metadata": {},
            "outputs": [],
            "source": [
                "# convertimos las nuevas columnas a float\n",
                "geo_location_data['lat_alt'] = geo_location_data['lat_alt'].astype(float)\n",
                "geo_location_data['lon_alt'] = geo_location_data['lon_alt'].astype(float)\n",
                "geo_location_data.dtypes"
            ]
        },
        {
            "cell_type": "code",
            "execution_count": null,
            "metadata": {},
            "outputs": [],
            "source": [
                "# Comprobamos que los valores de las nuevas columnas son iguales a los de las columnas originales\n",
                "print(\"Diferencia entre lat:\",(geo_location_data['lat_alt'] != geo_location_data['lat']).sum())\n",
                "print(\"Diferencia entre lon:\",(geo_location_data['lon_alt'] != geo_location_data['lon']).sum())\n",
                "# En proporción\n",
                "print(\"Diferencia en proporción de lat\",(geo_location_data['lat_alt'] != geo_location_data['lat']).sum()/ geo_location_data.shape[0])\n",
                "print(\"Diferencia en proporción de lon\",(geo_location_data['lon_alt'] != geo_location_data['lon']).sum()/ geo_location_data.shape[0])\n"
            ]
        },
        {
            "cell_type": "markdown",
            "metadata": {},
            "source": [
                "Hay diferencias en 21% los casos. Veamos si es una diferencia significativa\n",
                "\n",
                "Revisamos el margen de diferencia redondeando progresivamente."
            ]
        },
        {
            "cell_type": "code",
            "execution_count": null,
            "metadata": {},
            "outputs": [],
            "source": [
                "Decimal(geo_location_data['lon'][0]).as_tuple().exponent"
            ]
        },
        {
            "cell_type": "code",
            "execution_count": null,
            "metadata": {},
            "outputs": [],
            "source": [
                "# Reviso la cantidad de decimales que tienen los valores de lat y lon\n",
                "geo_location_data['lat'].apply(lambda x: Decimal(x).as_tuple().exponent).value_counts()"
            ]
        },
        {
            "cell_type": "code",
            "execution_count": null,
            "metadata": {},
            "outputs": [],
            "source": [
                "geo_location_data['lon'].apply(lambda x: Decimal(x).as_tuple().exponent).value_counts()"
            ]
        },
        {
            "cell_type": "code",
            "execution_count": null,
            "metadata": {},
            "outputs": [],
            "source": [
                "# Vamos redondeando progresivamente los valores de lat y lon\n",
                "lat_decimal_diff = []\n",
                "for i in range(47,0,-1):\n",
                "    margin = (geo_location_data['lat_alt'].round(i) != geo_location_data['lat'].round(i)).sum()/ geo_location_data.shape[0]\n",
                "    lat_decimal_diff.insert(0,margin)\n",
                "    # print('Margen de diferencia de',i,'decimales en latitud:', margin)\n",
                "# Buscamos dónde el margen de diferencia es menor al 1%\n",
                "    if margin <= 0.01:\n",
                "        print('Margen de diferencia de',i,'decimales en latitud:', margin)\n",
                "   \n",
                "print(\"////////////////////////////////////\")   \n",
                "\n",
                "lon_decimal_diff = []\n",
                "for i in range(47,0,-1):\n",
                "    margin = (geo_location_data['lon_alt'].round(i) != geo_location_data['lon'].round(i)).sum()/ geo_location_data.shape[0]\n",
                "    lon_decimal_diff.insert(0,margin)\n",
                "    # print('Margen de diferencia de',i,'decimales en longitud:', margin)\n",
                "# Buscamos dónde el margen de diferencia es menor al 1%\n",
                "    if margin <= 0.01:\n",
                "        print('Margen de diferencia de',i,'decimales en latitud:', margin)\n",
                "\n",
                "\n"
            ]
        },
        {
            "cell_type": "code",
            "execution_count": null,
            "metadata": {},
            "outputs": [],
            "source": [
                "# Lo graficamos\n",
                "plt.figure(figsize=(10,5))\n",
                "plt.plot(lat_decimal_diff, label='latitud')\n",
                "plt.plot(lon_decimal_diff, label='longitud')\n",
                "plt.ylabel('Margen de diferencia')\n",
                "plt.xlabel('Cantidad de decimales')\n",
                "plt.legend()\n"
            ]
        },
        {
            "cell_type": "code",
            "execution_count": null,
            "metadata": {},
            "outputs": [],
            "source": [
                "geo_location_data_gdf = gpd.GeoDataFrame(geo_location_data, geometry=gpd.points_from_xy(geo_location_data.lon, geo_location_data.lat))\n",
                "geo_location_data_gdf.head()"
            ]
        },
        {
            "cell_type": "markdown",
            "metadata": {},
            "source": [
                "\n",
                "> Como se puede ver, las diferencias entre lat-lon y lat y lon comienzan a partir de los 13 decimales por lo que podemos descartarla como una diferencia significativa.\n",
                "> \n",
                "> Por otro lado, también hemos comprobado que los valores de lat lon provienen de convertir la variable a geometry y obtener de ahí lat y lon\n",
                ">\n",
                "> Entonces podemos concluir que la variable lat-lon es redundante y podemos eliminarla.\n",
                "> ____ "
            ]
        },
        {
            "cell_type": "markdown",
            "metadata": {},
            "source": [
                "#### Análisis de propiedades con igual latitud y longitud con otras propiedades"
            ]
        },
        {
            "cell_type": "markdown",
            "metadata": {},
            "source": [
                "Vamos a buscar si hay muchos puntos iguales para refutar la hipótesis de que se utilizó la misma ubicación para varias propiedades"
            ]
        },
        {
            "cell_type": "code",
            "execution_count": null,
            "metadata": {},
            "outputs": [],
            "source": [
                "# Primero veamos una visualización de los datos de Capital Federal para ver si parece haber una gran concentración \n",
                "# de propiedades en algún lugar específico o están dispersas por toda la ciudad.\n",
                "geo_location_data_gdf_capital = geo_location_data_gdf[data['state_name']=='Capital Federal']\n",
                "geo_location_data_gdf_capital['geometry']"
            ]
        },
        {
            "cell_type": "code",
            "execution_count": null,
            "metadata": {},
            "outputs": [],
            "source": [
                "# Ubicamos los puntos en el mapa\n",
                "df_barrios_capital = pd.read_csv('./data/barrios.csv', sep=',', encoding='latin-1')\n",
                "import shapely.wkt\n",
                "\n",
                "df_barrios_capital[\"WKT\"] = df_barrios_capital[\"WKT\"].apply(shapely.wkt.loads) \n",
                "df_barrios_capital = gpd.GeoDataFrame(df_barrios_capital, geometry='WKT')\n"
            ]
        },
        {
            "cell_type": "code",
            "execution_count": null,
            "metadata": {},
            "outputs": [],
            "source": [
                "geo_location_data_gdf_capital['geometry']\n",
                "fig, ax = plt.subplots(figsize=(10,20))\n",
                "\n",
                "geo_location_data_gdf_capital.plot(ax=ax, markersize=0.5, color='red', alpha=0.1) \n",
                "df_barrios_capital.plot(ax=ax, alpha=0.4, color='grey', edgecolor='black')\n",
                "plt.xlim(-58.55,-58.350)\n",
                "plt.ylim(-34.705,-34.525) \n",
                "plt.show()"
            ]
        },
        {
            "cell_type": "code",
            "execution_count": null,
            "metadata": {},
            "outputs": [],
            "source": [
                "# Ahora veamos en todo el dataset cuántas propiedades comparten la misma ubicación.\n",
                "different_locations = geo_location_data_gdf['geometry'].value_counts()\n",
                "print('Cantidad de propiedades por punto:', different_locations) "
            ]
        },
        {
            "cell_type": "code",
            "execution_count": null,
            "metadata": {},
            "outputs": [],
            "source": [
                "prop_qty_per_point = []\n",
                "for i in range(1,different_locations[0]+1):\n",
                "    (different_locations == i).sum() / different_locations.shape[0] * 100\n",
                "    prop_qty_per_point.append((different_locations == i).sum() / different_locations.shape[0] * 100)\n",
                "prop_qty_per_point = pd.DataFrame(prop_qty_per_point, columns=['Porcentaje'], index=range(1,different_locations[0]+1))\n",
                "prop_qty_per_point.reset_index(inplace=True)\n",
                "prop_qty_per_point.rename(columns={'index':'Cantidad de propiedades por punto'}, inplace=True)\n",
                "prop_qty_per_point.head(10)"
            ]
        },
        {
            "cell_type": "code",
            "execution_count": null,
            "metadata": {},
            "outputs": [],
            "source": [
                "# Lo graficamos\n",
                "plt.figure(figsize=(10,5))\n",
                "plt.hist(different_locations, bins=different_locations[0]+1)\n",
                "plt.ylabel('Cantidad de puntos')\n",
                "plt.xlabel('Cantidad de propiedades por punto')\n",
                "plt.show()\n",
                "\n"
            ]
        },
        {
            "cell_type": "markdown",
            "metadata": {},
            "source": [
                "Veamos dónde se encuentran las propiedades que más tienen lat y lon iguales"
            ]
        },
        {
            "cell_type": "code",
            "execution_count": null,
            "metadata": {},
            "outputs": [],
            "source": [
                "most_shared_point_props = geo_location_data_gdf[geo_location_data_gdf['geometry'].isin(different_locations.index[0:11])]\n",
                " "
            ]
        },
        {
            "cell_type": "code",
            "execution_count": null,
            "metadata": {},
            "outputs": [],
            "source": [
                "fig, ax = plt.subplots(figsize=(5,10))\n",
                "latin_america.plot(ax=ax, alpha=0.4, color='grey', edgecolor='black')\n",
                "most_shared_point_props.plot(ax=ax, markersize=0.5, color='red')"
            ]
        },
        {
            "cell_type": "code",
            "execution_count": null,
            "metadata": {},
            "outputs": [],
            "source": [
                "# Parece que están todas en la Argentina\n",
                "# Descargamos un mapa de la Argentina por municipios para averiguar qué municipios son los que tienen más propiedades en el mismo punto.\n",
                "# https://www.ign.gob.ar/NuestrasActividades/InformacionGeoespacial/CapasSIG\n",
                "municipios_geo = gpd.read_file('./data/municipio/municipio.shp')\n",
                "municipios_geo.head()"
            ]
        },
        {
            "cell_type": "code",
            "execution_count": null,
            "metadata": {},
            "outputs": [],
            "source": [
                "fig, ax = plt.subplots(figsize=(5,10))\n",
                "municipios_geo.plot(ax=ax, alpha=0.4, color='grey', edgecolor='black')\n",
                "plt.show()"
            ]
        },
        {
            "cell_type": "code",
            "execution_count": null,
            "metadata": {},
            "outputs": [],
            "source": [
                "# Veamos en qué municipios están las propiedades que comparten el mismo punto.\n",
                "# convertimos a coordenadas geográficas para poder hacer el join con el geodataframe de las propiedades.\n",
                "most_shared_point_props.crs = \"EPSG:4326\"\n",
                "most_shared_point_props = most_shared_point_props.to_crs(epsg=4326) "
            ]
        },
        {
            "cell_type": "code",
            "execution_count": null,
            "metadata": {},
            "outputs": [],
            "source": [
                "# Hacemos el join con el geodataframe de los municipios.\n",
                "most_shared_point_props_municipios = gpd.sjoin(most_shared_point_props, municipios_geo, how=\"inner\")\n",
                "most_shared_point_props_municipios.head()"
            ]
        },
        {
            "cell_type": "code",
            "execution_count": null,
            "metadata": {},
            "outputs": [],
            "source": [
                "most_shared_point_props_municipios['fna'].value_counts()"
            ]
        },
        {
            "cell_type": "markdown",
            "metadata": {},
            "source": [
                "> Podemos concluir que la gran mayoría de los puntos de lat y lon son únicos, por lo que descartamos que sean aproximaciones.\n",
                ">  \n",
                "> Una excepción notable son Tigre y Capital Federal\n",
                "> \n",
                "> ____"
            ]
        },
        {
            "cell_type": "markdown",
            "metadata": {},
            "source": [
                "#### Corroborar si lat-lon coincide con geonames_id"
            ]
        },
        {
            "cell_type": "code",
            "execution_count": null,
            "metadata": {},
            "outputs": [],
            "source": [
                "geo_location_data = data[ geolocation].copy()"
            ]
        },
        {
            "cell_type": "code",
            "execution_count": null,
            "metadata": {},
            "outputs": [],
            "source": [
                "# Corroboramos que todos los nulos de latitud y longitud también son nulos en la columna geonames_id.\n",
                "lat_nulls = geo_location_data[geo_location_data['lat'].isnull()]\n",
                "lon_nulls = geo_location_data[geo_location_data['lon'].isnull()]\n",
                "geonames_null = geo_location_data[geo_location_data['geonames_id'].isnull()]\n",
                "print('Es lat null = lon null?: ', lat_nulls.equals(lon_nulls))  \n",
                "print('Es lat null = geonames null?: ', lat_nulls.equals(geonames_null))  \n",
                "print('Es lon null = geonames null?: ', lon_nulls.equals(geonames_null))  \n"
            ]
        },
        {
            "cell_type": "code",
            "execution_count": null,
            "metadata": {},
            "outputs": [],
            "source": [
                "# Vemos cuantas columnas tienen nulos en lat (o lon, son iguales en cuanto a nulos) y no en geonames_id.\n",
                "lat_nulls = geo_location_data[geo_location_data['lat'].isnull()]\n",
                "lat_nulls_geonames_not_null = lat_nulls[lat_nulls['geonames_id'].notnull()]\n",
                "lat_nulls_geonames_not_null.shape[0] "
            ]
        },
        {
            "cell_type": "code",
            "execution_count": null,
            "metadata": {},
            "outputs": [],
            "source": [
                "# Vemos cuantas columnas tienen nulos en geonames_id y no en lat (o lon, son iguales en cuanto a nulos).\n",
                "geonames_null = geo_location_data[geo_location_data['geonames_id'].isnull()]\n",
                "geonames_null_lat_not_null = geonames_null[geonames_null['lat'].notnull()]\n",
                "geonames_null_lat_not_null.shape[0]"
            ]
        },
        {
            "cell_type": "markdown",
            "metadata": {},
            "source": [
                "> Conclusión: Podemos imputar lat y lon a partir de geonames_id en 43365 casos. \n",
                "> \n",
                "> Podríamos imputar 10532 casos en geonames pero con una sóla variable de geolocalización es suficiente y usaremos lat-lon para crear geometry.\n",
                ">  \n",
                "> ______"
            ]
        },
        {
            "cell_type": "markdown",
            "metadata": {},
            "source": [
                "##### Importar la información de geonames_id"
            ]
        },
        {
            "cell_type": "code",
            "execution_count": null,
            "metadata": {},
            "outputs": [],
            "source": [
                "geonames = pd.read_csv(\"ar_copy.csv\", sep='\\t', header=None)"
            ]
        },
        {
            "cell_type": "code",
            "execution_count": null,
            "metadata": {},
            "outputs": [],
            "source": [
                "#como no tengo nombres en la columnas para mejorar la extracción renombro las que me interesan\n",
                "geonames.rename({0: 'geoname_oficial', 4:\"lat_oficial\", 5:\"lon_oficial\"}, axis=1, inplace=True)\n",
                "geonames.head()"
            ]
        },
        {
            "cell_type": "code",
            "execution_count": null,
            "metadata": {},
            "outputs": [],
            "source": [
                "#ahora si vamos a buscar los datos de lat y lon desde el geoname_oficial del archivo geonames de internet\n",
                "#Creamos un diccionario vacío para ubicar la Latitud\n",
                "lat_dict = {}\n",
                "\n",
                "#Creamos una tupla con los pares de key y value: usando un iterador de tuplas zip donde el primer\n",
                "# elemento de cada iterador pasado se empareja con el primero del segundo y asi sucesivamente\n",
                "geoname_lat = zip(geonames['geoname_oficial'], geonames['lat_oficial'])\n",
                "\n",
                "#Rellenamos el diccionario\n",
                "for geoname, lat_oficial in geoname_lat:\n",
                "    lat_dict[geoname] = lat_oficial"
            ]
        },
        {
            "cell_type": "code",
            "execution_count": null,
            "metadata": {},
            "outputs": [],
            "source": [
                "#Creamos un diccionario para ubicar la Longitud\n",
                "lon_dict = {}\n",
                "\n",
                "#Creamos una tupla con los pares de key y value: usando un iterador de tuplas zip donde el primer\n",
                "# elemento de cada iterador pasado se empareja con el primero del segundo y asi sucesivamente\n",
                "geoname_lon = zip(geonames['geoname_oficial'], geonames['lon_oficial'])\n",
                "\n",
                "#Rellenamos el diccionario\n",
                "for geoname, lon_oficial in geoname_lon:\n",
                "    lon_dict[geoname] = lon_oficial"
            ]
        },
        {
            "cell_type": "code",
            "execution_count": null,
            "metadata": {},
            "outputs": [],
            "source": [
                "geo_location_data[\"lat_geoname\"] = geo_location_data['geonames_id'].map(lat_dict)\n",
                "geo_location_data[\"lon_geoname\"] = geo_location_data['geonames_id'].map(lon_dict)"
            ]
        },
        {
            "cell_type": "code",
            "execution_count": null,
            "metadata": {},
            "outputs": [],
            "source": [
                "geo_location_data.isna().sum()"
            ]
        },
        {
            "cell_type": "markdown",
            "metadata": {},
            "source": [
                "##### Comparar lat-lon con lat-lon extraído de geonames_id"
            ]
        },
        {
            "cell_type": "markdown",
            "metadata": {},
            "source": [
                "Esto no se puede hacer porque sólo se extrajeron los datos de geonames_id que no tenían lat-lon"
            ]
        },
        {
            "cell_type": "code",
            "execution_count": null,
            "metadata": {},
            "outputs": [],
            "source": [
                "# comparo los datos completados con los datos originales para ver si hay diferencias\n",
                "# remuevo los nan de los datos originales (porque seguro va a haber diferencias en esos datos)\n",
                "geo_location_data.dropna(subset=['lat', 'lon','geonames_id', 'lat_geoname', \"lon_geoname\" ], inplace=True)\n",
                "geo_location_data.isna().sum()  "
            ]
        },
        {
            "cell_type": "code",
            "execution_count": null,
            "metadata": {},
            "outputs": [],
            "source": [
                "geo_location_data.shape "
            ]
        },
        {
            "cell_type": "code",
            "execution_count": null,
            "metadata": {},
            "outputs": [],
            "source": [
                "# comparamos las filas en común que no tienen nulos\n",
                "geo_location_data['lat'] == geo_location_data['lat_geoname']\n",
                "geo_location_data[geo_location_data['lat'] != geo_location_data['lat_geoname']]"
            ]
        },
        {
            "cell_type": "code",
            "execution_count": null,
            "metadata": {},
            "outputs": [],
            "source": [
                "# Ubicamos los puntos en el mapa\n",
                "\n",
                "# Estos df ya fueron creado y están puestos como referencia\n",
                "# geo_location_data_gdf = gpd.GeoDataFrame(geo_location_data, geometry=gpd.points_from_xy(geo_location_data.lon, geo_location_data.lat))\n",
                "# geo_location_data_gdf_capital = geo_location_data_gdf[data['state_name']=='Capital Federal']\n",
                "\n",
                "\n",
                "geo_location_data_gdf_capital_geonames = gpd.GeoDataFrame(geo_location_data, geometry=gpd.points_from_xy(geo_location_data.lon_geoname, geo_location_data.lat_geoname))\n",
                "geo_location_data_gdf_capital['geometry']\n",
                "df_barrios_capital = pd.read_csv('./data/barrios.csv', sep=',', encoding='latin-1')\n",
                "\n",
                "\n",
                "df_barrios_capital[\"WKT\"] = df_barrios_capital[\"WKT\"].apply(shapely.wkt.loads) \n",
                "df_barrios_capital = gpd.GeoDataFrame(df_barrios_capital, geometry='WKT')\n",
                "\n",
                "geo_location_data_gdf_capital['geometry']\n",
                "fig, ax = plt.subplots(figsize=(10,20))\n",
                "\n",
                "geo_location_data_gdf_capital.plot(ax=ax, markersize=0.5, color='red', alpha=0.1) \n",
                "geo_location_data_gdf_capital_geonames.plot(ax=ax, markersize=0.5, color='blue', alpha=0.1)\n",
                "df_barrios_capital.plot(ax=ax, alpha=0.4, color='grey', edgecolor='black')\n",
                "plt.xlim(-58.55,-58.350)\n",
                "plt.ylim(-34.705,-34.525) \n",
                "plt.show()"
            ]
        },
        {
            "cell_type": "markdown",
            "metadata": {},
            "source": [
                "*Conclusión: Geonames_id marca el centro de cada uno de los barrios y no la latitud y longitud exacta de la propiedad. Por lo que deberíamos imputar lat y lon a partir de geonames_id con mucho cuidado.*"
            ]
        },
        {
            "cell_type": "markdown",
            "metadata": {},
            "source": [
                "#### Corroborar si lat-lon coincide con place_name"
            ]
        },
        {
            "cell_type": "code",
            "execution_count": null,
            "metadata": {},
            "outputs": [],
            "source": [
                "municipios_geo.head()"
            ]
        },
        {
            "cell_type": "code",
            "execution_count": null,
            "metadata": {},
            "outputs": [],
            "source": [
                "municipios_geo_nam_geo = municipios_geo.copy()"
            ]
        },
        {
            "cell_type": "code",
            "execution_count": null,
            "metadata": {},
            "outputs": [],
            "source": [
                "# Reemplazamos ciudades por municipios\n",
                "places_data_4_elements_with_mun_as_place_name = places_data_4_elements.copy()\n",
                "places_data_4_elements_with_mun_as_place_name['place_name'] = places_data_4_elements['place_with_parent_names'].apply(lambda x: x[2])\n",
                "print(places_data_4_elements_with_mun_as_place_name.shape)\n",
                "places_data_4_elements_with_mun_as_place_name.head()"
            ]
        },
        {
            "cell_type": "code",
            "execution_count": null,
            "metadata": {},
            "outputs": [],
            "source": [
                "# Unimos los nuevos municipios asignados con los otro municipios\n",
                "places_data_mun = pd.concat([places_data_4_elements_with_mun_as_place_name, places_data_3_elements], axis=0) \n",
                "print(places_data_mun.shape) \n",
                "places_data_mun.head() "
            ]
        },
        {
            "cell_type": "code",
            "execution_count": null,
            "metadata": {},
            "outputs": [],
            "source": [
                "# Unimos los municipios con su georeferencia\n",
                "places_data_mun_geo = places_data_mun.join(geo_location_data)\n",
                "print(places_data_mun_geo.shape)\n",
                "places_data_mun_geo.head()"
            ]
        },
        {
            "cell_type": "code",
            "execution_count": null,
            "metadata": {},
            "outputs": [],
            "source": [
                "# Lo convertimos en geo data frame\n",
                "places_data_mun_geo_gdf = gpd.GeoDataFrame(places_data_mun_geo, geometry=gpd.points_from_xy(places_data_mun_geo.lon, places_data_mun_geo.lat))\n",
                "places_data_mun_geo_gdf.head()"
            ]
        },
        {
            "cell_type": "code",
            "execution_count": null,
            "metadata": {},
            "outputs": [],
            "source": [
                "# limpiamos los datos que no tienen georeferencia\n",
                "places_data_mun_geo_gdf.dropna(subset=['lat', 'lon'], inplace=True)\n",
                "places_data_mun_geo_gdf = places_data_mun_geo_gdf[['place_name', 'geometry','state_name']]\n",
                "print(places_data_mun_geo_gdf.shape)\n",
                "places_data_mun_geo_gdf.head()"
            ]
        },
        {
            "cell_type": "code",
            "execution_count": null,
            "metadata": {},
            "outputs": [],
            "source": [
                "# convertimos a coordenadas geográficas para poder hacer el join con el geodataframe de las propiedades.\n",
                "places_data_mun_geo_gdf.crs = \"EPSG:4326\" \n",
                "places_data_mun_geo_gdf = places_data_mun_geo_gdf.to_crs(\"EPSG:4326\")"
            ]
        },
        {
            "cell_type": "code",
            "execution_count": null,
            "metadata": {},
            "outputs": [],
            "source": [
                "# unimos los municipios con su georeferencia con los municipios con su georeferencia de places_data_mun_geo_gdf\n",
                "common_municipios = gpd.sjoin(municipios_geo_nam_geo, places_data_mun_geo_gdf, how=\"inner\")\n",
                "common_municipios = common_municipios[['nam','fna', 'place_name','state_name', 'geometry']]\n",
                "print(common_municipios.shape)\n",
                "common_municipios.head()"
            ]
        },
        {
            "cell_type": "code",
            "execution_count": null,
            "metadata": {},
            "outputs": [],
            "source": [
                "# Chequeamos que nam y place_name sean iguales\n",
                "(common_municipios['nam'] == common_municipios['place_name']).sum() == common_municipios.shape[0] \n"
            ]
        },
        {
            "cell_type": "code",
            "execution_count": null,
            "metadata": {},
            "outputs": [],
            "source": [
                "# Vemos que municipios que coinciden con place_name\n",
                "common_municipios[common_municipios['nam'] == common_municipios['place_name']]"
            ]
        },
        {
            "cell_type": "code",
            "execution_count": null,
            "metadata": {},
            "outputs": [],
            "source": [
                "# Vemos que municipios que no coinciden con place_name\n",
                "common_municipios[common_municipios['nam'] != common_municipios['place_name']]"
            ]
        },
        {
            "cell_type": "code",
            "execution_count": null,
            "metadata": {},
            "outputs": [],
            "source": [
                "# Considerando que el patrón Comuna n es de Capital Federal, eliminamos las filas que tenga ese patrón y el state_name sea Capital Federal\n",
                "regex_comuna = r'Comuna \\d+'\n",
                "common_municipios = common_municipios[ ~((common_municipios['nam'].str.contains(regex_comuna)) & (common_municipios['state_name'] == 'Capital Federal'))]\n",
                "print(common_municipios.shape)\n",
                "uncommon_municipios = common_municipios[common_municipios['nam'] != common_municipios['place_name']]\n",
                "print(uncommon_municipios.shape)\n",
                "uncommon_municipios.head()"
            ]
        },
        {
            "cell_type": "code",
            "execution_count": null,
            "metadata": {},
            "outputs": [],
            "source": [
                "print(\"Municipios diferentes: \", uncommon_municipios['nam'].nunique())\n",
                "uncommon_municipios['place_name'].value_counts().head()"
            ]
        },
        {
            "cell_type": "code",
            "execution_count": null,
            "metadata": {},
            "outputs": [],
            "source": [
                "uncommon_municipios_mar_del_plata = uncommon_municipios[uncommon_municipios['place_name'] == 'Mar del Plata'] \n",
                "print(uncommon_municipios_mar_del_plata.shape) \n",
                "uncommon_municipios_mar_del_plata.head()"
            ]
        },
        {
            "cell_type": "code",
            "execution_count": null,
            "metadata": {},
            "outputs": [],
            "source": [
                "# Mar del Plata corresponde al municipio de General Pueyrredón, por lo que también lo eliminamos.\n",
                "common_municipios = common_municipios[ ~((common_municipios['nam'] == 'General Pueyrredón') & (common_municipios['place_name'] == 'Mar del Plata'))]\n",
                "print(common_municipios.shape)\n",
                "uncommon_municipios = common_municipios[common_municipios['nam'] != common_municipios['place_name']]\n",
                "print(uncommon_municipios.shape)\n",
                "uncommon_municipios.head()"
            ]
        },
        {
            "cell_type": "code",
            "execution_count": null,
            "metadata": {},
            "outputs": [],
            "source": [
                "uncommon_municipios.groupby([ 'nam','place_name']).count().sort_values(by='state_name', ascending=False).head(10)"
            ]
        },
        {
            "cell_type": "markdown",
            "metadata": {},
            "source": [
                "*Conclusión: Los datos de lat-lon coinciden con place_name.*\n",
                "\n",
                "Casos notables: \n",
                "- Capital Federal: según el df del IGN son comunas y según el original son barrios. Se asume que son correctos.\n",
                "- Mar del Plata: Mar del Plata es la ciudad y General Pueyrredón el municipio. Si se utiliza el municipio como place_name lo correcto es imputarlo. # https://www.argentina.gob.ar/buenosaires/municipios"
            ]
        },
        {
            "cell_type": "markdown",
            "metadata": {},
            "source": [
                "#### Analizar si es posible imputar place_name de los registros deplaces_data_2_elements(donde solo hay país y provincia)"
            ]
        },
        {
            "cell_type": "code",
            "execution_count": null,
            "metadata": {},
            "outputs": [],
            "source": [
                "# Unimos los municipios con su georeferencia\n",
                "places_data_2_elements_geo = places_data_2_elements.join(geo_location_data)  \n",
                "print(places_data_2_elements_geo.shape)\n",
                "places_data_2_elements_geo.head()"
            ]
        },
        {
            "cell_type": "code",
            "execution_count": null,
            "metadata": {},
            "outputs": [],
            "source": [
                "# Vemos si existe geonames_id en alguna fila en places_data_2_elements_geo\n",
                "places_data_2_elements_geo['geonames_id'].isnull().sum() == places_data_2_elements_geo.shape[0]  "
            ]
        },
        {
            "cell_type": "code",
            "execution_count": null,
            "metadata": {},
            "outputs": [],
            "source": [
                "# Vemos si existe lat y lon en alguna fila en places_data_2_elements_geo\n",
                "places_data_2_elements_geo['lat'].isnull().sum() == places_data_2_elements_geo.shape[0]  and places_data_2_elements_geo['lon'].isnull().sum() == places_data_2_elements_geo.shape[0]"
            ]
        },
        {
            "cell_type": "markdown",
            "metadata": {},
            "source": [
                "*Conclusión: No es posible imputar place_name a partir de su georeferencia*"
            ]
        },
        {
            "cell_type": "markdown",
            "metadata": {},
            "source": [
                "### Precio"
            ]
        },
        {
            "cell_type": "markdown",
            "metadata": {},
            "source": [
                "### Superficie"
            ]
        },
        {
            "cell_type": "markdown",
            "metadata": {},
            "source": [
                "# Minar los datos"
            ]
        },
        {
            "cell_type": "markdown",
            "metadata": {},
            "source": [
                "### Dar formato, limpiar, homogeneizar y filtrar los datos"
            ]
        },
        {
            "cell_type": "markdown",
            "metadata": {},
            "source": [
                "Decisiones (a tomar):\n",
                "> Ubicación\n",
                "> ___\n",
                "- en cuanto a ubicación quedarse con una columna geometry y el municipio (en el caso de Capital Federal, Comuna == municipio)\n",
                "  - En caso de geometry, usar lat-lon o geonames_id? porque geonames_id toma el punto medio del municipio (es decir, más inexacto) y lat-lon toma el punto exacto de la propiedad (es decir, más exacto) pero lat-lon tiene muchos valores faltantes.\n",
                "  - Una opción sería tomar la std media de lat-lon y geonames_id y modificar aleatoriamente geoname para que no quede un punto sobrerepresentado. (comencé a implementar como prueba de concepto pero no lo terminé)\n",
                "  - Se podría hacer algo similar con los 18640 datos faltantes de geonames_id.\n",
                "  - En el caso de municipio, habría que imputar unos 29842 valores que utilizan el barrio en vez del municipio ( se ve en places_data_4_elements). \n",
                "  - De esta manera en cuanto a municipio sólo perdemos 4780 filas que sólo tienen state_name y no municipio ni ciudad ni es posible imputarlos desde su georeferencia.\n",
                "> Superficie\n",
                "> ___\n",
                "- Queda definar los casos donde superficie cubierta es mayor que superficie total y si es posible imputar la superficie total a partir de la cubierta tomando la cubierta como la total a partir del promedio de superficie total por superficie cubierta.\n",
                "- Ver qué hacer con los outliers \n",
                "- Revisar celda 29 de superficie_limpia_columnas\n",
                "- Celda 34, discriminar casas y agregar superficie total a partir de la cubierta más un porcentaje de jardín (Jonathan)\n",
                "\n",
                "> Precio\n",
                "> ___"
            ]
        },
        {
            "cell_type": "markdown",
            "metadata": {},
            "source": [
                "## Imputaciones ubicación"
            ]
        },
        {
            "cell_type": "code",
            "execution_count": null,
            "metadata": {},
            "outputs": [],
            "source": [
                "# Eliminamos las filas que no tienen municipio\n",
                "data_clean_location = data.drop(index=places_data_2_elements_geo.index)\n",
                "print(data_clean_location.shape)\n",
                "data_clean_location.head()"
            ]
        },
        {
            "cell_type": "code",
            "execution_count": null,
            "metadata": {},
            "outputs": [],
            "source": [
                "# Reemplazamos ciudades por municipios\n",
                "data_clean_location.loc[places_data_4_elements_with_mun_as_place_name.index, 'place_name'] = places_data_4_elements_with_mun_as_place_name['place_name']\n",
                "print(data_clean_location.shape)\n",
                "data_clean_location.head()"
            ]
        },
        {
            "cell_type": "code",
            "execution_count": null,
            "metadata": {},
            "outputs": [],
            "source": [
                "# Elimino columnas duplicadas\n",
                "unnecesary_columns = ['country_name', 'place_with_parent_names']\n",
                "data_clean_location = data_clean_location.drop(columns=unnecesary_columns)\n",
                "print(data_clean_location.shape) \n",
                "data_clean_location.head()"
            ]
        },
        {
            "cell_type": "code",
            "execution_count": null,
            "metadata": {},
            "outputs": [],
            "source": [
                "# limpiamos los datos que no tienen georeferencia\n",
                "data_clean_location.dropna(subset=[\"geonames_id\"], inplace=True)\n",
                "print(data_clean_location.shape)\n",
                "data_clean_location.head()"
            ]
        },
        {
            "cell_type": "code",
            "execution_count": null,
            "metadata": {},
            "outputs": [],
            "source": [
                "place_names = data_clean_location['place_name']"
            ]
        },
        {
            "cell_type": "code",
            "execution_count": null,
            "metadata": {},
            "outputs": [],
            "source": [
                "geo_location_data['place_name'] = place_names\n",
                "geo_location_data.head()\n",
                "geo_location_data.shape"
            ]
        },
        {
            "cell_type": "code",
            "execution_count": null,
            "metadata": {},
            "outputs": [],
            "source": [
                "# Veamos la la media de las lat y lon de la tabla original y los ingresados por geonames_id\n",
                "geo_location_data.groupby('place_name').agg({'lat':[ 'mean', 'std'], 'lon': ['mean', 'std'], 'lat_geoname':[ 'mean', 'std'], 'lon_geoname': ['mean', 'std']}).head()\n"
            ]
        },
        {
            "cell_type": "code",
            "execution_count": null,
            "metadata": {},
            "outputs": [],
            "source": [
                "# Me quedé sin tiempo pero por acá va la idea..."
            ]
        },
        {
            "cell_type": "markdown",
            "metadata": {},
            "source": [
                "# Refinar los datos"
            ]
        },
        {
            "cell_type": "markdown",
            "metadata": {},
            "source": [
                "# Exportar el nuevo dataset "
            ]
        },
        {
            "cell_type": "code",
            "execution_count": null,
            "metadata": {},
            "outputs": [],
            "source": []
        }
    ],
    "metadata": {
        "kernelspec": {
            "display_name": "Python 3.10.4 ('DH_geopandas')",
            "language": "python",
            "name": "python3"
        },
        "language_info": {
            "codemirror_mode": {
                "name": "ipython",
                "version": 3
            },
            "file_extension": ".py",
            "mimetype": "text/x-python",
            "name": "python",
            "nbconvert_exporter": "python",
            "pygments_lexer": "ipython3",
            "version": "3.10.4"
        },
        "orig_nbformat": 4,
        "vscode": {
            "interpreter": {
                "hash": "ccc2d0a3504c81dc026caf32773f2f2f4469570f6fc589beb16b0e0e3d20cee5"
            }
        }
    },
    "nbformat": 4,
    "nbformat_minor": 2
}
