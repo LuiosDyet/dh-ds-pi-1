{
 "cells": [
  {
   "cell_type": "markdown",
   "metadata": {},
   "source": [
    "# Trabajo práctico 1 : Analisis exploratorio del dataset Properatti\n",
    "\n",
    "Grupo #11: Camila Coltriani, Irania Fuentes, Johnatan Fischelson, Luis Dartayet, Ornela Cevolli  "
   ]
  },
  {
   "cell_type": "markdown",
   "metadata": {},
   "source": [
    "## Introducción: \n",
    "El dataset Properatti está construido con los datos de venta de propiedades en diferentes provincias de Argentina; incluye ubicacion política y georeferenciada, así como los precios, superficie, cantidad de habitaciones y pisos, expensas y, otras informaciones. En este dataset cada fila es una propiedad en venta."
   ]
  },
  {
   "cell_type": "markdown",
   "metadata": {},
   "source": [
    "## Identificar el problema"
   ]
  },
  {
   "cell_type": "markdown",
   "metadata": {},
   "source": [
    "El objetivo de este trabajo es realizar una limpieza del dataset properatti con la finalidad de obtener un dataset final con datos confiables que pueda ser utilizado en la generación de un modelo estadistico posterior.\n",
    "Con base en esto se plantean los siguientes objetivos especificos:\n",
    " - Adquirir los datos: leer y conocer su estructura para determinar las herramientas apropiadas para su manipulación.\n",
    "\n",
    " - Parsear los datos: realizar el analisis exploratorio de los datos que permita verificar la existencia o no de relaciones entre variables, valores duplicados, valores faltantes, valores atípicos o valores erroneos que para validar o aumentar la confiabilidad de los datos.\n",
    "\n",
    " - Minar los datos: aplicar las herramientas de python para corregir datos erroneos o duplicados, completar/eliminar valores nulos.\n",
    " \n",
    " - Refinar los datos: eliminar variables redundantes o repetidas, crear nuevas variables y dar un formato limpio al dataset original."
   ]
  },
  {
   "cell_type": "markdown",
   "metadata": {},
   "source": [
    "## Adquirir los datos"
   ]
  },
  {
   "cell_type": "code",
   "execution_count": null,
   "metadata": {},
   "outputs": [],
   "source": [
    "#Importando las bibliotecas necesarias para trabajar el dataset properatti\n",
    "import pandas as pd\n",
    "import numpy as np\n",
    "import matplotlib.pyplot as plt\n",
    "import statsmodels.api as sm\n",
    "#import geopandas as gpd"
   ]
  },
  {
   "cell_type": "markdown",
   "metadata": {},
   "source": [
    "TODO: otros recursos utilizados\n",
    "- archivo de id_geonames: ar_copy.csv\n",
    "- archivo de barrios Argentina: barrios.csv "
   ]
  },
  {
   "cell_type": "code",
   "execution_count": null,
   "metadata": {},
   "outputs": [],
   "source": [
    "# Leemos y cargamos el dataset properatti.csv en una variable \n",
    "data = pd.read_csv(\"./properatti.csv\", index_col=0)"
   ]
  },
  {
   "cell_type": "code",
   "execution_count": null,
   "metadata": {},
   "outputs": [],
   "source": [
    "# Visualización de la forma y atributos del dataset \n",
    "print(data.shape)\n",
    "print(\"El dataset está compuesto por:\", data.shape[0], \"filas y\",data.shape[1],\"columnas.\")\n",
    "data.sample(5) #"
   ]
  },
  {
   "cell_type": "markdown",
   "metadata": {},
   "source": [
    "## Parsear los datos"
   ]
  },
  {
   "cell_type": "markdown",
   "metadata": {},
   "source": [
    "### Analisis exploratorio general del dataset de Properatti"
   ]
  },
  {
   "cell_type": "markdown",
   "metadata": {},
   "source": [
    "#### Descripción de las columnas del dataset:\n",
    "\n",
    "Los atributos o columas que incluye son:\n",
    "\n",
    "● unmaded: 0: indice de filas\n",
    "\n",
    "● property_type: tipo de inmueble en venta (casa, departamento, ph...)\n",
    "\n",
    "● operation: tipo de operacion inmobiliaria para las propiedades \n",
    "\n",
    "● place_name: ubicacion del inmueble por ciudad/Partido o barrios\n",
    "\n",
    "● place_with_parent_names: ubicacion agrupada del inmueble (Pais|Provincia|Partido o barrio)\n",
    "\n",
    "● country_name: nombre del país donde ocurre la operacion inmobiliaría\n",
    "\n",
    "● state_name: ubicacion del inmueble por provincia\n",
    "\n",
    "● geonames_id: número de identificación en la base de datos GeoNames asociado a la ubicacion por coordenadas\n",
    "\n",
    "● lat-lon: ubicacion de latitud y longitud concatenada\n",
    "\n",
    "● lat  ●lon: ubicacion de latitud y longitud en columnas separadas\n",
    "\n",
    "● price: precio del inmueble\n",
    "\n",
    "● currency: divisa en la que está expresado el precio del inmueble\n",
    "\n",
    "● price_aprox_local_currency: Precio aproximado en la moneda local del país de publicación\n",
    "\n",
    "● surface_total_in_m2: superficie total m² del inmueble\n",
    "\n",
    "● surface_covered_in_m2: Superficie cubierta en m²\n",
    "\n",
    "● price_usd_per_m2: Precio en dolares por metro cuadrado (USD/m²: precio dólares / superficie)\n",
    "\n",
    "● price_per_m2: Precio del metro cuadrado del inmueble\n",
    "\n",
    "● floor: N° de piso (cuando corresponde)\n",
    "\n",
    "● room: cantidad de habitaciones\n",
    "\n",
    "● expenses: expensas (cuando corresponde)\n",
    "\n",
    "● properati_url\t: URL de la inmobiliaría Properati en la Web\n",
    "\n",
    "● description: descripción del inmueble en la publicación Web\n",
    "\n",
    "● title: título del inmueble en la publicación\n",
    "\n",
    "● image_thumbnail: URL de un thumbnail de la primer foto en la Web"
   ]
  },
  {
   "cell_type": "code",
   "execution_count": null,
   "metadata": {},
   "outputs": [],
   "source": [
    "#Identificamos el tipo de dato de cada columna\n",
    "data.dtypes\n",
    "# El tipo de datos para variables cuantitativas discreta como floor y rooms deberia ser int, \n",
    "# posiblemente tengamos que realizar el cambio en su manipulación."
   ]
  },
  {
   "cell_type": "code",
   "execution_count": null,
   "metadata": {},
   "outputs": [],
   "source": [
    "#Realizamos una descripcion de todas las columnas para ver el n° de registros unicos por columna, el dato más frecuente y \n",
    "# su cantidad, tanto para las columnas cualitativas como numericas\n",
    "data.describe(include=\"all\")\n",
    "\n",
    "# Algunas interpretaciones/inferencias:\n",
    "# operation y country_name tiene 1 solo dato:  Sell y Argentina, como ya sabiamos, el dataset son datos de venta en Argentina\n",
    "# Existen cuatro tipos de propiedades en venta, la más frecuente es apartamento\n",
    "# Placename tiene como dato más frecuente la ciudad de Cordoba y state_name tiene a Capital Federal\n",
    "# lat-long hay datos repetidos o son los mismos edificios representados en un area determinada\n",
    "# Existen valores maximos muy alejados del resto de datos en las columnas de superfice, floor y rooms, posibles outliers"
   ]
  },
  {
   "cell_type": "code",
   "execution_count": null,
   "metadata": {},
   "outputs": [],
   "source": [
    "#Identificamos los valores unicos x columna\n",
    "for columnas in data.columns:\n",
    "    print(\"\")\n",
    "    print(f'Nombre:{columnas}')\n",
    "    print(data[columnas].value_counts())\n",
    "\n",
    "#de esta funcion sumamos información general sobre el data set:\n",
    "#  identificamos los tipos de inmueble en venta: apartamentos y casas concentran la mayoria de datos\n",
    "#  las divisas más utilizadas son el peso argentina y dolares, hay datos que podemos tomar como no representativos:\n",
    "#  el PEN: peso peruano y UYU: peso uruguayo ya que no pasan de dos registros en el dataset. \n",
    "# para floor y rooms hay que tratar los valores outliers"
   ]
  },
  {
   "cell_type": "code",
   "execution_count": null,
   "metadata": {},
   "outputs": [],
   "source": [
    "#Identificamos los registros nan por columna\n",
    "\n",
    "print(data.isna().sum())\n",
    "#price, currency, price_aprox, price_usd tienen la misma cantidad de nulos 20410\n",
    "#hay que averiguar si price_per_m2 es la relacion de price y surface_total, así podriamos completar nulos en price_per_m2"
   ]
  },
  {
   "cell_type": "code",
   "execution_count": null,
   "metadata": {},
   "outputs": [],
   "source": [
    "# Vemos la relacion de registros nan con respecto al total de registros\n",
    "data.isna().sum()/data.shape[0] *100\n",
    "\n",
    "#podriamos completar place_name por el %bajo de nan\n",
    "#el mayor % de nan se encuentra en floor, rooms y expensas"
   ]
  },
  {
   "cell_type": "code",
   "execution_count": null,
   "metadata": {},
   "outputs": [],
   "source": [
    "# Identificamos si existe una correlacion entre variables\n",
    "\n",
    "corr = data.set_index('place_name').corr()\n",
    "sm.graphics.plot_corr(corr, xnames=list(corr.columns))\n",
    "plt.show()\n",
    "\n",
    "#Hay una correlacion entre price y price_aprox_local_currency: price está en dolares/pesos argentinos y local currency en pesos, podría \n",
    "#deberse al tipo de cambio utilizado."
   ]
  },
  {
   "cell_type": "markdown",
   "metadata": {},
   "source": [
    "Para seguir con el analisis exploratorio de los datos, hemos decidido dividir el dataset en dos grandes grupos por su relación: \n",
    "- columnas relacionadas a la ubicación política y geografica: property_type, place_name, place_with_parent_names,\tcountry_name, state_name, geonames_id\n",
    "- columnas con datos numericos que agrupan para las propiedades, el precio, el precio por superficie y datos fisicos del inmueble como el numero de pisos, habitaciones. \n",
    "- y las columnas de descripcion del inmueble asocida a las columnas anteriores por contener informacion sobre superficie y division del inmueble "
   ]
  },
  {
   "cell_type": "markdown",
   "metadata": {},
   "source": []
  },
  {
   "cell_type": "markdown",
   "metadata": {},
   "source": [
    "TODO: MOVER AL ANALISIS DE DATOS DE GEOUBICACION\n",
    "Analizamos por lat-lon para si había duplicados considerando que las mismas coordenadas son las misma propiedad.\n",
    "\n",
    "No es posible determinar si es la misma propiedad porque lat-lon se refiere muchas veces a la ubicación aproximada. \n"
   ]
  },
  {
   "cell_type": "code",
   "execution_count": null,
   "metadata": {},
   "outputs": [],
   "source": [
    "## ver datos duplicados\n",
    "data_copy = data.copy()\n",
    "data_copy.dropna(subset=['lat-lon'], inplace=True)\n",
    "data_copy_group = data_copy.groupby('lat-lon').count()\n",
    "data_copy_group[data_copy_group['operation'] > 1].sort_values(by='operation', ascending=False)"
   ]
  },
  {
   "cell_type": "code",
   "execution_count": null,
   "metadata": {},
   "outputs": [],
   "source": [
    "## ver si existe algun dato duplicado\n",
    "data.duplicated().any()"
   ]
  },
  {
   "cell_type": "code",
   "execution_count": null,
   "metadata": {},
   "outputs": [],
   "source": [
    "data['lat-lon'].duplicated().any()"
   ]
  },
  {
   "cell_type": "code",
   "execution_count": null,
   "metadata": {},
   "outputs": [],
   "source": [
    "data_copy.shape()"
   ]
  },
  {
   "cell_type": "code",
   "execution_count": null,
   "metadata": {},
   "outputs": [],
   "source": [
    "data_copy[data_copy['lat-lon'] == '-34.4026444,-58.6684776']"
   ]
  },
  {
   "cell_type": "code",
   "execution_count": null,
   "metadata": {},
   "outputs": [],
   "source": []
  },
  {
   "cell_type": "markdown",
   "metadata": {},
   "source": [
    "#### Análisis de datos faltantes"
   ]
  },
  {
   "cell_type": "code",
   "execution_count": null,
   "metadata": {},
   "outputs": [],
   "source": [
    "print(data.isna().sum())"
   ]
  },
  {
   "cell_type": "code",
   "execution_count": null,
   "metadata": {},
   "outputs": [],
   "source": [
    "data.isna().sum()/data.shape[0] *100"
   ]
  },
  {
   "cell_type": "code",
   "execution_count": null,
   "metadata": {},
   "outputs": [],
   "source": [
    "missing_data = data.isna().sum(axis=0)\n",
    "missing_data_df = pd.DataFrame(missing_data, columns=['count'])\n",
    "missing_data_df['perc'] = (missing_data_df / data.shape[0]).round(2)*100\n",
    "missing_data_df.sort_values(ascending=False, by='count')"
   ]
  },
  {
   "cell_type": "markdown",
   "metadata": {},
   "source": [
    "#### Dispersión de datos"
   ]
  },
  {
   "cell_type": "code",
   "execution_count": null,
   "metadata": {},
   "outputs": [],
   "source": [
    "data_dispersion = data.apply(lambda x: x.unique().size)\n",
    "data_dispersion_df = pd.DataFrame(data_dispersion, columns=['count'])\n",
    "data_dispersion_df[\"perc\"] = (data_dispersion / data.shape[0]).round(2)*100\n",
    "data_dispersion_df.sort_values(ascending=True, by='count')"
   ]
  },
  {
   "cell_type": "code",
   "execution_count": null,
   "metadata": {},
   "outputs": [],
   "source": [
    "for col in data.columns:\n",
    "    if(data[col].nunique() < 100):\n",
    "        print(col)\n",
    "        print(data[col].unique())\n",
    "        print()"
   ]
  },
  {
   "cell_type": "markdown",
   "metadata": {},
   "source": [
    "#### Analisis de correlacion entre columnas"
   ]
  },
  {
   "cell_type": "markdown",
   "metadata": {},
   "source": [
    "### Verificar la calidad de los datos:\n",
    "- ver consistencia de los datos: duplicación de columnas \n"
   ]
  },
  {
   "cell_type": "markdown",
   "metadata": {},
   "source": [
    "## Minar los datos"
   ]
  },
  {
   "cell_type": "markdown",
   "metadata": {},
   "source": [
    "## Refinar los datos"
   ]
  },
  {
   "cell_type": "markdown",
   "metadata": {},
   "source": [
    "## Exportar el nuevo dataset "
   ]
  },
  {
   "cell_type": "code",
   "execution_count": null,
   "metadata": {},
   "outputs": [],
   "source": []
  }
 ],
 "metadata": {
  "kernelspec": {
   "display_name": "Python 3.10.4 ('DH')",
   "language": "python",
   "name": "python3"
  },
  "language_info": {
   "codemirror_mode": {
    "name": "ipython",
    "version": 3
   },
   "file_extension": ".py",
   "mimetype": "text/x-python",
   "name": "python",
   "nbconvert_exporter": "python",
   "pygments_lexer": "ipython3",
   "version": "3.10.4"
  },
  "orig_nbformat": 4,
  "vscode": {
   "interpreter": {
    "hash": "fa08644e93f5ad6b3c1e930965e944c16707fd43381b34471e0217a3cc73ebe0"
   }
  }
 },
 "nbformat": 4,
 "nbformat_minor": 2
}
