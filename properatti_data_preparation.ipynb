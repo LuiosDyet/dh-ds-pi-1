{
    "cells": [
        {
            "cell_type": "markdown",
            "metadata": {},
            "source": [
                "# Trabajo práctico 1 : Analisis exploratorio del dataset Properatti\n",
                "\n",
                "Grupo #11: Camila Coltriani, Irania Fuentes, Johnatan Fischelson, Luis Dartayet, Ornela Cevolli  "
            ]
        },
        {
            "cell_type": "markdown",
            "metadata": {},
            "source": [
                "Para este trabajo utilizaremos un dataset de la inmobiliaría Properati construido con los datos de venta de propiedades en diferentes provincias de Argentina en el primer semestre del año 2017."
            ]
        },
        {
            "cell_type": "markdown",
            "metadata": {},
            "source": [
                "# Identificar el problema ¿o cambiar por objetivos?"
            ]
        },
        {
            "cell_type": "markdown",
            "metadata": {},
            "source": [
                "El objetivo de este trabajo es realizar una limpieza del dataset properatti con la finalidad de obtener un dataset final con datos confiables que pueda ser utilizado en la generación de un modelo estadistico posterior.\n",
                "Con base en esto se plantean los siguientes objetivos especificos:\n",
                " - Adquirir los datos: leer y conocer su estructura para determinar las herramientas apropiadas para su manipulación.\n",
                "\n",
                " - Parsear los datos: realizar el analisis exploratorio de los datos que permita verificar la existencia o no de relaciones entre variables, valores duplicados, valores faltantes, valores atípicos o valores erroneos que para validar o aumentar la confiabilidad de los datos.\n",
                "\n",
                " - Minar los datos: aplicar las herramientas de python para corregir datos erroneos o duplicados, completar/eliminar valores nulos.\n",
                " \n",
                " - Refinar los datos: eliminar variables redundantes o repetidas, crear nuevas variables y dar un formato limpio al dataset original."
            ]
        },
        {
            "cell_type": "markdown",
            "metadata": {},
            "source": [
                "# Adquirir y visualizar el dataset"
            ]
        },
        {
            "cell_type": "code",
            "execution_count": 59,
            "metadata": {},
            "outputs": [],
            "source": [
                "#librerías utilizadas para la adquisición de los datos\n",
                "import pandas as pd\n",
                "import numpy as np\n",
                "import matplotlib.pyplot as plt\n",
                "import re\n",
                "import statsmodels.api as sm\n",
                "import seaborn as sns\n",
                "import geopandas as gpd\n",
                "import shapely.wkt\n",
                "from decimal import Decimal"
            ]
        },
        {
            "cell_type": "markdown",
            "metadata": {},
            "source": [
                "Otros recursos utilizados\n",
                "- archivo de id_geonames: ar_copy.csv\n",
                "- archivo de barrios Argentina: barrios.csv "
            ]
        },
        {
            "cell_type": "code",
            "execution_count": 60,
            "metadata": {},
            "outputs": [],
            "source": [
                "# Leemos y cargamos el dataset properatti.csv en una variable \n",
                "data = pd.read_csv(\"./properatti.csv\", index_col=0)"
            ]
        },
        {
            "cell_type": "code",
            "execution_count": null,
            "metadata": {},
            "outputs": [],
            "source": [
                "# Visualización de la forma y atributos del dataset \n",
                "print(data.shape)\n",
                "print(\"El dataset está compuesto por:\", data.shape[0], \"filas y\",data.shape[1],\"columnas.\")\n",
                "data.sample(5) #"
            ]
        },
        {
            "cell_type": "markdown",
            "metadata": {},
            "source": [
                "### Descripción de las columnas del dataset:\n",
                "\n",
                "Los atributos o columas que incluye son:\n",
                "\n",
                "● unmaded: 0: indice de filas\n",
                "\n",
                "● property_type: tipo de inmueble en venta (casa, departamento, ph...)\n",
                "\n",
                "● operation: tipo de operacion inmobiliaria para las propiedades \n",
                "\n",
                "● place_name: ubicacion del inmueble por ciudad/Partido o barrios\n",
                "\n",
                "● place_with_parent_names: ubicacion agrupada del inmueble (Pais|Provincia|Partido o barrio)\n",
                "\n",
                "● country_name: nombre del país donde ocurre la operacion inmobiliaría\n",
                "\n",
                "● state_name: ubicacion del inmueble por provincia\n",
                "\n",
                "● geonames_id: número de identificación en la base de datos GeoNames asociado a la ubicacion por coordenadas\n",
                "\n",
                "● lat-lon: ubicacion de latitud y longitud concatenada\n",
                "\n",
                "● lat  ●lon: ubicacion de latitud y longitud en columnas separadas\n",
                "\n",
                "● price: precio del inmueble\n",
                "\n",
                "● currency: divisa en la que está expresado el precio del inmueble\n",
                "\n",
                "● price_aprox_local_currency: Precio aproximado en la moneda local del país de publicación\n",
                "\n",
                "● surface_total_in_m2: superficie total m² del inmueble\n",
                "\n",
                "● surface_covered_in_m2: Superficie cubierta en m²\n",
                "\n",
                "● price_usd_per_m2: Precio en dolares por metro cuadrado (USD/m²: precio dólares / superficie)\n",
                "\n",
                "● price_per_m2: Precio del metro cuadrado del inmueble\n",
                "\n",
                "● floor: N° de piso (cuando corresponde)\n",
                "\n",
                "● room: cantidad de habitaciones\n",
                "\n",
                "● expenses: expensas (cuando corresponde)\n",
                "\n",
                "● properati_url\t: URL de la inmobiliaría Properati en la Web\n",
                "\n",
                "● description: descripción del inmueble en la publicación Web\n",
                "\n",
                "● title: título del inmueble en la publicación\n",
                "\n",
                "● image_thumbnail: URL de un thumbnail de la primer foto en la Web"
            ]
        },
        {
            "cell_type": "markdown",
            "metadata": {},
            "source": [
                "# Parsear los datos"
            ]
        },
        {
            "cell_type": "markdown",
            "metadata": {},
            "source": [
                "## Analisis exploratorio general del dataset de Properatti"
            ]
        },
        {
            "cell_type": "code",
            "execution_count": null,
            "metadata": {},
            "outputs": [],
            "source": [
                "#Identificamos el tipo de dato de cada columna\n",
                "data.dtypes\n",
                "# El tipo de datos para variables cuantitativas discreta como floor y rooms deberia ser int, \n",
                "# posiblemente tengamos que realizar el cambio en su manipulación."
            ]
        },
        {
            "cell_type": "code",
            "execution_count": null,
            "metadata": {},
            "outputs": [],
            "source": [
                "# Realizamos una descripción estadística de todas las columnas (\"include all tambien muestra las variables categoriacas\") \n",
                "# que resume la tendencia central, la dispersión y la forma de la distribución de un conjunto de datos\n",
                "data.describe(include=\"all\")\n",
                "\n",
                "# Algunas interpretaciones/inferencias:\n",
                "# operation y country_name tiene 1 solo dato:  Sell y Argentina, como ya sabíamos, el dataset son datos de venta en Argentina\n",
                "# Existen cuatro tipos de propiedades en venta, la más frecuente es apartamento\n",
                "# Placename tiene como dato más frecuente la ciudad de Cordoba y state_name tiene a Capital Federal\n",
                "# lat-long hay datos repetidos o son los mismos edificios representados en un area determinada\n",
                "# Existen valores máximos muy alejados del resto de datos en las columnas de superficie, floor y rooms, posibles outliers"
            ]
        },
        {
            "cell_type": "code",
            "execution_count": null,
            "metadata": {},
            "outputs": [],
            "source": [
                "#Identificamos los valores únicos x columna\n",
                "for columnas in data.columns:\n",
                "    print(\"\")\n",
                "    print(f'Nombre:{columnas}')\n",
                "    print(data[columnas].value_counts())\n",
                "\n",
                "# de esta función sumamos información general sobre el data set:\n",
                "# identificamos los tipos de inmueble en venta: apartamentos y casas concentran la mayoría de datos\n",
                "# las divisas más utilizadas son el peso argentina y dólares, hay datos que podemos tomar como no representativos:\n",
                "# el PEN: peso peruano y UYU: peso uruguayo ya que no pasan de dos registros en el dataset. \n",
                "# para floor y rooms hay que tratar los valores outliers"
            ]
        },
        {
            "cell_type": "markdown",
            "metadata": {},
            "source": [
                "### Análisis de datos faltantes"
            ]
        },
        {
            "cell_type": "code",
            "execution_count": 65,
            "metadata": {},
            "outputs": [
                {
                    "data": {
                        "text/html": [
                            "<div>\n",
                            "<style scoped>\n",
                            "    .dataframe tbody tr th:only-of-type {\n",
                            "        vertical-align: middle;\n",
                            "    }\n",
                            "\n",
                            "    .dataframe tbody tr th {\n",
                            "        vertical-align: top;\n",
                            "    }\n",
                            "\n",
                            "    .dataframe thead th {\n",
                            "        text-align: right;\n",
                            "    }\n",
                            "</style>\n",
                            "<table border=\"1\" class=\"dataframe\">\n",
                            "  <thead>\n",
                            "    <tr style=\"text-align: right;\">\n",
                            "      <th></th>\n",
                            "      <th>total_nan</th>\n",
                            "      <th>perc_%</th>\n",
                            "    </tr>\n",
                            "  </thead>\n",
                            "  <tbody>\n",
                            "    <tr>\n",
                            "      <th>floor</th>\n",
                            "      <td>113321</td>\n",
                            "      <td>93.0</td>\n",
                            "    </tr>\n",
                            "    <tr>\n",
                            "      <th>expenses</th>\n",
                            "      <td>106958</td>\n",
                            "      <td>88.0</td>\n",
                            "    </tr>\n",
                            "    <tr>\n",
                            "      <th>rooms</th>\n",
                            "      <td>73830</td>\n",
                            "      <td>61.0</td>\n",
                            "    </tr>\n",
                            "    <tr>\n",
                            "      <th>price_usd_per_m2</th>\n",
                            "      <td>52603</td>\n",
                            "      <td>43.0</td>\n",
                            "    </tr>\n",
                            "    <tr>\n",
                            "      <th>lat-lon</th>\n",
                            "      <td>51550</td>\n",
                            "      <td>43.0</td>\n",
                            "    </tr>\n",
                            "    <tr>\n",
                            "      <th>lat</th>\n",
                            "      <td>51550</td>\n",
                            "      <td>43.0</td>\n",
                            "    </tr>\n",
                            "    <tr>\n",
                            "      <th>lon</th>\n",
                            "      <td>51550</td>\n",
                            "      <td>43.0</td>\n",
                            "    </tr>\n",
                            "    <tr>\n",
                            "      <th>surface_total_in_m2</th>\n",
                            "      <td>39328</td>\n",
                            "      <td>32.0</td>\n",
                            "    </tr>\n",
                            "    <tr>\n",
                            "      <th>price_per_m2</th>\n",
                            "      <td>33562</td>\n",
                            "      <td>28.0</td>\n",
                            "    </tr>\n",
                            "    <tr>\n",
                            "      <th>currency</th>\n",
                            "      <td>20411</td>\n",
                            "      <td>17.0</td>\n",
                            "    </tr>\n",
                            "    <tr>\n",
                            "      <th>price_aprox_local_currency</th>\n",
                            "      <td>20410</td>\n",
                            "      <td>17.0</td>\n",
                            "    </tr>\n",
                            "    <tr>\n",
                            "      <th>price</th>\n",
                            "      <td>20410</td>\n",
                            "      <td>17.0</td>\n",
                            "    </tr>\n",
                            "    <tr>\n",
                            "      <th>price_aprox_usd</th>\n",
                            "      <td>20410</td>\n",
                            "      <td>17.0</td>\n",
                            "    </tr>\n",
                            "    <tr>\n",
                            "      <th>surface_covered_in_m2</th>\n",
                            "      <td>19907</td>\n",
                            "      <td>16.0</td>\n",
                            "    </tr>\n",
                            "    <tr>\n",
                            "      <th>geonames_id</th>\n",
                            "      <td>18717</td>\n",
                            "      <td>15.0</td>\n",
                            "    </tr>\n",
                            "    <tr>\n",
                            "      <th>image_thumbnail</th>\n",
                            "      <td>3112</td>\n",
                            "      <td>3.0</td>\n",
                            "    </tr>\n",
                            "    <tr>\n",
                            "      <th>place_name</th>\n",
                            "      <td>23</td>\n",
                            "      <td>0.0</td>\n",
                            "    </tr>\n",
                            "    <tr>\n",
                            "      <th>description</th>\n",
                            "      <td>2</td>\n",
                            "      <td>0.0</td>\n",
                            "    </tr>\n",
                            "    <tr>\n",
                            "      <th>property_type</th>\n",
                            "      <td>0</td>\n",
                            "      <td>0.0</td>\n",
                            "    </tr>\n",
                            "    <tr>\n",
                            "      <th>state_name</th>\n",
                            "      <td>0</td>\n",
                            "      <td>0.0</td>\n",
                            "    </tr>\n",
                            "    <tr>\n",
                            "      <th>country_name</th>\n",
                            "      <td>0</td>\n",
                            "      <td>0.0</td>\n",
                            "    </tr>\n",
                            "    <tr>\n",
                            "      <th>place_with_parent_names</th>\n",
                            "      <td>0</td>\n",
                            "      <td>0.0</td>\n",
                            "    </tr>\n",
                            "    <tr>\n",
                            "      <th>properati_url</th>\n",
                            "      <td>0</td>\n",
                            "      <td>0.0</td>\n",
                            "    </tr>\n",
                            "    <tr>\n",
                            "      <th>title</th>\n",
                            "      <td>0</td>\n",
                            "      <td>0.0</td>\n",
                            "    </tr>\n",
                            "    <tr>\n",
                            "      <th>operation</th>\n",
                            "      <td>0</td>\n",
                            "      <td>0.0</td>\n",
                            "    </tr>\n",
                            "  </tbody>\n",
                            "</table>\n",
                            "</div>"
                        ],
                        "text/plain": [
                            "                            total_nan  perc_%\n",
                            "floor                          113321    93.0\n",
                            "expenses                       106958    88.0\n",
                            "rooms                           73830    61.0\n",
                            "price_usd_per_m2                52603    43.0\n",
                            "lat-lon                         51550    43.0\n",
                            "lat                             51550    43.0\n",
                            "lon                             51550    43.0\n",
                            "surface_total_in_m2             39328    32.0\n",
                            "price_per_m2                    33562    28.0\n",
                            "currency                        20411    17.0\n",
                            "price_aprox_local_currency      20410    17.0\n",
                            "price                           20410    17.0\n",
                            "price_aprox_usd                 20410    17.0\n",
                            "surface_covered_in_m2           19907    16.0\n",
                            "geonames_id                     18717    15.0\n",
                            "image_thumbnail                  3112     3.0\n",
                            "place_name                         23     0.0\n",
                            "description                         2     0.0\n",
                            "property_type                       0     0.0\n",
                            "state_name                          0     0.0\n",
                            "country_name                        0     0.0\n",
                            "place_with_parent_names             0     0.0\n",
                            "properati_url                       0     0.0\n",
                            "title                               0     0.0\n",
                            "operation                           0     0.0"
                        ]
                    },
                    "execution_count": 65,
                    "metadata": {},
                    "output_type": "execute_result"
                }
            ],
            "source": [
                "#Vemos la cantidad de datos nulos por variable\n",
                "#creamos un nuevo dataframe con la suma de todos los registros nan por columna y el % que representan en forma decreciente\n",
                "missing_data = data.isna().sum(axis=0)\n",
                "missing_data_df = pd.DataFrame(missing_data, columns=['total_nan'])\n",
                "missing_data_df['perc_%'] = (missing_data_df / data.shape[0]).round(2)*100\n",
                "missing_data_df.sort_values(ascending=False, by='total_nan')\n",
                "\n",
                "# price, currency, price_aprox, price_usd tienen la misma cantidad de nulos 20410\n",
                "# hay que averiguar si price_per_m2 es la relacion de price y surface_total, así podriamos completar nulos en price_per_m2\n",
                "# podriamos completar place_name por el % bajo de nan\n",
                "# el mayor % de nan se encuentra en floor, rooms y expensas\n"
            ]
        },
        {
            "cell_type": "code",
            "execution_count": 66,
            "metadata": {},
            "outputs": [
                {
                    "data": {
                        "text/plain": [
                            "0      0.493318\n",
                            "1      1.601221\n",
                            "2     15.695430\n",
                            "3     12.937634\n",
                            "4      9.853160\n",
                            "5      9.194027\n",
                            "6     15.133641\n",
                            "7      6.920475\n",
                            "8      9.312820\n",
                            "9      4.920805\n",
                            "10     4.520706\n",
                            "11     2.438541\n",
                            "12     3.705659\n",
                            "13     2.195182\n",
                            "14     0.895892\n",
                            "15     0.178188\n",
                            "16     0.003300\n",
                            "dtype: float64"
                        ]
                    },
                    "execution_count": 66,
                    "metadata": {},
                    "output_type": "execute_result"
                }
            ],
            "source": [
                "# Analizamos por fila cantidad de datos faltantes\n",
                "missing_by_row = (data.isna().sum(axis=1).value_counts() / data.shape[0] *100).sort_index() \n",
                "missing_by_row"
            ]
        },
        {
            "cell_type": "code",
            "execution_count": 67,
            "metadata": {},
            "outputs": [
                {
                    "data": {
                        "image/png": "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",
                        "text/plain": [
                            "<Figure size 640x480 with 1 Axes>"
                        ]
                    },
                    "metadata": {},
                    "output_type": "display_data"
                }
            ],
            "source": [
                "# Lo graficamos\n",
                "sns.barplot(x=missing_by_row.index, y=missing_by_row.values) #grafico de barras\n",
                "plt.title(\"Porcentaje de registros con cantidad de datos faltantes por filas\")\n",
                "plt.xlabel(\"Cantidad de datos faltantes\")\n",
                "plt.ylabel(\"Porcentaje de registros\")\n",
                "plt.show()"
            ]
        },
        {
            "cell_type": "markdown",
            "metadata": {},
            "source": [
                "### Dispersión de datos"
            ]
        },
        {
            "cell_type": "code",
            "execution_count": 63,
            "metadata": {},
            "outputs": [
                {
                    "data": {
                        "text/html": [
                            "<div>\n",
                            "<style scoped>\n",
                            "    .dataframe tbody tr th:only-of-type {\n",
                            "        vertical-align: middle;\n",
                            "    }\n",
                            "\n",
                            "    .dataframe tbody tr th {\n",
                            "        vertical-align: top;\n",
                            "    }\n",
                            "\n",
                            "    .dataframe thead th {\n",
                            "        text-align: right;\n",
                            "    }\n",
                            "</style>\n",
                            "<table border=\"1\" class=\"dataframe\">\n",
                            "  <thead>\n",
                            "    <tr style=\"text-align: right;\">\n",
                            "      <th></th>\n",
                            "      <th>count</th>\n",
                            "      <th>perc</th>\n",
                            "    </tr>\n",
                            "  </thead>\n",
                            "  <tbody>\n",
                            "    <tr>\n",
                            "      <th>operation</th>\n",
                            "      <td>1</td>\n",
                            "      <td>0.0</td>\n",
                            "    </tr>\n",
                            "    <tr>\n",
                            "      <th>country_name</th>\n",
                            "      <td>1</td>\n",
                            "      <td>0.0</td>\n",
                            "    </tr>\n",
                            "    <tr>\n",
                            "      <th>property_type</th>\n",
                            "      <td>4</td>\n",
                            "      <td>0.0</td>\n",
                            "    </tr>\n",
                            "    <tr>\n",
                            "      <th>currency</th>\n",
                            "      <td>5</td>\n",
                            "      <td>0.0</td>\n",
                            "    </tr>\n",
                            "    <tr>\n",
                            "      <th>state_name</th>\n",
                            "      <td>28</td>\n",
                            "      <td>0.0</td>\n",
                            "    </tr>\n",
                            "    <tr>\n",
                            "      <th>rooms</th>\n",
                            "      <td>32</td>\n",
                            "      <td>0.0</td>\n",
                            "    </tr>\n",
                            "    <tr>\n",
                            "      <th>floor</th>\n",
                            "      <td>183</td>\n",
                            "      <td>0.2</td>\n",
                            "    </tr>\n",
                            "    <tr>\n",
                            "      <th>geonames_id</th>\n",
                            "      <td>647</td>\n",
                            "      <td>0.5</td>\n",
                            "    </tr>\n",
                            "    <tr>\n",
                            "      <th>expenses</th>\n",
                            "      <td>983</td>\n",
                            "      <td>0.8</td>\n",
                            "    </tr>\n",
                            "    <tr>\n",
                            "      <th>surface_covered_in_m2</th>\n",
                            "      <td>996</td>\n",
                            "      <td>0.8</td>\n",
                            "    </tr>\n",
                            "    <tr>\n",
                            "      <th>place_name</th>\n",
                            "      <td>1061</td>\n",
                            "      <td>0.9</td>\n",
                            "    </tr>\n",
                            "    <tr>\n",
                            "      <th>place_with_parent_names</th>\n",
                            "      <td>1164</td>\n",
                            "      <td>1.0</td>\n",
                            "    </tr>\n",
                            "    <tr>\n",
                            "      <th>surface_total_in_m2</th>\n",
                            "      <td>1688</td>\n",
                            "      <td>1.4</td>\n",
                            "    </tr>\n",
                            "    <tr>\n",
                            "      <th>price</th>\n",
                            "      <td>9747</td>\n",
                            "      <td>8.0</td>\n",
                            "    </tr>\n",
                            "    <tr>\n",
                            "      <th>price_aprox_local_currency</th>\n",
                            "      <td>10365</td>\n",
                            "      <td>8.6</td>\n",
                            "    </tr>\n",
                            "    <tr>\n",
                            "      <th>price_aprox_usd</th>\n",
                            "      <td>10365</td>\n",
                            "      <td>8.6</td>\n",
                            "    </tr>\n",
                            "    <tr>\n",
                            "      <th>price_per_m2</th>\n",
                            "      <td>25186</td>\n",
                            "      <td>20.8</td>\n",
                            "    </tr>\n",
                            "    <tr>\n",
                            "      <th>price_usd_per_m2</th>\n",
                            "      <td>25567</td>\n",
                            "      <td>21.1</td>\n",
                            "    </tr>\n",
                            "    <tr>\n",
                            "      <th>lat</th>\n",
                            "      <td>46496</td>\n",
                            "      <td>38.4</td>\n",
                            "    </tr>\n",
                            "    <tr>\n",
                            "      <th>lon</th>\n",
                            "      <td>46523</td>\n",
                            "      <td>38.4</td>\n",
                            "    </tr>\n",
                            "    <tr>\n",
                            "      <th>lat-lon</th>\n",
                            "      <td>47204</td>\n",
                            "      <td>38.9</td>\n",
                            "    </tr>\n",
                            "    <tr>\n",
                            "      <th>title</th>\n",
                            "      <td>72705</td>\n",
                            "      <td>60.0</td>\n",
                            "    </tr>\n",
                            "    <tr>\n",
                            "      <th>description</th>\n",
                            "      <td>104056</td>\n",
                            "      <td>85.8</td>\n",
                            "    </tr>\n",
                            "    <tr>\n",
                            "      <th>image_thumbnail</th>\n",
                            "      <td>114390</td>\n",
                            "      <td>94.4</td>\n",
                            "    </tr>\n",
                            "    <tr>\n",
                            "      <th>properati_url</th>\n",
                            "      <td>121220</td>\n",
                            "      <td>100.0</td>\n",
                            "    </tr>\n",
                            "  </tbody>\n",
                            "</table>\n",
                            "</div>"
                        ],
                        "text/plain": [
                            "                             count   perc\n",
                            "operation                        1    0.0\n",
                            "country_name                     1    0.0\n",
                            "property_type                    4    0.0\n",
                            "currency                         5    0.0\n",
                            "state_name                      28    0.0\n",
                            "rooms                           32    0.0\n",
                            "floor                          183    0.2\n",
                            "geonames_id                    647    0.5\n",
                            "expenses                       983    0.8\n",
                            "surface_covered_in_m2          996    0.8\n",
                            "place_name                    1061    0.9\n",
                            "place_with_parent_names       1164    1.0\n",
                            "surface_total_in_m2           1688    1.4\n",
                            "price                         9747    8.0\n",
                            "price_aprox_local_currency   10365    8.6\n",
                            "price_aprox_usd              10365    8.6\n",
                            "price_per_m2                 25186   20.8\n",
                            "price_usd_per_m2             25567   21.1\n",
                            "lat                          46496   38.4\n",
                            "lon                          46523   38.4\n",
                            "lat-lon                      47204   38.9\n",
                            "title                        72705   60.0\n",
                            "description                 104056   85.8\n",
                            "image_thumbnail             114390   94.4\n",
                            "properati_url               121220  100.0"
                        ]
                    },
                    "execution_count": 63,
                    "metadata": {},
                    "output_type": "execute_result"
                }
            ],
            "source": [
                "# Aca vemos el porcentaje de datos unicos con respecto al total. \n",
                "# Nos indica que tan diferentes son los datos en cada variable.  \n",
                "data_dispersion = data.apply(lambda x: x.unique().size)\n",
                "data_dispersion_df = pd.DataFrame(data_dispersion, columns=['count'])\n",
                "data_dispersion_df[\"perc\"] = (data_dispersion / data.shape[0]).round(3)*100\n",
                "data_dispersion_df.sort_values(ascending=True, by='count')\n",
                "#vemos que operation y country_name tienen porcentaje cero ya que tienen un unico registro.\n",
                "#el aumento del porcentaje nos indica que tan diferentes son los datos dentro de la variable."
            ]
        },
        {
            "cell_type": "code",
            "execution_count": 64,
            "metadata": {},
            "outputs": [
                {
                    "name": "stdout",
                    "output_type": "stream",
                    "text": [
                        "operation\n",
                        "['sell']\n",
                        "\n",
                        "property_type\n",
                        "['PH' 'apartment' 'house' 'store']\n",
                        "\n",
                        "country_name\n",
                        "['Argentina']\n",
                        "\n",
                        "state_name\n",
                        "['Capital Federal' 'Bs.As. G.B.A. Zona Sur' 'Buenos Aires Costa Atlántica'\n",
                        " 'Entre Ríos' 'Bs.As. G.B.A. Zona Norte' 'Santa Fe' 'Córdoba'\n",
                        " 'Bs.As. G.B.A. Zona Oeste' 'Misiones' 'Buenos Aires Interior' 'Salta'\n",
                        " 'Neuquén' 'Río Negro' 'San Luis' 'Mendoza' 'Corrientes' 'Chubut'\n",
                        " 'Tucumán' 'La Pampa' 'Chaco' 'San Juan' 'Santa Cruz' 'Tierra Del Fuego'\n",
                        " 'Catamarca' 'Santiago Del Estero' 'Jujuy' 'La Rioja' 'Formosa']\n",
                        "\n",
                        "currency\n",
                        "['USD' nan 'ARS' 'PEN' 'UYU']\n",
                        "\n",
                        "rooms\n",
                        "[nan  1.  4.  3.  2.  6.  5. 10.  7.  9.  8. 17. 22. 15. 12. 11. 14. 16.\n",
                        " 20. 13. 25. 19. 30. 18. 32. 24. 31. 21. 29. 27. 23. 28.]\n",
                        "\n"
                    ]
                }
            ],
            "source": [
                "for col in data.columns:\n",
                "    if(data[col].nunique() < 100):\n",
                "        print(col)\n",
                "        print(data[col].unique())\n",
                "        print()"
            ]
        },
        {
            "cell_type": "markdown",
            "metadata": {},
            "source": [
                "### Analisis de correlacion entre columnas"
            ]
        },
        {
            "cell_type": "code",
            "execution_count": null,
            "metadata": {},
            "outputs": [],
            "source": [
                "# Identificamos si existe una correlacion entre variables\n",
                "corr = data.set_index('place_name').corr()\n",
                "sm.graphics.plot_corr(corr, xnames=list(corr.columns))\n",
                "plt.show()\n",
                "\n",
                "#Hay una alta correlacion entre price y price_per_m2, price_aprox_local_currency, price_aprox_usd: price está en dolares/pesos argentinos y local currency \n",
                "# en pesos, podría deberse al tipo de cambio utilizado."
            ]
        },
        {
            "cell_type": "markdown",
            "metadata": {},
            "source": [
                "## Exploración del dataset dividido en grupos de Properatti "
            ]
        },
        {
            "cell_type": "markdown",
            "metadata": {},
            "source": [
                "Para los siguientes pasos trabajaremos con el dataset dividido en tres grandes grupos:\n",
                "-  Localización: que contiene las columnas relacionadas con la ubicación del inmueble y a su vez este dividido en dos subgrupos:\n",
                "    - Ubicación: que contiene las columnas place_name, state_name, country_name y place_with_parent_names, es decir columnas con la localización política del inmueble.\n",
                "    - Georeferenciada: que contiene las columnas geonames_id, lat y lon, es decir columnas con la localización geográfica del inmueble.\n",
                "- Precio: que contiene las columnas relacionadas a los precios en distintas variantes. \n",
                "- Superficie: que contiene las columnas relacionadas con la superficie del inmueble"
            ]
        },
        {
            "cell_type": "code",
            "execution_count": null,
            "metadata": {},
            "outputs": [],
            "source": [
                "# Definimos 4 grupos de variables para poder trabajar con ellas de forma mas sencilla\n",
                "places = ['place_name','place_with_parent_names', 'country_name','state_name']\n",
                "geolocation = ['geonames_id', 'lat-lon','lat','lon']\n",
                "price = ['price','currency','price_aprox_local_currency','price_aprox_usd','price_usd_per_m2','price_per_m2']\n",
                "surface = ['surface_total_in_m2','surface_covered_in_m2']"
            ]
        },
        {
            "cell_type": "markdown",
            "metadata": {},
            "source": [
                "### Localización por ubicación política"
            ]
        },
        {
            "cell_type": "markdown",
            "metadata": {},
            "source": [
                "Exploración de las variables relacionadas con la ubicación: Por Provincia, Ciudad/Barrio, el conjunto de ubicación \n",
                "- country_name\n",
                "- state_name \n",
                "- place_name                        \n",
                "- place_with_parent_names              \n",
                "\n",
                "vamos a:\n",
                "\n",
                "- Explorar las variables \n",
                "- Visualizar los nan de estas columnas\n",
                "- Relacionar las columnas country_name, state_name, place_name con la concatenación de ubicación en place_with_parent_names para ver si efectivamente corresponden o hay datos mal cargados"
            ]
        },
        {
            "cell_type": "code",
            "execution_count": null,
            "metadata": {},
            "outputs": [],
            "source": [
                "#Exploramos el conjunto total y las variables \n",
                "# Creamos un nuevo dataframe con las columnas que nos interesan\n",
                "location_data = data[places].copy()\n",
                "location_data.head()"
            ]
        },
        {
            "cell_type": "code",
            "execution_count": null,
            "metadata": {},
            "outputs": [],
            "source": [
                "places_data = data[places].copy()   #asignamos el dataframe a una variable que utilizaremos en adelante\n",
                "places_data.head()"
            ]
        },
        {
            "cell_type": "code",
            "execution_count": null,
            "metadata": {},
            "outputs": [],
            "source": [
                "places_data.sample(10)"
            ]
        },
        {
            "cell_type": "code",
            "execution_count": null,
            "metadata": {},
            "outputs": [],
            "source": [
                "#Vemos más a detalle por variable los registros totales, los registros unicos, el dato más frecuente y su frecuencia\n",
                "#Vemos que state_name contiene más de las 23 provincias que deberia tener Argentina:posiblemente estén datos diferentes a provincias\n",
                "places_data[places].describe()"
            ]
        },
        {
            "cell_type": "code",
            "execution_count": null,
            "metadata": {},
            "outputs": [],
            "source": [
                "#ubicación \"State_name\" ¿por provincia?\n",
                "#vamos a ver un poco más cuales son los valores unicos de state_name que deberian relacionarse al nombre de las provincias\n",
                "places_data[\"state_name\"].value_counts() #Excludes NA values by default.\n",
                "\n",
                "#efectivamente state_name si contiene las 23 provincias argentinas, sin embargo, divide a Buenos Aires en la capital federal\n",
                "# y el gran buenos aires más la costa atlantica \n",
                "# observamos que los datos están concentrados en Buenos Aires (Cap fed, zona norte, zona sur, oeste, atlántica, interior),\n",
                "#  Cordoba, Santa fe "
            ]
        },
        {
            "cell_type": "code",
            "execution_count": null,
            "metadata": {},
            "outputs": [],
            "source": [
                "# ubicación por place_name ¿ciudad-municipio o barrio?\n",
                "places_data[\"place_name\"].value_counts().head(20)\n",
                "# NOtamos que existe una mexcla entre ciudades,municipios y barrios.\n",
                "# Tigre es una ciudad al norte de la ciudad de Buenos Aires.\n",
                "# Nordelta es una localidad urbana en el Partido de Tigre, Provincia de Buenos Aires \n",
                "## esta columna mezcla ciudades y barrios\n",
                "# Capital Federal está como place_name "
            ]
        },
        {
            "cell_type": "code",
            "execution_count": null,
            "metadata": {},
            "outputs": [],
            "source": [
                "#nVemos algunos registros de place_with_parent_names\n",
                "places_data[\"place_with_parent_names\"].value_counts().head(10) \n",
                "\n",
                "# La variable representa el país/ \"country_name\", la provincia/ \"state_name\" (o division de la provincia), la ciudad principal/partido-municipio o barrio\n",
                "# en el caso de capital federal\"place_name\"\n",
                "# y un adicional que puede ser una localidad del partido (ejem: |Argentina|Bs.As. G.B.A. Zona Norte|Tigre|*Nordelta*|)\n",
                "# los registros tienen entre 2  y 4 concatenaciones: 2 concatenaciones solo muestra hasta la ubicación por provincia, no brinda información relevante\n",
                "### |Argentina|Capital Federal|  1297 no tiene nombre de barrio, desestimar o completar? \n",
                "### |Argentina|Córdoba|    2648no tiene nombre de barrio, desestimar o completar? \n",
                "# esta variable puede usarse para completar los datos faltantes de place_name \n",
                "# podemos chequear si el atributo \"place_name\" coincide con los datos aquí plasmados"
            ]
        },
        {
            "cell_type": "code",
            "execution_count": null,
            "metadata": {},
            "outputs": [],
            "source": [
                "# Para state_name vemos: cuales son los datos de place_name más frecuente, su frecuencia y cuantos registros diferentes existen \n",
                "places_data.groupby([\"state_name\"])[\"place_name\"].describe()\n",
                "\n",
                "# La variable place_name está representado principalmente por una ciudad-municipio de la provincia o division de esta"
            ]
        },
        {
            "cell_type": "markdown",
            "metadata": {},
            "source": [
                "## Verificar la calidad de los datos:\n"
            ]
        },
        {
            "cell_type": "markdown",
            "metadata": {},
            "source": [
                "### Ubicación"
            ]
        },
        {
            "cell_type": "markdown",
            "metadata": {},
            "source": [
                "Para verificar la calidad de los datos, principalmente, vamos a comparar las columnas que deberían tener la misma información y ver si coinciden o no. Por ejemplo, la columna \"place_with_parent_names\" debería contener dentro de su array la misma información que \"place_name\". Vamos a verificar si esto es cierto o no."
            ]
        },
        {
            "cell_type": "markdown",
            "metadata": {},
            "source": [
                "#### Corroborar si place_with_parent_names coincide con country_name, state_name, place_name "
            ]
        },
        {
            "cell_type": "code",
            "execution_count": null,
            "metadata": {},
            "outputs": [],
            "source": [
                "# Convertimos la columna place_with_parent_names en una lista usando el separador \"|\"\n",
                "# Eliminamos el separador inicial y final de la lista\n",
                "places_data['place_with_parent_names'] = places_data['place_with_parent_names'].apply(lambda x: x.lstrip(\"|\").rstrip(\"|\").split(\"|\"))\n",
                "places_data['place_with_parent_names'].head()"
            ]
        },
        {
            "cell_type": "code",
            "execution_count": null,
            "metadata": {},
            "outputs": [],
            "source": [
                "# Función para chequear si los valores de la columna place_with_parent_names coinciden exactamente con \n",
                "# los valores de las columnas country_name, state_name, place_name\n",
                "# Coincidir exactamente significa que la columna place_with_parent_names sólo tiene 3 elementos \n",
                "# y que los valores de los elementos coinciden en orden con los valores de las columnas country_name, state_name, place_name\n",
                "\n",
                "def is_location_different(row):\n",
                "    # la lista debería tener 3 elementos\n",
                "    if len(row['place_with_parent_names']) != 3:\n",
                "        return True\n",
                "    if row['country_name'] == row['place_with_parent_names'][0] \\\n",
                "    and row['state_name'] == row['place_with_parent_names'][1] \\\n",
                "    and row['place_name'] == row['place_with_parent_names'][2]:\n",
                "        return False\n",
                "    else:\n",
                "        return True"
            ]
        },
        {
            "cell_type": "code",
            "execution_count": null,
            "metadata": {},
            "outputs": [],
            "source": [
                "# Creamos la mascara utilizando la función is_location_different\n",
                "mask = places_data.apply(lambda x: is_location_different(x), axis=1)\n",
                "print(\"place_with_parent_names difference with country_name, state_name and place_name:\", places_data[mask].shape[0])\n",
                "places_data[mask][places].sample(10)"
            ]
        },
        {
            "cell_type": "markdown",
            "metadata": {},
            "source": [
                "*Conclusión: Existen 45220 registros que no coinciden exactamente.* "
            ]
        },
        {
            "cell_type": "markdown",
            "metadata": {},
            "source": [
                "#### Análisis de los registros que no coinciden exactamente en las columnas places\n",
                "___"
            ]
        },
        {
            "cell_type": "markdown",
            "metadata": {},
            "source": [
                "Veamos cuáles son los registros que no coinciden exactamente en las columnas places"
            ]
        },
        {
            "cell_type": "code",
            "execution_count": null,
            "metadata": {},
            "outputs": [],
            "source": [
                "# Contamos la cantidad de valores de cada array de place_with_parent_names\n",
                "destructured_places_with_parent_names_rows =  places_data['place_with_parent_names'].apply(lambda x: len(x)).value_counts()\n",
                "destructured_places_with_parent_names_rows\n",
                "#Este código nos devuelve la cantidad de filas que tenemos agrupadas en place_with_parent_names: va de dos a cinco especificaciones\n",
                "#para la ubicacion de un inmueble; hasta donde conociamos veniamos viendo hasta 3: Pais|Provincia|Ciudad o Barrio.\n",
                "# veremos que descripcion adicional nos brinda las concatenaciones >3."
            ]
        },
        {
            "cell_type": "code",
            "execution_count": null,
            "metadata": {},
            "outputs": [],
            "source": [
                "#Vemos el porcentaje para graficarlo luego\n",
                "destructured_places_with_parent_names_rows_percent =  places_data['place_with_parent_names'].apply(lambda x: len(x)).value_counts(normalize=True) * 100\n",
                "destructured_places_with_parent_names_rows_percent"
            ]
        },
        {
            "cell_type": "code",
            "execution_count": null,
            "metadata": {},
            "outputs": [],
            "source": [
                "#representamos la cantidad de grupo de datos contenidos en la variable place_with_parent_names\n",
                "fig, ax = plt.subplots(figsize=(10,2))\n",
                "sns.barplot(x=destructured_places_with_parent_names_rows_percent.values,y=destructured_places_with_parent_names_rows_percent.index, orient='h', ax=ax, ) \n",
                "ax.set_title('Cantidad de valores de cada array de place_with_parent_names') \n",
                "ax.set_xlabel('Porcentaje sobre el total') \n",
                "ax.set_ylabel('Valores de cada array')\n",
                "plt.xlim(0,100)\n",
                "plt.show()\n"
            ]
        },
        {
            "cell_type": "markdown",
            "metadata": {},
            "source": [
                "De los pasos anteriores notamos: los registros que no coinciden exactamente son aquellas listas que no tienen 3 valores. De todas maneras tanto aquellos que tiene 2 como los que tienen 5 valores no tienen una cantidad significativa de registros. \n",
                "\n",
                "Revisamos que los valores que están en cada lista tengan su contraparte en las otras columnas aunque figuren en otro orden del array. Por ejemplo, si en place_with_parent_names figura \"Argentina|Capital Federal|Palermo\" y en place_name figura \"Capital Federal\", entonces el registro para este momento del análisis se considera válido."
            ]
        },
        {
            "cell_type": "code",
            "execution_count": null,
            "metadata": {},
            "outputs": [],
            "source": [
                "# country_name\n",
                "print(\"null values:\", places_data['country_name'].isna().sum())\n",
                "mask = ~places_data.apply(lambda x: x['country_name'] in x['place_with_parent_names'], axis=1)\n",
                "print(\"place_with_parent_names difference with country_name:\", places_data[mask].shape[0])"
            ]
        },
        {
            "cell_type": "code",
            "execution_count": null,
            "metadata": {},
            "outputs": [],
            "source": [
                "# state_name\n",
                "print(\"null values:\", places_data['state_name'].isna().sum())\n",
                "mask = ~places_data.apply(lambda x: x['state_name'] in x['place_with_parent_names'], axis=1)\n",
                "print(\"place_with_parent_names difference with state_name:\", places_data[mask].shape[0])"
            ]
        },
        {
            "cell_type": "code",
            "execution_count": null,
            "metadata": {},
            "outputs": [],
            "source": [
                "# place_name\n",
                "print(\"null values:\", places_data['place_name'].isna().sum())\n",
                "mask = ~places_data.apply(lambda x: x['place_name'] in x['place_with_parent_names'], axis=1)\n",
                "print(\"place_with_parent_names difference with place_name:\", places_data[mask].shape[0])\n"
            ]
        },
        {
            "cell_type": "markdown",
            "metadata": {},
            "source": [
                "*Conclusión: La información que figura en las columnas place_name, country_name y state_name se encuentra en la columna place_with_parent_names aunque no exactamente igual (parece existir información extra) excepto en la columna 'place_name' con sus 23 NaNs que ya hemos identificado previamente.*"
            ]
        },
        {
            "cell_type": "markdown",
            "metadata": {},
            "source": [
                "A continuación analizaremos esas columnas dividiendo el trabajo en partes dependiendo de la cantidad de elementos que contenga el array de la columna \"place_with_parent_names\"."
            ]
        },
        {
            "cell_type": "markdown",
            "metadata": {},
            "source": [
                "#### Análisis de registros de place_with_parent_names con 3 valores\n",
                "___"
            ]
        },
        {
            "cell_type": "code",
            "execution_count": null,
            "metadata": {},
            "outputs": [],
            "source": [
                "# Revisamos los place_with_parent_names con tres elementos\n",
                "mask = places_data['place_with_parent_names'].apply(lambda x: len(x) == 3)\n",
                "places_data_3_elements = places_data[mask].copy()\n",
                "places_data_3_elements.shape"
            ]
        },
        {
            "cell_type": "code",
            "execution_count": null,
            "metadata": {},
            "outputs": [],
            "source": [
                "# Corroboramos que los valores de country_name, state_name y place_name coinciden con los valores de place_with_parent_names\n",
                "print(\"country_name difference with place_with_parent_names[0]:\", places_data_3_elements[places_data_3_elements['country_name'] != places_data_3_elements['place_with_parent_names'].apply(lambda x: x[0])].shape[0])\n",
                "print(\"state_name difference with place_with_parent_names[1]:\", places_data_3_elements[places_data_3_elements['state_name'] != places_data_3_elements['place_with_parent_names'].apply(lambda x: x[1])].shape[0])\n",
                "print(\"place_name difference with place_with_parent_names[2]:\", places_data_3_elements[places_data_3_elements['place_name'] != places_data_3_elements['place_with_parent_names'].apply(lambda x: x[2])].shape[0])"
            ]
        },
        {
            "cell_type": "code",
            "execution_count": null,
            "metadata": {},
            "outputs": [],
            "source": [
                "# Vemos los datos correspondientes a los valores nulos de la columna place_name\n",
                "mask = ~places_data.apply(lambda x: x['place_name'] in x['place_with_parent_names'], axis=1)\n",
                "places_data_place_name_nan = places_data[mask].copy()\n",
                "places_data_place_name_nan.head()"
            ]
        },
        {
            "cell_type": "code",
            "execution_count": null,
            "metadata": {},
            "outputs": [],
            "source": [
                "#Extraemos el dato en la posicion que corresponde a Tigre y lo contabilizamos \n",
                "places_data_place_name_nan['place_with_parent_names'].apply(lambda x: x[2]).value_counts()"
            ]
        },
        {
            "cell_type": "markdown",
            "metadata": {},
            "source": [
                "*Conclusión: Los registros que no tienen valor en place_name son los que no coinciden, todos del municipio de Tigre. El resto de los valores son exactamente iguales*  \n",
                "\n",
                "\n",
                "\n"
            ]
        },
        {
            "cell_type": "markdown",
            "metadata": {},
            "source": [
                "#### Análisis de registros de place_with_parent_names con 4 valores\n",
                "___"
            ]
        },
        {
            "cell_type": "code",
            "execution_count": null,
            "metadata": {},
            "outputs": [],
            "source": [
                "# Revisamos los place_with_parent_names con cuatro elementos\n",
                "mask = places_data['place_with_parent_names'].apply(lambda x: len(x) == 4)\n",
                "places_data_4_elements = places_data[mask].copy()\n",
                "places_data_4_elements.shape\n"
            ]
        },
        {
            "cell_type": "code",
            "execution_count": null,
            "metadata": {},
            "outputs": [],
            "source": [
                "# Contamos los valores de la columna place_with_parent_names por el segundo elemento (descartamos el primero\n",
                "#  porque sabemos que siempre es Argentina)\n",
                "places_data_4_elements['place_with_parent_names'].apply(lambda x: x[1]).value_counts()\n"
            ]
        },
        {
            "cell_type": "code",
            "execution_count": null,
            "metadata": {},
            "outputs": [],
            "source": [
                "# Confirmamos que los valores de la columna place_with_parent_names[1] coinciden con los valores de la columna state_name\n",
                "mask = (places_data_4_elements['place_with_parent_names'].apply(lambda x: x[1]) != places_data_4_elements['state_name'])\n",
                "print(\"place_with_parent_names[1] difference with state_name:\", places_data_4_elements[mask].shape[0])\n"
            ]
        },
        {
            "cell_type": "code",
            "execution_count": null,
            "metadata": {},
            "outputs": [],
            "source": [
                "# Confirmamos que los valores de la columna place_with_parent_names[2] coinciden con los valores de la columna place_name\n",
                "mask = places_data_4_elements['place_with_parent_names'].apply(lambda x: x[2]) != places_data_4_elements['place_name']\n",
                "print(\"place_with_parent_names[2] difference with place_name:\", places_data_4_elements[mask].shape[0])\n",
                "print(\"place_with_parent_names[2] proportional difference with place_name:\", places_data_4_elements[mask].shape[0] / places_data_4_elements.shape[0])\n",
                "places_data_4_elements_non_matching = places_data_4_elements[mask].copy()\n",
                "places_data_4_elements_non_matching[places].sample(10)"
            ]
        },
        {
            "cell_type": "code",
            "execution_count": null,
            "metadata": {},
            "outputs": [],
            "source": [
                "# No coinciden en 29842 registros pero coinciden en el resto. \n",
                "# Confirmamos que los que coinciden son iguales al valor[3] en la cadena completa\n",
                "mask = places_data_4_elements_non_matching['place_with_parent_names'].apply(lambda x: x[2]) == places_data_4_elements_non_matching['place_with_parent_names'].apply(lambda x: x[3])\n",
                "places_data_4_elements_non_matching[mask].shape[0]/ places_data_4_elements_non_matching.shape[0]"
            ]
        },
        {
            "cell_type": "code",
            "execution_count": null,
            "metadata": {},
            "outputs": [],
            "source": [
                "# Confirmamos que los valores de la columna place_with_parent_names[3] coinciden con los valores de la columna place_name\n",
                "mask = (places_data_4_elements['place_with_parent_names'].apply(lambda x: x[3]) != places_data_4_elements['place_name'])\n",
                "print(\"place_with_parent_names[3] difference with place_name:\", places_data_4_elements[mask].shape[0])\n",
                "anti_mask = ~mask # Los que coinciden\n",
                "places_data_4_elements[anti_mask][places].sample(10)"
            ]
        },
        {
            "cell_type": "markdown",
            "metadata": {},
            "source": [
                "*Conclusión: De los 39869 registros con 4 valores, 29842 toman el valor de place_name del 4to valor de la lista. Los 10027 restantes toman el 3er valor.* que es siempre un barrio/localidad dentro del municipio: ejm: Glew localidad del municipio Almiramte Brown de zona sur del Gran Buenos Aires.\n",
                "\n",
                "- place_name asignado a 3er valor de \"place_with_parent_names\": 10027\n",
                "- place_name asignado a 4to valor de \"place_with_parent_names\": 29842"
            ]
        },
        {
            "cell_type": "markdown",
            "metadata": {},
            "source": [
                "#### Análisis de registros de place_with_parent_names con 2 valores\n",
                "___"
            ]
        },
        {
            "cell_type": "code",
            "execution_count": null,
            "metadata": {},
            "outputs": [],
            "source": [
                "# Reviso los place_with_parent_names con dos elementos\n",
                "mask = places_data['place_with_parent_names'].apply(lambda x: len(x) == 2)\n",
                "places_data_2_elements = places_data[mask].copy()\n",
                "places_data_2_elements['place_with_parent_names'].value_counts()"
            ]
        },
        {
            "cell_type": "code",
            "execution_count": null,
            "metadata": {},
            "outputs": [],
            "source": [
                "# Reviso los place_with_parent_names de Córdoba y Capital Federal por contener el maypr numero de registros\n",
                "mask = places_data_2_elements['place_with_parent_names'].apply(lambda x: x[1] == 'Córdoba' or x[1] == 'Capital Federal')\n",
                "places_data_2_elements[mask].sample(10)"
            ]
        },
        {
            "cell_type": "code",
            "execution_count": null,
            "metadata": {},
            "outputs": [],
            "source": [
                "# Pareciera ser que todos los lugares que tienen dos elementos en place_with_parent_names repiten el nombre del estado en place_name\n",
                "# Corroboramos esto\n",
                "mask = places_data_2_elements['place_name'] != places_data_2_elements['state_name']\n",
                "places_data_2_elements[mask].shape\n"
            ]
        },
        {
            "cell_type": "markdown",
            "metadata": {},
            "source": [
                "*Conclusión: En los 4780 registros de place_with_parent_names que tienen 2 valores se utilizó state_name como place_name.* \n",
                "*Es decir, la ciudad principal de la provincia.*"
            ]
        },
        {
            "cell_type": "markdown",
            "metadata": {},
            "source": [
                "#### Análisis de registros de place_with_parent_names con 5 valores\n",
                "___"
            ]
        },
        {
            "cell_type": "code",
            "execution_count": null,
            "metadata": {},
            "outputs": [],
            "source": [
                "# Reviso los place_with_parent_names con 5 elementos\n",
                "mask = places_data['place_with_parent_names'].apply(lambda x: len(x) == 5)\n",
                "places_data_5_elements = places_data[mask].copy()\n",
                "print(places_data_5_elements['place_with_parent_names'].shape)\n",
                "places_data_5_elements.sample(5)"
            ]
        },
        {
            "cell_type": "code",
            "execution_count": null,
            "metadata": {},
            "outputs": [],
            "source": [
                "# Reviso si alguno de los valores no corresponde a Nordelta\n",
                "places_data_5_elements['place_with_parent_names'].apply(lambda x: x[3] != 'Nordelta').sum()"
            ]
        },
        {
            "cell_type": "code",
            "execution_count": null,
            "metadata": {},
            "outputs": [],
            "source": [
                "# Corroboramos que los valores de la columna place_with_parent_names[2] coinciden con los valores de la columna place_name\n",
                "mask = (places_data_5_elements['place_with_parent_names'].apply(lambda x: x[2]) != places_data_5_elements['place_name'])\n",
                "print(\"place_with_parent_names[2] difference with place_name:\", places_data_5_elements[mask].shape[0])\n",
                "print(\"place_with_parent_names[2] proportional difference with place_name:\", places_data_5_elements[mask].shape[0] / places_data_5_elements.shape[0])\n"
            ]
        },
        {
            "cell_type": "code",
            "execution_count": null,
            "metadata": {},
            "outputs": [],
            "source": [
                "# Corroboramos que los valores de la columna place_with_parent_names[3] coinciden con los valores de la columna place_name\n",
                "mask = (places_data_5_elements['place_with_parent_names'].apply(lambda x: x[3]) != places_data_5_elements['place_name'])\n",
                "print(\"place_with_parent_names[3] difference with place_name:\", places_data_5_elements[mask].shape[0])\n",
                "print(\"place_with_parent_names[3] proportional difference with place_name:\", places_data_5_elements[mask].shape[0] / places_data_5_elements.shape[0])\n"
            ]
        },
        {
            "cell_type": "code",
            "execution_count": null,
            "metadata": {},
            "outputs": [],
            "source": [
                "# Corroboramos que los valores de la columna place_with_parent_names[4] coinciden con los valores de la columna place_name\n",
                "mask = (places_data_5_elements['place_with_parent_names'].apply(lambda x: x[4]) != places_data_5_elements['place_name'])\n",
                "print(\"place_with_parent_names[4] difference with place_name:\", places_data_5_elements[mask].shape[0])\n",
                "print(\"place_with_parent_names[4] proportional difference with place_name:\", places_data_5_elements[mask].shape[0] / places_data_5_elements.shape[0])"
            ]
        },
        {
            "cell_type": "markdown",
            "metadata": {},
            "source": [
                "*Conclusión: Los 548 registros de place_with_parent_names que tienen 5 valores son de Nordelta y el último valor se refiere al Barrio. place_name toma los valores del barrio*"
            ]
        },
        {
            "cell_type": "markdown",
            "metadata": {},
            "source": [
                "\n",
                "> ##### Conclusiones finales: \n",
                "> - Existen como máximo 5 tipos de registros en place_with_parent_names: País, Provincia, Municipio, Ciudad, Barrio\n",
                "> - País y Provincia son iguales a country_name y state_name\n",
                "> - Place_name se le asigna el valor de municipio: 76000 + 10027 = 86027\n",
                "> - Place_name se le asigna el valor de ciudad: 29842 (en  estos casos existe el valor municipio también )\n",
                "> - Place_name se le asigna el valor de barrio: 548 (en estos casos existe el valor municipio y ciudad también)\n",
                "> - Place_name se le asigna el valor de state_name: 4780 (en estos casos no existe el valor municipio y ciudad)\n",
                "> - Place_name se le asigna el valor de NaN: 23 (en estos casos existe el valor municipio y ciudad)\n",
                "> ___\n",
                "> Por lo tanto se puede concluir que para dar mayor consistencia es posible imputar place_name con el valor del municipio en las mayoría de los casos. Confrontar con geoNamesId.\n",
                "> ___\n",
                "\n",
                "\n",
                "\n",
                "\n",
                "\n",
                "\n"
            ]
        },
        {
            "cell_type": "markdown",
            "metadata": {},
            "source": [
                "### Geolocalización"
            ]
        },
        {
            "cell_type": "code",
            "execution_count": null,
            "metadata": {},
            "outputs": [],
            "source": [
                "# Creamos un nuevo dataframe con las columnas que me interesan\n",
                "geo_location_data = data[ geolocation].copy()\n",
                "geo_location_data.head()"
            ]
        },
        {
            "cell_type": "markdown",
            "metadata": {},
            "source": [
                "Analizamos por lat-lon para si había duplicados considerando que las mismas coordenadas son las misma propiedad.\n",
                "\n",
                "No es posible determinar si es la misma propiedad porque lat-lon se refiere muchas veces a la ubicación aproximada. \n"
            ]
        },
        {
            "cell_type": "code",
            "execution_count": null,
            "metadata": {},
            "outputs": [],
            "source": [
                "## ver datos duplicados\n",
                "data_copy = data.copy()\n",
                "data_copy.dropna(subset=['lat-lon'], inplace=True)\n",
                "data_copy_group = data_copy.groupby('lat-lon').count()\n",
                "data_copy_group[data_copy_group['operation'] > 1].sort_values(by='operation', ascending=False)"
            ]
        },
        {
            "cell_type": "code",
            "execution_count": null,
            "metadata": {},
            "outputs": [],
            "source": [
                "## ver si existe algun dato duplicado\n",
                "data.duplicated().any()"
            ]
        },
        {
            "cell_type": "code",
            "execution_count": null,
            "metadata": {},
            "outputs": [],
            "source": [
                "data['lat-lon'].duplicated().any()"
            ]
        },
        {
            "cell_type": "code",
            "execution_count": null,
            "metadata": {},
            "outputs": [],
            "source": [
                "data_copy.shape"
            ]
        },
        {
            "cell_type": "code",
            "execution_count": null,
            "metadata": {},
            "outputs": [],
            "source": [
                "data_copy[data_copy['lat-lon'] == '-34.4026444,-58.6684776']"
            ]
        },
        {
            "cell_type": "code",
            "execution_count": null,
            "metadata": {},
            "outputs": [],
            "source": [
                "geo_location_data.sample(10)"
            ]
        },
        {
            "cell_type": "code",
            "execution_count": null,
            "metadata": {},
            "outputs": [],
            "source": [
                "# Vemos porcentaje de valores nulos por columna\n",
                "geo_location_data.isnull().sum()/geo_location_data.shape[0] * 100\n"
            ]
        },
        {
            "cell_type": "code",
            "execution_count": null,
            "metadata": {},
            "outputs": [],
            "source": [
                "# convertimos el dataframe a geodataframe\n",
                "geo_location_data_gdf = gpd.GeoDataFrame(geo_location_data, geometry=gpd.points_from_xy(geo_location_data.lon, geo_location_data.lat))\n",
                "\n",
                "# Ubicamos los puntos en el mapa\n",
                "world = gpd.read_file(gpd.datasets.get_path('naturalearth_lowres'))\n",
                "latin_america = world[world['continent'] == 'South America']\n",
                "fig, ax = plt.subplots(figsize=(5,10))\n",
                "latin_america.plot(ax=ax, alpha=0.4, color='grey', edgecolor='black')\n",
                "geo_location_data_gdf.plot(ax=ax, markersize=0.5, color='red')"
            ]
        },
        {
            "cell_type": "code",
            "execution_count": null,
            "metadata": {},
            "outputs": [],
            "source": [
                "# Existe una propiedad que se encuentra fuera de la Argentina (en Colombia). \n",
                "# La buscamos en el dataframe original\n",
                "# buscamos el polígono de Colombia\n",
                "geo_colombia = world[world['name'] == 'Colombia']\n",
                "\n",
                "# Buscamos la propiedad que se encuentra en Colombia\n",
                "geo_outlier_index = geo_location_data_gdf[geo_location_data_gdf.within(geo_colombia['geometry'].iloc[0])].index\n",
                "\n",
                "# La buscamos en el dataframe original\n",
                "data.iloc[geo_outlier_index]\n"
            ]
        },
        {
            "cell_type": "markdown",
            "metadata": {},
            "source": [
                "Es una propiedad súper interesante, por latitud y longitud está en Colombia, pero por el nombre de la provincia está en Argentina, la descripción habla de Armenia y el título del el Barrio el Limonar.\n",
                "\n",
                "En una rápida búsqueda por internet encontramos que la propiedad se encuentra en el barrio El Limonar de Armenia, Colombia.\n",
                "\n",
                "La descartaremos sin dudas.\n",
                "\n",
                "______"
            ]
        },
        {
            "cell_type": "markdown",
            "metadata": {},
            "source": [
                "#### Corroborar si lat-lon coincide con las columnas lat y lon"
            ]
        },
        {
            "cell_type": "code",
            "execution_count": null,
            "metadata": {},
            "outputs": [],
            "source": [
                "# Corroboremos que los valores nulos en lat-lon son los mismos que en lat y lon\n",
                "geo_location_data[geo_location_data['lat-lon'].isnull()]['lat'].isnull().sum() == geo_location_data[geo_location_data['lat-lon'].isnull()]['lon'].isnull().sum()\n"
            ]
        },
        {
            "cell_type": "code",
            "execution_count": null,
            "metadata": {},
            "outputs": [],
            "source": [
                "# Dropeamos los valores nulos de lat-lon\n",
                "geo_location_data.dropna(subset=['lat-lon'], inplace=True)\n",
                "geo_location_data.isnull().sum()"
            ]
        },
        {
            "cell_type": "code",
            "execution_count": null,
            "metadata": {},
            "outputs": [],
            "source": [
                "# Convertimos la columna lat-lon en dos columnas nuevas\n",
                "geo_location_data['lat_alt'] = geo_location_data['lat-lon'].apply(lambda x: x.split(',')[0])\n",
                "geo_location_data['lon_alt'] = geo_location_data['lat-lon'].apply(lambda x: x.split(',')[1])\n",
                "geo_location_data.head()\n"
            ]
        },
        {
            "cell_type": "code",
            "execution_count": null,
            "metadata": {},
            "outputs": [],
            "source": [
                "# Vemos los tipos de datos\n",
                "geo_location_data.dtypes"
            ]
        },
        {
            "cell_type": "code",
            "execution_count": null,
            "metadata": {},
            "outputs": [],
            "source": [
                "# convertimos las nuevas columnas a float\n",
                "geo_location_data['lat_alt'] = geo_location_data['lat_alt'].astype(float)\n",
                "geo_location_data['lon_alt'] = geo_location_data['lon_alt'].astype(float)\n",
                "geo_location_data.dtypes"
            ]
        },
        {
            "cell_type": "code",
            "execution_count": null,
            "metadata": {},
            "outputs": [],
            "source": [
                "# Comprobamos que los valores de las nuevas columnas son iguales a los de las columnas originales\n",
                "print(\"Diferencia entre lat:\",(geo_location_data['lat_alt'] != geo_location_data['lat']).sum())\n",
                "print(\"Diferencia entre lon:\",(geo_location_data['lon_alt'] != geo_location_data['lon']).sum())\n",
                "# En proporción\n",
                "print(\"Diferencia en proporción de lat\",(geo_location_data['lat_alt'] != geo_location_data['lat']).sum()/ geo_location_data.shape[0])\n",
                "print(\"Diferencia en proporción de lon\",(geo_location_data['lon_alt'] != geo_location_data['lon']).sum()/ geo_location_data.shape[0])\n"
            ]
        },
        {
            "cell_type": "markdown",
            "metadata": {},
            "source": [
                "Hay diferencias en 21% los casos. Veamos si es una diferencia significativa\n",
                "\n",
                "Revisamos el margen de diferencia redondeando progresivamente."
            ]
        },
        {
            "cell_type": "code",
            "execution_count": null,
            "metadata": {},
            "outputs": [],
            "source": [
                "Decimal(geo_location_data['lon'][0]).as_tuple().exponent"
            ]
        },
        {
            "cell_type": "code",
            "execution_count": null,
            "metadata": {},
            "outputs": [],
            "source": [
                "# Reviso la cantidad de decimales que tienen los valores de lat y lon\n",
                "geo_location_data['lat'].apply(lambda x: Decimal(x).as_tuple().exponent).value_counts()"
            ]
        },
        {
            "cell_type": "code",
            "execution_count": null,
            "metadata": {},
            "outputs": [],
            "source": [
                "geo_location_data['lon'].apply(lambda x: Decimal(x).as_tuple().exponent).value_counts()"
            ]
        },
        {
            "cell_type": "code",
            "execution_count": null,
            "metadata": {},
            "outputs": [],
            "source": [
                "# Vamos redondeando progresivamente los valores de lat y lon\n",
                "lat_decimal_diff = []\n",
                "for i in range(47,0,-1):\n",
                "    margin = (geo_location_data['lat_alt'].round(i) != geo_location_data['lat'].round(i)).sum()/ geo_location_data.shape[0]\n",
                "    lat_decimal_diff.insert(0,margin)\n",
                "    # print('Margen de diferencia de',i,'decimales en latitud:', margin)\n",
                "# Buscamos dónde el margen de diferencia es menor al 1%\n",
                "    if margin <= 0.01:\n",
                "        print('Margen de diferencia de',i,'decimales en latitud:', margin)\n",
                "   \n",
                "print(\"////////////////////////////////////\")   \n",
                "\n",
                "lon_decimal_diff = []\n",
                "for i in range(47,0,-1):\n",
                "    margin = (geo_location_data['lon_alt'].round(i) != geo_location_data['lon'].round(i)).sum()/ geo_location_data.shape[0]\n",
                "    lon_decimal_diff.insert(0,margin)\n",
                "    # print('Margen de diferencia de',i,'decimales en longitud:', margin)\n",
                "# Buscamos dónde el margen de diferencia es menor al 1%\n",
                "    if margin <= 0.01:\n",
                "        print('Margen de diferencia de',i,'decimales en latitud:', margin)\n",
                "\n",
                "\n"
            ]
        },
        {
            "cell_type": "code",
            "execution_count": null,
            "metadata": {},
            "outputs": [],
            "source": [
                "# Lo graficamos\n",
                "plt.figure(figsize=(10,5))\n",
                "plt.plot(lat_decimal_diff, label='latitud')\n",
                "plt.plot(lon_decimal_diff, label='longitud')\n",
                "plt.ylabel('Margen de diferencia')\n",
                "plt.xlabel('Cantidad de decimales')\n",
                "plt.legend()\n"
            ]
        },
        {
            "cell_type": "code",
            "execution_count": null,
            "metadata": {},
            "outputs": [],
            "source": [
                "geo_location_data_gdf = gpd.GeoDataFrame(geo_location_data, geometry=gpd.points_from_xy(geo_location_data.lon, geo_location_data.lat))\n",
                "geo_location_data_gdf.head()"
            ]
        },
        {
            "cell_type": "markdown",
            "metadata": {},
            "source": [
                "\n",
                "> Como se puede ver, las diferencias entre lat-lon y lat y lon comienzan a partir de los 13 decimales por lo que podemos descartarla como una diferencia significativa.\n",
                "> \n",
                "> Por otro lado, también hemos comprobado que los valores de lat lon provienen de convertir la variable a geometry y obtener de ahí lat y lon\n",
                ">\n",
                "> Entonces podemos concluir que la variable lat-lon es redundante y podemos eliminarla.\n",
                "> ____ "
            ]
        },
        {
            "cell_type": "markdown",
            "metadata": {},
            "source": [
                "#### Análisis de propiedades con igual latitud y longitud con otras propiedades"
            ]
        },
        {
            "cell_type": "markdown",
            "metadata": {},
            "source": [
                "Vamos a buscar si hay muchos puntos iguales para refutar la hipótesis de que se utilizó la misma ubicación para varias propiedades"
            ]
        },
        {
            "cell_type": "code",
            "execution_count": null,
            "metadata": {},
            "outputs": [],
            "source": [
                "# Primero veamos una visualización de los datos de Capital Federal para ver si parece haber una gran concentración \n",
                "# de propiedades en algún lugar específico o están dispersas por toda la ciudad.\n",
                "geo_location_data_gdf_capital = geo_location_data_gdf[data['state_name']=='Capital Federal']\n",
                "geo_location_data_gdf_capital['geometry']"
            ]
        },
        {
            "cell_type": "code",
            "execution_count": null,
            "metadata": {},
            "outputs": [],
            "source": [
                "# Ubicamos los puntos en el mapa\n",
                "df_barrios_capital = pd.read_csv('./data/barrios.csv', sep=',', encoding='latin-1')\n",
                "import shapely.wkt\n",
                "\n",
                "df_barrios_capital[\"WKT\"] = df_barrios_capital[\"WKT\"].apply(shapely.wkt.loads) \n",
                "df_barrios_capital = gpd.GeoDataFrame(df_barrios_capital, geometry='WKT')\n"
            ]
        },
        {
            "cell_type": "code",
            "execution_count": null,
            "metadata": {},
            "outputs": [],
            "source": [
                "geo_location_data_gdf_capital['geometry']\n",
                "fig, ax = plt.subplots(figsize=(10,20))\n",
                "\n",
                "geo_location_data_gdf_capital.plot(ax=ax, markersize=0.5, color='red', alpha=0.1) \n",
                "df_barrios_capital.plot(ax=ax, alpha=0.4, color='grey', edgecolor='black')\n",
                "plt.xlim(-58.55,-58.350)\n",
                "plt.ylim(-34.705,-34.525) \n",
                "plt.show()"
            ]
        },
        {
            "cell_type": "code",
            "execution_count": null,
            "metadata": {},
            "outputs": [],
            "source": [
                "# Ahora veamos en todo el dataset cuántas propiedades comparten la misma ubicación.\n",
                "different_locations = geo_location_data_gdf['geometry'].value_counts()\n",
                "print('Cantidad de propiedades por punto:', different_locations) "
            ]
        },
        {
            "cell_type": "code",
            "execution_count": null,
            "metadata": {},
            "outputs": [],
            "source": [
                "prop_qty_per_point = []\n",
                "for i in range(1,different_locations[0]+1):\n",
                "    (different_locations == i).sum() / different_locations.shape[0] * 100\n",
                "    prop_qty_per_point.append((different_locations == i).sum() / different_locations.shape[0] * 100)\n",
                "prop_qty_per_point = pd.DataFrame(prop_qty_per_point, columns=['Porcentaje'], index=range(1,different_locations[0]+1))\n",
                "prop_qty_per_point.reset_index(inplace=True)\n",
                "prop_qty_per_point.rename(columns={'index':'Cantidad de propiedades por punto'}, inplace=True)\n",
                "prop_qty_per_point.head(10)"
            ]
        },
        {
            "cell_type": "code",
            "execution_count": null,
            "metadata": {},
            "outputs": [],
            "source": [
                "# Lo graficamos\n",
                "plt.figure(figsize=(10,5))\n",
                "plt.hist(different_locations, bins=different_locations[0]+1)\n",
                "plt.ylabel('Cantidad de puntos')\n",
                "plt.xlabel('Cantidad de propiedades por punto')\n",
                "plt.show()\n",
                "\n"
            ]
        },
        {
            "cell_type": "markdown",
            "metadata": {},
            "source": [
                "Veamos dónde se encuentran las propiedades que más tienen lat y lon iguales"
            ]
        },
        {
            "cell_type": "code",
            "execution_count": null,
            "metadata": {},
            "outputs": [],
            "source": [
                "most_shared_point_props = geo_location_data_gdf[geo_location_data_gdf['geometry'].isin(different_locations.index[0:11])]\n",
                " "
            ]
        },
        {
            "cell_type": "code",
            "execution_count": null,
            "metadata": {},
            "outputs": [],
            "source": [
                "fig, ax = plt.subplots(figsize=(5,10))\n",
                "latin_america.plot(ax=ax, alpha=0.4, color='grey', edgecolor='black')\n",
                "most_shared_point_props.plot(ax=ax, markersize=0.5, color='red')"
            ]
        },
        {
            "cell_type": "code",
            "execution_count": null,
            "metadata": {},
            "outputs": [],
            "source": [
                "# Parece que están todas en la Argentina\n",
                "# Descargamos un mapa de la Argentina por municipios para averiguar qué municipios son los que tienen más propiedades en el mismo punto.\n",
                "# https://www.ign.gob.ar/NuestrasActividades/InformacionGeoespacial/CapasSIG\n",
                "municipios_geo = gpd.read_file('./data/municipio/municipio.shp')\n",
                "municipios_geo.head()"
            ]
        },
        {
            "cell_type": "code",
            "execution_count": null,
            "metadata": {},
            "outputs": [],
            "source": [
                "fig, ax = plt.subplots(figsize=(5,10))\n",
                "municipios_geo.plot(ax=ax, alpha=0.4, color='grey', edgecolor='black')\n",
                "plt.show()"
            ]
        },
        {
            "cell_type": "code",
            "execution_count": null,
            "metadata": {},
            "outputs": [],
            "source": [
                "# Veamos en qué municipios están las propiedades que comparten el mismo punto.\n",
                "# convertimos a coordenadas geográficas para poder hacer el join con el geodataframe de las propiedades.\n",
                "most_shared_point_props.crs = \"EPSG:4326\"\n",
                "most_shared_point_props = most_shared_point_props.to_crs(epsg=4326) "
            ]
        },
        {
            "cell_type": "code",
            "execution_count": null,
            "metadata": {},
            "outputs": [],
            "source": [
                "# Hacemos el join con el geodataframe de los municipios.\n",
                "most_shared_point_props_municipios = gpd.sjoin(most_shared_point_props, municipios_geo, how=\"inner\")\n",
                "most_shared_point_props_municipios.head()"
            ]
        },
        {
            "cell_type": "code",
            "execution_count": null,
            "metadata": {},
            "outputs": [],
            "source": [
                "most_shared_point_props_municipios['fna'].value_counts()"
            ]
        },
        {
            "cell_type": "markdown",
            "metadata": {},
            "source": [
                "> Podemos concluir que la gran mayoría de los puntos de lat y lon son únicos, por lo que descartamos que sean aproximaciones.\n",
                ">  \n",
                "> Una excepción notable son Tigre y Capital Federal\n",
                "> \n",
                "> ____"
            ]
        },
        {
            "cell_type": "markdown",
            "metadata": {},
            "source": [
                "#### Corroborar si lat-lon coincide con geonames_id"
            ]
        },
        {
            "cell_type": "code",
            "execution_count": null,
            "metadata": {},
            "outputs": [],
            "source": [
                "geo_location_data = data[ geolocation].copy()"
            ]
        },
        {
            "cell_type": "code",
            "execution_count": null,
            "metadata": {},
            "outputs": [],
            "source": [
                "# Corroboramos que todos los nulos de latitud y longitud también son nulos en la columna geonames_id.\n",
                "lat_nulls = geo_location_data[geo_location_data['lat'].isnull()]\n",
                "lon_nulls = geo_location_data[geo_location_data['lon'].isnull()]\n",
                "geonames_null = geo_location_data[geo_location_data['geonames_id'].isnull()]\n",
                "print('Es lat null = lon null?: ', lat_nulls.equals(lon_nulls))  \n",
                "print('Es lat null = geonames null?: ', lat_nulls.equals(geonames_null))  \n",
                "print('Es lon null = geonames null?: ', lon_nulls.equals(geonames_null))  \n"
            ]
        },
        {
            "cell_type": "code",
            "execution_count": null,
            "metadata": {},
            "outputs": [],
            "source": [
                "# Vemos cuantas columnas tienen nulos en lat (o lon, son iguales en cuanto a nulos) y no en geonames_id.\n",
                "lat_nulls = geo_location_data[geo_location_data['lat'].isnull()]\n",
                "lat_nulls_geonames_not_null = lat_nulls[lat_nulls['geonames_id'].notnull()]\n",
                "lat_nulls_geonames_not_null.shape[0] "
            ]
        },
        {
            "cell_type": "code",
            "execution_count": null,
            "metadata": {},
            "outputs": [],
            "source": [
                "# Vemos cuantas columnas tienen nulos en geonames_id y no en lat (o lon, son iguales en cuanto a nulos).\n",
                "geonames_null = geo_location_data[geo_location_data['geonames_id'].isnull()]\n",
                "geonames_null_lat_not_null = geonames_null[geonames_null['lat'].notnull()]\n",
                "geonames_null_lat_not_null.shape[0]"
            ]
        },
        {
            "cell_type": "markdown",
            "metadata": {},
            "source": [
                "> Conclusión: Podemos imputar lat y lon a partir de geonames_id en 43365 casos. \n",
                "> \n",
                "> Podríamos imputar 10532 casos en geonames pero con una sóla variable de geolocalización es suficiente y usaremos lat-lon para crear geometry.\n",
                ">  \n",
                "> ______"
            ]
        },
        {
            "cell_type": "markdown",
            "metadata": {},
            "source": [
                "##### Importar la información de geonames_id"
            ]
        },
        {
            "cell_type": "code",
            "execution_count": null,
            "metadata": {},
            "outputs": [],
            "source": [
                "geonames = pd.read_csv(\"ar_copy.csv\", sep='\\t', header=None)"
            ]
        },
        {
            "cell_type": "code",
            "execution_count": null,
            "metadata": {},
            "outputs": [],
            "source": [
                "#como no tengo nombres en la columnas para mejorar la extracción renombro las que me interesan\n",
                "geonames.rename({0: 'geoname_oficial', 4:\"lat_oficial\", 5:\"lon_oficial\"}, axis=1, inplace=True)\n",
                "geonames.head()"
            ]
        },
        {
            "cell_type": "code",
            "execution_count": null,
            "metadata": {},
            "outputs": [],
            "source": [
                "#ahora si vamos a buscar los datos de lat y lon desde el geoname_oficial del archivo geonames de internet\n",
                "#Creamos un diccionario vacío para ubicar la Latitud\n",
                "lat_dict = {}\n",
                "\n",
                "#Creamos una tupla con los pares de key y value: usando un iterador de tuplas zip donde el primer\n",
                "# elemento de cada iterador pasado se empareja con el primero del segundo y asi sucesivamente\n",
                "geoname_lat = zip(geonames['geoname_oficial'], geonames['lat_oficial'])\n",
                "\n",
                "#Rellenamos el diccionario\n",
                "for geoname, lat_oficial in geoname_lat:\n",
                "    lat_dict[geoname] = lat_oficial"
            ]
        },
        {
            "cell_type": "code",
            "execution_count": null,
            "metadata": {},
            "outputs": [],
            "source": [
                "#Creamos un diccionario para ubicar la Longitud\n",
                "lon_dict = {}\n",
                "\n",
                "#Creamos una tupla con los pares de key y value: usando un iterador de tuplas zip donde el primer\n",
                "# elemento de cada iterador pasado se empareja con el primero del segundo y asi sucesivamente\n",
                "geoname_lon = zip(geonames['geoname_oficial'], geonames['lon_oficial'])\n",
                "\n",
                "#Rellenamos el diccionario\n",
                "for geoname, lon_oficial in geoname_lon:\n",
                "    lon_dict[geoname] = lon_oficial"
            ]
        },
        {
            "cell_type": "code",
            "execution_count": null,
            "metadata": {},
            "outputs": [],
            "source": [
                "geo_location_data[\"lat_geoname\"] = geo_location_data['geonames_id'].map(lat_dict)\n",
                "geo_location_data[\"lon_geoname\"] = geo_location_data['geonames_id'].map(lon_dict)"
            ]
        },
        {
            "cell_type": "code",
            "execution_count": null,
            "metadata": {},
            "outputs": [],
            "source": [
                "geo_location_data.isna().sum()"
            ]
        },
        {
            "cell_type": "markdown",
            "metadata": {},
            "source": [
                "##### Comparar lat-lon con lat-lon extraído de geonames_id"
            ]
        },
        {
            "cell_type": "markdown",
            "metadata": {},
            "source": [
                "Esto no se puede hacer porque sólo se extrajeron los datos de geonames_id que no tenían lat-lon"
            ]
        },
        {
            "cell_type": "code",
            "execution_count": null,
            "metadata": {},
            "outputs": [],
            "source": [
                "# comparo los datos completados con los datos originales para ver si hay diferencias\n",
                "# remuevo los nan de los datos originales (porque seguro va a haber diferencias en esos datos)\n",
                "geo_location_data.dropna(subset=['lat', 'lon','geonames_id', 'lat_geoname', \"lon_geoname\" ], inplace=True)\n",
                "geo_location_data.isna().sum()  "
            ]
        },
        {
            "cell_type": "code",
            "execution_count": null,
            "metadata": {},
            "outputs": [],
            "source": [
                "geo_location_data.shape "
            ]
        },
        {
            "cell_type": "code",
            "execution_count": null,
            "metadata": {},
            "outputs": [],
            "source": [
                "# comparamos las filas en común que no tienen nulos\n",
                "geo_location_data['lat'] == geo_location_data['lat_geoname']\n",
                "geo_location_data[geo_location_data['lat'] != geo_location_data['lat_geoname']]"
            ]
        },
        {
            "cell_type": "code",
            "execution_count": null,
            "metadata": {},
            "outputs": [],
            "source": [
                "# Ubicamos los puntos en el mapa\n",
                "\n",
                "# Estos df ya fueron creado y están puestos como referencia\n",
                "# geo_location_data_gdf = gpd.GeoDataFrame(geo_location_data, geometry=gpd.points_from_xy(geo_location_data.lon, geo_location_data.lat))\n",
                "# geo_location_data_gdf_capital = geo_location_data_gdf[data['state_name']=='Capital Federal']\n",
                "\n",
                "\n",
                "geo_location_data_gdf_capital_geonames = gpd.GeoDataFrame(geo_location_data, geometry=gpd.points_from_xy(geo_location_data.lon_geoname, geo_location_data.lat_geoname))\n",
                "geo_location_data_gdf_capital['geometry']\n",
                "df_barrios_capital = pd.read_csv('./data/barrios.csv', sep=',', encoding='latin-1')\n",
                "\n",
                "\n",
                "df_barrios_capital[\"WKT\"] = df_barrios_capital[\"WKT\"].apply(shapely.wkt.loads) \n",
                "df_barrios_capital = gpd.GeoDataFrame(df_barrios_capital, geometry='WKT')\n",
                "\n",
                "geo_location_data_gdf_capital['geometry']\n",
                "fig, ax = plt.subplots(figsize=(10,20))\n",
                "\n",
                "geo_location_data_gdf_capital.plot(ax=ax, markersize=0.5, color='red', alpha=0.1) \n",
                "geo_location_data_gdf_capital_geonames.plot(ax=ax, markersize=0.5, color='blue', alpha=0.1)\n",
                "df_barrios_capital.plot(ax=ax, alpha=0.4, color='grey', edgecolor='black')\n",
                "plt.xlim(-58.55,-58.350)\n",
                "plt.ylim(-34.705,-34.525) \n",
                "plt.show()"
            ]
        },
        {
            "cell_type": "markdown",
            "metadata": {},
            "source": [
                "*Conclusión: Geonames_id marca el centro de cada uno de los barrios y no la latitud y longitud exacta de la propiedad. Por lo que deberíamos imputar lat y lon a partir de geonames_id con mucho cuidado.*"
            ]
        },
        {
            "cell_type": "markdown",
            "metadata": {},
            "source": [
                "#### Corroborar si lat-lon coincide con place_name"
            ]
        },
        {
            "cell_type": "code",
            "execution_count": null,
            "metadata": {},
            "outputs": [],
            "source": [
                "municipios_geo.head()"
            ]
        },
        {
            "cell_type": "code",
            "execution_count": null,
            "metadata": {},
            "outputs": [],
            "source": [
                "municipios_geo_nam_geo = municipios_geo.copy()"
            ]
        },
        {
            "cell_type": "code",
            "execution_count": null,
            "metadata": {},
            "outputs": [],
            "source": [
                "# Reemplazamos ciudades por municipios\n",
                "places_data_4_elements_with_mun_as_place_name = places_data_4_elements.copy()\n",
                "places_data_4_elements_with_mun_as_place_name['place_name'] = places_data_4_elements['place_with_parent_names'].apply(lambda x: x[2])\n",
                "print(places_data_4_elements_with_mun_as_place_name.shape)\n",
                "places_data_4_elements_with_mun_as_place_name.head()"
            ]
        },
        {
            "cell_type": "code",
            "execution_count": null,
            "metadata": {},
            "outputs": [],
            "source": [
                "# Unimos los nuevos municipios asignados con los otro municipios\n",
                "places_data_mun = pd.concat([places_data_4_elements_with_mun_as_place_name, places_data_3_elements], axis=0) \n",
                "print(places_data_mun.shape) \n",
                "places_data_mun.head() "
            ]
        },
        {
            "cell_type": "code",
            "execution_count": null,
            "metadata": {},
            "outputs": [],
            "source": [
                "# Unimos los municipios con su georeferencia\n",
                "places_data_mun_geo = places_data_mun.join(geo_location_data)\n",
                "print(places_data_mun_geo.shape)\n",
                "places_data_mun_geo.head()"
            ]
        },
        {
            "cell_type": "code",
            "execution_count": null,
            "metadata": {},
            "outputs": [],
            "source": [
                "# Lo convertimos en geo data frame\n",
                "places_data_mun_geo_gdf = gpd.GeoDataFrame(places_data_mun_geo, geometry=gpd.points_from_xy(places_data_mun_geo.lon, places_data_mun_geo.lat))\n",
                "places_data_mun_geo_gdf.head()"
            ]
        },
        {
            "cell_type": "code",
            "execution_count": null,
            "metadata": {},
            "outputs": [],
            "source": [
                "# limpiamos los datos que no tienen georeferencia\n",
                "places_data_mun_geo_gdf.dropna(subset=['lat', 'lon'], inplace=True)\n",
                "places_data_mun_geo_gdf = places_data_mun_geo_gdf[['place_name', 'geometry','state_name']]\n",
                "print(places_data_mun_geo_gdf.shape)\n",
                "places_data_mun_geo_gdf.head()"
            ]
        },
        {
            "cell_type": "code",
            "execution_count": null,
            "metadata": {},
            "outputs": [],
            "source": [
                "# convertimos a coordenadas geográficas para poder hacer el join con el geodataframe de las propiedades.\n",
                "places_data_mun_geo_gdf.crs = \"EPSG:4326\" \n",
                "places_data_mun_geo_gdf = places_data_mun_geo_gdf.to_crs(\"EPSG:4326\")"
            ]
        },
        {
            "cell_type": "code",
            "execution_count": null,
            "metadata": {},
            "outputs": [],
            "source": [
                "# unimos los municipios con su georeferencia con los municipios con su georeferencia de places_data_mun_geo_gdf\n",
                "common_municipios = gpd.sjoin(municipios_geo_nam_geo, places_data_mun_geo_gdf, how=\"inner\")\n",
                "common_municipios = common_municipios[['nam','fna', 'place_name','state_name', 'geometry']]\n",
                "print(common_municipios.shape)\n",
                "common_municipios.head()"
            ]
        },
        {
            "cell_type": "code",
            "execution_count": null,
            "metadata": {},
            "outputs": [],
            "source": [
                "# Chequeamos que nam y place_name sean iguales\n",
                "(common_municipios['nam'] == common_municipios['place_name']).sum() == common_municipios.shape[0] \n"
            ]
        },
        {
            "cell_type": "code",
            "execution_count": null,
            "metadata": {},
            "outputs": [],
            "source": [
                "# Vemos que municipios que coinciden con place_name\n",
                "common_municipios[common_municipios['nam'] == common_municipios['place_name']]"
            ]
        },
        {
            "cell_type": "code",
            "execution_count": null,
            "metadata": {},
            "outputs": [],
            "source": [
                "# Vemos que municipios que no coinciden con place_name\n",
                "common_municipios[common_municipios['nam'] != common_municipios['place_name']]"
            ]
        },
        {
            "cell_type": "code",
            "execution_count": null,
            "metadata": {},
            "outputs": [],
            "source": [
                "# Considerando que el patrón Comuna n es de Capital Federal, eliminamos las filas que tenga ese patrón y el state_name sea Capital Federal\n",
                "regex_comuna = r'Comuna \\d+'\n",
                "common_municipios = common_municipios[ ~((common_municipios['nam'].str.contains(regex_comuna)) & (common_municipios['state_name'] == 'Capital Federal'))]\n",
                "print(common_municipios.shape)\n",
                "uncommon_municipios = common_municipios[common_municipios['nam'] != common_municipios['place_name']]\n",
                "print(uncommon_municipios.shape)\n",
                "uncommon_municipios.head()"
            ]
        },
        {
            "cell_type": "code",
            "execution_count": null,
            "metadata": {},
            "outputs": [],
            "source": [
                "print(\"Municipios diferentes: \", uncommon_municipios['nam'].nunique())\n",
                "uncommon_municipios['place_name'].value_counts().head()"
            ]
        },
        {
            "cell_type": "code",
            "execution_count": null,
            "metadata": {},
            "outputs": [],
            "source": [
                "uncommon_municipios_mar_del_plata = uncommon_municipios[uncommon_municipios['place_name'] == 'Mar del Plata'] \n",
                "print(uncommon_municipios_mar_del_plata.shape) \n",
                "uncommon_municipios_mar_del_plata.head()"
            ]
        },
        {
            "cell_type": "code",
            "execution_count": null,
            "metadata": {},
            "outputs": [],
            "source": [
                "# Mar del Plata corresponde al municipio de General Pueyrredón, por lo que también lo eliminamos.\n",
                "common_municipios = common_municipios[ ~((common_municipios['nam'] == 'General Pueyrredón') & (common_municipios['place_name'] == 'Mar del Plata'))]\n",
                "print(common_municipios.shape)\n",
                "uncommon_municipios = common_municipios[common_municipios['nam'] != common_municipios['place_name']]\n",
                "print(uncommon_municipios.shape)\n",
                "uncommon_municipios.head()"
            ]
        },
        {
            "cell_type": "code",
            "execution_count": null,
            "metadata": {},
            "outputs": [],
            "source": [
                "uncommon_municipios.groupby([ 'nam','place_name']).count().sort_values(by='state_name', ascending=False).head(10)"
            ]
        },
        {
            "cell_type": "markdown",
            "metadata": {},
            "source": [
                "*Conclusión: Los datos de lat-lon coinciden con place_name.*\n",
                "\n",
                "Casos notables: \n",
                "- Capital Federal: según el df del IGN son comunas y según el original son barrios. Se asume que son correctos.\n",
                "- Mar del Plata: Mar del Plata es la ciudad y General Pueyrredón el municipio. Si se utiliza el municipio como place_name lo correcto es imputarlo. # https://www.argentina.gob.ar/buenosaires/municipios"
            ]
        },
        {
            "cell_type": "markdown",
            "metadata": {},
            "source": [
                "#### Analizar si es posible imputar place_name de los registros deplaces_data_2_elements(donde solo hay país y provincia)"
            ]
        },
        {
            "cell_type": "code",
            "execution_count": null,
            "metadata": {},
            "outputs": [],
            "source": [
                "# Unimos los municipios con su georeferencia\n",
                "places_data_2_elements_geo = places_data_2_elements.join(geo_location_data)  \n",
                "print(places_data_2_elements_geo.shape)\n",
                "places_data_2_elements_geo.head()"
            ]
        },
        {
            "cell_type": "code",
            "execution_count": null,
            "metadata": {},
            "outputs": [],
            "source": [
                "# Vemos si existe geonames_id en alguna fila en places_data_2_elements_geo\n",
                "places_data_2_elements_geo['geonames_id'].isnull().sum() == places_data_2_elements_geo.shape[0]  "
            ]
        },
        {
            "cell_type": "code",
            "execution_count": null,
            "metadata": {},
            "outputs": [],
            "source": [
                "# Vemos si existe lat y lon en alguna fila en places_data_2_elements_geo\n",
                "places_data_2_elements_geo['lat'].isnull().sum() == places_data_2_elements_geo.shape[0]  and places_data_2_elements_geo['lon'].isnull().sum() == places_data_2_elements_geo.shape[0]"
            ]
        },
        {
            "cell_type": "markdown",
            "metadata": {},
            "source": [
                "*Conclusión: No es posible imputar place_name a partir de su georeferencia*"
            ]
        },
        {
            "cell_type": "markdown",
            "metadata": {},
            "source": [
                "### Precio"
            ]
        },
        {
            "cell_type": "markdown",
            "metadata": {},
            "source": [
                "### Superficie"
            ]
        },
        {
            "cell_type": "markdown",
            "metadata": {},
            "source": [
                "#### 1- Recuperación informacion faltante de la variable de referencia aplicando regex a la columna descripción"
            ]
        },
        {
            "cell_type": "code",
            "execution_count": null,
            "metadata": {},
            "outputs": [],
            "source": [
                "data_limpia= data.copy()"
            ]
        },
        {
            "cell_type": "code",
            "execution_count": null,
            "metadata": {},
            "outputs": [],
            "source": [
                "serie_descripcion = data_limpia[\"description\"]\n",
                "\n",
                "pattern_sup_m2 = \"(?P<sup>\\d{2,}(,|.\\d+)?)\\s*(m2|metros|mts)\"\n",
                "pattern_sup_m2_regex = re.compile(pattern_sup_m2,  re.IGNORECASE)\n",
                "\n",
                "sup_match = serie_descripcion.apply(lambda x: x if x is np.NaN else pattern_sup_m2_regex.search(x))\n",
                "mask_sup_match_notnull= sup_match.notnull()\n",
                "\n",
                "data_limpia.loc[mask_sup_match_notnull, \"Sup_m2_Clean\"] = sup_match[mask_sup_match_notnull].apply(lambda x: x.group(\"sup\"))"
            ]
        },
        {
            "cell_type": "code",
            "execution_count": null,
            "metadata": {},
            "outputs": [],
            "source": [
                "#SE ARREGLAN ERRORES DE COLUMNA DE REGEX PARA PODER SER UTILIZADOS EN ESTADISTICA\n",
                "\n",
                "serie_sup_m2_clean=data_limpia[\"Sup_m2_Clean\"]\n",
                "\n",
                "pattern_sup_m2_dos=\"(?P<supdos>\\d{2,})\"\n",
                "pattern_sup_m2_regex_dos=re.compile(pattern_sup_m2_dos)\n",
                "sup_match_dos = serie_sup_m2_clean.apply(lambda x: x if x is np.NaN else pattern_sup_m2_regex_dos.search(x))\n",
                "mask_sup_match_notnull_dos= sup_match_dos.notnull()\n",
                "data_limpia.loc[mask_sup_match_notnull_dos, \"Sup_m2_Clean_dos\"] = sup_match_dos[mask_sup_match_notnull_dos].apply(lambda x: x.group(\"supdos\"))\n",
                "data_limpia[[\"surface_total_in_m2\", \"surface_covered_in_m2\", \"Sup_m2_Clean_dos\"]].sample(10)"
            ]
        },
        {
            "cell_type": "markdown",
            "metadata": {},
            "source": [
                "#### 2- Revisión la coherencia entre las columnas Superficie total y superficie cubierta."
            ]
        },
        {
            "cell_type": "code",
            "execution_count": null,
            "metadata": {},
            "outputs": [],
            "source": [
                "mask_consistencia_sup = data_limpia[\"surface_total_in_m2\"] < data_limpia[\"surface_covered_in_m2\"]\n",
                "data_limpia[mask_consistencia_sup].shape"
            ]
        },
        {
            "cell_type": "markdown",
            "metadata": {},
            "source": [
                "Se detectan 1106 valores cuya superficie total es menor que la superficie cubierta, siendo esto inconsistente."
            ]
        },
        {
            "cell_type": "markdown",
            "metadata": {},
            "source": [
                "Se revisa el contenido de las columnas comparandolas entre si, ademas se la compara con la informacion obtenida en descripcion para comprobar coherencia de los datos"
            ]
        },
        {
            "cell_type": "code",
            "execution_count": null,
            "metadata": {},
            "outputs": [],
            "source": [
                "data_consistencia_sup = data_limpia[mask_consistencia_sup]\n",
                "data_consistencia_sup[[\"surface_total_in_m2\",\"surface_covered_in_m2\",\"Sup_m2_Clean_dos\", \"property_type\"]].sample(20)"
            ]
        },
        {
            "cell_type": "code",
            "execution_count": null,
            "metadata": {},
            "outputs": [],
            "source": [
                "mascara_coherencia_sup = data_limpia[\"surface_covered_in_m2\"] >= 1000\n",
                "data_coherencia_sup = data_consistencia_sup [mascara_coherencia_sup]\n",
                "data_coherencia_sup [[\"surface_total_in_m2\",\"surface_covered_in_m2\",\"Sup_m2_Clean_dos\", \"rooms\",\"property_type\"]]\n"
            ]
        },
        {
            "cell_type": "code",
            "execution_count": null,
            "metadata": {},
            "outputs": [],
            "source": [
                "data_coherencia_sup.shape"
            ]
        },
        {
            "cell_type": "markdown",
            "metadata": {},
            "source": [
                "Para valores mayores a 1000m2, 39 filas, los valores en la columna superficie total son mas coherente que los datos de superficie cubierta, motivo por el cual en este caso no se modificará la variable"
            ]
        },
        {
            "cell_type": "code",
            "execution_count": null,
            "metadata": {},
            "outputs": [],
            "source": [
                "mascara_coherencia_sup_menor = data_limpia[\"surface_covered_in_m2\"] <1000\n",
                "data_coherencia_sup_menor = data_consistencia_sup [mascara_coherencia_sup_menor]\n",
                "data_coherencia_sup_menor [[\"surface_total_in_m2\",\"surface_covered_in_m2\",\"Sup_m2_Clean_dos\", \"rooms\",\"property_type\"]].sample(10)"
            ]
        },
        {
            "cell_type": "markdown",
            "metadata": {},
            "source": [
                "Para superficies cubiertas menores a 1000m2 la columna superficie cubierta posee valores mas razonales."
            ]
        },
        {
            "cell_type": "markdown",
            "metadata": {},
            "source": [
                "#### 3- Detección de outliers de la variable Superficie."
            ]
        },
        {
            "cell_type": "code",
            "execution_count": null,
            "metadata": {},
            "outputs": [],
            "source": [
                "data_limpia.boxplot(column= \"surface_total_in_m2\", by=\"property_type\") \n",
                "plt.show()"
            ]
        },
        {
            "cell_type": "code",
            "execution_count": null,
            "metadata": {},
            "outputs": [],
            "source": [
                "outlier_value = 10000\n",
                "mask_consistencia_outlier_sup= data_limpia[\"surface_total_in_m2\"] >= outlier_value\n",
                "data[mask_consistencia_outlier_sup].shape"
            ]
        },
        {
            "cell_type": "markdown",
            "metadata": {},
            "source": [
                "Se analiza el contenido de las columnas para corroborar coherencia."
            ]
        },
        {
            "cell_type": "code",
            "execution_count": null,
            "metadata": {},
            "outputs": [],
            "source": [
                "data_consistencia_outliers = data[mask_consistencia_outlier_sup]\n",
                "data_consistencia_outliers[[\"surface_total_in_m2\",\"surface_covered_in_m2\"]].sample(10)"
            ]
        },
        {
            "cell_type": "markdown",
            "metadata": {},
            "source": [
                "##### Del análisis de las columnas donde existen outliers se detecta que los valores en superficie cubierta son mas coherentes por lo cual, se decide para estas 87 columnas imputar el valor superficie cubierta como superficie total y revisar nuevamente outliers. Ver en apartado *\"IMPUTACION\"*"
            ]
        },
        {
            "cell_type": "code",
            "execution_count": null,
            "metadata": {},
            "outputs": [],
            "source": []
        },
        {
            "cell_type": "markdown",
            "metadata": {},
            "source": [
                "# Minar los datos"
            ]
        },
        {
            "cell_type": "markdown",
            "metadata": {},
            "source": [
                "### Dar formato, limpiar, homogeneizar y filtrar los datos"
            ]
        },
        {
            "cell_type": "markdown",
            "metadata": {},
            "source": [
                "Decisiones (a tomar):\n",
                "> Ubicación\n",
                "> ___\n",
                "- en cuanto a ubicación quedarse con una columna geometry y el municipio (en el caso de Capital Federal, Comuna == municipio)\n",
                "  - En caso de geometry, usar lat-lon o geonames_id? porque geonames_id toma el punto medio del municipio (es decir, más inexacto) y lat-lon toma el punto exacto de la propiedad (es decir, más exacto) pero lat-lon tiene muchos valores faltantes.\n",
                "  - Una opción sería tomar la std media de lat-lon y geonames_id y modificar aleatoriamente geoname para que no quede un punto sobrerepresentado. (comencé a implementar como prueba de concepto pero no lo terminé)\n",
                "  - Se podría hacer algo similar con los 18640 datos faltantes de geonames_id.\n",
                "  - En el caso de municipio, habría que imputar unos 29842 valores que utilizan el barrio en vez del municipio ( se ve en places_data_4_elements). \n",
                "  - De esta manera en cuanto a municipio sólo perdemos 4780 filas que sólo tienen state_name y no municipio ni ciudad ni es posible imputarlos desde su georeferencia.\n",
                "> Superficie\n",
                "> ___\n",
                "- Queda definar los casos donde superficie cubierta es mayor que superficie total y si es posible imputar la superficie total a partir de la cubierta tomando la cubierta como la total a partir del promedio de superficie total por superficie cubierta.\n",
                "- Ver qué hacer con los outliers \n",
                "- Revisar celda 29 de superficie_limpia_columnas\n",
                "- Celda 34, discriminar casas y agregar superficie total a partir de la cubierta más un porcentaje de jardín (Jonathan)\n",
                "\n",
                "> Precio\n",
                "> ___"
            ]
        },
        {
            "cell_type": "markdown",
            "metadata": {},
            "source": [
                "## Imputaciones ubicación"
            ]
        },
        {
            "cell_type": "code",
            "execution_count": null,
            "metadata": {},
            "outputs": [],
            "source": [
                "# Eliminamos las filas que no tienen municipio\n",
                "data_clean_location = data.drop(index=places_data_2_elements_geo.index)\n",
                "print(data_clean_location.shape)\n",
                "data_clean_location.head()"
            ]
        },
        {
            "cell_type": "code",
            "execution_count": null,
            "metadata": {},
            "outputs": [],
            "source": [
                "# Reemplazamos ciudades por municipios\n",
                "data_clean_location.loc[places_data_4_elements_with_mun_as_place_name.index, 'place_name'] = places_data_4_elements_with_mun_as_place_name['place_name']\n",
                "print(data_clean_location.shape)\n",
                "data_clean_location.head()"
            ]
        },
        {
            "cell_type": "code",
            "execution_count": null,
            "metadata": {},
            "outputs": [],
            "source": [
                "# Elimino columnas duplicadas\n",
                "unnecesary_columns = ['country_name', 'place_with_parent_names']\n",
                "data_clean_location = data_clean_location.drop(columns=unnecesary_columns)\n",
                "print(data_clean_location.shape) \n",
                "data_clean_location.head()"
            ]
        },
        {
            "cell_type": "code",
            "execution_count": null,
            "metadata": {},
            "outputs": [],
            "source": [
                "# limpiamos los datos que no tienen georeferencia\n",
                "data_clean_location.dropna(subset=[\"geonames_id\"], inplace=True)\n",
                "print(data_clean_location.shape)\n",
                "data_clean_location.head()"
            ]
        },
        {
            "cell_type": "code",
            "execution_count": null,
            "metadata": {},
            "outputs": [],
            "source": [
                "place_names = data_clean_location['place_name']"
            ]
        },
        {
            "cell_type": "code",
            "execution_count": null,
            "metadata": {},
            "outputs": [],
            "source": [
                "geo_location_data['place_name'] = place_names\n",
                "geo_location_data.head()\n",
                "geo_location_data.shape"
            ]
        },
        {
            "cell_type": "code",
            "execution_count": null,
            "metadata": {},
            "outputs": [],
            "source": [
                "# Veamos la la media de las lat y lon de la tabla original y los ingresados por geonames_id\n",
                "geo_location_data.groupby('place_name').agg({'lat':[ 'mean', 'std'], 'lon': ['mean', 'std'], 'lat_geoname':[ 'mean', 'std'], 'lon_geoname': ['mean', 'std']}).head()\n"
            ]
        },
        {
            "cell_type": "code",
            "execution_count": null,
            "metadata": {},
            "outputs": [],
            "source": [
<<<<<<< HEAD
                "# Me quedé sin tiempo pero por acá va la idea..."
=======
                "place_name_std.columns = ['lat_mean', 'lat_std', 'lon_mean', 'lon_std', 'lat_geoname_mean', 'lat_geoname_std', 'lon_geoname_mean', 'lon_geoname_std'] \n",
                "place_name_std.head(3)"
            ]
        },
        {
            "cell_type": "markdown",
            "metadata": {},
            "source": [
                "## Imputaciones de variable Superficie"
            ]
        },
        {
            "cell_type": "markdown",
            "metadata": {},
            "source": [
                "se adicionan a una nueva columna los datos obtenidos de la columna descripcion."
            ]
        },
        {
            "cell_type": "code",
            "execution_count": null,
            "metadata": {},
            "outputs": [],
            "source": [
                "data_limpia[\"sup_m2_total_limpia\"] = data_limpia[\"surface_total_in_m2\"].copy()\n",
                "data_limpia[\"sup_m2_total_limpia\"].fillna(data_limpia[\"Sup_m2_Clean_dos\"],inplace=True)\n",
                "((data_limpia[\"sup_m2_total_limpia\"].isnull().sum())/(data[\"surface_total_in_m2\"].isnull().sum()))*100\n",
                "data_limpia[\"sup_m2_total_limpia\"]"
            ]
        },
        {
            "cell_type": "code",
            "execution_count": null,
            "metadata": {},
            "outputs": [],
            "source": []
        },
        {
            "cell_type": "markdown",
            "metadata": {},
            "source": [
                "Se imputan los valores de superficie cubierta a la columna de superficie total, para valores de superficie total menor que superficie cubierta y donde superficie cubierta es menor a 1000m2"
            ]
        },
        {
            "cell_type": "code",
            "execution_count": null,
            "metadata": {},
            "outputs": [],
            "source": [
                "data_limpia.loc[mascara_coherencia_sup_menor,\"sup_m2_total_limpia\"] = data_limpia[\"surface_covered_in_m2\"]\n",
                "data_limpia[\"sup_m2_total_limpia\"]"
            ]
        },
        {
            "cell_type": "markdown",
            "metadata": {},
            "source": [
                "##### Del análisis de las columnas donde existen outliers se detecta que los valores en superficie cubierta son mas coherentes por lo cual, se decide para estas 87 columnas imputar el valor superficie cubierta como superficie total"
            ]
        },
        {
            "cell_type": "code",
            "execution_count": null,
            "metadata": {},
            "outputs": [],
            "source": [
                "data_limpia.loc[mask_consistencia_outlier_sup,\"sup_m2_total_limpia\"] = data_limpia[\"surface_covered_in_m2\"]\n",
                "data_limpia[\"sup_m2_total_limpia\"]"
            ]
        },
        {
            "cell_type": "code",
            "execution_count": null,
            "metadata": {},
            "outputs": [],
            "source": [
                "data_limpia[\"sup_m2_total_limpia\"]=pd.to_numeric(data_limpia[\"sup_m2_total_limpia\"])"
            ]
        },
        {
            "cell_type": "code",
            "execution_count": null,
            "metadata": {},
            "outputs": [],
            "source": [
                "data_limpia.boxplot(\"sup_m2_total_limpia\", by=\"property_type\") \n",
                "plt.show()"
            ]
        },
        {
            "cell_type": "code",
            "execution_count": null,
            "metadata": {},
            "outputs": [],
            "source": [
                "outlier_value = 100000\n",
                "mask_consistencia_outlier_sup_dos= data_limpia[\"sup_m2_total_limpia\"] >= outlier_value\n",
                "data[mask_consistencia_outlier_sup_dos].shape"
            ]
        },
        {
            "cell_type": "code",
            "execution_count": null,
            "metadata": {},
            "outputs": [],
            "source": [
                "data_limpia[mask_consistencia_outlier_sup_dos]"
            ]
        },
        {
            "cell_type": "markdown",
            "metadata": {},
            "source": [
                "##### 4- Se supone que para PH, apartments y store la superficie cubierta es la misma que la superficie total, *se descarta house entendiendo que estas pueden contar con \"patio\". con estos datos se reemplazan los valores faltantes "
            ]
        },
        {
            "cell_type": "markdown",
            "metadata": {},
            "source": [
                "# JONI ACA VA EL CODIGO QUE ARREGLATE VOS"
            ]
        },
        {
            "cell_type": "code",
            "execution_count": null,
            "metadata": {},
            "outputs": [],
            "source": [
                "data_key_not_null_mask = np.logical_and(data_limpia.property_type.notnull(), data.surface_covered_in_m2.notnull())\n",
                "data_key_not_null = data_limpia.loc[data_key_not_null_mask, :]\n",
                "data_key_not_null.shape"
            ]
        },
        {
            "cell_type": "code",
            "execution_count": null,
            "metadata": {},
            "outputs": [],
            "source": [
                "data_key_not_null_grouped_tipo_sup= data_key_not_null.groupby([\"property_type\", \"surface_covered_in_m2\"])\n",
                "data_fillna= data_key_not_null_grouped_tipo_sup[\"surface_total_in_m2\"].transform(lambda grp: grp.fillna(grp.mean()))\n",
                "data_limpia[\"sup_m2_total_limpia\"].fillna(data_fillna,inplace=True)"
            ]
        },
        {
            "cell_type": "code",
            "execution_count": null,
            "metadata": {},
            "outputs": [],
            "source": [
                "data_limpia[\"sup_m2_total_limpia\"].isnull().sum()"
            ]
        },
        {
            "cell_type": "markdown",
            "metadata": {},
            "source": [
                "# TODO: MEJORAR EL RANDOM DE LA IMPUTACIÓN DE GEONAMES_ID ALGUNOS QUEDAN MUY LEJOS. REPENSAR"
            ]
        },
        {
            "cell_type": "code",
            "execution_count": null,
            "metadata": {},
            "outputs": [],
            "source": [
                "# Por cada place_name, en los casos que no tenemos lat y lon, imputamos la media de lat y lon \n",
                "# de geonames_id variada aleatoria con una desviación estándar de cada lugar.\n",
                "\n",
                "\n",
                "for index, row in data_clean_location.iterrows():\n",
                "    if np.isnan(row['lat']) and np.isnan(row['lon']):\n",
                "        data_clean_location.loc[index, 'lat'] = np.random.randn() * place_name_std['lat_std'][row['place_name']] + place_name_std['lat_mean'][row['place_name']]\n",
                "        data_clean_location.loc[index, 'lon'] = np.random.randn() * place_name_std['lon_std'][row['place_name']] + place_name_std['lon_mean'][row['place_name']]"
            ]
        },
        {
            "cell_type": "code",
            "execution_count": null,
            "metadata": {},
            "outputs": [],
            "source": [
                "# Corroboramos la cantidad de nulls en lat y lon\n",
                "data_clean_location[geolocation].isna().sum()  "
            ]
        },
        {
            "cell_type": "code",
            "execution_count": null,
            "metadata": {},
            "outputs": [],
            "source": [
                "# Ubicamos los puntos en el mapa para ver si se distribuyen de forma uniforme.\n",
                "\n",
                "# Estos df ya fueron creado y están puestos como referencia\n",
                "# geo_location_data_gdf = gpd.GeoDataFrame(geo_location_data, geometry=gpd.points_from_xy(geo_location_data.lon, geo_location_data.lat))\n",
                "# geo_location_data_gdf_capital = geo_location_data_gdf[data['state_name']=='Capital Federal']\n",
                "\n",
                "\n",
                "geo_location_data_gdf_capital_geonames_norm = gpd.GeoDataFrame(data_clean_location, geometry=gpd.points_from_xy(data_clean_location.lon, data_clean_location.lat))\n",
                "geo_location_data_gdf_capital['geometry']\n",
                "df_barrios_capital = pd.read_csv('./data/barrios.csv', sep=',', encoding='latin-1')\n",
                "\n",
                "\n",
                "df_barrios_capital[\"WKT\"] = df_barrios_capital[\"WKT\"].apply(shapely.wkt.loads) \n",
                "df_barrios_capital = gpd.GeoDataFrame(df_barrios_capital, geometry='WKT')\n",
                "\n",
                "geo_location_data_gdf_capital['geometry']\n",
                "fig, ax = plt.subplots(figsize=(10,20))\n",
                "\n",
                "geo_location_data_gdf_capital.plot(ax=ax, markersize=1, color='red', alpha=0.1) \n",
                "geo_location_data_gdf_capital_geonames_norm.plot(ax=ax, markersize=1, color='blue', alpha=0.1)\n",
                "df_barrios_capital.plot(ax=ax, alpha=0.4, color='grey', edgecolor='black')\n",
                "plt.xlim(-58.55,-58.350)\n",
                "plt.ylim(-34.705,-34.525) \n",
                "plt.show()"
            ]
        },
        {
            "cell_type": "code",
            "execution_count": null,
            "metadata": {},
            "outputs": [],
            "source": [
                "# Rearmamos la columna geometry con los nuevos valores de lat y lon\n",
                "data_clean_location['geometry'] = gpd.points_from_xy(data_clean_location.lon, data_clean_location.lat)\n",
                "# Limpiamos las columnas redundantes\n",
                "data_clean_location = data_clean_location.drop(columns=['lat', 'lon', 'lat_geoname', 'lon_geoname', 'geonames_id', 'lat-lon',])\n",
                "print(data_clean_location.shape)\n",
                "data_clean_location.head()\n"
            ]
        },
        {
            "cell_type": "code",
            "execution_count": null,
            "metadata": {},
            "outputs": [],
            "source": [
                "# Vemos las propiedades en el mapa de Argentina\n",
                "argentina = world[world['name'] == 'Argentina'] \n",
                "fig, ax = plt.subplots(figsize=(10,10))\n",
                "argentina.plot(ax=ax, color='grey', edgecolor='black')\n",
                "data_clean_location_gdf = gpd.GeoDataFrame(data_clean_location, geometry='geometry')\n",
                "data_clean_location_gdf.plot(figsize=(10,10), markersize=1, color='red', alpha=0.1,ax=ax)\n",
                "plt.show()\n"
>>>>>>> 5b8373ef65161499b4c29d9b46020213624d40a0
            ]
        },
        {
            "cell_type": "code",
            "execution_count": null,
            "metadata": {},
            "outputs": [],
            "source": []
        },
        {
            "cell_type": "markdown",
            "metadata": {},
            "source": [
                "# Refinar los datos"
            ]
        },
        {
            "cell_type": "markdown",
            "metadata": {},
            "source": [
                "# Exportar el nuevo dataset "
            ]
        },
        {
            "cell_type": "code",
            "execution_count": null,
            "metadata": {},
            "outputs": [],
            "source": []
        }
    ],
    "metadata": {
        "kernelspec": {
<<<<<<< HEAD
            "display_name": "Python 3.10.4 ('DH_geopandas')",
=======
            "display_name": "Python 3.10.4 ('DH')",
>>>>>>> 5b8373ef65161499b4c29d9b46020213624d40a0
            "language": "python",
            "name": "python3"
        },
        "language_info": {
            "codemirror_mode": {
                "name": "ipython",
                "version": 3
            },
            "file_extension": ".py",
            "mimetype": "text/x-python",
            "name": "python",
            "nbconvert_exporter": "python",
            "pygments_lexer": "ipython3",
            "version": "3.10.4"
        },
        "orig_nbformat": 4,
        "vscode": {
            "interpreter": {
<<<<<<< HEAD
                "hash": "ccc2d0a3504c81dc026caf32773f2f2f4469570f6fc589beb16b0e0e3d20cee5"
=======
                "hash": "7ad4b00cfa812d91f92fb5dc88aa637f6cffee5ca8b01c2f389043adc33b2f6a"
>>>>>>> 5b8373ef65161499b4c29d9b46020213624d40a0
            }
        }
    },
    "nbformat": 4,
    "nbformat_minor": 2
}
