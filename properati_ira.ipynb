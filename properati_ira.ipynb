{
 "cells": [
  {
   "cell_type": "code",
   "execution_count": null,
   "metadata": {},
   "outputs": [],
   "source": [
    "import pandas as pd\n",
    "import numpy as np\n",
    "import matplotlib.pyplot as plt\n",
    "import statsmodels.api as sm"
   ]
  },
  {
   "cell_type": "code",
   "execution_count": null,
   "metadata": {},
   "outputs": [],
   "source": [
    "location = \"properatti.csv\"\n",
    "data = pd.read_csv(location, sep=\",\", index_col=0)"
   ]
  },
  {
   "cell_type": "markdown",
   "metadata": {},
   "source": [
    "Con todo lo que veo de los valores outliers de superficie_total_m2 es que los podemos imputar, si no vamos a trabajar con un modelo sobre precio de casas o store. Capaz como mencionaba el profe, los valores extremos nos sirvan para aplanar la tendencia en una regresion. "
   ]
  },
  {
   "cell_type": "markdown",
   "metadata": {},
   "source": [
    "Visualización del dataframe"
   ]
  },
  {
   "cell_type": "code",
   "execution_count": null,
   "metadata": {},
   "outputs": [],
   "source": [
    "#"
   ]
  },
  {
   "cell_type": "code",
   "execution_count": null,
   "metadata": {},
   "outputs": [],
   "source": [
    "pd.options.display.max_columns = None\n",
    "#data.sample(10)\n",
    "data.sample(4)"
   ]
  },
  {
   "cell_type": "code",
   "execution_count": null,
   "metadata": {},
   "outputs": [],
   "source": [
    "data_limpia = data.copy()\n"
   ]
  },
  {
   "cell_type": "code",
   "execution_count": null,
   "metadata": {},
   "outputs": [],
   "source": [
    "#Para ver la dispersion de los datos por tipo de propiedad creamos un grafico de caja de bigotes\n",
    "data_limpia.boxplot(column= \"surface_total_in_m2\", by=\"property_type\") \n",
    "plt.show()\n",
    "#vemos que existen bastantes casos en casas, apartamentos que tienen datos extremos"
   ]
  },
  {
   "cell_type": "code",
   "execution_count": null,
   "metadata": {},
   "outputs": [],
   "source": [
    "#graficamos con un grafico de bigotes como es la presencia de valores extremos en ambas variables \n",
    "fig, axes = plt.subplots(1, 2, figsize=(8, 4))\n",
    "sns.boxplot(data=data_limpia, x=\"property_type\", y='surface_covered_in_m2', ax=axes[0])\n",
    "sns.boxplot(data=data_limpia, x=\"property_type\", y='surface_total_in_m2', ax=axes[1]);\n",
    "#efectivamente hay valores extremos"
   ]
  },
  {
   "cell_type": "code",
   "execution_count": null,
   "metadata": {},
   "outputs": [],
   "source": [
    "#revisamos la estadisticos de media, desviacion y rangos intercuartilicos\n",
    "data_limpia[[\"surface_total_in_m2\", \"surface_covered_in_m2\" ]].describe()"
   ]
  },
  {
   "cell_type": "code",
   "execution_count": null,
   "metadata": {},
   "outputs": [],
   "source": [
    "#data_solo_superficie = data_limpia[[\"surface_total_in_m2\", \"surface_covered_in_m2\" ]]\n",
    "#data_solo_superficie"
   ]
  },
  {
   "cell_type": "code",
   "execution_count": null,
   "metadata": {},
   "outputs": [],
   "source": [
    "#vamos a verificar cuales son los datos que se encuentran por encima del tercer quartil y buscamos los limites superiores e inferiores\n",
    "#para determinar que registros pueden considerarse extremos\n",
    "q1, q2, q3 = data_limpia[\"surface_total_in_m2\"].quantile([0.25, 0.50, 0.75])\n",
    "print(\"Q1:\", q1,\"\\nq2:\", q2,\"\\nq3:\", q3 )"
   ]
  },
  {
   "cell_type": "code",
   "execution_count": null,
   "metadata": {},
   "outputs": [],
   "source": [
    "#para surface_total_in_m2 hayamos el limite superior: aplicamos la formula de calcular el rango intercuartilico y luego el valor superior\n",
    "iqr = q3-q1\n",
    "ls = q3 + 1.5*iqr\n",
    "print(\"El limite superior para considerar un outlier en superficie_total_m2 es:\", ls)"
   ]
  },
  {
   "cell_type": "code",
   "execution_count": null,
   "metadata": {},
   "outputs": [],
   "source": [
    "li = q1 - 1.5*iqr\n",
    "print(\"El limite inferior para considerar un outlier en superficie_total_m2 es:\", li)"
   ]
  },
  {
   "cell_type": "code",
   "execution_count": null,
   "metadata": {},
   "outputs": [],
   "source": [
    "#aplicamos el metodo query para consultar que campos son los que cumplen con tener valores por encima del limite superior \n",
    "#datos_outliers_ls = \n",
    "data_limpia.query(\"surface_total_in_m2 > @ls\").sample(4)\n",
    "#vemos que estos valores extremos pertenecen a casas en zonas rurales por lo cuall tiene sentido sus superficie\n"
   ]
  },
  {
   "cell_type": "code",
   "execution_count": null,
   "metadata": {},
   "outputs": [],
   "source": [
    "#los guardamos en una variable para luego extraer el indice\n",
    "datos_outliers_ls = data_limpia.query(\"surface_total_in_m2 > @ls\")\n",
    "indice_total = datos_outliers_ls.index\n",
    "indice_total"
   ]
  },
  {
   "cell_type": "code",
   "execution_count": null,
   "metadata": {},
   "outputs": [],
   "source": [
    "data_limpia.groupby([\"property_type\"])[\"surface_total_in_m2\"].describe()"
   ]
  },
  {
   "cell_type": "code",
   "execution_count": null,
   "metadata": {},
   "outputs": [],
   "source": [
    "\n",
    "sup_total_ls = data_limpia.loc[indice_total,[\"surface_total_in_m2\", \"surface_covered_in_m2\",\"property_type\",\"place_name\", \"state_name\"]]\n"
   ]
  },
  {
   "cell_type": "code",
   "execution_count": null,
   "metadata": {},
   "outputs": [],
   "source": [
    "sup_total_ls.groupby([\"property_type\"])[\"surface_total_in_m2\"].count()"
   ]
  },
  {
   "cell_type": "code",
   "execution_count": null,
   "metadata": {},
   "outputs": [],
   "source": [
    "outlier_value = 10000\n",
    "mask_consistencia_outlier_sup= sup_total_ls[\"surface_total_in_m2\"] >= outlier_value\n",
    "sup_total_ls[mask_consistencia_outlier_sup]"
   ]
  },
  {
   "cell_type": "code",
   "execution_count": null,
   "metadata": {},
   "outputs": [],
   "source": [
    "datos_outliers_li= data_limpia.query(\"surface_total_in_m2 < @li\")\n",
    "datos_outliers_li\n",
    "#no hay valores por debajo del limite inferior"
   ]
  },
  {
   "cell_type": "code",
   "execution_count": null,
   "metadata": {},
   "outputs": [],
   "source": [
    "data_limpia_2 = data.copy()"
   ]
  },
  {
   "cell_type": "code",
   "execution_count": null,
   "metadata": {},
   "outputs": [],
   "source": [
    "data_limpia_sin_ls = data_limpia_2.drop(axis=0, index=indice_total)\n",
    "data_limpia_sin_ls.boxplot(column= [\"surface_total_in_m2\"], by=\"property_type\") \n",
    "plt.show()\n"
   ]
  },
  {
   "cell_type": "code",
   "execution_count": null,
   "metadata": {},
   "outputs": [],
   "source": [
    "#hasta aqui"
   ]
  },
  {
   "cell_type": "code",
   "execution_count": null,
   "metadata": {},
   "outputs": [],
   "source": []
  },
  {
   "cell_type": "code",
   "execution_count": null,
   "metadata": {},
   "outputs": [],
   "source": []
  },
  {
   "cell_type": "code",
   "execution_count": null,
   "metadata": {},
   "outputs": [],
   "source": []
  },
  {
   "cell_type": "code",
   "execution_count": null,
   "metadata": {},
   "outputs": [],
   "source": []
  },
  {
   "cell_type": "code",
   "execution_count": null,
   "metadata": {},
   "outputs": [],
   "source": []
  },
  {
   "cell_type": "code",
   "execution_count": null,
   "metadata": {},
   "outputs": [],
   "source": []
  },
  {
   "cell_type": "markdown",
   "metadata": {},
   "source": [
    "Explorado los datos"
   ]
  },
  {
   "cell_type": "code",
   "execution_count": null,
   "metadata": {},
   "outputs": [],
   "source": [
    "print(data.loc[filas_nan, [\"price_aprox_local_currency\"]])"
   ]
  },
  {
   "cell_type": "code",
   "execution_count": null,
   "metadata": {},
   "outputs": [],
   "source": [
    "data.info()\n",
    "# 8   lat-lon  object \n",
    "#data.convert_dtypes().dtypes #podria servir\n"
   ]
  },
  {
   "cell_type": "code",
   "execution_count": null,
   "metadata": {},
   "outputs": [],
   "source": [
    "print(data.isna().sum())\n",
    "#price, currency, price_aprox, price_usd tienen la misma cantidad de nulos 20410\n",
    "#hay que averiguar si price_per_m2 es la relacion de price y surface_total, así podriamos completar nulos en price_per_m2: SI ES"
   ]
  },
  {
   "cell_type": "code",
   "execution_count": null,
   "metadata": {},
   "outputs": [],
   "source": [
    "data.isna().sum()/data.shape[0] *100\n",
    "\n",
    "#podriamos completar place_name\n",
    "#cambiar los nombres de las columnas?\n",
    "#geonames_id está en float?\n",
    "#lat-long ver si podemos completar donde falte lat y long se podrian borrar las individuales  "
   ]
  },
  {
   "cell_type": "code",
   "execution_count": null,
   "metadata": {},
   "outputs": [],
   "source": [
    "\n",
    "data.describe(include=\"all\")\n",
    "\n",
    "#count: cuenta el numero de registros no incluye null\n",
    "#unique:  número de objetos distintos en la columna,\n",
    "#top: es el dato más frecuente que se produce,\n",
    "#freq: es la cantidad de veces que aparece el objeto “top” en la columna.\n",
    "\n",
    "# # de la columna \"place_with_parent_name\" \n",
    "# lat-long hay datos repetidos o son los mismos edificios o representan un area determinada\n",
    "# operation y country_name 1 solo dato \n",
    "# cambiar el dato de geonames_id\n",
    "# currency tiene 4 tipos de monedas\n",
    "# hay un tipo de propiedad con 32 habitaciones?\n",
    "# hay un tipo de propiedad con 3150 pisos?"
   ]
  },
  {
   "cell_type": "code",
   "execution_count": null,
   "metadata": {},
   "outputs": [],
   "source": [
    "#valores unicos x columna\n",
    "for columnas in data.columns:\n",
    "    print(\"\")\n",
    "    print(f'Nombre:{columnas}')\n",
    "    print(data[columnas].value_counts())"
   ]
  },
  {
   "cell_type": "code",
   "execution_count": null,
   "metadata": {},
   "outputs": [],
   "source": [
    "corr = data.set_index('place_name').corr()\n",
    "sm.graphics.plot_corr(corr, xnames=list(corr.columns))\n",
    "plt.show()\n",
    "\n",
    "#Hay una correlacion entre price y price_aprox_local_currency : price está en dolares y local currency en pesos\n",
    "#al multiplicar price por la tasa de cambio tenemos price_aprox_local currency"
   ]
  },
  {
   "cell_type": "code",
   "execution_count": null,
   "metadata": {},
   "outputs": [],
   "source": [
    "#vemos el tipo de cambio utilizado\n",
    "tasa_cambio = data['price_aprox_local_currency'] / data['price_aprox_usd']\n",
    "#data[\"tipo_de_cambio\"] = data['price_aprox_local_currency'] / data['price_aprox_usd']\n",
    "#data[\"tipo_de_cambio\"]\n",
    "tasa_cambio.unique()\n",
    "\n",
    "#aqui vemos que aparecen datos diferentes por los decimales,entonces vamos a redondear a 2 decimales \n",
    "#price_aprox_local_currency     20410\n",
    "#price_aprox_usd                20410"
   ]
  },
  {
   "cell_type": "code",
   "execution_count": null,
   "metadata": {},
   "outputs": [],
   "source": [
    "print(tasa_cambio.round(2).unique()) #a ver si hay otro valor\n",
    "print(tasa_cambio.isna().sum()) # "
   ]
  },
  {
   "cell_type": "code",
   "execution_count": null,
   "metadata": {},
   "outputs": [],
   "source": [
    "data['price_aprox_usd'].sample(10)"
   ]
  },
  {
   "cell_type": "code",
   "execution_count": null,
   "metadata": {},
   "outputs": [],
   "source": [
    "data['price_aprox_usd'].notnull().sum()"
   ]
  },
  {
   "cell_type": "code",
   "execution_count": null,
   "metadata": {},
   "outputs": [],
   "source": [
    "data['price_aprox_usd'].notnull"
   ]
  },
  {
   "cell_type": "code",
   "execution_count": null,
   "metadata": {},
   "outputs": [],
   "source": [
    "#price                          20410\n",
    "#price_aprox_usd                20410  #price tiene la misma cantidad de registris que price_aprox_usd \n",
    "#currency\n",
    "\n",
    "#surface_total_in_m2            39328\n",
    "# price_usd_per_m2              52603\n",
    "# price_per_m2                  33562\n",
    "\n",
    "buscando_precio_usd_m2 = data['price_aprox_usd'] / data['surface_total_in_m2']\n",
    "print(buscando_precio_usd_m2)\n",
    "print(buscando_precio_usd_m2.isna().sum())\n",
    "\n",
    "#aqui vemos si el dato de price_usd_per_m2 es la relacion de price_aprox entre la superficie_total_in_m2\n",
    "#price está en USD y otras monedas entonces el calculo va a estar en dolar u otras monedas \n",
    "#como la relacion de estas dos columnas me da los datos de precio_usd_per_m2, si tengo nan en alguna de estas columnas lo puedo reemplazar\n",
    "#hacer una comparacion entre esta columna y la de data"
   ]
  },
  {
   "cell_type": "code",
   "execution_count": null,
   "metadata": {},
   "outputs": [],
   "source": [
    "#agrego la columna nueva a data\n",
    "data[\"precio_usd_m2_calculado\"]= data['price_aprox_usd'] / data['surface_total_in_m2']"
   ]
  },
  {
   "cell_type": "code",
   "execution_count": null,
   "metadata": {},
   "outputs": [],
   "source": [
    "#comparo las columna original con la columna de precio_m2 original\n",
    "precio_usd_m2_match = (data['price_usd_per_m2'] == data['precio_usd_m2_calculado'])\n",
    "precio_usd_m2_match.value_counts()\n",
    "\n",
    "#"
   ]
  },
  {
   "cell_type": "code",
   "execution_count": null,
   "metadata": {},
   "outputs": [],
   "source": [
    "data[\"price_usd_per_m2\"].isna().sum()\n",
    "\n"
   ]
  },
  {
   "cell_type": "code",
   "execution_count": null,
   "metadata": {},
   "outputs": [],
   "source": [
    "#price                          20410\n",
    "#currency                       20411\n",
    "#price_aprox_local_currency     20410\n",
    "#price_aprox_usd                20410\n",
    "#surface_total_in_m2            39328\n",
    "#surface_covered_in_m2          19907\n",
    "#price_usd_per_m2               52603\n",
    "#price_per_m2                   33562"
   ]
  },
  {
   "cell_type": "code",
   "execution_count": null,
   "metadata": {},
   "outputs": [],
   "source": [
    "import seaborn as sns"
   ]
  },
  {
   "cell_type": "code",
   "execution_count": null,
   "metadata": {},
   "outputs": [],
   "source": [
    "#graficamos con un grafico de bigotes como es la presencia de valores extremos en ambas variables \n",
    "fig, axes = plt.subplots(1, 2, figsize=(8, 4))\n",
    "sns.boxplot(data=data_limpia, x=\"property_type\", y='surface_covered_in_m2', ax=axes[0])\n",
    "sns.boxplot(data=data_limpia, x=\"property_type\", y='surface_total_in_m2', ax=axes[1]);\n",
    "#efectivamente hay valores extremos"
   ]
  },
  {
   "cell_type": "code",
   "execution_count": null,
   "metadata": {},
   "outputs": [],
   "source": [
    "data.boxplot(column= \"rooms\", by=\"property_type\") \n",
    "data.boxplot(column = \"floor\", by=\"property_type\")\n",
    "plt.show()"
   ]
  },
  {
   "cell_type": "code",
   "execution_count": null,
   "metadata": {},
   "outputs": [],
   "source": [
    "# Veamoslo graficamente para una sola variable\n",
    "#df['variable'].plot(kind = 'box')\n",
    "#plt.show()"
   ]
  },
  {
   "cell_type": "code",
   "execution_count": null,
   "metadata": {},
   "outputs": [],
   "source": [
    "#para los metros cubiertos y metros totales\n",
    "#df[['Metros_Cubiertos','Metros_Totales']].plot(kind = 'box', logy = True)\n",
    "#plt.show()"
   ]
  },
  {
   "cell_type": "code",
   "execution_count": null,
   "metadata": {},
   "outputs": [],
   "source": [
    "print(data[\"rooms\"].info())\n",
    "print(\"__________________________\")\n",
    "print(\"Cantidad de datos nulos: \", data[\"rooms\"].isnull().sum())\n"
   ]
  },
  {
   "cell_type": "code",
   "execution_count": null,
   "metadata": {},
   "outputs": [],
   "source": [
    "data[['price_aprox_local_currency',\"price\", \"currency\"]].describe(include =\"all\").round(2)\n",
    "#no muestra mucho solo queria ver"
   ]
  },
  {
   "cell_type": "markdown",
   "metadata": {},
   "source": [
    "Exploracion de las columnas relacionadas con la ubicacion Por Provincia, Ciudad/Barrio \n",
    "- place_name                        \n",
    "- place_with_parent_names            \n",
    "- state_name  \n",
    "--------------------\n",
    "- Exploramos las columnas \n",
    "- Visualizar los nan de estas columnas\n",
    "- Corroborar que hay relacion entre el barrio/ciudad o \"place_name\" y la concatenacion de ubicacion en \"place_with_parent_names\" para ver si efectivamente corresponden o hay barrios mezclados"
   ]
  },
  {
   "cell_type": "markdown",
   "metadata": {},
   "source": [
    "- Exploramos las columnas relacionadas a la localizacion politica de los inmuebles"
   ]
  },
  {
   "cell_type": "code",
   "execution_count": null,
   "metadata": {},
   "outputs": [],
   "source": [
    "data[[\"place_with_parent_names\", \"state_name\", \"place_name\"]].describe()"
   ]
  },
  {
   "cell_type": "code",
   "execution_count": null,
   "metadata": {},
   "outputs": [],
   "source": [
    "#ubicacion por provincia\n",
    "data[\"state_name\"].value_counts() #Excludes NA values by default.\n",
    "\n",
    "#notamos que los datos estan concentrados en Buenos Aires: capital federal, GBA Norte y sur, Cordoba, Santa fe, buenos aires costa atlantica "
   ]
  },
  {
   "cell_type": "code",
   "execution_count": null,
   "metadata": {},
   "outputs": [],
   "source": [
    "#ubicacion por ciudad-partido o barrio/localidad\n",
    " \n",
    "data[\"place_name\"].value_counts().head(20)\n",
    "\n",
    "#este atributo tiene contenido ciudades principales/partidos y barrios\n",
    "#Capital federal es un registro de state_name por lo cual no broinda mayor informacion  \n",
    "#Tigre es una ciudad al norte de la ciudad de Buenos Aires.\n",
    "# Nordelta es una localidad urbana en el Partido de Tigre, Provincia de Buenos Aires \n",
    "\n",
    "#Capital Federal    1297"
   ]
  },
  {
   "cell_type": "code",
   "execution_count": null,
   "metadata": {},
   "outputs": [],
   "source": [
    "#hacemos un agrupamiento de los place_name que conforman state_name\n",
    "pd.options.display.max_rows = None\n",
    "data.groupby([\"state_name\"])[\"place_name\"].value_counts()"
   ]
  },
  {
   "cell_type": "code",
   "execution_count": null,
   "metadata": {},
   "outputs": [],
   "source": [
    "#Para state_name vemos: cuales son los datos de place_name más frecuente, su frecuencia y cuantos refistros diferentes existen \n",
    "\n",
    "data.groupby([\"state_name\"])[\"place_name\"].describe()\n",
    "\n",
    "#el atributo place_name está representado principalmente por una ciudad-partido de la provincia, también por barrios como en el\n",
    "#caso de belgrano en capital federal\n",
    "\n",
    "#count: cuenta el numero de registros no incluye null\n",
    "#unique:  número de objetos distintos en la columna,\n",
    "#top: es el dato más frecuente que se produce,\n",
    "#freq: es la cantidad de veces que aparece el objeto “top” en la columna"
   ]
  },
  {
   "cell_type": "code",
   "execution_count": null,
   "metadata": {},
   "outputs": [],
   "source": [
    "#Para el atribut place_with_parent_names vemos algunos registros ya que vimos en la descripcion que más de 1100 registros unicos \n",
    "\n",
    "data[\"place_with_parent_names\"].value_counts().head(20) \n",
    "\n",
    "#el atributo concatena las divisiones de la localizacion: pais/ \"country_name\", la provincia/ \"state_name\" (o division de la provincia),\n",
    "#  la ciudad principal/partido-municipio o barrio en el caso de capital federal\"place_name\"\n",
    "#y un adicional que puede ser una localidad del partido (ejem: |Argentina|Bs.As. G.B.A. Zona Norte|Tigre|*Nordelta*|)\n",
    "#el registro tiene entre 2  y 4 concatenaciones: 2 concantenaciones solo muestra hasta la ubicacion por provincia, no brinda informacion relevante\n",
    "\n",
    "###|Argentina|Capital Federal|  1297 no tiene nombre de barrio, desestimar o completar? \n",
    "#|Argentina|Córdoba|    2648\n",
    "\n",
    "#esta columna puede usarse para completar los datos faltantes de place_name \n",
    "#podemos chequear si el atributo \"place_name\" coincide con los datos aquí plasmados"
   ]
  },
  {
   "cell_type": "markdown",
   "metadata": {},
   "source": [
    "- Visualizar los nan de las columnas"
   ]
  },
  {
   "cell_type": "code",
   "execution_count": null,
   "metadata": {},
   "outputs": [],
   "source": [
    "# de la aplicacion del método isna().sum() en data obtuvimos la cantidad de nulos por atributo de localizacion \n",
    "# place_name                        23\n",
    "# place_with_parent_names            0\n",
    "# country_name                       0\n",
    "# state_name                         0\n",
    "\n",
    "#solo la columna place_name tiene valores nulos"
   ]
  },
  {
   "cell_type": "code",
   "execution_count": null,
   "metadata": {},
   "outputs": [],
   "source": [
    "#vemos que filas son y como podemos completarlas o no\n",
    "\n",
    "data[data.place_name.isna()].head(1)\n",
    "\n",
    "#Podemos ver que todos los registros en  de place_with_parent.. tienen un dato que no fue completado y aparece entre dos ||\n",
    "#al ser 23 datos se pueden ubicar los barrios usando las coordenadas o pueden completarse con fillna con el dato de \"Tigre\"\n",
    "#  ya que vimos en place_name que \"Tigre\" tiene 3324 registros, un valor signif\n",
    "\n",
    "#mas adelante identificaremos que filas de place_name son nan"
   ]
  },
  {
   "cell_type": "markdown",
   "metadata": {},
   "source": [
    "Visualicemos si existe relacion entre las tres columnas de ubicacion politica del dataframe"
   ]
  },
  {
   "cell_type": "code",
   "execution_count": null,
   "metadata": {},
   "outputs": [],
   "source": [
    "data.loc[:, [\"place_with_parent_names\", 'state_name', 'place_name']].sample(20)\n",
    "#aparentemente parecen coincidir"
   ]
  },
  {
   "cell_type": "code",
   "execution_count": null,
   "metadata": {},
   "outputs": [],
   "source": [
    "print(data[\"place_with_parent_names\"][4]) #ejemplo de 4 divisiones\n",
    "print(data[\"place_with_parent_names\"][121216])\n",
    "print(data[\"place_with_parent_names\"][43904]) #ejemplo de 3 divisiones\n",
    "print(data[\"place_with_parent_names\"][78457]) \n",
    "print(data[\"place_with_parent_names\"][87750]) #ejemplo de 2 divisiones\n",
    "\n",
    "#el registro con 2 concantenaciones solo muestra hasta la ubicacion por provincia, no brinda informacion relevante\n"
   ]
  },
  {
   "cell_type": "markdown",
   "metadata": {},
   "source": [
    "- Corroborar que hay relacion entre place_name (ciudad/partido/barrio)  y los registros completados en \"place_with_parent_names\" o no"
   ]
  },
  {
   "cell_type": "markdown",
   "metadata": {},
   "source": [
    "\"place_with_parent_names\" es una concatenacion de |país|provincia|ciudad-partido|localidad o barrio| \n",
    "\n",
    "\"place_name\" está representado principalmente por una ciudad-partido de la provincia y en algunos casos la localidad o el barrio\n",
    "\n",
    "De este modo, para ver la relacion de ambas columnas podemos separar en bloques con \"|\" y extraer el str asociado a la ciudad-partido y localidad o barrio. \n",
    "para que segun la los valores unicos de place_name es el ##tercer## str del bloque\n",
    "\n",
    "vemos que hay registros que solo se completó hasta la provincia como |Argentina|Córdoba|, hay que investigar un poquito si es porque la ciudad es la misma o en el caso de\n",
    "|Argentina|Capital Federal, donde vimos que en place_name se completa de nuevo con capital federal"
   ]
  },
  {
   "cell_type": "code",
   "execution_count": null,
   "metadata": {},
   "outputs": [],
   "source": [
    "#con la funcion split separamos el string completo\n",
    "data['place_with_parent_names'].apply(lambda x: len(x.split(\"|\"))) \n",
    "\n",
    "#veo como realiza la separaciones: toma el simbolo | como una separacion al principio y al final \n",
    "# 0 |Argentina|Capital Federal|Mataderos| tiene 5 sep  \n",
    "# 4 |Argentina|Buenos Aires Costa Atlántica|Mar del Plata|Centro| tiene 6 sep"
   ]
  },
  {
   "cell_type": "code",
   "execution_count": null,
   "metadata": {},
   "outputs": [],
   "source": [
    "#probando\n",
    "holis = data['place_with_parent_names'].apply(lambda x: x.lstrip(\"|\").rstrip(\"|\").split(\"|\"))\n",
    "holis.apply(lambda x: len(x)).value_counts()\n",
    "\n",
    "#aqui agrupamos la division de str por | \n",
    "# |Arg|buenos aires|tigre|nordelta||\n",
    "# y el orden de frecuencia de la cantidad str\n",
    "# 3 str \"Arg\",\"buenos aires\", \"tigre\"\n",
    "# 4 str \"Arg\",\"buenos aires\", \"tigre\", \"nordelta\"\n",
    "# 2 str \"Arg\",\"buenos aires\"\n",
    "# 5 str \"Arg\",\"buenos aires\", \"tigre\", \"nordelta\", \"x\" o \"\" ¿?"
   ]
  },
  {
   "cell_type": "code",
   "execution_count": null,
   "metadata": {},
   "outputs": [],
   "source": [
    "# Contamos la cantidad de grupos de str de cada fila de la lista place_with_parent_names\n",
    "##tengo diferencia con Luis en 5 y 6\n",
    "data['place_with_parent_names'].apply(lambda x: len(x.split(\"|\"))).value_counts()\n",
    "\n",
    "#aqui agrupamos el conteo de separaciones de\n",
    "# |Arg|buenos aires|tigre|nordelta||\n",
    "# y el orden de frecuencia\n",
    "# 4 divisiones  |Arg|buenos aires|\n",
    "#5 divisiones |Arg|buenos aires|tigre|\n",
    "#6 divisiones |Arg|buenos aires|tigre|nordelta|\n",
    "#7 divisiones |Arg|buenos aires|tigre|nordelta|x| debe existir otro dato x o doble ||"
   ]
  },
  {
   "cell_type": "code",
   "execution_count": null,
   "metadata": {},
   "outputs": [],
   "source": [
    "#vemos cuantas separaciones unicas existen\n",
    "data['place_with_parent_names'].apply(lambda x: len(x.split(\"|\"))).unique()"
   ]
  },
  {
   "cell_type": "code",
   "execution_count": null,
   "metadata": {},
   "outputs": [],
   "source": [
    "#separo el data para mejor manejo las columnas de interes ##ya lo habia hecho arriba\n",
    "df_loc_politica_only = data.loc[:, [\"place_with_parent_names\", \"state_name\", \"place_name\"]]\n",
    "df_loc_politica_only.describe()"
   ]
  },
  {
   "cell_type": "code",
   "execution_count": null,
   "metadata": {},
   "outputs": [],
   "source": []
  },
  {
   "cell_type": "markdown",
   "metadata": {},
   "source": [
    "|Argentina|Buenos Aires Costa Atlántica|Mar del Plata|Centro|\n",
    "    1               2                           3          4\n",
    "          | state_place                | place_name  |place_name|(alternativo barrio)"
   ]
  },
  {
   "cell_type": "code",
   "execution_count": null,
   "metadata": {},
   "outputs": [],
   "source": [
    "##place_with_parent_names vs state_place\n",
    "##para ver la coincidencia con la provincia me interesa el 2do str de la cadena place_with_parent y creamos una nueva columna\n",
    "sep_str_1 = 2 #esta variable es la posicion que ocupa provincia en el str de place_with_parent_names\n",
    "df_loc_politica_only['state_filt'] = df_loc_politica_only[\"place_with_parent_names\"].apply( lambda x: x.split(\"|\")[sep_str_1])\n",
    "df_loc_politica_only['state_filt'] #creamos una nueva columna con los datos extraidos de place_with_parent..."
   ]
  },
  {
   "cell_type": "code",
   "execution_count": null,
   "metadata": {},
   "outputs": [],
   "source": [
    "#comparo si el filtro de state \"state_filt\" es igual a la columna original \"state_place\"\n",
    "son_iguales_1 = df_loc_politica_only[\"state_name\"] == df_loc_politica_only[\"state_filt\"]\n",
    "son_iguales_1.value_counts()"
   ]
  },
  {
   "cell_type": "code",
   "execution_count": null,
   "metadata": {},
   "outputs": [],
   "source": [
    "# country_name (de luis)\n",
    "print(\"null values:\", df_loc_politica_only['state_name'].isna().sum())\n",
    "mask = ~df_loc_politica_only.apply(lambda x: x['state_name'] in x['place_with_parent_names'], axis=1)\n",
    "print(\"place_with_parent_names difference with state_name:\", df_loc_politica_only[mask].shape[0])"
   ]
  },
  {
   "cell_type": "code",
   "execution_count": null,
   "metadata": {},
   "outputs": [],
   "source": [
    "#no me quiere resolver\n",
    "# mask_5 = location_data['place_with_parent_names'].apply(lambda x: len(x) == 5)\n",
    "# location_data_5_elements = location_data[mask_5].copy()\n",
    "# location_data_5_elements['place_with_parent_names'][17]"
   ]
  },
  {
   "cell_type": "code",
   "execution_count": null,
   "metadata": {},
   "outputs": [],
   "source": [
    "print(df_loc_politica_only.iloc[17,0])\n",
    "print(df_loc_politica_only.iloc[17,1])\n",
    "print(df_loc_politica_only.iloc[17,2])"
   ]
  },
  {
   "cell_type": "code",
   "execution_count": null,
   "metadata": {},
   "outputs": [],
   "source": [
    "#place_with_parent_names vs place_name\n",
    "##para ver la coincidencia con ciudad/partido me interesa el 3er str que ocupa la cadena place_with_parent..\n",
    "# Al comparar con place_name pueden pasar dos cosas: 1) que no esté el dato de ciudad/partido y por consiguiente tampoco\n",
    "# el barrio (en ambos casos aqui dara celdas vacias)\n",
    "#2) que este completo y además tenga la localidad/barrio, pero el lambda no me da ese str porque hay casos donde no esta\n",
    "# ese dato y no puede correr el código (por lo que place_name debe coincidir con alguna de ellas dos ¿como lo hago?)\n",
    "\n",
    "sep_str_2 = 3 #extrae el caso 1)\n",
    "df_loc_politica_only['place_filt'] = df_loc_politica_only[\"place_with_parent_names\"].apply( lambda x: x.split(\"|\")[sep_str_2])\n",
    "df_loc_politica_only['place_filt'].value_counts()"
   ]
  },
  {
   "cell_type": "code",
   "execution_count": null,
   "metadata": {},
   "outputs": [],
   "source": [
    "df_loc_politica_only.iloc[17,:] ##doy una vista previa a la data, veo que hay algunas celdas vacias y otras que no coinciden"
   ]
  },
  {
   "cell_type": "code",
   "execution_count": null,
   "metadata": {},
   "outputs": [],
   "source": [
    "#comparo las columnas\n",
    "places_match = (df_loc_politica_only['place_filt'] == df_loc_politica_only['place_name'])\n",
    "places_match.value_counts()\n",
    "\n",
    "#hay 35193 registros donde place_name no coincide con la posicion de place_with_parent_name, esto es porque esta ultima columna\n",
    "# no está completa y porque no he sacado los datos de la cuarta posicion"
   ]
  },
  {
   "cell_type": "code",
   "execution_count": null,
   "metadata": {},
   "outputs": [],
   "source": [
    "#lo mismo que arriba pero las que son verdadera para sacar los indices\n",
    "place_no_match = (df_loc_politica_only['place_filt'] != df_loc_politica_only['place_name'])\n",
    "df_loc_politica_only_no_match = df_loc_politica_only[place_no_match]\n",
    "df_loc_politica_only_no_match.index"
   ]
  },
  {
   "cell_type": "code",
   "execution_count": null,
   "metadata": {},
   "outputs": [],
   "source": [
    "print(place_no_match.value_counts())"
   ]
  },
  {
   "cell_type": "code",
   "execution_count": null,
   "metadata": {},
   "outputs": [],
   "source": [
    "#quiero ver si place_filt tiene valores nulos\n",
    "mascara_nulos_place_filt= df_loc_politica_only.iloc[:,3].astype(str) == \"nan\"\n",
    "print(mascara_nulos_place_filt.value_counts())"
   ]
  },
  {
   "cell_type": "code",
   "execution_count": null,
   "metadata": {},
   "outputs": [],
   "source": [
    "#en la nueva columna place_filt creo una mascara para ver las celdas con registros vacios: donde place_with_parent.. no tienen localidad/barrio)\n",
    "#saco el total de casos y el index\n",
    "mascara_place_filt_vacios = df_loc_politica_only[\"place_filt\"] == \"\"\n",
    "\n",
    "print(mascara_place_filt_vacios.value_counts())\n",
    "\n",
    "#print(df_loc_politica_only[mascara_vacios])\n",
    "print(df_loc_politica_only[mascara_place_filt_vacios].index)\n",
    "\n",
    "#4780 datos vacios que le faltan completar el partido/barrio:en la columna original de place_name estos datos están compuestos\n",
    "# por el registro de state_place, por lo que dejarlos así no brindarian informacion a una relacion por localida-barrio "
   ]
  },
  {
   "cell_type": "code",
   "execution_count": null,
   "metadata": {},
   "outputs": [],
   "source": [
    "mascara_nulos = df_loc_politica_only[\"place_name\"].astype(str) == \"nan\"\n",
    "#mascara_nulos= df_loc_politica_only.iloc[:,2].astype(str) == \"nan\"\n",
    "\n",
    "#mascar_nulos\n",
    "\n",
    "print(mascara_nulos.value_counts())\n",
    "print(df_loc_politica_only[mascara_nulos].index)"
   ]
  },
  {
   "cell_type": "code",
   "execution_count": null,
   "metadata": {},
   "outputs": [],
   "source": [
    "place_no_match = (data_copy['place_filt_2'] != data_copy['place_name'])\n",
    "data_copy_no_match = data_copy[place_no_match]\n",
    "data_copy_no_match.loc[:, [\"place_with_parent_names\", 'place_name', 'place_filt_2']]\n",
    "\n",
    "#hay 35193 filas diferentes entre place_name y place_filt_2 pero posiblemnete correctas donde no he podido comparar con el 4 str y \n",
    "# contiene los datos vacios"
   ]
  },
  {
   "cell_type": "code",
   "execution_count": null,
   "metadata": {},
   "outputs": [],
   "source": []
  },
  {
   "cell_type": "code",
   "execution_count": null,
   "metadata": {},
   "outputs": [],
   "source": []
  },
  {
   "cell_type": "code",
   "execution_count": null,
   "metadata": {},
   "outputs": [],
   "source": []
  },
  {
   "cell_type": "code",
   "execution_count": null,
   "metadata": {},
   "outputs": [],
   "source": []
  },
  {
   "cell_type": "code",
   "execution_count": null,
   "metadata": {},
   "outputs": [],
   "source": []
  },
  {
   "cell_type": "code",
   "execution_count": null,
   "metadata": {},
   "outputs": [],
   "source": [
    "#no borrar\n",
    "\n",
    "#sacamos los de 4 separaciones \n",
    "data_copy = data\n",
    "#split_place_filtro = data_copy['place_with_parent_names'].apply(lambda x: len(x.split(\"|\"))!=4)\n",
    "#data_copy = data_copy.loc[split_place_filtro]"
   ]
  },
  {
   "cell_type": "code",
   "execution_count": null,
   "metadata": {},
   "outputs": [],
   "source": [
    "#extraemos la posicion donde está barrio y lo agregamos en una nueva columna >> place_filt.\n",
    "#filtramos el ##tercer## str del bloque\n",
    "sep_str = 3\n",
    "data_copy['place_filt_2'] = data_copy['place_with_parent_names'].apply( lambda x: x.split(\"|\")[sep_str])\n",
    "\n",
    "#esta no me sirve para comparar diferencias porque en realidad no puedo extraer la cuarta columna por eso me dan diferentes"
   ]
  },
  {
   "cell_type": "code",
   "execution_count": null,
   "metadata": {},
   "outputs": [],
   "source": [
    "data_copy.loc[:, [\"place_with_parent_names\", 'place_name', 'place_filt_2']].sample(20)"
   ]
  },
  {
   "cell_type": "code",
   "execution_count": null,
   "metadata": {},
   "outputs": [],
   "source": [
    "print(data[\"place_with_parent_names\"][94288]) #place_name tiene tanto nombre de ciudades como de barrios\n",
    "print(data[\"place_with_parent_names\"][66350])\n",
    "print(data[\"place_with_parent_names\"][97449])\n",
    "print(data[\"place_with_parent_names\"][21596]) "
   ]
  },
  {
   "cell_type": "code",
   "execution_count": null,
   "metadata": {},
   "outputs": [],
   "source": [
    "\n",
    "place_no_match = (data_copy['place_filt_2'] != data_copy['place_name'])\n",
    "data_copy_no_match = data_copy[place_no_match]\n",
    "data_copy_no_match.loc[:, [\"place_with_parent_names\", 'place_name', 'place_filt_2']]\n",
    "\n",
    "#hay 35193 filas diferentes entre place_name y place_filt_2 pero posiblemnete correctas donde no he podido comparar con el 4 str y \n",
    "# contiene los datos vacios"
   ]
  },
  {
   "cell_type": "code",
   "execution_count": null,
   "metadata": {},
   "outputs": [],
   "source": [
    "data_copy_no_match.index #aqui estan todos los indices de las filas que no coinciden, si quiero volver a matchear place_nam de los barrios\n",
    "# elimino los indices donde están los vaciis"
   ]
  },
  {
   "cell_type": "code",
   "execution_count": null,
   "metadata": {},
   "outputs": [],
   "source": [
    "pruebo = data_copy_no_match[\"place_filt\"] == \"\" #si contiene los vacios\n",
    "pruebo.unique()"
   ]
  },
  {
   "cell_type": "code",
   "execution_count": null,
   "metadata": {},
   "outputs": [],
   "source": [
    "pruebo.value_counts()"
   ]
  },
  {
   "cell_type": "code",
   "execution_count": null,
   "metadata": {},
   "outputs": [],
   "source": []
  },
  {
   "cell_type": "code",
   "execution_count": null,
   "metadata": {},
   "outputs": [],
   "source": [
    "#de la data original tomo la columna place_name\n",
    "extr_place_name = data.iloc[:,2].astype(str) #no me lee los nan sino lo convierto a str\n",
    "\n",
    "extr_place_name"
   ]
  },
  {
   "cell_type": "code",
   "execution_count": null,
   "metadata": {},
   "outputs": [],
   "source": [
    "masc = extr_place_name == \"nan\" #creo una mascar para saber que filas son nan\n",
    "#masc"
   ]
  },
  {
   "cell_type": "code",
   "execution_count": null,
   "metadata": {},
   "outputs": [],
   "source": [
    "filas_nan = extr_place_name[masc].index #aplico la masc y creo una variable con los indices de las filas nan\n",
    "filas_nan"
   ]
  },
  {
   "cell_type": "code",
   "execution_count": null,
   "metadata": {},
   "outputs": [],
   "source": [
    "data.loc[filas_nan, [\"place_with_parent_names\", 'state_name', 'place_name']] #visualizo los nan para ver como completarlos\n"
   ]
  },
  {
   "cell_type": "code",
   "execution_count": null,
   "metadata": {},
   "outputs": [],
   "source": [
    "import re"
   ]
  },
  {
   "cell_type": "code",
   "execution_count": null,
   "metadata": {},
   "outputs": [],
   "source": [
    "texto_tigre = data.loc[filas_nan, [\"place_with_parent_names\"]].astype(str)\n",
    "texto_tigre\n",
    "#re.findall(r'Tigre', texto_tigre)"
   ]
  },
  {
   "cell_type": "code",
   "execution_count": null,
   "metadata": {},
   "outputs": [],
   "source": [
    "import re  "
   ]
  },
  {
   "cell_type": "code",
   "execution_count": null,
   "metadata": {},
   "outputs": [],
   "source": []
  },
  {
   "cell_type": "code",
   "execution_count": null,
   "metadata": {},
   "outputs": [],
   "source": []
  },
  {
   "cell_type": "code",
   "execution_count": null,
   "metadata": {},
   "outputs": [],
   "source": [
    "\n",
    "\n"
   ]
  },
  {
   "cell_type": "code",
   "execution_count": null,
   "metadata": {},
   "outputs": [],
   "source": []
  },
  {
   "cell_type": "code",
   "execution_count": null,
   "metadata": {},
   "outputs": [],
   "source": []
  },
  {
   "cell_type": "code",
   "execution_count": null,
   "metadata": {},
   "outputs": [],
   "source": []
  },
  {
   "cell_type": "markdown",
   "metadata": {},
   "source": []
  },
  {
   "cell_type": "code",
   "execution_count": null,
   "metadata": {},
   "outputs": [],
   "source": [
    "data.iloc[121219:,]\n",
    "#podriamos comparar las columnas a ver si pasa esto de que no hay datos geor y \n",
    "#esta fila sirve si la posterior correlacion la hago con state_name/provincia"
   ]
  },
  {
   "cell_type": "code",
   "execution_count": null,
   "metadata": {},
   "outputs": [],
   "source": [
    "data[[\"description\", \"title\"]][121219:]"
   ]
  },
  {
   "cell_type": "code",
   "execution_count": null,
   "metadata": {},
   "outputs": [],
   "source": [
    "data[data.surface_total_in_m2.isna()].head(4)\n"
   ]
  },
  {
   "cell_type": "markdown",
   "metadata": {},
   "source": []
  },
  {
   "cell_type": "code",
   "execution_count": null,
   "metadata": {},
   "outputs": [],
   "source": [
    "print(data[\"description\"][121219])\n",
    "print(\"----------\")\n",
    "print(data[\"title\"][121219])"
   ]
  },
  {
   "cell_type": "code",
   "execution_count": null,
   "metadata": {},
   "outputs": [],
   "source": [
    "print(data[\"description\"][3])\n",
    "print(\"----------\")\n",
    "print(data[\"title\"][3])"
   ]
  },
  {
   "cell_type": "code",
   "execution_count": null,
   "metadata": {},
   "outputs": [],
   "source": [
    "#probar con esto"
   ]
  },
  {
   "cell_type": "code",
   "execution_count": null,
   "metadata": {},
   "outputs": [],
   "source": [
    "\n",
    "#ejemplo de pagina\n",
    "#df.apply(lambda x: x['Name'].split('|', 1)[-1] if x['Age'] > 16 and len(x['Name'].split('|',1))>1 else np.nan, axis=1)"
   ]
  },
  {
   "cell_type": "markdown",
   "metadata": {},
   "source": [
    "VAMOS CON LOS DATOS DE UBICACION GEOGRAFICA\n",
    "1. # grupos de columas para poder trabajar con ellas de forma mas sencilla\n",
    "places = ['place_name','place_with_parent_names', 'country_name','state_name']\n",
    "geolocation = ['geonames_id', 'lat-lon','lat','lon']\n",
    "\n",
    "# Creamos un nuevo dataframe con las columnas que me interesan\n",
    "geo_location_data = data[ geolocation].copy()\n",
    "geo_location_data.head()"
   ]
  },
  {
   "cell_type": "code",
   "execution_count": null,
   "metadata": {},
   "outputs": [],
   "source": [
    "# grupos de columas para poder trabajar con ellas de forma mas sencilla\n",
    "places = ['place_name','place_with_parent_names', 'country_name','state_name']\n",
    "geolocation = ['state_name','geonames_id', 'lat-lon','lat','lon']\n",
    "\n",
    "# Creamos un nuevo dataframe con las columnas que me interesan\n",
    "geo_location_data = data[ geolocation]\n",
    "geo_location_data.head()"
   ]
  },
  {
   "cell_type": "code",
   "execution_count": null,
   "metadata": {},
   "outputs": [],
   "source": [
    "geo_location_data.loc[:, [\"geonames_id\", \"lat\", 'lon', 'state_name']].head(15)\n"
   ]
  },
  {
   "cell_type": "code",
   "execution_count": null,
   "metadata": {},
   "outputs": [],
   "source": [
    "\n"
   ]
  },
  {
   "cell_type": "code",
   "execution_count": null,
   "metadata": {},
   "outputs": [],
   "source": [
    "mascara_nulos = df_loc_politica_only[\"place_name\"].astype(str) == \"nan\""
   ]
  },
  {
   "cell_type": "code",
   "execution_count": null,
   "metadata": {},
   "outputs": [],
   "source": [
    "#creo un nuevo dataframe con las columnas "
   ]
  },
  {
   "cell_type": "code",
   "execution_count": null,
   "metadata": {},
   "outputs": [],
   "source": [
    "\n",
    "#filas_geo_nans = geo_columnas[masc_geo].index\n",
    "#filas_geo_nans\n"
   ]
  }
 ],
 "metadata": {
  "kernelspec": {
   "display_name": "Python 3.10.4 ('DH_geopandas')",
   "language": "python",
   "name": "python3"
  },
  "language_info": {
   "codemirror_mode": {
    "name": "ipython",
    "version": 3
   },
   "file_extension": ".py",
   "mimetype": "text/x-python",
   "name": "python",
   "nbconvert_exporter": "python",
   "pygments_lexer": "ipython3",
   "version": "3.10.4"
  },
  "orig_nbformat": 4,
  "vscode": {
   "interpreter": {
    "hash": "ccc2d0a3504c81dc026caf32773f2f2f4469570f6fc589beb16b0e0e3d20cee5"
   }
  }
 },
 "nbformat": 4,
 "nbformat_minor": 2
}
