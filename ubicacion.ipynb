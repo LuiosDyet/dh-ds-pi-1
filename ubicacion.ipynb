{
 "cells": [
  {
   "cell_type": "code",
   "execution_count": null,
   "metadata": {},
   "outputs": [],
   "source": [
    "import pandas as pd\n",
    "import numpy as np\n",
    "import matplotlib.pyplot as plt\n",
    "import seaborn as sns"
   ]
  },
  {
   "cell_type": "code",
   "execution_count": null,
   "metadata": {},
   "outputs": [],
   "source": [
    "data = pd.read_csv(\"./data/properatti.csv\", index_col=0)\n",
    "data.shape"
   ]
  },
  {
   "cell_type": "code",
   "execution_count": null,
   "metadata": {},
   "outputs": [],
   "source": [
    "# Seteamos pandas para no truncar los valores de las columnas\n",
    "pd.set_option('display.max_colwidth', None)"
   ]
  },
  {
   "cell_type": "code",
   "execution_count": null,
   "metadata": {},
   "outputs": [],
   "source": [
    "# Definimos dos grupos de columas para poder trabajar con ellas de forma mas sencilla\n",
    "places = ['place_name','place_with_parent_names', 'country_name','state_name']\n",
    "geolocation = ['geonames_id', 'lat-lon','lat','lon']\n",
    "\n",
    "# Creamos un nuevo dataframe con las columnas que me interesan\n",
    "location_data = data[places + geolocation].copy()\n",
    "location_data.head()"
   ]
  },
  {
   "cell_type": "markdown",
   "metadata": {},
   "source": [
    "### Exploración del dataset dividido en grupos de Properatti "
   ]
  },
  {
   "cell_type": "markdown",
   "metadata": {},
   "source": [
    "##### Ubicación"
   ]
  },
  {
   "cell_type": "code",
   "execution_count": null,
   "metadata": {},
   "outputs": [],
   "source": [
    "places_data = data[places].copy()\n",
    "places_data.head()"
   ]
  },
  {
   "cell_type": "markdown",
   "metadata": {},
   "source": [
    "Exploración de las columnas relacionadas con la ubicación: Por Provincia, Ciudad/Barrio, el conjunto de ubicación \n",
    "- country_name\n",
    "- state_name \n",
    "- place_name                        \n",
    "- place_with_parent_names              \n",
    "vamos a:\n",
    "- Explorar las columnas \n",
    "- Visualizar los nan de estas columnas\n",
    "- Corroborar que hay relación entre el ciudad/barrio o \"place_name\" y la concatenación de ubicación en \"place_with_parent_names\" para ver si efectivamente corresponden o hay barrios mezclados"
   ]
  },
  {
   "cell_type": "markdown",
   "metadata": {},
   "source": [
    "- Exploramos las columnas "
   ]
  },
  {
   "cell_type": "code",
   "execution_count": null,
   "metadata": {},
   "outputs": [],
   "source": [
    "places_data.sample(10)"
   ]
  },
  {
   "cell_type": "code",
   "execution_count": null,
   "metadata": {},
   "outputs": [],
   "source": [
    "#count: cuenta el numero de registros (no incluye null)\n",
    "#unique:  número de objetos distintos en la columna,\n",
    "#top: es el dato más frecuente que se produce,\n",
    "#freq: es la cantidad de veces que aparece el objeto “top” en la columna\n",
    "\n",
    "places_data[places].describe()"
   ]
  },
  {
   "cell_type": "code",
   "execution_count": null,
   "metadata": {},
   "outputs": [],
   "source": [
    "#ubicacion por provincia \"State_name\"\n",
    "#notamos que los datos estan concentrados en Buenos Aires (Cap fed, zona norte, zona sur, oeste, atlantica, interior),\n",
    "#  Cordoba, Santa fe \n",
    "\n",
    "places_data[\"state_name\"].value_counts() #Excludes NA values by default."
   ]
  },
  {
   "cell_type": "code",
   "execution_count": null,
   "metadata": {},
   "outputs": [],
   "source": [
    "#ubicacion por ciudad-partido o barrio\n",
    " \n",
    "places_data[\"place_name\"].value_counts().head(20)\n",
    "\n",
    "#Tigre es una ciudad al norte de la ciudad de Buenos Aires.\n",
    "# Nordelta es una localidad urbana en el Partido de Tigre, Provincia de Buenos Aires \n",
    "\n",
    "##esta columna mezcla ciudades y barrios\n",
    "\n",
    "#Capital Federal está como place_name, "
   ]
  },
  {
   "cell_type": "code",
   "execution_count": null,
   "metadata": {},
   "outputs": [],
   "source": [
    "#Vemos algunos registros de place_with_parent_names\n",
    "places_data[\"place_with_parent_names\"].value_counts().head(10) \n",
    "\n",
    "#el atributo representa el país/ \"country_name\", la provincia/ \"state_name\" (o division de la provincia), la ciudad principal/partido-municipio o barrio en el caso de capital federal\"place_name\"\n",
    "#y un adicional que puede ser una localidad del partido (ejem: |Argentina|Bs.As. G.B.A. Zona Norte|Tigre|*Nordelta*|)\n",
    "#el registro tiene entre 2  y 4 concatenaciones: 2 concatenaciones solo muestra hasta la ubicación por provincia, no brinda información relevante\n",
    "\n",
    "\n",
    "###|Argentina|Capital Federal|  1297 no tiene nombre de barrio, desestimar o completar? \n",
    "#|Argentina|Córdoba|    2648\n",
    "\n",
    "#esta columna puede usarse para completar los datos faltantes de place_name \n",
    "#podemos chequear si el atributo \"place_name\" coincide con los datos aquí plasmados"
   ]
  },
  {
   "cell_type": "code",
   "execution_count": null,
   "metadata": {},
   "outputs": [],
   "source": [
    "#Para state_name vemos: cuales son los datos de place_name más frecuente, su frecuencia y cuantos registros diferentes existen \n",
    "\n",
    "places_data.groupby([\"state_name\"])[\"place_name\"].describe()\n",
    "\n",
    "#el atributo de place_name está representado principalmente por una ciudad-partido de la provincia\n",
    "\n",
    "#count: cuenta el numero de registros no incluye null\n",
    "#unique:  número de objetos distintos en la columna,\n",
    "#top: es el dato más frecuente que se produce,\n",
    "#freq: es la cantidad de veces que aparece el objeto “top” en la columna"
   ]
  },
  {
   "cell_type": "markdown",
   "metadata": {},
   "source": [
    "- Visualizar los nan de las columnas\n",
    "de aplicar la funcion isna().sum() en data obtuvimos\n",
    "place_name                        23\n",
    "place_with_parent_names            0\n",
    "country_name                       0\n",
    "state_name                         0\n",
    "\n",
    "#solo la columna place_name tiene valores nulos"
   ]
  },
  {
   "cell_type": "code",
   "execution_count": null,
   "metadata": {},
   "outputs": [],
   "source": [
    "#vemos que filas son y como podemos completarlas o no\n",
    "\n",
    "places_data[data['place_name'].isna()].head(2)\n",
    "\n",
    "#los 23 datos pueden completarse con fillna con el dato de \"Tigre\" ya que vimos en place_name que \"Tigre\" 3324, un valor significativo\n"
   ]
  },
  {
   "cell_type": "markdown",
   "metadata": {},
   "source": [
    "### Verificar la calidad de los datos:"
   ]
  },
  {
   "cell_type": "markdown",
   "metadata": {},
   "source": [
    "Para verificar la calidad de los datos principalmente vamos a comparar las columnas que deberían tener la misma información y ver si coinciden o no. Por ejemplo, la columna \"place_with_parent_names\" debería contener dentro de su array la misma información que \"place_name\". Vamos a verificar si esto es cierto o no."
   ]
  },
  {
   "cell_type": "markdown",
   "metadata": {},
   "source": [
    "#### Corroborar si place_with_parent_names coincide con country_name, state_name, place_name "
   ]
  },
  {
   "cell_type": "code",
   "execution_count": null,
   "metadata": {},
   "outputs": [],
   "source": [
    "# Convertimos la columna place_with_parent_names en una lista usando el separador \"|\"\n",
    "# Eliminamos el separador inicial y final de la lista\n",
    "places_data['place_with_parent_names'] = places_data['place_with_parent_names'].apply(lambda x: x.lstrip(\"|\").rstrip(\"|\").split(\"|\"))\n",
    "places_data['place_with_parent_names'].head()"
   ]
  },
  {
   "cell_type": "code",
   "execution_count": null,
   "metadata": {},
   "outputs": [],
   "source": [
    "# Función para chequear si los valores de la columna place_with_parent_names coinciden exactamente con \n",
    "# los valores de las columnas country_name, state_name, place_name\n",
    "# Coincidir exactamente significa que la columna place_with_parent_names sólo tiene 3 elementos \n",
    "# y que los valores de los elementos coinciden en orden con los valores de las columnas country_name, state_name, place_name\n",
    "\n",
    "def is_location_different(row):\n",
    "    # la lista debería tener 3 elementos\n",
    "    if len(row['place_with_parent_names']) != 3:\n",
    "        return True\n",
    "    if row['country_name'] == row['place_with_parent_names'][0] \\\n",
    "    and row['state_name'] == row['place_with_parent_names'][1] \\\n",
    "    and row['place_name'] == row['place_with_parent_names'][2]:\n",
    "        return False\n",
    "    else:\n",
    "        return True"
   ]
  },
  {
   "cell_type": "code",
   "execution_count": null,
   "metadata": {},
   "outputs": [],
   "source": [
    "# Creamos la mascara utilizando la función is_location_different\n",
    "mask = places_data.apply(lambda x: is_location_different(x), axis=1)\n",
    "print(\"place_with_parent_names difference with country_name, state_name and place_name:\", places_data[mask].shape[0])\n",
    "places_data[mask][places].sample(10)"
   ]
  },
  {
   "cell_type": "markdown",
   "metadata": {},
   "source": [
    "*Conclusión: Existen 45220 registros que no coinciden exactamente.* "
   ]
  },
  {
   "cell_type": "markdown",
   "metadata": {},
   "source": [
    "### Análisis de los registros que no coinciden exactamente en las columnas places\n",
    "___"
   ]
  },
  {
   "cell_type": "markdown",
   "metadata": {},
   "source": [
    "Veamos cuáles son los registros que no coinciden exactamente en las columnas places"
   ]
  },
  {
   "cell_type": "code",
   "execution_count": null,
   "metadata": {},
   "outputs": [],
   "source": [
    "# Contamos la cantidad de valores de cada fila de la lista place_with_parent_names\n",
    "places_data['place_with_parent_names'].apply(lambda x: len(x)).value_counts()"
   ]
  },
  {
   "cell_type": "markdown",
   "metadata": {},
   "source": [
    "Los que no coinciden exactamente son aquellas listas que no tienen 3 valores. Revisamos que los valores que están en cada lista tengan su contraparte en las otras columnas aunque figuren en otro orden del array. Por ejemplo, si en place_with_parent_names figura \"Argentina|Capital Federal|Palermo\" y en place_name figura \"Capital Federal\", entonces el registro para este momento del análisis se considera válido."
   ]
  },
  {
   "cell_type": "code",
   "execution_count": null,
   "metadata": {},
   "outputs": [],
   "source": [
    "# country_name\n",
    "print(\"null values:\", places_data['country_name'].isna().sum())\n",
    "mask = ~places_data.apply(lambda x: x['country_name'] in x['place_with_parent_names'], axis=1)\n",
    "print(\"place_with_parent_names difference with country_name:\", places_data[mask].shape[0])"
   ]
  },
  {
   "cell_type": "code",
   "execution_count": null,
   "metadata": {},
   "outputs": [],
   "source": [
    "# state_name\n",
    "print(\"null values:\", places_data['state_name'].isna().sum())\n",
    "mask = ~places_data.apply(lambda x: x['state_name'] in x['place_with_parent_names'], axis=1)\n",
    "print(\"place_with_parent_names difference with state_name:\", places_data[mask].shape[0])"
   ]
  },
  {
   "cell_type": "code",
   "execution_count": null,
   "metadata": {},
   "outputs": [],
   "source": [
    "# place_name\n",
    "print(\"null values:\", places_data['place_name'].isna().sum())\n",
    "mask = ~places_data.apply(lambda x: x['place_name'] in x['place_with_parent_names'], axis=1)\n",
    "print(\"place_with_parent_names difference with place_name:\", places_data[mask].shape[0])\n"
   ]
  },
  {
   "cell_type": "markdown",
   "metadata": {},
   "source": [
    "*Conclusión: La información que figura en las columnas place_name, country_name y state_name se encuentra en la columna place_with_parent_names aunque no exactamente igual (parece existir información extra) excepto en la columna 'place_name' con sus 23 NaNs que ya hemos identificado previamente.*"
   ]
  },
  {
   "cell_type": "markdown",
   "metadata": {},
   "source": [
    "A continuación analizaremos esas columnas dividiendo el trabajo en partes dependiendo de la cantidad de elementos que contenga el array de la columna \"place_with_parent_names\"."
   ]
  },
  {
   "cell_type": "markdown",
   "metadata": {},
   "source": [
    "#### Análisis de registros de place_with_parent_names con 3 valores\n",
    "___"
   ]
  },
  {
   "cell_type": "code",
   "execution_count": null,
   "metadata": {},
   "outputs": [],
   "source": [
    "# Revisamos los place_with_parent_names con tres elementos\n",
    "mask = places_data['place_with_parent_names'].apply(lambda x: len(x) == 3)\n",
    "places_data_3_elements = places_data[mask].copy()\n",
    "places_data_3_elements.shape"
   ]
  },
  {
   "cell_type": "code",
   "execution_count": null,
   "metadata": {},
   "outputs": [],
   "source": [
    "# Corroboramos que los valores de country_name, state_name y place_name coinciden con los valores de place_with_parent_names\n",
    "print(\"country_name difference with place_with_parent_names[0]:\", places_data_3_elements[places_data_3_elements['country_name'] != places_data_3_elements['place_with_parent_names'].apply(lambda x: x[0])].shape[0])\n",
    "print(\"state_name difference with place_with_parent_names[1]:\", places_data_3_elements[places_data_3_elements['state_name'] != places_data_3_elements['place_with_parent_names'].apply(lambda x: x[1])].shape[0])\n",
    "print(\"place_name difference with place_with_parent_names[2]:\", places_data_3_elements[places_data_3_elements['place_name'] != places_data_3_elements['place_with_parent_names'].apply(lambda x: x[2])].shape[0])"
   ]
  },
  {
   "cell_type": "code",
   "execution_count": null,
   "metadata": {},
   "outputs": [],
   "source": [
    "# Vemos los datos correspondientes a los valores nulos de la columna place_name\n",
    "mask = ~places_data.apply(lambda x: x['place_name'] in x['place_with_parent_names'], axis=1)\n",
    "places_data_place_name_nan = places_data[mask].copy()\n",
    "places_data_place_name_nan.head()"
   ]
  },
  {
   "cell_type": "code",
   "execution_count": null,
   "metadata": {},
   "outputs": [],
   "source": [
    "places_data_place_name_nan['place_with_parent_names'].apply(lambda x: x[2]).value_counts()"
   ]
  },
  {
   "cell_type": "markdown",
   "metadata": {},
   "source": [
    "*Conclusión: Los registros que no tienen valor en place_name son los que no coinciden, todos del municipio de Tigre. El resto de los valores son exactamente iguales*  \n",
    "\n",
    "\n",
    "\n"
   ]
  },
  {
   "cell_type": "markdown",
   "metadata": {},
   "source": [
    "#### Análisis de registros de place_with_parent_names con 4 valores\n",
    "___"
   ]
  },
  {
   "cell_type": "code",
   "execution_count": null,
   "metadata": {},
   "outputs": [],
   "source": [
    "# Revisamos los place_with_parent_names con cuatro elementos\n",
    "mask = places_data['place_with_parent_names'].apply(lambda x: len(x) == 4)\n",
    "places_data_4_elements = places_data[mask].copy()\n",
    "places_data_4_elements['place_with_parent_names'].shape\n"
   ]
  },
  {
   "cell_type": "code",
   "execution_count": null,
   "metadata": {},
   "outputs": [],
   "source": [
    "# Contamos los valores de la columna place_with_parent_names por el segundo elemento (descartamos el primero porque sabemos que siempre es Argentina)\n",
    "places_data_4_elements['place_with_parent_names'].apply(lambda x: x[1]).value_counts()\n"
   ]
  },
  {
   "cell_type": "code",
   "execution_count": null,
   "metadata": {},
   "outputs": [],
   "source": [
    "# Confirmamos que los valores de la columna place_with_parent_names[1] coinciden con los valores de la columna state_name\n",
    "mask = (places_data_4_elements['place_with_parent_names'].apply(lambda x: x[1]) != places_data_4_elements['state_name'])\n",
    "print(\"place_with_parent_names[1] difference with state_name:\", places_data_4_elements[mask].shape[0])\n"
   ]
  },
  {
   "cell_type": "code",
   "execution_count": null,
   "metadata": {},
   "outputs": [],
   "source": [
    "# Confirmamos que los valores de la columna place_with_parent_names[2] coinciden con los valores de la columna place_name\n",
    "mask = places_data_4_elements['place_with_parent_names'].apply(lambda x: x[2]) != places_data_4_elements['place_name']\n",
    "print(\"place_with_parent_names[2] difference with place_name:\", places_data_4_elements[mask].shape[0])\n",
    "print(\"place_with_parent_names[2] proportional difference with place_name:\", places_data_4_elements[mask].shape[0] / places_data_4_elements.shape[0])\n",
    "places_data_4_elements_non_matching = places_data_4_elements[mask].copy()\n",
    "places_data_4_elements_non_matching[places].sample(10)"
   ]
  },
  {
   "cell_type": "code",
   "execution_count": null,
   "metadata": {},
   "outputs": [],
   "source": [
    "# No coinciden en 29842 registros pero coinciden en el resto. \n",
    "# Confirmamos que los que coinciden son iguales al valor[3]\n",
    "mask = places_data_4_elements_non_matching['place_with_parent_names'].apply(lambda x: x[2]) == places_data_4_elements_non_matching['place_with_parent_names'].apply(lambda x: x[3])\n",
    "places_data_4_elements_non_matching[mask].shape[0]/ places_data_4_elements_non_matching.shape[0]"
   ]
  },
  {
   "cell_type": "code",
   "execution_count": null,
   "metadata": {},
   "outputs": [],
   "source": [
    "# Confirmamos que los valores de la columna place_with_parent_names[3] coinciden con los valores de la columna place_name\n",
    "mask = (places_data_4_elements['place_with_parent_names'].apply(lambda x: x[3]) != places_data_4_elements['place_name'])\n",
    "print(\"place_with_parent_names[3] difference with place_name:\", places_data_4_elements[mask].shape[0])\n",
    "anti_mask = ~mask # Los que coinciden\n",
    "places_data_4_elements[anti_mask][places].sample(10)"
   ]
  },
  {
   "cell_type": "markdown",
   "metadata": {},
   "source": [
    "*Conclusión: De los 39869 registros con 4 valores, 29842 toman el valor de place_name del 4to valor de la lista. Los 10027 restantes toman el 3er valor.*\n",
    "\n",
    "- place_name asignado a 3er valor de \"place_with_parent_names\": 10027\n",
    "- place_name asignado a 4to valor de \"place_with_parent_names\": 29842"
   ]
  },
  {
   "cell_type": "markdown",
   "metadata": {},
   "source": [
    "#### Análisis de registros de place_with_parent_names con 2 valores\n",
    "___"
   ]
  },
  {
   "cell_type": "code",
   "execution_count": null,
   "metadata": {},
   "outputs": [],
   "source": [
    "# Reviso los place_with_parent_names con dos elementos\n",
    "mask = places_data['place_with_parent_names'].apply(lambda x: len(x) == 2)\n",
    "places_data_2_elements = places_data[mask].copy()\n",
    "places_data_2_elements['place_with_parent_names'].value_counts()"
   ]
  },
  {
   "cell_type": "code",
   "execution_count": null,
   "metadata": {},
   "outputs": [],
   "source": [
    "# Reviso los place_with_parent_names de Córdoba y Capital Federal\n",
    "mask = places_data_2_elements['place_with_parent_names'].apply(lambda x: x[1] == 'Córdoba' or x[1] == 'Capital Federal')\n",
    "places_data_2_elements[mask].sample(10)"
   ]
  },
  {
   "cell_type": "code",
   "execution_count": null,
   "metadata": {},
   "outputs": [],
   "source": [
    "# Pareciera ser que todos los lugares que tienen dos elementos en place_with_parent_names repiten el nombre del estado en place_name\n",
    "# Corroboramos esto\n",
    "mask = places_data_2_elements['place_name'] != places_data_2_elements['state_name']\n",
    "places_data_2_elements[mask].shape\n"
   ]
  },
  {
   "cell_type": "markdown",
   "metadata": {},
   "source": [
    "*Conclusión: En los 4780 registros de place_with_parent_names que tienen 2 valores se utilizó state_name como place_name.*\n",
    "\n"
   ]
  },
  {
   "cell_type": "markdown",
   "metadata": {},
   "source": [
    "#### Análisis de registros de place_with_parent_names con 5 valores\n",
    "___"
   ]
  },
  {
   "cell_type": "code",
   "execution_count": null,
   "metadata": {},
   "outputs": [],
   "source": [
    "# Reviso los place_with_parent_names con 5 elementos\n",
    "mask = places_data['place_with_parent_names'].apply(lambda x: len(x) == 5)\n",
    "places_data_5_elements = places_data[mask].copy()\n",
    "places_data_5_elements['place_with_parent_names'].shape"
   ]
  },
  {
   "cell_type": "code",
   "execution_count": null,
   "metadata": {},
   "outputs": [],
   "source": [
    "# Reviso si alguno de los valores no corresponde a Nordelta\n",
    "places_data_5_elements['place_with_parent_names'].apply(lambda x: x[3] != 'Nordelta').sum()\n"
   ]
  },
  {
   "cell_type": "code",
   "execution_count": null,
   "metadata": {},
   "outputs": [],
   "source": [
    "# Corroboramos que los valores de la columna place_with_parent_names[2] coinciden con los valores de la columna place_name\n",
    "mask = (places_data_5_elements['place_with_parent_names'].apply(lambda x: x[2]) != places_data_5_elements['place_name'])\n",
    "print(\"place_with_parent_names[2] difference with place_name:\", places_data_5_elements[mask].shape[0])\n",
    "print(\"place_with_parent_names[2] proportional difference with place_name:\", places_data_5_elements[mask].shape[0] / places_data_5_elements.shape[0])\n"
   ]
  },
  {
   "cell_type": "code",
   "execution_count": null,
   "metadata": {},
   "outputs": [],
   "source": [
    "# Corroboramos que los valores de la columna place_with_parent_names[3] coinciden con los valores de la columna place_name\n",
    "mask = (places_data_5_elements['place_with_parent_names'].apply(lambda x: x[3]) != places_data_5_elements['place_name'])\n",
    "print(\"place_with_parent_names[3] difference with place_name:\", places_data_5_elements[mask].shape[0])\n",
    "print(\"place_with_parent_names[3] proportional difference with place_name:\", places_data_5_elements[mask].shape[0] / places_data_5_elements.shape[0])\n"
   ]
  },
  {
   "cell_type": "code",
   "execution_count": null,
   "metadata": {},
   "outputs": [],
   "source": [
    "# Corroboramos que los valores de la columna place_with_parent_names[4] coinciden con los valores de la columna place_name\n",
    "mask = (places_data_5_elements['place_with_parent_names'].apply(lambda x: x[4]) != places_data_5_elements['place_name'])\n",
    "print(\"place_with_parent_names[4] difference with place_name:\", places_data_5_elements[mask].shape[0])\n",
    "print(\"place_with_parent_names[4] proportional difference with place_name:\", places_data_5_elements[mask].shape[0] / places_data_5_elements.shape[0])"
   ]
  },
  {
   "cell_type": "markdown",
   "metadata": {},
   "source": [
    "*Conclusión: Los 548 registros de place_with_parent_names que tienen 5 valores son de Nordelta y el último valor se refiere al Barrio. place_name toma los valores del barrio*"
   ]
  },
  {
   "cell_type": "markdown",
   "metadata": {},
   "source": [
    "\n",
    "> ##### Conclusiones finales: \n",
    "> - Existen como máximo 5 tipos de registros en place_with_parent_names: Country, State, Municipio, Ciudad, Barrio\n",
    "> - Country y State son iguales a country_name y state_name\n",
    "> - Place_name se le asigna el valor de municipio: 76000 + 10027 = 86027\n",
    "> - Place_name se le asigna el valor de ciudad: 29842 (en  estos casos existe el valor municipio también)\n",
    "> - Place_name se le asigna el valor de barrio: 548 (en estos casos existe el valor municipio y ciudad también)\n",
    "> - Place_name se le asigna el valor de state_name: 4780 (en estos casos no existe el valor municipio y ciudad)\n",
    "> - Place_name se le asigna el valor de NaN: 23 (en estos casos existe el valor municipio y ciudad)\n",
    "> ___\n",
    "> Por lo tanto se puede concluir que para dar mayor consistencia es posible imputar place_name con el valor del municipio en las mayoría de los casos. Confrontar con geoNamesId.\n",
    "> ___\n",
    "\n",
    "\n",
    "\n",
    "\n",
    "\n",
    "\n"
   ]
  },
  {
   "cell_type": "markdown",
   "metadata": {},
   "source": [
    "## Imputación de valores de place_name\n",
    "___"
   ]
  },
  {
   "cell_type": "markdown",
   "metadata": {},
   "source": []
  }
 ],
 "metadata": {
  "kernelspec": {
   "display_name": "Python 3.10.4 ('dh')",
   "language": "python",
   "name": "python3"
  },
  "language_info": {
   "codemirror_mode": {
    "name": "ipython",
    "version": 3
   },
   "file_extension": ".py",
   "mimetype": "text/x-python",
   "name": "python",
   "nbconvert_exporter": "python",
   "pygments_lexer": "ipython3",
   "version": "3.10.4"
  },
  "orig_nbformat": 4,
  "vscode": {
   "interpreter": {
    "hash": "de0c11672bdc465268fe040a07375f6ad60f942d46756d33f7fe9e449a78b4ed"
   }
  }
 },
 "nbformat": 4,
 "nbformat_minor": 2
}
