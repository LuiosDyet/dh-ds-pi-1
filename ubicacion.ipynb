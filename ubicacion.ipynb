{
 "cells": [
  {
   "cell_type": "code",
   "execution_count": 1,
   "metadata": {},
   "outputs": [],
   "source": [
    "import pandas as pd\n",
    "import numpy as np"
   ]
  },
  {
   "cell_type": "code",
   "execution_count": 2,
   "metadata": {},
   "outputs": [
    {
     "data": {
      "text/plain": [
       "(121220, 25)"
      ]
     },
     "execution_count": 2,
     "metadata": {},
     "output_type": "execute_result"
    }
   ],
   "source": [
    "data = pd.read_csv(\"./properatti.csv\", index_col=0)\n",
    "data.shape"
   ]
  },
  {
   "cell_type": "code",
   "execution_count": 3,
   "metadata": {},
   "outputs": [],
   "source": [
    "# Seteamos pandas para no truncar los valores de las columnas\n",
    "pd.set_option('display.max_colwidth', None)"
   ]
  },
  {
   "cell_type": "code",
   "execution_count": 4,
   "metadata": {},
   "outputs": [
    {
     "data": {
      "text/html": [
       "<div>\n",
       "<style scoped>\n",
       "    .dataframe tbody tr th:only-of-type {\n",
       "        vertical-align: middle;\n",
       "    }\n",
       "\n",
       "    .dataframe tbody tr th {\n",
       "        vertical-align: top;\n",
       "    }\n",
       "\n",
       "    .dataframe thead th {\n",
       "        text-align: right;\n",
       "    }\n",
       "</style>\n",
       "<table border=\"1\" class=\"dataframe\">\n",
       "  <thead>\n",
       "    <tr style=\"text-align: right;\">\n",
       "      <th></th>\n",
       "      <th>place_name</th>\n",
       "      <th>place_with_parent_names</th>\n",
       "      <th>country_name</th>\n",
       "      <th>state_name</th>\n",
       "      <th>geonames_id</th>\n",
       "      <th>lat-lon</th>\n",
       "      <th>lat</th>\n",
       "      <th>lon</th>\n",
       "    </tr>\n",
       "  </thead>\n",
       "  <tbody>\n",
       "    <tr>\n",
       "      <th>0</th>\n",
       "      <td>Mataderos</td>\n",
       "      <td>|Argentina|Capital Federal|Mataderos|</td>\n",
       "      <td>Argentina</td>\n",
       "      <td>Capital Federal</td>\n",
       "      <td>3430787.0</td>\n",
       "      <td>-34.6618237,-58.5088387</td>\n",
       "      <td>-34.661824</td>\n",
       "      <td>-58.508839</td>\n",
       "    </tr>\n",
       "    <tr>\n",
       "      <th>1</th>\n",
       "      <td>La Plata</td>\n",
       "      <td>|Argentina|Bs.As. G.B.A. Zona Sur|La Plata|</td>\n",
       "      <td>Argentina</td>\n",
       "      <td>Bs.As. G.B.A. Zona Sur</td>\n",
       "      <td>3432039.0</td>\n",
       "      <td>-34.9038831,-57.9643295</td>\n",
       "      <td>-34.903883</td>\n",
       "      <td>-57.964330</td>\n",
       "    </tr>\n",
       "    <tr>\n",
       "      <th>2</th>\n",
       "      <td>Mataderos</td>\n",
       "      <td>|Argentina|Capital Federal|Mataderos|</td>\n",
       "      <td>Argentina</td>\n",
       "      <td>Capital Federal</td>\n",
       "      <td>3430787.0</td>\n",
       "      <td>-34.6522615,-58.5229825</td>\n",
       "      <td>-34.652262</td>\n",
       "      <td>-58.522982</td>\n",
       "    </tr>\n",
       "    <tr>\n",
       "      <th>3</th>\n",
       "      <td>Liniers</td>\n",
       "      <td>|Argentina|Capital Federal|Liniers|</td>\n",
       "      <td>Argentina</td>\n",
       "      <td>Capital Federal</td>\n",
       "      <td>3431333.0</td>\n",
       "      <td>-34.6477969,-58.5164244</td>\n",
       "      <td>-34.647797</td>\n",
       "      <td>-58.516424</td>\n",
       "    </tr>\n",
       "    <tr>\n",
       "      <th>4</th>\n",
       "      <td>Centro</td>\n",
       "      <td>|Argentina|Buenos Aires Costa Atlántica|Mar del Plata|Centro|</td>\n",
       "      <td>Argentina</td>\n",
       "      <td>Buenos Aires Costa Atlántica</td>\n",
       "      <td>3435548.0</td>\n",
       "      <td>-38.0026256,-57.5494468</td>\n",
       "      <td>-38.002626</td>\n",
       "      <td>-57.549447</td>\n",
       "    </tr>\n",
       "  </tbody>\n",
       "</table>\n",
       "</div>"
      ],
      "text/plain": [
       "  place_name                                        place_with_parent_names  \\\n",
       "0  Mataderos                          |Argentina|Capital Federal|Mataderos|   \n",
       "1   La Plata                    |Argentina|Bs.As. G.B.A. Zona Sur|La Plata|   \n",
       "2  Mataderos                          |Argentina|Capital Federal|Mataderos|   \n",
       "3    Liniers                            |Argentina|Capital Federal|Liniers|   \n",
       "4     Centro  |Argentina|Buenos Aires Costa Atlántica|Mar del Plata|Centro|   \n",
       "\n",
       "  country_name                    state_name  geonames_id  \\\n",
       "0    Argentina               Capital Federal    3430787.0   \n",
       "1    Argentina        Bs.As. G.B.A. Zona Sur    3432039.0   \n",
       "2    Argentina               Capital Federal    3430787.0   \n",
       "3    Argentina               Capital Federal    3431333.0   \n",
       "4    Argentina  Buenos Aires Costa Atlántica    3435548.0   \n",
       "\n",
       "                   lat-lon        lat        lon  \n",
       "0  -34.6618237,-58.5088387 -34.661824 -58.508839  \n",
       "1  -34.9038831,-57.9643295 -34.903883 -57.964330  \n",
       "2  -34.6522615,-58.5229825 -34.652262 -58.522982  \n",
       "3  -34.6477969,-58.5164244 -34.647797 -58.516424  \n",
       "4  -38.0026256,-57.5494468 -38.002626 -57.549447  "
      ]
     },
     "execution_count": 4,
     "metadata": {},
     "output_type": "execute_result"
    }
   ],
   "source": [
    "# Definimos dos grupos de columas para poder trabajar con ellas de forma mas sencilla\n",
    "places = ['place_name','place_with_parent_names', 'country_name','state_name']\n",
    "geolocation = ['geonames_id', 'lat-lon','lat','lon']\n",
    "\n",
    "# Creamos un nuevo dataframe con las columnas que me interesan\n",
    "location_data = data[places + geolocation].copy()\n",
    "location_data.head()"
   ]
  },
  {
   "cell_type": "markdown",
   "metadata": {},
   "source": [
    "## Corroborar si las columnas places* son exactamente iguales \n",
    "___\n",
    "\n",
    "*columnas places = ['place_name','place_with_parent_names', 'country_name','state_name']"
   ]
  },
  {
   "cell_type": "code",
   "execution_count": 5,
   "metadata": {},
   "outputs": [
    {
     "data": {
      "text/plain": [
       "0                             [Argentina, Capital Federal, Mataderos]\n",
       "1                       [Argentina, Bs.As. G.B.A. Zona Sur, La Plata]\n",
       "2                             [Argentina, Capital Federal, Mataderos]\n",
       "3                               [Argentina, Capital Federal, Liniers]\n",
       "4    [Argentina, Buenos Aires Costa Atlántica, Mar del Plata, Centro]\n",
       "Name: place_with_parent_names, dtype: object"
      ]
     },
     "execution_count": 5,
     "metadata": {},
     "output_type": "execute_result"
    }
   ],
   "source": [
    "# Convertimos la columna place_with_parent_names en una lista usando el separador \"|\"\n",
    "location_data['place_with_parent_names'] = location_data['place_with_parent_names'].apply(lambda x: x.lstrip(\"|\").rstrip(\"|\").split(\"|\"))\n",
    "location_data['place_with_parent_names'].head()"
   ]
  },
  {
   "cell_type": "code",
   "execution_count": 6,
   "metadata": {},
   "outputs": [],
   "source": [
    "# Función para chequear si los valores de la columna place_with_parent_names coinciden exactamente con \n",
    "# los valores de las columnas country_name, state_name, place_name\n",
    "\n",
    "def is_location_different(row):\n",
    "    # la lista debería tener 3 elementos\n",
    "    if len(row['place_with_parent_names']) != 3:\n",
    "        return True\n",
    "    if row['country_name'] == row['place_with_parent_names'][0] \\\n",
    "    and row['state_name'] == row['place_with_parent_names'][1] \\\n",
    "    and row['place_name'] == row['place_with_parent_names'][2]:\n",
    "        return False\n",
    "    else:\n",
    "        return True"
   ]
  },
  {
   "cell_type": "code",
   "execution_count": 7,
   "metadata": {},
   "outputs": [
    {
     "name": "stdout",
     "output_type": "stream",
     "text": [
      "place_with_parent_names difference with country_name, state_name and place_name: 45220\n"
     ]
    },
    {
     "data": {
      "text/html": [
       "<div>\n",
       "<style scoped>\n",
       "    .dataframe tbody tr th:only-of-type {\n",
       "        vertical-align: middle;\n",
       "    }\n",
       "\n",
       "    .dataframe tbody tr th {\n",
       "        vertical-align: top;\n",
       "    }\n",
       "\n",
       "    .dataframe thead th {\n",
       "        text-align: right;\n",
       "    }\n",
       "</style>\n",
       "<table border=\"1\" class=\"dataframe\">\n",
       "  <thead>\n",
       "    <tr style=\"text-align: right;\">\n",
       "      <th></th>\n",
       "      <th>place_name</th>\n",
       "      <th>place_with_parent_names</th>\n",
       "      <th>country_name</th>\n",
       "      <th>state_name</th>\n",
       "    </tr>\n",
       "  </thead>\n",
       "  <tbody>\n",
       "    <tr>\n",
       "      <th>34480</th>\n",
       "      <td>Tigre</td>\n",
       "      <td>[Argentina, Bs.As. G.B.A. Zona Norte, Tigre, Tigre]</td>\n",
       "      <td>Argentina</td>\n",
       "      <td>Bs.As. G.B.A. Zona Norte</td>\n",
       "    </tr>\n",
       "    <tr>\n",
       "      <th>37773</th>\n",
       "      <td>Barrio La Alameda</td>\n",
       "      <td>[Argentina, Bs.As. G.B.A. Zona Norte, Tigre, Nordelta, Barrio La Alameda]</td>\n",
       "      <td>Argentina</td>\n",
       "      <td>Bs.As. G.B.A. Zona Norte</td>\n",
       "    </tr>\n",
       "    <tr>\n",
       "      <th>61264</th>\n",
       "      <td>Villa Madero</td>\n",
       "      <td>[Argentina, Bs.As. G.B.A. Zona Oeste, La Matanza, Villa Madero]</td>\n",
       "      <td>Argentina</td>\n",
       "      <td>Bs.As. G.B.A. Zona Oeste</td>\n",
       "    </tr>\n",
       "    <tr>\n",
       "      <th>78396</th>\n",
       "      <td>La Plata</td>\n",
       "      <td>[Argentina, Bs.As. G.B.A. Zona Sur, La Plata, La Plata]</td>\n",
       "      <td>Argentina</td>\n",
       "      <td>Bs.As. G.B.A. Zona Sur</td>\n",
       "    </tr>\n",
       "    <tr>\n",
       "      <th>111976</th>\n",
       "      <td>Córdoba</td>\n",
       "      <td>[Argentina, Córdoba]</td>\n",
       "      <td>Argentina</td>\n",
       "      <td>Córdoba</td>\n",
       "    </tr>\n",
       "    <tr>\n",
       "      <th>68331</th>\n",
       "      <td>Banfield</td>\n",
       "      <td>[Argentina, Bs.As. G.B.A. Zona Sur, Lomas de Zamora, Banfield]</td>\n",
       "      <td>Argentina</td>\n",
       "      <td>Bs.As. G.B.A. Zona Sur</td>\n",
       "    </tr>\n",
       "    <tr>\n",
       "      <th>12215</th>\n",
       "      <td>Playa Grande</td>\n",
       "      <td>[Argentina, Buenos Aires Costa Atlántica, Mar del Plata, Playa Grande]</td>\n",
       "      <td>Argentina</td>\n",
       "      <td>Buenos Aires Costa Atlántica</td>\n",
       "    </tr>\n",
       "    <tr>\n",
       "      <th>66225</th>\n",
       "      <td>San Carlos de Bariloche</td>\n",
       "      <td>[Argentina, Río Negro, San Carlos de Bariloche, San Carlos de Bariloche]</td>\n",
       "      <td>Argentina</td>\n",
       "      <td>Río Negro</td>\n",
       "    </tr>\n",
       "    <tr>\n",
       "      <th>18757</th>\n",
       "      <td>Belén de Escobar</td>\n",
       "      <td>[Argentina, Bs.As. G.B.A. Zona Norte, Escobar, Belén de Escobar]</td>\n",
       "      <td>Argentina</td>\n",
       "      <td>Bs.As. G.B.A. Zona Norte</td>\n",
       "    </tr>\n",
       "    <tr>\n",
       "      <th>76479</th>\n",
       "      <td>Lanús</td>\n",
       "      <td>[Argentina, Bs.As. G.B.A. Zona Sur, Lanús, Lanús]</td>\n",
       "      <td>Argentina</td>\n",
       "      <td>Bs.As. G.B.A. Zona Sur</td>\n",
       "    </tr>\n",
       "  </tbody>\n",
       "</table>\n",
       "</div>"
      ],
      "text/plain": [
       "                     place_name  \\\n",
       "34480                     Tigre   \n",
       "37773         Barrio La Alameda   \n",
       "61264              Villa Madero   \n",
       "78396                  La Plata   \n",
       "111976                  Córdoba   \n",
       "68331                  Banfield   \n",
       "12215              Playa Grande   \n",
       "66225   San Carlos de Bariloche   \n",
       "18757          Belén de Escobar   \n",
       "76479                     Lanús   \n",
       "\n",
       "                                                          place_with_parent_names  \\\n",
       "34480                         [Argentina, Bs.As. G.B.A. Zona Norte, Tigre, Tigre]   \n",
       "37773   [Argentina, Bs.As. G.B.A. Zona Norte, Tigre, Nordelta, Barrio La Alameda]   \n",
       "61264             [Argentina, Bs.As. G.B.A. Zona Oeste, La Matanza, Villa Madero]   \n",
       "78396                     [Argentina, Bs.As. G.B.A. Zona Sur, La Plata, La Plata]   \n",
       "111976                                                       [Argentina, Córdoba]   \n",
       "68331              [Argentina, Bs.As. G.B.A. Zona Sur, Lomas de Zamora, Banfield]   \n",
       "12215      [Argentina, Buenos Aires Costa Atlántica, Mar del Plata, Playa Grande]   \n",
       "66225    [Argentina, Río Negro, San Carlos de Bariloche, San Carlos de Bariloche]   \n",
       "18757            [Argentina, Bs.As. G.B.A. Zona Norte, Escobar, Belén de Escobar]   \n",
       "76479                           [Argentina, Bs.As. G.B.A. Zona Sur, Lanús, Lanús]   \n",
       "\n",
       "       country_name                    state_name  \n",
       "34480     Argentina      Bs.As. G.B.A. Zona Norte  \n",
       "37773     Argentina      Bs.As. G.B.A. Zona Norte  \n",
       "61264     Argentina      Bs.As. G.B.A. Zona Oeste  \n",
       "78396     Argentina        Bs.As. G.B.A. Zona Sur  \n",
       "111976    Argentina                       Córdoba  \n",
       "68331     Argentina        Bs.As. G.B.A. Zona Sur  \n",
       "12215     Argentina  Buenos Aires Costa Atlántica  \n",
       "66225     Argentina                     Río Negro  \n",
       "18757     Argentina      Bs.As. G.B.A. Zona Norte  \n",
       "76479     Argentina        Bs.As. G.B.A. Zona Sur  "
      ]
     },
     "execution_count": 7,
     "metadata": {},
     "output_type": "execute_result"
    }
   ],
   "source": [
    "# Creamos la mascara utilizando la función is_location_different\n",
    "mask = location_data.apply(lambda x: is_location_different(x), axis=1)\n",
    "print(\"place_with_parent_names difference with country_name, state_name and place_name:\", location_data[mask].shape[0])\n",
    "location_data[mask][places].sample(10)"
   ]
  },
  {
   "cell_type": "markdown",
   "metadata": {},
   "source": [
    "*Conclusión: Existen 45220 registros que no coinciden exactamente.* "
   ]
  },
  {
   "cell_type": "markdown",
   "metadata": {},
   "source": [
    "### Análisis de los registros que no coinciden exactamente en las columnas places\n",
    "___"
   ]
  },
  {
   "cell_type": "code",
   "execution_count": 8,
   "metadata": {},
   "outputs": [
    {
     "data": {
      "text/plain": [
       "3    76023\n",
       "4    39869\n",
       "2     4780\n",
       "5      548\n",
       "Name: place_with_parent_names, dtype: int64"
      ]
     },
     "execution_count": 8,
     "metadata": {},
     "output_type": "execute_result"
    }
   ],
   "source": [
    "# Contamos la cantidad de valores de cada fila de la lista place_with_parent_names\n",
    "location_data['place_with_parent_names'].apply(lambda x: len(x)).value_counts()"
   ]
  },
  {
   "cell_type": "markdown",
   "metadata": {},
   "source": [
    "Los que no coinciden exactamente son aquellas listas que no tienen 3 valores. Revisamos que los valores que están en cada lista tengan su contraparte en las otras columnas "
   ]
  },
  {
   "cell_type": "code",
   "execution_count": 9,
   "metadata": {},
   "outputs": [
    {
     "name": "stdout",
     "output_type": "stream",
     "text": [
      "null values: 0\n",
      "place_with_parent_names difference with country_name: 0\n"
     ]
    }
   ],
   "source": [
    "# country_name\n",
    "print(\"null values:\", location_data['country_name'].isna().sum())\n",
    "mask = ~location_data.apply(lambda x: x['country_name'] in x['place_with_parent_names'], axis=1)\n",
    "print(\"place_with_parent_names difference with country_name:\", location_data[mask].shape[0])"
   ]
  },
  {
   "cell_type": "code",
   "execution_count": 10,
   "metadata": {},
   "outputs": [
    {
     "name": "stdout",
     "output_type": "stream",
     "text": [
      "null values: 0\n",
      "place_with_parent_names difference with state_name: 0\n"
     ]
    }
   ],
   "source": [
    "# state_name\n",
    "print(\"null values:\", location_data['state_name'].isna().sum())\n",
    "mask = ~location_data.apply(lambda x: x['state_name'] in x['place_with_parent_names'], axis=1)\n",
    "print(\"place_with_parent_names difference with state_name:\", location_data[mask].shape[0])"
   ]
  },
  {
   "cell_type": "code",
   "execution_count": 11,
   "metadata": {},
   "outputs": [
    {
     "name": "stdout",
     "output_type": "stream",
     "text": [
      "null values: 23\n",
      "place_with_parent_names difference with place_name: 23\n"
     ]
    }
   ],
   "source": [
    "# place_name\n",
    "print(\"null values:\", location_data['place_name'].isna().sum())\n",
    "mask = ~location_data.apply(lambda x: x['place_name'] in x['place_with_parent_names'], axis=1)\n",
    "print(\"place_with_parent_names difference with place_name:\", location_data[mask].shape[0])\n"
   ]
  },
  {
   "cell_type": "markdown",
   "metadata": {},
   "source": [
    "*Conclusión: La información que figura en las columnas place_name, country_name y state_name se encuentra en la columna place_with_parent_names aunque no exactamente igual (parece existir información extra) excepto en la columna 'place_name' con sus 23 NaNs.*"
   ]
  },
  {
   "cell_type": "markdown",
   "metadata": {},
   "source": [
    "#### Análisis de registros de place_with_parent_names con 3 valores\n",
    "___"
   ]
  },
  {
   "cell_type": "code",
   "execution_count": 12,
   "metadata": {},
   "outputs": [
    {
     "data": {
      "text/plain": [
       "(76023, 8)"
      ]
     },
     "execution_count": 12,
     "metadata": {},
     "output_type": "execute_result"
    }
   ],
   "source": [
    "# Revisamos los place_with_parent_names con tres elementos\n",
    "mask = location_data['place_with_parent_names'].apply(lambda x: len(x) == 3)\n",
    "location_data_3_elements = location_data[mask].copy()\n",
    "location_data_3_elements.shape"
   ]
  },
  {
   "cell_type": "code",
   "execution_count": 13,
   "metadata": {},
   "outputs": [
    {
     "data": {
      "text/plain": [
       "Rosario               8504\n",
       "Córdoba               6606\n",
       "Mar del Plata         6534\n",
       "Belgrano              2992\n",
       "Palermo               2885\n",
       "                      ... \n",
       "El Dorado                1\n",
       "Banda del Río Salí       1\n",
       "Tancacha                 1\n",
       "Oliveros                 1\n",
       "Malabrigo                1\n",
       "Name: place_with_parent_names, Length: 527, dtype: int64"
      ]
     },
     "execution_count": 13,
     "metadata": {},
     "output_type": "execute_result"
    }
   ],
   "source": [
    "location_data_3_elements['place_with_parent_names'].apply(lambda x: x[2]).value_counts()"
   ]
  },
  {
   "cell_type": "code",
   "execution_count": 14,
   "metadata": {},
   "outputs": [
    {
     "data": {
      "text/plain": [
       "Rosario             8504\n",
       "Córdoba             6606\n",
       "Mar del Plata       6534\n",
       "Belgrano            2992\n",
       "Palermo             2885\n",
       "Tigre               2382\n",
       "Caballito           2273\n",
       "Pilar               1860\n",
       "Villa Urquiza       1632\n",
       "Recoleta            1547\n",
       "Flores              1354\n",
       "Villa Crespo        1331\n",
       "San Telmo           1216\n",
       "Almagro             1165\n",
       "Barrio Norte        1140\n",
       "Escobar             1037\n",
       "Ituzaingó            982\n",
       "Pinamar              932\n",
       "Boedo                890\n",
       "Nuñez                778\n",
       "La Plata             767\n",
       "Punilla              713\n",
       "Balvanera            667\n",
       "Puerto Madero        647\n",
       "San Isidro           641\n",
       "San Cristobal        614\n",
       "Villa Carlos Paz     612\n",
       "Name: place_with_parent_names, dtype: int64"
      ]
     },
     "execution_count": 14,
     "metadata": {},
     "output_type": "execute_result"
    }
   ],
   "source": [
    "cities_list = location_data_3_elements['place_with_parent_names'].apply(lambda x: x[2]).value_counts() \n",
    "cities_list[cities_list > 600]"
   ]
  },
  {
   "cell_type": "code",
   "execution_count": 15,
   "metadata": {},
   "outputs": [
    {
     "data": {
      "text/plain": [
       "0"
      ]
     },
     "execution_count": 15,
     "metadata": {},
     "output_type": "execute_result"
    }
   ],
   "source": [
    "# Corroboramos que no existe el valor \"Capital Federal\" en la columna place_name\n",
    "(location_data_3_elements['place_name'] == \"Capital Federal\").sum()"
   ]
  },
  {
   "cell_type": "code",
   "execution_count": 16,
   "metadata": {},
   "outputs": [
    {
     "data": {
      "text/plain": [
       "0"
      ]
     },
     "execution_count": 16,
     "metadata": {},
     "output_type": "execute_result"
    }
   ],
   "source": [
    "# Corroboramos que no existe el valor \"Capital Federal\" en la columna place_with_parent_names[2]\n",
    "(location_data_3_elements['place_with_parent_names'].apply(lambda x: x[2] == \"Capital Federal\")).sum()"
   ]
  },
  {
   "cell_type": "code",
   "execution_count": 17,
   "metadata": {},
   "outputs": [
    {
     "data": {
      "text/plain": [
       "46179"
      ]
     },
     "execution_count": 17,
     "metadata": {},
     "output_type": "execute_result"
    }
   ],
   "source": [
    "# Datos sin el valor \"Capital Federal\" ni NaN, es decir los que place_name == municipio\n",
    "location_data_3_elements_clean_sin_cp = location_data_3_elements[~location_data_3_elements['place_name'].isna() \\\n",
    "    & (location_data_3_elements['state_name'] != \"Capital Federal\")].copy()\n",
    "location_data_3_elements_clean_sin_cp.shape[0]"
   ]
  },
  {
   "cell_type": "code",
   "execution_count": 18,
   "metadata": {},
   "outputs": [
    {
     "data": {
      "text/plain": [
       "29821"
      ]
     },
     "execution_count": 18,
     "metadata": {},
     "output_type": "execute_result"
    }
   ],
   "source": [
    "# Datos con el valor \"Capital Federal\" \n",
    "location_data_3_elements_capital = location_data_3_elements[location_data_3_elements['state_name'] == \"Capital Federal\"].copy()\n",
    "location_data_3_elements_capital.shape[0]"
   ]
  },
  {
   "cell_type": "code",
   "execution_count": 19,
   "metadata": {},
   "outputs": [
    {
     "data": {
      "text/plain": [
       "76000"
      ]
     },
     "execution_count": 19,
     "metadata": {},
     "output_type": "execute_result"
    }
   ],
   "source": [
    "# Datos sin NaN\n",
    "location_data_3_elements_clean = location_data_3_elements[~location_data_3_elements['place_name'].isna()].copy()\n",
    "location_data_3_elements_clean.shape[0]"
   ]
  },
  {
   "cell_type": "markdown",
   "metadata": {},
   "source": [
    "*Conclusión: Los registros que tienen 3 valores y por lo menos 600 entradas se utiliza el municipio como 'place_name' excepto en Capital Federal que se utiliza el barrio.*\n",
    "- place_name asignado a municipio: 46179\n",
    "- place_name asignado a Capital Federal: 29821\n",
    "- place_name asignado a municipio y Capital Federal: 76000\n",
    "- place_name asignado a NaN: 23\n"
   ]
  },
  {
   "cell_type": "code",
   "execution_count": 20,
   "metadata": {},
   "outputs": [
    {
     "data": {
      "text/html": [
       "<div>\n",
       "<style scoped>\n",
       "    .dataframe tbody tr th:only-of-type {\n",
       "        vertical-align: middle;\n",
       "    }\n",
       "\n",
       "    .dataframe tbody tr th {\n",
       "        vertical-align: top;\n",
       "    }\n",
       "\n",
       "    .dataframe thead th {\n",
       "        text-align: right;\n",
       "    }\n",
       "</style>\n",
       "<table border=\"1\" class=\"dataframe\">\n",
       "  <thead>\n",
       "    <tr style=\"text-align: right;\">\n",
       "      <th></th>\n",
       "      <th>place_name</th>\n",
       "      <th>place_with_parent_names</th>\n",
       "      <th>country_name</th>\n",
       "      <th>state_name</th>\n",
       "      <th>geonames_id</th>\n",
       "      <th>lat-lon</th>\n",
       "      <th>lat</th>\n",
       "      <th>lon</th>\n",
       "    </tr>\n",
       "  </thead>\n",
       "  <tbody>\n",
       "    <tr>\n",
       "      <th>6489</th>\n",
       "      <td>NaN</td>\n",
       "      <td>[Argentina, Bs.As. G.B.A. Zona Norte, Tigre]</td>\n",
       "      <td>Argentina</td>\n",
       "      <td>Bs.As. G.B.A. Zona Norte</td>\n",
       "      <td>NaN</td>\n",
       "      <td>-34.4008968545,-58.63809847</td>\n",
       "      <td>-34.400897</td>\n",
       "      <td>-58.638098</td>\n",
       "    </tr>\n",
       "    <tr>\n",
       "      <th>10201</th>\n",
       "      <td>NaN</td>\n",
       "      <td>[Argentina, Bs.As. G.B.A. Zona Norte, Tigre]</td>\n",
       "      <td>Argentina</td>\n",
       "      <td>Bs.As. G.B.A. Zona Norte</td>\n",
       "      <td>NaN</td>\n",
       "      <td>-34.400704,-58.638067</td>\n",
       "      <td>-34.400704</td>\n",
       "      <td>-58.638067</td>\n",
       "    </tr>\n",
       "    <tr>\n",
       "      <th>11451</th>\n",
       "      <td>NaN</td>\n",
       "      <td>[Argentina, Bs.As. G.B.A. Zona Norte, Tigre]</td>\n",
       "      <td>Argentina</td>\n",
       "      <td>Bs.As. G.B.A. Zona Norte</td>\n",
       "      <td>NaN</td>\n",
       "      <td>-34.4026880384,-58.6262613379</td>\n",
       "      <td>-34.402688</td>\n",
       "      <td>-58.626261</td>\n",
       "    </tr>\n",
       "    <tr>\n",
       "      <th>14839</th>\n",
       "      <td>NaN</td>\n",
       "      <td>[Argentina, Bs.As. G.B.A. Zona Norte, Tigre]</td>\n",
       "      <td>Argentina</td>\n",
       "      <td>Bs.As. G.B.A. Zona Norte</td>\n",
       "      <td>NaN</td>\n",
       "      <td>-34.4007994779,-58.6381735719</td>\n",
       "      <td>-34.400799</td>\n",
       "      <td>-58.638174</td>\n",
       "    </tr>\n",
       "    <tr>\n",
       "      <th>18622</th>\n",
       "      <td>NaN</td>\n",
       "      <td>[Argentina, Bs.As. G.B.A. Zona Norte, Tigre]</td>\n",
       "      <td>Argentina</td>\n",
       "      <td>Bs.As. G.B.A. Zona Norte</td>\n",
       "      <td>NaN</td>\n",
       "      <td>-34.4032781195,-58.6263503945</td>\n",
       "      <td>-34.403278</td>\n",
       "      <td>-58.626350</td>\n",
       "    </tr>\n",
       "  </tbody>\n",
       "</table>\n",
       "</div>"
      ],
      "text/plain": [
       "      place_name                       place_with_parent_names country_name  \\\n",
       "6489         NaN  [Argentina, Bs.As. G.B.A. Zona Norte, Tigre]    Argentina   \n",
       "10201        NaN  [Argentina, Bs.As. G.B.A. Zona Norte, Tigre]    Argentina   \n",
       "11451        NaN  [Argentina, Bs.As. G.B.A. Zona Norte, Tigre]    Argentina   \n",
       "14839        NaN  [Argentina, Bs.As. G.B.A. Zona Norte, Tigre]    Argentina   \n",
       "18622        NaN  [Argentina, Bs.As. G.B.A. Zona Norte, Tigre]    Argentina   \n",
       "\n",
       "                     state_name  geonames_id                        lat-lon  \\\n",
       "6489   Bs.As. G.B.A. Zona Norte          NaN    -34.4008968545,-58.63809847   \n",
       "10201  Bs.As. G.B.A. Zona Norte          NaN          -34.400704,-58.638067   \n",
       "11451  Bs.As. G.B.A. Zona Norte          NaN  -34.4026880384,-58.6262613379   \n",
       "14839  Bs.As. G.B.A. Zona Norte          NaN  -34.4007994779,-58.6381735719   \n",
       "18622  Bs.As. G.B.A. Zona Norte          NaN  -34.4032781195,-58.6263503945   \n",
       "\n",
       "             lat        lon  \n",
       "6489  -34.400897 -58.638098  \n",
       "10201 -34.400704 -58.638067  \n",
       "11451 -34.402688 -58.626261  \n",
       "14839 -34.400799 -58.638174  \n",
       "18622 -34.403278 -58.626350  "
      ]
     },
     "execution_count": 20,
     "metadata": {},
     "output_type": "execute_result"
    }
   ],
   "source": [
    "# Vemos los datos correspondientes a los valores nulos de la columna place_name\n",
    "mask = ~location_data.apply(lambda x: x['place_name'] in x['place_with_parent_names'], axis=1)\n",
    "location_data_place_name_nan = location_data[mask].copy()\n",
    "location_data_place_name_nan.head()"
   ]
  },
  {
   "cell_type": "code",
   "execution_count": 21,
   "metadata": {},
   "outputs": [
    {
     "data": {
      "text/plain": [
       "Tigre    23\n",
       "Name: place_with_parent_names, dtype: int64"
      ]
     },
     "execution_count": 21,
     "metadata": {},
     "output_type": "execute_result"
    }
   ],
   "source": [
    "location_data_place_name_nan['place_with_parent_names'].apply(lambda x: x[2]).value_counts()"
   ]
  },
  {
   "cell_type": "markdown",
   "metadata": {},
   "source": [
    "*Conclusión: Los registros que no tienen valor en place_name son los que no coinciden, todos del municipio de Tigre.*  \n",
    "\n",
    "\n",
    "\n"
   ]
  },
  {
   "cell_type": "markdown",
   "metadata": {},
   "source": [
    "#### Análisis de registros de place_with_parent_names con 4 valores\n",
    "___"
   ]
  },
  {
   "cell_type": "code",
   "execution_count": 22,
   "metadata": {},
   "outputs": [
    {
     "data": {
      "text/plain": [
       "(39869,)"
      ]
     },
     "execution_count": 22,
     "metadata": {},
     "output_type": "execute_result"
    }
   ],
   "source": [
    "# Revisamos los place_with_parent_names con cuatro elementos\n",
    "mask = location_data['place_with_parent_names'].apply(lambda x: len(x) == 4)\n",
    "location_data_4_elements = location_data[mask].copy()\n",
    "location_data_4_elements['place_with_parent_names'].shape\n"
   ]
  },
  {
   "cell_type": "code",
   "execution_count": 23,
   "metadata": {},
   "outputs": [
    {
     "data": {
      "text/plain": [
       "Bs.As. G.B.A. Zona Norte        17198\n",
       "Bs.As. G.B.A. Zona Sur          11638\n",
       "Bs.As. G.B.A. Zona Oeste         7058\n",
       "Capital Federal                  1198\n",
       "Buenos Aires Costa Atlántica     1177\n",
       "Buenos Aires Interior             962\n",
       "Río Negro                         638\n",
       "Name: place_with_parent_names, dtype: int64"
      ]
     },
     "execution_count": 23,
     "metadata": {},
     "output_type": "execute_result"
    }
   ],
   "source": [
    "# Contamos los valores de la columna place_with_parent_names por el segundo elemento (descartamos el primero porque sabemos que siempre es Argentina)\n",
    "location_data_4_elements['place_with_parent_names'].apply(lambda x: x[1]).value_counts()\n"
   ]
  },
  {
   "cell_type": "code",
   "execution_count": 24,
   "metadata": {},
   "outputs": [
    {
     "name": "stdout",
     "output_type": "stream",
     "text": [
      "place_with_parent_names[1] difference with state_name: 0\n"
     ]
    }
   ],
   "source": [
    "# Confirmamos que los valores de la columna place_with_parent_names[1] coinciden con los valores de la columna state_name\n",
    "mask = (location_data_4_elements['place_with_parent_names'].apply(lambda x: x[1]) != location_data_4_elements['state_name'])\n",
    "print(\"place_with_parent_names[1] difference with state_name:\", location_data_4_elements[mask].shape[0])\n"
   ]
  },
  {
   "cell_type": "code",
   "execution_count": 25,
   "metadata": {},
   "outputs": [
    {
     "name": "stdout",
     "output_type": "stream",
     "text": [
      "place_with_parent_names[2] difference with place_name: 29842\n",
      "place_with_parent_names[2] proportional difference with place_name: 0.7485013418947052\n"
     ]
    },
    {
     "data": {
      "text/html": [
       "<div>\n",
       "<style scoped>\n",
       "    .dataframe tbody tr th:only-of-type {\n",
       "        vertical-align: middle;\n",
       "    }\n",
       "\n",
       "    .dataframe tbody tr th {\n",
       "        vertical-align: top;\n",
       "    }\n",
       "\n",
       "    .dataframe thead th {\n",
       "        text-align: right;\n",
       "    }\n",
       "</style>\n",
       "<table border=\"1\" class=\"dataframe\">\n",
       "  <thead>\n",
       "    <tr style=\"text-align: right;\">\n",
       "      <th></th>\n",
       "      <th>place_name</th>\n",
       "      <th>place_with_parent_names</th>\n",
       "      <th>country_name</th>\n",
       "      <th>state_name</th>\n",
       "    </tr>\n",
       "  </thead>\n",
       "  <tbody>\n",
       "    <tr>\n",
       "      <th>107745</th>\n",
       "      <td>La Plata</td>\n",
       "      <td>[Argentina, Bs.As. G.B.A. Zona Sur, La Plata, La Plata]</td>\n",
       "      <td>Argentina</td>\n",
       "      <td>Bs.As. G.B.A. Zona Sur</td>\n",
       "    </tr>\n",
       "    <tr>\n",
       "      <th>40800</th>\n",
       "      <td>La Plata</td>\n",
       "      <td>[Argentina, Bs.As. G.B.A. Zona Sur, La Plata, La Plata]</td>\n",
       "      <td>Argentina</td>\n",
       "      <td>Bs.As. G.B.A. Zona Sur</td>\n",
       "    </tr>\n",
       "    <tr>\n",
       "      <th>103496</th>\n",
       "      <td>Lomas de Zamora</td>\n",
       "      <td>[Argentina, Bs.As. G.B.A. Zona Sur, Lomas de Zamora, Lomas de Zamora]</td>\n",
       "      <td>Argentina</td>\n",
       "      <td>Bs.As. G.B.A. Zona Sur</td>\n",
       "    </tr>\n",
       "    <tr>\n",
       "      <th>108441</th>\n",
       "      <td>La Plata</td>\n",
       "      <td>[Argentina, Bs.As. G.B.A. Zona Sur, La Plata, La Plata]</td>\n",
       "      <td>Argentina</td>\n",
       "      <td>Bs.As. G.B.A. Zona Sur</td>\n",
       "    </tr>\n",
       "    <tr>\n",
       "      <th>41794</th>\n",
       "      <td>San Carlos de Bariloche</td>\n",
       "      <td>[Argentina, Río Negro, San Carlos de Bariloche, San Carlos de Bariloche]</td>\n",
       "      <td>Argentina</td>\n",
       "      <td>Río Negro</td>\n",
       "    </tr>\n",
       "    <tr>\n",
       "      <th>84172</th>\n",
       "      <td>Lanús</td>\n",
       "      <td>[Argentina, Bs.As. G.B.A. Zona Sur, Lanús, Lanús]</td>\n",
       "      <td>Argentina</td>\n",
       "      <td>Bs.As. G.B.A. Zona Sur</td>\n",
       "    </tr>\n",
       "    <tr>\n",
       "      <th>375</th>\n",
       "      <td>La Plata</td>\n",
       "      <td>[Argentina, Bs.As. G.B.A. Zona Sur, La Plata, La Plata]</td>\n",
       "      <td>Argentina</td>\n",
       "      <td>Bs.As. G.B.A. Zona Sur</td>\n",
       "    </tr>\n",
       "    <tr>\n",
       "      <th>81485</th>\n",
       "      <td>Luján</td>\n",
       "      <td>[Argentina, Buenos Aires Interior, Luján, Luján]</td>\n",
       "      <td>Argentina</td>\n",
       "      <td>Buenos Aires Interior</td>\n",
       "    </tr>\n",
       "    <tr>\n",
       "      <th>17042</th>\n",
       "      <td>La Plata</td>\n",
       "      <td>[Argentina, Bs.As. G.B.A. Zona Sur, La Plata, La Plata]</td>\n",
       "      <td>Argentina</td>\n",
       "      <td>Bs.As. G.B.A. Zona Sur</td>\n",
       "    </tr>\n",
       "    <tr>\n",
       "      <th>101826</th>\n",
       "      <td>Lanús</td>\n",
       "      <td>[Argentina, Bs.As. G.B.A. Zona Sur, Lanús, Lanús]</td>\n",
       "      <td>Argentina</td>\n",
       "      <td>Bs.As. G.B.A. Zona Sur</td>\n",
       "    </tr>\n",
       "  </tbody>\n",
       "</table>\n",
       "</div>"
      ],
      "text/plain": [
       "                     place_name  \\\n",
       "107745                 La Plata   \n",
       "40800                  La Plata   \n",
       "103496          Lomas de Zamora   \n",
       "108441                 La Plata   \n",
       "41794   San Carlos de Bariloche   \n",
       "84172                     Lanús   \n",
       "375                    La Plata   \n",
       "81485                     Luján   \n",
       "17042                  La Plata   \n",
       "101826                    Lanús   \n",
       "\n",
       "                                                         place_with_parent_names  \\\n",
       "107745                   [Argentina, Bs.As. G.B.A. Zona Sur, La Plata, La Plata]   \n",
       "40800                    [Argentina, Bs.As. G.B.A. Zona Sur, La Plata, La Plata]   \n",
       "103496     [Argentina, Bs.As. G.B.A. Zona Sur, Lomas de Zamora, Lomas de Zamora]   \n",
       "108441                   [Argentina, Bs.As. G.B.A. Zona Sur, La Plata, La Plata]   \n",
       "41794   [Argentina, Río Negro, San Carlos de Bariloche, San Carlos de Bariloche]   \n",
       "84172                          [Argentina, Bs.As. G.B.A. Zona Sur, Lanús, Lanús]   \n",
       "375                      [Argentina, Bs.As. G.B.A. Zona Sur, La Plata, La Plata]   \n",
       "81485                           [Argentina, Buenos Aires Interior, Luján, Luján]   \n",
       "17042                    [Argentina, Bs.As. G.B.A. Zona Sur, La Plata, La Plata]   \n",
       "101826                         [Argentina, Bs.As. G.B.A. Zona Sur, Lanús, Lanús]   \n",
       "\n",
       "       country_name              state_name  \n",
       "107745    Argentina  Bs.As. G.B.A. Zona Sur  \n",
       "40800     Argentina  Bs.As. G.B.A. Zona Sur  \n",
       "103496    Argentina  Bs.As. G.B.A. Zona Sur  \n",
       "108441    Argentina  Bs.As. G.B.A. Zona Sur  \n",
       "41794     Argentina               Río Negro  \n",
       "84172     Argentina  Bs.As. G.B.A. Zona Sur  \n",
       "375       Argentina  Bs.As. G.B.A. Zona Sur  \n",
       "81485     Argentina   Buenos Aires Interior  \n",
       "17042     Argentina  Bs.As. G.B.A. Zona Sur  \n",
       "101826    Argentina  Bs.As. G.B.A. Zona Sur  "
      ]
     },
     "execution_count": 25,
     "metadata": {},
     "output_type": "execute_result"
    }
   ],
   "source": [
    "# Confirmamos que los valores de la columna place_with_parent_names[2] coinciden con los valores de la columna place_name\n",
    "mask = location_data_4_elements['place_with_parent_names'].apply(lambda x: x[2]) != location_data_4_elements['place_name']\n",
    "print(\"place_with_parent_names[2] difference with place_name:\", location_data_4_elements[mask].shape[0])\n",
    "print(\"place_with_parent_names[2] proportional difference with place_name:\", location_data_4_elements[mask].shape[0] / location_data_4_elements.shape[0])\n",
    "anti_mask = ~mask\n",
    "location_data_4_elements_non_matching = location_data_4_elements[anti_mask].copy()\n",
    "location_data_4_elements_non_matching[places].sample(10)"
   ]
  },
  {
   "cell_type": "code",
   "execution_count": 26,
   "metadata": {},
   "outputs": [
    {
     "data": {
      "text/plain": [
       "1.0"
      ]
     },
     "execution_count": 26,
     "metadata": {},
     "output_type": "execute_result"
    }
   ],
   "source": [
    "# No coinciden en 29842 registros pero coinciden en el resto. \n",
    "# Confirmamos que los que coinciden son iguales al valor[3]\n",
    "mask = location_data_4_elements_non_matching['place_with_parent_names'].apply(lambda x: x[2]) == location_data_4_elements_non_matching['place_with_parent_names'].apply(lambda x: x[3])\n",
    "location_data_4_elements_non_matching[mask].shape[0]/ location_data_4_elements_non_matching.shape[0]"
   ]
  },
  {
   "cell_type": "code",
   "execution_count": 27,
   "metadata": {},
   "outputs": [
    {
     "name": "stdout",
     "output_type": "stream",
     "text": [
      "place_with_parent_names[3] difference with place_name: 0\n"
     ]
    },
    {
     "data": {
      "text/html": [
       "<div>\n",
       "<style scoped>\n",
       "    .dataframe tbody tr th:only-of-type {\n",
       "        vertical-align: middle;\n",
       "    }\n",
       "\n",
       "    .dataframe tbody tr th {\n",
       "        vertical-align: top;\n",
       "    }\n",
       "\n",
       "    .dataframe thead th {\n",
       "        text-align: right;\n",
       "    }\n",
       "</style>\n",
       "<table border=\"1\" class=\"dataframe\">\n",
       "  <thead>\n",
       "    <tr style=\"text-align: right;\">\n",
       "      <th></th>\n",
       "      <th>place_name</th>\n",
       "      <th>place_with_parent_names</th>\n",
       "      <th>country_name</th>\n",
       "      <th>state_name</th>\n",
       "    </tr>\n",
       "  </thead>\n",
       "  <tbody>\n",
       "    <tr>\n",
       "      <th>19542</th>\n",
       "      <td>Chascomús</td>\n",
       "      <td>[Argentina, Buenos Aires Interior, Chascomús, Chascomús]</td>\n",
       "      <td>Argentina</td>\n",
       "      <td>Buenos Aires Interior</td>\n",
       "    </tr>\n",
       "    <tr>\n",
       "      <th>99216</th>\n",
       "      <td>San Miguel</td>\n",
       "      <td>[Argentina, Bs.As. G.B.A. Zona Norte, San Miguel, San Miguel]</td>\n",
       "      <td>Argentina</td>\n",
       "      <td>Bs.As. G.B.A. Zona Norte</td>\n",
       "    </tr>\n",
       "    <tr>\n",
       "      <th>77300</th>\n",
       "      <td>Adrogué</td>\n",
       "      <td>[Argentina, Bs.As. G.B.A. Zona Sur, Almirante Brown, Adrogué]</td>\n",
       "      <td>Argentina</td>\n",
       "      <td>Bs.As. G.B.A. Zona Sur</td>\n",
       "    </tr>\n",
       "    <tr>\n",
       "      <th>1877</th>\n",
       "      <td>Nordelta</td>\n",
       "      <td>[Argentina, Bs.As. G.B.A. Zona Norte, Tigre, Nordelta]</td>\n",
       "      <td>Argentina</td>\n",
       "      <td>Bs.As. G.B.A. Zona Norte</td>\n",
       "    </tr>\n",
       "    <tr>\n",
       "      <th>75882</th>\n",
       "      <td>Lanús</td>\n",
       "      <td>[Argentina, Bs.As. G.B.A. Zona Sur, Lanús, Lanús]</td>\n",
       "      <td>Argentina</td>\n",
       "      <td>Bs.As. G.B.A. Zona Sur</td>\n",
       "    </tr>\n",
       "    <tr>\n",
       "      <th>80489</th>\n",
       "      <td>Luján</td>\n",
       "      <td>[Argentina, Buenos Aires Interior, Luján, Luján]</td>\n",
       "      <td>Argentina</td>\n",
       "      <td>Buenos Aires Interior</td>\n",
       "    </tr>\n",
       "    <tr>\n",
       "      <th>36243</th>\n",
       "      <td>Haedo</td>\n",
       "      <td>[Argentina, Bs.As. G.B.A. Zona Oeste, Morón, Haedo]</td>\n",
       "      <td>Argentina</td>\n",
       "      <td>Bs.As. G.B.A. Zona Oeste</td>\n",
       "    </tr>\n",
       "    <tr>\n",
       "      <th>81777</th>\n",
       "      <td>Nordelta</td>\n",
       "      <td>[Argentina, Bs.As. G.B.A. Zona Norte, Tigre, Nordelta]</td>\n",
       "      <td>Argentina</td>\n",
       "      <td>Bs.As. G.B.A. Zona Norte</td>\n",
       "    </tr>\n",
       "    <tr>\n",
       "      <th>33866</th>\n",
       "      <td>Marcos Paz</td>\n",
       "      <td>[Argentina, Bs.As. G.B.A. Zona Oeste, Marcos Paz, Marcos Paz]</td>\n",
       "      <td>Argentina</td>\n",
       "      <td>Bs.As. G.B.A. Zona Oeste</td>\n",
       "    </tr>\n",
       "    <tr>\n",
       "      <th>7867</th>\n",
       "      <td>Ramos Mejía</td>\n",
       "      <td>[Argentina, Bs.As. G.B.A. Zona Oeste, La Matanza, Ramos Mejía]</td>\n",
       "      <td>Argentina</td>\n",
       "      <td>Bs.As. G.B.A. Zona Oeste</td>\n",
       "    </tr>\n",
       "  </tbody>\n",
       "</table>\n",
       "</div>"
      ],
      "text/plain": [
       "        place_name  \\\n",
       "19542    Chascomús   \n",
       "99216   San Miguel   \n",
       "77300      Adrogué   \n",
       "1877      Nordelta   \n",
       "75882        Lanús   \n",
       "80489        Luján   \n",
       "36243        Haedo   \n",
       "81777     Nordelta   \n",
       "33866   Marcos Paz   \n",
       "7867   Ramos Mejía   \n",
       "\n",
       "                                              place_with_parent_names  \\\n",
       "19542        [Argentina, Buenos Aires Interior, Chascomús, Chascomús]   \n",
       "99216   [Argentina, Bs.As. G.B.A. Zona Norte, San Miguel, San Miguel]   \n",
       "77300   [Argentina, Bs.As. G.B.A. Zona Sur, Almirante Brown, Adrogué]   \n",
       "1877           [Argentina, Bs.As. G.B.A. Zona Norte, Tigre, Nordelta]   \n",
       "75882               [Argentina, Bs.As. G.B.A. Zona Sur, Lanús, Lanús]   \n",
       "80489                [Argentina, Buenos Aires Interior, Luján, Luján]   \n",
       "36243             [Argentina, Bs.As. G.B.A. Zona Oeste, Morón, Haedo]   \n",
       "81777          [Argentina, Bs.As. G.B.A. Zona Norte, Tigre, Nordelta]   \n",
       "33866   [Argentina, Bs.As. G.B.A. Zona Oeste, Marcos Paz, Marcos Paz]   \n",
       "7867   [Argentina, Bs.As. G.B.A. Zona Oeste, La Matanza, Ramos Mejía]   \n",
       "\n",
       "      country_name                state_name  \n",
       "19542    Argentina     Buenos Aires Interior  \n",
       "99216    Argentina  Bs.As. G.B.A. Zona Norte  \n",
       "77300    Argentina    Bs.As. G.B.A. Zona Sur  \n",
       "1877     Argentina  Bs.As. G.B.A. Zona Norte  \n",
       "75882    Argentina    Bs.As. G.B.A. Zona Sur  \n",
       "80489    Argentina     Buenos Aires Interior  \n",
       "36243    Argentina  Bs.As. G.B.A. Zona Oeste  \n",
       "81777    Argentina  Bs.As. G.B.A. Zona Norte  \n",
       "33866    Argentina  Bs.As. G.B.A. Zona Oeste  \n",
       "7867     Argentina  Bs.As. G.B.A. Zona Oeste  "
      ]
     },
     "execution_count": 27,
     "metadata": {},
     "output_type": "execute_result"
    }
   ],
   "source": [
    "# Confirmamos que los valores de la columna place_with_parent_names[3] coinciden con los valores de la columna place_name\n",
    "mask = (location_data_4_elements['place_with_parent_names'].apply(lambda x: x[3]) != location_data_4_elements['place_name'])\n",
    "print(\"place_with_parent_names[3] difference with place_name:\", location_data_4_elements[mask].shape[0])\n",
    "location_data_4_elements[~mask][places].sample(10)"
   ]
  },
  {
   "cell_type": "markdown",
   "metadata": {},
   "source": [
    "*Conclusión: De los 39869 registros con 4 valores, 29842 toman el valor de place_name del 4to valor de la lista (City). Los 10027 restantes toman el 3er valor (Municipality) que está duplicado con el 4to valor (City).*\n",
    "\n",
    "- place_name asignado a municipio: 10027\n",
    "- place_name asignado a ciudad: 29842"
   ]
  },
  {
   "cell_type": "markdown",
   "metadata": {},
   "source": [
    "#### Análisis de registros de place_with_parent_names con 2 valores\n",
    "___"
   ]
  },
  {
   "cell_type": "code",
   "execution_count": 28,
   "metadata": {},
   "outputs": [
    {
     "data": {
      "text/plain": [
       "[Argentina, Córdoba]                         2648\n",
       "[Argentina, Capital Federal]                 1297\n",
       "[Argentina, Bs.As. G.B.A. Zona Norte]         222\n",
       "[Argentina, Mendoza]                          130\n",
       "[Argentina, Buenos Aires Interior]            106\n",
       "[Argentina, Tucumán]                           77\n",
       "[Argentina, Bs.As. G.B.A. Zona Oeste]          65\n",
       "[Argentina, Misiones]                          44\n",
       "[Argentina, Santa Fe]                          33\n",
       "[Argentina, Buenos Aires Costa Atlántica]      27\n",
       "[Argentina, San Luis]                          24\n",
       "[Argentina, Bs.As. G.B.A. Zona Sur]            24\n",
       "[Argentina, Salta]                             21\n",
       "[Argentina, Chubut]                            17\n",
       "[Argentina, Neuquén]                           10\n",
       "[Argentina, Río Negro]                          8\n",
       "[Argentina, San Juan]                           7\n",
       "[Argentina, Tierra Del Fuego]                   6\n",
       "[Argentina, Catamarca]                          3\n",
       "[Argentina, Santiago Del Estero]                3\n",
       "[Argentina, La Pampa]                           3\n",
       "[Argentina, Corrientes]                         2\n",
       "[Argentina, La Rioja]                           1\n",
       "[Argentina, Jujuy]                              1\n",
       "[Argentina, Chaco]                              1\n",
       "Name: place_with_parent_names, dtype: int64"
      ]
     },
     "execution_count": 28,
     "metadata": {},
     "output_type": "execute_result"
    }
   ],
   "source": [
    "# Reviso los place_with_parent_names con dos elementos\n",
    "mask = location_data['place_with_parent_names'].apply(lambda x: len(x) == 2)\n",
    "location_data_2_elements = location_data[mask].copy()\n",
    "location_data_2_elements['place_with_parent_names'].value_counts()"
   ]
  },
  {
   "cell_type": "code",
   "execution_count": 29,
   "metadata": {},
   "outputs": [
    {
     "data": {
      "text/html": [
       "<div>\n",
       "<style scoped>\n",
       "    .dataframe tbody tr th:only-of-type {\n",
       "        vertical-align: middle;\n",
       "    }\n",
       "\n",
       "    .dataframe tbody tr th {\n",
       "        vertical-align: top;\n",
       "    }\n",
       "\n",
       "    .dataframe thead th {\n",
       "        text-align: right;\n",
       "    }\n",
       "</style>\n",
       "<table border=\"1\" class=\"dataframe\">\n",
       "  <thead>\n",
       "    <tr style=\"text-align: right;\">\n",
       "      <th></th>\n",
       "      <th>place_name</th>\n",
       "      <th>place_with_parent_names</th>\n",
       "      <th>country_name</th>\n",
       "      <th>state_name</th>\n",
       "      <th>geonames_id</th>\n",
       "      <th>lat-lon</th>\n",
       "      <th>lat</th>\n",
       "      <th>lon</th>\n",
       "    </tr>\n",
       "  </thead>\n",
       "  <tbody>\n",
       "    <tr>\n",
       "      <th>1011</th>\n",
       "      <td>Córdoba</td>\n",
       "      <td>[Argentina, Córdoba]</td>\n",
       "      <td>Argentina</td>\n",
       "      <td>Córdoba</td>\n",
       "      <td>3860255.0</td>\n",
       "      <td>-31.3995242,-64.1797594</td>\n",
       "      <td>-31.399524</td>\n",
       "      <td>-64.179759</td>\n",
       "    </tr>\n",
       "    <tr>\n",
       "      <th>1023</th>\n",
       "      <td>Córdoba</td>\n",
       "      <td>[Argentina, Córdoba]</td>\n",
       "      <td>Argentina</td>\n",
       "      <td>Córdoba</td>\n",
       "      <td>3860255.0</td>\n",
       "      <td>-31.4017668,-64.1645966</td>\n",
       "      <td>-31.401767</td>\n",
       "      <td>-64.164597</td>\n",
       "    </tr>\n",
       "    <tr>\n",
       "      <th>1521</th>\n",
       "      <td>Córdoba</td>\n",
       "      <td>[Argentina, Córdoba]</td>\n",
       "      <td>Argentina</td>\n",
       "      <td>Córdoba</td>\n",
       "      <td>3860255.0</td>\n",
       "      <td>-31.411331,-64.1641959</td>\n",
       "      <td>-31.411331</td>\n",
       "      <td>-64.164196</td>\n",
       "    </tr>\n",
       "    <tr>\n",
       "      <th>3762</th>\n",
       "      <td>Córdoba</td>\n",
       "      <td>[Argentina, Córdoba]</td>\n",
       "      <td>Argentina</td>\n",
       "      <td>Córdoba</td>\n",
       "      <td>3860255.0</td>\n",
       "      <td>-31.39231682,-64.4621048</td>\n",
       "      <td>-31.392317</td>\n",
       "      <td>-64.462105</td>\n",
       "    </tr>\n",
       "    <tr>\n",
       "      <th>3763</th>\n",
       "      <td>Córdoba</td>\n",
       "      <td>[Argentina, Córdoba]</td>\n",
       "      <td>Argentina</td>\n",
       "      <td>Córdoba</td>\n",
       "      <td>3860255.0</td>\n",
       "      <td>-31.42144203,-64.49765015</td>\n",
       "      <td>-31.421442</td>\n",
       "      <td>-64.497650</td>\n",
       "    </tr>\n",
       "  </tbody>\n",
       "</table>\n",
       "</div>"
      ],
      "text/plain": [
       "     place_name place_with_parent_names country_name state_name  geonames_id  \\\n",
       "1011    Córdoba    [Argentina, Córdoba]    Argentina    Córdoba    3860255.0   \n",
       "1023    Córdoba    [Argentina, Córdoba]    Argentina    Córdoba    3860255.0   \n",
       "1521    Córdoba    [Argentina, Córdoba]    Argentina    Córdoba    3860255.0   \n",
       "3762    Córdoba    [Argentina, Córdoba]    Argentina    Córdoba    3860255.0   \n",
       "3763    Córdoba    [Argentina, Córdoba]    Argentina    Córdoba    3860255.0   \n",
       "\n",
       "                        lat-lon        lat        lon  \n",
       "1011    -31.3995242,-64.1797594 -31.399524 -64.179759  \n",
       "1023    -31.4017668,-64.1645966 -31.401767 -64.164597  \n",
       "1521     -31.411331,-64.1641959 -31.411331 -64.164196  \n",
       "3762   -31.39231682,-64.4621048 -31.392317 -64.462105  \n",
       "3763  -31.42144203,-64.49765015 -31.421442 -64.497650  "
      ]
     },
     "execution_count": 29,
     "metadata": {},
     "output_type": "execute_result"
    }
   ],
   "source": [
    "# Reviso los place_with_parent_names de Capital Federal\n",
    "mask = location_data_2_elements['place_with_parent_names'].apply(lambda x: x[1] == 'Córdoba')\n",
    "location_data_2_elements[mask].head()"
   ]
  },
  {
   "cell_type": "code",
   "execution_count": 30,
   "metadata": {},
   "outputs": [
    {
     "data": {
      "text/plain": [
       "(0, 8)"
      ]
     },
     "execution_count": 30,
     "metadata": {},
     "output_type": "execute_result"
    }
   ],
   "source": [
    "# Pareciera ser que todos los lugares que tienen dos elementos en place_with_parent_names repiten el nombre del estado en place_name\n",
    "# Corroboramos esto\n",
    "mask = location_data_2_elements['place_name'] != location_data_2_elements['state_name']\n",
    "location_data_2_elements[mask].shape\n"
   ]
  },
  {
   "cell_type": "markdown",
   "metadata": {},
   "source": [
    "*Conclusión: En los 4780 registros de place_with_parent_names que tienen 2 valores se utilizó state_name como place_name.*\n",
    "\n"
   ]
  },
  {
   "cell_type": "markdown",
   "metadata": {},
   "source": [
    "#### Análisis de registros de place_with_parent_names con 5 valores\n",
    "___"
   ]
  },
  {
   "cell_type": "code",
   "execution_count": 31,
   "metadata": {},
   "outputs": [
    {
     "data": {
      "text/plain": [
       "(548,)"
      ]
     },
     "execution_count": 31,
     "metadata": {},
     "output_type": "execute_result"
    }
   ],
   "source": [
    "# Reviso los place_with_parent_names con 5 elementos\n",
    "mask = location_data['place_with_parent_names'].apply(lambda x: len(x) == 5)\n",
    "location_data_5_elements = location_data[mask].copy()\n",
    "location_data_5_elements['place_with_parent_names'].shape"
   ]
  },
  {
   "cell_type": "code",
   "execution_count": 32,
   "metadata": {},
   "outputs": [
    {
     "data": {
      "text/plain": [
       "0"
      ]
     },
     "execution_count": 32,
     "metadata": {},
     "output_type": "execute_result"
    }
   ],
   "source": [
    "# Reviso si alguno de los valores no corresponde a Nordelta\n",
    "location_data_5_elements['place_with_parent_names'].apply(lambda x: x[3] != 'Nordelta').sum()\n"
   ]
  },
  {
   "cell_type": "code",
   "execution_count": 33,
   "metadata": {},
   "outputs": [
    {
     "name": "stdout",
     "output_type": "stream",
     "text": [
      "place_with_parent_names[2] difference with place_name: 548\n",
      "place_with_parent_names[2] proportional difference with place_name: 1.0\n"
     ]
    }
   ],
   "source": [
    "# Corroboramos que los valores de la columna place_with_parent_names[2] coinciden con los valores de la columna place_name\n",
    "mask = (location_data_5_elements['place_with_parent_names'].apply(lambda x: x[2]) != location_data_5_elements['place_name'])\n",
    "print(\"place_with_parent_names[2] difference with place_name:\", location_data_5_elements[mask].shape[0])\n",
    "print(\"place_with_parent_names[2] proportional difference with place_name:\", location_data_5_elements[mask].shape[0] / location_data_5_elements.shape[0])\n"
   ]
  },
  {
   "cell_type": "code",
   "execution_count": 34,
   "metadata": {},
   "outputs": [
    {
     "name": "stdout",
     "output_type": "stream",
     "text": [
      "place_with_parent_names[3] difference with place_name: 548\n",
      "place_with_parent_names[3] proportional difference with place_name: 1.0\n"
     ]
    }
   ],
   "source": [
    "# Corroboramos que los valores de la columna place_with_parent_names[3] coinciden con los valores de la columna place_name\n",
    "mask = (location_data_5_elements['place_with_parent_names'].apply(lambda x: x[3]) != location_data_5_elements['place_name'])\n",
    "print(\"place_with_parent_names[3] difference with place_name:\", location_data_5_elements[mask].shape[0])\n",
    "print(\"place_with_parent_names[3] proportional difference with place_name:\", location_data_5_elements[mask].shape[0] / location_data_5_elements.shape[0])\n"
   ]
  },
  {
   "cell_type": "code",
   "execution_count": 35,
   "metadata": {},
   "outputs": [
    {
     "name": "stdout",
     "output_type": "stream",
     "text": [
      "place_with_parent_names[4] difference with place_name: 0\n",
      "place_with_parent_names[4] proportional difference with place_name: 0.0\n"
     ]
    }
   ],
   "source": [
    "# Corroboramos que los valores de la columna place_with_parent_names[4] coinciden con los valores de la columna place_name\n",
    "mask = (location_data_5_elements['place_with_parent_names'].apply(lambda x: x[4]) != location_data_5_elements['place_name'])\n",
    "print(\"place_with_parent_names[4] difference with place_name:\", location_data_5_elements[mask].shape[0])\n",
    "print(\"place_with_parent_names[4] proportional difference with place_name:\", location_data_5_elements[mask].shape[0] / location_data_5_elements.shape[0])"
   ]
  },
  {
   "cell_type": "markdown",
   "metadata": {},
   "source": [
    "*Conclusión: Los 548 registros de place_with_parent_names que tienen 5 valores son de Nordelta y el último valor se refiere al Barrio. place_name toma los valores del barrio*"
   ]
  },
  {
   "cell_type": "markdown",
   "metadata": {},
   "source": [
    "\n",
    "> ##### Conclusiones finales: \n",
    "> - Existen como máximo 5 tipos de registros en place_with_parent_names: Country, State, municipio, Ciudad, Barrio\n",
    "> - Country y State son iguales a country_name y state_name\n",
    "> - Place_name se le asigna el valor de municipio: 76000 + 10027 = 86027\n",
    "> - Place_name se le asigna el valor de ciudad: 29842 (en  estos casos existe el valor municipio también)\n",
    "> - Place_name se le asigna el valor de barrio: 548 (en estos casos existe el valor municipio y ciudad también)\n",
    "> - Place_name se le asigna el valor de state_name: 4780 (en estos casos no existe el valor municipio y ciudad)\n",
    "> - Place_name se le asigna el valor de NaN: 23 (en estos casos existe el valor municipio y ciudad)\n",
    "> ___\n",
    "> Por lo tanto se puede concluir que para dar mayor consistencia es posible imputar place_name con el valor del municipio en las mayoría de los casos. Confrontar con geoNamesId.\n",
    "> ___\n",
    "\n",
    "\n",
    "\n",
    "\n",
    "\n",
    "\n"
   ]
  },
  {
   "cell_type": "markdown",
   "metadata": {},
   "source": [
    "## Imputación de valores de place_name\n",
    "___"
   ]
  },
  {
   "cell_type": "markdown",
   "metadata": {},
   "source": []
  }
 ],
 "metadata": {
  "kernelspec": {
   "display_name": "Python 3.10.4 ('dh')",
   "language": "python",
   "name": "python3"
  },
  "language_info": {
   "codemirror_mode": {
    "name": "ipython",
    "version": 3
   },
   "file_extension": ".py",
   "mimetype": "text/x-python",
   "name": "python",
   "nbconvert_exporter": "python",
   "pygments_lexer": "ipython3",
   "version": "3.10.4"
  },
  "orig_nbformat": 4,
  "vscode": {
   "interpreter": {
    "hash": "de0c11672bdc465268fe040a07375f6ad60f942d46756d33f7fe9e449a78b4ed"
   }
  }
 },
 "nbformat": 4,
 "nbformat_minor": 2
}
