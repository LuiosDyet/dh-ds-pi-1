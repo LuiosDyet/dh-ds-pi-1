{
 "cells": [
  {
   "cell_type": "code",
   "execution_count": 1,
   "metadata": {},
   "outputs": [],
   "source": [
    "import pandas as pd\n",
    "import numpy as np"
   ]
  },
  {
   "cell_type": "code",
   "execution_count": 2,
   "metadata": {},
   "outputs": [
    {
     "data": {
      "text/plain": [
       "(121220, 25)"
      ]
     },
     "execution_count": 2,
     "metadata": {},
     "output_type": "execute_result"
    }
   ],
   "source": [
    "data = pd.read_csv(\"./properatti.csv\", index_col=0)\n",
    "data.shape"
   ]
  },
  {
   "cell_type": "code",
   "execution_count": 3,
   "metadata": {},
   "outputs": [],
   "source": [
    "# setea pandas para no truncar los valores de las columnas\n",
    "pd.set_option('display.max_colwidth', None)"
   ]
  },
  {
   "cell_type": "code",
   "execution_count": 4,
   "metadata": {},
   "outputs": [
    {
     "data": {
      "text/html": [
       "<div>\n",
       "<style scoped>\n",
       "    .dataframe tbody tr th:only-of-type {\n",
       "        vertical-align: middle;\n",
       "    }\n",
       "\n",
       "    .dataframe tbody tr th {\n",
       "        vertical-align: top;\n",
       "    }\n",
       "\n",
       "    .dataframe thead th {\n",
       "        text-align: right;\n",
       "    }\n",
       "</style>\n",
       "<table border=\"1\" class=\"dataframe\">\n",
       "  <thead>\n",
       "    <tr style=\"text-align: right;\">\n",
       "      <th></th>\n",
       "      <th>place_name</th>\n",
       "      <th>place_with_parent_names</th>\n",
       "      <th>country_name</th>\n",
       "      <th>state_name</th>\n",
       "      <th>geonames_id</th>\n",
       "      <th>lat-lon</th>\n",
       "      <th>lat</th>\n",
       "      <th>lon</th>\n",
       "    </tr>\n",
       "  </thead>\n",
       "  <tbody>\n",
       "    <tr>\n",
       "      <th>0</th>\n",
       "      <td>Mataderos</td>\n",
       "      <td>|Argentina|Capital Federal|Mataderos|</td>\n",
       "      <td>Argentina</td>\n",
       "      <td>Capital Federal</td>\n",
       "      <td>3430787.0</td>\n",
       "      <td>-34.6618237,-58.5088387</td>\n",
       "      <td>-34.661824</td>\n",
       "      <td>-58.508839</td>\n",
       "    </tr>\n",
       "    <tr>\n",
       "      <th>1</th>\n",
       "      <td>La Plata</td>\n",
       "      <td>|Argentina|Bs.As. G.B.A. Zona Sur|La Plata|</td>\n",
       "      <td>Argentina</td>\n",
       "      <td>Bs.As. G.B.A. Zona Sur</td>\n",
       "      <td>3432039.0</td>\n",
       "      <td>-34.9038831,-57.9643295</td>\n",
       "      <td>-34.903883</td>\n",
       "      <td>-57.964330</td>\n",
       "    </tr>\n",
       "    <tr>\n",
       "      <th>2</th>\n",
       "      <td>Mataderos</td>\n",
       "      <td>|Argentina|Capital Federal|Mataderos|</td>\n",
       "      <td>Argentina</td>\n",
       "      <td>Capital Federal</td>\n",
       "      <td>3430787.0</td>\n",
       "      <td>-34.6522615,-58.5229825</td>\n",
       "      <td>-34.652262</td>\n",
       "      <td>-58.522982</td>\n",
       "    </tr>\n",
       "    <tr>\n",
       "      <th>3</th>\n",
       "      <td>Liniers</td>\n",
       "      <td>|Argentina|Capital Federal|Liniers|</td>\n",
       "      <td>Argentina</td>\n",
       "      <td>Capital Federal</td>\n",
       "      <td>3431333.0</td>\n",
       "      <td>-34.6477969,-58.5164244</td>\n",
       "      <td>-34.647797</td>\n",
       "      <td>-58.516424</td>\n",
       "    </tr>\n",
       "    <tr>\n",
       "      <th>4</th>\n",
       "      <td>Centro</td>\n",
       "      <td>|Argentina|Buenos Aires Costa Atlántica|Mar del Plata|Centro|</td>\n",
       "      <td>Argentina</td>\n",
       "      <td>Buenos Aires Costa Atlántica</td>\n",
       "      <td>3435548.0</td>\n",
       "      <td>-38.0026256,-57.5494468</td>\n",
       "      <td>-38.002626</td>\n",
       "      <td>-57.549447</td>\n",
       "    </tr>\n",
       "  </tbody>\n",
       "</table>\n",
       "</div>"
      ],
      "text/plain": [
       "  place_name                                        place_with_parent_names  \\\n",
       "0  Mataderos                          |Argentina|Capital Federal|Mataderos|   \n",
       "1   La Plata                    |Argentina|Bs.As. G.B.A. Zona Sur|La Plata|   \n",
       "2  Mataderos                          |Argentina|Capital Federal|Mataderos|   \n",
       "3    Liniers                            |Argentina|Capital Federal|Liniers|   \n",
       "4     Centro  |Argentina|Buenos Aires Costa Atlántica|Mar del Plata|Centro|   \n",
       "\n",
       "  country_name                    state_name  geonames_id  \\\n",
       "0    Argentina               Capital Federal    3430787.0   \n",
       "1    Argentina        Bs.As. G.B.A. Zona Sur    3432039.0   \n",
       "2    Argentina               Capital Federal    3430787.0   \n",
       "3    Argentina               Capital Federal    3431333.0   \n",
       "4    Argentina  Buenos Aires Costa Atlántica    3435548.0   \n",
       "\n",
       "                   lat-lon        lat        lon  \n",
       "0  -34.6618237,-58.5088387 -34.661824 -58.508839  \n",
       "1  -34.9038831,-57.9643295 -34.903883 -57.964330  \n",
       "2  -34.6522615,-58.5229825 -34.652262 -58.522982  \n",
       "3  -34.6477969,-58.5164244 -34.647797 -58.516424  \n",
       "4  -38.0026256,-57.5494468 -38.002626 -57.549447  "
      ]
     },
     "execution_count": 4,
     "metadata": {},
     "output_type": "execute_result"
    }
   ],
   "source": [
    "# defino dos grupos de columas para poder trabajar con ellas de forma mas sencilla\n",
    "places = ['place_name','place_with_parent_names', 'country_name','state_name']\n",
    "geolocation = ['geonames_id', 'lat-lon','lat','lon']\n",
    "\n",
    "# creo un nuevo dataframe con las columnas que me interesan\n",
    "location_data = data[places + geolocation].copy()\n",
    "location_data.head()"
   ]
  },
  {
   "cell_type": "markdown",
   "metadata": {},
   "source": [
    "#### Corroborar si place_with_parent_names coincide con country_name, state_name, place_name "
   ]
  },
  {
   "cell_type": "code",
   "execution_count": 5,
   "metadata": {},
   "outputs": [
    {
     "data": {
      "text/plain": [
       "0                             [Argentina, Capital Federal, Mataderos]\n",
       "1                       [Argentina, Bs.As. G.B.A. Zona Sur, La Plata]\n",
       "2                             [Argentina, Capital Federal, Mataderos]\n",
       "3                               [Argentina, Capital Federal, Liniers]\n",
       "4    [Argentina, Buenos Aires Costa Atlántica, Mar del Plata, Centro]\n",
       "Name: place_with_parent_names, dtype: object"
      ]
     },
     "execution_count": 5,
     "metadata": {},
     "output_type": "execute_result"
    }
   ],
   "source": [
    "# convierte la columna plase_with_parent_names en una lista usando el separador \"|\"\n",
    "location_data['place_with_parent_names'] = location_data['place_with_parent_names'].apply(lambda x: x.lstrip(\"|\").rstrip(\"|\").split(\"|\"))\n",
    "location_data['place_with_parent_names'].head()"
   ]
  },
  {
   "cell_type": "code",
   "execution_count": 6,
   "metadata": {},
   "outputs": [],
   "source": [
    "# funcion para chequear si los valores de la columna place_with_parent_names coinciden con \n",
    "# los valores de las columnas country_name, state_name, place_name\n",
    "\n",
    "def is_location_different(row):\n",
    "    # la lista debería tener 3 elementos\n",
    "    if len(row['place_with_parent_names']) != 3:\n",
    "        return True\n",
    "    if row['country_name'] == row['place_with_parent_names'][0] \\\n",
    "    and row['state_name'] == row['place_with_parent_names'][1] \\\n",
    "    and row['place_name'] == row['place_with_parent_names'][2]:\n",
    "        return False\n",
    "    else:\n",
    "        return True"
   ]
  },
  {
   "cell_type": "code",
   "execution_count": 7,
   "metadata": {},
   "outputs": [
    {
     "name": "stdout",
     "output_type": "stream",
     "text": [
      "place_with_parent_names difference with country_name, state_name and place_name: 45220\n"
     ]
    },
    {
     "data": {
      "text/html": [
       "<div>\n",
       "<style scoped>\n",
       "    .dataframe tbody tr th:only-of-type {\n",
       "        vertical-align: middle;\n",
       "    }\n",
       "\n",
       "    .dataframe tbody tr th {\n",
       "        vertical-align: top;\n",
       "    }\n",
       "\n",
       "    .dataframe thead th {\n",
       "        text-align: right;\n",
       "    }\n",
       "</style>\n",
       "<table border=\"1\" class=\"dataframe\">\n",
       "  <thead>\n",
       "    <tr style=\"text-align: right;\">\n",
       "      <th></th>\n",
       "      <th>place_name</th>\n",
       "      <th>place_with_parent_names</th>\n",
       "      <th>country_name</th>\n",
       "      <th>state_name</th>\n",
       "    </tr>\n",
       "  </thead>\n",
       "  <tbody>\n",
       "    <tr>\n",
       "      <th>4</th>\n",
       "      <td>Centro</td>\n",
       "      <td>[Argentina, Buenos Aires Costa Atlántica, Mar del Plata, Centro]</td>\n",
       "      <td>Argentina</td>\n",
       "      <td>Buenos Aires Costa Atlántica</td>\n",
       "    </tr>\n",
       "    <tr>\n",
       "      <th>6</th>\n",
       "      <td>Munro</td>\n",
       "      <td>[Argentina, Bs.As. G.B.A. Zona Norte, Vicente López, Munro]</td>\n",
       "      <td>Argentina</td>\n",
       "      <td>Bs.As. G.B.A. Zona Norte</td>\n",
       "    </tr>\n",
       "    <tr>\n",
       "      <th>12</th>\n",
       "      <td>Martínez</td>\n",
       "      <td>[Argentina, Bs.As. G.B.A. Zona Norte, San Isidro, Martínez]</td>\n",
       "      <td>Argentina</td>\n",
       "      <td>Bs.As. G.B.A. Zona Norte</td>\n",
       "    </tr>\n",
       "    <tr>\n",
       "      <th>13</th>\n",
       "      <td>Palermo Soho</td>\n",
       "      <td>[Argentina, Capital Federal, Palermo, Palermo Soho]</td>\n",
       "      <td>Argentina</td>\n",
       "      <td>Capital Federal</td>\n",
       "    </tr>\n",
       "    <tr>\n",
       "      <th>14</th>\n",
       "      <td>Palermo Soho</td>\n",
       "      <td>[Argentina, Capital Federal, Palermo, Palermo Soho]</td>\n",
       "      <td>Argentina</td>\n",
       "      <td>Capital Federal</td>\n",
       "    </tr>\n",
       "  </tbody>\n",
       "</table>\n",
       "</div>"
      ],
      "text/plain": [
       "      place_name  \\\n",
       "4         Centro   \n",
       "6          Munro   \n",
       "12      Martínez   \n",
       "13  Palermo Soho   \n",
       "14  Palermo Soho   \n",
       "\n",
       "                                             place_with_parent_names  \\\n",
       "4   [Argentina, Buenos Aires Costa Atlántica, Mar del Plata, Centro]   \n",
       "6        [Argentina, Bs.As. G.B.A. Zona Norte, Vicente López, Munro]   \n",
       "12       [Argentina, Bs.As. G.B.A. Zona Norte, San Isidro, Martínez]   \n",
       "13               [Argentina, Capital Federal, Palermo, Palermo Soho]   \n",
       "14               [Argentina, Capital Federal, Palermo, Palermo Soho]   \n",
       "\n",
       "   country_name                    state_name  \n",
       "4     Argentina  Buenos Aires Costa Atlántica  \n",
       "6     Argentina      Bs.As. G.B.A. Zona Norte  \n",
       "12    Argentina      Bs.As. G.B.A. Zona Norte  \n",
       "13    Argentina               Capital Federal  \n",
       "14    Argentina               Capital Federal  "
      ]
     },
     "execution_count": 7,
     "metadata": {},
     "output_type": "execute_result"
    }
   ],
   "source": [
    "# crea la mascara utilizando la función is_location_different\n",
    "mask = location_data.apply(lambda x: is_location_different(x), axis=1)\n",
    "print(\"place_with_parent_names difference with country_name, state_name and place_name:\", location_data[mask].shape[0])\n",
    "location_data[mask][places].head()"
   ]
  },
  {
   "cell_type": "markdown",
   "metadata": {},
   "source": [
    "Existen 45220 registros que no coinciden exactamente. "
   ]
  },
  {
   "cell_type": "code",
   "execution_count": 8,
   "metadata": {},
   "outputs": [
    {
     "data": {
      "text/plain": [
       "3    76023\n",
       "4    39869\n",
       "2     4780\n",
       "5      548\n",
       "Name: place_with_parent_names, dtype: int64"
      ]
     },
     "execution_count": 8,
     "metadata": {},
     "output_type": "execute_result"
    }
   ],
   "source": [
    "# cuenta la cantidad de valores de cada fila de la lista place_with_parent_names\n",
    "location_data['place_with_parent_names'].apply(lambda x: len(x)).value_counts()"
   ]
  },
  {
   "cell_type": "markdown",
   "metadata": {},
   "source": [
    "Los que no coinciden exactamente son aquellas lsita que no tienen 3 valores. Primero revisamos que los valores que están en cada lista tengan su contraparte en las otras columnas "
   ]
  },
  {
   "cell_type": "code",
   "execution_count": 9,
   "metadata": {},
   "outputs": [
    {
     "name": "stdout",
     "output_type": "stream",
     "text": [
      "null values: 0\n",
      "place_with_parent_names difference with country_name: 0\n"
     ]
    }
   ],
   "source": [
    "# country_name\n",
    "print(\"null values:\", location_data['country_name'].isna().sum())\n",
    "mask = ~location_data.apply(lambda x: x['country_name'] in x['place_with_parent_names'], axis=1)\n",
    "print(\"place_with_parent_names difference with country_name:\", location_data[mask].shape[0])"
   ]
  },
  {
   "cell_type": "code",
   "execution_count": 10,
   "metadata": {},
   "outputs": [
    {
     "name": "stdout",
     "output_type": "stream",
     "text": [
      "null values: 0\n",
      "place_with_parent_names difference with state_name: 0\n"
     ]
    }
   ],
   "source": [
    "# state_name\n",
    "print(\"null values:\", location_data['state_name'].isna().sum())\n",
    "mask = ~location_data.apply(lambda x: x['state_name'] in x['place_with_parent_names'], axis=1)\n",
    "print(\"place_with_parent_names difference with state_name:\", location_data[mask].shape[0])"
   ]
  },
  {
   "cell_type": "code",
   "execution_count": 11,
   "metadata": {},
   "outputs": [
    {
     "name": "stdout",
     "output_type": "stream",
     "text": [
      "null values: 23\n"
     ]
    },
    {
     "data": {
      "text/html": [
       "<div>\n",
       "<style scoped>\n",
       "    .dataframe tbody tr th:only-of-type {\n",
       "        vertical-align: middle;\n",
       "    }\n",
       "\n",
       "    .dataframe tbody tr th {\n",
       "        vertical-align: top;\n",
       "    }\n",
       "\n",
       "    .dataframe thead th {\n",
       "        text-align: right;\n",
       "    }\n",
       "</style>\n",
       "<table border=\"1\" class=\"dataframe\">\n",
       "  <thead>\n",
       "    <tr style=\"text-align: right;\">\n",
       "      <th></th>\n",
       "      <th>place_name</th>\n",
       "      <th>place_with_parent_names</th>\n",
       "      <th>country_name</th>\n",
       "      <th>state_name</th>\n",
       "      <th>geonames_id</th>\n",
       "      <th>lat-lon</th>\n",
       "      <th>lat</th>\n",
       "      <th>lon</th>\n",
       "    </tr>\n",
       "  </thead>\n",
       "  <tbody>\n",
       "    <tr>\n",
       "      <th>6489</th>\n",
       "      <td>NaN</td>\n",
       "      <td>[Argentina, Bs.As. G.B.A. Zona Norte, Tigre]</td>\n",
       "      <td>Argentina</td>\n",
       "      <td>Bs.As. G.B.A. Zona Norte</td>\n",
       "      <td>NaN</td>\n",
       "      <td>-34.4008968545,-58.63809847</td>\n",
       "      <td>-34.400897</td>\n",
       "      <td>-58.638098</td>\n",
       "    </tr>\n",
       "    <tr>\n",
       "      <th>10201</th>\n",
       "      <td>NaN</td>\n",
       "      <td>[Argentina, Bs.As. G.B.A. Zona Norte, Tigre]</td>\n",
       "      <td>Argentina</td>\n",
       "      <td>Bs.As. G.B.A. Zona Norte</td>\n",
       "      <td>NaN</td>\n",
       "      <td>-34.400704,-58.638067</td>\n",
       "      <td>-34.400704</td>\n",
       "      <td>-58.638067</td>\n",
       "    </tr>\n",
       "    <tr>\n",
       "      <th>11451</th>\n",
       "      <td>NaN</td>\n",
       "      <td>[Argentina, Bs.As. G.B.A. Zona Norte, Tigre]</td>\n",
       "      <td>Argentina</td>\n",
       "      <td>Bs.As. G.B.A. Zona Norte</td>\n",
       "      <td>NaN</td>\n",
       "      <td>-34.4026880384,-58.6262613379</td>\n",
       "      <td>-34.402688</td>\n",
       "      <td>-58.626261</td>\n",
       "    </tr>\n",
       "    <tr>\n",
       "      <th>14839</th>\n",
       "      <td>NaN</td>\n",
       "      <td>[Argentina, Bs.As. G.B.A. Zona Norte, Tigre]</td>\n",
       "      <td>Argentina</td>\n",
       "      <td>Bs.As. G.B.A. Zona Norte</td>\n",
       "      <td>NaN</td>\n",
       "      <td>-34.4007994779,-58.6381735719</td>\n",
       "      <td>-34.400799</td>\n",
       "      <td>-58.638174</td>\n",
       "    </tr>\n",
       "    <tr>\n",
       "      <th>18622</th>\n",
       "      <td>NaN</td>\n",
       "      <td>[Argentina, Bs.As. G.B.A. Zona Norte, Tigre]</td>\n",
       "      <td>Argentina</td>\n",
       "      <td>Bs.As. G.B.A. Zona Norte</td>\n",
       "      <td>NaN</td>\n",
       "      <td>-34.4032781195,-58.6263503945</td>\n",
       "      <td>-34.403278</td>\n",
       "      <td>-58.626350</td>\n",
       "    </tr>\n",
       "  </tbody>\n",
       "</table>\n",
       "</div>"
      ],
      "text/plain": [
       "      place_name                       place_with_parent_names country_name  \\\n",
       "6489         NaN  [Argentina, Bs.As. G.B.A. Zona Norte, Tigre]    Argentina   \n",
       "10201        NaN  [Argentina, Bs.As. G.B.A. Zona Norte, Tigre]    Argentina   \n",
       "11451        NaN  [Argentina, Bs.As. G.B.A. Zona Norte, Tigre]    Argentina   \n",
       "14839        NaN  [Argentina, Bs.As. G.B.A. Zona Norte, Tigre]    Argentina   \n",
       "18622        NaN  [Argentina, Bs.As. G.B.A. Zona Norte, Tigre]    Argentina   \n",
       "\n",
       "                     state_name  geonames_id                        lat-lon  \\\n",
       "6489   Bs.As. G.B.A. Zona Norte          NaN    -34.4008968545,-58.63809847   \n",
       "10201  Bs.As. G.B.A. Zona Norte          NaN          -34.400704,-58.638067   \n",
       "11451  Bs.As. G.B.A. Zona Norte          NaN  -34.4026880384,-58.6262613379   \n",
       "14839  Bs.As. G.B.A. Zona Norte          NaN  -34.4007994779,-58.6381735719   \n",
       "18622  Bs.As. G.B.A. Zona Norte          NaN  -34.4032781195,-58.6263503945   \n",
       "\n",
       "             lat        lon  \n",
       "6489  -34.400897 -58.638098  \n",
       "10201 -34.400704 -58.638067  \n",
       "11451 -34.402688 -58.626261  \n",
       "14839 -34.400799 -58.638174  \n",
       "18622 -34.403278 -58.626350  "
      ]
     },
     "execution_count": 11,
     "metadata": {},
     "output_type": "execute_result"
    }
   ],
   "source": [
    "# place_name\n",
    "print(\"null values:\", location_data['place_name'].isna().sum())\n",
    "\n",
    "mask = ~location_data.apply(lambda x: x['place_name'] in x['place_with_parent_names'], axis=1)\n",
    "location_data[mask].head()\n",
    "\n"
   ]
  },
  {
   "cell_type": "markdown",
   "metadata": {},
   "source": [
    "Los registros que no tienen valor en place_name son los que no coinciden, todos del municipio de Tigre.  "
   ]
  },
  {
   "cell_type": "markdown",
   "metadata": {},
   "source": [
    "# TODO: Resta ver y analizar los que tienen más de 3 valores en la lista."
   ]
  }
 ],
 "metadata": {
  "kernelspec": {
   "display_name": "Python 3.10.4 ('dh')",
   "language": "python",
   "name": "python3"
  },
  "language_info": {
   "codemirror_mode": {
    "name": "ipython",
    "version": 3
   },
   "file_extension": ".py",
   "mimetype": "text/x-python",
   "name": "python",
   "nbconvert_exporter": "python",
   "pygments_lexer": "ipython3",
   "version": "3.10.4"
  },
  "orig_nbformat": 4,
  "vscode": {
   "interpreter": {
    "hash": "de0c11672bdc465268fe040a07375f6ad60f942d46756d33f7fe9e449a78b4ed"
   }
  }
 },
 "nbformat": 4,
 "nbformat_minor": 2
}
