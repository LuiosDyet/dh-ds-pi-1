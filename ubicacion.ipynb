{
 "cells": [
  {
   "cell_type": "code",
   "execution_count": 2,
   "metadata": {},
   "outputs": [],
   "source": [
    "import pandas as pd\n",
    "import numpy as np\n",
    "import matplotlib.pyplot as plt"
   ]
  },
  {
   "cell_type": "code",
   "execution_count": null,
   "metadata": {},
   "outputs": [],
   "source": [
    "import seaborn as sns"
   ]
  },
  {
   "cell_type": "code",
   "execution_count": 3,
   "metadata": {},
   "outputs": [
    {
     "data": {
      "text/plain": [
       "(121220, 25)"
      ]
     },
     "execution_count": 3,
     "metadata": {},
     "output_type": "execute_result"
    }
   ],
   "source": [
    "data = pd.read_csv(\"..\\properatti.csv\", index_col=0)\n",
    "data.shape"
   ]
  },
  {
   "cell_type": "code",
   "execution_count": 3,
   "metadata": {},
   "outputs": [],
   "source": [
    "# Seteamos pandas para no truncar los valores de las columnas\n",
    "pd.set_option('display.max_colwidth', None)"
   ]
  },
  {
   "cell_type": "code",
   "execution_count": 4,
   "metadata": {},
   "outputs": [
    {
     "data": {
      "text/html": [
       "<div>\n",
       "<style scoped>\n",
       "    .dataframe tbody tr th:only-of-type {\n",
       "        vertical-align: middle;\n",
       "    }\n",
       "\n",
       "    .dataframe tbody tr th {\n",
       "        vertical-align: top;\n",
       "    }\n",
       "\n",
       "    .dataframe thead th {\n",
       "        text-align: right;\n",
       "    }\n",
       "</style>\n",
       "<table border=\"1\" class=\"dataframe\">\n",
       "  <thead>\n",
       "    <tr style=\"text-align: right;\">\n",
       "      <th></th>\n",
       "      <th>place_name</th>\n",
       "      <th>place_with_parent_names</th>\n",
       "      <th>country_name</th>\n",
       "      <th>state_name</th>\n",
       "      <th>geonames_id</th>\n",
       "      <th>lat-lon</th>\n",
       "      <th>lat</th>\n",
       "      <th>lon</th>\n",
       "    </tr>\n",
       "  </thead>\n",
       "  <tbody>\n",
       "    <tr>\n",
       "      <th>0</th>\n",
       "      <td>Mataderos</td>\n",
       "      <td>|Argentina|Capital Federal|Mataderos|</td>\n",
       "      <td>Argentina</td>\n",
       "      <td>Capital Federal</td>\n",
       "      <td>3430787.0</td>\n",
       "      <td>-34.6618237,-58.5088387</td>\n",
       "      <td>-34.661824</td>\n",
       "      <td>-58.508839</td>\n",
       "    </tr>\n",
       "    <tr>\n",
       "      <th>1</th>\n",
       "      <td>La Plata</td>\n",
       "      <td>|Argentina|Bs.As. G.B.A. Zona Sur|La Plata|</td>\n",
       "      <td>Argentina</td>\n",
       "      <td>Bs.As. G.B.A. Zona Sur</td>\n",
       "      <td>3432039.0</td>\n",
       "      <td>-34.9038831,-57.9643295</td>\n",
       "      <td>-34.903883</td>\n",
       "      <td>-57.964330</td>\n",
       "    </tr>\n",
       "    <tr>\n",
       "      <th>2</th>\n",
       "      <td>Mataderos</td>\n",
       "      <td>|Argentina|Capital Federal|Mataderos|</td>\n",
       "      <td>Argentina</td>\n",
       "      <td>Capital Federal</td>\n",
       "      <td>3430787.0</td>\n",
       "      <td>-34.6522615,-58.5229825</td>\n",
       "      <td>-34.652262</td>\n",
       "      <td>-58.522982</td>\n",
       "    </tr>\n",
       "    <tr>\n",
       "      <th>3</th>\n",
       "      <td>Liniers</td>\n",
       "      <td>|Argentina|Capital Federal|Liniers|</td>\n",
       "      <td>Argentina</td>\n",
       "      <td>Capital Federal</td>\n",
       "      <td>3431333.0</td>\n",
       "      <td>-34.6477969,-58.5164244</td>\n",
       "      <td>-34.647797</td>\n",
       "      <td>-58.516424</td>\n",
       "    </tr>\n",
       "    <tr>\n",
       "      <th>4</th>\n",
       "      <td>Centro</td>\n",
       "      <td>|Argentina|Buenos Aires Costa Atlántica|Mar del Plata|Centro|</td>\n",
       "      <td>Argentina</td>\n",
       "      <td>Buenos Aires Costa Atlántica</td>\n",
       "      <td>3435548.0</td>\n",
       "      <td>-38.0026256,-57.5494468</td>\n",
       "      <td>-38.002626</td>\n",
       "      <td>-57.549447</td>\n",
       "    </tr>\n",
       "  </tbody>\n",
       "</table>\n",
       "</div>"
      ],
      "text/plain": [
       "  place_name                                        place_with_parent_names  \\\n",
       "0  Mataderos                          |Argentina|Capital Federal|Mataderos|   \n",
       "1   La Plata                    |Argentina|Bs.As. G.B.A. Zona Sur|La Plata|   \n",
       "2  Mataderos                          |Argentina|Capital Federal|Mataderos|   \n",
       "3    Liniers                            |Argentina|Capital Federal|Liniers|   \n",
       "4     Centro  |Argentina|Buenos Aires Costa Atlántica|Mar del Plata|Centro|   \n",
       "\n",
       "  country_name                    state_name  geonames_id  \\\n",
       "0    Argentina               Capital Federal    3430787.0   \n",
       "1    Argentina        Bs.As. G.B.A. Zona Sur    3432039.0   \n",
       "2    Argentina               Capital Federal    3430787.0   \n",
       "3    Argentina               Capital Federal    3431333.0   \n",
       "4    Argentina  Buenos Aires Costa Atlántica    3435548.0   \n",
       "\n",
       "                   lat-lon        lat        lon  \n",
       "0  -34.6618237,-58.5088387 -34.661824 -58.508839  \n",
       "1  -34.9038831,-57.9643295 -34.903883 -57.964330  \n",
       "2  -34.6522615,-58.5229825 -34.652262 -58.522982  \n",
       "3  -34.6477969,-58.5164244 -34.647797 -58.516424  \n",
       "4  -38.0026256,-57.5494468 -38.002626 -57.549447  "
      ]
     },
     "execution_count": 4,
     "metadata": {},
     "output_type": "execute_result"
    }
   ],
   "source": [
    "# Definimos dos grupos de columas para poder trabajar con ellas de forma mas sencilla\n",
    "places = ['place_name','place_with_parent_names', 'country_name','state_name']\n",
    "geolocation = ['geonames_id', 'lat-lon','lat','lon']\n",
    "\n",
    "# Creamos un nuevo dataframe con las columnas que me interesan\n",
    "location_data = data[places + geolocation].copy()\n",
    "location_data.head()"
   ]
  },
  {
   "cell_type": "markdown",
   "metadata": {},
   "source": [
    "Exploracion de las columnas relacionadas con la ubicacion: Por Provincia, Ciudad/Barrio, el conjunto de ubicación \n",
    "- state_name \n",
    "- place_name                        \n",
    "- place_with_parent_names              \n",
    "vamos a:\n",
    "- Explorar las columnas \n",
    "- Visualizar los nan de estas columnas\n",
    "- Corroborar que hay relacion entre el ciudad/barrio o \"place_name\" y la concatenacion de ubicacion en \"place_with_parent_names\" para ver si efectivamente corresponden o hay barrios mezclados"
   ]
  },
  {
   "cell_type": "markdown",
   "metadata": {},
   "source": [
    "- Exploramos las columnas "
   ]
  },
  {
   "cell_type": "code",
   "execution_count": 10,
   "metadata": {},
   "outputs": [
    {
     "data": {
      "text/html": [
       "<div>\n",
       "<style scoped>\n",
       "    .dataframe tbody tr th:only-of-type {\n",
       "        vertical-align: middle;\n",
       "    }\n",
       "\n",
       "    .dataframe tbody tr th {\n",
       "        vertical-align: top;\n",
       "    }\n",
       "\n",
       "    .dataframe thead th {\n",
       "        text-align: right;\n",
       "    }\n",
       "</style>\n",
       "<table border=\"1\" class=\"dataframe\">\n",
       "  <thead>\n",
       "    <tr style=\"text-align: right;\">\n",
       "      <th></th>\n",
       "      <th>place_with_parent_names</th>\n",
       "      <th>state_name</th>\n",
       "      <th>place_name</th>\n",
       "    </tr>\n",
       "  </thead>\n",
       "  <tbody>\n",
       "    <tr>\n",
       "      <th>69580</th>\n",
       "      <td>|Argentina|Bs.As. G.B.A. Zona Sur|Lomas de Zam...</td>\n",
       "      <td>Bs.As. G.B.A. Zona Sur</td>\n",
       "      <td>Turdera</td>\n",
       "    </tr>\n",
       "    <tr>\n",
       "      <th>113427</th>\n",
       "      <td>|Argentina|Córdoba|Córdoba|</td>\n",
       "      <td>Córdoba</td>\n",
       "      <td>Córdoba</td>\n",
       "    </tr>\n",
       "    <tr>\n",
       "      <th>89342</th>\n",
       "      <td>|Argentina|Santa Fe|Rosario|</td>\n",
       "      <td>Santa Fe</td>\n",
       "      <td>Rosario</td>\n",
       "    </tr>\n",
       "    <tr>\n",
       "      <th>53890</th>\n",
       "      <td>|Argentina|Santa Fe|Rosario|</td>\n",
       "      <td>Santa Fe</td>\n",
       "      <td>Rosario</td>\n",
       "    </tr>\n",
       "    <tr>\n",
       "      <th>83961</th>\n",
       "      <td>|Argentina|Bs.As. G.B.A. Zona Norte|Vicente Ló...</td>\n",
       "      <td>Bs.As. G.B.A. Zona Norte</td>\n",
       "      <td>Olivos</td>\n",
       "    </tr>\n",
       "    <tr>\n",
       "      <th>76545</th>\n",
       "      <td>|Argentina|Bs.As. G.B.A. Zona Sur|Almirante Br...</td>\n",
       "      <td>Bs.As. G.B.A. Zona Sur</td>\n",
       "      <td>Burzaco</td>\n",
       "    </tr>\n",
       "    <tr>\n",
       "      <th>68492</th>\n",
       "      <td>|Argentina|Bs.As. G.B.A. Zona Sur|Lomas de Zam...</td>\n",
       "      <td>Bs.As. G.B.A. Zona Sur</td>\n",
       "      <td>Temperley</td>\n",
       "    </tr>\n",
       "    <tr>\n",
       "      <th>105706</th>\n",
       "      <td>|Argentina|Córdoba|</td>\n",
       "      <td>Córdoba</td>\n",
       "      <td>Córdoba</td>\n",
       "    </tr>\n",
       "    <tr>\n",
       "      <th>66867</th>\n",
       "      <td>|Argentina|Córdoba|</td>\n",
       "      <td>Córdoba</td>\n",
       "      <td>Córdoba</td>\n",
       "    </tr>\n",
       "    <tr>\n",
       "      <th>96537</th>\n",
       "      <td>|Argentina|Capital Federal|Liniers|</td>\n",
       "      <td>Capital Federal</td>\n",
       "      <td>Liniers</td>\n",
       "    </tr>\n",
       "  </tbody>\n",
       "</table>\n",
       "</div>"
      ],
      "text/plain": [
       "                                  place_with_parent_names  \\\n",
       "69580   |Argentina|Bs.As. G.B.A. Zona Sur|Lomas de Zam...   \n",
       "113427                        |Argentina|Córdoba|Córdoba|   \n",
       "89342                        |Argentina|Santa Fe|Rosario|   \n",
       "53890                        |Argentina|Santa Fe|Rosario|   \n",
       "83961   |Argentina|Bs.As. G.B.A. Zona Norte|Vicente Ló...   \n",
       "76545   |Argentina|Bs.As. G.B.A. Zona Sur|Almirante Br...   \n",
       "68492   |Argentina|Bs.As. G.B.A. Zona Sur|Lomas de Zam...   \n",
       "105706                                |Argentina|Córdoba|   \n",
       "66867                                 |Argentina|Córdoba|   \n",
       "96537                 |Argentina|Capital Federal|Liniers|   \n",
       "\n",
       "                      state_name place_name  \n",
       "69580     Bs.As. G.B.A. Zona Sur    Turdera  \n",
       "113427                   Córdoba    Córdoba  \n",
       "89342                   Santa Fe    Rosario  \n",
       "53890                   Santa Fe    Rosario  \n",
       "83961   Bs.As. G.B.A. Zona Norte     Olivos  \n",
       "76545     Bs.As. G.B.A. Zona Sur    Burzaco  \n",
       "68492     Bs.As. G.B.A. Zona Sur  Temperley  \n",
       "105706                   Córdoba    Córdoba  \n",
       "66867                    Córdoba    Córdoba  \n",
       "96537            Capital Federal    Liniers  "
      ]
     },
     "execution_count": 10,
     "metadata": {},
     "output_type": "execute_result"
    }
   ],
   "source": [
    "data.loc[:, [\"place_with_parent_names\", 'state_name', 'place_name']].sample(10)"
   ]
  },
  {
   "cell_type": "code",
   "execution_count": 4,
   "metadata": {},
   "outputs": [
    {
     "data": {
      "text/html": [
       "<div>\n",
       "<style scoped>\n",
       "    .dataframe tbody tr th:only-of-type {\n",
       "        vertical-align: middle;\n",
       "    }\n",
       "\n",
       "    .dataframe tbody tr th {\n",
       "        vertical-align: top;\n",
       "    }\n",
       "\n",
       "    .dataframe thead th {\n",
       "        text-align: right;\n",
       "    }\n",
       "</style>\n",
       "<table border=\"1\" class=\"dataframe\">\n",
       "  <thead>\n",
       "    <tr style=\"text-align: right;\">\n",
       "      <th></th>\n",
       "      <th>place_with_parent_names</th>\n",
       "      <th>state_name</th>\n",
       "      <th>place_name</th>\n",
       "    </tr>\n",
       "  </thead>\n",
       "  <tbody>\n",
       "    <tr>\n",
       "      <th>count</th>\n",
       "      <td>121220</td>\n",
       "      <td>121220</td>\n",
       "      <td>121197</td>\n",
       "    </tr>\n",
       "    <tr>\n",
       "      <th>unique</th>\n",
       "      <td>1164</td>\n",
       "      <td>28</td>\n",
       "      <td>1060</td>\n",
       "    </tr>\n",
       "    <tr>\n",
       "      <th>top</th>\n",
       "      <td>|Argentina|Santa Fe|Rosario|</td>\n",
       "      <td>Capital Federal</td>\n",
       "      <td>Córdoba</td>\n",
       "    </tr>\n",
       "    <tr>\n",
       "      <th>freq</th>\n",
       "      <td>8504</td>\n",
       "      <td>32316</td>\n",
       "      <td>9254</td>\n",
       "    </tr>\n",
       "  </tbody>\n",
       "</table>\n",
       "</div>"
      ],
      "text/plain": [
       "             place_with_parent_names       state_name place_name\n",
       "count                         121220           121220     121197\n",
       "unique                          1164               28       1060\n",
       "top     |Argentina|Santa Fe|Rosario|  Capital Federal    Córdoba\n",
       "freq                            8504            32316       9254"
      ]
     },
     "execution_count": 4,
     "metadata": {},
     "output_type": "execute_result"
    }
   ],
   "source": [
    "#count: cuenta el numero de registros (no incluye null)\n",
    "#unique:  número de objetos distintos en la columna,\n",
    "#top: es el dato más frecuente que se produce,\n",
    "#freq: es la cantidad de veces que aparece el objeto “top” en la columna\n",
    "\n",
    "data[[\"place_with_parent_names\", \"state_name\", \"place_name\"]].describe()"
   ]
  },
  {
   "cell_type": "code",
   "execution_count": 5,
   "metadata": {},
   "outputs": [
    {
     "data": {
      "text/plain": [
       "Capital Federal                 32316\n",
       "Bs.As. G.B.A. Zona Norte        25560\n",
       "Bs.As. G.B.A. Zona Sur          13952\n",
       "Córdoba                         12069\n",
       "Santa Fe                        10172\n",
       "Buenos Aires Costa Atlántica    10006\n",
       "Bs.As. G.B.A. Zona Oeste         9322\n",
       "Buenos Aires Interior            2291\n",
       "Río Negro                         808\n",
       "Neuquén                           733\n",
       "Mendoza                           681\n",
       "Tucumán                           674\n",
       "Corrientes                        583\n",
       "Misiones                          464\n",
       "Entre Ríos                        369\n",
       "Salta                             278\n",
       "Chubut                            259\n",
       "San Luis                          252\n",
       "La Pampa                          157\n",
       "Formosa                            65\n",
       "Chaco                              57\n",
       "San Juan                           40\n",
       "Tierra Del Fuego                   31\n",
       "Catamarca                          27\n",
       "Jujuy                              26\n",
       "Santa Cruz                         20\n",
       "Santiago Del Estero                 4\n",
       "La Rioja                            4\n",
       "Name: state_name, dtype: int64"
      ]
     },
     "execution_count": 5,
     "metadata": {},
     "output_type": "execute_result"
    }
   ],
   "source": [
    "#ubicacion por provincia \"State_name\"\n",
    "#notamos que los datos estan concentrados en Buenos Aires (Cap fed, zona norte, zona sur, oeste, atlantica, interior),\n",
    "#  Cordoba, Santa fe \n",
    "\n",
    "data[\"state_name\"].value_counts() #Excludes NA values by default."
   ]
  },
  {
   "cell_type": "code",
   "execution_count": 6,
   "metadata": {},
   "outputs": [
    {
     "data": {
      "text/plain": [
       "Córdoba            9254\n",
       "Rosario            8504\n",
       "Mar del Plata      6534\n",
       "Tigre              3324\n",
       "Nordelta           3315\n",
       "Belgrano           2992\n",
       "Palermo            2885\n",
       "La Plata           2534\n",
       "Caballito          2273\n",
       "Pilar              2228\n",
       "Villa Urquiza      1632\n",
       "Olivos             1590\n",
       "Recoleta           1547\n",
       "Lomas de Zamora    1529\n",
       "Flores             1354\n",
       "Ituzaingó          1340\n",
       "Villa Crespo       1331\n",
       "Capital Federal    1297\n",
       "San Telmo          1216\n",
       "Morón              1209\n",
       "Name: place_name, dtype: int64"
      ]
     },
     "execution_count": 6,
     "metadata": {},
     "output_type": "execute_result"
    }
   ],
   "source": [
    "#ubicacion por ciudad-partido o barrio\n",
    " \n",
    "data[\"place_name\"].value_counts().head(20)\n",
    "\n",
    "#Tigre es una ciudad al norte de la ciudad de Buenos Aires.\n",
    "# Nordelta es una localidad urbana en el Partido de Tigre, Provincia de Buenos Aires \n",
    "\n",
    "##esta columna mezcla ciudades y barrios\n",
    "\n",
    "#Capital Federal está como place_name, "
   ]
  },
  {
   "cell_type": "code",
   "execution_count": 5,
   "metadata": {},
   "outputs": [
    {
     "data": {
      "text/plain": [
       "|Argentina|Santa Fe|Rosario|                              8504\n",
       "|Argentina|Córdoba|Córdoba|                               6606\n",
       "|Argentina|Buenos Aires Costa Atlántica|Mar del Plata|    6534\n",
       "|Argentina|Bs.As. G.B.A. Zona Norte|Tigre|Nordelta|       3315\n",
       "|Argentina|Capital Federal|Belgrano|                      2992\n",
       "|Argentina|Capital Federal|Palermo|                       2885\n",
       "|Argentina|Córdoba|                                       2648\n",
       "|Argentina|Bs.As. G.B.A. Zona Norte|Tigre|                2359\n",
       "|Argentina|Capital Federal|Caballito|                     2273\n",
       "|Argentina|Bs.As. G.B.A. Zona Norte|Pilar|                1857\n",
       "Name: place_with_parent_names, dtype: int64"
      ]
     },
     "execution_count": 5,
     "metadata": {},
     "output_type": "execute_result"
    }
   ],
   "source": [
    "#Vemos algunos registros de place_with_pa..\n",
    "data[\"place_with_parent_names\"].value_counts().head(10) \n",
    "\n",
    "#el atributo reperesenta el pais/ \"country_name\", la provincia/ \"state_name\" (o division de la provincia), la ciudad principal/partido-municipio o barrio en el caso de capital federal\"place_name\"\n",
    "#y un adicional que puede ser una localidad del partido (ejem: |Argentina|Bs.As. G.B.A. Zona Norte|Tigre|*Nordelta*|)\n",
    "#el registro tiene entre 2  y 4 concatenaciones: 2 concantenaciones solo muestra hasta la ubicacion por provincia, no brinda informacion relevante\n",
    "\n",
    "\n",
    "###|Argentina|Capital Federal|  1297 no tiene nombre de barrio, desestimar o completar? \n",
    "#|Argentina|Córdoba|    2648\n",
    "\n",
    "#esta columna puede usarse para completar los datos faltantes de place_name \n",
    "#podemos chequear si el atributo \"place_name\" coincide con los datos aquí plasmados"
   ]
  },
  {
   "cell_type": "code",
   "execution_count": 4,
   "metadata": {},
   "outputs": [
    {
     "data": {
      "text/html": [
       "<div>\n",
       "<style scoped>\n",
       "    .dataframe tbody tr th:only-of-type {\n",
       "        vertical-align: middle;\n",
       "    }\n",
       "\n",
       "    .dataframe tbody tr th {\n",
       "        vertical-align: top;\n",
       "    }\n",
       "\n",
       "    .dataframe thead th {\n",
       "        text-align: right;\n",
       "    }\n",
       "</style>\n",
       "<table border=\"1\" class=\"dataframe\">\n",
       "  <thead>\n",
       "    <tr style=\"text-align: right;\">\n",
       "      <th></th>\n",
       "      <th>count</th>\n",
       "      <th>unique</th>\n",
       "      <th>top</th>\n",
       "      <th>freq</th>\n",
       "    </tr>\n",
       "    <tr>\n",
       "      <th>state_name</th>\n",
       "      <th></th>\n",
       "      <th></th>\n",
       "      <th></th>\n",
       "      <th></th>\n",
       "    </tr>\n",
       "  </thead>\n",
       "  <tbody>\n",
       "    <tr>\n",
       "      <th>Bs.As. G.B.A. Zona Norte</th>\n",
       "      <td>25537</td>\n",
       "      <td>264</td>\n",
       "      <td>Tigre</td>\n",
       "      <td>3324</td>\n",
       "    </tr>\n",
       "    <tr>\n",
       "      <th>Bs.As. G.B.A. Zona Oeste</th>\n",
       "      <td>9322</td>\n",
       "      <td>78</td>\n",
       "      <td>Morón</td>\n",
       "      <td>1209</td>\n",
       "    </tr>\n",
       "    <tr>\n",
       "      <th>Bs.As. G.B.A. Zona Sur</th>\n",
       "      <td>13952</td>\n",
       "      <td>123</td>\n",
       "      <td>La Plata</td>\n",
       "      <td>2534</td>\n",
       "    </tr>\n",
       "    <tr>\n",
       "      <th>Buenos Aires Costa Atlántica</th>\n",
       "      <td>10006</td>\n",
       "      <td>87</td>\n",
       "      <td>Mar del Plata</td>\n",
       "      <td>6534</td>\n",
       "    </tr>\n",
       "    <tr>\n",
       "      <th>Buenos Aires Interior</th>\n",
       "      <td>2291</td>\n",
       "      <td>99</td>\n",
       "      <td>Bahía Blanca</td>\n",
       "      <td>480</td>\n",
       "    </tr>\n",
       "    <tr>\n",
       "      <th>Capital Federal</th>\n",
       "      <td>32316</td>\n",
       "      <td>62</td>\n",
       "      <td>Belgrano</td>\n",
       "      <td>2992</td>\n",
       "    </tr>\n",
       "    <tr>\n",
       "      <th>Catamarca</th>\n",
       "      <td>27</td>\n",
       "      <td>6</td>\n",
       "      <td>Manantiales</td>\n",
       "      <td>17</td>\n",
       "    </tr>\n",
       "    <tr>\n",
       "      <th>Chaco</th>\n",
       "      <td>57</td>\n",
       "      <td>7</td>\n",
       "      <td>Resistencia</td>\n",
       "      <td>37</td>\n",
       "    </tr>\n",
       "    <tr>\n",
       "      <th>Chubut</th>\n",
       "      <td>259</td>\n",
       "      <td>16</td>\n",
       "      <td>Cushamen</td>\n",
       "      <td>100</td>\n",
       "    </tr>\n",
       "    <tr>\n",
       "      <th>Corrientes</th>\n",
       "      <td>583</td>\n",
       "      <td>6</td>\n",
       "      <td>Ituzaingó</td>\n",
       "      <td>508</td>\n",
       "    </tr>\n",
       "    <tr>\n",
       "      <th>Córdoba</th>\n",
       "      <td>12069</td>\n",
       "      <td>113</td>\n",
       "      <td>Córdoba</td>\n",
       "      <td>9254</td>\n",
       "    </tr>\n",
       "    <tr>\n",
       "      <th>Entre Ríos</th>\n",
       "      <td>369</td>\n",
       "      <td>25</td>\n",
       "      <td>Paraná</td>\n",
       "      <td>144</td>\n",
       "    </tr>\n",
       "    <tr>\n",
       "      <th>Formosa</th>\n",
       "      <td>65</td>\n",
       "      <td>1</td>\n",
       "      <td>Formosa</td>\n",
       "      <td>65</td>\n",
       "    </tr>\n",
       "    <tr>\n",
       "      <th>Jujuy</th>\n",
       "      <td>26</td>\n",
       "      <td>3</td>\n",
       "      <td>San Salvador de Jujuy</td>\n",
       "      <td>24</td>\n",
       "    </tr>\n",
       "    <tr>\n",
       "      <th>La Pampa</th>\n",
       "      <td>157</td>\n",
       "      <td>9</td>\n",
       "      <td>Santa Rosa</td>\n",
       "      <td>82</td>\n",
       "    </tr>\n",
       "    <tr>\n",
       "      <th>La Rioja</th>\n",
       "      <td>4</td>\n",
       "      <td>2</td>\n",
       "      <td>La Rioja</td>\n",
       "      <td>3</td>\n",
       "    </tr>\n",
       "    <tr>\n",
       "      <th>Mendoza</th>\n",
       "      <td>681</td>\n",
       "      <td>29</td>\n",
       "      <td>Mendoza</td>\n",
       "      <td>229</td>\n",
       "    </tr>\n",
       "    <tr>\n",
       "      <th>Misiones</th>\n",
       "      <td>464</td>\n",
       "      <td>18</td>\n",
       "      <td>Posadas</td>\n",
       "      <td>365</td>\n",
       "    </tr>\n",
       "    <tr>\n",
       "      <th>Neuquén</th>\n",
       "      <td>733</td>\n",
       "      <td>10</td>\n",
       "      <td>Confluencia</td>\n",
       "      <td>231</td>\n",
       "    </tr>\n",
       "    <tr>\n",
       "      <th>Río Negro</th>\n",
       "      <td>808</td>\n",
       "      <td>12</td>\n",
       "      <td>San Carlos de Bariloche</td>\n",
       "      <td>639</td>\n",
       "    </tr>\n",
       "    <tr>\n",
       "      <th>Salta</th>\n",
       "      <td>278</td>\n",
       "      <td>9</td>\n",
       "      <td>Salta</td>\n",
       "      <td>242</td>\n",
       "    </tr>\n",
       "    <tr>\n",
       "      <th>San Juan</th>\n",
       "      <td>40</td>\n",
       "      <td>8</td>\n",
       "      <td>San Juan</td>\n",
       "      <td>16</td>\n",
       "    </tr>\n",
       "    <tr>\n",
       "      <th>San Luis</th>\n",
       "      <td>252</td>\n",
       "      <td>14</td>\n",
       "      <td>Merlo</td>\n",
       "      <td>104</td>\n",
       "    </tr>\n",
       "    <tr>\n",
       "      <th>Santa Cruz</th>\n",
       "      <td>20</td>\n",
       "      <td>6</td>\n",
       "      <td>Caleta Olivia</td>\n",
       "      <td>14</td>\n",
       "    </tr>\n",
       "    <tr>\n",
       "      <th>Santa Fe</th>\n",
       "      <td>10172</td>\n",
       "      <td>76</td>\n",
       "      <td>Rosario</td>\n",
       "      <td>8504</td>\n",
       "    </tr>\n",
       "    <tr>\n",
       "      <th>Santiago Del Estero</th>\n",
       "      <td>4</td>\n",
       "      <td>2</td>\n",
       "      <td>Santiago Del Estero</td>\n",
       "      <td>3</td>\n",
       "    </tr>\n",
       "    <tr>\n",
       "      <th>Tierra Del Fuego</th>\n",
       "      <td>31</td>\n",
       "      <td>3</td>\n",
       "      <td>Río Grande</td>\n",
       "      <td>17</td>\n",
       "    </tr>\n",
       "    <tr>\n",
       "      <th>Tucumán</th>\n",
       "      <td>674</td>\n",
       "      <td>10</td>\n",
       "      <td>San Miguel de Tucumán</td>\n",
       "      <td>362</td>\n",
       "    </tr>\n",
       "  </tbody>\n",
       "</table>\n",
       "</div>"
      ],
      "text/plain": [
       "                              count unique                      top  freq\n",
       "state_name                                                               \n",
       "Bs.As. G.B.A. Zona Norte      25537    264                    Tigre  3324\n",
       "Bs.As. G.B.A. Zona Oeste       9322     78                    Morón  1209\n",
       "Bs.As. G.B.A. Zona Sur        13952    123                 La Plata  2534\n",
       "Buenos Aires Costa Atlántica  10006     87            Mar del Plata  6534\n",
       "Buenos Aires Interior          2291     99             Bahía Blanca   480\n",
       "Capital Federal               32316     62                 Belgrano  2992\n",
       "Catamarca                        27      6              Manantiales    17\n",
       "Chaco                            57      7              Resistencia    37\n",
       "Chubut                          259     16                 Cushamen   100\n",
       "Corrientes                      583      6                Ituzaingó   508\n",
       "Córdoba                       12069    113                  Córdoba  9254\n",
       "Entre Ríos                      369     25                   Paraná   144\n",
       "Formosa                          65      1                  Formosa    65\n",
       "Jujuy                            26      3    San Salvador de Jujuy    24\n",
       "La Pampa                        157      9               Santa Rosa    82\n",
       "La Rioja                          4      2                 La Rioja     3\n",
       "Mendoza                         681     29                  Mendoza   229\n",
       "Misiones                        464     18                  Posadas   365\n",
       "Neuquén                         733     10              Confluencia   231\n",
       "Río Negro                       808     12  San Carlos de Bariloche   639\n",
       "Salta                           278      9                    Salta   242\n",
       "San Juan                         40      8                 San Juan    16\n",
       "San Luis                        252     14                    Merlo   104\n",
       "Santa Cruz                       20      6            Caleta Olivia    14\n",
       "Santa Fe                      10172     76                  Rosario  8504\n",
       "Santiago Del Estero               4      2      Santiago Del Estero     3\n",
       "Tierra Del Fuego                 31      3               Río Grande    17\n",
       "Tucumán                         674     10    San Miguel de Tucumán   362"
      ]
     },
     "execution_count": 4,
     "metadata": {},
     "output_type": "execute_result"
    }
   ],
   "source": [
    "#Para state_name vemos: cuales son los datos de place_name más frecuente, su frecuencia y cuantos refistros diferentes existen \n",
    "\n",
    "data.groupby([\"state_name\"])[\"place_name\"].describe()\n",
    "\n",
    "#el traibuto de place_name está representado principalmente por una ciudad-partido de la provincia\n",
    "\n",
    "#count: cuenta el numero de registros no incluye null\n",
    "#unique:  número de objetos distintos en la columna,\n",
    "#top: es el dato más frecuente que se produce,\n",
    "#freq: es la cantidad de veces que aparece el objeto “top” en la columna"
   ]
  },
  {
   "cell_type": "markdown",
   "metadata": {},
   "source": [
    "- Visualizar los nan de las columnas\n",
    "de aplicar la funcion isna().sum() en data obtuvimos\n",
    "place_name                        23\n",
    "place_with_parent_names            0\n",
    "country_name                       0\n",
    "state_name                         0\n",
    "\n",
    "#solo la columna place_name tiene valores nulos"
   ]
  },
  {
   "cell_type": "code",
   "execution_count": 12,
   "metadata": {},
   "outputs": [
    {
     "data": {
      "text/html": [
       "<div>\n",
       "<style scoped>\n",
       "    .dataframe tbody tr th:only-of-type {\n",
       "        vertical-align: middle;\n",
       "    }\n",
       "\n",
       "    .dataframe tbody tr th {\n",
       "        vertical-align: top;\n",
       "    }\n",
       "\n",
       "    .dataframe thead th {\n",
       "        text-align: right;\n",
       "    }\n",
       "</style>\n",
       "<table border=\"1\" class=\"dataframe\">\n",
       "  <thead>\n",
       "    <tr style=\"text-align: right;\">\n",
       "      <th></th>\n",
       "      <th>operation</th>\n",
       "      <th>property_type</th>\n",
       "      <th>place_name</th>\n",
       "      <th>place_with_parent_names</th>\n",
       "      <th>country_name</th>\n",
       "      <th>state_name</th>\n",
       "      <th>geonames_id</th>\n",
       "      <th>lat-lon</th>\n",
       "      <th>lat</th>\n",
       "      <th>lon</th>\n",
       "      <th>...</th>\n",
       "      <th>surface_covered_in_m2</th>\n",
       "      <th>price_usd_per_m2</th>\n",
       "      <th>price_per_m2</th>\n",
       "      <th>floor</th>\n",
       "      <th>rooms</th>\n",
       "      <th>expenses</th>\n",
       "      <th>properati_url</th>\n",
       "      <th>description</th>\n",
       "      <th>title</th>\n",
       "      <th>image_thumbnail</th>\n",
       "    </tr>\n",
       "  </thead>\n",
       "  <tbody>\n",
       "    <tr>\n",
       "      <th>6489</th>\n",
       "      <td>sell</td>\n",
       "      <td>house</td>\n",
       "      <td>NaN</td>\n",
       "      <td>|Argentina|Bs.As. G.B.A. Zona Norte|Tigre||</td>\n",
       "      <td>Argentina</td>\n",
       "      <td>Bs.As. G.B.A. Zona Norte</td>\n",
       "      <td>NaN</td>\n",
       "      <td>-34.4008968545,-58.63809847</td>\n",
       "      <td>-34.400897</td>\n",
       "      <td>-58.638098</td>\n",
       "      <td>...</td>\n",
       "      <td>240.0</td>\n",
       "      <td>2708.333333</td>\n",
       "      <td>2708.333333</td>\n",
       "      <td>NaN</td>\n",
       "      <td>NaN</td>\n",
       "      <td>NaN</td>\n",
       "      <td>http://www.properati.com.ar/15ui7_venta_casa_t...</td>\n",
       "      <td>Espectacular casa moderna de una planta, con a...</td>\n",
       "      <td>Venta de casa en Santa María de Tigre</td>\n",
       "      <td>https://thumbs4.properati.com/7/vQjgbHSz1fKXxy...</td>\n",
       "    </tr>\n",
       "    <tr>\n",
       "      <th>10201</th>\n",
       "      <td>sell</td>\n",
       "      <td>house</td>\n",
       "      <td>NaN</td>\n",
       "      <td>|Argentina|Bs.As. G.B.A. Zona Norte|Tigre||</td>\n",
       "      <td>Argentina</td>\n",
       "      <td>Bs.As. G.B.A. Zona Norte</td>\n",
       "      <td>NaN</td>\n",
       "      <td>-34.400704,-58.638067</td>\n",
       "      <td>-34.400704</td>\n",
       "      <td>-58.638067</td>\n",
       "      <td>...</td>\n",
       "      <td>300.0</td>\n",
       "      <td>NaN</td>\n",
       "      <td>1783.333333</td>\n",
       "      <td>NaN</td>\n",
       "      <td>5.0</td>\n",
       "      <td>NaN</td>\n",
       "      <td>http://www.properati.com.ar/166p5_venta_casa_t...</td>\n",
       "      <td>Corredor Responsable: SABRINA COCCONI - CSI 62...</td>\n",
       "      <td>VENTA CASA SANTA MARÍA DE TIGRE COUNTRY BARRIO...</td>\n",
       "      <td>https://thumbs4.properati.com/1/FABpKIJMaoAO3t...</td>\n",
       "    </tr>\n",
       "  </tbody>\n",
       "</table>\n",
       "<p>2 rows × 25 columns</p>\n",
       "</div>"
      ],
      "text/plain": [
       "      operation property_type place_name  \\\n",
       "6489       sell         house        NaN   \n",
       "10201      sell         house        NaN   \n",
       "\n",
       "                           place_with_parent_names country_name  \\\n",
       "6489   |Argentina|Bs.As. G.B.A. Zona Norte|Tigre||    Argentina   \n",
       "10201  |Argentina|Bs.As. G.B.A. Zona Norte|Tigre||    Argentina   \n",
       "\n",
       "                     state_name  geonames_id                      lat-lon  \\\n",
       "6489   Bs.As. G.B.A. Zona Norte          NaN  -34.4008968545,-58.63809847   \n",
       "10201  Bs.As. G.B.A. Zona Norte          NaN        -34.400704,-58.638067   \n",
       "\n",
       "             lat        lon  ...  surface_covered_in_m2 price_usd_per_m2  \\\n",
       "6489  -34.400897 -58.638098  ...                  240.0      2708.333333   \n",
       "10201 -34.400704 -58.638067  ...                  300.0              NaN   \n",
       "\n",
       "       price_per_m2  floor  rooms  expenses  \\\n",
       "6489    2708.333333    NaN    NaN       NaN   \n",
       "10201   1783.333333    NaN    5.0       NaN   \n",
       "\n",
       "                                           properati_url  \\\n",
       "6489   http://www.properati.com.ar/15ui7_venta_casa_t...   \n",
       "10201  http://www.properati.com.ar/166p5_venta_casa_t...   \n",
       "\n",
       "                                             description  \\\n",
       "6489   Espectacular casa moderna de una planta, con a...   \n",
       "10201  Corredor Responsable: SABRINA COCCONI - CSI 62...   \n",
       "\n",
       "                                                   title  \\\n",
       "6489               Venta de casa en Santa María de Tigre   \n",
       "10201  VENTA CASA SANTA MARÍA DE TIGRE COUNTRY BARRIO...   \n",
       "\n",
       "                                         image_thumbnail  \n",
       "6489   https://thumbs4.properati.com/7/vQjgbHSz1fKXxy...  \n",
       "10201  https://thumbs4.properati.com/1/FABpKIJMaoAO3t...  \n",
       "\n",
       "[2 rows x 25 columns]"
      ]
     },
     "execution_count": 12,
     "metadata": {},
     "output_type": "execute_result"
    }
   ],
   "source": [
    "#vemos que filas son y como podemos completarlas o no\n",
    "\n",
    "data[data.place_name.isna()].head(2)\n",
    "\n",
    "#los 23 datos pueden completarse con fillna con el dato de \"Tigre\" ya que vimos en place_name que \"Tigre\" 3324, un valor signif\n",
    "#si escogemos como representativa la ciudad, sino buscamos el barrio? "
   ]
  },
  {
   "cell_type": "markdown",
   "metadata": {},
   "source": [
    "#### Corroborar si place_with_parent_names coincide con country_name, state_name, place_name "
   ]
  },
  {
   "cell_type": "code",
   "execution_count": 5,
   "metadata": {},
   "outputs": [
    {
     "data": {
      "text/plain": [
       "0                             [Argentina, Capital Federal, Mataderos]\n",
       "1                       [Argentina, Bs.As. G.B.A. Zona Sur, La Plata]\n",
       "2                             [Argentina, Capital Federal, Mataderos]\n",
       "3                               [Argentina, Capital Federal, Liniers]\n",
       "4    [Argentina, Buenos Aires Costa Atlántica, Mar del Plata, Centro]\n",
       "Name: place_with_parent_names, dtype: object"
      ]
     },
     "execution_count": 5,
     "metadata": {},
     "output_type": "execute_result"
    }
   ],
   "source": [
    "# Convertimos la columna place_with_parent_names en una lista usando el separador \"|\"\n",
    "location_data['place_with_parent_names'] = location_data['place_with_parent_names'].apply(lambda x: x.lstrip(\"|\").rstrip(\"|\").split(\"|\"))\n",
    "location_data['place_with_parent_names'].head()"
   ]
  },
  {
   "cell_type": "code",
   "execution_count": 6,
   "metadata": {},
   "outputs": [],
   "source": [
    "# Función para chequear si los valores de la columna place_with_parent_names coinciden exactamente con \n",
    "# los valores de las columnas country_name, state_name, place_name\n",
    "\n",
    "def is_location_different(row):\n",
    "    # la lista debería tener 3 elementos\n",
    "    if len(row['place_with_parent_names']) != 3:\n",
    "        return True\n",
    "    if row['country_name'] == row['place_with_parent_names'][0] \\\n",
    "    and row['state_name'] == row['place_with_parent_names'][1] \\\n",
    "    and row['place_name'] == row['place_with_parent_names'][2]:\n",
    "        return False\n",
    "    else:\n",
    "        return True"
   ]
  },
  {
   "cell_type": "code",
   "execution_count": 7,
   "metadata": {},
   "outputs": [
    {
     "name": "stdout",
     "output_type": "stream",
     "text": [
      "place_with_parent_names difference with country_name, state_name and place_name: 45220\n"
     ]
    },
    {
     "data": {
      "text/html": [
       "<div>\n",
       "<style scoped>\n",
       "    .dataframe tbody tr th:only-of-type {\n",
       "        vertical-align: middle;\n",
       "    }\n",
       "\n",
       "    .dataframe tbody tr th {\n",
       "        vertical-align: top;\n",
       "    }\n",
       "\n",
       "    .dataframe thead th {\n",
       "        text-align: right;\n",
       "    }\n",
       "</style>\n",
       "<table border=\"1\" class=\"dataframe\">\n",
       "  <thead>\n",
       "    <tr style=\"text-align: right;\">\n",
       "      <th></th>\n",
       "      <th>place_name</th>\n",
       "      <th>place_with_parent_names</th>\n",
       "      <th>country_name</th>\n",
       "      <th>state_name</th>\n",
       "    </tr>\n",
       "  </thead>\n",
       "  <tbody>\n",
       "    <tr>\n",
       "      <th>34480</th>\n",
       "      <td>Tigre</td>\n",
       "      <td>[Argentina, Bs.As. G.B.A. Zona Norte, Tigre, Tigre]</td>\n",
       "      <td>Argentina</td>\n",
       "      <td>Bs.As. G.B.A. Zona Norte</td>\n",
       "    </tr>\n",
       "    <tr>\n",
       "      <th>37773</th>\n",
       "      <td>Barrio La Alameda</td>\n",
       "      <td>[Argentina, Bs.As. G.B.A. Zona Norte, Tigre, Nordelta, Barrio La Alameda]</td>\n",
       "      <td>Argentina</td>\n",
       "      <td>Bs.As. G.B.A. Zona Norte</td>\n",
       "    </tr>\n",
       "    <tr>\n",
       "      <th>61264</th>\n",
       "      <td>Villa Madero</td>\n",
       "      <td>[Argentina, Bs.As. G.B.A. Zona Oeste, La Matanza, Villa Madero]</td>\n",
       "      <td>Argentina</td>\n",
       "      <td>Bs.As. G.B.A. Zona Oeste</td>\n",
       "    </tr>\n",
       "    <tr>\n",
       "      <th>78396</th>\n",
       "      <td>La Plata</td>\n",
       "      <td>[Argentina, Bs.As. G.B.A. Zona Sur, La Plata, La Plata]</td>\n",
       "      <td>Argentina</td>\n",
       "      <td>Bs.As. G.B.A. Zona Sur</td>\n",
       "    </tr>\n",
       "    <tr>\n",
       "      <th>111976</th>\n",
       "      <td>Córdoba</td>\n",
       "      <td>[Argentina, Córdoba]</td>\n",
       "      <td>Argentina</td>\n",
       "      <td>Córdoba</td>\n",
       "    </tr>\n",
       "    <tr>\n",
       "      <th>68331</th>\n",
       "      <td>Banfield</td>\n",
       "      <td>[Argentina, Bs.As. G.B.A. Zona Sur, Lomas de Zamora, Banfield]</td>\n",
       "      <td>Argentina</td>\n",
       "      <td>Bs.As. G.B.A. Zona Sur</td>\n",
       "    </tr>\n",
       "    <tr>\n",
       "      <th>12215</th>\n",
       "      <td>Playa Grande</td>\n",
       "      <td>[Argentina, Buenos Aires Costa Atlántica, Mar del Plata, Playa Grande]</td>\n",
       "      <td>Argentina</td>\n",
       "      <td>Buenos Aires Costa Atlántica</td>\n",
       "    </tr>\n",
       "    <tr>\n",
       "      <th>66225</th>\n",
       "      <td>San Carlos de Bariloche</td>\n",
       "      <td>[Argentina, Río Negro, San Carlos de Bariloche, San Carlos de Bariloche]</td>\n",
       "      <td>Argentina</td>\n",
       "      <td>Río Negro</td>\n",
       "    </tr>\n",
       "    <tr>\n",
       "      <th>18757</th>\n",
       "      <td>Belén de Escobar</td>\n",
       "      <td>[Argentina, Bs.As. G.B.A. Zona Norte, Escobar, Belén de Escobar]</td>\n",
       "      <td>Argentina</td>\n",
       "      <td>Bs.As. G.B.A. Zona Norte</td>\n",
       "    </tr>\n",
       "    <tr>\n",
       "      <th>76479</th>\n",
       "      <td>Lanús</td>\n",
       "      <td>[Argentina, Bs.As. G.B.A. Zona Sur, Lanús, Lanús]</td>\n",
       "      <td>Argentina</td>\n",
       "      <td>Bs.As. G.B.A. Zona Sur</td>\n",
       "    </tr>\n",
       "  </tbody>\n",
       "</table>\n",
       "</div>"
      ],
      "text/plain": [
       "                     place_name  \\\n",
       "34480                     Tigre   \n",
       "37773         Barrio La Alameda   \n",
       "61264              Villa Madero   \n",
       "78396                  La Plata   \n",
       "111976                  Córdoba   \n",
       "68331                  Banfield   \n",
       "12215              Playa Grande   \n",
       "66225   San Carlos de Bariloche   \n",
       "18757          Belén de Escobar   \n",
       "76479                     Lanús   \n",
       "\n",
       "                                                          place_with_parent_names  \\\n",
       "34480                         [Argentina, Bs.As. G.B.A. Zona Norte, Tigre, Tigre]   \n",
       "37773   [Argentina, Bs.As. G.B.A. Zona Norte, Tigre, Nordelta, Barrio La Alameda]   \n",
       "61264             [Argentina, Bs.As. G.B.A. Zona Oeste, La Matanza, Villa Madero]   \n",
       "78396                     [Argentina, Bs.As. G.B.A. Zona Sur, La Plata, La Plata]   \n",
       "111976                                                       [Argentina, Córdoba]   \n",
       "68331              [Argentina, Bs.As. G.B.A. Zona Sur, Lomas de Zamora, Banfield]   \n",
       "12215      [Argentina, Buenos Aires Costa Atlántica, Mar del Plata, Playa Grande]   \n",
       "66225    [Argentina, Río Negro, San Carlos de Bariloche, San Carlos de Bariloche]   \n",
       "18757            [Argentina, Bs.As. G.B.A. Zona Norte, Escobar, Belén de Escobar]   \n",
       "76479                           [Argentina, Bs.As. G.B.A. Zona Sur, Lanús, Lanús]   \n",
       "\n",
       "       country_name                    state_name  \n",
       "34480     Argentina      Bs.As. G.B.A. Zona Norte  \n",
       "37773     Argentina      Bs.As. G.B.A. Zona Norte  \n",
       "61264     Argentina      Bs.As. G.B.A. Zona Oeste  \n",
       "78396     Argentina        Bs.As. G.B.A. Zona Sur  \n",
       "111976    Argentina                       Córdoba  \n",
       "68331     Argentina        Bs.As. G.B.A. Zona Sur  \n",
       "12215     Argentina  Buenos Aires Costa Atlántica  \n",
       "66225     Argentina                     Río Negro  \n",
       "18757     Argentina      Bs.As. G.B.A. Zona Norte  \n",
       "76479     Argentina        Bs.As. G.B.A. Zona Sur  "
      ]
     },
     "execution_count": 7,
     "metadata": {},
     "output_type": "execute_result"
    }
   ],
   "source": [
    "# Creamos la mascara utilizando la función is_location_different\n",
    "mask = location_data.apply(lambda x: is_location_different(x), axis=1)\n",
    "print(\"place_with_parent_names difference with country_name, state_name and place_name:\", location_data[mask].shape[0])\n",
    "location_data[mask][places].sample(10)"
   ]
  },
  {
   "cell_type": "markdown",
   "metadata": {},
   "source": [
    "*Conclusión: Existen 45220 registros que no coinciden exactamente.* "
   ]
  },
  {
   "cell_type": "markdown",
   "metadata": {},
   "source": [
    "### Análisis de los registros que no coinciden exactamente en las columnas places\n",
    "___"
   ]
  },
  {
   "cell_type": "code",
   "execution_count": 8,
   "metadata": {},
   "outputs": [
    {
     "data": {
      "text/plain": [
       "3    76023\n",
       "4    39869\n",
       "2     4780\n",
       "5      548\n",
       "Name: place_with_parent_names, dtype: int64"
      ]
     },
     "execution_count": 8,
     "metadata": {},
     "output_type": "execute_result"
    }
   ],
   "source": [
    "# Contamos la cantidad de valores de cada fila de la lista place_with_parent_names\n",
    "location_data['place_with_parent_names'].apply(lambda x: len(x)).value_counts()"
   ]
  },
  {
   "cell_type": "markdown",
   "metadata": {},
   "source": [
    "Los que no coinciden exactamente son aquellas listas que no tienen 3 valores. Revisamos que los valores que están en cada lista tengan su contraparte en las otras columnas "
   ]
  },
  {
   "cell_type": "code",
   "execution_count": 9,
   "metadata": {},
   "outputs": [
    {
     "name": "stdout",
     "output_type": "stream",
     "text": [
      "null values: 0\n",
      "place_with_parent_names difference with country_name: 0\n"
     ]
    }
   ],
   "source": [
    "# country_name\n",
    "print(\"null values:\", location_data['country_name'].isna().sum())\n",
    "mask = ~location_data.apply(lambda x: x['country_name'] in x['place_with_parent_names'], axis=1)\n",
    "print(\"place_with_parent_names difference with country_name:\", location_data[mask].shape[0])"
   ]
  },
  {
   "cell_type": "code",
   "execution_count": 10,
   "metadata": {},
   "outputs": [
    {
     "name": "stdout",
     "output_type": "stream",
     "text": [
      "null values: 0\n",
      "place_with_parent_names difference with state_name: 0\n"
     ]
    }
   ],
   "source": [
    "# state_name\n",
    "print(\"null values:\", location_data['state_name'].isna().sum())\n",
    "mask = ~location_data.apply(lambda x: x['state_name'] in x['place_with_parent_names'], axis=1)\n",
    "print(\"place_with_parent_names difference with state_name:\", location_data[mask].shape[0])"
   ]
  },
  {
   "cell_type": "code",
   "execution_count": 11,
   "metadata": {},
   "outputs": [
    {
     "name": "stdout",
     "output_type": "stream",
     "text": [
      "null values: 23\n",
      "place_with_parent_names difference with place_name: 23\n"
     ]
    }
   ],
   "source": [
    "# place_name\n",
    "print(\"null values:\", location_data['place_name'].isna().sum())\n",
    "mask = ~location_data.apply(lambda x: x['place_name'] in x['place_with_parent_names'], axis=1)\n",
    "print(\"place_with_parent_names difference with place_name:\", location_data[mask].shape[0])\n"
   ]
  },
  {
   "cell_type": "markdown",
   "metadata": {},
   "source": [
    "*Conclusión: La información que figura en las columnas place_name, country_name y state_name se encuentra en la columna place_with_parent_names aunque no exactamente igual (parece existir información extra) excepto en la columna 'place_name' con sus 23 NaNs.*"
   ]
  },
  {
   "cell_type": "markdown",
   "metadata": {},
   "source": [
    "#### Análisis de registros de place_with_parent_names con 3 valores\n",
    "___"
   ]
  },
  {
   "cell_type": "code",
   "execution_count": 12,
   "metadata": {},
   "outputs": [
    {
     "data": {
      "text/plain": [
       "(76023, 8)"
      ]
     },
     "execution_count": 12,
     "metadata": {},
     "output_type": "execute_result"
    }
   ],
   "source": [
    "# Revisamos los place_with_parent_names con tres elementos\n",
    "mask = location_data['place_with_parent_names'].apply(lambda x: len(x) == 3)\n",
    "location_data_3_elements = location_data[mask].copy()\n",
    "location_data_3_elements.shape"
   ]
  },
  {
   "cell_type": "code",
   "execution_count": 13,
   "metadata": {},
   "outputs": [
    {
     "data": {
      "text/plain": [
       "Rosario               8504\n",
       "Córdoba               6606\n",
       "Mar del Plata         6534\n",
       "Belgrano              2992\n",
       "Palermo               2885\n",
       "                      ... \n",
       "El Dorado                1\n",
       "Banda del Río Salí       1\n",
       "Tancacha                 1\n",
       "Oliveros                 1\n",
       "Malabrigo                1\n",
       "Name: place_with_parent_names, Length: 527, dtype: int64"
      ]
     },
     "execution_count": 13,
     "metadata": {},
     "output_type": "execute_result"
    }
   ],
   "source": [
    "location_data_3_elements['place_with_parent_names'].apply(lambda x: x[2]).value_counts()"
   ]
  },
  {
   "cell_type": "code",
   "execution_count": 14,
   "metadata": {},
   "outputs": [
    {
     "data": {
      "text/plain": [
       "Rosario             8504\n",
       "Córdoba             6606\n",
       "Mar del Plata       6534\n",
       "Belgrano            2992\n",
       "Palermo             2885\n",
       "Tigre               2382\n",
       "Caballito           2273\n",
       "Pilar               1860\n",
       "Villa Urquiza       1632\n",
       "Recoleta            1547\n",
       "Flores              1354\n",
       "Villa Crespo        1331\n",
       "San Telmo           1216\n",
       "Almagro             1165\n",
       "Barrio Norte        1140\n",
       "Escobar             1037\n",
       "Ituzaingó            982\n",
       "Pinamar              932\n",
       "Boedo                890\n",
       "Nuñez                778\n",
       "La Plata             767\n",
       "Punilla              713\n",
       "Balvanera            667\n",
       "Puerto Madero        647\n",
       "San Isidro           641\n",
       "San Cristobal        614\n",
       "Villa Carlos Paz     612\n",
       "Name: place_with_parent_names, dtype: int64"
      ]
     },
     "execution_count": 14,
     "metadata": {},
     "output_type": "execute_result"
    }
   ],
   "source": [
    "cities_list = location_data_3_elements['place_with_parent_names'].apply(lambda x: x[2]).value_counts() \n",
    "cities_list[cities_list > 600]"
   ]
  },
  {
   "cell_type": "code",
   "execution_count": 15,
   "metadata": {},
   "outputs": [
    {
     "data": {
      "text/plain": [
       "0"
      ]
     },
     "execution_count": 15,
     "metadata": {},
     "output_type": "execute_result"
    }
   ],
   "source": [
    "# Corroboramos que no existe el valor \"Capital Federal\" en la columna place_name\n",
    "(location_data_3_elements['place_name'] == \"Capital Federal\").sum()"
   ]
  },
  {
   "cell_type": "code",
   "execution_count": 16,
   "metadata": {},
   "outputs": [
    {
     "data": {
      "text/plain": [
       "0"
      ]
     },
     "execution_count": 16,
     "metadata": {},
     "output_type": "execute_result"
    }
   ],
   "source": [
    "# Corroboramos que no existe el valor \"Capital Federal\" en la columna place_with_parent_names[2]\n",
    "(location_data_3_elements['place_with_parent_names'].apply(lambda x: x[2] == \"Capital Federal\")).sum()"
   ]
  },
  {
   "cell_type": "code",
   "execution_count": 17,
   "metadata": {},
   "outputs": [
    {
     "data": {
      "text/plain": [
       "46179"
      ]
     },
     "execution_count": 17,
     "metadata": {},
     "output_type": "execute_result"
    }
   ],
   "source": [
    "# Datos sin el valor \"Capital Federal\" ni NaN, es decir los que place_name == municipio\n",
    "location_data_3_elements_clean_sin_cp = location_data_3_elements[~location_data_3_elements['place_name'].isna() \\\n",
    "    & (location_data_3_elements['state_name'] != \"Capital Federal\")].copy()\n",
    "location_data_3_elements_clean_sin_cp.shape[0]"
   ]
  },
  {
   "cell_type": "code",
   "execution_count": 18,
   "metadata": {},
   "outputs": [
    {
     "data": {
      "text/plain": [
       "29821"
      ]
     },
     "execution_count": 18,
     "metadata": {},
     "output_type": "execute_result"
    }
   ],
   "source": [
    "# Datos con el valor \"Capital Federal\" \n",
    "location_data_3_elements_capital = location_data_3_elements[location_data_3_elements['state_name'] == \"Capital Federal\"].copy()\n",
    "location_data_3_elements_capital.shape[0]"
   ]
  },
  {
   "cell_type": "code",
   "execution_count": 19,
   "metadata": {},
   "outputs": [
    {
     "data": {
      "text/plain": [
       "76000"
      ]
     },
     "execution_count": 19,
     "metadata": {},
     "output_type": "execute_result"
    }
   ],
   "source": [
    "# Datos sin NaN\n",
    "location_data_3_elements_clean = location_data_3_elements[~location_data_3_elements['place_name'].isna()].copy()\n",
    "location_data_3_elements_clean.shape[0]"
   ]
  },
  {
   "cell_type": "markdown",
   "metadata": {},
   "source": [
    "*Conclusión: Los registros que tienen 3 valores y por lo menos 600 entradas se utiliza el municipio como 'place_name' excepto en Capital Federal que se utiliza el barrio.*\n",
    "- place_name asignado a municipio: 46179\n",
    "- place_name asignado a Capital Federal: 29821\n",
    "- place_name asignado a municipio y Capital Federal: 76000\n",
    "- place_name asignado a NaN: 23\n"
   ]
  },
  {
   "cell_type": "code",
   "execution_count": 20,
   "metadata": {},
   "outputs": [
    {
     "data": {
      "text/html": [
       "<div>\n",
       "<style scoped>\n",
       "    .dataframe tbody tr th:only-of-type {\n",
       "        vertical-align: middle;\n",
       "    }\n",
       "\n",
       "    .dataframe tbody tr th {\n",
       "        vertical-align: top;\n",
       "    }\n",
       "\n",
       "    .dataframe thead th {\n",
       "        text-align: right;\n",
       "    }\n",
       "</style>\n",
       "<table border=\"1\" class=\"dataframe\">\n",
       "  <thead>\n",
       "    <tr style=\"text-align: right;\">\n",
       "      <th></th>\n",
       "      <th>place_name</th>\n",
       "      <th>place_with_parent_names</th>\n",
       "      <th>country_name</th>\n",
       "      <th>state_name</th>\n",
       "      <th>geonames_id</th>\n",
       "      <th>lat-lon</th>\n",
       "      <th>lat</th>\n",
       "      <th>lon</th>\n",
       "    </tr>\n",
       "  </thead>\n",
       "  <tbody>\n",
       "    <tr>\n",
       "      <th>6489</th>\n",
       "      <td>NaN</td>\n",
       "      <td>[Argentina, Bs.As. G.B.A. Zona Norte, Tigre]</td>\n",
       "      <td>Argentina</td>\n",
       "      <td>Bs.As. G.B.A. Zona Norte</td>\n",
       "      <td>NaN</td>\n",
       "      <td>-34.4008968545,-58.63809847</td>\n",
       "      <td>-34.400897</td>\n",
       "      <td>-58.638098</td>\n",
       "    </tr>\n",
       "    <tr>\n",
       "      <th>10201</th>\n",
       "      <td>NaN</td>\n",
       "      <td>[Argentina, Bs.As. G.B.A. Zona Norte, Tigre]</td>\n",
       "      <td>Argentina</td>\n",
       "      <td>Bs.As. G.B.A. Zona Norte</td>\n",
       "      <td>NaN</td>\n",
       "      <td>-34.400704,-58.638067</td>\n",
       "      <td>-34.400704</td>\n",
       "      <td>-58.638067</td>\n",
       "    </tr>\n",
       "    <tr>\n",
       "      <th>11451</th>\n",
       "      <td>NaN</td>\n",
       "      <td>[Argentina, Bs.As. G.B.A. Zona Norte, Tigre]</td>\n",
       "      <td>Argentina</td>\n",
       "      <td>Bs.As. G.B.A. Zona Norte</td>\n",
       "      <td>NaN</td>\n",
       "      <td>-34.4026880384,-58.6262613379</td>\n",
       "      <td>-34.402688</td>\n",
       "      <td>-58.626261</td>\n",
       "    </tr>\n",
       "    <tr>\n",
       "      <th>14839</th>\n",
       "      <td>NaN</td>\n",
       "      <td>[Argentina, Bs.As. G.B.A. Zona Norte, Tigre]</td>\n",
       "      <td>Argentina</td>\n",
       "      <td>Bs.As. G.B.A. Zona Norte</td>\n",
       "      <td>NaN</td>\n",
       "      <td>-34.4007994779,-58.6381735719</td>\n",
       "      <td>-34.400799</td>\n",
       "      <td>-58.638174</td>\n",
       "    </tr>\n",
       "    <tr>\n",
       "      <th>18622</th>\n",
       "      <td>NaN</td>\n",
       "      <td>[Argentina, Bs.As. G.B.A. Zona Norte, Tigre]</td>\n",
       "      <td>Argentina</td>\n",
       "      <td>Bs.As. G.B.A. Zona Norte</td>\n",
       "      <td>NaN</td>\n",
       "      <td>-34.4032781195,-58.6263503945</td>\n",
       "      <td>-34.403278</td>\n",
       "      <td>-58.626350</td>\n",
       "    </tr>\n",
       "  </tbody>\n",
       "</table>\n",
       "</div>"
      ],
      "text/plain": [
       "      place_name                       place_with_parent_names country_name  \\\n",
       "6489         NaN  [Argentina, Bs.As. G.B.A. Zona Norte, Tigre]    Argentina   \n",
       "10201        NaN  [Argentina, Bs.As. G.B.A. Zona Norte, Tigre]    Argentina   \n",
       "11451        NaN  [Argentina, Bs.As. G.B.A. Zona Norte, Tigre]    Argentina   \n",
       "14839        NaN  [Argentina, Bs.As. G.B.A. Zona Norte, Tigre]    Argentina   \n",
       "18622        NaN  [Argentina, Bs.As. G.B.A. Zona Norte, Tigre]    Argentina   \n",
       "\n",
       "                     state_name  geonames_id                        lat-lon  \\\n",
       "6489   Bs.As. G.B.A. Zona Norte          NaN    -34.4008968545,-58.63809847   \n",
       "10201  Bs.As. G.B.A. Zona Norte          NaN          -34.400704,-58.638067   \n",
       "11451  Bs.As. G.B.A. Zona Norte          NaN  -34.4026880384,-58.6262613379   \n",
       "14839  Bs.As. G.B.A. Zona Norte          NaN  -34.4007994779,-58.6381735719   \n",
       "18622  Bs.As. G.B.A. Zona Norte          NaN  -34.4032781195,-58.6263503945   \n",
       "\n",
       "             lat        lon  \n",
       "6489  -34.400897 -58.638098  \n",
       "10201 -34.400704 -58.638067  \n",
       "11451 -34.402688 -58.626261  \n",
       "14839 -34.400799 -58.638174  \n",
       "18622 -34.403278 -58.626350  "
      ]
     },
     "execution_count": 20,
     "metadata": {},
     "output_type": "execute_result"
    }
   ],
   "source": [
    "# Vemos los datos correspondientes a los valores nulos de la columna place_name\n",
    "mask = ~location_data.apply(lambda x: x['place_name'] in x['place_with_parent_names'], axis=1)\n",
    "location_data_place_name_nan = location_data[mask].copy()\n",
    "location_data_place_name_nan.head()"
   ]
  },
  {
   "cell_type": "code",
   "execution_count": 21,
   "metadata": {},
   "outputs": [
    {
     "data": {
      "text/plain": [
       "Tigre    23\n",
       "Name: place_with_parent_names, dtype: int64"
      ]
     },
     "execution_count": 21,
     "metadata": {},
     "output_type": "execute_result"
    }
   ],
   "source": [
    "location_data_place_name_nan['place_with_parent_names'].apply(lambda x: x[2]).value_counts()"
   ]
  },
  {
   "cell_type": "markdown",
   "metadata": {},
   "source": [
    "*Conclusión: Los registros que no tienen valor en place_name son los que no coinciden, todos del municipio de Tigre.*  \n",
    "\n",
    "\n",
    "\n"
   ]
  },
  {
   "cell_type": "markdown",
   "metadata": {},
   "source": [
    "#### Análisis de registros de place_with_parent_names con 4 valores\n",
    "___"
   ]
  },
  {
   "cell_type": "code",
   "execution_count": 22,
   "metadata": {},
   "outputs": [
    {
     "data": {
      "text/plain": [
       "(39869,)"
      ]
     },
     "execution_count": 22,
     "metadata": {},
     "output_type": "execute_result"
    }
   ],
   "source": [
    "# Revisamos los place_with_parent_names con cuatro elementos\n",
    "mask = location_data['place_with_parent_names'].apply(lambda x: len(x) == 4)\n",
    "location_data_4_elements = location_data[mask].copy()\n",
    "location_data_4_elements['place_with_parent_names'].shape\n"
   ]
  },
  {
   "cell_type": "code",
   "execution_count": 23,
   "metadata": {},
   "outputs": [
    {
     "data": {
      "text/plain": [
       "Bs.As. G.B.A. Zona Norte        17198\n",
       "Bs.As. G.B.A. Zona Sur          11638\n",
       "Bs.As. G.B.A. Zona Oeste         7058\n",
       "Capital Federal                  1198\n",
       "Buenos Aires Costa Atlántica     1177\n",
       "Buenos Aires Interior             962\n",
       "Río Negro                         638\n",
       "Name: place_with_parent_names, dtype: int64"
      ]
     },
     "execution_count": 23,
     "metadata": {},
     "output_type": "execute_result"
    }
   ],
   "source": [
    "# Contamos los valores de la columna place_with_parent_names por el segundo elemento (descartamos el primero porque sabemos que siempre es Argentina)\n",
    "location_data_4_elements['place_with_parent_names'].apply(lambda x: x[1]).value_counts()\n"
   ]
  },
  {
   "cell_type": "code",
   "execution_count": 24,
   "metadata": {},
   "outputs": [
    {
     "name": "stdout",
     "output_type": "stream",
     "text": [
      "place_with_parent_names[1] difference with state_name: 0\n"
     ]
    }
   ],
   "source": [
    "# Confirmamos que los valores de la columna place_with_parent_names[1] coinciden con los valores de la columna state_name\n",
    "mask = (location_data_4_elements['place_with_parent_names'].apply(lambda x: x[1]) != location_data_4_elements['state_name'])\n",
    "print(\"place_with_parent_names[1] difference with state_name:\", location_data_4_elements[mask].shape[0])\n"
   ]
  },
  {
   "cell_type": "code",
   "execution_count": 25,
   "metadata": {},
   "outputs": [
    {
     "name": "stdout",
     "output_type": "stream",
     "text": [
      "place_with_parent_names[2] difference with place_name: 29842\n",
      "place_with_parent_names[2] proportional difference with place_name: 0.7485013418947052\n"
     ]
    },
    {
     "data": {
      "text/html": [
       "<div>\n",
       "<style scoped>\n",
       "    .dataframe tbody tr th:only-of-type {\n",
       "        vertical-align: middle;\n",
       "    }\n",
       "\n",
       "    .dataframe tbody tr th {\n",
       "        vertical-align: top;\n",
       "    }\n",
       "\n",
       "    .dataframe thead th {\n",
       "        text-align: right;\n",
       "    }\n",
       "</style>\n",
       "<table border=\"1\" class=\"dataframe\">\n",
       "  <thead>\n",
       "    <tr style=\"text-align: right;\">\n",
       "      <th></th>\n",
       "      <th>place_name</th>\n",
       "      <th>place_with_parent_names</th>\n",
       "      <th>country_name</th>\n",
       "      <th>state_name</th>\n",
       "    </tr>\n",
       "  </thead>\n",
       "  <tbody>\n",
       "    <tr>\n",
       "      <th>107745</th>\n",
       "      <td>La Plata</td>\n",
       "      <td>[Argentina, Bs.As. G.B.A. Zona Sur, La Plata, La Plata]</td>\n",
       "      <td>Argentina</td>\n",
       "      <td>Bs.As. G.B.A. Zona Sur</td>\n",
       "    </tr>\n",
       "    <tr>\n",
       "      <th>40800</th>\n",
       "      <td>La Plata</td>\n",
       "      <td>[Argentina, Bs.As. G.B.A. Zona Sur, La Plata, La Plata]</td>\n",
       "      <td>Argentina</td>\n",
       "      <td>Bs.As. G.B.A. Zona Sur</td>\n",
       "    </tr>\n",
       "    <tr>\n",
       "      <th>103496</th>\n",
       "      <td>Lomas de Zamora</td>\n",
       "      <td>[Argentina, Bs.As. G.B.A. Zona Sur, Lomas de Zamora, Lomas de Zamora]</td>\n",
       "      <td>Argentina</td>\n",
       "      <td>Bs.As. G.B.A. Zona Sur</td>\n",
       "    </tr>\n",
       "    <tr>\n",
       "      <th>108441</th>\n",
       "      <td>La Plata</td>\n",
       "      <td>[Argentina, Bs.As. G.B.A. Zona Sur, La Plata, La Plata]</td>\n",
       "      <td>Argentina</td>\n",
       "      <td>Bs.As. G.B.A. Zona Sur</td>\n",
       "    </tr>\n",
       "    <tr>\n",
       "      <th>41794</th>\n",
       "      <td>San Carlos de Bariloche</td>\n",
       "      <td>[Argentina, Río Negro, San Carlos de Bariloche, San Carlos de Bariloche]</td>\n",
       "      <td>Argentina</td>\n",
       "      <td>Río Negro</td>\n",
       "    </tr>\n",
       "    <tr>\n",
       "      <th>84172</th>\n",
       "      <td>Lanús</td>\n",
       "      <td>[Argentina, Bs.As. G.B.A. Zona Sur, Lanús, Lanús]</td>\n",
       "      <td>Argentina</td>\n",
       "      <td>Bs.As. G.B.A. Zona Sur</td>\n",
       "    </tr>\n",
       "    <tr>\n",
       "      <th>375</th>\n",
       "      <td>La Plata</td>\n",
       "      <td>[Argentina, Bs.As. G.B.A. Zona Sur, La Plata, La Plata]</td>\n",
       "      <td>Argentina</td>\n",
       "      <td>Bs.As. G.B.A. Zona Sur</td>\n",
       "    </tr>\n",
       "    <tr>\n",
       "      <th>81485</th>\n",
       "      <td>Luján</td>\n",
       "      <td>[Argentina, Buenos Aires Interior, Luján, Luján]</td>\n",
       "      <td>Argentina</td>\n",
       "      <td>Buenos Aires Interior</td>\n",
       "    </tr>\n",
       "    <tr>\n",
       "      <th>17042</th>\n",
       "      <td>La Plata</td>\n",
       "      <td>[Argentina, Bs.As. G.B.A. Zona Sur, La Plata, La Plata]</td>\n",
       "      <td>Argentina</td>\n",
       "      <td>Bs.As. G.B.A. Zona Sur</td>\n",
       "    </tr>\n",
       "    <tr>\n",
       "      <th>101826</th>\n",
       "      <td>Lanús</td>\n",
       "      <td>[Argentina, Bs.As. G.B.A. Zona Sur, Lanús, Lanús]</td>\n",
       "      <td>Argentina</td>\n",
       "      <td>Bs.As. G.B.A. Zona Sur</td>\n",
       "    </tr>\n",
       "  </tbody>\n",
       "</table>\n",
       "</div>"
      ],
      "text/plain": [
       "                     place_name  \\\n",
       "107745                 La Plata   \n",
       "40800                  La Plata   \n",
       "103496          Lomas de Zamora   \n",
       "108441                 La Plata   \n",
       "41794   San Carlos de Bariloche   \n",
       "84172                     Lanús   \n",
       "375                    La Plata   \n",
       "81485                     Luján   \n",
       "17042                  La Plata   \n",
       "101826                    Lanús   \n",
       "\n",
       "                                                         place_with_parent_names  \\\n",
       "107745                   [Argentina, Bs.As. G.B.A. Zona Sur, La Plata, La Plata]   \n",
       "40800                    [Argentina, Bs.As. G.B.A. Zona Sur, La Plata, La Plata]   \n",
       "103496     [Argentina, Bs.As. G.B.A. Zona Sur, Lomas de Zamora, Lomas de Zamora]   \n",
       "108441                   [Argentina, Bs.As. G.B.A. Zona Sur, La Plata, La Plata]   \n",
       "41794   [Argentina, Río Negro, San Carlos de Bariloche, San Carlos de Bariloche]   \n",
       "84172                          [Argentina, Bs.As. G.B.A. Zona Sur, Lanús, Lanús]   \n",
       "375                      [Argentina, Bs.As. G.B.A. Zona Sur, La Plata, La Plata]   \n",
       "81485                           [Argentina, Buenos Aires Interior, Luján, Luján]   \n",
       "17042                    [Argentina, Bs.As. G.B.A. Zona Sur, La Plata, La Plata]   \n",
       "101826                         [Argentina, Bs.As. G.B.A. Zona Sur, Lanús, Lanús]   \n",
       "\n",
       "       country_name              state_name  \n",
       "107745    Argentina  Bs.As. G.B.A. Zona Sur  \n",
       "40800     Argentina  Bs.As. G.B.A. Zona Sur  \n",
       "103496    Argentina  Bs.As. G.B.A. Zona Sur  \n",
       "108441    Argentina  Bs.As. G.B.A. Zona Sur  \n",
       "41794     Argentina               Río Negro  \n",
       "84172     Argentina  Bs.As. G.B.A. Zona Sur  \n",
       "375       Argentina  Bs.As. G.B.A. Zona Sur  \n",
       "81485     Argentina   Buenos Aires Interior  \n",
       "17042     Argentina  Bs.As. G.B.A. Zona Sur  \n",
       "101826    Argentina  Bs.As. G.B.A. Zona Sur  "
      ]
     },
     "execution_count": 25,
     "metadata": {},
     "output_type": "execute_result"
    }
   ],
   "source": [
    "# Confirmamos que los valores de la columna place_with_parent_names[2] coinciden con los valores de la columna place_name\n",
    "mask = location_data_4_elements['place_with_parent_names'].apply(lambda x: x[2]) != location_data_4_elements['place_name']\n",
    "print(\"place_with_parent_names[2] difference with place_name:\", location_data_4_elements[mask].shape[0])\n",
    "print(\"place_with_parent_names[2] proportional difference with place_name:\", location_data_4_elements[mask].shape[0] / location_data_4_elements.shape[0])\n",
    "anti_mask = ~mask\n",
    "location_data_4_elements_non_matching = location_data_4_elements[anti_mask].copy()\n",
    "location_data_4_elements_non_matching[places].sample(10)"
   ]
  },
  {
   "cell_type": "code",
   "execution_count": 26,
   "metadata": {},
   "outputs": [
    {
     "data": {
      "text/plain": [
       "1.0"
      ]
     },
     "execution_count": 26,
     "metadata": {},
     "output_type": "execute_result"
    }
   ],
   "source": [
    "# No coinciden en 29842 registros pero coinciden en el resto. \n",
    "# Confirmamos que los que coinciden son iguales al valor[3]\n",
    "mask = location_data_4_elements_non_matching['place_with_parent_names'].apply(lambda x: x[2]) == location_data_4_elements_non_matching['place_with_parent_names'].apply(lambda x: x[3])\n",
    "location_data_4_elements_non_matching[mask].shape[0]/ location_data_4_elements_non_matching.shape[0]"
   ]
  },
  {
   "cell_type": "code",
   "execution_count": 27,
   "metadata": {},
   "outputs": [
    {
     "name": "stdout",
     "output_type": "stream",
     "text": [
      "place_with_parent_names[3] difference with place_name: 0\n"
     ]
    },
    {
     "data": {
      "text/html": [
       "<div>\n",
       "<style scoped>\n",
       "    .dataframe tbody tr th:only-of-type {\n",
       "        vertical-align: middle;\n",
       "    }\n",
       "\n",
       "    .dataframe tbody tr th {\n",
       "        vertical-align: top;\n",
       "    }\n",
       "\n",
       "    .dataframe thead th {\n",
       "        text-align: right;\n",
       "    }\n",
       "</style>\n",
       "<table border=\"1\" class=\"dataframe\">\n",
       "  <thead>\n",
       "    <tr style=\"text-align: right;\">\n",
       "      <th></th>\n",
       "      <th>place_name</th>\n",
       "      <th>place_with_parent_names</th>\n",
       "      <th>country_name</th>\n",
       "      <th>state_name</th>\n",
       "    </tr>\n",
       "  </thead>\n",
       "  <tbody>\n",
       "    <tr>\n",
       "      <th>19542</th>\n",
       "      <td>Chascomús</td>\n",
       "      <td>[Argentina, Buenos Aires Interior, Chascomús, Chascomús]</td>\n",
       "      <td>Argentina</td>\n",
       "      <td>Buenos Aires Interior</td>\n",
       "    </tr>\n",
       "    <tr>\n",
       "      <th>99216</th>\n",
       "      <td>San Miguel</td>\n",
       "      <td>[Argentina, Bs.As. G.B.A. Zona Norte, San Miguel, San Miguel]</td>\n",
       "      <td>Argentina</td>\n",
       "      <td>Bs.As. G.B.A. Zona Norte</td>\n",
       "    </tr>\n",
       "    <tr>\n",
       "      <th>77300</th>\n",
       "      <td>Adrogué</td>\n",
       "      <td>[Argentina, Bs.As. G.B.A. Zona Sur, Almirante Brown, Adrogué]</td>\n",
       "      <td>Argentina</td>\n",
       "      <td>Bs.As. G.B.A. Zona Sur</td>\n",
       "    </tr>\n",
       "    <tr>\n",
       "      <th>1877</th>\n",
       "      <td>Nordelta</td>\n",
       "      <td>[Argentina, Bs.As. G.B.A. Zona Norte, Tigre, Nordelta]</td>\n",
       "      <td>Argentina</td>\n",
       "      <td>Bs.As. G.B.A. Zona Norte</td>\n",
       "    </tr>\n",
       "    <tr>\n",
       "      <th>75882</th>\n",
       "      <td>Lanús</td>\n",
       "      <td>[Argentina, Bs.As. G.B.A. Zona Sur, Lanús, Lanús]</td>\n",
       "      <td>Argentina</td>\n",
       "      <td>Bs.As. G.B.A. Zona Sur</td>\n",
       "    </tr>\n",
       "    <tr>\n",
       "      <th>80489</th>\n",
       "      <td>Luján</td>\n",
       "      <td>[Argentina, Buenos Aires Interior, Luján, Luján]</td>\n",
       "      <td>Argentina</td>\n",
       "      <td>Buenos Aires Interior</td>\n",
       "    </tr>\n",
       "    <tr>\n",
       "      <th>36243</th>\n",
       "      <td>Haedo</td>\n",
       "      <td>[Argentina, Bs.As. G.B.A. Zona Oeste, Morón, Haedo]</td>\n",
       "      <td>Argentina</td>\n",
       "      <td>Bs.As. G.B.A. Zona Oeste</td>\n",
       "    </tr>\n",
       "    <tr>\n",
       "      <th>81777</th>\n",
       "      <td>Nordelta</td>\n",
       "      <td>[Argentina, Bs.As. G.B.A. Zona Norte, Tigre, Nordelta]</td>\n",
       "      <td>Argentina</td>\n",
       "      <td>Bs.As. G.B.A. Zona Norte</td>\n",
       "    </tr>\n",
       "    <tr>\n",
       "      <th>33866</th>\n",
       "      <td>Marcos Paz</td>\n",
       "      <td>[Argentina, Bs.As. G.B.A. Zona Oeste, Marcos Paz, Marcos Paz]</td>\n",
       "      <td>Argentina</td>\n",
       "      <td>Bs.As. G.B.A. Zona Oeste</td>\n",
       "    </tr>\n",
       "    <tr>\n",
       "      <th>7867</th>\n",
       "      <td>Ramos Mejía</td>\n",
       "      <td>[Argentina, Bs.As. G.B.A. Zona Oeste, La Matanza, Ramos Mejía]</td>\n",
       "      <td>Argentina</td>\n",
       "      <td>Bs.As. G.B.A. Zona Oeste</td>\n",
       "    </tr>\n",
       "  </tbody>\n",
       "</table>\n",
       "</div>"
      ],
      "text/plain": [
       "        place_name  \\\n",
       "19542    Chascomús   \n",
       "99216   San Miguel   \n",
       "77300      Adrogué   \n",
       "1877      Nordelta   \n",
       "75882        Lanús   \n",
       "80489        Luján   \n",
       "36243        Haedo   \n",
       "81777     Nordelta   \n",
       "33866   Marcos Paz   \n",
       "7867   Ramos Mejía   \n",
       "\n",
       "                                              place_with_parent_names  \\\n",
       "19542        [Argentina, Buenos Aires Interior, Chascomús, Chascomús]   \n",
       "99216   [Argentina, Bs.As. G.B.A. Zona Norte, San Miguel, San Miguel]   \n",
       "77300   [Argentina, Bs.As. G.B.A. Zona Sur, Almirante Brown, Adrogué]   \n",
       "1877           [Argentina, Bs.As. G.B.A. Zona Norte, Tigre, Nordelta]   \n",
       "75882               [Argentina, Bs.As. G.B.A. Zona Sur, Lanús, Lanús]   \n",
       "80489                [Argentina, Buenos Aires Interior, Luján, Luján]   \n",
       "36243             [Argentina, Bs.As. G.B.A. Zona Oeste, Morón, Haedo]   \n",
       "81777          [Argentina, Bs.As. G.B.A. Zona Norte, Tigre, Nordelta]   \n",
       "33866   [Argentina, Bs.As. G.B.A. Zona Oeste, Marcos Paz, Marcos Paz]   \n",
       "7867   [Argentina, Bs.As. G.B.A. Zona Oeste, La Matanza, Ramos Mejía]   \n",
       "\n",
       "      country_name                state_name  \n",
       "19542    Argentina     Buenos Aires Interior  \n",
       "99216    Argentina  Bs.As. G.B.A. Zona Norte  \n",
       "77300    Argentina    Bs.As. G.B.A. Zona Sur  \n",
       "1877     Argentina  Bs.As. G.B.A. Zona Norte  \n",
       "75882    Argentina    Bs.As. G.B.A. Zona Sur  \n",
       "80489    Argentina     Buenos Aires Interior  \n",
       "36243    Argentina  Bs.As. G.B.A. Zona Oeste  \n",
       "81777    Argentina  Bs.As. G.B.A. Zona Norte  \n",
       "33866    Argentina  Bs.As. G.B.A. Zona Oeste  \n",
       "7867     Argentina  Bs.As. G.B.A. Zona Oeste  "
      ]
     },
     "execution_count": 27,
     "metadata": {},
     "output_type": "execute_result"
    }
   ],
   "source": [
    "# Confirmamos que los valores de la columna place_with_parent_names[3] coinciden con los valores de la columna place_name\n",
    "mask = (location_data_4_elements['place_with_parent_names'].apply(lambda x: x[3]) != location_data_4_elements['place_name'])\n",
    "print(\"place_with_parent_names[3] difference with place_name:\", location_data_4_elements[mask].shape[0])\n",
    "location_data_4_elements[~mask][places].sample(10)"
   ]
  },
  {
   "cell_type": "markdown",
   "metadata": {},
   "source": [
    "*Conclusión: De los 39869 registros con 4 valores, 29842 toman el valor de place_name del 4to valor de la lista (City). Los 10027 restantes toman el 3er valor (Municipality) que está duplicado con el 4to valor (City).*\n",
    "\n",
    "- place_name asignado a municipio: 10027\n",
    "- place_name asignado a ciudad: 29842"
   ]
  },
  {
   "cell_type": "markdown",
   "metadata": {},
   "source": [
    "Otra forma de ver si los datos de place_with_parent_names son los de place_name"
   ]
  },
  {
   "cell_type": "markdown",
   "metadata": {},
   "source": []
  }
 ],
 "metadata": {
  "kernelspec": {
   "display_name": "Python 3.10.4 ('DH')",
   "language": "python",
   "name": "python3"
  },
  "language_info": {
   "codemirror_mode": {
    "name": "ipython",
    "version": 3
   },
   "file_extension": ".py",
   "mimetype": "text/x-python",
   "name": "python",
   "nbconvert_exporter": "python",
   "pygments_lexer": "ipython3",
   "version": "3.10.4"
  },
  "orig_nbformat": 4,
  "vscode": {
   "interpreter": {
    "hash": "fa08644e93f5ad6b3c1e930965e944c16707fd43381b34471e0217a3cc73ebe0"
   }
  }
 },
 "nbformat": 4,
 "nbformat_minor": 2
}
