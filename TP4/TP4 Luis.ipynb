{
  "cells": [
    {
      "attachments": {},
      "cell_type": "markdown",
      "metadata": {},
      "source": [
        "## Integrantes:\n",
        "1. Camila Coltriani\n",
        "2. Luis Dartayet\n",
        "3. Irania Fuentes\n",
        "4. Jonathan Fichelson\n",
        "5. Ornella Cevoli\n",
        "# Trabajo práctico  4: Analisis de los sentimientos en Twitter"
      ]
    },
    {
      "attachments": {},
      "cell_type": "markdown",
      "metadata": {},
      "source": [
        "# Introducción\n",
        "Las redes sociales como Twitter han demostrado ser excelentes recursos de información sobre muchos eventos que acontecen en el mundo; tienen el poder de cambiar las opiniones de millones de personas siendo especialmente útil para influir en las masas: campañas políticas, cotización de monedas virtuales, publicidad de ventas, entre otros.\n",
        "Pensando en esto, se presenta el siguiente objetivo."
      ]
    },
    {
      "attachments": {},
      "cell_type": "markdown",
      "metadata": {},
      "source": [
        "# Objetivo:\n",
        "Analizar los sentimientos con la finalidad de predecir el comportamiento de personas y propagar cambios en tiempo real a medida que se desarrolla el evento que se quiere estudiar.\n",
        "\n",
        "## Fuente:\n",
        "Dataset Kaggle: https://www.kaggle.com/code/paoloripamonti/twitter-sentiment-analysis/input"
      ]
    },
    {
      "attachments": {},
      "cell_type": "markdown",
      "metadata": {},
      "source": [
        "## Importación de los datos"
      ]
    },
    {
      "cell_type": "code",
      "execution_count": 1,
      "metadata": {},
      "outputs": [],
      "source": [
        "import pandas as pd"
      ]
    },
    {
      "cell_type": "code",
      "execution_count": 2,
      "metadata": {},
      "outputs": [
        {
          "name": "stdout",
          "output_type": "stream",
          "text": [
            "(1599999, 6)\n"
          ]
        },
        {
          "data": {
            "text/html": [
              "<div>\n",
              "<style scoped>\n",
              "    .dataframe tbody tr th:only-of-type {\n",
              "        vertical-align: middle;\n",
              "    }\n",
              "\n",
              "    .dataframe tbody tr th {\n",
              "        vertical-align: top;\n",
              "    }\n",
              "\n",
              "    .dataframe thead th {\n",
              "        text-align: right;\n",
              "    }\n",
              "</style>\n",
              "<table border=\"1\" class=\"dataframe\">\n",
              "  <thead>\n",
              "    <tr style=\"text-align: right;\">\n",
              "      <th></th>\n",
              "      <th>target</th>\n",
              "      <th>id</th>\n",
              "      <th>date</th>\n",
              "      <th>flag</th>\n",
              "      <th>user</th>\n",
              "      <th>text</th>\n",
              "    </tr>\n",
              "  </thead>\n",
              "  <tbody>\n",
              "    <tr>\n",
              "      <th>0</th>\n",
              "      <td>0</td>\n",
              "      <td>1467810672</td>\n",
              "      <td>Mon Apr 06 22:19:49 PDT 2009</td>\n",
              "      <td>NO_QUERY</td>\n",
              "      <td>scotthamilton</td>\n",
              "      <td>is upset that he can't update his Facebook by ...</td>\n",
              "    </tr>\n",
              "    <tr>\n",
              "      <th>1</th>\n",
              "      <td>0</td>\n",
              "      <td>1467810917</td>\n",
              "      <td>Mon Apr 06 22:19:53 PDT 2009</td>\n",
              "      <td>NO_QUERY</td>\n",
              "      <td>mattycus</td>\n",
              "      <td>@Kenichan I dived many times for the ball. Man...</td>\n",
              "    </tr>\n",
              "    <tr>\n",
              "      <th>2</th>\n",
              "      <td>0</td>\n",
              "      <td>1467811184</td>\n",
              "      <td>Mon Apr 06 22:19:57 PDT 2009</td>\n",
              "      <td>NO_QUERY</td>\n",
              "      <td>ElleCTF</td>\n",
              "      <td>my whole body feels itchy and like its on fire</td>\n",
              "    </tr>\n",
              "    <tr>\n",
              "      <th>3</th>\n",
              "      <td>0</td>\n",
              "      <td>1467811193</td>\n",
              "      <td>Mon Apr 06 22:19:57 PDT 2009</td>\n",
              "      <td>NO_QUERY</td>\n",
              "      <td>Karoli</td>\n",
              "      <td>@nationwideclass no, it's not behaving at all....</td>\n",
              "    </tr>\n",
              "    <tr>\n",
              "      <th>4</th>\n",
              "      <td>0</td>\n",
              "      <td>1467811372</td>\n",
              "      <td>Mon Apr 06 22:20:00 PDT 2009</td>\n",
              "      <td>NO_QUERY</td>\n",
              "      <td>joy_wolf</td>\n",
              "      <td>@Kwesidei not the whole crew</td>\n",
              "    </tr>\n",
              "  </tbody>\n",
              "</table>\n",
              "</div>"
            ],
            "text/plain": [
              "   target          id                          date      flag           user  \\\n",
              "0       0  1467810672  Mon Apr 06 22:19:49 PDT 2009  NO_QUERY  scotthamilton   \n",
              "1       0  1467810917  Mon Apr 06 22:19:53 PDT 2009  NO_QUERY       mattycus   \n",
              "2       0  1467811184  Mon Apr 06 22:19:57 PDT 2009  NO_QUERY        ElleCTF   \n",
              "3       0  1467811193  Mon Apr 06 22:19:57 PDT 2009  NO_QUERY         Karoli   \n",
              "4       0  1467811372  Mon Apr 06 22:20:00 PDT 2009  NO_QUERY       joy_wolf   \n",
              "\n",
              "                                                text  \n",
              "0  is upset that he can't update his Facebook by ...  \n",
              "1  @Kenichan I dived many times for the ball. Man...  \n",
              "2    my whole body feels itchy and like its on fire   \n",
              "3  @nationwideclass no, it's not behaving at all....  \n",
              "4                      @Kwesidei not the whole crew   "
            ]
          },
          "execution_count": 2,
          "metadata": {},
          "output_type": "execute_result"
        }
      ],
      "source": [
        "#cargar y leer el dataset\n",
        "data = pd.read_csv('./data/twitter.csv', encoding='ANSI')\n",
        "data.columns = [ 'target', 'id', 'date', 'flag', 'user', 'text']\n",
        "print(data.shape)\n",
        "data.head()"
      ]
    },
    {
      "attachments": {},
      "cell_type": "markdown",
      "metadata": {},
      "source": [
        "## Analisis exploratorio de los datos"
      ]
    },
    {
      "cell_type": "code",
      "execution_count": 3,
      "metadata": {},
      "outputs": [
        {
          "name": "stdout",
          "output_type": "stream",
          "text": [
            "Nulls:  target    0\n",
            "id        0\n",
            "date      0\n",
            "flag      0\n",
            "user      0\n",
            "text      0\n",
            "dtype: int64\n",
            "Duplicates:  0\n"
          ]
        }
      ],
      "source": [
        "# Check nulls and duplicates\n",
        "print('Nulls: ', data.isnull().sum())\n",
        "print('Duplicates: ', data.duplicated().sum())"
      ]
    },
    {
      "cell_type": "code",
      "execution_count": 4,
      "metadata": {},
      "outputs": [],
      "source": [
        "# Remove useless columns\n",
        "data.drop(['id', 'date', 'flag', 'user'], axis=1, inplace=True)"
      ]
    },
    {
      "cell_type": "code",
      "execution_count": 5,
      "metadata": {},
      "outputs": [],
      "source": [
        "# Rename target\n",
        "data['target'] = data['target'].map({0: 'negative', 4: 'positive'})"
      ]
    },
    {
      "cell_type": "code",
      "execution_count": 6,
      "metadata": {},
      "outputs": [
        {
          "name": "stdout",
          "output_type": "stream",
          "text": [
            "Target distribution:  positive    800000\n",
            "negative    799999\n",
            "Name: target, dtype: int64\n"
          ]
        }
      ],
      "source": [
        "# Check target distribution\n",
        "print('Target distribution: ', data.target.value_counts())"
      ]
    },
    {
      "cell_type": "code",
      "execution_count": 7,
      "metadata": {},
      "outputs": [],
      "source": [
        "#Asignamos las variables X e Y a modelar\n",
        "X = data.text\n",
        "y = data.target"
      ]
    },
    {
      "cell_type": "code",
      "execution_count": 8,
      "metadata": {},
      "outputs": [],
      "source": [
        "from sklearn.model_selection import train_test_split"
      ]
    },
    {
      "attachments": {},
      "cell_type": "markdown",
      "metadata": {},
      "source": [
        "## Preprocesamiento de los datos\n",
        "\n",
        "### División del dataset en train y test"
      ]
    },
    {
      "cell_type": "code",
      "execution_count": 9,
      "metadata": {},
      "outputs": [
        {
          "name": "stdout",
          "output_type": "stream",
          "text": [
            "(1119999,)\n",
            "(480000,)\n",
            "(1119999,)\n",
            "(480000,)\n"
          ]
        }
      ],
      "source": [
        "#Dividimos en train-test\n",
        "X_train, X_test, y_train, y_test = train_test_split(X, y,stratify=y, test_size=0.3)\n",
        "print(X_train.shape)\n",
        "print(X_test.shape)\n",
        "print(y_train.shape)\n",
        "print(y_test.shape)"
      ]
    },
    {
      "cell_type": "code",
      "execution_count": 10,
      "metadata": {},
      "outputs": [],
      "source": [
        "import re\n",
        "\n",
        "from nltk.corpus import stopwords\n",
        "from  nltk.stem import SnowballStemmer\n"
      ]
    },
    {
      "attachments": {},
      "cell_type": "markdown",
      "metadata": {},
      "source": [
        "### Limpieza del corpus: definición de una función para eliminar Stopword, aplicación de Stemming, convertir a minisculas"
      ]
    },
    {
      "cell_type": "code",
      "execution_count": 11,
      "metadata": {},
      "outputs": [],
      "source": [
        "# Expresion regular para eliminar del corpus signos de puntación/ @/ direcciones electronicas/ numeros\n",
        "limpieza_re = \"\\d+[^0-9]|@\\S+|https?:\\S+|http?:\\S|[^A-Za-z0-9]\"\n",
        "\n",
        "stop_words = stopwords.words(\"english\")\n",
        "stemmer = SnowballStemmer(\"english\")\n",
        "\n",
        "#Funcion para limpiar el corpus\n",
        "def preprocess(text, stem=False):\n",
        "    # Remove link,user and special characters\n",
        "    text = re.sub(limpieza_re, ' ', str(text).lower()).strip()\n",
        "    tokens = []\n",
        "    for token in text.split():\n",
        "        if token not in stop_words:\n",
        "            if stem:\n",
        "                tokens.append(stemmer.stem(token))\n",
        "            else:\n",
        "                tokens.append(token)\n",
        "    return \" \".join(tokens)\n",
        "\n"
      ]
    },
    {
      "cell_type": "code",
      "execution_count": 12,
      "metadata": {},
      "outputs": [],
      "source": [
        "from sklearn.base import BaseEstimator, TransformerMixin"
      ]
    },
    {
      "cell_type": "code",
      "execution_count": 13,
      "metadata": {},
      "outputs": [],
      "source": [
        "#Definición de la clase de procesamiento de texto\n",
        "class TextProcessing(BaseEstimator, TransformerMixin):\n",
        "    def fit(self, X, y=None):\n",
        "        return self\n",
        "    def transform(self, X, y=None):\n",
        "        return X.apply(preprocess)"
      ]
    },
    {
      "cell_type": "code",
      "execution_count": 14,
      "metadata": {},
      "outputs": [],
      "source": [
        "from sklearn.feature_extraction.text import CountVectorizer\n"
      ]
    },
    {
      "attachments": {},
      "cell_type": "markdown",
      "metadata": {},
      "source": [
        "## Configuración del pipeline y modelos a utilizar para la predicción de los sentimientos"
      ]
    },
    {
      "cell_type": "code",
      "execution_count": 15,
      "metadata": {},
      "outputs": [],
      "source": [
        "common_steps = [\n",
        "            ('text_processing', TextProcessing()),\n",
        "            ('vectorizer', CountVectorizer()),\n",
        "            ]\n"
      ]
    },
    {
      "cell_type": "code",
      "execution_count": 16,
      "metadata": {},
      "outputs": [],
      "source": [
        "from sklearn.pipeline import Pipeline\n",
        "from sklearn.model_selection import GridSearchCV,StratifiedKFold"
      ]
    },
    {
      "cell_type": "code",
      "execution_count": 17,
      "metadata": {},
      "outputs": [],
      "source": [
        "from sklearn.naive_bayes import MultinomialNB\n",
        "from sklearn.neighbors import KNeighborsClassifier\n",
        "from sklearn.linear_model import LogisticRegression\n",
        "from sklearn import tree"
      ]
    },
    {
      "cell_type": "code",
      "execution_count": 18,
      "metadata": {},
      "outputs": [],
      "source": [
        "# Modelos a utilizar\n",
        "\n",
        "LR_pipe = [Pipeline( common_steps + [('lr', LogisticRegression())]), {'lr__C':[0.01,0.1,1], 'lr__penalty':['l2']}]\n",
        "DT_pipe = [Pipeline( common_steps + [('dt', tree.DecisionTreeClassifier())]), {'dt__max_depth':[ 8, 12, 16] }]\n",
        "MNB_pipe = [Pipeline( common_steps + [('mnb', MultinomialNB())]), {'mnb__alpha':[1, 10, 20]}]\n",
        "\n",
        "skf=StratifiedKFold(n_splits=3,random_state=0,shuffle=True)\n",
        "models = []\n"
      ]
    },
    {
      "cell_type": "code",
      "execution_count": 19,
      "metadata": {},
      "outputs": [
        {
          "name": "stdout",
          "output_type": "stream",
          "text": [
            "Fitting 3 folds for each of 3 candidates, totalling 9 fits\n",
            "best score: 0.7749721205108219\n",
            "best params: {'lr__C': 0.1, 'lr__penalty': 'l2'}\n"
          ]
        },
        {
          "name": "stderr",
          "output_type": "stream",
          "text": [
            "c:\\Users\\DELL\\anaconda3\\envs\\DH\\lib\\site-packages\\sklearn\\linear_model\\_logistic.py:444: ConvergenceWarning: lbfgs failed to converge (status=1):\n",
            "STOP: TOTAL NO. of ITERATIONS REACHED LIMIT.\n",
            "\n",
            "Increase the number of iterations (max_iter) or scale the data as shown in:\n",
            "    https://scikit-learn.org/stable/modules/preprocessing.html\n",
            "Please also refer to the documentation for alternative solver options:\n",
            "    https://scikit-learn.org/stable/modules/linear_model.html#logistic-regression\n",
            "  n_iter_i = _check_optimize_result(\n"
          ]
        }
      ],
      "source": [
        "#Configuración del gridsearch para el modelo de Regresión Logistica y definir los mejores parametros \n",
        "pipelines = [ LR_pipe]\n",
        "\n",
        "for pipe in pipelines:\n",
        "    GS_CV=GridSearchCV(pipe[0],pipe[1],cv=skf,verbose=10,n_jobs=3);\n",
        "    GS_CV.fit(X_train, y_train);\n",
        "    models.append(GS_CV)\n",
        "    print('best score:',GS_CV.best_score_)\n",
        "    print('best params:',GS_CV.best_params_) "
      ]
    },
    {
      "cell_type": "code",
      "execution_count": 20,
      "metadata": {},
      "outputs": [
        {
          "name": "stdout",
          "output_type": "stream",
          "text": [
            "Fitting 3 folds for each of 3 candidates, totalling 9 fits\n",
            "best score: 0.5871737385479808\n",
            "best params: {'dt__max_depth': 12}\n"
          ]
        }
      ],
      "source": [
        "#Configuración del gridsearch para el modelo de arbol de decisión y definir los mejores parametros \n",
        "# pipelines = [ DT_pipe]\n",
        "\n",
        "# for pipe in pipelines:\n",
        "#     GS_CV=GridSearchCV(pipe[0],pipe[1],cv=skf,verbose=10,n_jobs=3);\n",
        "#     GS_CV.fit(X_train, y_train);\n",
        "#     models.append(GS_CV)\n",
        "#     print('best score:',GS_CV.best_score_)\n",
        "#     print('best params:',GS_CV.best_params_) "
      ]
    },
    {
      "cell_type": "code",
      "execution_count": 21,
      "metadata": {},
      "outputs": [
        {
          "name": "stdout",
          "output_type": "stream",
          "text": [
            "Fitting 3 folds for each of 3 candidates, totalling 9 fits\n",
            "best score: 0.765930148151918\n",
            "best params: {'mnb__alpha': 10}\n"
          ]
        }
      ],
      "source": [
        "#Configuración del gridsearch para el modelo de Multinomial Naive Baye y definir los mejores parametros \n",
        "# pipelines = [ MNB_pipe]\n",
        "\n",
        "# for pipe in pipelines:\n",
        "#     GS_CV=GridSearchCV(pipe[0],pipe[1],cv=skf,verbose=10,n_jobs=3);\n",
        "#     GS_CV.fit(X_train, y_train);\n",
        "#     models.append(GS_CV)\n",
        "#     print('best score:',GS_CV.best_score_)\n",
        "#     print('best params:',GS_CV.best_params_) "
      ]
    },
    {
      "cell_type": "code",
      "execution_count": 23,
      "metadata": {},
      "outputs": [
        {
          "name": "stdout",
          "output_type": "stream",
          "text": [
            "Pipeline(steps=[('text_processing', TextProcessing()),\n",
            "                ('vectorizer', CountVectorizer()),\n",
            "                ('lr', LogisticRegression(C=0.1))])\n",
            "Accuracy:  0.7774958333333334\n",
            "Classification report:                precision    recall  f1-score   support\n",
            "\n",
            "    negative       0.79      0.75      0.77    240000\n",
            "    positive       0.76      0.81      0.78    240000\n",
            "\n",
            "    accuracy                           0.78    480000\n",
            "   macro avg       0.78      0.78      0.78    480000\n",
            "weighted avg       0.78      0.78      0.78    480000\n",
            "\n",
            "Confusion matrix:  [[179598  60402]\n",
            " [ 46400 193600]]\n",
            "Pipeline(steps=[('text_processing', TextProcessing()),\n",
            "                ('vectorizer', CountVectorizer()),\n",
            "                ('dt', DecisionTreeClassifier(max_depth=12))])\n",
            "Accuracy:  0.5881833333333333\n",
            "Classification report:                precision    recall  f1-score   support\n",
            "\n",
            "    negative       0.82      0.23      0.35    240000\n",
            "    positive       0.55      0.95      0.70    240000\n",
            "\n",
            "    accuracy                           0.59    480000\n",
            "   macro avg       0.69      0.59      0.53    480000\n",
            "weighted avg       0.69      0.59      0.53    480000\n",
            "\n",
            "Confusion matrix:  [[ 54092 185908]\n",
            " [ 11764 228236]]\n",
            "Pipeline(steps=[('text_processing', TextProcessing()),\n",
            "                ('vectorizer', CountVectorizer()),\n",
            "                ('mnb', MultinomialNB(alpha=10))])\n",
            "Accuracy:  0.7689645833333333\n",
            "Classification report:                precision    recall  f1-score   support\n",
            "\n",
            "    negative       0.76      0.79      0.77    240000\n",
            "    positive       0.78      0.75      0.76    240000\n",
            "\n",
            "    accuracy                           0.77    480000\n",
            "   macro avg       0.77      0.77      0.77    480000\n",
            "weighted avg       0.77      0.77      0.77    480000\n",
            "\n",
            "Confusion matrix:  [[189738  50262]\n",
            " [ 60635 179365]]\n"
          ]
        }
      ],
      "source": [
        "## Models evaluation\n",
        "\n",
        "from sklearn.metrics import accuracy_score, classification_report, confusion_matrix\n",
        "\n",
        "\n",
        "for model in models:\n",
        "    print(model.best_estimator_)\n",
        "    y_pred = model.predict(X_test)\n",
        "    print('Accuracy: ', accuracy_score(y_test, y_pred))\n",
        "    print('Classification report: ', classification_report(y_test, y_pred))\n",
        "    print('Confusion matrix: ', confusion_matrix(y_test, y_pred))\n",
        "\n"
      ]
    },
    {
      "cell_type": "code",
      "execution_count": 31,
      "metadata": {},
      "outputs": [
        {
          "data": {
            "text/html": [
              "<style>#sk-container-id-1 {color: black;background-color: white;}#sk-container-id-1 pre{padding: 0;}#sk-container-id-1 div.sk-toggleable {background-color: white;}#sk-container-id-1 label.sk-toggleable__label {cursor: pointer;display: block;width: 100%;margin-bottom: 0;padding: 0.3em;box-sizing: border-box;text-align: center;}#sk-container-id-1 label.sk-toggleable__label-arrow:before {content: \"▸\";float: left;margin-right: 0.25em;color: #696969;}#sk-container-id-1 label.sk-toggleable__label-arrow:hover:before {color: black;}#sk-container-id-1 div.sk-estimator:hover label.sk-toggleable__label-arrow:before {color: black;}#sk-container-id-1 div.sk-toggleable__content {max-height: 0;max-width: 0;overflow: hidden;text-align: left;background-color: #f0f8ff;}#sk-container-id-1 div.sk-toggleable__content pre {margin: 0.2em;color: black;border-radius: 0.25em;background-color: #f0f8ff;}#sk-container-id-1 input.sk-toggleable__control:checked~div.sk-toggleable__content {max-height: 200px;max-width: 100%;overflow: auto;}#sk-container-id-1 input.sk-toggleable__control:checked~label.sk-toggleable__label-arrow:before {content: \"▾\";}#sk-container-id-1 div.sk-estimator input.sk-toggleable__control:checked~label.sk-toggleable__label {background-color: #d4ebff;}#sk-container-id-1 div.sk-label input.sk-toggleable__control:checked~label.sk-toggleable__label {background-color: #d4ebff;}#sk-container-id-1 input.sk-hidden--visually {border: 0;clip: rect(1px 1px 1px 1px);clip: rect(1px, 1px, 1px, 1px);height: 1px;margin: -1px;overflow: hidden;padding: 0;position: absolute;width: 1px;}#sk-container-id-1 div.sk-estimator {font-family: monospace;background-color: #f0f8ff;border: 1px dotted black;border-radius: 0.25em;box-sizing: border-box;margin-bottom: 0.5em;}#sk-container-id-1 div.sk-estimator:hover {background-color: #d4ebff;}#sk-container-id-1 div.sk-parallel-item::after {content: \"\";width: 100%;border-bottom: 1px solid gray;flex-grow: 1;}#sk-container-id-1 div.sk-label:hover label.sk-toggleable__label {background-color: #d4ebff;}#sk-container-id-1 div.sk-serial::before {content: \"\";position: absolute;border-left: 1px solid gray;box-sizing: border-box;top: 0;bottom: 0;left: 50%;z-index: 0;}#sk-container-id-1 div.sk-serial {display: flex;flex-direction: column;align-items: center;background-color: white;padding-right: 0.2em;padding-left: 0.2em;position: relative;}#sk-container-id-1 div.sk-item {position: relative;z-index: 1;}#sk-container-id-1 div.sk-parallel {display: flex;align-items: stretch;justify-content: center;background-color: white;position: relative;}#sk-container-id-1 div.sk-item::before, #sk-container-id-1 div.sk-parallel-item::before {content: \"\";position: absolute;border-left: 1px solid gray;box-sizing: border-box;top: 0;bottom: 0;left: 50%;z-index: -1;}#sk-container-id-1 div.sk-parallel-item {display: flex;flex-direction: column;z-index: 1;position: relative;background-color: white;}#sk-container-id-1 div.sk-parallel-item:first-child::after {align-self: flex-end;width: 50%;}#sk-container-id-1 div.sk-parallel-item:last-child::after {align-self: flex-start;width: 50%;}#sk-container-id-1 div.sk-parallel-item:only-child::after {width: 0;}#sk-container-id-1 div.sk-dashed-wrapped {border: 1px dashed gray;margin: 0 0.4em 0.5em 0.4em;box-sizing: border-box;padding-bottom: 0.4em;background-color: white;}#sk-container-id-1 div.sk-label label {font-family: monospace;font-weight: bold;display: inline-block;line-height: 1.2em;}#sk-container-id-1 div.sk-label-container {text-align: center;}#sk-container-id-1 div.sk-container {/* jupyter's `normalize.less` sets `[hidden] { display: none; }` but bootstrap.min.css set `[hidden] { display: none !important; }` so we also need the `!important` here to be able to override the default hidden behavior on the sphinx rendered scikit-learn.org. See: https://github.com/scikit-learn/scikit-learn/issues/21755 */display: inline-block !important;position: relative;}#sk-container-id-1 div.sk-text-repr-fallback {display: none;}</style><div id=\"sk-container-id-1\" class=\"sk-top-container\"><div class=\"sk-text-repr-fallback\"><pre>GridSearchCV(cv=StratifiedKFold(n_splits=3, random_state=0, shuffle=True),\n",
              "             estimator=Pipeline(steps=[(&#x27;text_processing&#x27;, TextProcessing()),\n",
              "                                       (&#x27;vectorizer&#x27;, CountVectorizer()),\n",
              "                                       (&#x27;lr&#x27;, LogisticRegression())]),\n",
              "             n_jobs=3,\n",
              "             param_grid={&#x27;lr__C&#x27;: [0.01, 0.1, 1], &#x27;lr__penalty&#x27;: [&#x27;l2&#x27;]},\n",
              "             verbose=10)</pre><b>In a Jupyter environment, please rerun this cell to show the HTML representation or trust the notebook. <br />On GitHub, the HTML representation is unable to render, please try loading this page with nbviewer.org.</b></div><div class=\"sk-container\" hidden><div class=\"sk-item sk-dashed-wrapped\"><div class=\"sk-label-container\"><div class=\"sk-label sk-toggleable\"><input class=\"sk-toggleable__control sk-hidden--visually\" id=\"sk-estimator-id-1\" type=\"checkbox\" ><label for=\"sk-estimator-id-1\" class=\"sk-toggleable__label sk-toggleable__label-arrow\">GridSearchCV</label><div class=\"sk-toggleable__content\"><pre>GridSearchCV(cv=StratifiedKFold(n_splits=3, random_state=0, shuffle=True),\n",
              "             estimator=Pipeline(steps=[(&#x27;text_processing&#x27;, TextProcessing()),\n",
              "                                       (&#x27;vectorizer&#x27;, CountVectorizer()),\n",
              "                                       (&#x27;lr&#x27;, LogisticRegression())]),\n",
              "             n_jobs=3,\n",
              "             param_grid={&#x27;lr__C&#x27;: [0.01, 0.1, 1], &#x27;lr__penalty&#x27;: [&#x27;l2&#x27;]},\n",
              "             verbose=10)</pre></div></div></div><div class=\"sk-parallel\"><div class=\"sk-parallel-item\"><div class=\"sk-item\"><div class=\"sk-label-container\"><div class=\"sk-label sk-toggleable\"><input class=\"sk-toggleable__control sk-hidden--visually\" id=\"sk-estimator-id-2\" type=\"checkbox\" ><label for=\"sk-estimator-id-2\" class=\"sk-toggleable__label sk-toggleable__label-arrow\">estimator: Pipeline</label><div class=\"sk-toggleable__content\"><pre>Pipeline(steps=[(&#x27;text_processing&#x27;, TextProcessing()),\n",
              "                (&#x27;vectorizer&#x27;, CountVectorizer()),\n",
              "                (&#x27;lr&#x27;, LogisticRegression())])</pre></div></div></div><div class=\"sk-serial\"><div class=\"sk-item\"><div class=\"sk-serial\"><div class=\"sk-item\"><div class=\"sk-estimator sk-toggleable\"><input class=\"sk-toggleable__control sk-hidden--visually\" id=\"sk-estimator-id-3\" type=\"checkbox\" ><label for=\"sk-estimator-id-3\" class=\"sk-toggleable__label sk-toggleable__label-arrow\">TextProcessing</label><div class=\"sk-toggleable__content\"><pre>TextProcessing()</pre></div></div></div><div class=\"sk-item\"><div class=\"sk-estimator sk-toggleable\"><input class=\"sk-toggleable__control sk-hidden--visually\" id=\"sk-estimator-id-4\" type=\"checkbox\" ><label for=\"sk-estimator-id-4\" class=\"sk-toggleable__label sk-toggleable__label-arrow\">CountVectorizer</label><div class=\"sk-toggleable__content\"><pre>CountVectorizer()</pre></div></div></div><div class=\"sk-item\"><div class=\"sk-estimator sk-toggleable\"><input class=\"sk-toggleable__control sk-hidden--visually\" id=\"sk-estimator-id-5\" type=\"checkbox\" ><label for=\"sk-estimator-id-5\" class=\"sk-toggleable__label sk-toggleable__label-arrow\">LogisticRegression</label><div class=\"sk-toggleable__content\"><pre>LogisticRegression()</pre></div></div></div></div></div></div></div></div></div></div></div></div>"
            ],
            "text/plain": [
              "GridSearchCV(cv=StratifiedKFold(n_splits=3, random_state=0, shuffle=True),\n",
              "             estimator=Pipeline(steps=[('text_processing', TextProcessing()),\n",
              "                                       ('vectorizer', CountVectorizer()),\n",
              "                                       ('lr', LogisticRegression())]),\n",
              "             n_jobs=3,\n",
              "             param_grid={'lr__C': [0.01, 0.1, 1], 'lr__penalty': ['l2']},\n",
              "             verbose=10)"
            ]
          },
          "execution_count": 31,
          "metadata": {},
          "output_type": "execute_result"
        }
      ],
      "source": [
        "# pick best model\n",
        "best_model = models[0]\n",
        "for model in models:\n",
        "    if model.best_score_ > best_model.best_score_:\n",
        "        best_model = model\n",
        "\n",
        "best_model        \n",
        "        "
      ]
    },
    {
      "cell_type": "code",
      "execution_count": 2,
      "metadata": {},
      "outputs": [
        {
          "ename": "NameError",
          "evalue": "name 'best_model' is not defined",
          "output_type": "error",
          "traceback": [
            "\u001b[1;31m---------------------------------------------------------------------------\u001b[0m",
            "\u001b[1;31mNameError\u001b[0m                                 Traceback (most recent call last)",
            "\u001b[1;32mc:\\Users\\LuisD\\Desktop\\dh-data-science\\dh-ds-pi-1\\TP4\\TP4 Luis.ipynb Cell 32\u001b[0m in \u001b[0;36m<cell line: 7>\u001b[1;34m()\u001b[0m\n\u001b[0;32m      <a href='vscode-notebook-cell:/c%3A/Users/LuisD/Desktop/dh-data-science/dh-ds-pi-1/TP4/TP4%20Luis.ipynb#X56sZmlsZQ%3D%3D?line=3'>4</a>\u001b[0m \u001b[39mimport\u001b[39;00m \u001b[39mmatplotlib\u001b[39;00m\u001b[39m.\u001b[39;00m\u001b[39mpyplot\u001b[39;00m \u001b[39mas\u001b[39;00m \u001b[39mplt\u001b[39;00m\n\u001b[0;32m      <a href='vscode-notebook-cell:/c%3A/Users/LuisD/Desktop/dh-data-science/dh-ds-pi-1/TP4/TP4%20Luis.ipynb#X56sZmlsZQ%3D%3D?line=5'>6</a>\u001b[0m \u001b[39m# Get the best model\u001b[39;00m\n\u001b[1;32m----> <a href='vscode-notebook-cell:/c%3A/Users/LuisD/Desktop/dh-data-science/dh-ds-pi-1/TP4/TP4%20Luis.ipynb#X56sZmlsZQ%3D%3D?line=6'>7</a>\u001b[0m model \u001b[39m=\u001b[39m best_model\u001b[39m.\u001b[39mbest_estimator_\n\u001b[0;32m      <a href='vscode-notebook-cell:/c%3A/Users/LuisD/Desktop/dh-data-science/dh-ds-pi-1/TP4/TP4%20Luis.ipynb#X56sZmlsZQ%3D%3D?line=8'>9</a>\u001b[0m \u001b[39m# Get the vectorizer\u001b[39;00m\n\u001b[0;32m     <a href='vscode-notebook-cell:/c%3A/Users/LuisD/Desktop/dh-data-science/dh-ds-pi-1/TP4/TP4%20Luis.ipynb#X56sZmlsZQ%3D%3D?line=9'>10</a>\u001b[0m vectorizer \u001b[39m=\u001b[39m model\u001b[39m.\u001b[39mnamed_steps[\u001b[39m'\u001b[39m\u001b[39mvectorizer\u001b[39m\u001b[39m'\u001b[39m]\n",
            "\u001b[1;31mNameError\u001b[0m: name 'best_model' is not defined"
          ]
        }
      ],
      "source": [
        "# Wordcloud\n",
        "\n",
        "from wordcloud import WordCloud\n",
        "import matplotlib.pyplot as plt\n",
        "\n",
        "# Get the best model\n",
        "model = best_model.best_estimator_\n",
        "\n",
        "# Get the vectorizer\n",
        "vectorizer = model.named_steps['vectorizer']\n",
        "\n",
        "# Get the feature names\n",
        "feature_names = vectorizer.get_feature_names()\n",
        "\n",
        "# Get the coefficients\n",
        "coef = model.named_steps['lr'].coef_[0]\n",
        "\n",
        "# Get the top 20 positive and negative words\n",
        "top_positive_words = [feature_names[i] for i in coef.argsort()[-20:]]\n",
        "top_negative_words = [feature_names[i] for i in coef.argsort()[:20]]\n",
        "\n",
        "# Create the wordclouds\n",
        "wordcloud_pos = WordCloud(width=800, height=400).generate(\" \".join(top_positive_words))\n",
        "wordcloud_neg = WordCloud(width=800, height=400).generate(\" \".join(top_negative_words))\n",
        "\n",
        "# Plot the wordclouds\n",
        "fig, (ax1, ax2) = plt.subplots(1, 2, figsize=(20, 10))\n",
        "ax1.imshow(wordcloud_pos)\n",
        "ax1.axis(\"off\")\n",
        "ax1.set_title(\"Top 20 positive words\", fontsize=20)\n",
        "ax2.imshow(wordcloud_neg)\n",
        "ax2.axis(\"off\")\n",
        "ax2.set_title(\"Top 20 negative words\", fontsize=20)\n",
        "plt.show()\n"
      ]
    },
    {
      "cell_type": "code",
      "execution_count": 26,
      "metadata": {},
      "outputs": [
        {
          "data": {
            "text/plain": [
              "array(['positive'], dtype=object)"
            ]
          },
          "execution_count": 26,
          "metadata": {},
          "output_type": "execute_result"
        }
      ],
      "source": [
        "# Predict new data\n",
        "new_data = ['supercalifragilisticexpialidocious']\n",
        "\n",
        "new_data = pd.Series(new_data)\n",
        "new_data = new_data.apply(preprocess)\n",
        "\n",
        "best_model.predict(new_data)\n",
        "\n"
      ]
    },
    {
      "cell_type": "code",
      "execution_count": 54,
      "metadata": {},
      "outputs": [
        {
          "name": "stdout",
          "output_type": "stream",
          "text": [
            " * Serving Flask app '__main__'\n",
            " * Debug mode: off\n"
          ]
        },
        {
          "name": "stderr",
          "output_type": "stream",
          "text": [
            "WARNING: This is a development server. Do not use it in a production deployment. Use a production WSGI server instead.\n",
            " * Running on http://127.0.0.1:5000\n",
            "Press CTRL+C to quit\n",
            "127.0.0.1 - - [23/Mar/2023 22:54:39] \"GET / HTTP/1.1\" 200 -\n",
            "127.0.0.1 - - [23/Mar/2023 22:54:42] \"POST /predict HTTP/1.1\" 200 -\n"
          ]
        },
        {
          "name": "stdout",
          "output_type": "stream",
          "text": [
            "['positive']\n"
          ]
        },
        {
          "name": "stderr",
          "output_type": "stream",
          "text": [
            "127.0.0.1 - - [23/Mar/2023 22:54:49] \"GET / HTTP/1.1\" 200 -\n",
            "127.0.0.1 - - [23/Mar/2023 22:54:59] \"POST /predict HTTP/1.1\" 200 -\n"
          ]
        },
        {
          "name": "stdout",
          "output_type": "stream",
          "text": [
            "['negative']\n"
          ]
        }
      ],
      "source": [
        "from flask import Flask, render_template, request\n",
        "\n",
        "app = Flask(__name__)\n",
        "\n",
        "@app.route('/predict', methods=['POST'])\n",
        "def predict():\n",
        "    text = request.form['text']\n",
        "    text = pd.Series(text)\n",
        "    text = text.apply(preprocess)\n",
        "    sentiment = best_model.predict(text)\n",
        "    return render_template('result.html', sentiment=sentiment)\n",
        "\n",
        "# Define the index route\n",
        "@app.route('/')\n",
        "def index():\n",
        "    return render_template('index.html')\n",
        "\n",
        "if __name__ == '__main__':\n",
        "    app.run()\n",
        "\n"
      ]
    }
  ],
  "metadata": {
    "kernelspec": {
      "display_name": "dh",
      "language": "python",
      "name": "python3"
    },
    "language_info": {
      "codemirror_mode": {
        "name": "ipython",
        "version": 3
      },
      "file_extension": ".py",
      "mimetype": "text/x-python",
      "name": "python",
      "nbconvert_exporter": "python",
      "pygments_lexer": "ipython3",
      "version": "3.10.4"
    },
    "orig_nbformat": 4
  },
  "nbformat": 4,
  "nbformat_minor": 2
}
