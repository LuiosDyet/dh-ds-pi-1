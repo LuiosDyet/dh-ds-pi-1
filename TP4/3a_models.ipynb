{
  "cells": [
    {
      "cell_type": "code",
      "execution_count": null,
      "metadata": {},
      "outputs": [],
      "source": [
        "%run 1_import_analysis.ipynb\n",
        "%run 2_preprocessing.ipynb"
      ]
    },
    {
      "attachments": {},
      "cell_type": "markdown",
      "metadata": {},
      "source": [
        "## Configuración del pipeline y modelos a utilizar para la predicción de los sentimientos"
      ]
    },
    {
      "cell_type": "code",
      "execution_count": null,
      "metadata": {},
      "outputs": [],
      "source": [
        "from sklearn.feature_extraction.text import CountVectorizer, TfidfTransformer"
      ]
    },
    {
      "cell_type": "code",
      "execution_count": null,
      "metadata": {},
      "outputs": [],
      "source": [
        "from sklearn.feature_selection import SelectKBest, chi2"
      ]
    },
    {
      "cell_type": "code",
      "execution_count": null,
      "metadata": {},
      "outputs": [],
      "source": [
        "common_steps = [\n",
        "            ('text_processing', TextProcessing()),\n",
        "           ('vectorizer', CountVectorizer()),\n",
        "            ('tfidf', TfidfTransformer()),\n",
        "          # ('feature_selection', SelectKBest(chi2, k=1000)),\n",
        "            ]\n"
      ]
    },
    {
      "cell_type": "code",
      "execution_count": null,
      "metadata": {},
      "outputs": [],
      "source": [
        "from sklearn.pipeline import Pipeline\n",
        "from sklearn.model_selection import GridSearchCV,StratifiedKFold"
      ]
    },
    {
      "cell_type": "code",
      "execution_count": null,
      "metadata": {},
      "outputs": [],
      "source": [
        "from sklearn.naive_bayes import MultinomialNB\n",
        "from sklearn.neighbors import KNeighborsClassifier\n",
        "from sklearn.linear_model import LogisticRegression\n",
        "from sklearn import tree\n",
        "from sklearn.ensemble import RandomForestClassifier\n",
        "from xgboost.sklearn import XGBClassifier\n"
      ]
    },
    {
      "cell_type": "code",
      "execution_count": null,
      "metadata": {},
      "outputs": [],
      "source": [
        "# Modelos a utilizar\n",
        "\n",
        "LR_pipe = [Pipeline( common_steps + [('lr', LogisticRegression())]), {'lr__C':[0.01,0.1,1], 'lr__penalty':['l2']}]\n",
        "DT_pipe = [Pipeline( common_steps + [('dt', tree.DecisionTreeClassifier())]), {'dt__max_depth':[  512,1024 ] }]\n",
        "MNB_pipe = [Pipeline( common_steps + [('mnb', MultinomialNB())]), {'mnb__alpha':[1, 10, 20]}]\n",
        "RF_pipe = [Pipeline( common_steps + [('rf', RandomForestClassifier())]), {'rf__n_estimators':[  100, 200], 'rf__max_depth':[   5,10] }]\n",
        "\n",
        "skf=StratifiedKFold(n_splits=3,random_state=0,shuffle=True)\n",
        "models = []\n"
      ]
    },
    {
      "cell_type": "code",
      "execution_count": null,
      "metadata": {},
      "outputs": [],
      "source": [
        "pipelines = [LR_pipe, DT_pipe, MNB_pipe, RF_pipe]\n",
        "\n",
        "for pipe in pipelines:\n",
        "    print('fitting',pipe[0].steps[-1][0])\n",
        "    GS_CV=GridSearchCV(pipe[0],pipe[1],cv=skf,verbose=10,n_jobs=3);\n",
        "    GS_CV.fit(X_train, y_train);\n",
        "    models.append(GS_CV)\n",
        "    print('best score:',GS_CV.best_score_)\n",
        "    print('best params:',GS_CV.best_params_) \n",
        "    separator()"
      ]
    },
    {
      "cell_type": "code",
      "execution_count": null,
      "metadata": {},
      "outputs": [],
      "source": [
        "## Models evaluation\n",
        "\n",
        "from sklearn.metrics import accuracy_score, classification_report, confusion_matrix\n",
        "\n",
        "\n",
        "for model in models:\n",
        "    print(model.best_estimator_)\n",
        "    y_pred = model.predict(X_test)\n",
        "    print('Accuracy: ', accuracy_score(y_test, y_pred))\n",
        "    print('Classification report: ', classification_report(y_test, y_pred))\n",
        "    print('Confusion matrix: ', confusion_matrix(y_test, y_pred))\n",
        "\n"
      ]
    },
    {
      "cell_type": "code",
      "execution_count": null,
      "metadata": {},
      "outputs": [],
      "source": [
        "# pick best model\n",
        "best_model = models[0]\n",
        "for model in models:\n",
        "    if model.best_score_ > best_model.best_score_:\n",
        "        best_model = model\n",
        "\n",
        "\n",
        "best_model        \n",
        "        "
      ]
    }
  ],
  "metadata": {
    "kernelspec": {
      "display_name": "dh",
      "language": "python",
      "name": "python3"
    },
    "language_info": {
      "codemirror_mode": {
        "name": "ipython",
        "version": 3
      },
      "file_extension": ".py",
      "mimetype": "text/x-python",
      "name": "python",
      "nbconvert_exporter": "python",
      "pygments_lexer": "ipython3",
      "version": "3.10.4"
    },
    "orig_nbformat": 4
  },
  "nbformat": 4,
  "nbformat_minor": 2
}
