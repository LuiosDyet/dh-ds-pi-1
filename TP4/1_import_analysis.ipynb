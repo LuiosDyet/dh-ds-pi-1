{
  "cells": [
    {
      "attachments": {},
      "cell_type": "markdown",
      "metadata": {},
      "source": [
        "## Importación de los datos"
      ]
    },
    {
      "cell_type": "code",
      "execution_count": null,
      "metadata": {},
      "outputs": [],
      "source": [
        "def separator():\n",
        "    print(\"\")\n",
        "    print(\"--------------------------------------------------\")\n",
        "    print(\"\")"
      ]
    },
    {
      "cell_type": "code",
      "execution_count": null,
      "metadata": {},
      "outputs": [],
      "source": [
        "import pandas as pd"
      ]
    },
    {
      "cell_type": "code",
      "execution_count": null,
      "metadata": {},
      "outputs": [],
      "source": [
        "#cargar y leer el dataset\n",
        "\n",
        "display('Cargando el dataset...')\n",
        "data = pd.read_csv('./data/twitter.csv', encoding='ANSI')\n",
        "data.columns = [ 'target', 'id', 'date', 'flag', 'user', 'text']\n",
        "display('El dataset tiene {} filas y {} columnas'.format(data.shape[0], data.shape[1]))\n",
        "display(data.head())\n",
        "separator()"
      ]
    },
    {
      "attachments": {},
      "cell_type": "markdown",
      "metadata": {},
      "source": [
        "Descripcion de las columnas:\n",
        "\n",
        "target: la clasificación del tweet (0 = negative, 4 = positive)\n",
        "\n",
        "id: el id del tweet ( ej. 2087)\n",
        "\n",
        "date: la fecha del tweet (Sat May 16 23:58:44 UTC 2009)\n",
        "\n",
        "flag: la consulta (lyx). Si no hay consulta, entonces este valor es NO_QUERY\n",
        "\n",
        "user: el nombre de usuario (robotickilldozr)\n",
        "\n",
        "text: el mensaje tuiteado (Lyx is cool)"
      ]
    },
    {
      "attachments": {},
      "cell_type": "markdown",
      "metadata": {},
      "source": [
        "## Analisis exploratorio de los datos"
      ]
    },
    {
      "cell_type": "code",
      "execution_count": null,
      "metadata": {},
      "outputs": [],
      "source": [
        "# Check nulls and duplicates\n",
        "print('Corroborando valores nulos y duplicados')\n",
        "print('Nulls: ' )\n",
        "print(data.isnull().sum())\n",
        "separator()\n",
        "print('Duplicates: ', data.duplicated().sum())\n",
        "separator()"
      ]
    },
    {
      "cell_type": "code",
      "execution_count": null,
      "metadata": {},
      "outputs": [],
      "source": [
        "print('Eliminando columnas innecesarias')\n",
        "data.drop(['id', 'date', 'flag', 'user'], axis=1, inplace=True)"
      ]
    },
    {
      "cell_type": "code",
      "execution_count": null,
      "metadata": {},
      "outputs": [],
      "source": [
        "# Rename target\n",
        "data['target'] = data['target'].map({0: 'negative', 4: 'positive'})"
      ]
    },
    {
      "cell_type": "code",
      "execution_count": null,
      "metadata": {},
      "outputs": [],
      "source": [
        "display('Distribución de la variable target:', data.target.value_counts())\n",
        "separator()"
      ]
    },
    {
      "cell_type": "code",
      "execution_count": null,
      "metadata": {},
      "outputs": [],
      "source": [
        "#Asignamos las variables X e Y a modelar\n",
        "X = data.text\n",
        "y = data.target"
      ]
    },
    {
      "cell_type": "code",
      "execution_count": null,
      "metadata": {},
      "outputs": [],
      "source": [
        "from sklearn.model_selection import train_test_split"
      ]
    },
    {
      "cell_type": "code",
      "execution_count": null,
      "metadata": {},
      "outputs": [],
      "source": [
        "#Dividimos en train-test\n",
        "X_train, X_test, y_train, y_test = train_test_split(X, y,stratify=y, test_size=0.3)\n",
        "print('Train-test split:')\n",
        "print('X_train: ', X_train.shape)\n",
        "print('X_test: ', X_test.shape)\n",
        "print('y_train: ', y_train.shape)\n",
        "print('y_test: ', y_test.shape)\n",
        "separator()\n"
      ]
    }
  ],
  "metadata": {
    "kernelspec": {
      "display_name": "dh",
      "language": "python",
      "name": "python3"
    },
    "language_info": {
      "codemirror_mode": {
        "name": "ipython",
        "version": 3
      },
      "file_extension": ".py",
      "mimetype": "text/x-python",
      "name": "python",
      "nbconvert_exporter": "python",
      "pygments_lexer": "ipython3",
      "version": "3.10.4"
    },
    "orig_nbformat": 4
  },
  "nbformat": 4,
  "nbformat_minor": 2
}
