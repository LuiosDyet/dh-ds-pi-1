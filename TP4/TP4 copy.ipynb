{
  "cells": [
    {
      "attachments": {},
      "cell_type": "markdown",
      "metadata": {},
      "source": [
        "## Integrantes:\n",
        "1. Camila Coltriani\n",
        "2. Luis Dartayet\n",
        "3. Irania Fuentes\n",
        "4. Jonathan Fichelson\n",
        "5. Ornella Cevoli\n",
        "# Trabajo práctico  4: Analisis de los sentimientos en Twitter"
      ]
    },
    {
      "attachments": {},
      "cell_type": "markdown",
      "metadata": {},
      "source": [
        "# Introducción\n",
        "Las redes sociales como Twitter han demostrado ser excelentes recursos de información sobre muchos eventos que acontecen en el mundo; tienen el poder de cambiar las opiniones de millones de personas siendo especialmente útil para influir en las masas: campañas políticas, cotización de monedas virtuales, publicidad de ventas, entre otros.\n",
        "Pensando en esto, se presenta el siguiente objetivo."
      ]
    },
    {
      "attachments": {},
      "cell_type": "markdown",
      "metadata": {},
      "source": [
        "# Objetivo:\n",
        "Analizar los sentimientos con la finalidad de predecir el comportamiento de personas y propagar cambios en tiempo real a medida que se desarrolla el evento que se quiere estudiar.\n",
        "\n",
        "## Fuente:\n",
        "Dataset Kaggle: https://www.kaggle.com/code/paoloripamonti/twitter-sentiment-analysis/input"
      ]
    },
    {
      "attachments": {},
      "cell_type": "markdown",
      "metadata": {},
      "source": [
        "## 1. Importación de Librerias"
      ]
    },
    {
      "cell_type": "code",
      "execution_count": null,
      "metadata": {},
      "outputs": [],
      "source": [
        "import pandas as pd\n",
        "\n",
        "from sklearn.model_selection import train_test_split\n",
        "from sklearn.base import BaseEstimator, TransformerMixin\n",
        "from sklearn.feature_extraction.text import CountVectorizer\n",
        "from sklearn.pipeline import Pipeline\n",
        "from sklearn.model_selection import GridSearchCV,StratifiedKFold\n",
        "from sklearn.naive_bayes import MultinomialNB\n",
        "from sklearn.neighbors import KNeighborsClassifier\n",
        "from sklearn.linear_model import LogisticRegression\n",
        "from sklearn import tree\n",
        "from sklearn.metrics import accuracy_score, classification_report, confusion_matrix\n",
        "\n",
        "import pickle\n",
        "\n",
        "import re\n",
        "from nltk.corpus import stopwords\n",
        "from  nltk.stem import SnowballStemmer\n",
        "from nltk.stem import WordNetLemmatizer\n"
      ]
    },
    {
      "attachments": {},
      "cell_type": "markdown",
      "metadata": {},
      "source": [
        "## 2. Importación de los datos"
      ]
    },
    {
      "cell_type": "code",
      "execution_count": null,
      "metadata": {},
      "outputs": [],
      "source": [
        "#cargar y leer el dataset\n",
        "data = pd.read_csv('./data/twitter.csv', encoding='ANSI')\n",
        "data.columns = [ 'target', 'id', 'date', 'flag', 'user', 'text']\n",
        "print(data.shape)\n",
        "data.head()"
      ]
    },
    {
      "attachments": {},
      "cell_type": "markdown",
      "metadata": {},
      "source": [
        "#### Detalle de Dataset\n",
        "\n",
        "**target*: Indica la polaridad del tweet (0 = negativo, 2 = neutral, 4 = positivo)\n",
        "\n",
        "**ids*: el #id del tweet\n",
        "\n",
        "**date*: el día del tweet \n",
        "\n",
        "**flag*: consulta. cuando esta vacio el valor es NO_QUERY.\n",
        "\n",
        "**user*: el nombre del usuario que realizó eltweet\n",
        "\n",
        "**text*: el texto del tweet\n"
      ]
    },
    {
      "attachments": {},
      "cell_type": "markdown",
      "metadata": {},
      "source": [
        "## 3. Análisis exploratorio de los datos"
      ]
    },
    {
      "cell_type": "code",
      "execution_count": null,
      "metadata": {},
      "outputs": [],
      "source": [
        "# Check nulls and duplicates\n",
        "print('Nulls: ', data.isnull().sum())\n",
        "print('Duplicates: ', data.duplicated().sum())"
      ]
    },
    {
      "cell_type": "code",
      "execution_count": null,
      "metadata": {},
      "outputs": [],
      "source": [
        "# Remove useless columns\n",
        "data.drop(['id', 'date', 'flag', 'user'], axis=1, inplace=True)"
      ]
    },
    {
      "cell_type": "code",
      "execution_count": null,
      "metadata": {},
      "outputs": [],
      "source": [
        "# Rename target\n",
        "data['target'] = data['target'].map({0: 'negative', 4: 'positive'})"
      ]
    },
    {
      "cell_type": "code",
      "execution_count": null,
      "metadata": {},
      "outputs": [],
      "source": [
        "# Check target distribution\n",
        "print('Target distribution: ', data.target.value_counts())"
      ]
    },
    {
      "cell_type": "code",
      "execution_count": null,
      "metadata": {},
      "outputs": [],
      "source": [
        "#Asignamos las variables X e Y a modelar\n",
        "X = data.text\n",
        "y = data.target"
      ]
    },
    {
      "cell_type": "code",
      "execution_count": null,
      "metadata": {},
      "outputs": [],
      "source": [
        "#Palabras frecuentes\n",
        "#Word-Cloud para Tweets Negativos\n",
        "\n"
      ]
    },
    {
      "attachments": {},
      "cell_type": "markdown",
      "metadata": {},
      "source": [
        "## 3. Preprocesamiento de los datos\n",
        "\n",
        "### 3.1 División del dataset en train y test"
      ]
    },
    {
      "cell_type": "code",
      "execution_count": null,
      "metadata": {},
      "outputs": [],
      "source": [
        "#Dividimos en train-test\n",
        "X_train, X_test, y_train, y_test = train_test_split(X, y,stratify=y, test_size=0.3)\n",
        "print(X_train.shape)\n",
        "print(X_test.shape)\n",
        "print(y_train.shape)\n",
        "print(y_test.shape)"
      ]
    },
    {
      "attachments": {},
      "cell_type": "markdown",
      "metadata": {},
      "source": [
        "### 3.2 Limpieza del corpus: definición de una función para eliminar Stopword, aplicación de Stemming, convertir a minisculas"
      ]
    },
    {
      "cell_type": "code",
      "execution_count": null,
      "metadata": {},
      "outputs": [],
      "source": [
        "# Expresion regular para eliminar del corpus signos de puntación/ @/ direcciones electronicas/ numeros\n",
        "limpieza_re = \"\\d+[^0-9]|@\\S+|https?:\\S+|http?:\\S|[^A-Za-z0-9]\"\n",
        "\n",
        "stop_words = stopwords.words(\"english\")\n",
        "stemmer = SnowballStemmer(\"english\")\n",
        "\n",
        "#Funcion para limpiar el corpus\n",
        "def preprocess(text, stem=False):\n",
        "    # Remove link,user and special characters\n",
        "    text = re.sub(limpieza_re, ' ', str(text).lower()).strip()\n",
        "    tokens = []\n",
        "    for token in text.split():\n",
        "        if token not in stop_words:\n",
        "            if stem:\n",
        "                tokens.append(stemmer.stem(token))\n",
        "            else:\n",
        "                tokens.append(token)\n",
        "    return \" \".join(tokens)\n",
        "\n"
      ]
    },
    {
      "cell_type": "code",
      "execution_count": null,
      "metadata": {},
      "outputs": [],
      "source": [
        "#Definición de la clase de procesamiento de texto\n",
        "class TextProcessing(BaseEstimator, TransformerMixin):\n",
        "    def fit(self, X, y=None):\n",
        "        return self\n",
        "    def transform(self, X, y=None):\n",
        "        return X.apply(preprocess)"
      ]
    },
    {
      "attachments": {},
      "cell_type": "markdown",
      "metadata": {},
      "source": [
        "## 4. Configuración del pipeline y modelos a utilizar para la predicción de los sentimientos"
      ]
    },
    {
      "cell_type": "code",
      "execution_count": null,
      "metadata": {},
      "outputs": [],
      "source": [
        "common_steps = [\n",
        "            ('text_processing', TextProcessing()),\n",
        "            ('vectorizer', CountVectorizer()),\n",
        "            ]"
      ]
    },
    {
      "cell_type": "code",
      "execution_count": null,
      "metadata": {},
      "outputs": [],
      "source": [
        "# Modelos a utilizar\n",
        "\n",
        "LR_pipe = [Pipeline( common_steps + [('lr', LogisticRegression())]), {'lr__C':[0.01,0.1,1], 'lr__penalty':['l2']}]\n",
        "DT_pipe = [Pipeline( common_steps + [('dt', tree.DecisionTreeClassifier())]), {'dt__max_depth':[ 8, 12, 16] }]\n",
        "MNB_pipe = [Pipeline( common_steps + [('mnb', MultinomialNB())]), {'mnb__alpha':[1, 10, 20]}]\n",
        "\n",
        "skf=StratifiedKFold(n_splits=3,random_state=0,shuffle=True)\n",
        "models = []\n"
      ]
    },
    {
      "cell_type": "code",
      "execution_count": null,
      "metadata": {},
      "outputs": [],
      "source": [
        "#Configuración del gridsearch para el modelo de Regresión Logistica y definir los mejores parametros \n",
        "pipelines = [ LR_pipe]\n",
        "\n",
        "for pipe in pipelines:\n",
        "    GS_CV=GridSearchCV(pipe[0],pipe[1],cv=skf,verbose=10,n_jobs=3);\n",
        "    GS_CV.fit(X_train, y_train);\n",
        "    models.append(GS_CV)\n",
        "    print('best score:',GS_CV.best_score_)\n",
        "    print('best params:',GS_CV.best_params_) "
      ]
    },
    {
      "cell_type": "code",
      "execution_count": null,
      "metadata": {},
      "outputs": [],
      "source": [
        "#Configuración del gridsearch para el modelo de arbol de decisión y definir los mejores parametros \n",
        "pipelines = [ DT_pipe]\n",
        "\n",
        "for pipe in pipelines:\n",
        "    GS_CV=GridSearchCV(pipe[0],pipe[1],cv=skf,verbose=10,n_jobs=3);\n",
        "    GS_CV.fit(X_train, y_train);\n",
        "    models.append(GS_CV)\n",
        "    print('best score:',GS_CV.best_score_)\n",
        "    print('best params:',GS_CV.best_params_) "
      ]
    },
    {
      "cell_type": "code",
      "execution_count": null,
      "metadata": {},
      "outputs": [],
      "source": [
        "#Configuración del gridsearch para el modelo de Multinomial Naive Baye y definir los mejores parametros \n",
        "pipelines = [ MNB_pipe]\n",
        "\n",
        "for pipe in pipelines:\n",
        "    GS_CV=GridSearchCV(pipe[0],pipe[1],cv=skf,verbose=10,n_jobs=3);\n",
        "    GS_CV.fit(X_train, y_train);\n",
        "    models.append(GS_CV)\n",
        "    print('best score:',GS_CV.best_score_)\n",
        "    print('best params:',GS_CV.best_params_) "
      ]
    },
    {
      "cell_type": "code",
      "execution_count": null,
      "metadata": {},
      "outputs": [],
      "source": [
        "## Models evaluation\n",
        "\n",
        "for model in models:\n",
        "    print(model.best_estimator_)\n",
        "    y_pred = model.predict(X_test)\n",
        "    print('Accuracy: ', accuracy_score(y_test, y_pred))\n",
        "    print('Classification report: ', classification_report(y_test, y_pred))\n",
        "    print('Confusion matrix: ', confusion_matrix(y_test, y_pred))\n",
        "\n"
      ]
    },
    {
      "cell_type": "code",
      "execution_count": null,
      "metadata": {},
      "outputs": [],
      "source": [
        "# pick best model\n",
        "best_model = models[0]\n",
        "for model in models:\n",
        "    if model.best_score_ > best_model.best_score_:\n",
        "        best_model = model\n",
        "        "
      ]
    },
    {
      "cell_type": "code",
      "execution_count": null,
      "metadata": {},
      "outputs": [],
      "source": [
        "# Predict new data\n",
        "new_data = ['supercalifragilisticexpialidocious']\n",
        "\n",
        "new_data = pd.Series(new_data)\n",
        "new_data = new_data.apply(preprocess)\n",
        "\n",
        "best_model.predict(new_data)\n",
        "\n"
      ]
    },
    {
      "cell_type": "code",
      "execution_count": null,
      "metadata": {},
      "outputs": [],
      "source": [
        "# Save model\n",
        "with open('model.pkl', 'wb') as f:\n",
        "    pickle.dump(best_model, f)\n"
      ]
    },
    {
      "cell_type": "code",
      "execution_count": null,
      "metadata": {},
      "outputs": [],
      "source": [
        "# open model\n",
        "savedModel = None\n",
        "with open('model.pkl', 'rb') as f:\n",
        "    savedModel = pickle.load(f)"
      ]
    },
    {
      "cell_type": "code",
      "execution_count": null,
      "metadata": {},
      "outputs": [],
      "source": [
        "# check model\n",
        "savedModel.predict(new_data)\n",
        " "
      ]
    }
  ],
  "metadata": {
    "kernelspec": {
      "display_name": "dh",
      "language": "python",
      "name": "python3"
    },
    "language_info": {
      "codemirror_mode": {
        "name": "ipython",
        "version": 3
      },
      "file_extension": ".py",
      "mimetype": "text/x-python",
      "name": "python",
      "nbconvert_exporter": "python",
      "pygments_lexer": "ipython3",
      "version": "3.10.4"
    },
    "orig_nbformat": 4
  },
  "nbformat": 4,
  "nbformat_minor": 2
}
