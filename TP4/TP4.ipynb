{
 "cells": [
  {
   "attachments": {},
   "cell_type": "markdown",
   "metadata": {},
   "source": [
    "## Integrantes:\n",
    "1. Camila Coltriani\n",
    "2. Luis Dartayet\n",
    "3. Irania Fuentes\n",
    "4. Jonathan Fichelson\n",
    "5. Ornella Cevoli\n",
    "# Trabajo práctico  4: Analisis de los sentimientos en Twitter"
   ]
  },
  {
   "attachments": {},
   "cell_type": "markdown",
   "metadata": {},
   "source": [
    "# Introducción\n",
    "Las redes sociales como Twitter han demostrado ser excelentes recursos de información sobre muchos eventos que acontecen en el mundo; tienen el poder de cambiar las opiniones de millones de personas siendo especialmente útil para influir en las masas: campañas políticas, cotización de monedas virtuales, publicidad de ventas, entre otros.\n",
    "Pensando en esto, se presenta el siguiente objetivo."
   ]
  },
  {
   "attachments": {},
   "cell_type": "markdown",
   "metadata": {},
   "source": [
    "# Objetivo:\n",
    "Analizar los sentimientos con la finalidad de predecir el comportamiento de personas y propagar cambios en tiempo real a medida que se desarrolla el evento que se quiere estudiar.\n",
    "\n",
    "## Fuente:\n",
    "Dataset Kaggle: https://www.kaggle.com/code/paoloripamonti/twitter-sentiment-analysis/input\n",
    "\n"
   ]
  },
  {
   "cell_type": "code",
   "execution_count": 1,
   "metadata": {},
   "outputs": [],
   "source": [
    "# Librerías\n",
    "import pandas as pd\n",
    "import numpy as np\n",
    "import matplotlib.pyplot as plt\n",
    "import seaborn as sns\n",
    "from sklearn.model_selection import train_test_split\n",
    "from sklearn.preprocessing import StandardScaler\n",
    "from sklearn.linear_model import LogisticRegression, LogisticRegressionCV\n",
    "from sklearn.metrics import accuracy_score,plot_confusion_matrix,roc_auc_score, classification_report, confusion_matrix, precision_recall_curve, auc\n",
    "from sklearn.naive_bayes import GaussianNB\n",
    "from sklearn.neighbors import KNeighborsClassifier\n",
    "from sklearn import tree\n",
    "from scipy.stats import mode\n",
    "import seaborn as sns\n",
    "import re\n",
    "\n",
    "# nltk\n",
    "import nltk\n",
    "from nltk.tokenize import word_tokenize, sent_tokenize\n",
    "from nltk.corpus import stopwords\n",
    "from  nltk.stem import SnowballStemmer\n",
    "from nltk.stem import WordNetLemmatizer\n",
    "from sklearn.feature_extraction.text import CountVectorizer, TfidfTransformer\n",
    "from sklearn.feature_extraction.text import TfidfVectorizer\n",
    "\n",
    "\n",
    "from sklearn.naive_bayes import MultinomialNB\n",
    "from sklearn.model_selection import GridSearchCV,StratifiedKFold,train_test_split\n",
    "from sklearn.metrics import accuracy_score\n",
    "from sklearn.pipeline import Pipeline\n",
    "\n",
    "\n"
   ]
  },
  {
   "attachments": {},
   "cell_type": "markdown",
   "metadata": {},
   "source": [
    "## Importación de los datos"
   ]
  },
  {
   "cell_type": "code",
<<<<<<< HEAD
   "execution_count": 2,
=======
   "execution_count": 21,
>>>>>>> 66f2d413a68a7811083e2ae61290edd510315fbf
   "metadata": {},
   "outputs": [
    {
     "name": "stdout",
     "output_type": "stream",
     "text": [
      "(1599999, 6)\n"
     ]
    },
    {
     "data": {
      "text/html": [
       "<div>\n",
       "<style scoped>\n",
       "    .dataframe tbody tr th:only-of-type {\n",
       "        vertical-align: middle;\n",
       "    }\n",
       "\n",
       "    .dataframe tbody tr th {\n",
       "        vertical-align: top;\n",
       "    }\n",
       "\n",
       "    .dataframe thead th {\n",
       "        text-align: right;\n",
       "    }\n",
       "</style>\n",
       "<table border=\"1\" class=\"dataframe\">\n",
       "  <thead>\n",
       "    <tr style=\"text-align: right;\">\n",
       "      <th></th>\n",
       "      <th>target</th>\n",
       "      <th>id</th>\n",
       "      <th>date</th>\n",
       "      <th>flag</th>\n",
       "      <th>user</th>\n",
       "      <th>text</th>\n",
       "    </tr>\n",
       "  </thead>\n",
       "  <tbody>\n",
       "    <tr>\n",
       "      <th>0</th>\n",
       "      <td>0</td>\n",
       "      <td>1467810672</td>\n",
       "      <td>Mon Apr 06 22:19:49 PDT 2009</td>\n",
       "      <td>NO_QUERY</td>\n",
       "      <td>scotthamilton</td>\n",
       "      <td>is upset that he can't update his Facebook by ...</td>\n",
       "    </tr>\n",
       "    <tr>\n",
       "      <th>1</th>\n",
       "      <td>0</td>\n",
       "      <td>1467810917</td>\n",
       "      <td>Mon Apr 06 22:19:53 PDT 2009</td>\n",
       "      <td>NO_QUERY</td>\n",
       "      <td>mattycus</td>\n",
       "      <td>@Kenichan I dived many times for the ball. Man...</td>\n",
       "    </tr>\n",
       "    <tr>\n",
       "      <th>2</th>\n",
       "      <td>0</td>\n",
       "      <td>1467811184</td>\n",
       "      <td>Mon Apr 06 22:19:57 PDT 2009</td>\n",
       "      <td>NO_QUERY</td>\n",
       "      <td>ElleCTF</td>\n",
       "      <td>my whole body feels itchy and like its on fire</td>\n",
       "    </tr>\n",
       "    <tr>\n",
       "      <th>3</th>\n",
       "      <td>0</td>\n",
       "      <td>1467811193</td>\n",
       "      <td>Mon Apr 06 22:19:57 PDT 2009</td>\n",
       "      <td>NO_QUERY</td>\n",
       "      <td>Karoli</td>\n",
       "      <td>@nationwideclass no, it's not behaving at all....</td>\n",
       "    </tr>\n",
       "    <tr>\n",
       "      <th>4</th>\n",
       "      <td>0</td>\n",
       "      <td>1467811372</td>\n",
       "      <td>Mon Apr 06 22:20:00 PDT 2009</td>\n",
       "      <td>NO_QUERY</td>\n",
       "      <td>joy_wolf</td>\n",
       "      <td>@Kwesidei not the whole crew</td>\n",
       "    </tr>\n",
       "  </tbody>\n",
       "</table>\n",
       "</div>"
      ],
      "text/plain": [
       "   target          id                          date      flag           user  \\\n",
       "0       0  1467810672  Mon Apr 06 22:19:49 PDT 2009  NO_QUERY  scotthamilton   \n",
       "1       0  1467810917  Mon Apr 06 22:19:53 PDT 2009  NO_QUERY       mattycus   \n",
       "2       0  1467811184  Mon Apr 06 22:19:57 PDT 2009  NO_QUERY        ElleCTF   \n",
       "3       0  1467811193  Mon Apr 06 22:19:57 PDT 2009  NO_QUERY         Karoli   \n",
       "4       0  1467811372  Mon Apr 06 22:20:00 PDT 2009  NO_QUERY       joy_wolf   \n",
       "\n",
       "                                                text  \n",
       "0  is upset that he can't update his Facebook by ...  \n",
       "1  @Kenichan I dived many times for the ball. Man...  \n",
       "2    my whole body feels itchy and like its on fire   \n",
       "3  @nationwideclass no, it's not behaving at all....  \n",
       "4                      @Kwesidei not the whole crew   "
      ]
     },
     "execution_count": 2,
     "metadata": {},
     "output_type": "execute_result"
    }
   ],
   "source": [
    "data = pd.read_csv('./data/twitter.csv', encoding='ANSI')\n",
    "data.columns = [ 'target', 'id', 'date', 'flag', 'user', 'text']\n",
    "print(data.shape)\n",
    "data.head()"
   ]
  },
  {
   "attachments": {},
   "cell_type": "markdown",
   "metadata": {},
   "source": [
    "## Analisis exploratorio de los datos"
   ]
  },
  {
   "cell_type": "code",
   "execution_count": null,
   "metadata": {},
   "outputs": [],
   "source": [
    "# Check nulls and duplicates\n",
    "print('Nulls: ', data.isnull().sum())\n",
    "print('Duplicates: ', data.duplicated().sum())"
   ]
  },
  {
   "cell_type": "code",
   "execution_count": null,
   "metadata": {},
   "outputs": [],
   "source": [
    "# Remove useless columns\n",
    "data.drop(['id', 'date', 'flag', 'user'], axis=1, inplace=True)"
   ]
  },
  {
   "cell_type": "code",
   "execution_count": null,
   "metadata": {},
   "outputs": [],
   "source": [
    "# Rename target\n",
    "data['target'] = data['target'].map({0: 'negative', 4: 'positive'})"
   ]
  },
  {
   "cell_type": "code",
   "execution_count": null,
   "metadata": {},
   "outputs": [
    {
     "name": "stdout",
     "output_type": "stream",
     "text": [
      "Target distribution:  positive    800000\n",
      "negative    799999\n",
      "Name: target, dtype: int64\n"
     ]
    }
   ],
   "source": [
    "# Check target distribution\n",
    "print('Target distribution: ', data.target.value_counts())"
   ]
  },
  {
   "cell_type": "code",
   "execution_count": 5,
   "metadata": {},
   "outputs": [
    {
     "data": {
      "text/html": [
       "<div>\n",
       "<style scoped>\n",
       "    .dataframe tbody tr th:only-of-type {\n",
       "        vertical-align: middle;\n",
       "    }\n",
       "\n",
       "    .dataframe tbody tr th {\n",
       "        vertical-align: top;\n",
       "    }\n",
       "\n",
       "    .dataframe thead th {\n",
       "        text-align: right;\n",
       "    }\n",
       "</style>\n",
       "<table border=\"1\" class=\"dataframe\">\n",
       "  <thead>\n",
       "    <tr style=\"text-align: right;\">\n",
       "      <th></th>\n",
       "      <th>target</th>\n",
       "      <th>id</th>\n",
       "      <th>date</th>\n",
       "      <th>flag</th>\n",
       "      <th>user</th>\n",
       "      <th>text</th>\n",
       "    </tr>\n",
       "  </thead>\n",
       "  <tbody>\n",
       "    <tr>\n",
       "      <th>0</th>\n",
       "      <td>0</td>\n",
       "      <td>1467810672</td>\n",
       "      <td>Tue</td>\n",
       "      <td>NO_QUERY</td>\n",
       "      <td>scotthamilton</td>\n",
       "      <td>is upset that he can't update his Facebook by ...</td>\n",
       "    </tr>\n",
       "    <tr>\n",
       "      <th>1</th>\n",
       "      <td>0</td>\n",
       "      <td>1467810917</td>\n",
       "      <td>Tue</td>\n",
       "      <td>NO_QUERY</td>\n",
       "      <td>mattycus</td>\n",
       "      <td>@Kenichan I dived many times for the ball. Man...</td>\n",
       "    </tr>\n",
       "    <tr>\n",
       "      <th>2</th>\n",
       "      <td>0</td>\n",
       "      <td>1467811184</td>\n",
       "      <td>Tue</td>\n",
       "      <td>NO_QUERY</td>\n",
       "      <td>ElleCTF</td>\n",
       "      <td>my whole body feels itchy and like its on fire</td>\n",
       "    </tr>\n",
       "    <tr>\n",
       "      <th>3</th>\n",
       "      <td>0</td>\n",
       "      <td>1467811193</td>\n",
       "      <td>Tue</td>\n",
       "      <td>NO_QUERY</td>\n",
       "      <td>Karoli</td>\n",
       "      <td>@nationwideclass no, it's not behaving at all....</td>\n",
       "    </tr>\n",
       "    <tr>\n",
       "      <th>4</th>\n",
       "      <td>0</td>\n",
       "      <td>1467811372</td>\n",
       "      <td>Tue</td>\n",
       "      <td>NO_QUERY</td>\n",
       "      <td>joy_wolf</td>\n",
       "      <td>@Kwesidei not the whole crew</td>\n",
       "    </tr>\n",
       "  </tbody>\n",
       "</table>\n",
       "</div>"
      ],
      "text/plain": [
       "   target          id date      flag           user  \\\n",
       "0       0  1467810672  Tue  NO_QUERY  scotthamilton   \n",
       "1       0  1467810917  Tue  NO_QUERY       mattycus   \n",
       "2       0  1467811184  Tue  NO_QUERY        ElleCTF   \n",
       "3       0  1467811193  Tue  NO_QUERY         Karoli   \n",
       "4       0  1467811372  Tue  NO_QUERY       joy_wolf   \n",
       "\n",
       "                                                text  \n",
       "0  is upset that he can't update his Facebook by ...  \n",
       "1  @Kenichan I dived many times for the ball. Man...  \n",
       "2    my whole body feels itchy and like its on fire   \n",
       "3  @nationwideclass no, it's not behaving at all....  \n",
       "4                      @Kwesidei not the whole crew   "
      ]
     },
     "execution_count": 5,
     "metadata": {},
     "output_type": "execute_result"
    }
   ],
   "source": [
    "# Set day of week as category\n",
    "data['date'] = data['date'].str[:3].astype('category')\n",
    "data['date'].cat.categories = ['Mon', 'Tue', 'Wed', 'Thu', 'Fri', 'Sat', 'Sun']\n",
    "data.head()\n"
   ]
  },
  {
   "cell_type": "code",
   "execution_count": 6,
   "metadata": {},
   "outputs": [
    {
     "data": {
      "text/plain": [
       "date  target\n",
       "Mon   0         114600\n",
       "      4         110994\n",
       "Tue   0         132538\n",
       "      4         177666\n",
       "Wed   0         157734\n",
       "      4         173221\n",
       "Thu   0         145471\n",
       "      4         199084\n",
       "Fri   0          80132\n",
       "      4          25903\n",
       "Sat   0         101051\n",
       "      4          84799\n",
       "Sun   0          68473\n",
       "      4          28333\n",
       "dtype: int64"
      ]
     },
     "execution_count": 6,
     "metadata": {},
     "output_type": "execute_result"
    }
   ],
   "source": [
    "# Get the number of tweets per day and target\n",
    "data.groupby(['date', 'target']).size()"
   ]
  },
  {
   "cell_type": "code",
   "execution_count": 7,
   "metadata": {},
   "outputs": [
    {
     "data": {
      "image/png": "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",
      "text/plain": [
       "<Figure size 1000x500 with 1 Axes>"
      ]
     },
     "metadata": {},
     "output_type": "display_data"
    }
   ],
   "source": [
    "# Plot the number of tweets per day and target with a bar chart\n",
    "# {0: 'Negative', 2: 'Neutral', 4: 'Positive'}\n",
    "data.groupby(['date', 'target']).size().unstack().plot(kind='bar',  figsize=(10, 5))\n",
    "plt.title('Number of tweets per day and target')\n",
    "plt.xlabel('Day of week')\n",
    "plt.ylabel('Number of tweets')\n",
    "plt.show()\n",
    "\n"
   ]
  },
  {
   "attachments": {},
   "cell_type": "markdown",
   "metadata": {},
   "source": [
    "## Preprocesamiento de texto"
   ]
  },
  {
   "attachments": {},
   "cell_type": "markdown",
   "metadata": {},
   "source": [
    "### Limpieza del corpus\n",
    "\n",
    "### Remoción de Stopwords y aplicación de Stemming"
   ]
  },
  {
   "cell_type": "code",
   "execution_count": 22,
   "metadata": {},
   "outputs": [],
   "source": [
    "# Expresion regular para eliminar del corpus signos de puntación/ @/ direcciones electronicas #numeros\n",
    "limpieza_re = \"\\d+[^0-9]|@\\S+|https?:\\S+|http?:\\S|[^A-Za-z0-9]\""
   ]
  },
  {
   "cell_type": "code",
   "execution_count": 23,
   "metadata": {},
   "outputs": [],
   "source": [
    "#Remoción de Stopwords y aplicación de Stemming\n",
    "stop_words = stopwords.words(\"english\")\n",
    "stemmer = SnowballStemmer(\"english\")\n",
    "\n",
    "#Funcion para limpiar el corpus\n",
    "def preprocess(text, stem=False):\n",
    "    # Remove link,user and special characters\n",
    "    text = re.sub(limpieza_re, ' ', str(text).lower()).strip()\n",
    "    tokens = []\n",
    "    for token in text.split():\n",
    "        if token not in stop_words:\n",
    "            if stem:\n",
    "                tokens.append(stemmer.stem(token))\n",
    "            else:\n",
    "                tokens.append(token)\n",
    "    return \" \".join(tokens)\n",
    "\n",
    "data.text = data.text.apply(lambda x: preprocess(x))"
   ]
  },
  {
   "cell_type": "code",
   "execution_count": 10,
   "metadata": {},
   "outputs": [
    {
     "data": {
      "text/plain": [
       "0          upset update facebook texting might cry result...\n",
       "1          dived many times ball managed save rest go bounds\n",
       "2                           whole body feels itchy like fire\n",
       "3                                           behaving mad see\n",
       "4                                                 whole crew\n",
       "                                 ...                        \n",
       "1599994                        woke school best feeling ever\n",
       "1599995             thewdb com cool hear old walt interviews\n",
       "1599996                      ready mojo makeover ask details\n",
       "1599997    happy h birthday boo alll time tupac amaru shakur\n",
       "1599998                                 happy charitytuesday\n",
       "Name: text, Length: 1599999, dtype: object"
      ]
     },
     "execution_count": 10,
     "metadata": {},
     "output_type": "execute_result"
    }
   ],
   "source": [
    "data.text"
   ]
  },
  {
   "attachments": {},
   "cell_type": "markdown",
   "metadata": {},
   "source": [
    "Division de los datos en train y test"
   ]
  },
  {
   "cell_type": "code",
   "execution_count": 11,
   "metadata": {},
   "outputs": [],
   "source": [
    "#Asignamos las variables X e Y a modelar\n",
    "X = data.text\n",
    "y = data.target"
   ]
  },
  {
   "cell_type": "code",
   "execution_count": 15,
   "metadata": {},
   "outputs": [
    {
     "name": "stdout",
     "output_type": "stream",
     "text": [
      "(1119999,)\n",
      "(480000,)\n",
      "(1119999,)\n",
      "(480000,)\n"
     ]
    }
   ],
   "source": [
    "#Dividimos en train-test\n",
    "X_train, X_test, y_train, y_test = train_test_split(X, y,stratify=y, test_size=0.3, random_state=42)\n",
    "print(X_train.shape)\n",
    "print(X_test.shape)\n",
    "print(y_train.shape)\n",
    "print(y_test.shape)"
   ]
  },
  {
   "cell_type": "code",
   "execution_count": null,
   "metadata": {},
   "outputs": [],
   "source": [
    "#Usamos CountVectorizer para lleva nuestro corpus a una matriz de documentos y términos.\n",
    "vectorizer=CountVectorizer(strip_accents='unicode'); # hay palabras con acentos por error de tipeo o por ser palabras de otro idioma. Los removemos.\n",
    "# X_train=vectorizer.fit_transform(X_train);\n",
    "# X_test=vectorizer.transform(X_test);"
   ]
  },
  {
   "attachments": {},
   "cell_type": "markdown",
   "metadata": {},
   "source": [
    "Configuración del Pipeline\n",
    "\n",
    "PARA LEER: el primer pipe es con base a la clase 47_1 clasificacion de textos\n",
    "pipeline para varios modelos viene de aca https://www.youtube.com/watch?v=ES0lM7QBZnI&list=FLrNGJ7KGOB1XGjvk9OvahOw&index=1\n",
    "que está buena la idea, y lo que se haria luego es usar CV y tunear los hiperparametros sobre el mejor modelo. "
   ]
  },
  {
   "cell_type": "code",
   "execution_count": null,
   "metadata": {},
   "outputs": [],
   "source": [
    "#armar un pipeline que incluya la verctorizacion y el clasificador para\n",
    "#optimizar sobre todos los hiperparámetros a la vez.\n",
    "\n",
    "#ttps://www.kaggle.com/code/balatmak/text-preprocessing-steps-and-universal-pipeline/notebook \n",
    "\n",
    "#https://www.kaggle.com/code/balatmak/text-classification-pipeline-newsgroups20/notebook esta notebook está buenisima"
   ]
  },
  {
   "cell_type": "code",
   "execution_count": null,
   "metadata": {},
   "outputs": [],
   "source": [
    "#ESTO ES UNA BASE \n",
    "\n",
    "#iniciamos el modelo\n",
    "#MNB = MultinomialNB()"
   ]
  },
  {
   "cell_type": "code",
   "execution_count": null,
   "metadata": {},
   "outputs": [],
   "source": [
    "# text_tfidf = Pipeline([('vect', CountVectorizer(stop_words='english')), ('tfidf', TfidfTransformer())])\n",
    "# tfidf_matrix = text_tfidf.fit_transform(texts_all_train)\n",
    "#https://www.kaggle.com/code/benboyet/web-mining-project-final-prediction/script"
   ]
  },
  {
   "cell_type": "code",
   "execution_count": null,
   "metadata": {},
   "outputs": [],
   "source": [
    "#Código de pipe la verctorizacion y el clasificador para optimizar sobre todos los hiperparámetros a la vez con gridsearch\n",
    "\n",
    "pasos=[('vect',vectorizer),('classifier',MultinomialNB())]\n",
    "pipe=Pipeline(pasos)\n",
    "\n",
    "#Definimos TFIDvectorizer\n",
    "vectorizer=TfidfVectorizer(stop_words=stop_words,strip_accents='unicode'); #ngram_range=(1,2)\n",
    "\n",
    "#definimos la validacion cruzda\n",
    "skf=StratifiedKFold(n_splits=3,random_state=0,shuffle=True)\n",
    "\n",
    "#parametros del grid         ##usar otros valores\n",
    "params_grid={'classifier__alpha':[1,2,1.5],'vect__min_df':[1,3]}; #frecuencia menor al dado\n",
    "\n",
    "#entrenamos el modelo\n",
    "GS_CV=GridSearchCV(pipe,params_grid,cv=skf,verbose=1,n_jobs=-1);\n",
    "\n",
    "GS_CV.fit(X_train, y_train);\n",
    "\n",
    "print('best score:',GS_CV.best_score_)\n",
    "print('best params:',GS_CV.best_params_)\n"
   ]
  },
  {
   "cell_type": "code",
   "execution_count": null,
   "metadata": {},
   "outputs": [],
   "source": [
    "pipe_pred = GS_CV.predict(X_test)\n",
    "\n",
    "conf_matrix = confusion_matrix(y_test, pipe_pred); \n",
    "plt.figure(figsize=(5, 2)); sns.heatmap(conf_matrix,  annot=True, fmt=\"d\");\n",
    "plt.title(\"Confusion matrix\"); plt.ylabel('True class'); plt.xlabel('Predicted class');plt.show()"
   ]
  },
  {
   "cell_type": "code",
   "execution_count": null,
   "metadata": {},
   "outputs": [],
   "source": [
    "#reporte de clasificación\n",
    "print(classification_report(y_test, pipe_pred))"
   ]
  },
  {
   "cell_type": "code",
   "execution_count": null,
   "metadata": {},
   "outputs": [],
   "source": [
    "#modelo final con parametros seteados\n",
    "\n",
    "vectorizer_2=TfidfVectorizer(stop_words=stop_words,strip_accents='unicode', min_df=1);\n",
    "MNB = MultinomialNB(alpha=2,)\n",
    "pasos_2=[('vectorizer',vectorizer_2),('MNB',MNB)]"
   ]
  },
  {
   "cell_type": "code",
   "execution_count": null,
   "metadata": {},
   "outputs": [],
   "source": [
    "#configurar pipe\n",
    "pipe_2 = Pipeline(pasos_2)\n",
    "pipe_2.fit(X_train, y_train)"
   ]
  },
  {
   "cell_type": "code",
   "execution_count": null,
   "metadata": {},
   "outputs": [],
   "source": [
    "pipe_2_pred= pipe_2.predict(X_test)"
   ]
  },
  {
   "cell_type": "code",
   "execution_count": null,
   "metadata": {},
   "outputs": [],
   "source": [
    "X_test"
   ]
  },
  {
   "cell_type": "code",
   "execution_count": null,
   "metadata": {},
   "outputs": [],
   "source": [
    "#reporte de clasificación\n",
    "print(classification_report(y_test, pipe_2_pred))"
   ]
  },
  {
   "cell_type": "code",
   "execution_count": null,
   "metadata": {},
   "outputs": [],
   "source": [
    "conf_matrix = confusion_matrix(y_test, pipe_2_pred); \n",
    "plt.figure(figsize=(5, 2)); sns.heatmap(conf_matrix,  annot=True, fmt=\"d\");\n",
    "plt.title(\"Confusion matrix\"); plt.ylabel('True class'); plt.xlabel('Predicted class');plt.show()"
   ]
  },
  {
   "cell_type": "code",
   "execution_count": null,
   "metadata": {},
   "outputs": [],
   "source": [
    "pipe_2_pred= pipe_2.predict(X_test)"
   ]
  },
  {
   "cell_type": "markdown",
   "metadata": {},
   "source": [
    "\"pipeline para varios modelos\""
   ]
  },
  {
   "cell_type": "code",
   "execution_count": null,
   "metadata": {},
   "outputs": [],
   "source": [
    "pipeline_lr = Pipeline([('vect',vectorizer),\n",
    "                        ('lr_classifier',LogisticRegression())])"
   ]
  },
  {
   "cell_type": "code",
   "execution_count": null,
   "metadata": {},
   "outputs": [],
   "source": [
    "pipeline_knn = Pipeline([('vect',vectorizer),\n",
    "                        ('knn_classifier',KNeighborsClassifier())])"
   ]
  },
  {
   "cell_type": "code",
   "execution_count": null,
   "metadata": {},
   "outputs": [],
   "source": [
    "#lista de pipelines\n",
    "pipelines = [pipeline_lr, pipeline_knn]"
   ]
  },
  {
   "cell_type": "code",
   "execution_count": null,
   "metadata": {},
   "outputs": [],
   "source": [
    "best_accuracy=0.0\n",
    "best_classifier=0\n",
    "best_pipeline=\"\""
   ]
  },
  {
   "cell_type": "code",
   "execution_count": null,
   "metadata": {},
   "outputs": [],
   "source": [
    "#diccionario de pipeline y tipos de clasificador para referencia\n",
    "pipe_dict = {0: \"Logistc Regresion\", 1:\"knn\"}\n",
    "\n",
    "#entrenamiento \n",
    "for pipe in pipelines:\n",
    "    pipe.fit(X_train, y_train)"
   ]
  },
  {
   "cell_type": "code",
   "execution_count": null,
   "metadata": {},
   "outputs": [],
   "source": [
    "for i, model in enumerate(pipelines):\n",
    "    print(\"{} Accuracy para el conjunto de prubea: {}\".format(pipe_dict[i], model.score(X_test, y_test)))"
   ]
  },
  {
   "attachments": {},
   "cell_type": "markdown",
   "metadata": {},
   "source": [
    "# ACA AGREGO UN PIPELINE CON GRID SEARCH PARA ARBOL DE DECISIONES CON FEATURE IMPORTANCE"
   ]
  },
  {
   "cell_type": "code",
   "execution_count": 25,
   "metadata": {},
   "outputs": [],
   "source": [
    "vectorizer=TfidfVectorizer(stop_words=stop_words,strip_accents='unicode');"
   ]
  },
  {
   "cell_type": "code",
   "execution_count": 26,
   "metadata": {},
   "outputs": [],
   "source": [
    "from sklearn.tree import DecisionTreeClassifier\n",
    "from sklearn.feature_selection import SelectFromModel\n",
    "\n",
    "pipeline_dt= Pipeline([('vect',vectorizer), ('tree', DecisionTreeClassifier()),('feature_selection', SelectFromModel(DecisionTreeClassifier()))])\n",
    "\n",
    "# Realizar la búsqueda de Grid Search con validación cruzada\n",
    "GS_dt=GridSearchCV(pipeline_dt,params_grid,cv=skf,scoring='accuracy', verbose=1,n_jobs=-1)\n"
   ]
  },
  {
   "cell_type": "code",
   "execution_count": 27,
   "metadata": {},
   "outputs": [
    {
     "name": "stdout",
     "output_type": "stream",
     "text": [
      "Fitting 3 folds for each of 6 candidates, totalling 18 fits\n"
     ]
    },
    {
     "ename": "ValueError",
     "evalue": "Invalid parameter 'classifier' for estimator Pipeline(steps=[('vect',\n                 TfidfVectorizer(stop_words=['i', 'me', 'my', 'myself', 'we',\n                                             'our', 'ours', 'ourselves', 'you',\n                                             \"you're\", \"you've\", \"you'll\",\n                                             \"you'd\", 'your', 'yours',\n                                             'yourself', 'yourselves', 'he',\n                                             'him', 'his', 'himself', 'she',\n                                             \"she's\", 'her', 'hers', 'herself',\n                                             'it', \"it's\", 'its', 'itself', ...],\n                                 strip_accents='unicode')),\n                ('tree', DecisionTreeClassifier()),\n                ('feature_selection',\n                 SelectFromModel(estimator=DecisionTreeClassifier()))]). Valid parameters are: ['memory', 'steps', 'verbose'].",
     "output_type": "error",
     "traceback": [
      "\u001b[1;31m---------------------------------------------------------------------------\u001b[0m",
      "\u001b[1;31m_RemoteTraceback\u001b[0m                          Traceback (most recent call last)",
      "\u001b[1;31m_RemoteTraceback\u001b[0m: \n\"\"\"\nTraceback (most recent call last):\n  File \"c:\\Users\\ornel\\anaconda3\\envs\\DH\\lib\\site-packages\\joblib\\externals\\loky\\process_executor.py\", line 436, in _process_worker\n    r = call_item()\n  File \"c:\\Users\\ornel\\anaconda3\\envs\\DH\\lib\\site-packages\\joblib\\externals\\loky\\process_executor.py\", line 288, in __call__\n    return self.fn(*self.args, **self.kwargs)\n  File \"c:\\Users\\ornel\\anaconda3\\envs\\DH\\lib\\site-packages\\joblib\\_parallel_backends.py\", line 595, in __call__\n    return self.func(*args, **kwargs)\n  File \"c:\\Users\\ornel\\anaconda3\\envs\\DH\\lib\\site-packages\\joblib\\parallel.py\", line 262, in __call__\n    return [func(*args, **kwargs)\n  File \"c:\\Users\\ornel\\anaconda3\\envs\\DH\\lib\\site-packages\\joblib\\parallel.py\", line 262, in <listcomp>\n    return [func(*args, **kwargs)\n  File \"c:\\Users\\ornel\\anaconda3\\envs\\DH\\lib\\site-packages\\sklearn\\utils\\fixes.py\", line 117, in __call__\n    return self.function(*args, **kwargs)\n  File \"c:\\Users\\ornel\\anaconda3\\envs\\DH\\lib\\site-packages\\sklearn\\model_selection\\_validation.py\", line 674, in _fit_and_score\n    estimator = estimator.set_params(**cloned_parameters)\n  File \"c:\\Users\\ornel\\anaconda3\\envs\\DH\\lib\\site-packages\\sklearn\\pipeline.py\", line 188, in set_params\n    self._set_params(\"steps\", **kwargs)\n  File \"c:\\Users\\ornel\\anaconda3\\envs\\DH\\lib\\site-packages\\sklearn\\utils\\metaestimators.py\", line 72, in _set_params\n    super().set_params(**params)\n  File \"c:\\Users\\ornel\\anaconda3\\envs\\DH\\lib\\site-packages\\sklearn\\base.py\", line 246, in set_params\n    raise ValueError(\nValueError: Invalid parameter 'classifier' for estimator Pipeline(steps=[('vect',\n                 TfidfVectorizer(stop_words=['i', 'me', 'my', 'myself', 'we',\n                                             'our', 'ours', 'ourselves', 'you',\n                                             \"you're\", \"you've\", \"you'll\",\n                                             \"you'd\", 'your', 'yours',\n                                             'yourself', 'yourselves', 'he',\n                                             'him', 'his', 'himself', 'she',\n                                             \"she's\", 'her', 'hers', 'herself',\n                                             'it', \"it's\", 'its', 'itself', ...],\n                                 strip_accents='unicode')),\n                ('tree', DecisionTreeClassifier()),\n                ('feature_selection',\n                 SelectFromModel(estimator=DecisionTreeClassifier()))]). Valid parameters are: ['memory', 'steps', 'verbose'].\n\"\"\"",
      "\nThe above exception was the direct cause of the following exception:\n",
      "\u001b[1;31mValueError\u001b[0m                                Traceback (most recent call last)",
      "\u001b[1;32mc:\\Users\\ornel\\OneDrive\\Documentos\\02- Cursos\\34- DH- Data Science\\dh-ds-pi-1\\TP4\\TP4.ipynb Cell 46\u001b[0m in \u001b[0;36m<cell line: 2>\u001b[1;34m()\u001b[0m\n\u001b[0;32m      <a href='vscode-notebook-cell:/c%3A/Users/ornel/OneDrive/Documentos/02-%20Cursos/34-%20DH-%20Data%20Science/dh-ds-pi-1/TP4/TP4.ipynb#Y203sZmlsZQ%3D%3D?line=0'>1</a>\u001b[0m \u001b[39m# Ajustar el modelo a los datos de entrenamiento\u001b[39;00m\n\u001b[1;32m----> <a href='vscode-notebook-cell:/c%3A/Users/ornel/OneDrive/Documentos/02-%20Cursos/34-%20DH-%20Data%20Science/dh-ds-pi-1/TP4/TP4.ipynb#Y203sZmlsZQ%3D%3D?line=1'>2</a>\u001b[0m GS_dt\u001b[39m.\u001b[39;49mfit(X_train, y_train)\n",
      "File \u001b[1;32mc:\\Users\\ornel\\anaconda3\\envs\\DH\\lib\\site-packages\\sklearn\\model_selection\\_search.py:875\u001b[0m, in \u001b[0;36mBaseSearchCV.fit\u001b[1;34m(self, X, y, groups, **fit_params)\u001b[0m\n\u001b[0;32m    869\u001b[0m     results \u001b[39m=\u001b[39m \u001b[39mself\u001b[39m\u001b[39m.\u001b[39m_format_results(\n\u001b[0;32m    870\u001b[0m         all_candidate_params, n_splits, all_out, all_more_results\n\u001b[0;32m    871\u001b[0m     )\n\u001b[0;32m    873\u001b[0m     \u001b[39mreturn\u001b[39;00m results\n\u001b[1;32m--> 875\u001b[0m \u001b[39mself\u001b[39;49m\u001b[39m.\u001b[39;49m_run_search(evaluate_candidates)\n\u001b[0;32m    877\u001b[0m \u001b[39m# multimetric is determined here because in the case of a callable\u001b[39;00m\n\u001b[0;32m    878\u001b[0m \u001b[39m# self.scoring the return type is only known after calling\u001b[39;00m\n\u001b[0;32m    879\u001b[0m first_test_score \u001b[39m=\u001b[39m all_out[\u001b[39m0\u001b[39m][\u001b[39m\"\u001b[39m\u001b[39mtest_scores\u001b[39m\u001b[39m\"\u001b[39m]\n",
      "File \u001b[1;32mc:\\Users\\ornel\\anaconda3\\envs\\DH\\lib\\site-packages\\sklearn\\model_selection\\_search.py:1375\u001b[0m, in \u001b[0;36mGridSearchCV._run_search\u001b[1;34m(self, evaluate_candidates)\u001b[0m\n\u001b[0;32m   1373\u001b[0m \u001b[39mdef\u001b[39;00m \u001b[39m_run_search\u001b[39m(\u001b[39mself\u001b[39m, evaluate_candidates):\n\u001b[0;32m   1374\u001b[0m     \u001b[39m\"\"\"Search all candidates in param_grid\"\"\"\u001b[39;00m\n\u001b[1;32m-> 1375\u001b[0m     evaluate_candidates(ParameterGrid(\u001b[39mself\u001b[39;49m\u001b[39m.\u001b[39;49mparam_grid))\n",
      "File \u001b[1;32mc:\\Users\\ornel\\anaconda3\\envs\\DH\\lib\\site-packages\\sklearn\\model_selection\\_search.py:822\u001b[0m, in \u001b[0;36mBaseSearchCV.fit.<locals>.evaluate_candidates\u001b[1;34m(candidate_params, cv, more_results)\u001b[0m\n\u001b[0;32m    814\u001b[0m \u001b[39mif\u001b[39;00m \u001b[39mself\u001b[39m\u001b[39m.\u001b[39mverbose \u001b[39m>\u001b[39m \u001b[39m0\u001b[39m:\n\u001b[0;32m    815\u001b[0m     \u001b[39mprint\u001b[39m(\n\u001b[0;32m    816\u001b[0m         \u001b[39m\"\u001b[39m\u001b[39mFitting \u001b[39m\u001b[39m{0}\u001b[39;00m\u001b[39m folds for each of \u001b[39m\u001b[39m{1}\u001b[39;00m\u001b[39m candidates,\u001b[39m\u001b[39m\"\u001b[39m\n\u001b[0;32m    817\u001b[0m         \u001b[39m\"\u001b[39m\u001b[39m totalling \u001b[39m\u001b[39m{2}\u001b[39;00m\u001b[39m fits\u001b[39m\u001b[39m\"\u001b[39m\u001b[39m.\u001b[39mformat(\n\u001b[0;32m    818\u001b[0m             n_splits, n_candidates, n_candidates \u001b[39m*\u001b[39m n_splits\n\u001b[0;32m    819\u001b[0m         )\n\u001b[0;32m    820\u001b[0m     )\n\u001b[1;32m--> 822\u001b[0m out \u001b[39m=\u001b[39m parallel(\n\u001b[0;32m    823\u001b[0m     delayed(_fit_and_score)(\n\u001b[0;32m    824\u001b[0m         clone(base_estimator),\n\u001b[0;32m    825\u001b[0m         X,\n\u001b[0;32m    826\u001b[0m         y,\n\u001b[0;32m    827\u001b[0m         train\u001b[39m=\u001b[39;49mtrain,\n\u001b[0;32m    828\u001b[0m         test\u001b[39m=\u001b[39;49mtest,\n\u001b[0;32m    829\u001b[0m         parameters\u001b[39m=\u001b[39;49mparameters,\n\u001b[0;32m    830\u001b[0m         split_progress\u001b[39m=\u001b[39;49m(split_idx, n_splits),\n\u001b[0;32m    831\u001b[0m         candidate_progress\u001b[39m=\u001b[39;49m(cand_idx, n_candidates),\n\u001b[0;32m    832\u001b[0m         \u001b[39m*\u001b[39;49m\u001b[39m*\u001b[39;49mfit_and_score_kwargs,\n\u001b[0;32m    833\u001b[0m     )\n\u001b[0;32m    834\u001b[0m     \u001b[39mfor\u001b[39;49;00m (cand_idx, parameters), (split_idx, (train, test)) \u001b[39min\u001b[39;49;00m product(\n\u001b[0;32m    835\u001b[0m         \u001b[39menumerate\u001b[39;49m(candidate_params), \u001b[39menumerate\u001b[39;49m(cv\u001b[39m.\u001b[39;49msplit(X, y, groups))\n\u001b[0;32m    836\u001b[0m     )\n\u001b[0;32m    837\u001b[0m )\n\u001b[0;32m    839\u001b[0m \u001b[39mif\u001b[39;00m \u001b[39mlen\u001b[39m(out) \u001b[39m<\u001b[39m \u001b[39m1\u001b[39m:\n\u001b[0;32m    840\u001b[0m     \u001b[39mraise\u001b[39;00m \u001b[39mValueError\u001b[39;00m(\n\u001b[0;32m    841\u001b[0m         \u001b[39m\"\u001b[39m\u001b[39mNo fits were performed. \u001b[39m\u001b[39m\"\u001b[39m\n\u001b[0;32m    842\u001b[0m         \u001b[39m\"\u001b[39m\u001b[39mWas the CV iterator empty? \u001b[39m\u001b[39m\"\u001b[39m\n\u001b[0;32m    843\u001b[0m         \u001b[39m\"\u001b[39m\u001b[39mWere there no candidates?\u001b[39m\u001b[39m\"\u001b[39m\n\u001b[0;32m    844\u001b[0m     )\n",
      "File \u001b[1;32mc:\\Users\\ornel\\anaconda3\\envs\\DH\\lib\\site-packages\\joblib\\parallel.py:1056\u001b[0m, in \u001b[0;36mParallel.__call__\u001b[1;34m(self, iterable)\u001b[0m\n\u001b[0;32m   1053\u001b[0m     \u001b[39mself\u001b[39m\u001b[39m.\u001b[39m_iterating \u001b[39m=\u001b[39m \u001b[39mFalse\u001b[39;00m\n\u001b[0;32m   1055\u001b[0m \u001b[39mwith\u001b[39;00m \u001b[39mself\u001b[39m\u001b[39m.\u001b[39m_backend\u001b[39m.\u001b[39mretrieval_context():\n\u001b[1;32m-> 1056\u001b[0m     \u001b[39mself\u001b[39;49m\u001b[39m.\u001b[39;49mretrieve()\n\u001b[0;32m   1057\u001b[0m \u001b[39m# Make sure that we get a last message telling us we are done\u001b[39;00m\n\u001b[0;32m   1058\u001b[0m elapsed_time \u001b[39m=\u001b[39m time\u001b[39m.\u001b[39mtime() \u001b[39m-\u001b[39m \u001b[39mself\u001b[39m\u001b[39m.\u001b[39m_start_time\n",
      "File \u001b[1;32mc:\\Users\\ornel\\anaconda3\\envs\\DH\\lib\\site-packages\\joblib\\parallel.py:935\u001b[0m, in \u001b[0;36mParallel.retrieve\u001b[1;34m(self)\u001b[0m\n\u001b[0;32m    933\u001b[0m \u001b[39mtry\u001b[39;00m:\n\u001b[0;32m    934\u001b[0m     \u001b[39mif\u001b[39;00m \u001b[39mgetattr\u001b[39m(\u001b[39mself\u001b[39m\u001b[39m.\u001b[39m_backend, \u001b[39m'\u001b[39m\u001b[39msupports_timeout\u001b[39m\u001b[39m'\u001b[39m, \u001b[39mFalse\u001b[39;00m):\n\u001b[1;32m--> 935\u001b[0m         \u001b[39mself\u001b[39m\u001b[39m.\u001b[39m_output\u001b[39m.\u001b[39mextend(job\u001b[39m.\u001b[39;49mget(timeout\u001b[39m=\u001b[39;49m\u001b[39mself\u001b[39;49m\u001b[39m.\u001b[39;49mtimeout))\n\u001b[0;32m    936\u001b[0m     \u001b[39melse\u001b[39;00m:\n\u001b[0;32m    937\u001b[0m         \u001b[39mself\u001b[39m\u001b[39m.\u001b[39m_output\u001b[39m.\u001b[39mextend(job\u001b[39m.\u001b[39mget())\n",
      "File \u001b[1;32mc:\\Users\\ornel\\anaconda3\\envs\\DH\\lib\\site-packages\\joblib\\_parallel_backends.py:542\u001b[0m, in \u001b[0;36mLokyBackend.wrap_future_result\u001b[1;34m(future, timeout)\u001b[0m\n\u001b[0;32m    539\u001b[0m \u001b[39m\"\"\"Wrapper for Future.result to implement the same behaviour as\u001b[39;00m\n\u001b[0;32m    540\u001b[0m \u001b[39mAsyncResults.get from multiprocessing.\"\"\"\u001b[39;00m\n\u001b[0;32m    541\u001b[0m \u001b[39mtry\u001b[39;00m:\n\u001b[1;32m--> 542\u001b[0m     \u001b[39mreturn\u001b[39;00m future\u001b[39m.\u001b[39;49mresult(timeout\u001b[39m=\u001b[39;49mtimeout)\n\u001b[0;32m    543\u001b[0m \u001b[39mexcept\u001b[39;00m CfTimeoutError \u001b[39mas\u001b[39;00m e:\n\u001b[0;32m    544\u001b[0m     \u001b[39mraise\u001b[39;00m \u001b[39mTimeoutError\u001b[39;00m \u001b[39mfrom\u001b[39;00m \u001b[39me\u001b[39;00m\n",
      "File \u001b[1;32mc:\\Users\\ornel\\anaconda3\\envs\\DH\\lib\\concurrent\\futures\\_base.py:446\u001b[0m, in \u001b[0;36mFuture.result\u001b[1;34m(self, timeout)\u001b[0m\n\u001b[0;32m    444\u001b[0m     \u001b[39mraise\u001b[39;00m CancelledError()\n\u001b[0;32m    445\u001b[0m \u001b[39melif\u001b[39;00m \u001b[39mself\u001b[39m\u001b[39m.\u001b[39m_state \u001b[39m==\u001b[39m FINISHED:\n\u001b[1;32m--> 446\u001b[0m     \u001b[39mreturn\u001b[39;00m \u001b[39mself\u001b[39;49m\u001b[39m.\u001b[39;49m__get_result()\n\u001b[0;32m    447\u001b[0m \u001b[39melse\u001b[39;00m:\n\u001b[0;32m    448\u001b[0m     \u001b[39mraise\u001b[39;00m \u001b[39mTimeoutError\u001b[39;00m()\n",
      "File \u001b[1;32mc:\\Users\\ornel\\anaconda3\\envs\\DH\\lib\\concurrent\\futures\\_base.py:391\u001b[0m, in \u001b[0;36mFuture.__get_result\u001b[1;34m(self)\u001b[0m\n\u001b[0;32m    389\u001b[0m \u001b[39mif\u001b[39;00m \u001b[39mself\u001b[39m\u001b[39m.\u001b[39m_exception:\n\u001b[0;32m    390\u001b[0m     \u001b[39mtry\u001b[39;00m:\n\u001b[1;32m--> 391\u001b[0m         \u001b[39mraise\u001b[39;00m \u001b[39mself\u001b[39m\u001b[39m.\u001b[39m_exception\n\u001b[0;32m    392\u001b[0m     \u001b[39mfinally\u001b[39;00m:\n\u001b[0;32m    393\u001b[0m         \u001b[39m# Break a reference cycle with the exception in self._exception\u001b[39;00m\n\u001b[0;32m    394\u001b[0m         \u001b[39mself\u001b[39m \u001b[39m=\u001b[39m \u001b[39mNone\u001b[39;00m\n",
      "\u001b[1;31mValueError\u001b[0m: Invalid parameter 'classifier' for estimator Pipeline(steps=[('vect',\n                 TfidfVectorizer(stop_words=['i', 'me', 'my', 'myself', 'we',\n                                             'our', 'ours', 'ourselves', 'you',\n                                             \"you're\", \"you've\", \"you'll\",\n                                             \"you'd\", 'your', 'yours',\n                                             'yourself', 'yourselves', 'he',\n                                             'him', 'his', 'himself', 'she',\n                                             \"she's\", 'her', 'hers', 'herself',\n                                             'it', \"it's\", 'its', 'itself', ...],\n                                 strip_accents='unicode')),\n                ('tree', DecisionTreeClassifier()),\n                ('feature_selection',\n                 SelectFromModel(estimator=DecisionTreeClassifier()))]). Valid parameters are: ['memory', 'steps', 'verbose']."
     ]
    }
   ],
   "source": [
    "# Ajustar el modelo a los datos de entrenamiento\n",
    "GS_dt.fit(X_train, y_train)\n"
   ]
  },
  {
   "cell_type": "code",
   "execution_count": null,
   "metadata": {},
   "outputs": [],
   "source": [
    "# Obtener la importancia de las características\n",
    "feature_importances = GS_dt.best_estimator_.named_steps['tree'].feature_importances_\n",
    "\n",
    "# Crear un DataFrame para mostrar la importancia de las características\n",
    "importances = pd.DataFrame({'feature': data.feature_names, 'importance': feature_importances})\n",
    "importances = importances.sort_values('importance', ascending=False)\n",
    "print(importances)\n",
    "\n",
    "# Imprimir los mejores parámetros encontrados por Grid Search\n",
    "print(GS_dt.best_params_)\n"
   ]
  },
  {
   "attachments": {},
   "cell_type": "markdown",
   "metadata": {},
   "source": [
    "### Wordcloud"
   ]
  },
  {
   "cell_type": "code",
   "execution_count": null,
   "metadata": {},
   "outputs": [],
   "source": [
    "#https://www.kaggle.com/code/mskorski/topic-extraction-and-visualization-musk-s-tweets"
   ]
  },
  {
   "attachments": {},
   "cell_type": "markdown",
   "metadata": {},
   "source": [
    "### Tokenización"
   ]
  },
  {
   "attachments": {},
   "cell_type": "markdown",
   "metadata": {},
   "source": [
    "### Remoción de stopwords"
   ]
  },
  {
   "attachments": {},
   "cell_type": "markdown",
   "metadata": {},
   "source": [
    "### Lematización/ Stemming"
   ]
  },
  {
   "attachments": {},
   "cell_type": "markdown",
   "metadata": {},
   "source": [
    "### Vectorización"
   ]
  },
  {
   "attachments": {},
   "cell_type": "markdown",
   "metadata": {},
   "source": [
    "### TF-IDF"
   ]
  },
  {
   "attachments": {},
   "cell_type": "markdown",
   "metadata": {},
   "source": [
    "### Word2Vec"
   ]
  },
  {
   "attachments": {},
   "cell_type": "markdown",
   "metadata": {},
   "source": [
    "### Singular Value Decomposition "
   ]
  },
  {
   "attachments": {},
   "cell_type": "markdown",
   "metadata": {},
   "source": [
    "## Modelos"
   ]
  }
 ],
 "metadata": {
  "kernelspec": {
   "display_name": "dh",
   "language": "python",
   "name": "python3"
  },
  "language_info": {
   "codemirror_mode": {
    "name": "ipython",
    "version": 3
   },
   "file_extension": ".py",
   "mimetype": "text/x-python",
   "name": "python",
   "nbconvert_exporter": "python",
   "pygments_lexer": "ipython3",
   "version": "3.10.4"
  },
  "orig_nbformat": 4
 },
 "nbformat": 4,
 "nbformat_minor": 2
}
