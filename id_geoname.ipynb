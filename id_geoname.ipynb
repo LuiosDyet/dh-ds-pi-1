{
 "cells": [
  {
   "cell_type": "code",
   "execution_count": 21,
   "metadata": {},
   "outputs": [],
   "source": [
    "import pandas as pd\n",
    "import numpy as np\n",
    "import matplotlib.pyplot as plt\n",
    "import statsmodels.api as sm"
   ]
  },
  {
   "cell_type": "code",
   "execution_count": 22,
   "metadata": {},
   "outputs": [
    {
     "data": {
      "text/plain": [
       "(121220, 25)"
      ]
     },
     "execution_count": 22,
     "metadata": {},
     "output_type": "execute_result"
    }
   ],
   "source": [
    "data = pd.read_csv(\"./data/properatti.csv\", index_col=0)\n",
    "data.shape"
   ]
  },
  {
   "cell_type": "code",
   "execution_count": 23,
   "metadata": {},
   "outputs": [
    {
     "data": {
      "text/html": [
       "<div>\n",
       "<style scoped>\n",
       "    .dataframe tbody tr th:only-of-type {\n",
       "        vertical-align: middle;\n",
       "    }\n",
       "\n",
       "    .dataframe tbody tr th {\n",
       "        vertical-align: top;\n",
       "    }\n",
       "\n",
       "    .dataframe thead th {\n",
       "        text-align: right;\n",
       "    }\n",
       "</style>\n",
       "<table border=\"1\" class=\"dataframe\">\n",
       "  <thead>\n",
       "    <tr style=\"text-align: right;\">\n",
       "      <th></th>\n",
       "      <th>state_name</th>\n",
       "      <th>geonames_id</th>\n",
       "      <th>lat-lon</th>\n",
       "      <th>lat</th>\n",
       "      <th>lon</th>\n",
       "    </tr>\n",
       "  </thead>\n",
       "  <tbody>\n",
       "    <tr>\n",
       "      <th>0</th>\n",
       "      <td>Capital Federal</td>\n",
       "      <td>3430787.0</td>\n",
       "      <td>-34.6618237,-58.5088387</td>\n",
       "      <td>-34.661824</td>\n",
       "      <td>-58.508839</td>\n",
       "    </tr>\n",
       "    <tr>\n",
       "      <th>1</th>\n",
       "      <td>Bs.As. G.B.A. Zona Sur</td>\n",
       "      <td>3432039.0</td>\n",
       "      <td>-34.9038831,-57.9643295</td>\n",
       "      <td>-34.903883</td>\n",
       "      <td>-57.964330</td>\n",
       "    </tr>\n",
       "    <tr>\n",
       "      <th>2</th>\n",
       "      <td>Capital Federal</td>\n",
       "      <td>3430787.0</td>\n",
       "      <td>-34.6522615,-58.5229825</td>\n",
       "      <td>-34.652262</td>\n",
       "      <td>-58.522982</td>\n",
       "    </tr>\n",
       "    <tr>\n",
       "      <th>3</th>\n",
       "      <td>Capital Federal</td>\n",
       "      <td>3431333.0</td>\n",
       "      <td>-34.6477969,-58.5164244</td>\n",
       "      <td>-34.647797</td>\n",
       "      <td>-58.516424</td>\n",
       "    </tr>\n",
       "    <tr>\n",
       "      <th>4</th>\n",
       "      <td>Buenos Aires Costa Atlántica</td>\n",
       "      <td>3435548.0</td>\n",
       "      <td>-38.0026256,-57.5494468</td>\n",
       "      <td>-38.002626</td>\n",
       "      <td>-57.549447</td>\n",
       "    </tr>\n",
       "    <tr>\n",
       "      <th>...</th>\n",
       "      <td>...</td>\n",
       "      <td>...</td>\n",
       "      <td>...</td>\n",
       "      <td>...</td>\n",
       "      <td>...</td>\n",
       "    </tr>\n",
       "    <tr>\n",
       "      <th>121215</th>\n",
       "      <td>Capital Federal</td>\n",
       "      <td>3436077.0</td>\n",
       "      <td>NaN</td>\n",
       "      <td>NaN</td>\n",
       "      <td>NaN</td>\n",
       "    </tr>\n",
       "    <tr>\n",
       "      <th>121216</th>\n",
       "      <td>Bs.As. G.B.A. Zona Norte</td>\n",
       "      <td>3436080.0</td>\n",
       "      <td>NaN</td>\n",
       "      <td>NaN</td>\n",
       "      <td>NaN</td>\n",
       "    </tr>\n",
       "    <tr>\n",
       "      <th>121217</th>\n",
       "      <td>Capital Federal</td>\n",
       "      <td>3433775.0</td>\n",
       "      <td>-34.5706388726,-58.4755963355</td>\n",
       "      <td>-34.570639</td>\n",
       "      <td>-58.475596</td>\n",
       "    </tr>\n",
       "    <tr>\n",
       "      <th>121218</th>\n",
       "      <td>Buenos Aires Costa Atlántica</td>\n",
       "      <td>NaN</td>\n",
       "      <td>NaN</td>\n",
       "      <td>NaN</td>\n",
       "      <td>NaN</td>\n",
       "    </tr>\n",
       "    <tr>\n",
       "      <th>121219</th>\n",
       "      <td>Capital Federal</td>\n",
       "      <td>3433955.0</td>\n",
       "      <td>NaN</td>\n",
       "      <td>NaN</td>\n",
       "      <td>NaN</td>\n",
       "    </tr>\n",
       "  </tbody>\n",
       "</table>\n",
       "<p>121220 rows × 5 columns</p>\n",
       "</div>"
      ],
      "text/plain": [
       "                          state_name  geonames_id  \\\n",
       "0                    Capital Federal    3430787.0   \n",
       "1             Bs.As. G.B.A. Zona Sur    3432039.0   \n",
       "2                    Capital Federal    3430787.0   \n",
       "3                    Capital Federal    3431333.0   \n",
       "4       Buenos Aires Costa Atlántica    3435548.0   \n",
       "...                              ...          ...   \n",
       "121215               Capital Federal    3436077.0   \n",
       "121216      Bs.As. G.B.A. Zona Norte    3436080.0   \n",
       "121217               Capital Federal    3433775.0   \n",
       "121218  Buenos Aires Costa Atlántica          NaN   \n",
       "121219               Capital Federal    3433955.0   \n",
       "\n",
       "                              lat-lon        lat        lon  \n",
       "0             -34.6618237,-58.5088387 -34.661824 -58.508839  \n",
       "1             -34.9038831,-57.9643295 -34.903883 -57.964330  \n",
       "2             -34.6522615,-58.5229825 -34.652262 -58.522982  \n",
       "3             -34.6477969,-58.5164244 -34.647797 -58.516424  \n",
       "4             -38.0026256,-57.5494468 -38.002626 -57.549447  \n",
       "...                               ...        ...        ...  \n",
       "121215                            NaN        NaN        NaN  \n",
       "121216                            NaN        NaN        NaN  \n",
       "121217  -34.5706388726,-58.4755963355 -34.570639 -58.475596  \n",
       "121218                            NaN        NaN        NaN  \n",
       "121219                            NaN        NaN        NaN  \n",
       "\n",
       "[121220 rows x 5 columns]"
      ]
     },
     "execution_count": 23,
     "metadata": {},
     "output_type": "execute_result"
    }
   ],
   "source": [
    "# grupos de columas para poder trabajar con ellas de forma mas sencilla\n",
    "geolocation = ['state_name','geonames_id', 'lat-lon','lat','lon']\n",
    "\n",
    "# Creamos un nuevo dataframe con las columnas que me interesan\n",
    "\n",
    "geo_location_data = (data[ geolocation].copy())\n",
    "geo_location_data\n"
   ]
  },
  {
   "cell_type": "code",
   "execution_count": 24,
   "metadata": {},
   "outputs": [
    {
     "data": {
      "text/plain": [
       "Int64Index([    13,     14,     23,     42,     49,     62,     86,     98,\n",
       "               104,    105,\n",
       "            ...\n",
       "            121208, 121210, 121211, 121212, 121213, 121214, 121215, 121216,\n",
       "            121218, 121219],\n",
       "           dtype='int64', length=51550)"
      ]
     },
     "execution_count": 24,
     "metadata": {},
     "output_type": "execute_result"
    }
   ],
   "source": [
    "masc_nulos_lat = geo_location_data[\"lat\"].astype(str)  == \"nan\"\n",
    "geo_location_data[masc_nulos_lat].index"
   ]
  },
  {
   "cell_type": "code",
   "execution_count": 25,
   "metadata": {},
   "outputs": [
    {
     "data": {
      "text/plain": [
       "Int64Index([    13,     14,     23,     42,     49,     62,     86,     98,\n",
       "               104,    105,\n",
       "            ...\n",
       "            121208, 121210, 121211, 121212, 121213, 121214, 121215, 121216,\n",
       "            121218, 121219],\n",
       "           dtype='int64', length=51550)"
      ]
     },
     "execution_count": 25,
     "metadata": {},
     "output_type": "execute_result"
    }
   ],
   "source": [
    "masc_nulos_lon = geo_location_data[\"lon\"].astype(str)  == \"nan\"\n",
    "geo_location_data[masc_nulos_lon].index"
   ]
  },
  {
   "cell_type": "code",
   "execution_count": 26,
   "metadata": {},
   "outputs": [
    {
     "name": "stdout",
     "output_type": "stream",
     "text": [
      "                          state_name  geonames_id  lat  lon\n",
      "13                   Capital Federal    3430234.0  NaN  NaN\n",
      "14                   Capital Federal    3430234.0  NaN  NaN\n",
      "23          Bs.As. G.B.A. Zona Norte          NaN  NaN  NaN\n",
      "42          Bs.As. G.B.A. Zona Norte    3429979.0  NaN  NaN\n",
      "49          Bs.As. G.B.A. Zona Norte    3434130.0  NaN  NaN\n",
      "...                              ...          ...  ...  ...\n",
      "121214      Bs.As. G.B.A. Zona Norte    3428983.0  NaN  NaN\n",
      "121215               Capital Federal    3436077.0  NaN  NaN\n",
      "121216      Bs.As. G.B.A. Zona Norte    3436080.0  NaN  NaN\n",
      "121218  Buenos Aires Costa Atlántica          NaN  NaN  NaN\n",
      "121219               Capital Federal    3433955.0  NaN  NaN\n",
      "\n",
      "[51550 rows x 4 columns]\n"
     ]
    }
   ],
   "source": [
    "#como lat y long tienen las mismas filas nan, escojo uno para obtener el indice\n",
    "filas_nan= geo_location_data[masc_nulos_lon].index\n",
    "print(geo_location_data.loc[filas_nan, [\"state_name\",'geonames_id','lat','lon']])\n"
   ]
  },
  {
   "cell_type": "code",
   "execution_count": 40,
   "metadata": {},
   "outputs": [
    {
     "data": {
      "text/plain": [
       "(51550,)"
      ]
     },
     "execution_count": 40,
     "metadata": {},
     "output_type": "execute_result"
    }
   ],
   "source": [
    "df_geo_nulos = geo_location_data.loc[filas_nan, [\"state_name\",'geonames_id','lat','lon']]\n",
    "#para tener una idea donde están concentrados los datos sin lat-lon \n",
    "df_geo_nulos[\"state_name\"].shape"
   ]
  },
  {
   "cell_type": "code",
   "execution_count": 28,
   "metadata": {},
   "outputs": [
    {
     "data": {
      "text/plain": [
       "state_name         0\n",
       "geonames_id        0\n",
       "lat            43365\n",
       "lon            43365\n",
       "dtype: int64"
      ]
     },
     "execution_count": 28,
     "metadata": {},
     "output_type": "execute_result"
    }
   ],
   "source": [
    "#saco los nulos de geonames_id\n",
    "df_geo_nulos.dropna(subset=['geonames_id'], inplace=True)\n",
    "df_geo_nulos.isnull().sum()\n",
    "\n",
    "#y lat y lon nuevas que tengo que buscar para completar para completar"
   ]
  },
  {
   "cell_type": "markdown",
   "metadata": {},
   "source": [
    "Trabajando con la data externa de geonames "
   ]
  },
  {
   "cell_type": "code",
   "execution_count": 29,
   "metadata": {},
   "outputs": [
    {
     "data": {
      "text/html": [
       "<div>\n",
       "<style scoped>\n",
       "    .dataframe tbody tr th:only-of-type {\n",
       "        vertical-align: middle;\n",
       "    }\n",
       "\n",
       "    .dataframe tbody tr th {\n",
       "        vertical-align: top;\n",
       "    }\n",
       "\n",
       "    .dataframe thead th {\n",
       "        text-align: right;\n",
       "    }\n",
       "</style>\n",
       "<table border=\"1\" class=\"dataframe\">\n",
       "  <thead>\n",
       "    <tr style=\"text-align: right;\">\n",
       "      <th></th>\n",
       "      <th>geoname_oficial</th>\n",
       "      <th>1</th>\n",
       "      <th>2</th>\n",
       "      <th>3</th>\n",
       "      <th>lat_oficial</th>\n",
       "      <th>lon_oficial</th>\n",
       "      <th>6</th>\n",
       "      <th>7</th>\n",
       "      <th>8</th>\n",
       "      <th>9</th>\n",
       "      <th>10</th>\n",
       "      <th>11</th>\n",
       "      <th>12</th>\n",
       "      <th>13</th>\n",
       "      <th>14</th>\n",
       "      <th>15</th>\n",
       "      <th>16</th>\n",
       "      <th>17</th>\n",
       "      <th>18</th>\n",
       "    </tr>\n",
       "  </thead>\n",
       "  <tbody>\n",
       "    <tr>\n",
       "      <th>0</th>\n",
       "      <td>3427200</td>\n",
       "      <td>Sierra del 15</td>\n",
       "      <td>Sierra del 15</td>\n",
       "      <td>NaN</td>\n",
       "      <td>-37.96613</td>\n",
       "      <td>-57.94670</td>\n",
       "      <td>T</td>\n",
       "      <td>HLL</td>\n",
       "      <td>AR</td>\n",
       "      <td>NaN</td>\n",
       "      <td>1.0</td>\n",
       "      <td>6357.0</td>\n",
       "      <td>NaN</td>\n",
       "      <td>NaN</td>\n",
       "      <td>0</td>\n",
       "      <td>NaN</td>\n",
       "      <td>200</td>\n",
       "      <td>America/Argentina/Buenos_Aires</td>\n",
       "      <td>2016-01-30</td>\n",
       "    </tr>\n",
       "    <tr>\n",
       "      <th>1</th>\n",
       "      <td>3427201</td>\n",
       "      <td>Puesto 1 Napoleón Cué</td>\n",
       "      <td>Puesto 1 Napoleon Cue</td>\n",
       "      <td>NaN</td>\n",
       "      <td>-28.63333</td>\n",
       "      <td>-56.11667</td>\n",
       "      <td>S</td>\n",
       "      <td>HSE</td>\n",
       "      <td>AR</td>\n",
       "      <td>NaN</td>\n",
       "      <td>6.0</td>\n",
       "      <td>18168.0</td>\n",
       "      <td>NaN</td>\n",
       "      <td>NaN</td>\n",
       "      <td>0</td>\n",
       "      <td>NaN</td>\n",
       "      <td>79</td>\n",
       "      <td>America/Argentina/Cordoba</td>\n",
       "      <td>2016-01-30</td>\n",
       "    </tr>\n",
       "    <tr>\n",
       "      <th>2</th>\n",
       "      <td>3427202</td>\n",
       "      <td>Cañada del Zorro</td>\n",
       "      <td>Canada del Zorro</td>\n",
       "      <td>NaN</td>\n",
       "      <td>-32.16667</td>\n",
       "      <td>-59.50000</td>\n",
       "      <td>H</td>\n",
       "      <td>STM</td>\n",
       "      <td>AR</td>\n",
       "      <td>NaN</td>\n",
       "      <td>8.0</td>\n",
       "      <td>NaN</td>\n",
       "      <td>NaN</td>\n",
       "      <td>NaN</td>\n",
       "      <td>0</td>\n",
       "      <td>NaN</td>\n",
       "      <td>65</td>\n",
       "      <td>America/Argentina/Cordoba</td>\n",
       "      <td>1993-12-21</td>\n",
       "    </tr>\n",
       "    <tr>\n",
       "      <th>3</th>\n",
       "      <td>3427203</td>\n",
       "      <td>Estancia Zorraquín</td>\n",
       "      <td>Estancia Zorraquin</td>\n",
       "      <td>NaN</td>\n",
       "      <td>-31.51553</td>\n",
       "      <td>-58.55208</td>\n",
       "      <td>S</td>\n",
       "      <td>RNCH</td>\n",
       "      <td>AR</td>\n",
       "      <td>NaN</td>\n",
       "      <td>8.0</td>\n",
       "      <td>30113.0</td>\n",
       "      <td>NaN</td>\n",
       "      <td>NaN</td>\n",
       "      <td>0</td>\n",
       "      <td>NaN</td>\n",
       "      <td>71</td>\n",
       "      <td>America/Argentina/Cordoba</td>\n",
       "      <td>2016-01-30</td>\n",
       "    </tr>\n",
       "  </tbody>\n",
       "</table>\n",
       "</div>"
      ],
      "text/plain": [
       "   geoname_oficial                      1                      2    3  \\\n",
       "0          3427200          Sierra del 15          Sierra del 15  NaN   \n",
       "1          3427201  Puesto 1 Napoleón Cué  Puesto 1 Napoleon Cue  NaN   \n",
       "2          3427202       Cañada del Zorro       Canada del Zorro  NaN   \n",
       "3          3427203     Estancia Zorraquín     Estancia Zorraquin  NaN   \n",
       "\n",
       "   lat_oficial  lon_oficial  6     7   8    9   10       11  12  13  14  15  \\\n",
       "0    -37.96613    -57.94670  T   HLL  AR  NaN  1.0   6357.0 NaN NaN   0 NaN   \n",
       "1    -28.63333    -56.11667  S   HSE  AR  NaN  6.0  18168.0 NaN NaN   0 NaN   \n",
       "2    -32.16667    -59.50000  H   STM  AR  NaN  8.0      NaN NaN NaN   0 NaN   \n",
       "3    -31.51553    -58.55208  S  RNCH  AR  NaN  8.0  30113.0 NaN NaN   0 NaN   \n",
       "\n",
       "    16                              17          18  \n",
       "0  200  America/Argentina/Buenos_Aires  2016-01-30  \n",
       "1   79       America/Argentina/Cordoba  2016-01-30  \n",
       "2   65       America/Argentina/Cordoba  1993-12-21  \n",
       "3   71       America/Argentina/Cordoba  2016-01-30  "
      ]
     },
     "execution_count": 29,
     "metadata": {},
     "output_type": "execute_result"
    }
   ],
   "source": [
    "geonames = pd.read_csv(\"ar_copy.csv\", sep='\\t', header=None)\n",
    "#como no tengo nombres en la columnas para mejorar la extraccion renombro las que me interesan\n",
    "geonames.rename({0: 'geoname_oficial', 4:\"lat_oficial\", 5:\"lon_oficial\"}, axis=1, inplace=True)\n",
    "geonames.head(4)"
   ]
  },
  {
   "cell_type": "code",
   "execution_count": 30,
   "metadata": {},
   "outputs": [],
   "source": [
    "#vemos que geoname_oficial es tipo int mientras geoname_id es float, por lo cual lo cambiamos\n",
    "df_geo_nulos[\"geonames_id\"] = df_geo_nulos[\"geonames_id\"].astype(int)"
   ]
  },
  {
   "cell_type": "code",
   "execution_count": 31,
   "metadata": {},
   "outputs": [
    {
     "data": {
      "text/plain": [
       "geoname_oficial    0\n",
       "lat_oficial        0\n",
       "lon_oficial        0\n",
       "dtype: int64"
      ]
     },
     "execution_count": 31,
     "metadata": {},
     "output_type": "execute_result"
    }
   ],
   "source": [
    "#tambien vamos a sacar los nulos del geoname_oficial y por \n",
    "geonames.dropna(subset=['geoname_oficial'], inplace=True)\n",
    "geonames[[\"geoname_oficial\",\"lat_oficial\",\"lon_oficial\"]].isnull().sum().head(6)"
   ]
  },
  {
   "cell_type": "code",
   "execution_count": 32,
   "metadata": {},
   "outputs": [],
   "source": [
    "#ahora si vamos a buscar los datos de lat y lon desde el geoname_oficial del archivo geonames de internet\n",
    "#Creamos un diccionario vacio para ubicar la Latitud\n",
    "lat_dict = {}\n",
    "\n",
    "#Creamos una tupla con los pares de key y value: usando un iterador de tuplas zip donde el primer\n",
    "# elemento de cada iterador pasado se empareja con el primero del segundo y asi sucesivamente\n",
    "geoname_lat = zip(geonames['geoname_oficial'], geonames['lat_oficial'])\n",
    "\n",
    "#Rellenamos el diccionario\n",
    "for geoname, lat_oficial in geoname_lat:\n",
    "    lat_dict[geoname] = lat_oficial"
   ]
  },
  {
   "cell_type": "code",
   "execution_count": 33,
   "metadata": {},
   "outputs": [],
   "source": [
    "#Creamos un diccionario para ubicar la Longitud\n",
    "lon_dict = {}\n",
    "\n",
    "#Creamos una tupla con los pares de key y value: usando un iterador de tuplas zip donde el primer\n",
    "# elemento de cada iterador pasado se empareja con el primero del segundo y asi sucesivamente\n",
    "geoname_lon = zip(geonames['geoname_oficial'], geonames['lon_oficial'])\n",
    "\n",
    "#Rellenamos el diccionario\n",
    "for geoname, lon_oficial in geoname_lon:\n",
    "    lon_dict[geoname] = lon_oficial"
   ]
  },
  {
   "cell_type": "code",
   "execution_count": 34,
   "metadata": {},
   "outputs": [],
   "source": [
    "df_geo_nulos[\"lat\"] = df_geo_nulos['geonames_id'].map(lat_dict) \n",
    "df_geo_nulos[\"lon\"] = df_geo_nulos['geonames_id'].map(lon_dict)"
   ]
  },
  {
   "cell_type": "code",
   "execution_count": 35,
   "metadata": {},
   "outputs": [
    {
     "data": {
      "text/html": [
       "<div>\n",
       "<style scoped>\n",
       "    .dataframe tbody tr th:only-of-type {\n",
       "        vertical-align: middle;\n",
       "    }\n",
       "\n",
       "    .dataframe tbody tr th {\n",
       "        vertical-align: top;\n",
       "    }\n",
       "\n",
       "    .dataframe thead th {\n",
       "        text-align: right;\n",
       "    }\n",
       "</style>\n",
       "<table border=\"1\" class=\"dataframe\">\n",
       "  <thead>\n",
       "    <tr style=\"text-align: right;\">\n",
       "      <th></th>\n",
       "      <th>state_name</th>\n",
       "      <th>geonames_id</th>\n",
       "      <th>lat</th>\n",
       "      <th>lon</th>\n",
       "    </tr>\n",
       "  </thead>\n",
       "  <tbody>\n",
       "    <tr>\n",
       "      <th>13</th>\n",
       "      <td>Capital Federal</td>\n",
       "      <td>3430234</td>\n",
       "      <td>-34.58856</td>\n",
       "      <td>-58.43053</td>\n",
       "    </tr>\n",
       "    <tr>\n",
       "      <th>14</th>\n",
       "      <td>Capital Federal</td>\n",
       "      <td>3430234</td>\n",
       "      <td>-34.58856</td>\n",
       "      <td>-58.43053</td>\n",
       "    </tr>\n",
       "    <tr>\n",
       "      <th>42</th>\n",
       "      <td>Bs.As. G.B.A. Zona Norte</td>\n",
       "      <td>3429979</td>\n",
       "      <td>-34.41667</td>\n",
       "      <td>-58.83333</td>\n",
       "    </tr>\n",
       "    <tr>\n",
       "      <th>49</th>\n",
       "      <td>Bs.As. G.B.A. Zona Norte</td>\n",
       "      <td>3434130</td>\n",
       "      <td>-34.33333</td>\n",
       "      <td>-58.75000</td>\n",
       "    </tr>\n",
       "    <tr>\n",
       "      <th>62</th>\n",
       "      <td>Bs.As. G.B.A. Zona Sur</td>\n",
       "      <td>3436042</td>\n",
       "      <td>-34.83333</td>\n",
       "      <td>-58.16667</td>\n",
       "    </tr>\n",
       "    <tr>\n",
       "      <th>...</th>\n",
       "      <td>...</td>\n",
       "      <td>...</td>\n",
       "      <td>...</td>\n",
       "      <td>...</td>\n",
       "    </tr>\n",
       "    <tr>\n",
       "      <th>121213</th>\n",
       "      <td>Bs.As. G.B.A. Zona Norte</td>\n",
       "      <td>3430813</td>\n",
       "      <td>-34.49397</td>\n",
       "      <td>-58.51679</td>\n",
       "    </tr>\n",
       "    <tr>\n",
       "      <th>121214</th>\n",
       "      <td>Bs.As. G.B.A. Zona Norte</td>\n",
       "      <td>3428983</td>\n",
       "      <td>-34.49009</td>\n",
       "      <td>-58.53028</td>\n",
       "    </tr>\n",
       "    <tr>\n",
       "      <th>121215</th>\n",
       "      <td>Capital Federal</td>\n",
       "      <td>3436077</td>\n",
       "      <td>-34.56270</td>\n",
       "      <td>-58.45829</td>\n",
       "    </tr>\n",
       "    <tr>\n",
       "      <th>121216</th>\n",
       "      <td>Bs.As. G.B.A. Zona Norte</td>\n",
       "      <td>3436080</td>\n",
       "      <td>-34.46312</td>\n",
       "      <td>-58.53481</td>\n",
       "    </tr>\n",
       "    <tr>\n",
       "      <th>121219</th>\n",
       "      <td>Capital Federal</td>\n",
       "      <td>3433955</td>\n",
       "      <td>-34.60000</td>\n",
       "      <td>-58.45000</td>\n",
       "    </tr>\n",
       "  </tbody>\n",
       "</table>\n",
       "<p>43365 rows × 4 columns</p>\n",
       "</div>"
      ],
      "text/plain": [
       "                      state_name  geonames_id       lat       lon\n",
       "13               Capital Federal      3430234 -34.58856 -58.43053\n",
       "14               Capital Federal      3430234 -34.58856 -58.43053\n",
       "42      Bs.As. G.B.A. Zona Norte      3429979 -34.41667 -58.83333\n",
       "49      Bs.As. G.B.A. Zona Norte      3434130 -34.33333 -58.75000\n",
       "62        Bs.As. G.B.A. Zona Sur      3436042 -34.83333 -58.16667\n",
       "...                          ...          ...       ...       ...\n",
       "121213  Bs.As. G.B.A. Zona Norte      3430813 -34.49397 -58.51679\n",
       "121214  Bs.As. G.B.A. Zona Norte      3428983 -34.49009 -58.53028\n",
       "121215           Capital Federal      3436077 -34.56270 -58.45829\n",
       "121216  Bs.As. G.B.A. Zona Norte      3436080 -34.46312 -58.53481\n",
       "121219           Capital Federal      3433955 -34.60000 -58.45000\n",
       "\n",
       "[43365 rows x 4 columns]"
      ]
     },
     "execution_count": 35,
     "metadata": {},
     "output_type": "execute_result"
    }
   ],
   "source": [
    "#cambio el nombre del data completado\n",
    "df_geo_completo = df_geo_nulos\n",
    "df_geo_completo"
   ]
  },
  {
   "cell_type": "code",
   "execution_count": 36,
   "metadata": {},
   "outputs": [
    {
     "data": {
      "text/plain": [
       "state_name         0\n",
       "geonames_id    18717\n",
       "lat-lon        51550\n",
       "lat            51550\n",
       "lon            51550\n",
       "dtype: int64"
      ]
     },
     "execution_count": 36,
     "metadata": {},
     "output_type": "execute_result"
    }
   ],
   "source": [
    "geo_location_data.isna().sum()"
   ]
  },
  {
   "cell_type": "code",
   "execution_count": 37,
   "metadata": {},
   "outputs": [
    {
     "data": {
      "text/plain": [
       "state_name       0\n",
       "geonames_id      0\n",
       "lat            161\n",
       "lon            161\n",
       "dtype: int64"
      ]
     },
     "execution_count": 37,
     "metadata": {},
     "output_type": "execute_result"
    }
   ],
   "source": [
    "df_geo_completo.isna().sum()"
   ]
  },
  {
   "cell_type": "code",
   "execution_count": null,
   "metadata": {},
   "outputs": [],
   "source": []
  },
  {
   "cell_type": "code",
   "execution_count": 38,
   "metadata": {},
   "outputs": [
    {
     "data": {
      "text/plain": [
       "lat    0.312318\n",
       "lon    0.312318\n",
       "dtype: float64"
      ]
     },
     "execution_count": 38,
     "metadata": {},
     "output_type": "execute_result"
    }
   ],
   "source": [
    "porcentaje_completado_lat_lon = (df_geo_completo[[\"lat\",\"lon\"]].isna().sum() / geo_location_data[[\"lat\",\"lon\"]].isnull().sum())*100\n",
    "porcentaje_completado_lat_lon"
   ]
  }
 ],
 "metadata": {
  "kernelspec": {
   "display_name": "Python 3.10.4 ('dh')",
   "language": "python",
   "name": "python3"
  },
  "language_info": {
   "codemirror_mode": {
    "name": "ipython",
    "version": 3
   },
   "file_extension": ".py",
   "mimetype": "text/x-python",
   "name": "python",
   "nbconvert_exporter": "python",
   "pygments_lexer": "ipython3",
   "version": "3.10.4"
  },
  "orig_nbformat": 4,
  "vscode": {
   "interpreter": {
    "hash": "de0c11672bdc465268fe040a07375f6ad60f942d46756d33f7fe9e449a78b4ed"
   }
  }
 },
 "nbformat": 4,
 "nbformat_minor": 2
}
