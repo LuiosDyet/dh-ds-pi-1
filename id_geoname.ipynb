{
 "cells": [
  {
   "cell_type": "code",
   "execution_count": null,
   "metadata": {},
   "outputs": [],
   "source": [
    "import pandas as pd\n",
    "import numpy as np\n",
    "import matplotlib.pyplot as plt\n",
    "import statsmodels.api as sm"
   ]
  },
  {
   "cell_type": "code",
   "execution_count": null,
   "metadata": {},
   "outputs": [],
   "source": [
    "data = pd.read_csv(\".\\properatti.csv\", index_col=0)\n",
    "data.shape"
   ]
  },
  {
   "cell_type": "code",
   "execution_count": null,
   "metadata": {},
   "outputs": [],
   "source": [
    "# grupos de columas para poder trabajar con ellas de forma mas sencilla\n",
    "geolocation = ['state_name','geonames_id', 'lat-lon','lat','lon']\n",
    "\n",
    "# Creamos un nuevo dataframe con las columnas que me interesan\n",
    "\n",
    "geo_location_data = (data[ geolocation].copy())\n",
    "geo_location_data\n"
   ]
  },
  {
   "cell_type": "code",
   "execution_count": null,
   "metadata": {},
   "outputs": [],
   "source": [
    "masc_nulos_lat = geo_location_data[\"lat\"].astype(str)  == \"nan\"\n",
    "geo_location_data[masc_nulos_lat].index"
   ]
  },
  {
   "cell_type": "code",
   "execution_count": null,
   "metadata": {},
   "outputs": [],
   "source": [
    "masc_nulos_lon = geo_location_data[\"lon\"].astype(str)  == \"nan\"\n",
    "geo_location_data[masc_nulos_lon].index"
   ]
  },
  {
   "cell_type": "code",
   "execution_count": null,
   "metadata": {},
   "outputs": [],
   "source": [
    "#como lat y long tienen las mismas filas nan, escojo uno para obtener el indice\n",
    "filas_nan= geo_location_data[masc_nulos_lon].index\n",
    "print(geo_location_data.loc[filas_nan, [\"state_name\",'geonames_id','lat','lon']])\n"
   ]
  },
  {
   "cell_type": "code",
   "execution_count": null,
   "metadata": {},
   "outputs": [],
   "source": [
    "df_geo_nulos = geo_location_data.loc[filas_nan, [\"state_name\",'geonames_id','lat','lon']]\n",
    "#para tener una idea donde están concentrados los datos sin lat-lon \n",
    "df_geo_nulos[\"state_name\"].value_counts().head(10) ##"
   ]
  },
  {
   "cell_type": "code",
   "execution_count": null,
   "metadata": {},
   "outputs": [],
   "source": [
    "#saco los nulos de geonames_id\n",
    "df_geo_nulos.dropna(subset=['geonames_id'], inplace=True)\n",
    "df_geo_nulos.isnull().sum()\n",
    "\n",
    "#y lat y lon nuevas que tengo que buscar para completar para completar"
   ]
  },
  {
   "cell_type": "markdown",
   "metadata": {},
   "source": [
    "Trabajando con la data externa de geonames "
   ]
  },
  {
   "cell_type": "code",
   "execution_count": null,
   "metadata": {},
   "outputs": [],
   "source": [
    "geonames = pd.read_csv(\"ar_copy.csv\", sep='\\t', header=None)\n",
    "#como no tengo nombres en la columnas para mejorar la extraccion renombro las que me interesan\n",
    "geonames.rename({0: 'geoname_oficial', 4:\"lat_oficial\", 5:\"lon_oficial\"}, axis=1, inplace=True)\n",
    "geonames.head(4)"
   ]
  },
  {
   "cell_type": "code",
   "execution_count": null,
   "metadata": {},
   "outputs": [],
   "source": [
    "#vemos que geoname_oficial es tipo int mientras geoname_id es float, por lo cual lo cambiamos\n",
    "df_geo_nulos[\"geonames_id\"] = df_geo_nulos[\"geonames_id\"].astype(int)"
   ]
  },
  {
   "cell_type": "code",
   "execution_count": null,
   "metadata": {},
   "outputs": [],
   "source": [
    "#tambien vamos a sacar los nulos del geoname_oficial y por \n",
    "geonames.dropna(subset=['geoname_oficial'], inplace=True)\n",
    "geonames[[\"geoname_oficial\",\"lat_oficial\",\"lon_oficial\"]].isnull().sum().head(6)"
   ]
  },
  {
   "cell_type": "code",
   "execution_count": null,
   "metadata": {},
   "outputs": [],
   "source": [
    "#ahora si vamos a buscar los datos de lat y lon desde el geoname_oficial del archivo geonames de internet\n",
    "#Creamos un diccionario vacio para ubicar la Latitud\n",
    "lat_dict = {}\n",
    "\n",
    "#Creamos una tupla con los pares de key y value: usando un iterador de tuplas zip donde el primer\n",
    "# elemento de cada iterador pasado se empareja con el primero del segundo y asi sucesivamente\n",
    "geoname_lat = zip(geonames['geoname_oficial'], geonames['lat_oficial'])\n",
    "\n",
    "#Rellenamos el diccionario\n",
    "for geoname, lat_oficial in geoname_lat:\n",
    "    lat_dict[geoname] = lat_oficial"
   ]
  },
  {
   "cell_type": "code",
   "execution_count": null,
   "metadata": {},
   "outputs": [],
   "source": [
    "#Creamos un diccionario para ubicar la Longitud\n",
    "lon_dict = {}\n",
    "\n",
    "#Creamos una tupla con los pares de key y value: usando un iterador de tuplas zip donde el primer\n",
    "# elemento de cada iterador pasado se empareja con el primero del segundo y asi sucesivamente\n",
    "geoname_lon = zip(geonames['geoname_oficial'], geonames['lon_oficial'])\n",
    "\n",
    "#Rellenamos el diccionario\n",
    "for geoname, lon_oficial in geoname_lon:\n",
    "    lon_dict[geoname] = lon_oficial"
   ]
  },
  {
   "cell_type": "code",
   "execution_count": null,
   "metadata": {},
   "outputs": [],
   "source": [
    "df_geo_nulos[\"lat\"] = df_geo_nulos['geonames_id'].map(lat_dict) \n",
    "df_geo_nulos[\"lon\"] = df_geo_nulos['geonames_id'].map(lon_dict)"
   ]
  },
  {
   "cell_type": "code",
   "execution_count": null,
   "metadata": {},
   "outputs": [],
   "source": [
    "#cambio el nombre del data completado\n",
    "df_geo_completo = df_geo_nulos\n",
    "df_geo_completo"
   ]
  },
  {
   "cell_type": "code",
   "execution_count": null,
   "metadata": {},
   "outputs": [],
   "source": [
    "geo_location_data.isna().sum()"
   ]
  },
  {
   "cell_type": "code",
   "execution_count": null,
   "metadata": {},
   "outputs": [],
   "source": [
    "df_geo_completo.isna().sum()"
   ]
  },
  {
   "cell_type": "code",
   "execution_count": null,
   "metadata": {},
   "outputs": [],
   "source": []
  },
  {
   "cell_type": "code",
   "execution_count": null,
   "metadata": {},
   "outputs": [],
   "source": [
    "porcentaje_completado_lat_lon = (df_geo_completo[[\"lat\",\"lon\"]].isna().sum() / geo_location_data[[\"lat\",\"lon\"]].isnull().sum())*100\n",
    "porcentaje_completado_lat_lon"
   ]
  }
 ],
 "metadata": {
  "kernelspec": {
   "display_name": "Python 3.10.4 ('dh')",
   "language": "python",
   "name": "python3"
  },
  "language_info": {
   "codemirror_mode": {
    "name": "ipython",
    "version": 3
   },
   "file_extension": ".py",
   "mimetype": "text/x-python",
   "name": "python",
   "nbconvert_exporter": "python",
   "pygments_lexer": "ipython3",
   "version": "3.10.4"
  },
  "orig_nbformat": 4,
  "vscode": {
   "interpreter": {
    "hash": "de0c11672bdc465268fe040a07375f6ad60f942d46756d33f7fe9e449a78b4ed"
   }
  }
 },
 "nbformat": 4,
 "nbformat_minor": 2
}
