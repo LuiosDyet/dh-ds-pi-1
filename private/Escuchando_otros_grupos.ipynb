{
 "cells": [
  {
   "cell_type": "markdown",
   "metadata": {},
   "source": [
    "Longitud y Latitud sirve? Depende de la granulalidad que se quiera usar. \"No me gusta que imputen Log y Lat con geoname ID\" \"No hay que forzar los Nan de Log y Lat con geoname ID. Usaria geoname ID para saber cual es el barrio xq estamos trabajando con un nivel de granulacion similar\"\n",
    "\n",
    "\n",
    "https://download.geonames.org/export/dump/ Sirve para corroborar los geonames ID\n",
    "\n",
    "Libreria mi signo o algo asi para graficar. \n",
    "\n",
    "Los valores uqe vos tenes en la tabla (que tiene distinto currency) cuando se armaron?\n",
    "\n",
    "\n"
   ]
  }
 ],
 "metadata": {
  "kernelspec": {
   "display_name": "Python 3.10.7 64-bit (microsoft store)",
   "language": "python",
   "name": "python3"
  },
  "language_info": {
   "name": "python",
   "version": "3.10.8"
  },
  "orig_nbformat": 4,
  "vscode": {
   "interpreter": {
    "hash": "c976052a580ab89ec71cee130a43ab2ab948b35aacd06c7cc6eac44f0bac5ca9"
   }
  }
 },
 "nbformat": 4,
 "nbformat_minor": 2
}
