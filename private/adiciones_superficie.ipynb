{
 "cells": [
  {
   "cell_type": "code",
   "execution_count": null,
   "metadata": {},
   "outputs": [],
   "source": [
    "data_ambientes['Ambientes_Clean']=np.floor(pd.to_numeric(data_ambientes['Ambientes_Clean'], errors='coerce')).astype('Int64')"
   ]
  },
  {
   "cell_type": "code",
   "execution_count": null,
   "metadata": {},
   "outputs": [],
   "source": [
    "data_ambientes.Ambientes_Clean.value_counts()"
   ]
  },
  {
   "cell_type": "code",
   "execution_count": null,
   "metadata": {},
   "outputs": [],
   "source": [
    "ambs_not_null_mask=data_ambientes['Ambientes_Clean'].notnull()"
   ]
  },
  {
   "cell_type": "code",
   "execution_count": null,
   "metadata": {},
   "outputs": [],
   "source": [
    "ambiente_categorico=data_ambientes.loc[ambs_not_null_mask,'Ambientes_Clean'].apply(lambda x: x if x < 4 else '4 o mas')"
   ]
  },
  {
   "cell_type": "code",
   "execution_count": null,
   "metadata": {},
   "outputs": [],
   "source": [
    "data_ambientes.ambiente_categorico.value_counts()"
   ]
  }
 ],
 "metadata": {
  "kernelspec": {
   "display_name": "Python 3.10.6 64-bit",
   "language": "python",
   "name": "python3"
  },
  "language_info": {
   "name": "python",
   "version": "3.10.6"
  },
  "orig_nbformat": 4,
  "vscode": {
   "interpreter": {
    "hash": "d01c6bb8adcd2885352542ac7298a2b1a532988d6cfd09c7f41d40f430fdb3fc"
   }
  }
 },
 "nbformat": 4,
 "nbformat_minor": 2
}
